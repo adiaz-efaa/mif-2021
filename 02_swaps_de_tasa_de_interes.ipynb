{
 "cells": [
  {
   "cell_type": "markdown",
   "metadata": {},
   "source": [
    "# Swaps de Tasa de Interés"
   ]
  },
  {
   "cell_type": "markdown",
   "metadata": {},
   "source": [
    "## Configuración"
   ]
  },
  {
   "cell_type": "markdown",
   "metadata": {},
   "source": [
    "### Librerías"
   ]
  },
  {
   "cell_type": "code",
   "execution_count": 1,
   "metadata": {
    "ExecuteTime": {
     "end_time": "2021-12-06T19:18:09.854485Z",
     "start_time": "2021-12-06T19:18:09.570795Z"
    }
   },
   "outputs": [],
   "source": [
    "from finrisk import QC_Financial_3 as Qcf\n",
    "from IPython.display import Image\n",
    "from IPython.core.display import HTML\n",
    "import pandas as pd\n",
    "from datetime import date\n",
    "import modules.auxiliary as aux"
   ]
  },
  {
   "cell_type": "markdown",
   "metadata": {},
   "source": [
    "### Variables Globales"
   ]
  },
  {
   "cell_type": "markdown",
   "metadata": {},
   "source": [
    "Calendario de días feriados."
   ]
  },
  {
   "cell_type": "code",
   "execution_count": 33,
   "metadata": {
    "ExecuteTime": {
     "end_time": "2021-12-05T13:46:58.317563Z",
     "start_time": "2021-12-05T13:46:58.313209Z"
    }
   },
   "outputs": [],
   "source": [
    "bus_cal = Qcf.BusinessCalendar(Qcf.QCDate(1, 1, 2020), 20)"
   ]
  },
  {
   "cell_type": "markdown",
   "metadata": {},
   "source": [
    "Para formato de los `DataFrame`."
   ]
  },
  {
   "cell_type": "code",
   "execution_count": 34,
   "metadata": {
    "ExecuteTime": {
     "end_time": "2021-12-05T13:46:58.327422Z",
     "start_time": "2021-12-05T13:46:58.321114Z"
    }
   },
   "outputs": [],
   "source": [
    "format_dict = {\n",
    "    'nominal': '{0:,.2f}',\n",
    "    'amort': '{0:,.2f}',\n",
    "    'interes': '{0:,.2f}',\n",
    "    'flujo': '{0:,.2f}',\n",
    "    'amortizacion': '{0:,.2f}',\n",
    "    'icp_inicial': '{0:,.2f}',\n",
    "    'icp_final': '{0:,.2f}',\n",
    "    'valor_tasa': '{0:,.4%}',\n",
    "    'spread': '{0:,.4%}',\n",
    "    'gearing': '{0:,.2f}',\n",
    "    'amort_moneda_pago': '{0:,.2f}',\n",
    "    'interes_moneda_pago': '{0:,.2f}',\n",
    "    'valor_indice_fx': '{0:,.2f}',\n",
    "    'flujo_moneda_nocional': '{0:,.2f}'\n",
    "}"
   ]
  },
  {
   "cell_type": "markdown",
   "metadata": {},
   "source": [
    "## Definición de un Swap de Tasa de Interés"
   ]
  },
  {
   "cell_type": "markdown",
   "metadata": {},
   "source": [
    "- Un swap de tasa de interés es un contrato a través del cual dos partes se comprometen a intercambiar flujos de intereses calculados a una tasa fija por intereses calculados a una tasa flotante (algún referencial válido y ampliamente aceptado por el mercado).\n",
    "\n",
    "\n",
    "- Por ejemplo, cada 3M y por un período de 2Y se intercambian flujos calculados al 0,2181% versus flujos calculados utilizando la Libor USD 3M.\n",
    "  - Los flujos se deben calcular sobre un cierto nominal (nocional) que nunca se intercambia.\n",
    "\n",
    "Para más sobre la [Libor](https://www.theice.com/iba/libor), en particular los párrafos bajo el encabezado **The Future of Libor**. "
   ]
  },
  {
   "cell_type": "markdown",
   "metadata": {},
   "source": [
    "### Swaps de Libor USD 3M"
   ]
  },
  {
   "cell_type": "markdown",
   "metadata": {},
   "source": [
    "**Pantalla de cotización en Bloomberg.**"
   ]
  },
  {
   "cell_type": "code",
   "execution_count": 35,
   "metadata": {
    "ExecuteTime": {
     "end_time": "2021-12-05T13:46:58.339250Z",
     "start_time": "2021-12-05T13:46:58.331351Z"
    }
   },
   "outputs": [
    {
     "data": {
      "text/html": [
       "<img src=\"img/libor_usd_3m_fixed_2y_swpm.gif\" width=\"900\" height=\"720\"/>"
      ],
      "text/plain": [
       "<IPython.core.display.Image object>"
      ]
     },
     "execution_count": 35,
     "metadata": {},
     "output_type": "execute_result"
    }
   ],
   "source": [
    "Image(url=\"img/libor_usd_3m_fixed_2y_swpm.gif\", width=900, height=720)"
   ]
  },
  {
   "cell_type": "markdown",
   "metadata": {},
   "source": [
    "Notar las diferencias entre ambas patas,\n",
    "\n",
    "- **periodicidad:** en la pata fija (Recibir) la periodicidad es semestral, mientras que en la pata flotante (Pagar) la periodicidad es trimestral.\n",
    "- **Días (fracción de año):** en la pata fija (Recibir) la fracción de año es 30/360, mientras que en la pata flotante (Pagar) es Act/360."
   ]
  },
  {
   "cell_type": "markdown",
   "metadata": {},
   "source": [
    "**Flujos de Caja (la pata flotante es estimada)**"
   ]
  },
  {
   "cell_type": "code",
   "execution_count": 36,
   "metadata": {
    "ExecuteTime": {
     "end_time": "2021-12-05T13:46:58.350133Z",
     "start_time": "2021-12-05T13:46:58.342765Z"
    }
   },
   "outputs": [
    {
     "data": {
      "text/html": [
       "<img src=\"img/libor_usd_3m_fixed_2y_cashflows.gif\" width=\"900\" height=\"720\"/>"
      ],
      "text/plain": [
       "<IPython.core.display.Image object>"
      ]
     },
     "execution_count": 36,
     "metadata": {},
     "output_type": "execute_result"
    }
   ],
   "source": [
    "Image(url=\"img/libor_usd_3m_fixed_2y_cashflows.gif\", width=900, height=720)"
   ]
  },
  {
   "cell_type": "markdown",
   "metadata": {},
   "source": [
    "**¿Cómo construir estos flujos con la librería?**\n",
    "\n",
    "Partamos con la pata fija."
   ]
  },
  {
   "cell_type": "code",
   "execution_count": 37,
   "metadata": {
    "ExecuteTime": {
     "end_time": "2021-12-05T13:46:58.369774Z",
     "start_time": "2021-12-05T13:46:58.352997Z"
    }
   },
   "outputs": [],
   "source": [
    "# Recibo o pago los flujos de esta pata\n",
    "rp = Qcf.RecPay.RECEIVE\n",
    "\n",
    "# Fecha de inicio de devengo del primer cupón\n",
    "fecha_inicio = Qcf.QCDate(17, 9, 2020)\n",
    "\n",
    "# Fecha final de devengo, antes de ajustes, del último cupón\n",
    "fecha_final = Qcf.QCDate(17, 9, 2022)\n",
    "\n",
    "# Regla para ajustes de días feriados\n",
    "bus_adj_rule = Qcf.BusyAdjRules.MODFOLLOW\n",
    "\n",
    "# Periodicidad de pago\n",
    "periodicidad = Qcf.Tenor('6M')\n",
    "\n",
    "# Tipo de período irregular (si lo hay)\n",
    "periodo_irregular = Qcf.StubPeriod.SHORTFRONT\n",
    "\n",
    "# Número de días después de la fecha final de devengo en que se paga el flujo\n",
    "lag_pago = 0\n",
    "\n",
    "# Nocional del contrato\n",
    "nocional = 10000000.0\n",
    "amort_es_flujo = True\n",
    "valor_tasa = .002181\n",
    "tasa_cupon = Qcf.QCInterestRate(valor_tasa, Qcf.QC30360(), Qcf.QCLinearWf())\n",
    "moneda = Qcf.QCUSD()\n",
    "es_bono = False\n",
    "\n",
    "# Se da de alta el objeto\n",
    "fixed_rate_leg = Qcf.LegFactory.build_bullet_fixed_rate_leg(\n",
    "    rp,\n",
    "    fecha_inicio,\n",
    "    fecha_final,\n",
    "    bus_adj_rule,\n",
    "    periodicidad,\n",
    "    periodo_irregular,\n",
    "    bus_cal,\n",
    "    lag_pago,\n",
    "    nocional,\n",
    "    amort_es_flujo,\n",
    "    tasa_cupon,\n",
    "    moneda,\n",
    "    es_bono\n",
    ")"
   ]
  },
  {
   "cell_type": "code",
   "execution_count": 38,
   "metadata": {
    "ExecuteTime": {
     "end_time": "2021-12-05T13:46:58.382498Z",
     "start_time": "2021-12-05T13:46:58.375559Z"
    }
   },
   "outputs": [
    {
     "data": {
      "text/plain": [
       "finrisk.QC_Financial_3.Leg"
      ]
     },
     "execution_count": 38,
     "metadata": {},
     "output_type": "execute_result"
    }
   ],
   "source": [
    "type(fixed_rate_leg)"
   ]
  },
  {
   "cell_type": "code",
   "execution_count": 39,
   "metadata": {
    "ExecuteTime": {
     "end_time": "2021-12-05T13:46:58.410818Z",
     "start_time": "2021-12-05T13:46:58.387179Z"
    }
   },
   "outputs": [
    {
     "data": {
      "text/html": [
       "<style  type=\"text/css\" >\n",
       "</style><table id=\"T_d0f6c206_55d1_11ec_a147_02cba411ec9d\" ><thead>    <tr>        <th class=\"blank level0\" ></th>        <th class=\"col_heading level0 col0\" >fecha_inicial</th>        <th class=\"col_heading level0 col1\" >fecha_final</th>        <th class=\"col_heading level0 col2\" >fecha_pago</th>        <th class=\"col_heading level0 col3\" >nominal</th>        <th class=\"col_heading level0 col4\" >amortizacion</th>        <th class=\"col_heading level0 col5\" >interes</th>        <th class=\"col_heading level0 col6\" >amort_es_flujo</th>        <th class=\"col_heading level0 col7\" >flujo</th>        <th class=\"col_heading level0 col8\" >moneda</th>        <th class=\"col_heading level0 col9\" >valor_tasa</th>        <th class=\"col_heading level0 col10\" >tipo_tasa</th>    </tr></thead><tbody>\n",
       "                <tr>\n",
       "                        <th id=\"T_d0f6c206_55d1_11ec_a147_02cba411ec9dlevel0_row0\" class=\"row_heading level0 row0\" >0</th>\n",
       "                        <td id=\"T_d0f6c206_55d1_11ec_a147_02cba411ec9drow0_col0\" class=\"data row0 col0\" >2020-09-17</td>\n",
       "                        <td id=\"T_d0f6c206_55d1_11ec_a147_02cba411ec9drow0_col1\" class=\"data row0 col1\" >2021-03-17</td>\n",
       "                        <td id=\"T_d0f6c206_55d1_11ec_a147_02cba411ec9drow0_col2\" class=\"data row0 col2\" >2021-03-17</td>\n",
       "                        <td id=\"T_d0f6c206_55d1_11ec_a147_02cba411ec9drow0_col3\" class=\"data row0 col3\" >10,000,000.00</td>\n",
       "                        <td id=\"T_d0f6c206_55d1_11ec_a147_02cba411ec9drow0_col4\" class=\"data row0 col4\" >0.00</td>\n",
       "                        <td id=\"T_d0f6c206_55d1_11ec_a147_02cba411ec9drow0_col5\" class=\"data row0 col5\" >10,905.00</td>\n",
       "                        <td id=\"T_d0f6c206_55d1_11ec_a147_02cba411ec9drow0_col6\" class=\"data row0 col6\" >True</td>\n",
       "                        <td id=\"T_d0f6c206_55d1_11ec_a147_02cba411ec9drow0_col7\" class=\"data row0 col7\" >10,905.00</td>\n",
       "                        <td id=\"T_d0f6c206_55d1_11ec_a147_02cba411ec9drow0_col8\" class=\"data row0 col8\" >USD</td>\n",
       "                        <td id=\"T_d0f6c206_55d1_11ec_a147_02cba411ec9drow0_col9\" class=\"data row0 col9\" >0.2181%</td>\n",
       "                        <td id=\"T_d0f6c206_55d1_11ec_a147_02cba411ec9drow0_col10\" class=\"data row0 col10\" >Lin30360</td>\n",
       "            </tr>\n",
       "            <tr>\n",
       "                        <th id=\"T_d0f6c206_55d1_11ec_a147_02cba411ec9dlevel0_row1\" class=\"row_heading level0 row1\" >1</th>\n",
       "                        <td id=\"T_d0f6c206_55d1_11ec_a147_02cba411ec9drow1_col0\" class=\"data row1 col0\" >2021-03-17</td>\n",
       "                        <td id=\"T_d0f6c206_55d1_11ec_a147_02cba411ec9drow1_col1\" class=\"data row1 col1\" >2021-09-17</td>\n",
       "                        <td id=\"T_d0f6c206_55d1_11ec_a147_02cba411ec9drow1_col2\" class=\"data row1 col2\" >2021-09-17</td>\n",
       "                        <td id=\"T_d0f6c206_55d1_11ec_a147_02cba411ec9drow1_col3\" class=\"data row1 col3\" >10,000,000.00</td>\n",
       "                        <td id=\"T_d0f6c206_55d1_11ec_a147_02cba411ec9drow1_col4\" class=\"data row1 col4\" >0.00</td>\n",
       "                        <td id=\"T_d0f6c206_55d1_11ec_a147_02cba411ec9drow1_col5\" class=\"data row1 col5\" >10,905.00</td>\n",
       "                        <td id=\"T_d0f6c206_55d1_11ec_a147_02cba411ec9drow1_col6\" class=\"data row1 col6\" >True</td>\n",
       "                        <td id=\"T_d0f6c206_55d1_11ec_a147_02cba411ec9drow1_col7\" class=\"data row1 col7\" >10,905.00</td>\n",
       "                        <td id=\"T_d0f6c206_55d1_11ec_a147_02cba411ec9drow1_col8\" class=\"data row1 col8\" >USD</td>\n",
       "                        <td id=\"T_d0f6c206_55d1_11ec_a147_02cba411ec9drow1_col9\" class=\"data row1 col9\" >0.2181%</td>\n",
       "                        <td id=\"T_d0f6c206_55d1_11ec_a147_02cba411ec9drow1_col10\" class=\"data row1 col10\" >Lin30360</td>\n",
       "            </tr>\n",
       "            <tr>\n",
       "                        <th id=\"T_d0f6c206_55d1_11ec_a147_02cba411ec9dlevel0_row2\" class=\"row_heading level0 row2\" >2</th>\n",
       "                        <td id=\"T_d0f6c206_55d1_11ec_a147_02cba411ec9drow2_col0\" class=\"data row2 col0\" >2021-09-17</td>\n",
       "                        <td id=\"T_d0f6c206_55d1_11ec_a147_02cba411ec9drow2_col1\" class=\"data row2 col1\" >2022-03-17</td>\n",
       "                        <td id=\"T_d0f6c206_55d1_11ec_a147_02cba411ec9drow2_col2\" class=\"data row2 col2\" >2022-03-17</td>\n",
       "                        <td id=\"T_d0f6c206_55d1_11ec_a147_02cba411ec9drow2_col3\" class=\"data row2 col3\" >10,000,000.00</td>\n",
       "                        <td id=\"T_d0f6c206_55d1_11ec_a147_02cba411ec9drow2_col4\" class=\"data row2 col4\" >0.00</td>\n",
       "                        <td id=\"T_d0f6c206_55d1_11ec_a147_02cba411ec9drow2_col5\" class=\"data row2 col5\" >10,905.00</td>\n",
       "                        <td id=\"T_d0f6c206_55d1_11ec_a147_02cba411ec9drow2_col6\" class=\"data row2 col6\" >True</td>\n",
       "                        <td id=\"T_d0f6c206_55d1_11ec_a147_02cba411ec9drow2_col7\" class=\"data row2 col7\" >10,905.00</td>\n",
       "                        <td id=\"T_d0f6c206_55d1_11ec_a147_02cba411ec9drow2_col8\" class=\"data row2 col8\" >USD</td>\n",
       "                        <td id=\"T_d0f6c206_55d1_11ec_a147_02cba411ec9drow2_col9\" class=\"data row2 col9\" >0.2181%</td>\n",
       "                        <td id=\"T_d0f6c206_55d1_11ec_a147_02cba411ec9drow2_col10\" class=\"data row2 col10\" >Lin30360</td>\n",
       "            </tr>\n",
       "            <tr>\n",
       "                        <th id=\"T_d0f6c206_55d1_11ec_a147_02cba411ec9dlevel0_row3\" class=\"row_heading level0 row3\" >3</th>\n",
       "                        <td id=\"T_d0f6c206_55d1_11ec_a147_02cba411ec9drow3_col0\" class=\"data row3 col0\" >2022-03-17</td>\n",
       "                        <td id=\"T_d0f6c206_55d1_11ec_a147_02cba411ec9drow3_col1\" class=\"data row3 col1\" >2022-09-19</td>\n",
       "                        <td id=\"T_d0f6c206_55d1_11ec_a147_02cba411ec9drow3_col2\" class=\"data row3 col2\" >2022-09-19</td>\n",
       "                        <td id=\"T_d0f6c206_55d1_11ec_a147_02cba411ec9drow3_col3\" class=\"data row3 col3\" >10,000,000.00</td>\n",
       "                        <td id=\"T_d0f6c206_55d1_11ec_a147_02cba411ec9drow3_col4\" class=\"data row3 col4\" >10,000,000.00</td>\n",
       "                        <td id=\"T_d0f6c206_55d1_11ec_a147_02cba411ec9drow3_col5\" class=\"data row3 col5\" >11,026.17</td>\n",
       "                        <td id=\"T_d0f6c206_55d1_11ec_a147_02cba411ec9drow3_col6\" class=\"data row3 col6\" >True</td>\n",
       "                        <td id=\"T_d0f6c206_55d1_11ec_a147_02cba411ec9drow3_col7\" class=\"data row3 col7\" >10,011,026.17</td>\n",
       "                        <td id=\"T_d0f6c206_55d1_11ec_a147_02cba411ec9drow3_col8\" class=\"data row3 col8\" >USD</td>\n",
       "                        <td id=\"T_d0f6c206_55d1_11ec_a147_02cba411ec9drow3_col9\" class=\"data row3 col9\" >0.2181%</td>\n",
       "                        <td id=\"T_d0f6c206_55d1_11ec_a147_02cba411ec9drow3_col10\" class=\"data row3 col10\" >Lin30360</td>\n",
       "            </tr>\n",
       "    </tbody></table>"
      ],
      "text/plain": [
       "<pandas.io.formats.style.Styler at 0x7fdd94793588>"
      ]
     },
     "execution_count": 39,
     "metadata": {},
     "output_type": "execute_result"
    }
   ],
   "source": [
    "aux.show_leg(fixed_rate_leg, 'FixedRateCashflow').style.format(format_dict)"
   ]
  },
  {
   "cell_type": "markdown",
   "metadata": {},
   "source": [
    "Se exporta a Excel la tabla anterior."
   ]
  },
  {
   "cell_type": "code",
   "execution_count": 40,
   "metadata": {
    "ExecuteTime": {
     "end_time": "2021-12-05T13:46:58.432821Z",
     "start_time": "2021-12-05T13:46:58.413304Z"
    }
   },
   "outputs": [],
   "source": [
    "aux.show_leg(fixed_rate_leg, 'FixedRateCashflow').to_excel(\n",
    "    'data/flujos_pata_fija.xlsx',\n",
    "    index=False\n",
    ")"
   ]
  },
  {
   "cell_type": "markdown",
   "metadata": {},
   "source": [
    "### Ejercicio"
   ]
  },
  {
   "cell_type": "markdown",
   "metadata": {},
   "source": [
    "Replicar la tabla anterior y la siguiente en Excel, usando fórmulas no copiando y pegando. (**Hint:** la función DIAS360 en Excel hace el conteo de días en base 30-360)."
   ]
  },
  {
   "cell_type": "markdown",
   "metadata": {},
   "source": [
    "Pata Flotante"
   ]
  },
  {
   "cell_type": "code",
   "execution_count": 41,
   "metadata": {
    "ExecuteTime": {
     "end_time": "2021-12-05T13:46:58.446164Z",
     "start_time": "2021-12-05T13:46:58.434942Z"
    }
   },
   "outputs": [],
   "source": [
    "# Se da de alta los parámetros requeridos\n",
    "rp = Qcf.RecPay.PAY\n",
    "\n",
    "periodicidad_pago = Qcf.Tenor('3M')\n",
    "periodo_irregular_pago = Qcf.StubPeriod.SHORTFRONT\n",
    "lag_pago = 0\n",
    "periodicidad_fijacion = Qcf.Tenor('3M')\n",
    "periodo_irregular_fijacion = Qcf.StubPeriod.SHORTFRONT\n",
    "\n",
    "# vamos a usar el mismo calendario para pago y fijaciones\n",
    "lag_de_fijacion = 2 # La Libor USD 3M de la fecha f representa una inversión entre f+2d y f+2d+3M\n",
    "\n",
    "# Definición del índice\n",
    "codigo = 'LIBORUSD3M'\n",
    "lin_act360 = Qcf.QCInterestRate(.0024613, Qcf.QCAct360(), Qcf.QCLinearWf())\n",
    "fixing_lag = Qcf.Tenor('2d')\n",
    "tenor = Qcf.Tenor('3m')\n",
    "usd = Qcf.QCUSD()\n",
    "libor_usd_3m = Qcf.InterestRateIndex(\n",
    "    codigo,\n",
    "    lin_act360,\n",
    "    fixing_lag,\n",
    "    tenor,\n",
    "    bus_cal,\n",
    "    bus_cal,\n",
    "    usd\n",
    ")\n",
    "# Fin índice\n",
    "\n",
    "spread = .0\n",
    "gearing = 1.0  # intereses -> gearing * Libor + spread\n",
    "\n",
    "ibor_leg = Qcf.LegFactory.build_bullet_ibor2_leg(\n",
    "    rp, fecha_inicio,\n",
    "    fecha_final,\n",
    "    bus_adj_rule,\n",
    "    periodicidad_pago,\n",
    "    periodo_irregular_pago,\n",
    "    bus_cal,\n",
    "    lag_pago,\n",
    "    periodicidad_fijacion,\n",
    "    periodo_irregular_fijacion,\n",
    "    bus_cal,\n",
    "    lag_de_fijacion,\n",
    "    libor_usd_3m,\n",
    "    nocional,\n",
    "    amort_es_flujo,\n",
    "    moneda,\n",
    "    spread,\n",
    "    gearing)"
   ]
  },
  {
   "cell_type": "code",
   "execution_count": 42,
   "metadata": {
    "ExecuteTime": {
     "end_time": "2021-12-05T13:46:58.476880Z",
     "start_time": "2021-12-05T13:46:58.449153Z"
    }
   },
   "outputs": [
    {
     "data": {
      "text/html": [
       "<style  type=\"text/css\" >\n",
       "</style><table id=\"T_d0f6c207_55d1_11ec_a147_02cba411ec9d\" ><thead>    <tr>        <th class=\"blank level0\" ></th>        <th class=\"col_heading level0 col0\" >fecha_inicial</th>        <th class=\"col_heading level0 col1\" >fecha_final</th>        <th class=\"col_heading level0 col2\" >fecha_fixing</th>        <th class=\"col_heading level0 col3\" >fecha_pago</th>        <th class=\"col_heading level0 col4\" >nominal</th>        <th class=\"col_heading level0 col5\" >amortizacion</th>        <th class=\"col_heading level0 col6\" >interes</th>        <th class=\"col_heading level0 col7\" >amort_es_flujo</th>        <th class=\"col_heading level0 col8\" >flujo</th>        <th class=\"col_heading level0 col9\" >moneda</th>        <th class=\"col_heading level0 col10\" >codigo_indice_tasa</th>        <th class=\"col_heading level0 col11\" >valor_tasa</th>        <th class=\"col_heading level0 col12\" >spread</th>        <th class=\"col_heading level0 col13\" >gearing</th>        <th class=\"col_heading level0 col14\" >tipo_tasa</th>    </tr></thead><tbody>\n",
       "                <tr>\n",
       "                        <th id=\"T_d0f6c207_55d1_11ec_a147_02cba411ec9dlevel0_row0\" class=\"row_heading level0 row0\" >0</th>\n",
       "                        <td id=\"T_d0f6c207_55d1_11ec_a147_02cba411ec9drow0_col0\" class=\"data row0 col0\" >2020-09-17</td>\n",
       "                        <td id=\"T_d0f6c207_55d1_11ec_a147_02cba411ec9drow0_col1\" class=\"data row0 col1\" >2020-12-17</td>\n",
       "                        <td id=\"T_d0f6c207_55d1_11ec_a147_02cba411ec9drow0_col2\" class=\"data row0 col2\" >2020-09-15</td>\n",
       "                        <td id=\"T_d0f6c207_55d1_11ec_a147_02cba411ec9drow0_col3\" class=\"data row0 col3\" >2020-12-17</td>\n",
       "                        <td id=\"T_d0f6c207_55d1_11ec_a147_02cba411ec9drow0_col4\" class=\"data row0 col4\" >-10,000,000.00</td>\n",
       "                        <td id=\"T_d0f6c207_55d1_11ec_a147_02cba411ec9drow0_col5\" class=\"data row0 col5\" >0.00</td>\n",
       "                        <td id=\"T_d0f6c207_55d1_11ec_a147_02cba411ec9drow0_col6\" class=\"data row0 col6\" >-6,221.62</td>\n",
       "                        <td id=\"T_d0f6c207_55d1_11ec_a147_02cba411ec9drow0_col7\" class=\"data row0 col7\" >True</td>\n",
       "                        <td id=\"T_d0f6c207_55d1_11ec_a147_02cba411ec9drow0_col8\" class=\"data row0 col8\" >-6,221.62</td>\n",
       "                        <td id=\"T_d0f6c207_55d1_11ec_a147_02cba411ec9drow0_col9\" class=\"data row0 col9\" >USD</td>\n",
       "                        <td id=\"T_d0f6c207_55d1_11ec_a147_02cba411ec9drow0_col10\" class=\"data row0 col10\" >LIBORUSD3M</td>\n",
       "                        <td id=\"T_d0f6c207_55d1_11ec_a147_02cba411ec9drow0_col11\" class=\"data row0 col11\" >0.2461%</td>\n",
       "                        <td id=\"T_d0f6c207_55d1_11ec_a147_02cba411ec9drow0_col12\" class=\"data row0 col12\" >0.0000%</td>\n",
       "                        <td id=\"T_d0f6c207_55d1_11ec_a147_02cba411ec9drow0_col13\" class=\"data row0 col13\" >1.00</td>\n",
       "                        <td id=\"T_d0f6c207_55d1_11ec_a147_02cba411ec9drow0_col14\" class=\"data row0 col14\" >LinAct360</td>\n",
       "            </tr>\n",
       "            <tr>\n",
       "                        <th id=\"T_d0f6c207_55d1_11ec_a147_02cba411ec9dlevel0_row1\" class=\"row_heading level0 row1\" >1</th>\n",
       "                        <td id=\"T_d0f6c207_55d1_11ec_a147_02cba411ec9drow1_col0\" class=\"data row1 col0\" >2020-12-17</td>\n",
       "                        <td id=\"T_d0f6c207_55d1_11ec_a147_02cba411ec9drow1_col1\" class=\"data row1 col1\" >2021-03-17</td>\n",
       "                        <td id=\"T_d0f6c207_55d1_11ec_a147_02cba411ec9drow1_col2\" class=\"data row1 col2\" >2020-12-15</td>\n",
       "                        <td id=\"T_d0f6c207_55d1_11ec_a147_02cba411ec9drow1_col3\" class=\"data row1 col3\" >2021-03-17</td>\n",
       "                        <td id=\"T_d0f6c207_55d1_11ec_a147_02cba411ec9drow1_col4\" class=\"data row1 col4\" >-10,000,000.00</td>\n",
       "                        <td id=\"T_d0f6c207_55d1_11ec_a147_02cba411ec9drow1_col5\" class=\"data row1 col5\" >0.00</td>\n",
       "                        <td id=\"T_d0f6c207_55d1_11ec_a147_02cba411ec9drow1_col6\" class=\"data row1 col6\" >-6,153.25</td>\n",
       "                        <td id=\"T_d0f6c207_55d1_11ec_a147_02cba411ec9drow1_col7\" class=\"data row1 col7\" >True</td>\n",
       "                        <td id=\"T_d0f6c207_55d1_11ec_a147_02cba411ec9drow1_col8\" class=\"data row1 col8\" >-6,153.25</td>\n",
       "                        <td id=\"T_d0f6c207_55d1_11ec_a147_02cba411ec9drow1_col9\" class=\"data row1 col9\" >USD</td>\n",
       "                        <td id=\"T_d0f6c207_55d1_11ec_a147_02cba411ec9drow1_col10\" class=\"data row1 col10\" >LIBORUSD3M</td>\n",
       "                        <td id=\"T_d0f6c207_55d1_11ec_a147_02cba411ec9drow1_col11\" class=\"data row1 col11\" >0.2461%</td>\n",
       "                        <td id=\"T_d0f6c207_55d1_11ec_a147_02cba411ec9drow1_col12\" class=\"data row1 col12\" >0.0000%</td>\n",
       "                        <td id=\"T_d0f6c207_55d1_11ec_a147_02cba411ec9drow1_col13\" class=\"data row1 col13\" >1.00</td>\n",
       "                        <td id=\"T_d0f6c207_55d1_11ec_a147_02cba411ec9drow1_col14\" class=\"data row1 col14\" >LinAct360</td>\n",
       "            </tr>\n",
       "            <tr>\n",
       "                        <th id=\"T_d0f6c207_55d1_11ec_a147_02cba411ec9dlevel0_row2\" class=\"row_heading level0 row2\" >2</th>\n",
       "                        <td id=\"T_d0f6c207_55d1_11ec_a147_02cba411ec9drow2_col0\" class=\"data row2 col0\" >2021-03-17</td>\n",
       "                        <td id=\"T_d0f6c207_55d1_11ec_a147_02cba411ec9drow2_col1\" class=\"data row2 col1\" >2021-06-17</td>\n",
       "                        <td id=\"T_d0f6c207_55d1_11ec_a147_02cba411ec9drow2_col2\" class=\"data row2 col2\" >2021-03-15</td>\n",
       "                        <td id=\"T_d0f6c207_55d1_11ec_a147_02cba411ec9drow2_col3\" class=\"data row2 col3\" >2021-06-17</td>\n",
       "                        <td id=\"T_d0f6c207_55d1_11ec_a147_02cba411ec9drow2_col4\" class=\"data row2 col4\" >-10,000,000.00</td>\n",
       "                        <td id=\"T_d0f6c207_55d1_11ec_a147_02cba411ec9drow2_col5\" class=\"data row2 col5\" >0.00</td>\n",
       "                        <td id=\"T_d0f6c207_55d1_11ec_a147_02cba411ec9drow2_col6\" class=\"data row2 col6\" >-6,289.99</td>\n",
       "                        <td id=\"T_d0f6c207_55d1_11ec_a147_02cba411ec9drow2_col7\" class=\"data row2 col7\" >True</td>\n",
       "                        <td id=\"T_d0f6c207_55d1_11ec_a147_02cba411ec9drow2_col8\" class=\"data row2 col8\" >-6,289.99</td>\n",
       "                        <td id=\"T_d0f6c207_55d1_11ec_a147_02cba411ec9drow2_col9\" class=\"data row2 col9\" >USD</td>\n",
       "                        <td id=\"T_d0f6c207_55d1_11ec_a147_02cba411ec9drow2_col10\" class=\"data row2 col10\" >LIBORUSD3M</td>\n",
       "                        <td id=\"T_d0f6c207_55d1_11ec_a147_02cba411ec9drow2_col11\" class=\"data row2 col11\" >0.2461%</td>\n",
       "                        <td id=\"T_d0f6c207_55d1_11ec_a147_02cba411ec9drow2_col12\" class=\"data row2 col12\" >0.0000%</td>\n",
       "                        <td id=\"T_d0f6c207_55d1_11ec_a147_02cba411ec9drow2_col13\" class=\"data row2 col13\" >1.00</td>\n",
       "                        <td id=\"T_d0f6c207_55d1_11ec_a147_02cba411ec9drow2_col14\" class=\"data row2 col14\" >LinAct360</td>\n",
       "            </tr>\n",
       "            <tr>\n",
       "                        <th id=\"T_d0f6c207_55d1_11ec_a147_02cba411ec9dlevel0_row3\" class=\"row_heading level0 row3\" >3</th>\n",
       "                        <td id=\"T_d0f6c207_55d1_11ec_a147_02cba411ec9drow3_col0\" class=\"data row3 col0\" >2021-06-17</td>\n",
       "                        <td id=\"T_d0f6c207_55d1_11ec_a147_02cba411ec9drow3_col1\" class=\"data row3 col1\" >2021-09-17</td>\n",
       "                        <td id=\"T_d0f6c207_55d1_11ec_a147_02cba411ec9drow3_col2\" class=\"data row3 col2\" >2021-06-15</td>\n",
       "                        <td id=\"T_d0f6c207_55d1_11ec_a147_02cba411ec9drow3_col3\" class=\"data row3 col3\" >2021-09-17</td>\n",
       "                        <td id=\"T_d0f6c207_55d1_11ec_a147_02cba411ec9drow3_col4\" class=\"data row3 col4\" >-10,000,000.00</td>\n",
       "                        <td id=\"T_d0f6c207_55d1_11ec_a147_02cba411ec9drow3_col5\" class=\"data row3 col5\" >0.00</td>\n",
       "                        <td id=\"T_d0f6c207_55d1_11ec_a147_02cba411ec9drow3_col6\" class=\"data row3 col6\" >-6,289.99</td>\n",
       "                        <td id=\"T_d0f6c207_55d1_11ec_a147_02cba411ec9drow3_col7\" class=\"data row3 col7\" >True</td>\n",
       "                        <td id=\"T_d0f6c207_55d1_11ec_a147_02cba411ec9drow3_col8\" class=\"data row3 col8\" >-6,289.99</td>\n",
       "                        <td id=\"T_d0f6c207_55d1_11ec_a147_02cba411ec9drow3_col9\" class=\"data row3 col9\" >USD</td>\n",
       "                        <td id=\"T_d0f6c207_55d1_11ec_a147_02cba411ec9drow3_col10\" class=\"data row3 col10\" >LIBORUSD3M</td>\n",
       "                        <td id=\"T_d0f6c207_55d1_11ec_a147_02cba411ec9drow3_col11\" class=\"data row3 col11\" >0.2461%</td>\n",
       "                        <td id=\"T_d0f6c207_55d1_11ec_a147_02cba411ec9drow3_col12\" class=\"data row3 col12\" >0.0000%</td>\n",
       "                        <td id=\"T_d0f6c207_55d1_11ec_a147_02cba411ec9drow3_col13\" class=\"data row3 col13\" >1.00</td>\n",
       "                        <td id=\"T_d0f6c207_55d1_11ec_a147_02cba411ec9drow3_col14\" class=\"data row3 col14\" >LinAct360</td>\n",
       "            </tr>\n",
       "            <tr>\n",
       "                        <th id=\"T_d0f6c207_55d1_11ec_a147_02cba411ec9dlevel0_row4\" class=\"row_heading level0 row4\" >4</th>\n",
       "                        <td id=\"T_d0f6c207_55d1_11ec_a147_02cba411ec9drow4_col0\" class=\"data row4 col0\" >2021-09-17</td>\n",
       "                        <td id=\"T_d0f6c207_55d1_11ec_a147_02cba411ec9drow4_col1\" class=\"data row4 col1\" >2021-12-17</td>\n",
       "                        <td id=\"T_d0f6c207_55d1_11ec_a147_02cba411ec9drow4_col2\" class=\"data row4 col2\" >2021-09-15</td>\n",
       "                        <td id=\"T_d0f6c207_55d1_11ec_a147_02cba411ec9drow4_col3\" class=\"data row4 col3\" >2021-12-17</td>\n",
       "                        <td id=\"T_d0f6c207_55d1_11ec_a147_02cba411ec9drow4_col4\" class=\"data row4 col4\" >-10,000,000.00</td>\n",
       "                        <td id=\"T_d0f6c207_55d1_11ec_a147_02cba411ec9drow4_col5\" class=\"data row4 col5\" >0.00</td>\n",
       "                        <td id=\"T_d0f6c207_55d1_11ec_a147_02cba411ec9drow4_col6\" class=\"data row4 col6\" >-6,221.62</td>\n",
       "                        <td id=\"T_d0f6c207_55d1_11ec_a147_02cba411ec9drow4_col7\" class=\"data row4 col7\" >True</td>\n",
       "                        <td id=\"T_d0f6c207_55d1_11ec_a147_02cba411ec9drow4_col8\" class=\"data row4 col8\" >-6,221.62</td>\n",
       "                        <td id=\"T_d0f6c207_55d1_11ec_a147_02cba411ec9drow4_col9\" class=\"data row4 col9\" >USD</td>\n",
       "                        <td id=\"T_d0f6c207_55d1_11ec_a147_02cba411ec9drow4_col10\" class=\"data row4 col10\" >LIBORUSD3M</td>\n",
       "                        <td id=\"T_d0f6c207_55d1_11ec_a147_02cba411ec9drow4_col11\" class=\"data row4 col11\" >0.2461%</td>\n",
       "                        <td id=\"T_d0f6c207_55d1_11ec_a147_02cba411ec9drow4_col12\" class=\"data row4 col12\" >0.0000%</td>\n",
       "                        <td id=\"T_d0f6c207_55d1_11ec_a147_02cba411ec9drow4_col13\" class=\"data row4 col13\" >1.00</td>\n",
       "                        <td id=\"T_d0f6c207_55d1_11ec_a147_02cba411ec9drow4_col14\" class=\"data row4 col14\" >LinAct360</td>\n",
       "            </tr>\n",
       "            <tr>\n",
       "                        <th id=\"T_d0f6c207_55d1_11ec_a147_02cba411ec9dlevel0_row5\" class=\"row_heading level0 row5\" >5</th>\n",
       "                        <td id=\"T_d0f6c207_55d1_11ec_a147_02cba411ec9drow5_col0\" class=\"data row5 col0\" >2021-12-17</td>\n",
       "                        <td id=\"T_d0f6c207_55d1_11ec_a147_02cba411ec9drow5_col1\" class=\"data row5 col1\" >2022-03-17</td>\n",
       "                        <td id=\"T_d0f6c207_55d1_11ec_a147_02cba411ec9drow5_col2\" class=\"data row5 col2\" >2021-12-15</td>\n",
       "                        <td id=\"T_d0f6c207_55d1_11ec_a147_02cba411ec9drow5_col3\" class=\"data row5 col3\" >2022-03-17</td>\n",
       "                        <td id=\"T_d0f6c207_55d1_11ec_a147_02cba411ec9drow5_col4\" class=\"data row5 col4\" >-10,000,000.00</td>\n",
       "                        <td id=\"T_d0f6c207_55d1_11ec_a147_02cba411ec9drow5_col5\" class=\"data row5 col5\" >0.00</td>\n",
       "                        <td id=\"T_d0f6c207_55d1_11ec_a147_02cba411ec9drow5_col6\" class=\"data row5 col6\" >-6,153.25</td>\n",
       "                        <td id=\"T_d0f6c207_55d1_11ec_a147_02cba411ec9drow5_col7\" class=\"data row5 col7\" >True</td>\n",
       "                        <td id=\"T_d0f6c207_55d1_11ec_a147_02cba411ec9drow5_col8\" class=\"data row5 col8\" >-6,153.25</td>\n",
       "                        <td id=\"T_d0f6c207_55d1_11ec_a147_02cba411ec9drow5_col9\" class=\"data row5 col9\" >USD</td>\n",
       "                        <td id=\"T_d0f6c207_55d1_11ec_a147_02cba411ec9drow5_col10\" class=\"data row5 col10\" >LIBORUSD3M</td>\n",
       "                        <td id=\"T_d0f6c207_55d1_11ec_a147_02cba411ec9drow5_col11\" class=\"data row5 col11\" >0.2461%</td>\n",
       "                        <td id=\"T_d0f6c207_55d1_11ec_a147_02cba411ec9drow5_col12\" class=\"data row5 col12\" >0.0000%</td>\n",
       "                        <td id=\"T_d0f6c207_55d1_11ec_a147_02cba411ec9drow5_col13\" class=\"data row5 col13\" >1.00</td>\n",
       "                        <td id=\"T_d0f6c207_55d1_11ec_a147_02cba411ec9drow5_col14\" class=\"data row5 col14\" >LinAct360</td>\n",
       "            </tr>\n",
       "            <tr>\n",
       "                        <th id=\"T_d0f6c207_55d1_11ec_a147_02cba411ec9dlevel0_row6\" class=\"row_heading level0 row6\" >6</th>\n",
       "                        <td id=\"T_d0f6c207_55d1_11ec_a147_02cba411ec9drow6_col0\" class=\"data row6 col0\" >2022-03-17</td>\n",
       "                        <td id=\"T_d0f6c207_55d1_11ec_a147_02cba411ec9drow6_col1\" class=\"data row6 col1\" >2022-06-17</td>\n",
       "                        <td id=\"T_d0f6c207_55d1_11ec_a147_02cba411ec9drow6_col2\" class=\"data row6 col2\" >2022-03-15</td>\n",
       "                        <td id=\"T_d0f6c207_55d1_11ec_a147_02cba411ec9drow6_col3\" class=\"data row6 col3\" >2022-06-17</td>\n",
       "                        <td id=\"T_d0f6c207_55d1_11ec_a147_02cba411ec9drow6_col4\" class=\"data row6 col4\" >-10,000,000.00</td>\n",
       "                        <td id=\"T_d0f6c207_55d1_11ec_a147_02cba411ec9drow6_col5\" class=\"data row6 col5\" >0.00</td>\n",
       "                        <td id=\"T_d0f6c207_55d1_11ec_a147_02cba411ec9drow6_col6\" class=\"data row6 col6\" >-6,289.99</td>\n",
       "                        <td id=\"T_d0f6c207_55d1_11ec_a147_02cba411ec9drow6_col7\" class=\"data row6 col7\" >True</td>\n",
       "                        <td id=\"T_d0f6c207_55d1_11ec_a147_02cba411ec9drow6_col8\" class=\"data row6 col8\" >-6,289.99</td>\n",
       "                        <td id=\"T_d0f6c207_55d1_11ec_a147_02cba411ec9drow6_col9\" class=\"data row6 col9\" >USD</td>\n",
       "                        <td id=\"T_d0f6c207_55d1_11ec_a147_02cba411ec9drow6_col10\" class=\"data row6 col10\" >LIBORUSD3M</td>\n",
       "                        <td id=\"T_d0f6c207_55d1_11ec_a147_02cba411ec9drow6_col11\" class=\"data row6 col11\" >0.2461%</td>\n",
       "                        <td id=\"T_d0f6c207_55d1_11ec_a147_02cba411ec9drow6_col12\" class=\"data row6 col12\" >0.0000%</td>\n",
       "                        <td id=\"T_d0f6c207_55d1_11ec_a147_02cba411ec9drow6_col13\" class=\"data row6 col13\" >1.00</td>\n",
       "                        <td id=\"T_d0f6c207_55d1_11ec_a147_02cba411ec9drow6_col14\" class=\"data row6 col14\" >LinAct360</td>\n",
       "            </tr>\n",
       "            <tr>\n",
       "                        <th id=\"T_d0f6c207_55d1_11ec_a147_02cba411ec9dlevel0_row7\" class=\"row_heading level0 row7\" >7</th>\n",
       "                        <td id=\"T_d0f6c207_55d1_11ec_a147_02cba411ec9drow7_col0\" class=\"data row7 col0\" >2022-06-17</td>\n",
       "                        <td id=\"T_d0f6c207_55d1_11ec_a147_02cba411ec9drow7_col1\" class=\"data row7 col1\" >2022-09-19</td>\n",
       "                        <td id=\"T_d0f6c207_55d1_11ec_a147_02cba411ec9drow7_col2\" class=\"data row7 col2\" >2022-06-15</td>\n",
       "                        <td id=\"T_d0f6c207_55d1_11ec_a147_02cba411ec9drow7_col3\" class=\"data row7 col3\" >2022-09-19</td>\n",
       "                        <td id=\"T_d0f6c207_55d1_11ec_a147_02cba411ec9drow7_col4\" class=\"data row7 col4\" >-10,000,000.00</td>\n",
       "                        <td id=\"T_d0f6c207_55d1_11ec_a147_02cba411ec9drow7_col5\" class=\"data row7 col5\" >-10,000,000.00</td>\n",
       "                        <td id=\"T_d0f6c207_55d1_11ec_a147_02cba411ec9drow7_col6\" class=\"data row7 col6\" >-6,426.73</td>\n",
       "                        <td id=\"T_d0f6c207_55d1_11ec_a147_02cba411ec9drow7_col7\" class=\"data row7 col7\" >True</td>\n",
       "                        <td id=\"T_d0f6c207_55d1_11ec_a147_02cba411ec9drow7_col8\" class=\"data row7 col8\" >-10,006,426.73</td>\n",
       "                        <td id=\"T_d0f6c207_55d1_11ec_a147_02cba411ec9drow7_col9\" class=\"data row7 col9\" >USD</td>\n",
       "                        <td id=\"T_d0f6c207_55d1_11ec_a147_02cba411ec9drow7_col10\" class=\"data row7 col10\" >LIBORUSD3M</td>\n",
       "                        <td id=\"T_d0f6c207_55d1_11ec_a147_02cba411ec9drow7_col11\" class=\"data row7 col11\" >0.2461%</td>\n",
       "                        <td id=\"T_d0f6c207_55d1_11ec_a147_02cba411ec9drow7_col12\" class=\"data row7 col12\" >0.0000%</td>\n",
       "                        <td id=\"T_d0f6c207_55d1_11ec_a147_02cba411ec9drow7_col13\" class=\"data row7 col13\" >1.00</td>\n",
       "                        <td id=\"T_d0f6c207_55d1_11ec_a147_02cba411ec9drow7_col14\" class=\"data row7 col14\" >LinAct360</td>\n",
       "            </tr>\n",
       "    </tbody></table>"
      ],
      "text/plain": [
       "<pandas.io.formats.style.Styler at 0x7fdd9475a518>"
      ]
     },
     "execution_count": 42,
     "metadata": {},
     "output_type": "execute_result"
    }
   ],
   "source": [
    "aux.show_leg(ibor_leg, 'IborCashflow').style.format(format_dict)"
   ]
  },
  {
   "cell_type": "markdown",
   "metadata": {},
   "source": [
    "**¿Para qué sirven?**\n",
    "\n",
    "- Empresas que tengan deuda en tasa flotante y quieran protegerse contra subidas de tasas de interés.\n",
    "\n",
    "  - Crédito Libor + s: -(Libor + s)\n",
    "  - Swap Fija vs Libor: \n",
    "    - +(Libor)\n",
    "    - -(Fija)\n",
    "  - Costo neto: -(Fija + s)\n",
    "\n",
    "\n",
    "- Inversionistas con activos a tasa fija y quieran protegerse contra subidas de tasa de interés.\n",
    "  - Sólo con bonos: si las tasas bajan eres feliz\n",
    "  - Sólo con bonos: si las tasas suben eres infeliz\n",
    "  - Si haces swaps: con tasas al alza te puedes cubrir con swap -Fijo y +Libor.\n",
    "\n",
    "\n",
    "- Empresas con deuda a tasa fija que quieran protegerse contra caídas de las tasas de interés.\n",
    "  - Empresa no prepaga (se ahorra el costo) y toma un swap en donde +Fija y -Flotante.\n",
    "\n",
    "\n",
    "- Toma de posiciones direccionales en tasa de interés (al alza y a la baja).\n",
    "  - De todo lo anterior se deduce que se puede especular en este mercado. Libor es el mercado más líquido."
   ]
  },
  {
   "cell_type": "markdown",
   "metadata": {},
   "source": [
    "**Otros tipos de swaps**\n",
    "\n",
    "- Flotante vs Flotante en la misma divisa: por ejemplo un swap en el cual se intercambian flujos calculados a la Libor USD de 3M por flujos calculados a la Libor USD de 1Y.\n",
    "\n",
    "\n",
    "- Fijo vs Fijo en dos divisas: por ejemplo un swap en el que se intercambian flujos calculados sobre un nocional de $M_{USD}$ USD usando una tasa fija de $r_{USD}$ por flujos calculados sobre un nocional de $M_{EUR}$ EUR usando una tasa fija de $r_{EUR}$ (los swaps con dos divisas se llaman Cross Currency Swaps (CCS)).\n",
    "\n",
    "\n",
    "- Fijo vs Flotante en dos divisas: por ejemplo un swap en el que se intercambian flujos calculados sobre un nocional de $M_{USD}$ USD usando una tasa fija de $r_{USD}$ por flujos calculados sobre un nocional de $M_{EUR}$ EUR usando Libor EUR de 3M.\n",
    "\n",
    "\n",
    "- Flotante vs Flotante en dos divisas: por ejemplo un swap en el que se intercambian flujos calculados sobre un nocional de $M_{USD}$ USD usando una Libor USD de 3M por flujos calculados sobre un nocional de $M_{EUR}$ EUR usando Libor EUR de 3M."
   ]
  },
  {
   "cell_type": "markdown",
   "metadata": {},
   "source": [
    "## Overnight Index Swaps (OIS)"
   ]
  },
  {
   "cell_type": "markdown",
   "metadata": {},
   "source": [
    "- Los OIS son swaps en los cuales se intercambian flujos calculados a una tasa fija por flujos calculados a partir de una tasa overnight interbancaria componiendo intereses.\n",
    "\n",
    "\n",
    "- Por ejemplo, en USD se utiliza la effective federal funds rate, en EUR el llamado EONIA y en GBP el índice SONIA.\n",
    "\n",
    "\n",
    "- La effective federal funds rate corresponde al promedio de las transacciones de financiamiento no colateralizado informado a la Reserva Federal de Nueva York (lineal Act/360).\n",
    "\n",
    "\n",
    "- El índice EONIA (European Overnight Index Average) se computa como el promedio de las transacciones overnight de un grupo pre establecido de bancos (lineal Act/360).\n",
    "\n",
    "\n",
    "- El índice SONIA (Sterling Overnight Index Average) se calcula como el promedio de las transacciones overnight en Londres ejecutadas a través de WMBA (The Wholesale Markets Brokers’ Association). Este índice es lineal Act/365.\n",
    "\n",
    "\n",
    "- El mercado USD está transitando hacia el uso de un nuevo benchmark overnight, la Secured Overnight Financing Rate o **SOFR**. Ver [SOFR Primer](https://www.sifma.org/wp-content/uploads/2019/07/SIFMA-Insights-SOFR-Primer.pdf)."
   ]
  },
  {
   "cell_type": "markdown",
   "metadata": {},
   "source": [
    "### Flujos de un OIS"
   ]
  },
  {
   "cell_type": "markdown",
   "metadata": {},
   "source": [
    "- En un OIS, los flujos de la pata flotante se obtienen de la composición de los factores de capitalización asociados al índice overnight.\n",
    "\n",
    "\n",
    "- Por ejemplo, suponiendo que para la pata flotante de un OIS se utiliza la effective fed funds rate de agosto 2014:"
   ]
  },
  {
   "cell_type": "code",
   "execution_count": 43,
   "metadata": {
    "ExecuteTime": {
     "end_time": "2021-12-05T13:46:58.509053Z",
     "start_time": "2021-12-05T13:46:58.479532Z"
    }
   },
   "outputs": [
    {
     "data": {
      "text/html": [
       "<style  type=\"text/css\" >\n",
       "</style><table id=\"T_d0f6c208_55d1_11ec_a147_02cba411ec9d\" ><thead>    <tr>        <th class=\"blank level0\" ></th>        <th class=\"col_heading level0 col0\" >fecha_inicial</th>        <th class=\"col_heading level0 col1\" >fecha_final</th>        <th class=\"col_heading level0 col2\" >effective_fed_funds</th>    </tr></thead><tbody>\n",
       "                <tr>\n",
       "                        <th id=\"T_d0f6c208_55d1_11ec_a147_02cba411ec9dlevel0_row0\" class=\"row_heading level0 row0\" >0</th>\n",
       "                        <td id=\"T_d0f6c208_55d1_11ec_a147_02cba411ec9drow0_col0\" class=\"data row0 col0\" >2014-08-01</td>\n",
       "                        <td id=\"T_d0f6c208_55d1_11ec_a147_02cba411ec9drow0_col1\" class=\"data row0 col1\" >2014-08-04</td>\n",
       "                        <td id=\"T_d0f6c208_55d1_11ec_a147_02cba411ec9drow0_col2\" class=\"data row0 col2\" >0.0900%</td>\n",
       "            </tr>\n",
       "            <tr>\n",
       "                        <th id=\"T_d0f6c208_55d1_11ec_a147_02cba411ec9dlevel0_row1\" class=\"row_heading level0 row1\" >1</th>\n",
       "                        <td id=\"T_d0f6c208_55d1_11ec_a147_02cba411ec9drow1_col0\" class=\"data row1 col0\" >2014-08-04</td>\n",
       "                        <td id=\"T_d0f6c208_55d1_11ec_a147_02cba411ec9drow1_col1\" class=\"data row1 col1\" >2014-08-05</td>\n",
       "                        <td id=\"T_d0f6c208_55d1_11ec_a147_02cba411ec9drow1_col2\" class=\"data row1 col2\" >0.0900%</td>\n",
       "            </tr>\n",
       "            <tr>\n",
       "                        <th id=\"T_d0f6c208_55d1_11ec_a147_02cba411ec9dlevel0_row2\" class=\"row_heading level0 row2\" >2</th>\n",
       "                        <td id=\"T_d0f6c208_55d1_11ec_a147_02cba411ec9drow2_col0\" class=\"data row2 col0\" >2014-08-05</td>\n",
       "                        <td id=\"T_d0f6c208_55d1_11ec_a147_02cba411ec9drow2_col1\" class=\"data row2 col1\" >2014-08-06</td>\n",
       "                        <td id=\"T_d0f6c208_55d1_11ec_a147_02cba411ec9drow2_col2\" class=\"data row2 col2\" >0.0900%</td>\n",
       "            </tr>\n",
       "            <tr>\n",
       "                        <th id=\"T_d0f6c208_55d1_11ec_a147_02cba411ec9dlevel0_row3\" class=\"row_heading level0 row3\" >3</th>\n",
       "                        <td id=\"T_d0f6c208_55d1_11ec_a147_02cba411ec9drow3_col0\" class=\"data row3 col0\" >2014-08-06</td>\n",
       "                        <td id=\"T_d0f6c208_55d1_11ec_a147_02cba411ec9drow3_col1\" class=\"data row3 col1\" >2014-08-07</td>\n",
       "                        <td id=\"T_d0f6c208_55d1_11ec_a147_02cba411ec9drow3_col2\" class=\"data row3 col2\" >0.0900%</td>\n",
       "            </tr>\n",
       "            <tr>\n",
       "                        <th id=\"T_d0f6c208_55d1_11ec_a147_02cba411ec9dlevel0_row4\" class=\"row_heading level0 row4\" >4</th>\n",
       "                        <td id=\"T_d0f6c208_55d1_11ec_a147_02cba411ec9drow4_col0\" class=\"data row4 col0\" >2014-08-07</td>\n",
       "                        <td id=\"T_d0f6c208_55d1_11ec_a147_02cba411ec9drow4_col1\" class=\"data row4 col1\" >2014-08-08</td>\n",
       "                        <td id=\"T_d0f6c208_55d1_11ec_a147_02cba411ec9drow4_col2\" class=\"data row4 col2\" >0.0900%</td>\n",
       "            </tr>\n",
       "            <tr>\n",
       "                        <th id=\"T_d0f6c208_55d1_11ec_a147_02cba411ec9dlevel0_row5\" class=\"row_heading level0 row5\" >5</th>\n",
       "                        <td id=\"T_d0f6c208_55d1_11ec_a147_02cba411ec9drow5_col0\" class=\"data row5 col0\" >2014-08-08</td>\n",
       "                        <td id=\"T_d0f6c208_55d1_11ec_a147_02cba411ec9drow5_col1\" class=\"data row5 col1\" >2014-08-11</td>\n",
       "                        <td id=\"T_d0f6c208_55d1_11ec_a147_02cba411ec9drow5_col2\" class=\"data row5 col2\" >0.0900%</td>\n",
       "            </tr>\n",
       "            <tr>\n",
       "                        <th id=\"T_d0f6c208_55d1_11ec_a147_02cba411ec9dlevel0_row6\" class=\"row_heading level0 row6\" >6</th>\n",
       "                        <td id=\"T_d0f6c208_55d1_11ec_a147_02cba411ec9drow6_col0\" class=\"data row6 col0\" >2014-08-11</td>\n",
       "                        <td id=\"T_d0f6c208_55d1_11ec_a147_02cba411ec9drow6_col1\" class=\"data row6 col1\" >2014-08-12</td>\n",
       "                        <td id=\"T_d0f6c208_55d1_11ec_a147_02cba411ec9drow6_col2\" class=\"data row6 col2\" >0.0900%</td>\n",
       "            </tr>\n",
       "            <tr>\n",
       "                        <th id=\"T_d0f6c208_55d1_11ec_a147_02cba411ec9dlevel0_row7\" class=\"row_heading level0 row7\" >7</th>\n",
       "                        <td id=\"T_d0f6c208_55d1_11ec_a147_02cba411ec9drow7_col0\" class=\"data row7 col0\" >2014-08-12</td>\n",
       "                        <td id=\"T_d0f6c208_55d1_11ec_a147_02cba411ec9drow7_col1\" class=\"data row7 col1\" >2014-08-13</td>\n",
       "                        <td id=\"T_d0f6c208_55d1_11ec_a147_02cba411ec9drow7_col2\" class=\"data row7 col2\" >0.0900%</td>\n",
       "            </tr>\n",
       "            <tr>\n",
       "                        <th id=\"T_d0f6c208_55d1_11ec_a147_02cba411ec9dlevel0_row8\" class=\"row_heading level0 row8\" >8</th>\n",
       "                        <td id=\"T_d0f6c208_55d1_11ec_a147_02cba411ec9drow8_col0\" class=\"data row8 col0\" >2014-08-13</td>\n",
       "                        <td id=\"T_d0f6c208_55d1_11ec_a147_02cba411ec9drow8_col1\" class=\"data row8 col1\" >2014-08-14</td>\n",
       "                        <td id=\"T_d0f6c208_55d1_11ec_a147_02cba411ec9drow8_col2\" class=\"data row8 col2\" >0.0900%</td>\n",
       "            </tr>\n",
       "            <tr>\n",
       "                        <th id=\"T_d0f6c208_55d1_11ec_a147_02cba411ec9dlevel0_row9\" class=\"row_heading level0 row9\" >9</th>\n",
       "                        <td id=\"T_d0f6c208_55d1_11ec_a147_02cba411ec9drow9_col0\" class=\"data row9 col0\" >2014-08-14</td>\n",
       "                        <td id=\"T_d0f6c208_55d1_11ec_a147_02cba411ec9drow9_col1\" class=\"data row9 col1\" >2014-08-15</td>\n",
       "                        <td id=\"T_d0f6c208_55d1_11ec_a147_02cba411ec9drow9_col2\" class=\"data row9 col2\" >0.0900%</td>\n",
       "            </tr>\n",
       "            <tr>\n",
       "                        <th id=\"T_d0f6c208_55d1_11ec_a147_02cba411ec9dlevel0_row10\" class=\"row_heading level0 row10\" >10</th>\n",
       "                        <td id=\"T_d0f6c208_55d1_11ec_a147_02cba411ec9drow10_col0\" class=\"data row10 col0\" >2014-08-15</td>\n",
       "                        <td id=\"T_d0f6c208_55d1_11ec_a147_02cba411ec9drow10_col1\" class=\"data row10 col1\" >2014-08-18</td>\n",
       "                        <td id=\"T_d0f6c208_55d1_11ec_a147_02cba411ec9drow10_col2\" class=\"data row10 col2\" >0.0900%</td>\n",
       "            </tr>\n",
       "            <tr>\n",
       "                        <th id=\"T_d0f6c208_55d1_11ec_a147_02cba411ec9dlevel0_row11\" class=\"row_heading level0 row11\" >11</th>\n",
       "                        <td id=\"T_d0f6c208_55d1_11ec_a147_02cba411ec9drow11_col0\" class=\"data row11 col0\" >2014-08-18</td>\n",
       "                        <td id=\"T_d0f6c208_55d1_11ec_a147_02cba411ec9drow11_col1\" class=\"data row11 col1\" >2014-08-19</td>\n",
       "                        <td id=\"T_d0f6c208_55d1_11ec_a147_02cba411ec9drow11_col2\" class=\"data row11 col2\" >0.0900%</td>\n",
       "            </tr>\n",
       "            <tr>\n",
       "                        <th id=\"T_d0f6c208_55d1_11ec_a147_02cba411ec9dlevel0_row12\" class=\"row_heading level0 row12\" >12</th>\n",
       "                        <td id=\"T_d0f6c208_55d1_11ec_a147_02cba411ec9drow12_col0\" class=\"data row12 col0\" >2014-08-19</td>\n",
       "                        <td id=\"T_d0f6c208_55d1_11ec_a147_02cba411ec9drow12_col1\" class=\"data row12 col1\" >2014-08-20</td>\n",
       "                        <td id=\"T_d0f6c208_55d1_11ec_a147_02cba411ec9drow12_col2\" class=\"data row12 col2\" >0.0900%</td>\n",
       "            </tr>\n",
       "            <tr>\n",
       "                        <th id=\"T_d0f6c208_55d1_11ec_a147_02cba411ec9dlevel0_row13\" class=\"row_heading level0 row13\" >13</th>\n",
       "                        <td id=\"T_d0f6c208_55d1_11ec_a147_02cba411ec9drow13_col0\" class=\"data row13 col0\" >2014-08-20</td>\n",
       "                        <td id=\"T_d0f6c208_55d1_11ec_a147_02cba411ec9drow13_col1\" class=\"data row13 col1\" >2014-08-21</td>\n",
       "                        <td id=\"T_d0f6c208_55d1_11ec_a147_02cba411ec9drow13_col2\" class=\"data row13 col2\" >0.0900%</td>\n",
       "            </tr>\n",
       "            <tr>\n",
       "                        <th id=\"T_d0f6c208_55d1_11ec_a147_02cba411ec9dlevel0_row14\" class=\"row_heading level0 row14\" >14</th>\n",
       "                        <td id=\"T_d0f6c208_55d1_11ec_a147_02cba411ec9drow14_col0\" class=\"data row14 col0\" >2014-08-21</td>\n",
       "                        <td id=\"T_d0f6c208_55d1_11ec_a147_02cba411ec9drow14_col1\" class=\"data row14 col1\" >2014-08-22</td>\n",
       "                        <td id=\"T_d0f6c208_55d1_11ec_a147_02cba411ec9drow14_col2\" class=\"data row14 col2\" >0.0900%</td>\n",
       "            </tr>\n",
       "            <tr>\n",
       "                        <th id=\"T_d0f6c208_55d1_11ec_a147_02cba411ec9dlevel0_row15\" class=\"row_heading level0 row15\" >15</th>\n",
       "                        <td id=\"T_d0f6c208_55d1_11ec_a147_02cba411ec9drow15_col0\" class=\"data row15 col0\" >2014-08-22</td>\n",
       "                        <td id=\"T_d0f6c208_55d1_11ec_a147_02cba411ec9drow15_col1\" class=\"data row15 col1\" >2014-08-25</td>\n",
       "                        <td id=\"T_d0f6c208_55d1_11ec_a147_02cba411ec9drow15_col2\" class=\"data row15 col2\" >0.0900%</td>\n",
       "            </tr>\n",
       "            <tr>\n",
       "                        <th id=\"T_d0f6c208_55d1_11ec_a147_02cba411ec9dlevel0_row16\" class=\"row_heading level0 row16\" >16</th>\n",
       "                        <td id=\"T_d0f6c208_55d1_11ec_a147_02cba411ec9drow16_col0\" class=\"data row16 col0\" >2014-08-25</td>\n",
       "                        <td id=\"T_d0f6c208_55d1_11ec_a147_02cba411ec9drow16_col1\" class=\"data row16 col1\" >2014-08-26</td>\n",
       "                        <td id=\"T_d0f6c208_55d1_11ec_a147_02cba411ec9drow16_col2\" class=\"data row16 col2\" >0.0900%</td>\n",
       "            </tr>\n",
       "            <tr>\n",
       "                        <th id=\"T_d0f6c208_55d1_11ec_a147_02cba411ec9dlevel0_row17\" class=\"row_heading level0 row17\" >17</th>\n",
       "                        <td id=\"T_d0f6c208_55d1_11ec_a147_02cba411ec9drow17_col0\" class=\"data row17 col0\" >2014-08-26</td>\n",
       "                        <td id=\"T_d0f6c208_55d1_11ec_a147_02cba411ec9drow17_col1\" class=\"data row17 col1\" >2014-08-27</td>\n",
       "                        <td id=\"T_d0f6c208_55d1_11ec_a147_02cba411ec9drow17_col2\" class=\"data row17 col2\" >0.0900%</td>\n",
       "            </tr>\n",
       "            <tr>\n",
       "                        <th id=\"T_d0f6c208_55d1_11ec_a147_02cba411ec9dlevel0_row18\" class=\"row_heading level0 row18\" >18</th>\n",
       "                        <td id=\"T_d0f6c208_55d1_11ec_a147_02cba411ec9drow18_col0\" class=\"data row18 col0\" >2014-08-27</td>\n",
       "                        <td id=\"T_d0f6c208_55d1_11ec_a147_02cba411ec9drow18_col1\" class=\"data row18 col1\" >2014-08-28</td>\n",
       "                        <td id=\"T_d0f6c208_55d1_11ec_a147_02cba411ec9drow18_col2\" class=\"data row18 col2\" >0.0900%</td>\n",
       "            </tr>\n",
       "            <tr>\n",
       "                        <th id=\"T_d0f6c208_55d1_11ec_a147_02cba411ec9dlevel0_row19\" class=\"row_heading level0 row19\" >19</th>\n",
       "                        <td id=\"T_d0f6c208_55d1_11ec_a147_02cba411ec9drow19_col0\" class=\"data row19 col0\" >2014-08-28</td>\n",
       "                        <td id=\"T_d0f6c208_55d1_11ec_a147_02cba411ec9drow19_col1\" class=\"data row19 col1\" >2014-08-29</td>\n",
       "                        <td id=\"T_d0f6c208_55d1_11ec_a147_02cba411ec9drow19_col2\" class=\"data row19 col2\" >0.0900%</td>\n",
       "            </tr>\n",
       "            <tr>\n",
       "                        <th id=\"T_d0f6c208_55d1_11ec_a147_02cba411ec9dlevel0_row20\" class=\"row_heading level0 row20\" >20</th>\n",
       "                        <td id=\"T_d0f6c208_55d1_11ec_a147_02cba411ec9drow20_col0\" class=\"data row20 col0\" >2014-08-29</td>\n",
       "                        <td id=\"T_d0f6c208_55d1_11ec_a147_02cba411ec9drow20_col1\" class=\"data row20 col1\" >2014-09-01</td>\n",
       "                        <td id=\"T_d0f6c208_55d1_11ec_a147_02cba411ec9drow20_col2\" class=\"data row20 col2\" >0.0700%</td>\n",
       "            </tr>\n",
       "    </tbody></table>"
      ],
      "text/plain": [
       "<pandas.io.formats.style.Styler at 0x7fdd949ff668>"
      ]
     },
     "execution_count": 43,
     "metadata": {},
     "output_type": "execute_result"
    }
   ],
   "source": [
    "# Se importa el archivo Excel a un DataFrame de pandas\n",
    "eff_1 = pd.read_excel('data/effective_fed_funds_1.xlsx')\n",
    "\n",
    "# Los campos de fecha se importan como datetime (con horas, minutos y segundos).\n",
    "# Se mantiene sólo la fecha.\n",
    "eff_1['fecha_inicial'] = eff_1['fecha_inicial'].dt.date\n",
    "eff_1['fecha_final'] = eff_1['fecha_final'].dt.date\n",
    "\n",
    "# Se visualiza el resultado\n",
    "eff_1.style.format({'effective_fed_funds': '{0:.4%}'})"
   ]
  },
  {
   "cell_type": "markdown",
   "metadata": {},
   "source": [
    "Primero se calcula el factor de capitalización entre las fechas iniciales y finales de cada una de las tasas. Se define una pequeña función auxiliar:"
   ]
  },
  {
   "cell_type": "code",
   "execution_count": 44,
   "metadata": {
    "ExecuteTime": {
     "end_time": "2021-12-05T13:46:58.518850Z",
     "start_time": "2021-12-05T13:46:58.511817Z"
    }
   },
   "outputs": [],
   "source": [
    "def get_wf(fecha_inicial: date, fecha_final: date, valor_tasa: float) -> float:\n",
    "    \"\"\"\n",
    "    Retorna el factor de capitalización para una tasa entre dos fechas.\n",
    "    Supone que la convención de la tasa es LinAct360.\n",
    "    \"\"\"\n",
    "    qc_fec_ini = Qcf.QCDate(fecha_inicial.day, fecha_inicial.month, fecha_inicial.year)\n",
    "    \n",
    "    qc_fec_fin = Qcf.QCDate(fecha_final.day, fecha_final.month, fecha_final.year)\n",
    "    \n",
    "    qc_tasa = Qcf.QCInterestRate(valor_tasa, Qcf.QCAct360(), Qcf.QCLinearWf())\n",
    "    \n",
    "    return qc_tasa.wf(qc_fec_ini, qc_fec_fin)"
   ]
  },
  {
   "cell_type": "markdown",
   "metadata": {},
   "source": [
    "Se aplica esta función para agregar la columna **wf** al `DataFrame` anterior."
   ]
  },
  {
   "cell_type": "code",
   "execution_count": 45,
   "metadata": {
    "ExecuteTime": {
     "end_time": "2021-12-05T13:46:58.532843Z",
     "start_time": "2021-12-05T13:46:58.521874Z"
    }
   },
   "outputs": [],
   "source": [
    "eff_1['wf'] = eff_1.apply(\n",
    "    lambda row: get_wf(row['fecha_inicial'], row['fecha_final'], row['effective_fed_funds']),\n",
    "    axis=1\n",
    ")"
   ]
  },
  {
   "cell_type": "markdown",
   "metadata": {},
   "source": [
    "Se visualiza el resultado"
   ]
  },
  {
   "cell_type": "code",
   "execution_count": 46,
   "metadata": {
    "ExecuteTime": {
     "end_time": "2021-12-05T13:46:58.552549Z",
     "start_time": "2021-12-05T13:46:58.535618Z"
    }
   },
   "outputs": [
    {
     "data": {
      "text/html": [
       "<style  type=\"text/css\" >\n",
       "</style><table id=\"T_d0f6c209_55d1_11ec_a147_02cba411ec9d\" ><thead>    <tr>        <th class=\"blank level0\" ></th>        <th class=\"col_heading level0 col0\" >fecha_inicial</th>        <th class=\"col_heading level0 col1\" >fecha_final</th>        <th class=\"col_heading level0 col2\" >effective_fed_funds</th>        <th class=\"col_heading level0 col3\" >wf</th>    </tr></thead><tbody>\n",
       "                <tr>\n",
       "                        <th id=\"T_d0f6c209_55d1_11ec_a147_02cba411ec9dlevel0_row0\" class=\"row_heading level0 row0\" >0</th>\n",
       "                        <td id=\"T_d0f6c209_55d1_11ec_a147_02cba411ec9drow0_col0\" class=\"data row0 col0\" >2014-08-01</td>\n",
       "                        <td id=\"T_d0f6c209_55d1_11ec_a147_02cba411ec9drow0_col1\" class=\"data row0 col1\" >2014-08-04</td>\n",
       "                        <td id=\"T_d0f6c209_55d1_11ec_a147_02cba411ec9drow0_col2\" class=\"data row0 col2\" >0.0900%</td>\n",
       "                        <td id=\"T_d0f6c209_55d1_11ec_a147_02cba411ec9drow0_col3\" class=\"data row0 col3\" >100.000750%</td>\n",
       "            </tr>\n",
       "            <tr>\n",
       "                        <th id=\"T_d0f6c209_55d1_11ec_a147_02cba411ec9dlevel0_row1\" class=\"row_heading level0 row1\" >1</th>\n",
       "                        <td id=\"T_d0f6c209_55d1_11ec_a147_02cba411ec9drow1_col0\" class=\"data row1 col0\" >2014-08-04</td>\n",
       "                        <td id=\"T_d0f6c209_55d1_11ec_a147_02cba411ec9drow1_col1\" class=\"data row1 col1\" >2014-08-05</td>\n",
       "                        <td id=\"T_d0f6c209_55d1_11ec_a147_02cba411ec9drow1_col2\" class=\"data row1 col2\" >0.0900%</td>\n",
       "                        <td id=\"T_d0f6c209_55d1_11ec_a147_02cba411ec9drow1_col3\" class=\"data row1 col3\" >100.000250%</td>\n",
       "            </tr>\n",
       "            <tr>\n",
       "                        <th id=\"T_d0f6c209_55d1_11ec_a147_02cba411ec9dlevel0_row2\" class=\"row_heading level0 row2\" >2</th>\n",
       "                        <td id=\"T_d0f6c209_55d1_11ec_a147_02cba411ec9drow2_col0\" class=\"data row2 col0\" >2014-08-05</td>\n",
       "                        <td id=\"T_d0f6c209_55d1_11ec_a147_02cba411ec9drow2_col1\" class=\"data row2 col1\" >2014-08-06</td>\n",
       "                        <td id=\"T_d0f6c209_55d1_11ec_a147_02cba411ec9drow2_col2\" class=\"data row2 col2\" >0.0900%</td>\n",
       "                        <td id=\"T_d0f6c209_55d1_11ec_a147_02cba411ec9drow2_col3\" class=\"data row2 col3\" >100.000250%</td>\n",
       "            </tr>\n",
       "            <tr>\n",
       "                        <th id=\"T_d0f6c209_55d1_11ec_a147_02cba411ec9dlevel0_row3\" class=\"row_heading level0 row3\" >3</th>\n",
       "                        <td id=\"T_d0f6c209_55d1_11ec_a147_02cba411ec9drow3_col0\" class=\"data row3 col0\" >2014-08-06</td>\n",
       "                        <td id=\"T_d0f6c209_55d1_11ec_a147_02cba411ec9drow3_col1\" class=\"data row3 col1\" >2014-08-07</td>\n",
       "                        <td id=\"T_d0f6c209_55d1_11ec_a147_02cba411ec9drow3_col2\" class=\"data row3 col2\" >0.0900%</td>\n",
       "                        <td id=\"T_d0f6c209_55d1_11ec_a147_02cba411ec9drow3_col3\" class=\"data row3 col3\" >100.000250%</td>\n",
       "            </tr>\n",
       "            <tr>\n",
       "                        <th id=\"T_d0f6c209_55d1_11ec_a147_02cba411ec9dlevel0_row4\" class=\"row_heading level0 row4\" >4</th>\n",
       "                        <td id=\"T_d0f6c209_55d1_11ec_a147_02cba411ec9drow4_col0\" class=\"data row4 col0\" >2014-08-07</td>\n",
       "                        <td id=\"T_d0f6c209_55d1_11ec_a147_02cba411ec9drow4_col1\" class=\"data row4 col1\" >2014-08-08</td>\n",
       "                        <td id=\"T_d0f6c209_55d1_11ec_a147_02cba411ec9drow4_col2\" class=\"data row4 col2\" >0.0900%</td>\n",
       "                        <td id=\"T_d0f6c209_55d1_11ec_a147_02cba411ec9drow4_col3\" class=\"data row4 col3\" >100.000250%</td>\n",
       "            </tr>\n",
       "            <tr>\n",
       "                        <th id=\"T_d0f6c209_55d1_11ec_a147_02cba411ec9dlevel0_row5\" class=\"row_heading level0 row5\" >5</th>\n",
       "                        <td id=\"T_d0f6c209_55d1_11ec_a147_02cba411ec9drow5_col0\" class=\"data row5 col0\" >2014-08-08</td>\n",
       "                        <td id=\"T_d0f6c209_55d1_11ec_a147_02cba411ec9drow5_col1\" class=\"data row5 col1\" >2014-08-11</td>\n",
       "                        <td id=\"T_d0f6c209_55d1_11ec_a147_02cba411ec9drow5_col2\" class=\"data row5 col2\" >0.0900%</td>\n",
       "                        <td id=\"T_d0f6c209_55d1_11ec_a147_02cba411ec9drow5_col3\" class=\"data row5 col3\" >100.000750%</td>\n",
       "            </tr>\n",
       "            <tr>\n",
       "                        <th id=\"T_d0f6c209_55d1_11ec_a147_02cba411ec9dlevel0_row6\" class=\"row_heading level0 row6\" >6</th>\n",
       "                        <td id=\"T_d0f6c209_55d1_11ec_a147_02cba411ec9drow6_col0\" class=\"data row6 col0\" >2014-08-11</td>\n",
       "                        <td id=\"T_d0f6c209_55d1_11ec_a147_02cba411ec9drow6_col1\" class=\"data row6 col1\" >2014-08-12</td>\n",
       "                        <td id=\"T_d0f6c209_55d1_11ec_a147_02cba411ec9drow6_col2\" class=\"data row6 col2\" >0.0900%</td>\n",
       "                        <td id=\"T_d0f6c209_55d1_11ec_a147_02cba411ec9drow6_col3\" class=\"data row6 col3\" >100.000250%</td>\n",
       "            </tr>\n",
       "            <tr>\n",
       "                        <th id=\"T_d0f6c209_55d1_11ec_a147_02cba411ec9dlevel0_row7\" class=\"row_heading level0 row7\" >7</th>\n",
       "                        <td id=\"T_d0f6c209_55d1_11ec_a147_02cba411ec9drow7_col0\" class=\"data row7 col0\" >2014-08-12</td>\n",
       "                        <td id=\"T_d0f6c209_55d1_11ec_a147_02cba411ec9drow7_col1\" class=\"data row7 col1\" >2014-08-13</td>\n",
       "                        <td id=\"T_d0f6c209_55d1_11ec_a147_02cba411ec9drow7_col2\" class=\"data row7 col2\" >0.0900%</td>\n",
       "                        <td id=\"T_d0f6c209_55d1_11ec_a147_02cba411ec9drow7_col3\" class=\"data row7 col3\" >100.000250%</td>\n",
       "            </tr>\n",
       "            <tr>\n",
       "                        <th id=\"T_d0f6c209_55d1_11ec_a147_02cba411ec9dlevel0_row8\" class=\"row_heading level0 row8\" >8</th>\n",
       "                        <td id=\"T_d0f6c209_55d1_11ec_a147_02cba411ec9drow8_col0\" class=\"data row8 col0\" >2014-08-13</td>\n",
       "                        <td id=\"T_d0f6c209_55d1_11ec_a147_02cba411ec9drow8_col1\" class=\"data row8 col1\" >2014-08-14</td>\n",
       "                        <td id=\"T_d0f6c209_55d1_11ec_a147_02cba411ec9drow8_col2\" class=\"data row8 col2\" >0.0900%</td>\n",
       "                        <td id=\"T_d0f6c209_55d1_11ec_a147_02cba411ec9drow8_col3\" class=\"data row8 col3\" >100.000250%</td>\n",
       "            </tr>\n",
       "            <tr>\n",
       "                        <th id=\"T_d0f6c209_55d1_11ec_a147_02cba411ec9dlevel0_row9\" class=\"row_heading level0 row9\" >9</th>\n",
       "                        <td id=\"T_d0f6c209_55d1_11ec_a147_02cba411ec9drow9_col0\" class=\"data row9 col0\" >2014-08-14</td>\n",
       "                        <td id=\"T_d0f6c209_55d1_11ec_a147_02cba411ec9drow9_col1\" class=\"data row9 col1\" >2014-08-15</td>\n",
       "                        <td id=\"T_d0f6c209_55d1_11ec_a147_02cba411ec9drow9_col2\" class=\"data row9 col2\" >0.0900%</td>\n",
       "                        <td id=\"T_d0f6c209_55d1_11ec_a147_02cba411ec9drow9_col3\" class=\"data row9 col3\" >100.000250%</td>\n",
       "            </tr>\n",
       "            <tr>\n",
       "                        <th id=\"T_d0f6c209_55d1_11ec_a147_02cba411ec9dlevel0_row10\" class=\"row_heading level0 row10\" >10</th>\n",
       "                        <td id=\"T_d0f6c209_55d1_11ec_a147_02cba411ec9drow10_col0\" class=\"data row10 col0\" >2014-08-15</td>\n",
       "                        <td id=\"T_d0f6c209_55d1_11ec_a147_02cba411ec9drow10_col1\" class=\"data row10 col1\" >2014-08-18</td>\n",
       "                        <td id=\"T_d0f6c209_55d1_11ec_a147_02cba411ec9drow10_col2\" class=\"data row10 col2\" >0.0900%</td>\n",
       "                        <td id=\"T_d0f6c209_55d1_11ec_a147_02cba411ec9drow10_col3\" class=\"data row10 col3\" >100.000750%</td>\n",
       "            </tr>\n",
       "            <tr>\n",
       "                        <th id=\"T_d0f6c209_55d1_11ec_a147_02cba411ec9dlevel0_row11\" class=\"row_heading level0 row11\" >11</th>\n",
       "                        <td id=\"T_d0f6c209_55d1_11ec_a147_02cba411ec9drow11_col0\" class=\"data row11 col0\" >2014-08-18</td>\n",
       "                        <td id=\"T_d0f6c209_55d1_11ec_a147_02cba411ec9drow11_col1\" class=\"data row11 col1\" >2014-08-19</td>\n",
       "                        <td id=\"T_d0f6c209_55d1_11ec_a147_02cba411ec9drow11_col2\" class=\"data row11 col2\" >0.0900%</td>\n",
       "                        <td id=\"T_d0f6c209_55d1_11ec_a147_02cba411ec9drow11_col3\" class=\"data row11 col3\" >100.000250%</td>\n",
       "            </tr>\n",
       "            <tr>\n",
       "                        <th id=\"T_d0f6c209_55d1_11ec_a147_02cba411ec9dlevel0_row12\" class=\"row_heading level0 row12\" >12</th>\n",
       "                        <td id=\"T_d0f6c209_55d1_11ec_a147_02cba411ec9drow12_col0\" class=\"data row12 col0\" >2014-08-19</td>\n",
       "                        <td id=\"T_d0f6c209_55d1_11ec_a147_02cba411ec9drow12_col1\" class=\"data row12 col1\" >2014-08-20</td>\n",
       "                        <td id=\"T_d0f6c209_55d1_11ec_a147_02cba411ec9drow12_col2\" class=\"data row12 col2\" >0.0900%</td>\n",
       "                        <td id=\"T_d0f6c209_55d1_11ec_a147_02cba411ec9drow12_col3\" class=\"data row12 col3\" >100.000250%</td>\n",
       "            </tr>\n",
       "            <tr>\n",
       "                        <th id=\"T_d0f6c209_55d1_11ec_a147_02cba411ec9dlevel0_row13\" class=\"row_heading level0 row13\" >13</th>\n",
       "                        <td id=\"T_d0f6c209_55d1_11ec_a147_02cba411ec9drow13_col0\" class=\"data row13 col0\" >2014-08-20</td>\n",
       "                        <td id=\"T_d0f6c209_55d1_11ec_a147_02cba411ec9drow13_col1\" class=\"data row13 col1\" >2014-08-21</td>\n",
       "                        <td id=\"T_d0f6c209_55d1_11ec_a147_02cba411ec9drow13_col2\" class=\"data row13 col2\" >0.0900%</td>\n",
       "                        <td id=\"T_d0f6c209_55d1_11ec_a147_02cba411ec9drow13_col3\" class=\"data row13 col3\" >100.000250%</td>\n",
       "            </tr>\n",
       "            <tr>\n",
       "                        <th id=\"T_d0f6c209_55d1_11ec_a147_02cba411ec9dlevel0_row14\" class=\"row_heading level0 row14\" >14</th>\n",
       "                        <td id=\"T_d0f6c209_55d1_11ec_a147_02cba411ec9drow14_col0\" class=\"data row14 col0\" >2014-08-21</td>\n",
       "                        <td id=\"T_d0f6c209_55d1_11ec_a147_02cba411ec9drow14_col1\" class=\"data row14 col1\" >2014-08-22</td>\n",
       "                        <td id=\"T_d0f6c209_55d1_11ec_a147_02cba411ec9drow14_col2\" class=\"data row14 col2\" >0.0900%</td>\n",
       "                        <td id=\"T_d0f6c209_55d1_11ec_a147_02cba411ec9drow14_col3\" class=\"data row14 col3\" >100.000250%</td>\n",
       "            </tr>\n",
       "            <tr>\n",
       "                        <th id=\"T_d0f6c209_55d1_11ec_a147_02cba411ec9dlevel0_row15\" class=\"row_heading level0 row15\" >15</th>\n",
       "                        <td id=\"T_d0f6c209_55d1_11ec_a147_02cba411ec9drow15_col0\" class=\"data row15 col0\" >2014-08-22</td>\n",
       "                        <td id=\"T_d0f6c209_55d1_11ec_a147_02cba411ec9drow15_col1\" class=\"data row15 col1\" >2014-08-25</td>\n",
       "                        <td id=\"T_d0f6c209_55d1_11ec_a147_02cba411ec9drow15_col2\" class=\"data row15 col2\" >0.0900%</td>\n",
       "                        <td id=\"T_d0f6c209_55d1_11ec_a147_02cba411ec9drow15_col3\" class=\"data row15 col3\" >100.000750%</td>\n",
       "            </tr>\n",
       "            <tr>\n",
       "                        <th id=\"T_d0f6c209_55d1_11ec_a147_02cba411ec9dlevel0_row16\" class=\"row_heading level0 row16\" >16</th>\n",
       "                        <td id=\"T_d0f6c209_55d1_11ec_a147_02cba411ec9drow16_col0\" class=\"data row16 col0\" >2014-08-25</td>\n",
       "                        <td id=\"T_d0f6c209_55d1_11ec_a147_02cba411ec9drow16_col1\" class=\"data row16 col1\" >2014-08-26</td>\n",
       "                        <td id=\"T_d0f6c209_55d1_11ec_a147_02cba411ec9drow16_col2\" class=\"data row16 col2\" >0.0900%</td>\n",
       "                        <td id=\"T_d0f6c209_55d1_11ec_a147_02cba411ec9drow16_col3\" class=\"data row16 col3\" >100.000250%</td>\n",
       "            </tr>\n",
       "            <tr>\n",
       "                        <th id=\"T_d0f6c209_55d1_11ec_a147_02cba411ec9dlevel0_row17\" class=\"row_heading level0 row17\" >17</th>\n",
       "                        <td id=\"T_d0f6c209_55d1_11ec_a147_02cba411ec9drow17_col0\" class=\"data row17 col0\" >2014-08-26</td>\n",
       "                        <td id=\"T_d0f6c209_55d1_11ec_a147_02cba411ec9drow17_col1\" class=\"data row17 col1\" >2014-08-27</td>\n",
       "                        <td id=\"T_d0f6c209_55d1_11ec_a147_02cba411ec9drow17_col2\" class=\"data row17 col2\" >0.0900%</td>\n",
       "                        <td id=\"T_d0f6c209_55d1_11ec_a147_02cba411ec9drow17_col3\" class=\"data row17 col3\" >100.000250%</td>\n",
       "            </tr>\n",
       "            <tr>\n",
       "                        <th id=\"T_d0f6c209_55d1_11ec_a147_02cba411ec9dlevel0_row18\" class=\"row_heading level0 row18\" >18</th>\n",
       "                        <td id=\"T_d0f6c209_55d1_11ec_a147_02cba411ec9drow18_col0\" class=\"data row18 col0\" >2014-08-27</td>\n",
       "                        <td id=\"T_d0f6c209_55d1_11ec_a147_02cba411ec9drow18_col1\" class=\"data row18 col1\" >2014-08-28</td>\n",
       "                        <td id=\"T_d0f6c209_55d1_11ec_a147_02cba411ec9drow18_col2\" class=\"data row18 col2\" >0.0900%</td>\n",
       "                        <td id=\"T_d0f6c209_55d1_11ec_a147_02cba411ec9drow18_col3\" class=\"data row18 col3\" >100.000250%</td>\n",
       "            </tr>\n",
       "            <tr>\n",
       "                        <th id=\"T_d0f6c209_55d1_11ec_a147_02cba411ec9dlevel0_row19\" class=\"row_heading level0 row19\" >19</th>\n",
       "                        <td id=\"T_d0f6c209_55d1_11ec_a147_02cba411ec9drow19_col0\" class=\"data row19 col0\" >2014-08-28</td>\n",
       "                        <td id=\"T_d0f6c209_55d1_11ec_a147_02cba411ec9drow19_col1\" class=\"data row19 col1\" >2014-08-29</td>\n",
       "                        <td id=\"T_d0f6c209_55d1_11ec_a147_02cba411ec9drow19_col2\" class=\"data row19 col2\" >0.0900%</td>\n",
       "                        <td id=\"T_d0f6c209_55d1_11ec_a147_02cba411ec9drow19_col3\" class=\"data row19 col3\" >100.000250%</td>\n",
       "            </tr>\n",
       "            <tr>\n",
       "                        <th id=\"T_d0f6c209_55d1_11ec_a147_02cba411ec9dlevel0_row20\" class=\"row_heading level0 row20\" >20</th>\n",
       "                        <td id=\"T_d0f6c209_55d1_11ec_a147_02cba411ec9drow20_col0\" class=\"data row20 col0\" >2014-08-29</td>\n",
       "                        <td id=\"T_d0f6c209_55d1_11ec_a147_02cba411ec9drow20_col1\" class=\"data row20 col1\" >2014-09-01</td>\n",
       "                        <td id=\"T_d0f6c209_55d1_11ec_a147_02cba411ec9drow20_col2\" class=\"data row20 col2\" >0.0700%</td>\n",
       "                        <td id=\"T_d0f6c209_55d1_11ec_a147_02cba411ec9drow20_col3\" class=\"data row20 col3\" >100.000583%</td>\n",
       "            </tr>\n",
       "    </tbody></table>"
      ],
      "text/plain": [
       "<pandas.io.formats.style.Styler at 0x7fdd94793d68>"
      ]
     },
     "execution_count": 46,
     "metadata": {},
     "output_type": "execute_result"
    }
   ],
   "source": [
    "eff_1.style.format({'effective_fed_funds': '{0:.4%}', 'wf': '{0:.6%}'})"
   ]
  },
  {
   "cell_type": "markdown",
   "metadata": {},
   "source": [
    "Se calcula el producto de todos los factores de capitalización y luego se deduce la tasa equivalente en convención LinAct360 entre la primera fecha inicial y la última fecha final."
   ]
  },
  {
   "cell_type": "code",
   "execution_count": 47,
   "metadata": {
    "ExecuteTime": {
     "end_time": "2021-12-05T13:46:58.568910Z",
     "start_time": "2021-12-05T13:46:58.555232Z"
    }
   },
   "outputs": [
    {
     "name": "stdout",
     "output_type": "stream",
     "text": [
      "Producto wf: 100.007584%\n",
      "Días totales: 31\n",
      "Tasa equivalente: 0.088068%\n"
     ]
    }
   ],
   "source": [
    "# Producto de los factores de capitalización\n",
    "prod = eff_1['wf'].product()\n",
    "\n",
    "# Fecha inicial en formato QCDate\n",
    "qc_fec_ini = Qcf.QCDate(\n",
    "    eff_1.iloc[0]['fecha_inicial'].day,\n",
    "    eff_1.iloc[0]['fecha_inicial'].month,\n",
    "    eff_1.iloc[0]['fecha_inicial'].year\n",
    ")\n",
    "\n",
    "# Fecha final en formato QCDate\n",
    "qc_fec_fin = Qcf.QCDate(\n",
    "    eff_1.iloc[20]['fecha_final'].day,\n",
    "    eff_1.iloc[20]['fecha_final'].month,\n",
    "    eff_1.iloc[20]['fecha_final'].year\n",
    ")\n",
    "\n",
    "# Número de días entre la fecha inicial y la fecha final\n",
    "dias = qc_fec_ini.day_diff(qc_fec_fin)\n",
    "\n",
    "# Tasa equivalente\n",
    "# prod = 1 + tasa_eq * dias / 360\n",
    "tasa_eq = (prod - 1) * 360.0 / dias\n",
    "\n",
    "# Muestra resultados\n",
    "print(f'Producto wf: {prod:.6%}')\n",
    "print(f'Días totales: {dias}')\n",
    "print(f'Tasa equivalente: {tasa_eq:.6%}')"
   ]
  },
  {
   "cell_type": "markdown",
   "metadata": {},
   "source": [
    "Finalmente, para obtener los intereses de la pata flotante, se aplica la tasa equivalente, por el número de días del cupón, al nocional del contrato."
   ]
  },
  {
   "cell_type": "code",
   "execution_count": 48,
   "metadata": {
    "ExecuteTime": {
     "end_time": "2021-12-05T13:46:58.576300Z",
     "start_time": "2021-12-05T13:46:58.571748Z"
    }
   },
   "outputs": [
    {
     "name": "stdout",
     "output_type": "stream",
     "text": [
      "Para un nocional de USD 100,000,000 los intereses de la pata flotante del OIS son: USD 7,583.60 .\n"
     ]
    }
   ],
   "source": [
    "nocional = 100000000\n",
    "interes_flot_ois = nocional * tasa_eq * dias / 360\n",
    "print(f\"Para un nocional de USD {nocional:,.0f} los intereses de la pata flotante del OIS son:\\\n",
    " USD {interes_flot_ois:,.2f} .\")"
   ]
  },
  {
   "cell_type": "markdown",
   "metadata": {},
   "source": [
    "Utilizando la librería:"
   ]
  },
  {
   "cell_type": "code",
   "execution_count": 49,
   "metadata": {
    "ExecuteTime": {
     "end_time": "2021-12-05T13:46:58.583329Z",
     "start_time": "2021-12-05T13:46:58.578870Z"
    }
   },
   "outputs": [
    {
     "name": "stdout",
     "output_type": "stream",
     "text": [
      "Intereses: USD 7,583.60\n"
     ]
    }
   ],
   "source": [
    "qc_tasa_eq = Qcf.QCInterestRate(tasa_eq, Qcf.QCAct360(), Qcf.QCLinearWf())\n",
    "print(f'Intereses: USD {nocional * (qc_tasa_eq.wf(qc_fec_ini, qc_fec_fin) - 1):,.2f}')"
   ]
  },
  {
   "cell_type": "markdown",
   "metadata": {},
   "source": [
    "- Se cotizan distintas madureces (con distinta liquidez) hasta 30Y.\n",
    "\n",
    "\n",
    "- Los tenors (madureces) de corto plazo son contratos que tienen una única compensación al vencimiento.\n",
    "\n",
    "\n",
    "- Los tenors desde 2Y en adelante suelen tener cupones intermedios, siendo las periodicidades más comunes 1M, 3M, 6M y 1Y.\n",
    "\n",
    "\n",
    "- En particular, dado que el índice flotante es overnight, este parámetro es totalmente configurable en un OIS.\n",
    "\n",
    "\n",
    "- Esto no es así en un swap de Libor u otro índice similar, en donde nos vemos restringidos por el plazo de la tasa flotante."
   ]
  },
  {
   "cell_type": "markdown",
   "metadata": {},
   "source": [
    "## Swaps del Mercado Chileno"
   ]
  },
  {
   "cell_type": "markdown",
   "metadata": {},
   "source": [
    "### Swaps Cámara Promedio"
   ]
  },
  {
   "cell_type": "markdown",
   "metadata": {},
   "source": [
    "- En el mercado interbancario chileno, uno de los swaps que se opera regularmente y para el cual es posible encontrar precios de mercado a distintos plazos es el **swap cámara promedio en CLP**.\n",
    "\n",
    "\n",
    "- El comportamiento de la tasa flotante replica el costo de financiamiento (beneficio de inversión) que se tiene tomando (pasando) fondos en forma diaria a la [tasa interbancaria promedio a 1 día](https://www.bcentral.cl/web/banco-central/areas/mercados-financieros) componiendo intereses.\n",
    "\n",
    "\n",
    "- Dicho de otra manera, un swap cámara promedio en CLP, es un OIS, cuyo índice overnight es la tasa interbancaria promedio a 1 día."
   ]
  },
  {
   "cell_type": "markdown",
   "metadata": {},
   "source": [
    "- Los plazos líquidos que los bancos cotizan son 3M, 6M, 9M, 1Y, 1Y6M, plazos anuales entre 2Y y 10Y, 12Y, 15Y, 20Y\n",
    "\n",
    "\n",
    "- Así como los OIS en otras divisas, los cinco plazos más cortos son swaps sin cupones, es decir hay una única compensación de intereses al vencimiento del swap.\n",
    "\n",
    "\n",
    "- Los swaps de plazos más largos tienen pagos semestrales en ambas patas."
   ]
  },
  {
   "cell_type": "code",
   "execution_count": 50,
   "metadata": {
    "ExecuteTime": {
     "end_time": "2021-12-05T13:46:58.592425Z",
     "start_time": "2021-12-05T13:46:58.585911Z"
    }
   },
   "outputs": [
    {
     "data": {
      "text/html": [
       "<img src=\"img/20200917_swap_icp.png\" width=\"540\" height=\"432\"/>"
      ],
      "text/plain": [
       "<IPython.core.display.Image object>"
      ]
     },
     "execution_count": 50,
     "metadata": {},
     "output_type": "execute_result"
    }
   ],
   "source": [
    "Image(url=\"img/20200917_swap_icp.png\", width=450*1.2, height=360*1.2)"
   ]
  },
  {
   "cell_type": "markdown",
   "metadata": {},
   "source": [
    "**Fuente:** Closing de ICAP al 17-09-2020."
   ]
  },
  {
   "cell_type": "markdown",
   "metadata": {},
   "source": [
    "Para evitar ambigüedades en el número de decimales a utilizar al momento de calcular el factor de capitalización de la pata flotante, la Chilean Benchmark Facility (CFA) publica diariamente el Índice Cámara Promedio (ICP):\n",
    "\n",
    "El ICP tiene un valor inicial de 10.000,00 al día 2-9-2002 y se reajusta diariamente según la siguiente fórmula:\n",
    "\n",
    "$$ICP_{t+d}=Round \\left( ICP_{t}\\cdot\\left(1+r_{t}\\cdot \\frac{d}{360} \\right),2 \\right)$$\n",
    "\n",
    "Donde:\n",
    "\n",
    "- $r_{t}$: es la tasa interbancaria promedio a la fecha $t$.\n",
    "- $d$ es el número de días entre $t$ y la próxima fecha hábil.\n",
    "- $ICP_{t}$ es el valor del $ICP$ en la fecha $t$.\n",
    "- $ICP_{t+d}$ es el valor del $ICP$ en la fecha hábil siguiente a $t$.\n",
    "- $Round\\left(x,2\\right)$ redondea el número $x$ a 2 decimales."
   ]
  },
  {
   "cell_type": "markdown",
   "metadata": {},
   "source": [
    "De esta forma la tasa utilizada para calcular el pago de un cupón entre las fechas $T > t$ de la pata flotante de un swap cámara promedio $(TNA)$ se determina a través de:\n",
    "\n",
    "$$TNA=Round\\left(\\left( \\frac{ICP_{T}}{ICP_{t}}-1\\right)\\cdot\\frac{360}{d},4\\right)$$\n",
    "\n",
    "Donde:\n",
    "\n",
    "- TNA: significa *tasa nominal anual*.\n",
    "- $ICP_{\\tau}$: es el valor del $ICP$ la fecha $\\tau=t,T$.\n",
    "- $d$ es el número de días entre $t$ y $T$.\n",
    "- $Round\\left(x,4\\right)$ redondea el número $x$ a 4 decimales."
   ]
  },
  {
   "cell_type": "markdown",
   "metadata": {},
   "source": [
    "#### Flujos de un Swap Cámara Promedio"
   ]
  },
  {
   "cell_type": "markdown",
   "metadata": {},
   "source": [
    "Veamos la estructura de la pata flotante del swap a 2Y."
   ]
  },
  {
   "cell_type": "code",
   "execution_count": 51,
   "metadata": {
    "ExecuteTime": {
     "end_time": "2021-12-05T13:46:58.606639Z",
     "start_time": "2021-12-05T13:46:58.594974Z"
    }
   },
   "outputs": [],
   "source": [
    "# Se da de alta los parámetros requeridos\n",
    "rp = Qcf.RecPay.RECEIVE\n",
    "fecha_inicio = Qcf.QCDate(21, 9, 2021)\n",
    "fecha_final = Qcf.QCDate(21, 9, 2023)\n",
    "bus_adj_rule = Qcf.BusyAdjRules.MODFOLLOW\n",
    "periodicidad_pago = Qcf.Tenor('6M')\n",
    "periodo_irregular_pago = Qcf.StubPeriod.SHORTFRONT # Este es inocuo. O sea si no hay resto, no pasa nada.\n",
    "lag_pago = 0\n",
    "nominal = 1000000.0\n",
    "amort_es_flujo = True\n",
    "spread = .0\n",
    "gearing = 1.0\n",
    "\n",
    "icp_clp_leg = Qcf.LegFactory.build_bullet_icp_clp_leg(\n",
    "    rp, fecha_inicio, fecha_final, bus_adj_rule, periodicidad_pago,\n",
    "    periodo_irregular_pago, bus_cal, lag_pago,\n",
    "    nominal, amort_es_flujo, spread, gearing)"
   ]
  },
  {
   "cell_type": "code",
   "execution_count": 52,
   "metadata": {
    "ExecuteTime": {
     "end_time": "2021-12-05T13:46:58.623788Z",
     "start_time": "2021-12-05T13:46:58.609032Z"
    }
   },
   "outputs": [
    {
     "data": {
      "text/html": [
       "<style  type=\"text/css\" >\n",
       "</style><table id=\"T_d0f6c20a_55d1_11ec_a147_02cba411ec9d\" ><thead>    <tr>        <th class=\"blank level0\" ></th>        <th class=\"col_heading level0 col0\" >fecha_inicial</th>        <th class=\"col_heading level0 col1\" >fecha_final</th>        <th class=\"col_heading level0 col2\" >fecha_pago</th>        <th class=\"col_heading level0 col3\" >nominal</th>        <th class=\"col_heading level0 col4\" >amortizacion</th>        <th class=\"col_heading level0 col5\" >amort_es_flujo</th>        <th class=\"col_heading level0 col6\" >flujo</th>        <th class=\"col_heading level0 col7\" >moneda</th>        <th class=\"col_heading level0 col8\" >icp_inicial</th>        <th class=\"col_heading level0 col9\" >icp_final</th>        <th class=\"col_heading level0 col10\" >valor_tasa</th>        <th class=\"col_heading level0 col11\" >interes</th>        <th class=\"col_heading level0 col12\" >spread</th>        <th class=\"col_heading level0 col13\" >gearing</th>        <th class=\"col_heading level0 col14\" >tipo_tasa</th>    </tr></thead><tbody>\n",
       "                <tr>\n",
       "                        <th id=\"T_d0f6c20a_55d1_11ec_a147_02cba411ec9dlevel0_row0\" class=\"row_heading level0 row0\" >0</th>\n",
       "                        <td id=\"T_d0f6c20a_55d1_11ec_a147_02cba411ec9drow0_col0\" class=\"data row0 col0\" >2021-09-21</td>\n",
       "                        <td id=\"T_d0f6c20a_55d1_11ec_a147_02cba411ec9drow0_col1\" class=\"data row0 col1\" >2022-03-21</td>\n",
       "                        <td id=\"T_d0f6c20a_55d1_11ec_a147_02cba411ec9drow0_col2\" class=\"data row0 col2\" >2022-03-21</td>\n",
       "                        <td id=\"T_d0f6c20a_55d1_11ec_a147_02cba411ec9drow0_col3\" class=\"data row0 col3\" >1,000,000.00</td>\n",
       "                        <td id=\"T_d0f6c20a_55d1_11ec_a147_02cba411ec9drow0_col4\" class=\"data row0 col4\" >0.00</td>\n",
       "                        <td id=\"T_d0f6c20a_55d1_11ec_a147_02cba411ec9drow0_col5\" class=\"data row0 col5\" >True</td>\n",
       "                        <td id=\"T_d0f6c20a_55d1_11ec_a147_02cba411ec9drow0_col6\" class=\"data row0 col6\" >0.00</td>\n",
       "                        <td id=\"T_d0f6c20a_55d1_11ec_a147_02cba411ec9drow0_col7\" class=\"data row0 col7\" >CLP</td>\n",
       "                        <td id=\"T_d0f6c20a_55d1_11ec_a147_02cba411ec9drow0_col8\" class=\"data row0 col8\" >10,000.00</td>\n",
       "                        <td id=\"T_d0f6c20a_55d1_11ec_a147_02cba411ec9drow0_col9\" class=\"data row0 col9\" >10,000.00</td>\n",
       "                        <td id=\"T_d0f6c20a_55d1_11ec_a147_02cba411ec9drow0_col10\" class=\"data row0 col10\" >0.0000%</td>\n",
       "                        <td id=\"T_d0f6c20a_55d1_11ec_a147_02cba411ec9drow0_col11\" class=\"data row0 col11\" >0.00</td>\n",
       "                        <td id=\"T_d0f6c20a_55d1_11ec_a147_02cba411ec9drow0_col12\" class=\"data row0 col12\" >0.0000%</td>\n",
       "                        <td id=\"T_d0f6c20a_55d1_11ec_a147_02cba411ec9drow0_col13\" class=\"data row0 col13\" >1.00</td>\n",
       "                        <td id=\"T_d0f6c20a_55d1_11ec_a147_02cba411ec9drow0_col14\" class=\"data row0 col14\" >LinAct360</td>\n",
       "            </tr>\n",
       "            <tr>\n",
       "                        <th id=\"T_d0f6c20a_55d1_11ec_a147_02cba411ec9dlevel0_row1\" class=\"row_heading level0 row1\" >1</th>\n",
       "                        <td id=\"T_d0f6c20a_55d1_11ec_a147_02cba411ec9drow1_col0\" class=\"data row1 col0\" >2022-03-21</td>\n",
       "                        <td id=\"T_d0f6c20a_55d1_11ec_a147_02cba411ec9drow1_col1\" class=\"data row1 col1\" >2022-09-21</td>\n",
       "                        <td id=\"T_d0f6c20a_55d1_11ec_a147_02cba411ec9drow1_col2\" class=\"data row1 col2\" >2022-09-21</td>\n",
       "                        <td id=\"T_d0f6c20a_55d1_11ec_a147_02cba411ec9drow1_col3\" class=\"data row1 col3\" >1,000,000.00</td>\n",
       "                        <td id=\"T_d0f6c20a_55d1_11ec_a147_02cba411ec9drow1_col4\" class=\"data row1 col4\" >0.00</td>\n",
       "                        <td id=\"T_d0f6c20a_55d1_11ec_a147_02cba411ec9drow1_col5\" class=\"data row1 col5\" >True</td>\n",
       "                        <td id=\"T_d0f6c20a_55d1_11ec_a147_02cba411ec9drow1_col6\" class=\"data row1 col6\" >0.00</td>\n",
       "                        <td id=\"T_d0f6c20a_55d1_11ec_a147_02cba411ec9drow1_col7\" class=\"data row1 col7\" >CLP</td>\n",
       "                        <td id=\"T_d0f6c20a_55d1_11ec_a147_02cba411ec9drow1_col8\" class=\"data row1 col8\" >10,000.00</td>\n",
       "                        <td id=\"T_d0f6c20a_55d1_11ec_a147_02cba411ec9drow1_col9\" class=\"data row1 col9\" >10,000.00</td>\n",
       "                        <td id=\"T_d0f6c20a_55d1_11ec_a147_02cba411ec9drow1_col10\" class=\"data row1 col10\" >0.0000%</td>\n",
       "                        <td id=\"T_d0f6c20a_55d1_11ec_a147_02cba411ec9drow1_col11\" class=\"data row1 col11\" >0.00</td>\n",
       "                        <td id=\"T_d0f6c20a_55d1_11ec_a147_02cba411ec9drow1_col12\" class=\"data row1 col12\" >0.0000%</td>\n",
       "                        <td id=\"T_d0f6c20a_55d1_11ec_a147_02cba411ec9drow1_col13\" class=\"data row1 col13\" >1.00</td>\n",
       "                        <td id=\"T_d0f6c20a_55d1_11ec_a147_02cba411ec9drow1_col14\" class=\"data row1 col14\" >LinAct360</td>\n",
       "            </tr>\n",
       "            <tr>\n",
       "                        <th id=\"T_d0f6c20a_55d1_11ec_a147_02cba411ec9dlevel0_row2\" class=\"row_heading level0 row2\" >2</th>\n",
       "                        <td id=\"T_d0f6c20a_55d1_11ec_a147_02cba411ec9drow2_col0\" class=\"data row2 col0\" >2022-09-21</td>\n",
       "                        <td id=\"T_d0f6c20a_55d1_11ec_a147_02cba411ec9drow2_col1\" class=\"data row2 col1\" >2023-03-21</td>\n",
       "                        <td id=\"T_d0f6c20a_55d1_11ec_a147_02cba411ec9drow2_col2\" class=\"data row2 col2\" >2023-03-21</td>\n",
       "                        <td id=\"T_d0f6c20a_55d1_11ec_a147_02cba411ec9drow2_col3\" class=\"data row2 col3\" >1,000,000.00</td>\n",
       "                        <td id=\"T_d0f6c20a_55d1_11ec_a147_02cba411ec9drow2_col4\" class=\"data row2 col4\" >0.00</td>\n",
       "                        <td id=\"T_d0f6c20a_55d1_11ec_a147_02cba411ec9drow2_col5\" class=\"data row2 col5\" >True</td>\n",
       "                        <td id=\"T_d0f6c20a_55d1_11ec_a147_02cba411ec9drow2_col6\" class=\"data row2 col6\" >0.00</td>\n",
       "                        <td id=\"T_d0f6c20a_55d1_11ec_a147_02cba411ec9drow2_col7\" class=\"data row2 col7\" >CLP</td>\n",
       "                        <td id=\"T_d0f6c20a_55d1_11ec_a147_02cba411ec9drow2_col8\" class=\"data row2 col8\" >10,000.00</td>\n",
       "                        <td id=\"T_d0f6c20a_55d1_11ec_a147_02cba411ec9drow2_col9\" class=\"data row2 col9\" >10,000.00</td>\n",
       "                        <td id=\"T_d0f6c20a_55d1_11ec_a147_02cba411ec9drow2_col10\" class=\"data row2 col10\" >0.0000%</td>\n",
       "                        <td id=\"T_d0f6c20a_55d1_11ec_a147_02cba411ec9drow2_col11\" class=\"data row2 col11\" >0.00</td>\n",
       "                        <td id=\"T_d0f6c20a_55d1_11ec_a147_02cba411ec9drow2_col12\" class=\"data row2 col12\" >0.0000%</td>\n",
       "                        <td id=\"T_d0f6c20a_55d1_11ec_a147_02cba411ec9drow2_col13\" class=\"data row2 col13\" >1.00</td>\n",
       "                        <td id=\"T_d0f6c20a_55d1_11ec_a147_02cba411ec9drow2_col14\" class=\"data row2 col14\" >LinAct360</td>\n",
       "            </tr>\n",
       "            <tr>\n",
       "                        <th id=\"T_d0f6c20a_55d1_11ec_a147_02cba411ec9dlevel0_row3\" class=\"row_heading level0 row3\" >3</th>\n",
       "                        <td id=\"T_d0f6c20a_55d1_11ec_a147_02cba411ec9drow3_col0\" class=\"data row3 col0\" >2023-03-21</td>\n",
       "                        <td id=\"T_d0f6c20a_55d1_11ec_a147_02cba411ec9drow3_col1\" class=\"data row3 col1\" >2023-09-21</td>\n",
       "                        <td id=\"T_d0f6c20a_55d1_11ec_a147_02cba411ec9drow3_col2\" class=\"data row3 col2\" >2023-09-21</td>\n",
       "                        <td id=\"T_d0f6c20a_55d1_11ec_a147_02cba411ec9drow3_col3\" class=\"data row3 col3\" >1,000,000.00</td>\n",
       "                        <td id=\"T_d0f6c20a_55d1_11ec_a147_02cba411ec9drow3_col4\" class=\"data row3 col4\" >1,000,000.00</td>\n",
       "                        <td id=\"T_d0f6c20a_55d1_11ec_a147_02cba411ec9drow3_col5\" class=\"data row3 col5\" >True</td>\n",
       "                        <td id=\"T_d0f6c20a_55d1_11ec_a147_02cba411ec9drow3_col6\" class=\"data row3 col6\" >1,000,000.00</td>\n",
       "                        <td id=\"T_d0f6c20a_55d1_11ec_a147_02cba411ec9drow3_col7\" class=\"data row3 col7\" >CLP</td>\n",
       "                        <td id=\"T_d0f6c20a_55d1_11ec_a147_02cba411ec9drow3_col8\" class=\"data row3 col8\" >10,000.00</td>\n",
       "                        <td id=\"T_d0f6c20a_55d1_11ec_a147_02cba411ec9drow3_col9\" class=\"data row3 col9\" >10,000.00</td>\n",
       "                        <td id=\"T_d0f6c20a_55d1_11ec_a147_02cba411ec9drow3_col10\" class=\"data row3 col10\" >0.0000%</td>\n",
       "                        <td id=\"T_d0f6c20a_55d1_11ec_a147_02cba411ec9drow3_col11\" class=\"data row3 col11\" >0.00</td>\n",
       "                        <td id=\"T_d0f6c20a_55d1_11ec_a147_02cba411ec9drow3_col12\" class=\"data row3 col12\" >0.0000%</td>\n",
       "                        <td id=\"T_d0f6c20a_55d1_11ec_a147_02cba411ec9drow3_col13\" class=\"data row3 col13\" >1.00</td>\n",
       "                        <td id=\"T_d0f6c20a_55d1_11ec_a147_02cba411ec9drow3_col14\" class=\"data row3 col14\" >LinAct360</td>\n",
       "            </tr>\n",
       "    </tbody></table>"
      ],
      "text/plain": [
       "<pandas.io.formats.style.Styler at 0x7fdd9475a780>"
      ]
     },
     "execution_count": 52,
     "metadata": {},
     "output_type": "execute_result"
    }
   ],
   "source": [
    "aux.show_leg(icp_clp_leg, 'IcpClpCashflow').style.format(format_dict)"
   ]
  },
  {
   "cell_type": "markdown",
   "metadata": {},
   "source": [
    "Al construir la estructura, a todos los valores de ICP se les asigna el valor por defecto 10,000.00. Veamos como actualizarlo."
   ]
  },
  {
   "cell_type": "code",
   "execution_count": 53,
   "metadata": {
    "ExecuteTime": {
     "end_time": "2021-12-05T13:46:58.631044Z",
     "start_time": "2021-12-05T13:46:58.625693Z"
    }
   },
   "outputs": [
    {
     "name": "stdout",
     "output_type": "stream",
     "text": [
      "TPM: 1.50%\n",
      "ICP Inicial: 10,000.00\n"
     ]
    }
   ],
   "source": [
    "tpm = .015\n",
    "icp0 = 10000.0\n",
    "\n",
    "print(f'TPM: {tpm:.2%}')\n",
    "print(f'ICP Inicial: {icp0:,.2f}')\n",
    "\n",
    "for i in range(icp_clp_leg.size()):\n",
    "    cshflw = icp_clp_leg.get_cashflow_at(i)\n",
    "    icp1 = icp0 * (1 + tpm / 2)\n",
    "    cshflw.set_start_date_icp(icp0)\n",
    "    cshflw.set_end_date_icp(icp1)\n",
    "    icp0 = icp1"
   ]
  },
  {
   "cell_type": "code",
   "execution_count": 54,
   "metadata": {
    "ExecuteTime": {
     "end_time": "2021-12-05T13:46:58.648111Z",
     "start_time": "2021-12-05T13:46:58.632977Z"
    }
   },
   "outputs": [
    {
     "data": {
      "text/html": [
       "<style  type=\"text/css\" >\n",
       "</style><table id=\"T_d0f6c20b_55d1_11ec_a147_02cba411ec9d\" ><thead>    <tr>        <th class=\"blank level0\" ></th>        <th class=\"col_heading level0 col0\" >fecha_inicial</th>        <th class=\"col_heading level0 col1\" >fecha_final</th>        <th class=\"col_heading level0 col2\" >fecha_pago</th>        <th class=\"col_heading level0 col3\" >nominal</th>        <th class=\"col_heading level0 col4\" >amortizacion</th>        <th class=\"col_heading level0 col5\" >amort_es_flujo</th>        <th class=\"col_heading level0 col6\" >flujo</th>        <th class=\"col_heading level0 col7\" >moneda</th>        <th class=\"col_heading level0 col8\" >icp_inicial</th>        <th class=\"col_heading level0 col9\" >icp_final</th>        <th class=\"col_heading level0 col10\" >valor_tasa</th>        <th class=\"col_heading level0 col11\" >interes</th>        <th class=\"col_heading level0 col12\" >spread</th>        <th class=\"col_heading level0 col13\" >gearing</th>        <th class=\"col_heading level0 col14\" >tipo_tasa</th>    </tr></thead><tbody>\n",
       "                <tr>\n",
       "                        <th id=\"T_d0f6c20b_55d1_11ec_a147_02cba411ec9dlevel0_row0\" class=\"row_heading level0 row0\" >0</th>\n",
       "                        <td id=\"T_d0f6c20b_55d1_11ec_a147_02cba411ec9drow0_col0\" class=\"data row0 col0\" >2021-09-21</td>\n",
       "                        <td id=\"T_d0f6c20b_55d1_11ec_a147_02cba411ec9drow0_col1\" class=\"data row0 col1\" >2022-03-21</td>\n",
       "                        <td id=\"T_d0f6c20b_55d1_11ec_a147_02cba411ec9drow0_col2\" class=\"data row0 col2\" >2022-03-21</td>\n",
       "                        <td id=\"T_d0f6c20b_55d1_11ec_a147_02cba411ec9drow0_col3\" class=\"data row0 col3\" >1,000,000.00</td>\n",
       "                        <td id=\"T_d0f6c20b_55d1_11ec_a147_02cba411ec9drow0_col4\" class=\"data row0 col4\" >0.00</td>\n",
       "                        <td id=\"T_d0f6c20b_55d1_11ec_a147_02cba411ec9drow0_col5\" class=\"data row0 col5\" >True</td>\n",
       "                        <td id=\"T_d0f6c20b_55d1_11ec_a147_02cba411ec9drow0_col6\" class=\"data row0 col6\" >7,491.39</td>\n",
       "                        <td id=\"T_d0f6c20b_55d1_11ec_a147_02cba411ec9drow0_col7\" class=\"data row0 col7\" >CLP</td>\n",
       "                        <td id=\"T_d0f6c20b_55d1_11ec_a147_02cba411ec9drow0_col8\" class=\"data row0 col8\" >10,000.00</td>\n",
       "                        <td id=\"T_d0f6c20b_55d1_11ec_a147_02cba411ec9drow0_col9\" class=\"data row0 col9\" >10,075.00</td>\n",
       "                        <td id=\"T_d0f6c20b_55d1_11ec_a147_02cba411ec9drow0_col10\" class=\"data row0 col10\" >1.4900%</td>\n",
       "                        <td id=\"T_d0f6c20b_55d1_11ec_a147_02cba411ec9drow0_col11\" class=\"data row0 col11\" >7,491.39</td>\n",
       "                        <td id=\"T_d0f6c20b_55d1_11ec_a147_02cba411ec9drow0_col12\" class=\"data row0 col12\" >0.0000%</td>\n",
       "                        <td id=\"T_d0f6c20b_55d1_11ec_a147_02cba411ec9drow0_col13\" class=\"data row0 col13\" >1.00</td>\n",
       "                        <td id=\"T_d0f6c20b_55d1_11ec_a147_02cba411ec9drow0_col14\" class=\"data row0 col14\" >LinAct360</td>\n",
       "            </tr>\n",
       "            <tr>\n",
       "                        <th id=\"T_d0f6c20b_55d1_11ec_a147_02cba411ec9dlevel0_row1\" class=\"row_heading level0 row1\" >1</th>\n",
       "                        <td id=\"T_d0f6c20b_55d1_11ec_a147_02cba411ec9drow1_col0\" class=\"data row1 col0\" >2022-03-21</td>\n",
       "                        <td id=\"T_d0f6c20b_55d1_11ec_a147_02cba411ec9drow1_col1\" class=\"data row1 col1\" >2022-09-21</td>\n",
       "                        <td id=\"T_d0f6c20b_55d1_11ec_a147_02cba411ec9drow1_col2\" class=\"data row1 col2\" >2022-09-21</td>\n",
       "                        <td id=\"T_d0f6c20b_55d1_11ec_a147_02cba411ec9drow1_col3\" class=\"data row1 col3\" >1,000,000.00</td>\n",
       "                        <td id=\"T_d0f6c20b_55d1_11ec_a147_02cba411ec9drow1_col4\" class=\"data row1 col4\" >0.00</td>\n",
       "                        <td id=\"T_d0f6c20b_55d1_11ec_a147_02cba411ec9drow1_col5\" class=\"data row1 col5\" >True</td>\n",
       "                        <td id=\"T_d0f6c20b_55d1_11ec_a147_02cba411ec9drow1_col6\" class=\"data row1 col6\" >7,513.33</td>\n",
       "                        <td id=\"T_d0f6c20b_55d1_11ec_a147_02cba411ec9drow1_col7\" class=\"data row1 col7\" >CLP</td>\n",
       "                        <td id=\"T_d0f6c20b_55d1_11ec_a147_02cba411ec9drow1_col8\" class=\"data row1 col8\" >10,075.00</td>\n",
       "                        <td id=\"T_d0f6c20b_55d1_11ec_a147_02cba411ec9drow1_col9\" class=\"data row1 col9\" >10,150.56</td>\n",
       "                        <td id=\"T_d0f6c20b_55d1_11ec_a147_02cba411ec9drow1_col10\" class=\"data row1 col10\" >1.4700%</td>\n",
       "                        <td id=\"T_d0f6c20b_55d1_11ec_a147_02cba411ec9drow1_col11\" class=\"data row1 col11\" >7,513.33</td>\n",
       "                        <td id=\"T_d0f6c20b_55d1_11ec_a147_02cba411ec9drow1_col12\" class=\"data row1 col12\" >0.0000%</td>\n",
       "                        <td id=\"T_d0f6c20b_55d1_11ec_a147_02cba411ec9drow1_col13\" class=\"data row1 col13\" >1.00</td>\n",
       "                        <td id=\"T_d0f6c20b_55d1_11ec_a147_02cba411ec9drow1_col14\" class=\"data row1 col14\" >LinAct360</td>\n",
       "            </tr>\n",
       "            <tr>\n",
       "                        <th id=\"T_d0f6c20b_55d1_11ec_a147_02cba411ec9dlevel0_row2\" class=\"row_heading level0 row2\" >2</th>\n",
       "                        <td id=\"T_d0f6c20b_55d1_11ec_a147_02cba411ec9drow2_col0\" class=\"data row2 col0\" >2022-09-21</td>\n",
       "                        <td id=\"T_d0f6c20b_55d1_11ec_a147_02cba411ec9drow2_col1\" class=\"data row2 col1\" >2023-03-21</td>\n",
       "                        <td id=\"T_d0f6c20b_55d1_11ec_a147_02cba411ec9drow2_col2\" class=\"data row2 col2\" >2023-03-21</td>\n",
       "                        <td id=\"T_d0f6c20b_55d1_11ec_a147_02cba411ec9drow2_col3\" class=\"data row2 col3\" >1,000,000.00</td>\n",
       "                        <td id=\"T_d0f6c20b_55d1_11ec_a147_02cba411ec9drow2_col4\" class=\"data row2 col4\" >0.00</td>\n",
       "                        <td id=\"T_d0f6c20b_55d1_11ec_a147_02cba411ec9drow2_col5\" class=\"data row2 col5\" >True</td>\n",
       "                        <td id=\"T_d0f6c20b_55d1_11ec_a147_02cba411ec9drow2_col6\" class=\"data row2 col6\" >7,491.39</td>\n",
       "                        <td id=\"T_d0f6c20b_55d1_11ec_a147_02cba411ec9drow2_col7\" class=\"data row2 col7\" >CLP</td>\n",
       "                        <td id=\"T_d0f6c20b_55d1_11ec_a147_02cba411ec9drow2_col8\" class=\"data row2 col8\" >10,150.56</td>\n",
       "                        <td id=\"T_d0f6c20b_55d1_11ec_a147_02cba411ec9drow2_col9\" class=\"data row2 col9\" >10,226.69</td>\n",
       "                        <td id=\"T_d0f6c20b_55d1_11ec_a147_02cba411ec9drow2_col10\" class=\"data row2 col10\" >1.4900%</td>\n",
       "                        <td id=\"T_d0f6c20b_55d1_11ec_a147_02cba411ec9drow2_col11\" class=\"data row2 col11\" >7,491.39</td>\n",
       "                        <td id=\"T_d0f6c20b_55d1_11ec_a147_02cba411ec9drow2_col12\" class=\"data row2 col12\" >0.0000%</td>\n",
       "                        <td id=\"T_d0f6c20b_55d1_11ec_a147_02cba411ec9drow2_col13\" class=\"data row2 col13\" >1.00</td>\n",
       "                        <td id=\"T_d0f6c20b_55d1_11ec_a147_02cba411ec9drow2_col14\" class=\"data row2 col14\" >LinAct360</td>\n",
       "            </tr>\n",
       "            <tr>\n",
       "                        <th id=\"T_d0f6c20b_55d1_11ec_a147_02cba411ec9dlevel0_row3\" class=\"row_heading level0 row3\" >3</th>\n",
       "                        <td id=\"T_d0f6c20b_55d1_11ec_a147_02cba411ec9drow3_col0\" class=\"data row3 col0\" >2023-03-21</td>\n",
       "                        <td id=\"T_d0f6c20b_55d1_11ec_a147_02cba411ec9drow3_col1\" class=\"data row3 col1\" >2023-09-21</td>\n",
       "                        <td id=\"T_d0f6c20b_55d1_11ec_a147_02cba411ec9drow3_col2\" class=\"data row3 col2\" >2023-09-21</td>\n",
       "                        <td id=\"T_d0f6c20b_55d1_11ec_a147_02cba411ec9drow3_col3\" class=\"data row3 col3\" >1,000,000.00</td>\n",
       "                        <td id=\"T_d0f6c20b_55d1_11ec_a147_02cba411ec9drow3_col4\" class=\"data row3 col4\" >1,000,000.00</td>\n",
       "                        <td id=\"T_d0f6c20b_55d1_11ec_a147_02cba411ec9drow3_col5\" class=\"data row3 col5\" >True</td>\n",
       "                        <td id=\"T_d0f6c20b_55d1_11ec_a147_02cba411ec9drow3_col6\" class=\"data row3 col6\" >1,007,513.33</td>\n",
       "                        <td id=\"T_d0f6c20b_55d1_11ec_a147_02cba411ec9drow3_col7\" class=\"data row3 col7\" >CLP</td>\n",
       "                        <td id=\"T_d0f6c20b_55d1_11ec_a147_02cba411ec9drow3_col8\" class=\"data row3 col8\" >10,226.69</td>\n",
       "                        <td id=\"T_d0f6c20b_55d1_11ec_a147_02cba411ec9drow3_col9\" class=\"data row3 col9\" >10,303.39</td>\n",
       "                        <td id=\"T_d0f6c20b_55d1_11ec_a147_02cba411ec9drow3_col10\" class=\"data row3 col10\" >1.4700%</td>\n",
       "                        <td id=\"T_d0f6c20b_55d1_11ec_a147_02cba411ec9drow3_col11\" class=\"data row3 col11\" >7,513.33</td>\n",
       "                        <td id=\"T_d0f6c20b_55d1_11ec_a147_02cba411ec9drow3_col12\" class=\"data row3 col12\" >0.0000%</td>\n",
       "                        <td id=\"T_d0f6c20b_55d1_11ec_a147_02cba411ec9drow3_col13\" class=\"data row3 col13\" >1.00</td>\n",
       "                        <td id=\"T_d0f6c20b_55d1_11ec_a147_02cba411ec9drow3_col14\" class=\"data row3 col14\" >LinAct360</td>\n",
       "            </tr>\n",
       "    </tbody></table>"
      ],
      "text/plain": [
       "<pandas.io.formats.style.Styler at 0x7fdd94793320>"
      ]
     },
     "execution_count": 54,
     "metadata": {},
     "output_type": "execute_result"
    }
   ],
   "source": [
    "aux.show_leg(icp_clp_leg, 'IcpClpCashflow').style.format(format_dict)"
   ]
  },
  {
   "cell_type": "markdown",
   "metadata": {},
   "source": [
    "Se exporta a Excel la tabla anterior:"
   ]
  },
  {
   "cell_type": "code",
   "execution_count": 63,
   "metadata": {
    "ExecuteTime": {
     "end_time": "2021-12-05T13:48:26.700555Z",
     "start_time": "2021-12-05T13:48:26.680256Z"
    }
   },
   "outputs": [],
   "source": [
    "aux.show_leg(icp_clp_leg, 'IcpClpCashflow').to_excel(\n",
    "    'data/tabla_desarrollo_para_icp-ois.xlsx',\n",
    "    index=False\n",
    ")"
   ]
  },
  {
   "cell_type": "markdown",
   "metadata": {},
   "source": [
    "**Tarea:** replicar la tabla de arriba."
   ]
  },
  {
   "cell_type": "code",
   "execution_count": 55,
   "metadata": {
    "ExecuteTime": {
     "end_time": "2021-12-05T13:46:58.660533Z",
     "start_time": "2021-12-05T13:46:58.650555Z"
    }
   },
   "outputs": [],
   "source": [
    "# Recibo o pago los flujos de esta pata\n",
    "rp = Qcf.RecPay.PAY\n",
    "\n",
    "# Fecha de inicio de devengo del primer cupón\n",
    "fecha_inicio = Qcf.QCDate(21, 9, 2021)\n",
    "\n",
    "# Fecha final de devengo, antes de ajustes, del último cupón\n",
    "fecha_final = Qcf.QCDate(21, 9, 2023)\n",
    "\n",
    "# Regla para ajustes de días feriados\n",
    "bus_adj_rule = Qcf.BusyAdjRules.MODFOLLOW\n",
    "\n",
    "# Periodicidad de pago\n",
    "periodicidad = Qcf.Tenor('6M')\n",
    "\n",
    "# Tipo de período irregular (si lo hay)\n",
    "periodo_irregular = Qcf.StubPeriod.SHORTFRONT\n",
    "\n",
    "# Número de días después de la fecha final de devengo en que se paga el flujo\n",
    "lag_pago = 0\n",
    "\n",
    "# Nocional del contrato\n",
    "nocional = 1000000.0\n",
    "amort_es_flujo = True\n",
    "valor_tasa = .00615\n",
    "tasa_cupon = Qcf.QCInterestRate(valor_tasa, Qcf.QCAct360(), Qcf.QCLinearWf())\n",
    "moneda = Qcf.QCCLP()\n",
    "es_bono = False\n",
    "\n",
    "# Se da de alta el objeto\n",
    "fixed_rate_leg_icp = Qcf.LegFactory.build_bullet_fixed_rate_leg(\n",
    "    rp,\n",
    "    fecha_inicio,\n",
    "    fecha_final,\n",
    "    bus_adj_rule,\n",
    "    periodicidad,\n",
    "    periodo_irregular,\n",
    "    bus_cal,\n",
    "    lag_pago,\n",
    "    nocional,\n",
    "    amort_es_flujo,\n",
    "    tasa_cupon,\n",
    "    moneda,\n",
    "    es_bono)"
   ]
  },
  {
   "cell_type": "code",
   "execution_count": 56,
   "metadata": {
    "ExecuteTime": {
     "end_time": "2021-12-05T13:46:58.677389Z",
     "start_time": "2021-12-05T13:46:58.663330Z"
    }
   },
   "outputs": [
    {
     "data": {
      "text/html": [
       "<style  type=\"text/css\" >\n",
       "</style><table id=\"T_d0f6c20c_55d1_11ec_a147_02cba411ec9d\" ><thead>    <tr>        <th class=\"blank level0\" ></th>        <th class=\"col_heading level0 col0\" >fecha_inicial</th>        <th class=\"col_heading level0 col1\" >fecha_final</th>        <th class=\"col_heading level0 col2\" >fecha_pago</th>        <th class=\"col_heading level0 col3\" >nominal</th>        <th class=\"col_heading level0 col4\" >amortizacion</th>        <th class=\"col_heading level0 col5\" >interes</th>        <th class=\"col_heading level0 col6\" >amort_es_flujo</th>        <th class=\"col_heading level0 col7\" >flujo</th>        <th class=\"col_heading level0 col8\" >moneda</th>        <th class=\"col_heading level0 col9\" >valor_tasa</th>        <th class=\"col_heading level0 col10\" >tipo_tasa</th>    </tr></thead><tbody>\n",
       "                <tr>\n",
       "                        <th id=\"T_d0f6c20c_55d1_11ec_a147_02cba411ec9dlevel0_row0\" class=\"row_heading level0 row0\" >0</th>\n",
       "                        <td id=\"T_d0f6c20c_55d1_11ec_a147_02cba411ec9drow0_col0\" class=\"data row0 col0\" >2021-09-21</td>\n",
       "                        <td id=\"T_d0f6c20c_55d1_11ec_a147_02cba411ec9drow0_col1\" class=\"data row0 col1\" >2022-03-21</td>\n",
       "                        <td id=\"T_d0f6c20c_55d1_11ec_a147_02cba411ec9drow0_col2\" class=\"data row0 col2\" >2022-03-21</td>\n",
       "                        <td id=\"T_d0f6c20c_55d1_11ec_a147_02cba411ec9drow0_col3\" class=\"data row0 col3\" >-1,000,000.00</td>\n",
       "                        <td id=\"T_d0f6c20c_55d1_11ec_a147_02cba411ec9drow0_col4\" class=\"data row0 col4\" >0.00</td>\n",
       "                        <td id=\"T_d0f6c20c_55d1_11ec_a147_02cba411ec9drow0_col5\" class=\"data row0 col5\" >-3,092.08</td>\n",
       "                        <td id=\"T_d0f6c20c_55d1_11ec_a147_02cba411ec9drow0_col6\" class=\"data row0 col6\" >True</td>\n",
       "                        <td id=\"T_d0f6c20c_55d1_11ec_a147_02cba411ec9drow0_col7\" class=\"data row0 col7\" >-3,092.08</td>\n",
       "                        <td id=\"T_d0f6c20c_55d1_11ec_a147_02cba411ec9drow0_col8\" class=\"data row0 col8\" >CLP</td>\n",
       "                        <td id=\"T_d0f6c20c_55d1_11ec_a147_02cba411ec9drow0_col9\" class=\"data row0 col9\" >0.6150%</td>\n",
       "                        <td id=\"T_d0f6c20c_55d1_11ec_a147_02cba411ec9drow0_col10\" class=\"data row0 col10\" >LinAct360</td>\n",
       "            </tr>\n",
       "            <tr>\n",
       "                        <th id=\"T_d0f6c20c_55d1_11ec_a147_02cba411ec9dlevel0_row1\" class=\"row_heading level0 row1\" >1</th>\n",
       "                        <td id=\"T_d0f6c20c_55d1_11ec_a147_02cba411ec9drow1_col0\" class=\"data row1 col0\" >2022-03-21</td>\n",
       "                        <td id=\"T_d0f6c20c_55d1_11ec_a147_02cba411ec9drow1_col1\" class=\"data row1 col1\" >2022-09-21</td>\n",
       "                        <td id=\"T_d0f6c20c_55d1_11ec_a147_02cba411ec9drow1_col2\" class=\"data row1 col2\" >2022-09-21</td>\n",
       "                        <td id=\"T_d0f6c20c_55d1_11ec_a147_02cba411ec9drow1_col3\" class=\"data row1 col3\" >-1,000,000.00</td>\n",
       "                        <td id=\"T_d0f6c20c_55d1_11ec_a147_02cba411ec9drow1_col4\" class=\"data row1 col4\" >0.00</td>\n",
       "                        <td id=\"T_d0f6c20c_55d1_11ec_a147_02cba411ec9drow1_col5\" class=\"data row1 col5\" >-3,143.33</td>\n",
       "                        <td id=\"T_d0f6c20c_55d1_11ec_a147_02cba411ec9drow1_col6\" class=\"data row1 col6\" >True</td>\n",
       "                        <td id=\"T_d0f6c20c_55d1_11ec_a147_02cba411ec9drow1_col7\" class=\"data row1 col7\" >-3,143.33</td>\n",
       "                        <td id=\"T_d0f6c20c_55d1_11ec_a147_02cba411ec9drow1_col8\" class=\"data row1 col8\" >CLP</td>\n",
       "                        <td id=\"T_d0f6c20c_55d1_11ec_a147_02cba411ec9drow1_col9\" class=\"data row1 col9\" >0.6150%</td>\n",
       "                        <td id=\"T_d0f6c20c_55d1_11ec_a147_02cba411ec9drow1_col10\" class=\"data row1 col10\" >LinAct360</td>\n",
       "            </tr>\n",
       "            <tr>\n",
       "                        <th id=\"T_d0f6c20c_55d1_11ec_a147_02cba411ec9dlevel0_row2\" class=\"row_heading level0 row2\" >2</th>\n",
       "                        <td id=\"T_d0f6c20c_55d1_11ec_a147_02cba411ec9drow2_col0\" class=\"data row2 col0\" >2022-09-21</td>\n",
       "                        <td id=\"T_d0f6c20c_55d1_11ec_a147_02cba411ec9drow2_col1\" class=\"data row2 col1\" >2023-03-21</td>\n",
       "                        <td id=\"T_d0f6c20c_55d1_11ec_a147_02cba411ec9drow2_col2\" class=\"data row2 col2\" >2023-03-21</td>\n",
       "                        <td id=\"T_d0f6c20c_55d1_11ec_a147_02cba411ec9drow2_col3\" class=\"data row2 col3\" >-1,000,000.00</td>\n",
       "                        <td id=\"T_d0f6c20c_55d1_11ec_a147_02cba411ec9drow2_col4\" class=\"data row2 col4\" >0.00</td>\n",
       "                        <td id=\"T_d0f6c20c_55d1_11ec_a147_02cba411ec9drow2_col5\" class=\"data row2 col5\" >-3,092.08</td>\n",
       "                        <td id=\"T_d0f6c20c_55d1_11ec_a147_02cba411ec9drow2_col6\" class=\"data row2 col6\" >True</td>\n",
       "                        <td id=\"T_d0f6c20c_55d1_11ec_a147_02cba411ec9drow2_col7\" class=\"data row2 col7\" >-3,092.08</td>\n",
       "                        <td id=\"T_d0f6c20c_55d1_11ec_a147_02cba411ec9drow2_col8\" class=\"data row2 col8\" >CLP</td>\n",
       "                        <td id=\"T_d0f6c20c_55d1_11ec_a147_02cba411ec9drow2_col9\" class=\"data row2 col9\" >0.6150%</td>\n",
       "                        <td id=\"T_d0f6c20c_55d1_11ec_a147_02cba411ec9drow2_col10\" class=\"data row2 col10\" >LinAct360</td>\n",
       "            </tr>\n",
       "            <tr>\n",
       "                        <th id=\"T_d0f6c20c_55d1_11ec_a147_02cba411ec9dlevel0_row3\" class=\"row_heading level0 row3\" >3</th>\n",
       "                        <td id=\"T_d0f6c20c_55d1_11ec_a147_02cba411ec9drow3_col0\" class=\"data row3 col0\" >2023-03-21</td>\n",
       "                        <td id=\"T_d0f6c20c_55d1_11ec_a147_02cba411ec9drow3_col1\" class=\"data row3 col1\" >2023-09-21</td>\n",
       "                        <td id=\"T_d0f6c20c_55d1_11ec_a147_02cba411ec9drow3_col2\" class=\"data row3 col2\" >2023-09-21</td>\n",
       "                        <td id=\"T_d0f6c20c_55d1_11ec_a147_02cba411ec9drow3_col3\" class=\"data row3 col3\" >-1,000,000.00</td>\n",
       "                        <td id=\"T_d0f6c20c_55d1_11ec_a147_02cba411ec9drow3_col4\" class=\"data row3 col4\" >-1,000,000.00</td>\n",
       "                        <td id=\"T_d0f6c20c_55d1_11ec_a147_02cba411ec9drow3_col5\" class=\"data row3 col5\" >-3,143.33</td>\n",
       "                        <td id=\"T_d0f6c20c_55d1_11ec_a147_02cba411ec9drow3_col6\" class=\"data row3 col6\" >True</td>\n",
       "                        <td id=\"T_d0f6c20c_55d1_11ec_a147_02cba411ec9drow3_col7\" class=\"data row3 col7\" >-1,003,143.33</td>\n",
       "                        <td id=\"T_d0f6c20c_55d1_11ec_a147_02cba411ec9drow3_col8\" class=\"data row3 col8\" >CLP</td>\n",
       "                        <td id=\"T_d0f6c20c_55d1_11ec_a147_02cba411ec9drow3_col9\" class=\"data row3 col9\" >0.6150%</td>\n",
       "                        <td id=\"T_d0f6c20c_55d1_11ec_a147_02cba411ec9drow3_col10\" class=\"data row3 col10\" >LinAct360</td>\n",
       "            </tr>\n",
       "    </tbody></table>"
      ],
      "text/plain": [
       "<pandas.io.formats.style.Styler at 0x7fdd9470a400>"
      ]
     },
     "execution_count": 56,
     "metadata": {},
     "output_type": "execute_result"
    }
   ],
   "source": [
    "aux.show_leg(fixed_rate_leg_icp, 'FixedRateCashflow').style.format(format_dict)"
   ]
  },
  {
   "cell_type": "markdown",
   "metadata": {},
   "source": [
    "**Tarea:** Replicar la tabla de arriba."
   ]
  },
  {
   "cell_type": "markdown",
   "metadata": {},
   "source": [
    "### Cross Currency Swap UF vs Cámara Promedio"
   ]
  },
  {
   "cell_type": "markdown",
   "metadata": {},
   "source": [
    "Además del swap cámara promedio, en Chile también se transa un cross currency swap CLFCLP.\n",
    "Este contrato, tiene una pata en UF a tasa fija y una pata en CLP con la misma estructura que la pata flotante de un swap cámara promedio.\n",
    "\n",
    "- Para este producto, los plazos líquidos que los bancos cotizan son 3M, 6M, 9M, 1Y, 1Y6M, plazos anuales entre 2Y y 10Y, 12Y, 15Y y 20Y.\n",
    "\n",
    "\n",
    "- También en este caso, los cinco primeros plazos son swaps sin cupones, es decir hay una única compensación de intereses al vencimiento del swap.\n",
    "\n",
    "\n",
    "- Adicionalmente, los primeros cinco plazos son con tenor “a la chilena”, es decir, venciendo los días 9 o el día hábil anterior en caso de feriado.\n",
    "\n",
    "\n",
    "- Estos contratos, además, compensan al vencimiento, los valores de los nocionales en CLP y CLF."
   ]
  },
  {
   "cell_type": "code",
   "execution_count": 57,
   "metadata": {
    "ExecuteTime": {
     "end_time": "2021-12-05T13:46:58.684596Z",
     "start_time": "2021-12-05T13:46:58.679622Z"
    }
   },
   "outputs": [
    {
     "data": {
      "text/html": [
       "<img src=\"img/20200917_icap_xccy_clfclp.png\" width=\"540\" height=\"432\"/>"
      ],
      "text/plain": [
       "<IPython.core.display.Image object>"
      ]
     },
     "execution_count": 57,
     "metadata": {},
     "output_type": "execute_result"
    }
   ],
   "source": [
    "Image(url=\"img/20200917_icap_xccy_clfclp.png\", width=450*1.2, height=360*1.2)"
   ]
  },
  {
   "cell_type": "markdown",
   "metadata": {},
   "source": [
    "$r_{CLP} = r_{UF} + inf$\n",
    "\n",
    "0.5 = t_uf + 2.3"
   ]
  },
  {
   "cell_type": "markdown",
   "metadata": {},
   "source": [
    "**Fuente:** Closing de ICAP al 17-09-2020."
   ]
  },
  {
   "cell_type": "markdown",
   "metadata": {},
   "source": [
    "#### Ejercicio\n",
    "\n",
    "Utilizando la librería (o a mano) construya los flujos del XCCY UF-CLP a 2Y (bid u offer). Utilice la estimación que quiera para los valores del ICP (flujos de la pata flotante) y los valores de la UF (flujos en CLP de la pata fija en CLF)."
   ]
  },
  {
   "cell_type": "markdown",
   "metadata": {},
   "source": [
    "**Pata Fija** Sólo se muestra esta, la pata ICP ya se mostró en el ejemplo de los swaps cámara promedio."
   ]
  },
  {
   "cell_type": "code",
   "execution_count": 58,
   "metadata": {
    "ExecuteTime": {
     "end_time": "2021-12-05T13:46:58.697087Z",
     "start_time": "2021-12-05T13:46:58.686939Z"
    }
   },
   "outputs": [],
   "source": [
    "# Primero se debe dar de alta un FXRateIndex\n",
    "clf = Qcf.QCCLF()\n",
    "clp = Qcf.QCCLP()\n",
    "clfclp = Qcf.FXRate(clf, clp)\n",
    "zero_d = Qcf.Tenor('0D')\n",
    "uf = Qcf.FXRateIndex(clfclp, 'UF', zero_d, zero_d, bus_cal)\n",
    "\n",
    "# Luego se dan de alta los otros parámetros requeridos para la construcción\n",
    "rp = Qcf.RecPay.RECEIVE\n",
    "nominal = 300000\n",
    "fecha_inicio = Qcf.QCDate(22, 9, 2020)\n",
    "fecha_final = Qcf.QCDate(22, 9, 2022)\n",
    "bus_adj_rule = Qcf.BusyAdjRules.MODFOLLOW\n",
    "periodicidad = Qcf.Tenor('6M')\n",
    "periodo_irregular = Qcf.StubPeriod.NO\n",
    "tasa_cupon = Qcf.QCInterestRate(-.0183, Qcf.QCAct360(), Qcf.QCLinearWf())\n",
    "lag_pago = 0\n",
    "es_bono = False\n",
    "\n",
    "# Se da de alta el objeto\n",
    "fixed_rate_mccy_leg = Qcf.LegFactory.build_bullet_fixed_rate_mccy_leg(\n",
    "    rp,\n",
    "    fecha_inicio,\n",
    "    fecha_final,\n",
    "    bus_adj_rule,\n",
    "    periodicidad,\n",
    "    periodo_irregular,\n",
    "    bus_cal,\n",
    "    lag_pago,\n",
    "    nominal,\n",
    "    amort_es_flujo,\n",
    "    tasa_cupon,\n",
    "    clf,\n",
    "    clp,\n",
    "    uf,\n",
    "    0,\n",
    "    es_bono\n",
    ")"
   ]
  },
  {
   "cell_type": "code",
   "execution_count": 59,
   "metadata": {
    "ExecuteTime": {
     "end_time": "2021-12-05T13:46:58.705496Z",
     "start_time": "2021-12-05T13:46:58.700756Z"
    }
   },
   "outputs": [
    {
     "name": "stdout",
     "output_type": "stream",
     "text": [
      "('2020-09-22', '2021-03-22', '2021-03-22', 300000.0, 0.0, -2760.2499999999973, True, -2760.2499999999973, 'CLF', -0.0183, 'LinAct360', '2021-03-22', 'CLP', 'UF', 1.0, 0.0, -2760.2499999999973)\n"
     ]
    }
   ],
   "source": [
    "tabla = []\n",
    "for i in range(0, fixed_rate_mccy_leg.size()):\n",
    "    tabla.append(Qcf.show(fixed_rate_mccy_leg.get_cashflow_at(i)))\n",
    "for t in tabla:\n",
    "    print(t)\n",
    "    break"
   ]
  },
  {
   "cell_type": "code",
   "execution_count": 60,
   "metadata": {
    "ExecuteTime": {
     "end_time": "2021-12-05T13:46:58.724336Z",
     "start_time": "2021-12-05T13:46:58.707878Z"
    }
   },
   "outputs": [
    {
     "data": {
      "text/html": [
       "<style  type=\"text/css\" >\n",
       "</style><table id=\"T_d0f6c20d_55d1_11ec_a147_02cba411ec9d\" ><thead>    <tr>        <th class=\"blank level0\" ></th>        <th class=\"col_heading level0 col0\" >fecha_inicial</th>        <th class=\"col_heading level0 col1\" >fecha_final</th>        <th class=\"col_heading level0 col2\" >fecha_pago</th>        <th class=\"col_heading level0 col3\" >nominal</th>        <th class=\"col_heading level0 col4\" >amortizacion</th>        <th class=\"col_heading level0 col5\" >interes</th>        <th class=\"col_heading level0 col6\" >amort_es_cashflow</th>        <th class=\"col_heading level0 col7\" >flujo_moneda_nocional</th>        <th class=\"col_heading level0 col8\" >moneda_nocional</th>        <th class=\"col_heading level0 col9\" >valor_tasa</th>        <th class=\"col_heading level0 col10\" >tipo_tasa</th>        <th class=\"col_heading level0 col11\" >fecha_fixing_fx</th>        <th class=\"col_heading level0 col12\" >moneda_pago</th>        <th class=\"col_heading level0 col13\" >codigo_indice_fx</th>        <th class=\"col_heading level0 col14\" >valor_indice_fx</th>        <th class=\"col_heading level0 col15\" >amort_moneda_pago</th>        <th class=\"col_heading level0 col16\" >interes_moneda_pago</th>    </tr></thead><tbody>\n",
       "                <tr>\n",
       "                        <th id=\"T_d0f6c20d_55d1_11ec_a147_02cba411ec9dlevel0_row0\" class=\"row_heading level0 row0\" >0</th>\n",
       "                        <td id=\"T_d0f6c20d_55d1_11ec_a147_02cba411ec9drow0_col0\" class=\"data row0 col0\" >2020-09-22</td>\n",
       "                        <td id=\"T_d0f6c20d_55d1_11ec_a147_02cba411ec9drow0_col1\" class=\"data row0 col1\" >2021-03-22</td>\n",
       "                        <td id=\"T_d0f6c20d_55d1_11ec_a147_02cba411ec9drow0_col2\" class=\"data row0 col2\" >2021-03-22</td>\n",
       "                        <td id=\"T_d0f6c20d_55d1_11ec_a147_02cba411ec9drow0_col3\" class=\"data row0 col3\" >300,000.00</td>\n",
       "                        <td id=\"T_d0f6c20d_55d1_11ec_a147_02cba411ec9drow0_col4\" class=\"data row0 col4\" >0.00</td>\n",
       "                        <td id=\"T_d0f6c20d_55d1_11ec_a147_02cba411ec9drow0_col5\" class=\"data row0 col5\" >-2,760.25</td>\n",
       "                        <td id=\"T_d0f6c20d_55d1_11ec_a147_02cba411ec9drow0_col6\" class=\"data row0 col6\" >True</td>\n",
       "                        <td id=\"T_d0f6c20d_55d1_11ec_a147_02cba411ec9drow0_col7\" class=\"data row0 col7\" >-2,760.25</td>\n",
       "                        <td id=\"T_d0f6c20d_55d1_11ec_a147_02cba411ec9drow0_col8\" class=\"data row0 col8\" >CLF</td>\n",
       "                        <td id=\"T_d0f6c20d_55d1_11ec_a147_02cba411ec9drow0_col9\" class=\"data row0 col9\" >-1.8300%</td>\n",
       "                        <td id=\"T_d0f6c20d_55d1_11ec_a147_02cba411ec9drow0_col10\" class=\"data row0 col10\" >LinAct360</td>\n",
       "                        <td id=\"T_d0f6c20d_55d1_11ec_a147_02cba411ec9drow0_col11\" class=\"data row0 col11\" >2021-03-22</td>\n",
       "                        <td id=\"T_d0f6c20d_55d1_11ec_a147_02cba411ec9drow0_col12\" class=\"data row0 col12\" >CLP</td>\n",
       "                        <td id=\"T_d0f6c20d_55d1_11ec_a147_02cba411ec9drow0_col13\" class=\"data row0 col13\" >UF</td>\n",
       "                        <td id=\"T_d0f6c20d_55d1_11ec_a147_02cba411ec9drow0_col14\" class=\"data row0 col14\" >1.00</td>\n",
       "                        <td id=\"T_d0f6c20d_55d1_11ec_a147_02cba411ec9drow0_col15\" class=\"data row0 col15\" >0.00</td>\n",
       "                        <td id=\"T_d0f6c20d_55d1_11ec_a147_02cba411ec9drow0_col16\" class=\"data row0 col16\" >-2,760.25</td>\n",
       "            </tr>\n",
       "            <tr>\n",
       "                        <th id=\"T_d0f6c20d_55d1_11ec_a147_02cba411ec9dlevel0_row1\" class=\"row_heading level0 row1\" >1</th>\n",
       "                        <td id=\"T_d0f6c20d_55d1_11ec_a147_02cba411ec9drow1_col0\" class=\"data row1 col0\" >2021-03-22</td>\n",
       "                        <td id=\"T_d0f6c20d_55d1_11ec_a147_02cba411ec9drow1_col1\" class=\"data row1 col1\" >2021-09-22</td>\n",
       "                        <td id=\"T_d0f6c20d_55d1_11ec_a147_02cba411ec9drow1_col2\" class=\"data row1 col2\" >2021-09-22</td>\n",
       "                        <td id=\"T_d0f6c20d_55d1_11ec_a147_02cba411ec9drow1_col3\" class=\"data row1 col3\" >300,000.00</td>\n",
       "                        <td id=\"T_d0f6c20d_55d1_11ec_a147_02cba411ec9drow1_col4\" class=\"data row1 col4\" >0.00</td>\n",
       "                        <td id=\"T_d0f6c20d_55d1_11ec_a147_02cba411ec9drow1_col5\" class=\"data row1 col5\" >-2,806.00</td>\n",
       "                        <td id=\"T_d0f6c20d_55d1_11ec_a147_02cba411ec9drow1_col6\" class=\"data row1 col6\" >True</td>\n",
       "                        <td id=\"T_d0f6c20d_55d1_11ec_a147_02cba411ec9drow1_col7\" class=\"data row1 col7\" >-2,806.00</td>\n",
       "                        <td id=\"T_d0f6c20d_55d1_11ec_a147_02cba411ec9drow1_col8\" class=\"data row1 col8\" >CLF</td>\n",
       "                        <td id=\"T_d0f6c20d_55d1_11ec_a147_02cba411ec9drow1_col9\" class=\"data row1 col9\" >-1.8300%</td>\n",
       "                        <td id=\"T_d0f6c20d_55d1_11ec_a147_02cba411ec9drow1_col10\" class=\"data row1 col10\" >LinAct360</td>\n",
       "                        <td id=\"T_d0f6c20d_55d1_11ec_a147_02cba411ec9drow1_col11\" class=\"data row1 col11\" >2021-09-22</td>\n",
       "                        <td id=\"T_d0f6c20d_55d1_11ec_a147_02cba411ec9drow1_col12\" class=\"data row1 col12\" >CLP</td>\n",
       "                        <td id=\"T_d0f6c20d_55d1_11ec_a147_02cba411ec9drow1_col13\" class=\"data row1 col13\" >UF</td>\n",
       "                        <td id=\"T_d0f6c20d_55d1_11ec_a147_02cba411ec9drow1_col14\" class=\"data row1 col14\" >1.00</td>\n",
       "                        <td id=\"T_d0f6c20d_55d1_11ec_a147_02cba411ec9drow1_col15\" class=\"data row1 col15\" >0.00</td>\n",
       "                        <td id=\"T_d0f6c20d_55d1_11ec_a147_02cba411ec9drow1_col16\" class=\"data row1 col16\" >-2,806.00</td>\n",
       "            </tr>\n",
       "            <tr>\n",
       "                        <th id=\"T_d0f6c20d_55d1_11ec_a147_02cba411ec9dlevel0_row2\" class=\"row_heading level0 row2\" >2</th>\n",
       "                        <td id=\"T_d0f6c20d_55d1_11ec_a147_02cba411ec9drow2_col0\" class=\"data row2 col0\" >2021-09-22</td>\n",
       "                        <td id=\"T_d0f6c20d_55d1_11ec_a147_02cba411ec9drow2_col1\" class=\"data row2 col1\" >2022-03-22</td>\n",
       "                        <td id=\"T_d0f6c20d_55d1_11ec_a147_02cba411ec9drow2_col2\" class=\"data row2 col2\" >2022-03-22</td>\n",
       "                        <td id=\"T_d0f6c20d_55d1_11ec_a147_02cba411ec9drow2_col3\" class=\"data row2 col3\" >300,000.00</td>\n",
       "                        <td id=\"T_d0f6c20d_55d1_11ec_a147_02cba411ec9drow2_col4\" class=\"data row2 col4\" >0.00</td>\n",
       "                        <td id=\"T_d0f6c20d_55d1_11ec_a147_02cba411ec9drow2_col5\" class=\"data row2 col5\" >-2,760.25</td>\n",
       "                        <td id=\"T_d0f6c20d_55d1_11ec_a147_02cba411ec9drow2_col6\" class=\"data row2 col6\" >True</td>\n",
       "                        <td id=\"T_d0f6c20d_55d1_11ec_a147_02cba411ec9drow2_col7\" class=\"data row2 col7\" >-2,760.25</td>\n",
       "                        <td id=\"T_d0f6c20d_55d1_11ec_a147_02cba411ec9drow2_col8\" class=\"data row2 col8\" >CLF</td>\n",
       "                        <td id=\"T_d0f6c20d_55d1_11ec_a147_02cba411ec9drow2_col9\" class=\"data row2 col9\" >-1.8300%</td>\n",
       "                        <td id=\"T_d0f6c20d_55d1_11ec_a147_02cba411ec9drow2_col10\" class=\"data row2 col10\" >LinAct360</td>\n",
       "                        <td id=\"T_d0f6c20d_55d1_11ec_a147_02cba411ec9drow2_col11\" class=\"data row2 col11\" >2022-03-22</td>\n",
       "                        <td id=\"T_d0f6c20d_55d1_11ec_a147_02cba411ec9drow2_col12\" class=\"data row2 col12\" >CLP</td>\n",
       "                        <td id=\"T_d0f6c20d_55d1_11ec_a147_02cba411ec9drow2_col13\" class=\"data row2 col13\" >UF</td>\n",
       "                        <td id=\"T_d0f6c20d_55d1_11ec_a147_02cba411ec9drow2_col14\" class=\"data row2 col14\" >1.00</td>\n",
       "                        <td id=\"T_d0f6c20d_55d1_11ec_a147_02cba411ec9drow2_col15\" class=\"data row2 col15\" >0.00</td>\n",
       "                        <td id=\"T_d0f6c20d_55d1_11ec_a147_02cba411ec9drow2_col16\" class=\"data row2 col16\" >-2,760.25</td>\n",
       "            </tr>\n",
       "            <tr>\n",
       "                        <th id=\"T_d0f6c20d_55d1_11ec_a147_02cba411ec9dlevel0_row3\" class=\"row_heading level0 row3\" >3</th>\n",
       "                        <td id=\"T_d0f6c20d_55d1_11ec_a147_02cba411ec9drow3_col0\" class=\"data row3 col0\" >2022-03-22</td>\n",
       "                        <td id=\"T_d0f6c20d_55d1_11ec_a147_02cba411ec9drow3_col1\" class=\"data row3 col1\" >2022-09-22</td>\n",
       "                        <td id=\"T_d0f6c20d_55d1_11ec_a147_02cba411ec9drow3_col2\" class=\"data row3 col2\" >2022-09-22</td>\n",
       "                        <td id=\"T_d0f6c20d_55d1_11ec_a147_02cba411ec9drow3_col3\" class=\"data row3 col3\" >300,000.00</td>\n",
       "                        <td id=\"T_d0f6c20d_55d1_11ec_a147_02cba411ec9drow3_col4\" class=\"data row3 col4\" >300,000.00</td>\n",
       "                        <td id=\"T_d0f6c20d_55d1_11ec_a147_02cba411ec9drow3_col5\" class=\"data row3 col5\" >-2,806.00</td>\n",
       "                        <td id=\"T_d0f6c20d_55d1_11ec_a147_02cba411ec9drow3_col6\" class=\"data row3 col6\" >True</td>\n",
       "                        <td id=\"T_d0f6c20d_55d1_11ec_a147_02cba411ec9drow3_col7\" class=\"data row3 col7\" >297,194.00</td>\n",
       "                        <td id=\"T_d0f6c20d_55d1_11ec_a147_02cba411ec9drow3_col8\" class=\"data row3 col8\" >CLF</td>\n",
       "                        <td id=\"T_d0f6c20d_55d1_11ec_a147_02cba411ec9drow3_col9\" class=\"data row3 col9\" >-1.8300%</td>\n",
       "                        <td id=\"T_d0f6c20d_55d1_11ec_a147_02cba411ec9drow3_col10\" class=\"data row3 col10\" >LinAct360</td>\n",
       "                        <td id=\"T_d0f6c20d_55d1_11ec_a147_02cba411ec9drow3_col11\" class=\"data row3 col11\" >2022-09-22</td>\n",
       "                        <td id=\"T_d0f6c20d_55d1_11ec_a147_02cba411ec9drow3_col12\" class=\"data row3 col12\" >CLP</td>\n",
       "                        <td id=\"T_d0f6c20d_55d1_11ec_a147_02cba411ec9drow3_col13\" class=\"data row3 col13\" >UF</td>\n",
       "                        <td id=\"T_d0f6c20d_55d1_11ec_a147_02cba411ec9drow3_col14\" class=\"data row3 col14\" >1.00</td>\n",
       "                        <td id=\"T_d0f6c20d_55d1_11ec_a147_02cba411ec9drow3_col15\" class=\"data row3 col15\" >300,000.00</td>\n",
       "                        <td id=\"T_d0f6c20d_55d1_11ec_a147_02cba411ec9drow3_col16\" class=\"data row3 col16\" >-2,806.00</td>\n",
       "            </tr>\n",
       "    </tbody></table>"
      ],
      "text/plain": [
       "<pandas.io.formats.style.Styler at 0x7fdd9479ada0>"
      ]
     },
     "execution_count": 60,
     "metadata": {},
     "output_type": "execute_result"
    }
   ],
   "source": [
    "aux.show_leg(fixed_rate_mccy_leg, 'FixedRateMultiCurrencyCashflow', '').style.format(format_dict)"
   ]
  },
  {
   "cell_type": "code",
   "execution_count": 61,
   "metadata": {
    "ExecuteTime": {
     "end_time": "2021-12-05T13:46:58.731445Z",
     "start_time": "2021-12-05T13:46:58.726680Z"
    }
   },
   "outputs": [],
   "source": [
    "inflacion = .02\n",
    "uf0 = 30000\n",
    "for i in range(fixed_rate_mccy_leg.size()):\n",
    "    f = fixed_rate_mccy_leg.get_cashflow_at(i)\n",
    "    uf1 = uf0 * (1 + inflacion)**(.5)\n",
    "    f.set_fx_rate_index_value(uf1)\n",
    "    uf0 = uf1"
   ]
  },
  {
   "cell_type": "code",
   "execution_count": 62,
   "metadata": {
    "ExecuteTime": {
     "end_time": "2021-12-05T13:46:58.750165Z",
     "start_time": "2021-12-05T13:46:58.733662Z"
    }
   },
   "outputs": [
    {
     "data": {
      "text/html": [
       "<style  type=\"text/css\" >\n",
       "</style><table id=\"T_d0f6c20e_55d1_11ec_a147_02cba411ec9d\" ><thead>    <tr>        <th class=\"blank level0\" ></th>        <th class=\"col_heading level0 col0\" >fecha_inicial</th>        <th class=\"col_heading level0 col1\" >fecha_final</th>        <th class=\"col_heading level0 col2\" >fecha_pago</th>        <th class=\"col_heading level0 col3\" >nominal</th>        <th class=\"col_heading level0 col4\" >amortizacion</th>        <th class=\"col_heading level0 col5\" >interes</th>        <th class=\"col_heading level0 col6\" >amort_es_cashflow</th>        <th class=\"col_heading level0 col7\" >flujo_moneda_nocional</th>        <th class=\"col_heading level0 col8\" >moneda_nocional</th>        <th class=\"col_heading level0 col9\" >valor_tasa</th>        <th class=\"col_heading level0 col10\" >tipo_tasa</th>        <th class=\"col_heading level0 col11\" >fecha_fixing_fx</th>        <th class=\"col_heading level0 col12\" >moneda_pago</th>        <th class=\"col_heading level0 col13\" >codigo_indice_fx</th>        <th class=\"col_heading level0 col14\" >valor_indice_fx</th>        <th class=\"col_heading level0 col15\" >amort_moneda_pago</th>        <th class=\"col_heading level0 col16\" >interes_moneda_pago</th>    </tr></thead><tbody>\n",
       "                <tr>\n",
       "                        <th id=\"T_d0f6c20e_55d1_11ec_a147_02cba411ec9dlevel0_row0\" class=\"row_heading level0 row0\" >0</th>\n",
       "                        <td id=\"T_d0f6c20e_55d1_11ec_a147_02cba411ec9drow0_col0\" class=\"data row0 col0\" >2020-09-22</td>\n",
       "                        <td id=\"T_d0f6c20e_55d1_11ec_a147_02cba411ec9drow0_col1\" class=\"data row0 col1\" >2021-03-22</td>\n",
       "                        <td id=\"T_d0f6c20e_55d1_11ec_a147_02cba411ec9drow0_col2\" class=\"data row0 col2\" >2021-03-22</td>\n",
       "                        <td id=\"T_d0f6c20e_55d1_11ec_a147_02cba411ec9drow0_col3\" class=\"data row0 col3\" >300,000.00</td>\n",
       "                        <td id=\"T_d0f6c20e_55d1_11ec_a147_02cba411ec9drow0_col4\" class=\"data row0 col4\" >0.00</td>\n",
       "                        <td id=\"T_d0f6c20e_55d1_11ec_a147_02cba411ec9drow0_col5\" class=\"data row0 col5\" >-2,760.25</td>\n",
       "                        <td id=\"T_d0f6c20e_55d1_11ec_a147_02cba411ec9drow0_col6\" class=\"data row0 col6\" >True</td>\n",
       "                        <td id=\"T_d0f6c20e_55d1_11ec_a147_02cba411ec9drow0_col7\" class=\"data row0 col7\" >-83,631,475.52</td>\n",
       "                        <td id=\"T_d0f6c20e_55d1_11ec_a147_02cba411ec9drow0_col8\" class=\"data row0 col8\" >CLF</td>\n",
       "                        <td id=\"T_d0f6c20e_55d1_11ec_a147_02cba411ec9drow0_col9\" class=\"data row0 col9\" >-1.8300%</td>\n",
       "                        <td id=\"T_d0f6c20e_55d1_11ec_a147_02cba411ec9drow0_col10\" class=\"data row0 col10\" >LinAct360</td>\n",
       "                        <td id=\"T_d0f6c20e_55d1_11ec_a147_02cba411ec9drow0_col11\" class=\"data row0 col11\" >2021-03-22</td>\n",
       "                        <td id=\"T_d0f6c20e_55d1_11ec_a147_02cba411ec9drow0_col12\" class=\"data row0 col12\" >CLP</td>\n",
       "                        <td id=\"T_d0f6c20e_55d1_11ec_a147_02cba411ec9drow0_col13\" class=\"data row0 col13\" >UF</td>\n",
       "                        <td id=\"T_d0f6c20e_55d1_11ec_a147_02cba411ec9drow0_col14\" class=\"data row0 col14\" >30,298.51</td>\n",
       "                        <td id=\"T_d0f6c20e_55d1_11ec_a147_02cba411ec9drow0_col15\" class=\"data row0 col15\" >0.00</td>\n",
       "                        <td id=\"T_d0f6c20e_55d1_11ec_a147_02cba411ec9drow0_col16\" class=\"data row0 col16\" >-83,631,475.52</td>\n",
       "            </tr>\n",
       "            <tr>\n",
       "                        <th id=\"T_d0f6c20e_55d1_11ec_a147_02cba411ec9dlevel0_row1\" class=\"row_heading level0 row1\" >1</th>\n",
       "                        <td id=\"T_d0f6c20e_55d1_11ec_a147_02cba411ec9drow1_col0\" class=\"data row1 col0\" >2021-03-22</td>\n",
       "                        <td id=\"T_d0f6c20e_55d1_11ec_a147_02cba411ec9drow1_col1\" class=\"data row1 col1\" >2021-09-22</td>\n",
       "                        <td id=\"T_d0f6c20e_55d1_11ec_a147_02cba411ec9drow1_col2\" class=\"data row1 col2\" >2021-09-22</td>\n",
       "                        <td id=\"T_d0f6c20e_55d1_11ec_a147_02cba411ec9drow1_col3\" class=\"data row1 col3\" >300,000.00</td>\n",
       "                        <td id=\"T_d0f6c20e_55d1_11ec_a147_02cba411ec9drow1_col4\" class=\"data row1 col4\" >0.00</td>\n",
       "                        <td id=\"T_d0f6c20e_55d1_11ec_a147_02cba411ec9drow1_col5\" class=\"data row1 col5\" >-2,806.00</td>\n",
       "                        <td id=\"T_d0f6c20e_55d1_11ec_a147_02cba411ec9drow1_col6\" class=\"data row1 col6\" >True</td>\n",
       "                        <td id=\"T_d0f6c20e_55d1_11ec_a147_02cba411ec9drow1_col7\" class=\"data row1 col7\" >-85,863,600.00</td>\n",
       "                        <td id=\"T_d0f6c20e_55d1_11ec_a147_02cba411ec9drow1_col8\" class=\"data row1 col8\" >CLF</td>\n",
       "                        <td id=\"T_d0f6c20e_55d1_11ec_a147_02cba411ec9drow1_col9\" class=\"data row1 col9\" >-1.8300%</td>\n",
       "                        <td id=\"T_d0f6c20e_55d1_11ec_a147_02cba411ec9drow1_col10\" class=\"data row1 col10\" >LinAct360</td>\n",
       "                        <td id=\"T_d0f6c20e_55d1_11ec_a147_02cba411ec9drow1_col11\" class=\"data row1 col11\" >2021-09-22</td>\n",
       "                        <td id=\"T_d0f6c20e_55d1_11ec_a147_02cba411ec9drow1_col12\" class=\"data row1 col12\" >CLP</td>\n",
       "                        <td id=\"T_d0f6c20e_55d1_11ec_a147_02cba411ec9drow1_col13\" class=\"data row1 col13\" >UF</td>\n",
       "                        <td id=\"T_d0f6c20e_55d1_11ec_a147_02cba411ec9drow1_col14\" class=\"data row1 col14\" >30,600.00</td>\n",
       "                        <td id=\"T_d0f6c20e_55d1_11ec_a147_02cba411ec9drow1_col15\" class=\"data row1 col15\" >0.00</td>\n",
       "                        <td id=\"T_d0f6c20e_55d1_11ec_a147_02cba411ec9drow1_col16\" class=\"data row1 col16\" >-85,863,600.00</td>\n",
       "            </tr>\n",
       "            <tr>\n",
       "                        <th id=\"T_d0f6c20e_55d1_11ec_a147_02cba411ec9dlevel0_row2\" class=\"row_heading level0 row2\" >2</th>\n",
       "                        <td id=\"T_d0f6c20e_55d1_11ec_a147_02cba411ec9drow2_col0\" class=\"data row2 col0\" >2021-09-22</td>\n",
       "                        <td id=\"T_d0f6c20e_55d1_11ec_a147_02cba411ec9drow2_col1\" class=\"data row2 col1\" >2022-03-22</td>\n",
       "                        <td id=\"T_d0f6c20e_55d1_11ec_a147_02cba411ec9drow2_col2\" class=\"data row2 col2\" >2022-03-22</td>\n",
       "                        <td id=\"T_d0f6c20e_55d1_11ec_a147_02cba411ec9drow2_col3\" class=\"data row2 col3\" >300,000.00</td>\n",
       "                        <td id=\"T_d0f6c20e_55d1_11ec_a147_02cba411ec9drow2_col4\" class=\"data row2 col4\" >0.00</td>\n",
       "                        <td id=\"T_d0f6c20e_55d1_11ec_a147_02cba411ec9drow2_col5\" class=\"data row2 col5\" >-2,760.25</td>\n",
       "                        <td id=\"T_d0f6c20e_55d1_11ec_a147_02cba411ec9drow2_col6\" class=\"data row2 col6\" >True</td>\n",
       "                        <td id=\"T_d0f6c20e_55d1_11ec_a147_02cba411ec9drow2_col7\" class=\"data row2 col7\" >-85,304,105.03</td>\n",
       "                        <td id=\"T_d0f6c20e_55d1_11ec_a147_02cba411ec9drow2_col8\" class=\"data row2 col8\" >CLF</td>\n",
       "                        <td id=\"T_d0f6c20e_55d1_11ec_a147_02cba411ec9drow2_col9\" class=\"data row2 col9\" >-1.8300%</td>\n",
       "                        <td id=\"T_d0f6c20e_55d1_11ec_a147_02cba411ec9drow2_col10\" class=\"data row2 col10\" >LinAct360</td>\n",
       "                        <td id=\"T_d0f6c20e_55d1_11ec_a147_02cba411ec9drow2_col11\" class=\"data row2 col11\" >2022-03-22</td>\n",
       "                        <td id=\"T_d0f6c20e_55d1_11ec_a147_02cba411ec9drow2_col12\" class=\"data row2 col12\" >CLP</td>\n",
       "                        <td id=\"T_d0f6c20e_55d1_11ec_a147_02cba411ec9drow2_col13\" class=\"data row2 col13\" >UF</td>\n",
       "                        <td id=\"T_d0f6c20e_55d1_11ec_a147_02cba411ec9drow2_col14\" class=\"data row2 col14\" >30,904.49</td>\n",
       "                        <td id=\"T_d0f6c20e_55d1_11ec_a147_02cba411ec9drow2_col15\" class=\"data row2 col15\" >0.00</td>\n",
       "                        <td id=\"T_d0f6c20e_55d1_11ec_a147_02cba411ec9drow2_col16\" class=\"data row2 col16\" >-85,304,105.03</td>\n",
       "            </tr>\n",
       "            <tr>\n",
       "                        <th id=\"T_d0f6c20e_55d1_11ec_a147_02cba411ec9dlevel0_row3\" class=\"row_heading level0 row3\" >3</th>\n",
       "                        <td id=\"T_d0f6c20e_55d1_11ec_a147_02cba411ec9drow3_col0\" class=\"data row3 col0\" >2022-03-22</td>\n",
       "                        <td id=\"T_d0f6c20e_55d1_11ec_a147_02cba411ec9drow3_col1\" class=\"data row3 col1\" >2022-09-22</td>\n",
       "                        <td id=\"T_d0f6c20e_55d1_11ec_a147_02cba411ec9drow3_col2\" class=\"data row3 col2\" >2022-09-22</td>\n",
       "                        <td id=\"T_d0f6c20e_55d1_11ec_a147_02cba411ec9drow3_col3\" class=\"data row3 col3\" >300,000.00</td>\n",
       "                        <td id=\"T_d0f6c20e_55d1_11ec_a147_02cba411ec9drow3_col4\" class=\"data row3 col4\" >300,000.00</td>\n",
       "                        <td id=\"T_d0f6c20e_55d1_11ec_a147_02cba411ec9drow3_col5\" class=\"data row3 col5\" >-2,806.00</td>\n",
       "                        <td id=\"T_d0f6c20e_55d1_11ec_a147_02cba411ec9drow3_col6\" class=\"data row3 col6\" >True</td>\n",
       "                        <td id=\"T_d0f6c20e_55d1_11ec_a147_02cba411ec9drow3_col7\" class=\"data row3 col7\" >9,276,019,128.00</td>\n",
       "                        <td id=\"T_d0f6c20e_55d1_11ec_a147_02cba411ec9drow3_col8\" class=\"data row3 col8\" >CLF</td>\n",
       "                        <td id=\"T_d0f6c20e_55d1_11ec_a147_02cba411ec9drow3_col9\" class=\"data row3 col9\" >-1.8300%</td>\n",
       "                        <td id=\"T_d0f6c20e_55d1_11ec_a147_02cba411ec9drow3_col10\" class=\"data row3 col10\" >LinAct360</td>\n",
       "                        <td id=\"T_d0f6c20e_55d1_11ec_a147_02cba411ec9drow3_col11\" class=\"data row3 col11\" >2022-09-22</td>\n",
       "                        <td id=\"T_d0f6c20e_55d1_11ec_a147_02cba411ec9drow3_col12\" class=\"data row3 col12\" >CLP</td>\n",
       "                        <td id=\"T_d0f6c20e_55d1_11ec_a147_02cba411ec9drow3_col13\" class=\"data row3 col13\" >UF</td>\n",
       "                        <td id=\"T_d0f6c20e_55d1_11ec_a147_02cba411ec9drow3_col14\" class=\"data row3 col14\" >31,212.00</td>\n",
       "                        <td id=\"T_d0f6c20e_55d1_11ec_a147_02cba411ec9drow3_col15\" class=\"data row3 col15\" >9,363,600,000.00</td>\n",
       "                        <td id=\"T_d0f6c20e_55d1_11ec_a147_02cba411ec9drow3_col16\" class=\"data row3 col16\" >-87,580,872.00</td>\n",
       "            </tr>\n",
       "    </tbody></table>"
      ],
      "text/plain": [
       "<pandas.io.formats.style.Styler at 0x7fdd9479a9e8>"
      ]
     },
     "execution_count": 62,
     "metadata": {},
     "output_type": "execute_result"
    }
   ],
   "source": [
    "aux.show_leg(fixed_rate_mccy_leg, 'FixedRateMultiCurrencyCashflow', '').style.format(format_dict)"
   ]
  }
 ],
 "metadata": {
  "hide_input": false,
  "kernelspec": {
   "display_name": "Python 3",
   "language": "python",
   "name": "python3"
  },
  "language_info": {
   "codemirror_mode": {
    "name": "ipython",
    "version": 3
   },
   "file_extension": ".py",
   "mimetype": "text/x-python",
   "name": "python",
   "nbconvert_exporter": "python",
   "pygments_lexer": "ipython3",
   "version": "3.7.3"
  },
  "toc": {
   "base_numbering": "2",
   "nav_menu": {},
   "number_sections": true,
   "sideBar": true,
   "skip_h1_title": false,
   "title_cell": "Table of Contents",
   "title_sidebar": "Contenido",
   "toc_cell": false,
   "toc_position": {
    "height": "calc(100% - 180px)",
    "left": "10px",
    "top": "150px",
    "width": "232px"
   },
   "toc_section_display": true,
   "toc_window_display": true
  }
 },
 "nbformat": 4,
 "nbformat_minor": 4
}
