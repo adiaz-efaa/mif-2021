{
 "cells": [
  {
   "cell_type": "markdown",
   "metadata": {},
   "source": [
    "# Sensibilidad OIS"
   ]
  },
  {
   "cell_type": "markdown",
   "metadata": {},
   "source": [
    "**Definición:** una curva cupón cero es una colección ordenada de plazos y tasas de interés donde cada una de las tasas es una  tasa adecuada para traer a valor presente un flujo de caja al plazo que corresponde a la tasa.\n",
    "\n",
    "Consideremos un instrumento financiero cuyo valor depende de una curva cupón cero. Por ejemplo, un swap de tasa de interés. Matemáticamente, esta dependencia se expresa como:\n",
    "\n",
    "$$\n",
    "V = V\\left(z_1,\\ldots,z_n;\\alpha\\right)\n",
    "$$\n",
    "\n",
    "donde $z_1,\\ldots,z_N$ son los valores de las tasas de la curva y $\\alpha$ representa un vector de parámetros adicionales (como la tasa de cupón en un bono o un tipo de cambio en un swap de monedas).\n",
    "\n",
    "**Definición:** la cantidad $\\Delta_i$ de $V$ respecto a $z_i$ se define como:\n",
    "\n",
    "$$\n",
    "\\Delta_i=\\frac{\\partial V}{\\partial z_i}\n",
    "$$\n",
    "\n",
    "**Definición:** la sensibilidad de $V$ respecto a un cambio $\\delta_i$ (positivo o negativo) en la tasa $z_i$ se define como:\n",
    "\n",
    "$$\n",
    "S\\left(V,z_i,\\delta_i\\right)=V\\left(z_1,...,z_i+\\delta_i,\\ldots,z_n\\right)-V\\left(z_1,\\ldots,z_i,\\ldots,z_n\\right)\n",
    "$$\n",
    "\n",
    "Cuando se busca conocer la sensibilidad a un cambio $\\delta_i$  en la tasa $z_i$, donde $\\delta_i$ representa una magnitud sin signo, se utiliza la siguiente definición:\n",
    "\n",
    "**Definición:** la sensibilidad de $V$ respecto a un cambio de magnitud $\\delta_i$ en la tasa $z_i$ se define como:\n",
    "\n",
    "$$\n",
    "\\overline{S}\\left(V,z_i,\\delta_i\\right)=\\frac{V\\left(z_1,\\ldots ,z_i+\\delta_i,\\ldots,z_n\\right)-V\\left(z_1,\\ldots,z_i-\\delta_i,...,z_n\\right)}{2}\n",
    "$$\n",
    "\n",
    "En ocasiones, cuando se busca conocer la sensibilidad a un movimiento de magnitud pequeña, resulta conveniente realizar la siguiente aproximación:\n",
    "\n",
    "$$\n",
    "\\overline{S}\\left(V,z_i,\\delta_i\\right)\\approx\\Delta_i \\cdot\\delta_i\n",
    "$$\n",
    "\n",
    "este es el caso, cuando se busca conocer esta sensibilidad para un elevado número de operaciones. Es importante considerar que se puede asegurar que esta aproximación es válida cuando la función $V$ satisface los requerimientos de regularidad necesarios para aplicar el [Teorema de Taylor](https://en.wikipedia.org/wiki/Taylor%27s_theorem).\n"
   ]
  },
  {
   "cell_type": "markdown",
   "metadata": {},
   "source": [
    "f(x0 + h) - f(x0) = f'(x0) x h + error, error --> 0, para h --> 0 "
   ]
  },
  {
   "cell_type": "markdown",
   "metadata": {},
   "source": [
    "## Configuración"
   ]
  },
  {
   "cell_type": "markdown",
   "metadata": {},
   "source": [
    "### Librerías"
   ]
  },
  {
   "cell_type": "code",
   "execution_count": 1,
   "metadata": {
    "ExecuteTime": {
     "end_time": "2021-11-09T20:19:15.593651Z",
     "start_time": "2021-11-09T20:19:15.245398Z"
    }
   },
   "outputs": [],
   "source": [
    "from finrisk import QC_Financial_3 as Qcf\n",
    "import modules.auxiliary as aux\n",
    "from functools import partial\n",
    "from enum import Enum\n",
    "import pandas as pd"
   ]
  },
  {
   "cell_type": "markdown",
   "metadata": {},
   "source": [
    "### Variables Globales"
   ]
  },
  {
   "cell_type": "code",
   "execution_count": 2,
   "metadata": {
    "ExecuteTime": {
     "end_time": "2021-11-09T20:19:15.606538Z",
     "start_time": "2021-11-09T20:19:15.600221Z"
    }
   },
   "outputs": [],
   "source": [
    "class BusCal(Enum):\n",
    "    NY = 1\n",
    "    SCL = 2\n",
    "    TARGET = 3"
   ]
  },
  {
   "cell_type": "code",
   "execution_count": 3,
   "metadata": {
    "ExecuteTime": {
     "end_time": "2021-11-09T20:19:15.658420Z",
     "start_time": "2021-11-09T20:19:15.610236Z"
    }
   },
   "outputs": [],
   "source": [
    "def get_cal(code: BusCal) -> Qcf.BusinessCalendar:\n",
    "    \"\"\"\n",
    "    \"\"\"\n",
    "    if code == BusCal.NY:\n",
    "        cal = Qcf.BusinessCalendar(Qcf.QCDate(1, 1, 2020), 20)\n",
    "        for agno in range(2020, 2071):\n",
    "            f = Qcf.QCDate(12, 10, agno)\n",
    "            if f.week_day() == Qcf.WeekDay.SAT:\n",
    "                cal.add_holiday(Qcf.QCDate(14, 10, agno))\n",
    "            elif f.week_day() == Qcf.WeekDay.SUN:\n",
    "                cal.add_holiday(Qcf.QCDate(13, 10, agno))\n",
    "            elif f.week_day() == Qcf.WeekDay.MON:\n",
    "                cal.add_holiday(Qcf.QCDate(12, 10, agno))\n",
    "            elif f.week_day() == Qcf.WeekDay.TUE:\n",
    "                cal.add_holiday(Qcf.QCDate(11, 10, agno))\n",
    "            elif f.week_day() == Qcf.WeekDay.WED:\n",
    "                cal.add_holiday(Qcf.QCDate(10, 10, agno))\n",
    "            elif f.week_day() == Qcf.WeekDay.THU:\n",
    "                cal.add_holiday(Qcf.QCDate(9, 10, agno))\n",
    "            else:\n",
    "                cal.add_holiday(Qcf.QCDate(8, 10, agno))\n",
    "        \n",
    "        cal.add_holiday(Qcf.QCDate(15, 2, 2021))\n",
    "        \n",
    "    return cal"
   ]
  },
  {
   "cell_type": "code",
   "execution_count": 4,
   "metadata": {
    "ExecuteTime": {
     "end_time": "2021-11-09T20:19:15.674438Z",
     "start_time": "2021-11-09T20:19:15.661006Z"
    }
   },
   "outputs": [
    {
     "data": {
      "text/plain": [
       "<finrisk.QC_Financial_3.BusinessCalendar at 0x7f3e87e9e538>"
      ]
     },
     "execution_count": 4,
     "metadata": {},
     "output_type": "execute_result"
    }
   ],
   "source": [
    "get_cal(BusCal.NY)"
   ]
  },
  {
   "cell_type": "code",
   "execution_count": 5,
   "metadata": {
    "ExecuteTime": {
     "end_time": "2021-11-09T20:19:15.683256Z",
     "start_time": "2021-11-09T20:19:15.678633Z"
    }
   },
   "outputs": [],
   "source": [
    "frmt = {\n",
    "    'tasa': '{:.6%}',\n",
    "    'df': '{:.6%}',\n",
    "    'valor_tasa': '{:.4%}',\n",
    "    'spread': '{:.4%}',\n",
    "    'nominal': '{:,.0f}',\n",
    "    'interes': '{:,.0f}',\n",
    "    'amortizacion': '{:,.0f}',\n",
    "    'flujo': '{:,.4f}',\n",
    "}"
   ]
  },
  {
   "cell_type": "code",
   "execution_count": 6,
   "metadata": {
    "ExecuteTime": {
     "end_time": "2021-11-09T20:19:15.690892Z",
     "start_time": "2021-11-09T20:19:15.687096Z"
    }
   },
   "outputs": [],
   "source": [
    "class TypeOis(Enum):\n",
    "    SOFR = 1\n",
    "    ICP = 2"
   ]
  },
  {
   "cell_type": "code",
   "execution_count": 7,
   "metadata": {
    "ExecuteTime": {
     "end_time": "2021-11-09T20:19:15.701610Z",
     "start_time": "2021-11-09T20:19:15.693463Z"
    }
   },
   "outputs": [],
   "source": [
    "type_ois_template = {\n",
    "    TypeOis.SOFR: {\n",
    "        'currency': Qcf.QCUSD(),\n",
    "        'periodicity': Qcf.Tenor('1Y'),\n",
    "        'stub_period': Qcf.StubPeriod.SHORTFRONT,\n",
    "        'settlement_lag': 0,\n",
    "        'calendar': BusCal.NY,\n",
    "        'bus_adj_rule': Qcf.BusyAdjRules.MODFOLLOW,\n",
    "        'amort_is_cashflow': True,\n",
    "        'fixed_rate': Qcf.QCInterestRate(0.0, Qcf.QCAct360(), Qcf.QCLinearWf()),\n",
    "    },\n",
    "    \n",
    "    TypeOis.ICP: {\n",
    "        'currency': Qcf.QCCLP(),\n",
    "        'periodicity': Qcf.Tenor('6M'),\n",
    "        'stub_period': Qcf.StubPeriod.SHORTFRONT,\n",
    "        'settlement_lag': 0,\n",
    "        'calendar': BusCal.SCL,\n",
    "        'bus_adj_rule': Qcf.BusyAdjRules.MODFOLLOW,\n",
    "        'amort_is_cashflow': True,\n",
    "        'fixed_rate': Qcf.QCInterestRate(0.0, Qcf.QCAct360(), Qcf.QCLinearWf()),\n",
    "    }\n",
    "}"
   ]
  },
  {
   "cell_type": "markdown",
   "metadata": {},
   "source": [
    "## Importa Curva Cero Cupón"
   ]
  },
  {
   "cell_type": "markdown",
   "metadata": {},
   "source": [
    "Se importa la data de la curva cupón cero que fue construida en el notebook 6."
   ]
  },
  {
   "cell_type": "code",
   "execution_count": 8,
   "metadata": {
    "ExecuteTime": {
     "end_time": "2021-11-09T20:19:15.735254Z",
     "start_time": "2021-11-09T20:19:15.705178Z"
    }
   },
   "outputs": [],
   "source": [
    "df_curva = pd.read_excel('data/20201012_built_sofr_zero.xlsx')"
   ]
  },
  {
   "cell_type": "code",
   "execution_count": 9,
   "metadata": {
    "ExecuteTime": {
     "end_time": "2021-11-09T20:19:16.065945Z",
     "start_time": "2021-11-09T20:19:15.737503Z"
    }
   },
   "outputs": [
    {
     "data": {
      "text/html": [
       "<style  type=\"text/css\" >\n",
       "</style><table id=\"T_4fc27bee_419a_11ec_a147_02cba411ec9d\" ><thead>    <tr>        <th class=\"blank level0\" ></th>        <th class=\"col_heading level0 col0\" >plazo</th>        <th class=\"col_heading level0 col1\" >tasa</th>        <th class=\"col_heading level0 col2\" >df</th>    </tr></thead><tbody>\n",
       "                <tr>\n",
       "                        <th id=\"T_4fc27bee_419a_11ec_a147_02cba411ec9dlevel0_row0\" class=\"row_heading level0 row0\" >0</th>\n",
       "                        <td id=\"T_4fc27bee_419a_11ec_a147_02cba411ec9drow0_col0\" class=\"data row0 col0\" >1</td>\n",
       "                        <td id=\"T_4fc27bee_419a_11ec_a147_02cba411ec9drow0_col1\" class=\"data row0 col1\" >0.081111%</td>\n",
       "                        <td id=\"T_4fc27bee_419a_11ec_a147_02cba411ec9drow0_col2\" class=\"data row0 col2\" >99.999778%</td>\n",
       "            </tr>\n",
       "            <tr>\n",
       "                        <th id=\"T_4fc27bee_419a_11ec_a147_02cba411ec9dlevel0_row1\" class=\"row_heading level0 row1\" >1</th>\n",
       "                        <td id=\"T_4fc27bee_419a_11ec_a147_02cba411ec9drow1_col0\" class=\"data row1 col0\" >7</td>\n",
       "                        <td id=\"T_4fc27bee_419a_11ec_a147_02cba411ec9drow1_col1\" class=\"data row1 col1\" >0.084051%</td>\n",
       "                        <td id=\"T_4fc27bee_419a_11ec_a147_02cba411ec9drow1_col2\" class=\"data row1 col2\" >99.998388%</td>\n",
       "            </tr>\n",
       "            <tr>\n",
       "                        <th id=\"T_4fc27bee_419a_11ec_a147_02cba411ec9dlevel0_row2\" class=\"row_heading level0 row2\" >2</th>\n",
       "                        <td id=\"T_4fc27bee_419a_11ec_a147_02cba411ec9drow2_col0\" class=\"data row2 col0\" >14</td>\n",
       "                        <td id=\"T_4fc27bee_419a_11ec_a147_02cba411ec9drow2_col1\" class=\"data row2 col1\" >0.077967%</td>\n",
       "                        <td id=\"T_4fc27bee_419a_11ec_a147_02cba411ec9drow2_col2\" class=\"data row2 col2\" >99.997010%</td>\n",
       "            </tr>\n",
       "            <tr>\n",
       "                        <th id=\"T_4fc27bee_419a_11ec_a147_02cba411ec9dlevel0_row3\" class=\"row_heading level0 row3\" >3</th>\n",
       "                        <td id=\"T_4fc27bee_419a_11ec_a147_02cba411ec9drow3_col0\" class=\"data row3 col0\" >21</td>\n",
       "                        <td id=\"T_4fc27bee_419a_11ec_a147_02cba411ec9drow3_col1\" class=\"data row3 col1\" >0.077358%</td>\n",
       "                        <td id=\"T_4fc27bee_419a_11ec_a147_02cba411ec9drow3_col2\" class=\"data row3 col2\" >99.995549%</td>\n",
       "            </tr>\n",
       "            <tr>\n",
       "                        <th id=\"T_4fc27bee_419a_11ec_a147_02cba411ec9dlevel0_row4\" class=\"row_heading level0 row4\" >4</th>\n",
       "                        <td id=\"T_4fc27bee_419a_11ec_a147_02cba411ec9drow4_col0\" class=\"data row4 col0\" >33</td>\n",
       "                        <td id=\"T_4fc27bee_419a_11ec_a147_02cba411ec9drow4_col1\" class=\"data row4 col1\" >0.078067%</td>\n",
       "                        <td id=\"T_4fc27bee_419a_11ec_a147_02cba411ec9drow4_col2\" class=\"data row4 col2\" >99.992942%</td>\n",
       "            </tr>\n",
       "            <tr>\n",
       "                        <th id=\"T_4fc27bee_419a_11ec_a147_02cba411ec9dlevel0_row5\" class=\"row_heading level0 row5\" >5</th>\n",
       "                        <td id=\"T_4fc27bee_419a_11ec_a147_02cba411ec9drow5_col0\" class=\"data row5 col0\" >61</td>\n",
       "                        <td id=\"T_4fc27bee_419a_11ec_a147_02cba411ec9drow5_col1\" class=\"data row5 col1\" >0.078064%</td>\n",
       "                        <td id=\"T_4fc27bee_419a_11ec_a147_02cba411ec9drow5_col2\" class=\"data row5 col2\" >99.986954%</td>\n",
       "            </tr>\n",
       "            <tr>\n",
       "                        <th id=\"T_4fc27bee_419a_11ec_a147_02cba411ec9dlevel0_row6\" class=\"row_heading level0 row6\" >6</th>\n",
       "                        <td id=\"T_4fc27bee_419a_11ec_a147_02cba411ec9drow6_col0\" class=\"data row6 col0\" >92</td>\n",
       "                        <td id=\"T_4fc27bee_419a_11ec_a147_02cba411ec9drow6_col1\" class=\"data row6 col1\" >0.081103%</td>\n",
       "                        <td id=\"T_4fc27bee_419a_11ec_a147_02cba411ec9drow6_col2\" class=\"data row6 col2\" >99.979560%</td>\n",
       "            </tr>\n",
       "            <tr>\n",
       "                        <th id=\"T_4fc27bee_419a_11ec_a147_02cba411ec9dlevel0_row7\" class=\"row_heading level0 row7\" >7</th>\n",
       "                        <td id=\"T_4fc27bee_419a_11ec_a147_02cba411ec9drow7_col0\" class=\"data row7 col0\" >125</td>\n",
       "                        <td id=\"T_4fc27bee_419a_11ec_a147_02cba411ec9drow7_col1\" class=\"data row7 col1\" >0.078059%</td>\n",
       "                        <td id=\"T_4fc27bee_419a_11ec_a147_02cba411ec9drow7_col2\" class=\"data row7 col2\" >99.973271%</td>\n",
       "            </tr>\n",
       "            <tr>\n",
       "                        <th id=\"T_4fc27bee_419a_11ec_a147_02cba411ec9dlevel0_row8\" class=\"row_heading level0 row8\" >8</th>\n",
       "                        <td id=\"T_4fc27bee_419a_11ec_a147_02cba411ec9drow8_col0\" class=\"data row8 col0\" >152</td>\n",
       "                        <td id=\"T_4fc27bee_419a_11ec_a147_02cba411ec9drow8_col1\" class=\"data row8 col1\" >0.076030%</td>\n",
       "                        <td id=\"T_4fc27bee_419a_11ec_a147_02cba411ec9drow8_col2\" class=\"data row8 col2\" >99.968343%</td>\n",
       "            </tr>\n",
       "            <tr>\n",
       "                        <th id=\"T_4fc27bee_419a_11ec_a147_02cba411ec9dlevel0_row9\" class=\"row_heading level0 row9\" >9</th>\n",
       "                        <td id=\"T_4fc27bee_419a_11ec_a147_02cba411ec9drow9_col0\" class=\"data row9 col0\" >182</td>\n",
       "                        <td id=\"T_4fc27bee_419a_11ec_a147_02cba411ec9drow9_col1\" class=\"data row9 col1\" >0.075014%</td>\n",
       "                        <td id=\"T_4fc27bee_419a_11ec_a147_02cba411ec9drow9_col2\" class=\"data row9 col2\" >99.962603%</td>\n",
       "            </tr>\n",
       "            <tr>\n",
       "                        <th id=\"T_4fc27bee_419a_11ec_a147_02cba411ec9dlevel0_row10\" class=\"row_heading level0 row10\" >10</th>\n",
       "                        <td id=\"T_4fc27bee_419a_11ec_a147_02cba411ec9drow10_col0\" class=\"data row10 col0\" >212</td>\n",
       "                        <td id=\"T_4fc27bee_419a_11ec_a147_02cba411ec9drow10_col1\" class=\"data row10 col1\" >0.073593%</td>\n",
       "                        <td id=\"T_4fc27bee_419a_11ec_a147_02cba411ec9drow10_col2\" class=\"data row10 col2\" >99.957265%</td>\n",
       "            </tr>\n",
       "            <tr>\n",
       "                        <th id=\"T_4fc27bee_419a_11ec_a147_02cba411ec9dlevel0_row11\" class=\"row_heading level0 row11\" >11</th>\n",
       "                        <td id=\"T_4fc27bee_419a_11ec_a147_02cba411ec9drow11_col0\" class=\"data row11 col0\" >243</td>\n",
       "                        <td id=\"T_4fc27bee_419a_11ec_a147_02cba411ec9drow11_col1\" class=\"data row11 col1\" >0.072476%</td>\n",
       "                        <td id=\"T_4fc27bee_419a_11ec_a147_02cba411ec9drow11_col2\" class=\"data row11 col2\" >99.951761%</td>\n",
       "            </tr>\n",
       "            <tr>\n",
       "                        <th id=\"T_4fc27bee_419a_11ec_a147_02cba411ec9dlevel0_row12\" class=\"row_heading level0 row12\" >12</th>\n",
       "                        <td id=\"T_4fc27bee_419a_11ec_a147_02cba411ec9drow12_col0\" class=\"data row12 col0\" >273</td>\n",
       "                        <td id=\"T_4fc27bee_419a_11ec_a147_02cba411ec9drow12_col1\" class=\"data row12 col1\" >0.071967%</td>\n",
       "                        <td id=\"T_4fc27bee_419a_11ec_a147_02cba411ec9drow12_col2\" class=\"data row12 col2\" >99.946187%</td>\n",
       "            </tr>\n",
       "            <tr>\n",
       "                        <th id=\"T_4fc27bee_419a_11ec_a147_02cba411ec9dlevel0_row13\" class=\"row_heading level0 row13\" >13</th>\n",
       "                        <td id=\"T_4fc27bee_419a_11ec_a147_02cba411ec9drow13_col0\" class=\"data row13 col0\" >306</td>\n",
       "                        <td id=\"T_4fc27bee_419a_11ec_a147_02cba411ec9drow13_col1\" class=\"data row13 col1\" >0.071356%</td>\n",
       "                        <td id=\"T_4fc27bee_419a_11ec_a147_02cba411ec9drow13_col2\" class=\"data row13 col2\" >99.940196%</td>\n",
       "            </tr>\n",
       "            <tr>\n",
       "                        <th id=\"T_4fc27bee_419a_11ec_a147_02cba411ec9dlevel0_row14\" class=\"row_heading level0 row14\" >14</th>\n",
       "                        <td id=\"T_4fc27bee_419a_11ec_a147_02cba411ec9drow14_col0\" class=\"data row14 col0\" >335</td>\n",
       "                        <td id=\"T_4fc27bee_419a_11ec_a147_02cba411ec9drow14_col1\" class=\"data row14 col1\" >0.070848%</td>\n",
       "                        <td id=\"T_4fc27bee_419a_11ec_a147_02cba411ec9drow14_col2\" class=\"data row14 col2\" >99.934996%</td>\n",
       "            </tr>\n",
       "            <tr>\n",
       "                        <th id=\"T_4fc27bee_419a_11ec_a147_02cba411ec9dlevel0_row15\" class=\"row_heading level0 row15\" >15</th>\n",
       "                        <td id=\"T_4fc27bee_419a_11ec_a147_02cba411ec9drow15_col0\" class=\"data row15 col0\" >365</td>\n",
       "                        <td id=\"T_4fc27bee_419a_11ec_a147_02cba411ec9drow15_col1\" class=\"data row15 col1\" >0.070238%</td>\n",
       "                        <td id=\"T_4fc27bee_419a_11ec_a147_02cba411ec9drow15_col2\" class=\"data row15 col2\" >99.929787%</td>\n",
       "            </tr>\n",
       "            <tr>\n",
       "                        <th id=\"T_4fc27bee_419a_11ec_a147_02cba411ec9dlevel0_row16\" class=\"row_heading level0 row16\" >16</th>\n",
       "                        <td id=\"T_4fc27bee_419a_11ec_a147_02cba411ec9drow16_col0\" class=\"data row16 col0\" >547</td>\n",
       "                        <td id=\"T_4fc27bee_419a_11ec_a147_02cba411ec9drow16_col1\" class=\"data row16 col1\" >0.064161%</td>\n",
       "                        <td id=\"T_4fc27bee_419a_11ec_a147_02cba411ec9drow16_col2\" class=\"data row16 col2\" >99.903893%</td>\n",
       "            </tr>\n",
       "            <tr>\n",
       "                        <th id=\"T_4fc27bee_419a_11ec_a147_02cba411ec9dlevel0_row17\" class=\"row_heading level0 row17\" >17</th>\n",
       "                        <td id=\"T_4fc27bee_419a_11ec_a147_02cba411ec9drow17_col0\" class=\"data row17 col0\" >730</td>\n",
       "                        <td id=\"T_4fc27bee_419a_11ec_a147_02cba411ec9drow17_col1\" class=\"data row17 col1\" >0.056758%</td>\n",
       "                        <td id=\"T_4fc27bee_419a_11ec_a147_02cba411ec9drow17_col2\" class=\"data row17 col2\" >99.886549%</td>\n",
       "            </tr>\n",
       "            <tr>\n",
       "                        <th id=\"T_4fc27bee_419a_11ec_a147_02cba411ec9dlevel0_row18\" class=\"row_heading level0 row18\" >18</th>\n",
       "                        <td id=\"T_4fc27bee_419a_11ec_a147_02cba411ec9drow18_col0\" class=\"data row18 col0\" >1097</td>\n",
       "                        <td id=\"T_4fc27bee_419a_11ec_a147_02cba411ec9drow18_col1\" class=\"data row18 col1\" >0.075010%</td>\n",
       "                        <td id=\"T_4fc27bee_419a_11ec_a147_02cba411ec9drow18_col2\" class=\"data row18 col2\" >99.774813%</td>\n",
       "            </tr>\n",
       "            <tr>\n",
       "                        <th id=\"T_4fc27bee_419a_11ec_a147_02cba411ec9dlevel0_row19\" class=\"row_heading level0 row19\" >19</th>\n",
       "                        <td id=\"T_4fc27bee_419a_11ec_a147_02cba411ec9drow19_col0\" class=\"data row19 col0\" >1462</td>\n",
       "                        <td id=\"T_4fc27bee_419a_11ec_a147_02cba411ec9drow19_col1\" class=\"data row19 col1\" >0.125752%</td>\n",
       "                        <td id=\"T_4fc27bee_419a_11ec_a147_02cba411ec9drow19_col2\" class=\"data row19 col2\" >99.497569%</td>\n",
       "            </tr>\n",
       "    </tbody></table>"
      ],
      "text/plain": [
       "<pandas.io.formats.style.Styler at 0x7f3e87e9ec88>"
      ]
     },
     "execution_count": 9,
     "metadata": {},
     "output_type": "execute_result"
    }
   ],
   "source": [
    "df_curva.head(20).style.format(frmt)"
   ]
  },
  {
   "cell_type": "code",
   "execution_count": 10,
   "metadata": {
    "ExecuteTime": {
     "end_time": "2021-11-09T20:19:16.074846Z",
     "start_time": "2021-11-09T20:19:16.068362Z"
    }
   },
   "outputs": [],
   "source": [
    "def get_curve_from_dataframe(\n",
    "        yf: Qcf.QCYearFraction,\n",
    "        wf: Qcf.QCWealthFactor,\n",
    "        df_curva: pd.DataFrame) -> Qcf.ZeroCouponCurve:\n",
    "    \"\"\"\n",
    "    Retorna un objeto Qcf.ZeroCouponCurve. Esta función requiere que `df_curva` tenga una columna\n",
    "    de nombre 'plazo' y una columna de nombre 'tasa'. Se usa interpolación lineal en la curva que\n",
    "    se retorna.\n",
    "    \"\"\"\n",
    "    plazos = Qcf.long_vec()\n",
    "    tasas = Qcf.double_vec()\n",
    "    for row in df_curva.itertuples():\n",
    "        plazos.append(row.plazo)\n",
    "        tasas.append(row.tasa)\n",
    "    curva = Qcf.QCCurve(plazos, tasas)\n",
    "    curva = Qcf.QCLinearInterpolator(curva)\n",
    "    tipo_tasa = Qcf.QCInterestRate(0.0, yf, wf)\n",
    "    curva = Qcf.ZeroCouponCurve(curva, tipo_tasa)\n",
    "    return curva"
   ]
  },
  {
   "cell_type": "code",
   "execution_count": 11,
   "metadata": {
    "ExecuteTime": {
     "end_time": "2021-11-09T20:19:16.081945Z",
     "start_time": "2021-11-09T20:19:16.077633Z"
    }
   },
   "outputs": [],
   "source": [
    "zcc = get_curve_from_dataframe(\n",
    "    Qcf.QCAct365(),\n",
    "    Qcf.QCCompoundWf(), \n",
    "    df_curva\n",
    ")"
   ]
  },
  {
   "cell_type": "markdown",
   "metadata": {},
   "source": [
    "Algunos métodos del objeto`zcc`."
   ]
  },
  {
   "cell_type": "code",
   "execution_count": 12,
   "metadata": {
    "ExecuteTime": {
     "end_time": "2021-11-09T20:19:16.088799Z",
     "start_time": "2021-11-09T20:19:16.084253Z"
    }
   },
   "outputs": [
    {
     "name": "stdout",
     "output_type": "stream",
     "text": [
      "Tasa a 900 días es igual a 0.0652%\n",
      "Factor de descuento a 900 días es igual a 99.839384%\n"
     ]
    }
   ],
   "source": [
    "plazo = 900\n",
    "print(f\"Tasa a {plazo} días es igual a {zcc.get_rate_at(plazo):.4%}\")\n",
    "print(f\"Factor de descuento a {plazo} días es igual a {zcc.get_discount_factor_at(plazo):.6%}\")"
   ]
  },
  {
   "cell_type": "markdown",
   "metadata": {},
   "source": [
    "## Valorización"
   ]
  },
  {
   "cell_type": "code",
   "execution_count": 14,
   "metadata": {
    "ExecuteTime": {
     "end_time": "2021-11-09T20:19:42.379085Z",
     "start_time": "2021-11-09T20:19:42.367833Z"
    },
    "code_folding": []
   },
   "outputs": [],
   "source": [
    "def get_ois_using_template(\n",
    "    template,\n",
    "    type_ois: TypeOis,\n",
    "    rp: Qcf.RecPay,\n",
    "    notional: float,\n",
    "    start_date: Qcf.QCDate,\n",
    "    tenor: Qcf.Tenor,\n",
    "    fixed_rate_value: float,\n",
    "    spread: float,\n",
    "    gearing: float\n",
    "):\n",
    "    \"\"\"\n",
    "    \"\"\"\n",
    "    template_dict = template[type_ois]\n",
    "    meses = tenor.get_years() * 12 + tenor.get_months()\n",
    "    end_date = start_date.add_months(meses)\n",
    "    template_dict['fixed_rate'].set_value(fixed_rate_value)\n",
    "    es_bono = False\n",
    "\n",
    "    # Construye la pata fija\n",
    "    fixed_rate_leg = Qcf.LegFactory.build_bullet_fixed_rate_leg(\n",
    "        rp,\n",
    "        start_date,\n",
    "        end_date,\n",
    "        template_dict['bus_adj_rule'],\n",
    "        template_dict['periodicity'],\n",
    "        template_dict['stub_period'],\n",
    "        get_cal(template_dict['calendar']),\n",
    "        template_dict['settlement_lag'],\n",
    "        notional,\n",
    "        template_dict['amort_is_cashflow'],\n",
    "        template_dict['fixed_rate'],\n",
    "        template_dict['currency'],\n",
    "        es_bono)\n",
    "\n",
    "    # Construye la pata ois\n",
    "    rp = Qcf.RecPay.PAY if rp == Qcf.RecPay.RECEIVE else Qcf.RecPay.RECEIVE\n",
    "    icp_clp_leg = Qcf.LegFactory.build_bullet_icp_clp2_leg(\n",
    "        rp,\n",
    "        start_date,\n",
    "        end_date,\n",
    "        template_dict['bus_adj_rule'],\n",
    "        template_dict['periodicity'],\n",
    "        template_dict['stub_period'],\n",
    "        get_cal(template_dict['calendar']),\n",
    "        template_dict['settlement_lag'],\n",
    "        notional,\n",
    "        template_dict['amort_is_cashflow'],\n",
    "        spread,\n",
    "        gearing,\n",
    "        True\n",
    "    )\n",
    "\n",
    "    for i in range(icp_clp_leg.size()):\n",
    "        cshflw = icp_clp_leg.get_cashflow_at(i)\n",
    "        cshflw.set_start_date_icp(1.0)\n",
    "        cshflw.set_end_date_icp(1.0)\n",
    "\n",
    "    return fixed_rate_leg, icp_clp_leg"
   ]
  },
  {
   "cell_type": "markdown",
   "metadata": {},
   "source": [
    "### Operación Ejemplo"
   ]
  },
  {
   "cell_type": "code",
   "execution_count": 15,
   "metadata": {
    "ExecuteTime": {
     "end_time": "2021-11-09T20:19:44.530173Z",
     "start_time": "2021-11-09T20:19:44.478186Z"
    }
   },
   "outputs": [
    {
     "data": {
      "text/plain": [
       "(<finrisk.QC_Financial_3.Leg at 0x7f3e85682100>,\n",
       " <finrisk.QC_Financial_3.Leg at 0x7f3e85682e68>)"
      ]
     },
     "execution_count": 15,
     "metadata": {},
     "output_type": "execute_result"
    }
   ],
   "source": [
    "op = get_ois_using_template(\n",
    "    type_ois_template,\n",
    "    TypeOis.SOFR,\n",
    "    Qcf.RecPay.RECEIVE,\n",
    "    10000000,\n",
    "    Qcf.QCDate(14, 10, 2020),\n",
    "    Qcf.Tenor('2Y'),\n",
    "    .01,\n",
    "    0.0,\n",
    "    1.0\n",
    ")\n",
    "op"
   ]
  },
  {
   "cell_type": "markdown",
   "metadata": {},
   "source": [
    "#### Digresión: `functools.partial`"
   ]
  },
  {
   "cell_type": "markdown",
   "metadata": {},
   "source": [
    "Supongamos que estoy en una situación en la que sólo quiero construir OIS de *SOFR*. Me gustaría no tener que repetir los argumentos `type_ois_template` y `TypeOis.SOFR` cada vez que llamo la función `get_ois_using_template`. Puedo definir una nueva función de la siguiente forma:"
   ]
  },
  {
   "cell_type": "code",
   "execution_count": 16,
   "metadata": {
    "ExecuteTime": {
     "end_time": "2021-11-09T20:19:46.214957Z",
     "start_time": "2021-11-09T20:19:46.209109Z"
    }
   },
   "outputs": [],
   "source": [
    "get_ois_sofr = partial(get_ois_using_template, type_ois_template, TypeOis.SOFR)"
   ]
  },
  {
   "cell_type": "code",
   "execution_count": 18,
   "metadata": {
    "ExecuteTime": {
     "end_time": "2021-11-09T20:19:50.942214Z",
     "start_time": "2021-11-09T20:19:50.932443Z"
    }
   },
   "outputs": [
    {
     "ename": "NameError",
     "evalue": "name 'f' is not defined",
     "output_type": "error",
     "traceback": [
      "\u001b[0;31m---------------------------------------------------------------------------\u001b[0m",
      "\u001b[0;31mNameError\u001b[0m                                 Traceback (most recent call last)",
      "\u001b[0;32m<ipython-input-18-aa9b2f0b86a3>\u001b[0m in \u001b[0;36m<module>\u001b[0;34m\u001b[0m\n\u001b[0;32m----> 1\u001b[0;31m \u001b[0my\u001b[0m \u001b[0;34m=\u001b[0m \u001b[0mf\u001b[0m\u001b[0;34m(\u001b[0m\u001b[0mx\u001b[0m\u001b[0;34m,\u001b[0m \u001b[0my\u001b[0m\u001b[0;34m,\u001b[0m \u001b[0mz\u001b[0m\u001b[0;34m)\u001b[0m\u001b[0;34m\u001b[0m\u001b[0;34m\u001b[0m\u001b[0m\n\u001b[0m\u001b[1;32m      2\u001b[0m \u001b[0my12\u001b[0m \u001b[0;34m=\u001b[0m \u001b[0mf\u001b[0m\u001b[0;34m(\u001b[0m\u001b[0;36m1\u001b[0m\u001b[0;34m,\u001b[0m \u001b[0;36m2\u001b[0m\u001b[0;34m,\u001b[0m \u001b[0mz\u001b[0m\u001b[0;34m)\u001b[0m\u001b[0;34m\u001b[0m\u001b[0;34m\u001b[0m\u001b[0m\n",
      "\u001b[0;31mNameError\u001b[0m: name 'f' is not defined"
     ]
    }
   ],
   "source": [
    "y = f(x, y, z)\n",
    "y12 = f(1, 2, z)"
   ]
  },
  {
   "cell_type": "markdown",
   "metadata": {},
   "source": [
    "Con esta nueva función, `get_ois_sofr`, ahora puedo construir la operación `op` de la siguiente forma:"
   ]
  },
  {
   "cell_type": "code",
   "execution_count": 60,
   "metadata": {
    "ExecuteTime": {
     "end_time": "2021-11-09T21:53:43.237658Z",
     "start_time": "2021-11-09T21:53:43.190831Z"
    }
   },
   "outputs": [],
   "source": [
    "op = get_ois_sofr(\n",
    "    Qcf.RecPay.RECEIVE,\n",
    "    10000000,\n",
    "    Qcf.QCDate(14, 10, 2020),\n",
    "    Qcf.Tenor('2Y'),\n",
    "    .01,\n",
    "    0.0,\n",
    "    1.0\n",
    ")"
   ]
  },
  {
   "cell_type": "code",
   "execution_count": 61,
   "metadata": {
    "ExecuteTime": {
     "end_time": "2021-11-09T21:53:49.448001Z",
     "start_time": "2021-11-09T21:53:49.443175Z"
    }
   },
   "outputs": [
    {
     "data": {
      "text/plain": [
       "(<finrisk.QC_Financial_3.Leg at 0x7f3e847e53d8>,\n",
       " <finrisk.QC_Financial_3.Leg at 0x7f3e847e51d0>)"
      ]
     },
     "execution_count": 61,
     "metadata": {},
     "output_type": "execute_result"
    }
   ],
   "source": [
    "op"
   ]
  },
  {
   "cell_type": "markdown",
   "metadata": {},
   "source": [
    "#### Continuamos (fin digresión ...)"
   ]
  },
  {
   "cell_type": "code",
   "execution_count": 62,
   "metadata": {
    "ExecuteTime": {
     "end_time": "2021-11-09T21:53:50.639281Z",
     "start_time": "2021-11-09T21:53:50.628161Z"
    }
   },
   "outputs": [
    {
     "data": {
      "text/html": [
       "<style  type=\"text/css\" >\n",
       "</style><table id=\"T_861266ac_41a7_11ec_a147_02cba411ec9d\" ><thead>    <tr>        <th class=\"blank level0\" ></th>        <th class=\"col_heading level0 col0\" >fecha_inicial</th>        <th class=\"col_heading level0 col1\" >fecha_final</th>        <th class=\"col_heading level0 col2\" >fecha_pago</th>        <th class=\"col_heading level0 col3\" >nominal</th>        <th class=\"col_heading level0 col4\" >amortizacion</th>        <th class=\"col_heading level0 col5\" >interes</th>        <th class=\"col_heading level0 col6\" >amort_es_flujo</th>        <th class=\"col_heading level0 col7\" >flujo</th>        <th class=\"col_heading level0 col8\" >moneda</th>        <th class=\"col_heading level0 col9\" >valor_tasa</th>        <th class=\"col_heading level0 col10\" >tipo_tasa</th>    </tr></thead><tbody>\n",
       "                <tr>\n",
       "                        <th id=\"T_861266ac_41a7_11ec_a147_02cba411ec9dlevel0_row0\" class=\"row_heading level0 row0\" >0</th>\n",
       "                        <td id=\"T_861266ac_41a7_11ec_a147_02cba411ec9drow0_col0\" class=\"data row0 col0\" >2020-10-14</td>\n",
       "                        <td id=\"T_861266ac_41a7_11ec_a147_02cba411ec9drow0_col1\" class=\"data row0 col1\" >2021-10-14</td>\n",
       "                        <td id=\"T_861266ac_41a7_11ec_a147_02cba411ec9drow0_col2\" class=\"data row0 col2\" >2021-10-14</td>\n",
       "                        <td id=\"T_861266ac_41a7_11ec_a147_02cba411ec9drow0_col3\" class=\"data row0 col3\" >10,000,000</td>\n",
       "                        <td id=\"T_861266ac_41a7_11ec_a147_02cba411ec9drow0_col4\" class=\"data row0 col4\" >0</td>\n",
       "                        <td id=\"T_861266ac_41a7_11ec_a147_02cba411ec9drow0_col5\" class=\"data row0 col5\" >101,389</td>\n",
       "                        <td id=\"T_861266ac_41a7_11ec_a147_02cba411ec9drow0_col6\" class=\"data row0 col6\" >True</td>\n",
       "                        <td id=\"T_861266ac_41a7_11ec_a147_02cba411ec9drow0_col7\" class=\"data row0 col7\" >101,388.8889</td>\n",
       "                        <td id=\"T_861266ac_41a7_11ec_a147_02cba411ec9drow0_col8\" class=\"data row0 col8\" >USD</td>\n",
       "                        <td id=\"T_861266ac_41a7_11ec_a147_02cba411ec9drow0_col9\" class=\"data row0 col9\" >1.0000%</td>\n",
       "                        <td id=\"T_861266ac_41a7_11ec_a147_02cba411ec9drow0_col10\" class=\"data row0 col10\" >LinAct360</td>\n",
       "            </tr>\n",
       "            <tr>\n",
       "                        <th id=\"T_861266ac_41a7_11ec_a147_02cba411ec9dlevel0_row1\" class=\"row_heading level0 row1\" >1</th>\n",
       "                        <td id=\"T_861266ac_41a7_11ec_a147_02cba411ec9drow1_col0\" class=\"data row1 col0\" >2021-10-14</td>\n",
       "                        <td id=\"T_861266ac_41a7_11ec_a147_02cba411ec9drow1_col1\" class=\"data row1 col1\" >2022-10-14</td>\n",
       "                        <td id=\"T_861266ac_41a7_11ec_a147_02cba411ec9drow1_col2\" class=\"data row1 col2\" >2022-10-14</td>\n",
       "                        <td id=\"T_861266ac_41a7_11ec_a147_02cba411ec9drow1_col3\" class=\"data row1 col3\" >10,000,000</td>\n",
       "                        <td id=\"T_861266ac_41a7_11ec_a147_02cba411ec9drow1_col4\" class=\"data row1 col4\" >10,000,000</td>\n",
       "                        <td id=\"T_861266ac_41a7_11ec_a147_02cba411ec9drow1_col5\" class=\"data row1 col5\" >101,389</td>\n",
       "                        <td id=\"T_861266ac_41a7_11ec_a147_02cba411ec9drow1_col6\" class=\"data row1 col6\" >True</td>\n",
       "                        <td id=\"T_861266ac_41a7_11ec_a147_02cba411ec9drow1_col7\" class=\"data row1 col7\" >10,101,388.8889</td>\n",
       "                        <td id=\"T_861266ac_41a7_11ec_a147_02cba411ec9drow1_col8\" class=\"data row1 col8\" >USD</td>\n",
       "                        <td id=\"T_861266ac_41a7_11ec_a147_02cba411ec9drow1_col9\" class=\"data row1 col9\" >1.0000%</td>\n",
       "                        <td id=\"T_861266ac_41a7_11ec_a147_02cba411ec9drow1_col10\" class=\"data row1 col10\" >LinAct360</td>\n",
       "            </tr>\n",
       "    </tbody></table>"
      ],
      "text/plain": [
       "<pandas.io.formats.style.Styler at 0x7f3e84787a90>"
      ]
     },
     "execution_count": 62,
     "metadata": {},
     "output_type": "execute_result"
    }
   ],
   "source": [
    "aux.show_leg(op[0], 'FixedRateCashflow', '').style.format(frmt)"
   ]
  },
  {
   "cell_type": "code",
   "execution_count": 22,
   "metadata": {
    "ExecuteTime": {
     "end_time": "2021-11-09T20:19:53.833277Z",
     "start_time": "2021-11-09T20:19:53.818053Z"
    }
   },
   "outputs": [
    {
     "data": {
      "text/html": [
       "<style  type=\"text/css\" >\n",
       "</style><table id=\"T_660e832b_419a_11ec_a147_02cba411ec9d\" ><thead>    <tr>        <th class=\"blank level0\" ></th>        <th class=\"col_heading level0 col0\" >fecha_inicial</th>        <th class=\"col_heading level0 col1\" >fecha_final</th>        <th class=\"col_heading level0 col2\" >fecha_pago</th>        <th class=\"col_heading level0 col3\" >nominal</th>        <th class=\"col_heading level0 col4\" >amortizacion</th>        <th class=\"col_heading level0 col5\" >amort_es_flujo</th>        <th class=\"col_heading level0 col6\" >flujo</th>        <th class=\"col_heading level0 col7\" >moneda</th>        <th class=\"col_heading level0 col8\" >icp_inicial</th>        <th class=\"col_heading level0 col9\" >icp_final</th>        <th class=\"col_heading level0 col10\" >valor_tasa</th>        <th class=\"col_heading level0 col11\" >interes</th>        <th class=\"col_heading level0 col12\" >spread</th>        <th class=\"col_heading level0 col13\" >gearing</th>        <th class=\"col_heading level0 col14\" >tipo_tasa</th>    </tr></thead><tbody>\n",
       "                <tr>\n",
       "                        <th id=\"T_660e832b_419a_11ec_a147_02cba411ec9dlevel0_row0\" class=\"row_heading level0 row0\" >0</th>\n",
       "                        <td id=\"T_660e832b_419a_11ec_a147_02cba411ec9drow0_col0\" class=\"data row0 col0\" >2020-10-14</td>\n",
       "                        <td id=\"T_660e832b_419a_11ec_a147_02cba411ec9drow0_col1\" class=\"data row0 col1\" >2021-10-14</td>\n",
       "                        <td id=\"T_660e832b_419a_11ec_a147_02cba411ec9drow0_col2\" class=\"data row0 col2\" >2021-10-14</td>\n",
       "                        <td id=\"T_660e832b_419a_11ec_a147_02cba411ec9drow0_col3\" class=\"data row0 col3\" >-10,000,000</td>\n",
       "                        <td id=\"T_660e832b_419a_11ec_a147_02cba411ec9drow0_col4\" class=\"data row0 col4\" >0</td>\n",
       "                        <td id=\"T_660e832b_419a_11ec_a147_02cba411ec9drow0_col5\" class=\"data row0 col5\" >True</td>\n",
       "                        <td id=\"T_660e832b_419a_11ec_a147_02cba411ec9drow0_col6\" class=\"data row0 col6\" >0.0000</td>\n",
       "                        <td id=\"T_660e832b_419a_11ec_a147_02cba411ec9drow0_col7\" class=\"data row0 col7\" >CLP</td>\n",
       "                        <td id=\"T_660e832b_419a_11ec_a147_02cba411ec9drow0_col8\" class=\"data row0 col8\" >1.000000</td>\n",
       "                        <td id=\"T_660e832b_419a_11ec_a147_02cba411ec9drow0_col9\" class=\"data row0 col9\" >1.000000</td>\n",
       "                        <td id=\"T_660e832b_419a_11ec_a147_02cba411ec9drow0_col10\" class=\"data row0 col10\" >0.0000%</td>\n",
       "                        <td id=\"T_660e832b_419a_11ec_a147_02cba411ec9drow0_col11\" class=\"data row0 col11\" >-0</td>\n",
       "                        <td id=\"T_660e832b_419a_11ec_a147_02cba411ec9drow0_col12\" class=\"data row0 col12\" >0.0000%</td>\n",
       "                        <td id=\"T_660e832b_419a_11ec_a147_02cba411ec9drow0_col13\" class=\"data row0 col13\" >1.000000</td>\n",
       "                        <td id=\"T_660e832b_419a_11ec_a147_02cba411ec9drow0_col14\" class=\"data row0 col14\" >LinAct360</td>\n",
       "            </tr>\n",
       "            <tr>\n",
       "                        <th id=\"T_660e832b_419a_11ec_a147_02cba411ec9dlevel0_row1\" class=\"row_heading level0 row1\" >1</th>\n",
       "                        <td id=\"T_660e832b_419a_11ec_a147_02cba411ec9drow1_col0\" class=\"data row1 col0\" >2021-10-14</td>\n",
       "                        <td id=\"T_660e832b_419a_11ec_a147_02cba411ec9drow1_col1\" class=\"data row1 col1\" >2022-10-14</td>\n",
       "                        <td id=\"T_660e832b_419a_11ec_a147_02cba411ec9drow1_col2\" class=\"data row1 col2\" >2022-10-14</td>\n",
       "                        <td id=\"T_660e832b_419a_11ec_a147_02cba411ec9drow1_col3\" class=\"data row1 col3\" >-10,000,000</td>\n",
       "                        <td id=\"T_660e832b_419a_11ec_a147_02cba411ec9drow1_col4\" class=\"data row1 col4\" >-10,000,000</td>\n",
       "                        <td id=\"T_660e832b_419a_11ec_a147_02cba411ec9drow1_col5\" class=\"data row1 col5\" >True</td>\n",
       "                        <td id=\"T_660e832b_419a_11ec_a147_02cba411ec9drow1_col6\" class=\"data row1 col6\" >-10,000,000.0000</td>\n",
       "                        <td id=\"T_660e832b_419a_11ec_a147_02cba411ec9drow1_col7\" class=\"data row1 col7\" >CLP</td>\n",
       "                        <td id=\"T_660e832b_419a_11ec_a147_02cba411ec9drow1_col8\" class=\"data row1 col8\" >1.000000</td>\n",
       "                        <td id=\"T_660e832b_419a_11ec_a147_02cba411ec9drow1_col9\" class=\"data row1 col9\" >1.000000</td>\n",
       "                        <td id=\"T_660e832b_419a_11ec_a147_02cba411ec9drow1_col10\" class=\"data row1 col10\" >0.0000%</td>\n",
       "                        <td id=\"T_660e832b_419a_11ec_a147_02cba411ec9drow1_col11\" class=\"data row1 col11\" >-0</td>\n",
       "                        <td id=\"T_660e832b_419a_11ec_a147_02cba411ec9drow1_col12\" class=\"data row1 col12\" >0.0000%</td>\n",
       "                        <td id=\"T_660e832b_419a_11ec_a147_02cba411ec9drow1_col13\" class=\"data row1 col13\" >1.000000</td>\n",
       "                        <td id=\"T_660e832b_419a_11ec_a147_02cba411ec9drow1_col14\" class=\"data row1 col14\" >LinAct360</td>\n",
       "            </tr>\n",
       "    </tbody></table>"
      ],
      "text/plain": [
       "<pandas.io.formats.style.Styler at 0x7f3e85685b70>"
      ]
     },
     "execution_count": 22,
     "metadata": {},
     "output_type": "execute_result"
    }
   ],
   "source": [
    "aux.show_leg(op[1], 'IcpClpCashflow', '').style.format(frmt)"
   ]
  },
  {
   "cell_type": "markdown",
   "metadata": {},
   "source": [
    "#### Valor Presente Pata Fija"
   ]
  },
  {
   "cell_type": "code",
   "execution_count": 24,
   "metadata": {
    "ExecuteTime": {
     "end_time": "2021-11-09T20:20:34.704560Z",
     "start_time": "2021-11-09T20:20:34.701240Z"
    }
   },
   "outputs": [],
   "source": [
    "vp = Qcf.PresentValue()"
   ]
  },
  {
   "cell_type": "code",
   "execution_count": 25,
   "metadata": {
    "ExecuteTime": {
     "end_time": "2021-11-09T20:20:46.399915Z",
     "start_time": "2021-11-09T20:20:46.396760Z"
    }
   },
   "outputs": [],
   "source": [
    "fecha_val = Qcf.QCDate(14, 10, 2020)"
   ]
  },
  {
   "cell_type": "code",
   "execution_count": 32,
   "metadata": {
    "ExecuteTime": {
     "end_time": "2021-11-09T20:26:58.345497Z",
     "start_time": "2021-11-09T20:26:58.341566Z"
    }
   },
   "outputs": [
    {
     "name": "stdout",
     "output_type": "stream",
     "text": [
      "El valor presente de la pata fija es: USD 10,008,917.25\n"
     ]
    }
   ],
   "source": [
    "vp_fija = vp.pv(fecha_val, op[0], zcc)\n",
    "print(f'El valor presente de la pata fija es: USD {vp_fija:,.2f}')"
   ]
  },
  {
   "cell_type": "markdown",
   "metadata": {},
   "source": [
    "**Ejercicio:** Replique el valor de la pata fija en Excel utilizando los flujos y los factores de descuento que obtiene de la curva `zcc`."
   ]
  },
  {
   "cell_type": "code",
   "execution_count": 27,
   "metadata": {
    "ExecuteTime": {
     "end_time": "2021-11-09T20:21:58.325869Z",
     "start_time": "2021-11-09T20:21:58.317167Z"
    }
   },
   "outputs": [
    {
     "name": "stdout",
     "output_type": "stream",
     "text": [
      "El valor presente a mano es: 10,008,917.25\n"
     ]
    }
   ],
   "source": [
    "# Se dan de alta las fechas finales de ambos cupones\n",
    "fecha1 = Qcf.QCDate(14, 10, 2021)\n",
    "fecha2 = Qcf.QCDate(14, 10, 2022)\n",
    "\n",
    "# O de forma más automática:\n",
    "fecha1 = op[0].get_cashflow_at(0).get_settlement_date()\n",
    "fecha2 = op[0].get_cashflow_at(1).get_settlement_date()\n",
    "\n",
    "# Se calcula el número de días entre la fecha de valorización (fecha_val) y las fechas\n",
    "# finales de ambos cupones.\n",
    "plazo1 = fecha_val.day_diff(fecha1)\n",
    "plazo2 = fecha_val.day_diff(fecha2)\n",
    "\n",
    "# Utilizando la curva zcc se calculan los df a esos plazos \n",
    "df1 = zcc.get_discount_factor_at(plazo1)\n",
    "df2 = zcc.get_discount_factor_at(plazo2)\n",
    "\n",
    "# Se obtienen los flujos totales (interés y amortización) de ambos cupones\n",
    "flujo1 = op[0].get_cashflow_at(0).amount()\n",
    "flujo2 = op[0].get_cashflow_at(1).amount()\n",
    "\n",
    "# Finalmente, se calcula el valor presente como el producto (escalar) entre los df y los flujos.\n",
    "check_vp = df1 * flujo1 + df2 * flujo2\n",
    "\n",
    "# Se muestra el resultado.\n",
    "print(f'El valor presente a mano es: {check_vp:,.2f}')"
   ]
  },
  {
   "cell_type": "markdown",
   "metadata": {},
   "source": [
    "#### Valor Presente Pata Flotante"
   ]
  },
  {
   "cell_type": "code",
   "execution_count": 45,
   "metadata": {
    "ExecuteTime": {
     "end_time": "2021-11-09T20:38:29.237673Z",
     "start_time": "2021-11-09T20:38:29.233721Z"
    }
   },
   "outputs": [],
   "source": [
    "fwd = Qcf.ForwardRates()"
   ]
  },
  {
   "cell_type": "markdown",
   "metadata": {},
   "source": [
    "Este valor presente sólo considera el flujo del nocional al vencimiento. Esto porque aún no hemos calculado el valor esperado de los índices (o las tasas equivalentes)."
   ]
  },
  {
   "cell_type": "code",
   "execution_count": 46,
   "metadata": {
    "ExecuteTime": {
     "end_time": "2021-11-09T20:39:03.809935Z",
     "start_time": "2021-11-09T20:39:03.804723Z"
    }
   },
   "outputs": [
    {
     "name": "stdout",
     "output_type": "stream",
     "text": [
      "VP: -9,988,658.09\n"
     ]
    }
   ],
   "source": [
    "print(f'VP: {vp.pv(fecha_val, op[1], zcc):,.2f}')"
   ]
  },
  {
   "cell_type": "markdown",
   "metadata": {},
   "source": [
    "Comprobamos."
   ]
  },
  {
   "cell_type": "code",
   "execution_count": 48,
   "metadata": {
    "ExecuteTime": {
     "end_time": "2021-11-09T20:40:12.370817Z",
     "start_time": "2021-11-09T20:40:12.366568Z"
    }
   },
   "outputs": [
    {
     "name": "stdout",
     "output_type": "stream",
     "text": [
      "-9,988,658.09\n"
     ]
    }
   ],
   "source": [
    "print(f'{-df2 * 10000000:,.2f}')"
   ]
  },
  {
   "cell_type": "markdown",
   "metadata": {},
   "source": [
    "Ahora se calculan los valores esperados."
   ]
  },
  {
   "cell_type": "code",
   "execution_count": 49,
   "metadata": {
    "ExecuteTime": {
     "end_time": "2021-11-09T20:42:05.423520Z",
     "start_time": "2021-11-09T20:42:05.419763Z"
    }
   },
   "outputs": [],
   "source": [
    "fwd.set_rates_icp_clp_leg(fecha_val, 1.0, op[1], zcc)"
   ]
  },
  {
   "cell_type": "code",
   "execution_count": 50,
   "metadata": {
    "ExecuteTime": {
     "end_time": "2021-11-09T20:42:19.623413Z",
     "start_time": "2021-11-09T20:42:19.607943Z"
    }
   },
   "outputs": [
    {
     "data": {
      "text/html": [
       "<style  type=\"text/css\" >\n",
       "</style><table id=\"T_886d0d94_419d_11ec_a147_02cba411ec9d\" ><thead>    <tr>        <th class=\"blank level0\" ></th>        <th class=\"col_heading level0 col0\" >fecha_inicial</th>        <th class=\"col_heading level0 col1\" >fecha_final</th>        <th class=\"col_heading level0 col2\" >fecha_pago</th>        <th class=\"col_heading level0 col3\" >nominal</th>        <th class=\"col_heading level0 col4\" >amortizacion</th>        <th class=\"col_heading level0 col5\" >amort_es_flujo</th>        <th class=\"col_heading level0 col6\" >flujo</th>        <th class=\"col_heading level0 col7\" >moneda</th>        <th class=\"col_heading level0 col8\" >icp_inicial</th>        <th class=\"col_heading level0 col9\" >icp_final</th>        <th class=\"col_heading level0 col10\" >valor_tasa</th>        <th class=\"col_heading level0 col11\" >interes</th>        <th class=\"col_heading level0 col12\" >spread</th>        <th class=\"col_heading level0 col13\" >gearing</th>        <th class=\"col_heading level0 col14\" >tipo_tasa</th>    </tr></thead><tbody>\n",
       "                <tr>\n",
       "                        <th id=\"T_886d0d94_419d_11ec_a147_02cba411ec9dlevel0_row0\" class=\"row_heading level0 row0\" >0</th>\n",
       "                        <td id=\"T_886d0d94_419d_11ec_a147_02cba411ec9drow0_col0\" class=\"data row0 col0\" >2020-10-14</td>\n",
       "                        <td id=\"T_886d0d94_419d_11ec_a147_02cba411ec9drow0_col1\" class=\"data row0 col1\" >2021-10-14</td>\n",
       "                        <td id=\"T_886d0d94_419d_11ec_a147_02cba411ec9drow0_col2\" class=\"data row0 col2\" >2021-10-14</td>\n",
       "                        <td id=\"T_886d0d94_419d_11ec_a147_02cba411ec9drow0_col3\" class=\"data row0 col3\" >-10,000,000</td>\n",
       "                        <td id=\"T_886d0d94_419d_11ec_a147_02cba411ec9drow0_col4\" class=\"data row0 col4\" >0</td>\n",
       "                        <td id=\"T_886d0d94_419d_11ec_a147_02cba411ec9drow0_col5\" class=\"data row0 col5\" >True</td>\n",
       "                        <td id=\"T_886d0d94_419d_11ec_a147_02cba411ec9drow0_col6\" class=\"data row0 col6\" >-7,023.7778</td>\n",
       "                        <td id=\"T_886d0d94_419d_11ec_a147_02cba411ec9drow0_col7\" class=\"data row0 col7\" >CLP</td>\n",
       "                        <td id=\"T_886d0d94_419d_11ec_a147_02cba411ec9drow0_col8\" class=\"data row0 col8\" >1.000000</td>\n",
       "                        <td id=\"T_886d0d94_419d_11ec_a147_02cba411ec9drow0_col9\" class=\"data row0 col9\" >1.000702</td>\n",
       "                        <td id=\"T_886d0d94_419d_11ec_a147_02cba411ec9drow0_col10\" class=\"data row0 col10\" >0.0700%</td>\n",
       "                        <td id=\"T_886d0d94_419d_11ec_a147_02cba411ec9drow0_col11\" class=\"data row0 col11\" >-7,097</td>\n",
       "                        <td id=\"T_886d0d94_419d_11ec_a147_02cba411ec9drow0_col12\" class=\"data row0 col12\" >0.0000%</td>\n",
       "                        <td id=\"T_886d0d94_419d_11ec_a147_02cba411ec9drow0_col13\" class=\"data row0 col13\" >1.000000</td>\n",
       "                        <td id=\"T_886d0d94_419d_11ec_a147_02cba411ec9drow0_col14\" class=\"data row0 col14\" >LinAct360</td>\n",
       "            </tr>\n",
       "            <tr>\n",
       "                        <th id=\"T_886d0d94_419d_11ec_a147_02cba411ec9dlevel0_row1\" class=\"row_heading level0 row1\" >1</th>\n",
       "                        <td id=\"T_886d0d94_419d_11ec_a147_02cba411ec9drow1_col0\" class=\"data row1 col0\" >2021-10-14</td>\n",
       "                        <td id=\"T_886d0d94_419d_11ec_a147_02cba411ec9drow1_col1\" class=\"data row1 col1\" >2022-10-14</td>\n",
       "                        <td id=\"T_886d0d94_419d_11ec_a147_02cba411ec9drow1_col2\" class=\"data row1 col2\" >2022-10-14</td>\n",
       "                        <td id=\"T_886d0d94_419d_11ec_a147_02cba411ec9drow1_col3\" class=\"data row1 col3\" >-10,000,000</td>\n",
       "                        <td id=\"T_886d0d94_419d_11ec_a147_02cba411ec9drow1_col4\" class=\"data row1 col4\" >-10,000,000</td>\n",
       "                        <td id=\"T_886d0d94_419d_11ec_a147_02cba411ec9drow1_col5\" class=\"data row1 col5\" >True</td>\n",
       "                        <td id=\"T_886d0d94_419d_11ec_a147_02cba411ec9drow1_col6\" class=\"data row1 col6\" >-10,004,327.9717</td>\n",
       "                        <td id=\"T_886d0d94_419d_11ec_a147_02cba411ec9drow1_col7\" class=\"data row1 col7\" >CLP</td>\n",
       "                        <td id=\"T_886d0d94_419d_11ec_a147_02cba411ec9drow1_col8\" class=\"data row1 col8\" >1.000702</td>\n",
       "                        <td id=\"T_886d0d94_419d_11ec_a147_02cba411ec9drow1_col9\" class=\"data row1 col9\" >1.001135</td>\n",
       "                        <td id=\"T_886d0d94_419d_11ec_a147_02cba411ec9drow1_col10\" class=\"data row1 col10\" >0.0400%</td>\n",
       "                        <td id=\"T_886d0d94_419d_11ec_a147_02cba411ec9drow1_col11\" class=\"data row1 col11\" >-4,056</td>\n",
       "                        <td id=\"T_886d0d94_419d_11ec_a147_02cba411ec9drow1_col12\" class=\"data row1 col12\" >0.0000%</td>\n",
       "                        <td id=\"T_886d0d94_419d_11ec_a147_02cba411ec9drow1_col13\" class=\"data row1 col13\" >1.000000</td>\n",
       "                        <td id=\"T_886d0d94_419d_11ec_a147_02cba411ec9drow1_col14\" class=\"data row1 col14\" >LinAct360</td>\n",
       "            </tr>\n",
       "    </tbody></table>"
      ],
      "text/plain": [
       "<pandas.io.formats.style.Styler at 0x7f3e847bc0f0>"
      ]
     },
     "execution_count": 50,
     "metadata": {},
     "output_type": "execute_result"
    }
   ],
   "source": [
    "aux.show_leg(op[1], 'IcpClpCashflow', '').style.format(frmt)"
   ]
  },
  {
   "cell_type": "code",
   "execution_count": 51,
   "metadata": {
    "ExecuteTime": {
     "end_time": "2021-11-09T20:42:41.924963Z",
     "start_time": "2021-11-09T20:42:41.919564Z"
    }
   },
   "outputs": [
    {
     "name": "stdout",
     "output_type": "stream",
     "text": [
      "El valor presente de la pata flotante es: USD -10,000,000.00\n"
     ]
    }
   ],
   "source": [
    "vp_flot = vp.pv(fecha_val, op[1], zcc)\n",
    "print(f'El valor presente de la pata flotante es: USD {vp_flot:,.2f}')"
   ]
  },
  {
   "cell_type": "markdown",
   "metadata": {},
   "source": [
    "¿Porqué sabíamos que tenía que dar 10,000,000.00? Hint: la respuesta está en la construcción de la curva cero OIS."
   ]
  },
  {
   "cell_type": "markdown",
   "metadata": {},
   "source": [
    "## Sensibilidad"
   ]
  },
  {
   "cell_type": "markdown",
   "metadata": {},
   "source": [
    "En `QC_Financial_3` al calcular el valor presente, también se calculan las derivadas del valor presente respecto a cada uno de los vértices de la curva."
   ]
  },
  {
   "cell_type": "markdown",
   "metadata": {},
   "source": [
    "### Pata Fija"
   ]
  },
  {
   "cell_type": "markdown",
   "metadata": {},
   "source": [
    "f(g(x)) = y --> dy/dx = f'(g(x)) . g'(x)"
   ]
  },
  {
   "cell_type": "code",
   "execution_count": 52,
   "metadata": {
    "ExecuteTime": {
     "end_time": "2021-11-09T20:48:23.791098Z",
     "start_time": "2021-11-09T20:48:23.787402Z"
    }
   },
   "outputs": [],
   "source": [
    "vp.pv(fecha_val, op[0], zcc)\n",
    "der = vp.get_derivatives()"
   ]
  },
  {
   "cell_type": "markdown",
   "metadata": {},
   "source": [
    "Tengo que ejecutar el método `get_derivatives` justo después de valorizar. "
   ]
  },
  {
   "cell_type": "code",
   "execution_count": 53,
   "metadata": {
    "ExecuteTime": {
     "end_time": "2021-11-09T20:50:12.160772Z",
     "start_time": "2021-11-09T20:50:12.153745Z"
    }
   },
   "outputs": [
    {
     "name": "stdout",
     "output_type": "stream",
     "text": [
      "0.0\n",
      "0.0\n",
      "0.0\n",
      "0.0\n",
      "0.0\n",
      "0.0\n",
      "0.0\n",
      "0.0\n",
      "0.0\n",
      "0.0\n",
      "0.0\n",
      "0.0\n",
      "0.0\n",
      "0.0\n",
      "0.0\n",
      "-10124.661219898855\n",
      "0.0\n",
      "-19986227.206320565\n",
      "0.0\n",
      "0.0\n",
      "0.0\n",
      "0.0\n",
      "0.0\n",
      "0.0\n",
      "0.0\n",
      "0.0\n",
      "0.0\n",
      "0.0\n",
      "0.0\n",
      "0.0\n",
      "0.0\n",
      "0.0\n",
      "0.0\n"
     ]
    }
   ],
   "source": [
    "for d in der:\n",
    "    print(d)"
   ]
  },
  {
   "cell_type": "markdown",
   "metadata": {},
   "source": [
    "Con esas derivadas, se puede calcular la sensibilidad a cada vértice de la curva cupón cero para un movimiento de 1 punto básico."
   ]
  },
  {
   "cell_type": "code",
   "execution_count": 54,
   "metadata": {
    "ExecuteTime": {
     "end_time": "2021-11-09T20:50:39.551286Z",
     "start_time": "2021-11-09T20:50:39.547835Z"
    }
   },
   "outputs": [
    {
     "name": "stdout",
     "output_type": "stream",
     "text": [
      "<class 'finrisk.QC_Financial_3.double_vec'>\n"
     ]
    }
   ],
   "source": [
    "print(type(der))"
   ]
  },
  {
   "cell_type": "code",
   "execution_count": 55,
   "metadata": {
    "ExecuteTime": {
     "end_time": "2021-11-09T20:50:56.014447Z",
     "start_time": "2021-11-09T20:50:56.005930Z"
    }
   },
   "outputs": [
    {
     "name": "stdout",
     "output_type": "stream",
     "text": [
      "Sensibilidad en 0:  0.00\n",
      "Sensibilidad en 1:  0.00\n",
      "Sensibilidad en 2:  0.00\n",
      "Sensibilidad en 3:  0.00\n",
      "Sensibilidad en 4:  0.00\n",
      "Sensibilidad en 5:  0.00\n",
      "Sensibilidad en 6:  0.00\n",
      "Sensibilidad en 7:  0.00\n",
      "Sensibilidad en 8:  0.00\n",
      "Sensibilidad en 9:  0.00\n",
      "Sensibilidad en 10:  0.00\n",
      "Sensibilidad en 11:  0.00\n",
      "Sensibilidad en 12:  0.00\n",
      "Sensibilidad en 13:  0.00\n",
      "Sensibilidad en 14:  0.00\n",
      "Sensibilidad en 15: -1.01\n",
      "Sensibilidad en 16:  0.00\n",
      "Sensibilidad en 17: -1,998.62\n",
      "Sensibilidad en 18:  0.00\n",
      "Sensibilidad en 19:  0.00\n",
      "Sensibilidad en 20:  0.00\n",
      "Sensibilidad en 21:  0.00\n",
      "Sensibilidad en 22:  0.00\n",
      "Sensibilidad en 23:  0.00\n",
      "Sensibilidad en 24:  0.00\n",
      "Sensibilidad en 25:  0.00\n",
      "Sensibilidad en 26:  0.00\n",
      "Sensibilidad en 27:  0.00\n",
      "Sensibilidad en 28:  0.00\n",
      "Sensibilidad en 29:  0.00\n",
      "Sensibilidad en 30:  0.00\n",
      "Sensibilidad en 31:  0.00\n",
      "Sensibilidad en 32:  0.00\n",
      "Sensibilidad total: -1,999.64\n"
     ]
    }
   ],
   "source": [
    "delta = .0001\n",
    "total = 0\n",
    "for i, d in enumerate(der):\n",
    "    total += d * delta\n",
    "    print(f\"Sensibilidad en {i}: {d * delta: 0,.2f}\")\n",
    "print(f\"Sensibilidad total: {total:,.2f}\")"
   ]
  },
  {
   "cell_type": "markdown",
   "metadata": {},
   "source": [
    "**Ejercicio:** Verifique por diferencias finitas centrales la derivada y la sensibilidad en el vértice 17. La aproximación de la derivada por diferencias finitas centrales es:\n",
    "\n",
    "$$\n",
    "\\begin{equation}\n",
    "f^{\\prime}\\left(x\\right)\\approx\\frac{f\\left(x+h\\right)-f\\left(x-h\\right)}{2h}\n",
    "\\end{equation}\n",
    "$$"
   ]
  },
  {
   "cell_type": "markdown",
   "metadata": {},
   "source": [
    "### Pata Flotante"
   ]
  },
  {
   "cell_type": "markdown",
   "metadata": {},
   "source": [
    "En este caso, al rescatar estas derivadas, obtengo sólo lo relacionado con la curva de descuento."
   ]
  },
  {
   "cell_type": "code",
   "execution_count": 56,
   "metadata": {
    "ExecuteTime": {
     "end_time": "2021-11-09T20:54:10.340484Z",
     "start_time": "2021-11-09T20:54:10.336836Z"
    }
   },
   "outputs": [],
   "source": [
    "vp.pv(fecha_val, op[1], zcc)\n",
    "der = vp.get_derivatives()"
   ]
  },
  {
   "cell_type": "markdown",
   "metadata": {},
   "source": [
    "La sensibilidad es muy parecida a la de la pata fija."
   ]
  },
  {
   "cell_type": "code",
   "execution_count": 57,
   "metadata": {
    "ExecuteTime": {
     "end_time": "2021-11-09T20:54:42.010439Z",
     "start_time": "2021-11-09T20:54:42.004307Z"
    }
   },
   "outputs": [
    {
     "name": "stdout",
     "output_type": "stream",
     "text": [
      "Sensibilidad en 0:  0.00\n",
      "Sensibilidad en 1:  0.00\n",
      "Sensibilidad en 2:  0.00\n",
      "Sensibilidad en 3:  0.00\n",
      "Sensibilidad en 4:  0.00\n",
      "Sensibilidad en 5:  0.00\n",
      "Sensibilidad en 6:  0.00\n",
      "Sensibilidad en 7:  0.00\n",
      "Sensibilidad en 8:  0.00\n",
      "Sensibilidad en 9:  0.00\n",
      "Sensibilidad en 10:  0.00\n",
      "Sensibilidad en 11:  0.00\n",
      "Sensibilidad en 12:  0.00\n",
      "Sensibilidad en 13:  0.00\n",
      "Sensibilidad en 14:  0.00\n",
      "Sensibilidad en 15:  0.70\n",
      "Sensibilidad en 16:  0.00\n",
      "Sensibilidad en 17:  1,997.46\n",
      "Sensibilidad en 18:  0.00\n",
      "Sensibilidad en 19:  0.00\n",
      "Sensibilidad en 20:  0.00\n",
      "Sensibilidad en 21:  0.00\n",
      "Sensibilidad en 22:  0.00\n",
      "Sensibilidad en 23:  0.00\n",
      "Sensibilidad en 24:  0.00\n",
      "Sensibilidad en 25:  0.00\n",
      "Sensibilidad en 26:  0.00\n",
      "Sensibilidad en 27:  0.00\n",
      "Sensibilidad en 28:  0.00\n",
      "Sensibilidad en 29:  0.00\n",
      "Sensibilidad en 30:  0.00\n",
      "Sensibilidad en 31:  0.00\n",
      "Sensibilidad en 32:  0.00\n",
      "Sensibilidad total: 1,998.16\n"
     ]
    }
   ],
   "source": [
    "total = 0\n",
    "for i, d in enumerate(der):\n",
    "    total += d * delta\n",
    "    print(f\"Sensibilidad en {i}: {d * delta: 0,.2f}\")\n",
    "print(f\"Sensibilidad total: {total:,.2f}\")"
   ]
  },
  {
   "cell_type": "markdown",
   "metadata": {},
   "source": [
    "La estructura es la misma que para una pata fija, lo que indica que se debe también incluir la sensibilidad a la curva de proyección."
   ]
  },
  {
   "cell_type": "code",
   "execution_count": 58,
   "metadata": {
    "ExecuteTime": {
     "end_time": "2021-11-09T21:00:25.453498Z",
     "start_time": "2021-11-09T21:00:25.443896Z"
    }
   },
   "outputs": [
    {
     "name": "stdout",
     "output_type": "stream",
     "text": [
      "Sensibilidad en 0: -0.00\n",
      "Sensibilidad en 1: -0.00\n",
      "Sensibilidad en 2: -0.00\n",
      "Sensibilidad en 3: -0.00\n",
      "Sensibilidad en 4: -0.00\n",
      "Sensibilidad en 5: -0.00\n",
      "Sensibilidad en 6: -0.00\n",
      "Sensibilidad en 7: -0.00\n",
      "Sensibilidad en 8: -0.00\n",
      "Sensibilidad en 9: -0.00\n",
      "Sensibilidad en 10: -0.00\n",
      "Sensibilidad en 11: -0.00\n",
      "Sensibilidad en 12: -0.00\n",
      "Sensibilidad en 13: -0.00\n",
      "Sensibilidad en 14: -0.00\n",
      "Sensibilidad en 15: -0.70\n",
      "Sensibilidad en 16: -0.00\n",
      "Sensibilidad en 17: -1,997.46\n",
      "Sensibilidad en 18: -0.00\n",
      "Sensibilidad en 19: -0.00\n",
      "Sensibilidad en 20: -0.00\n",
      "Sensibilidad en 21: -0.00\n",
      "Sensibilidad en 22: -0.00\n",
      "Sensibilidad en 23: -0.00\n",
      "Sensibilidad en 24: -0.00\n",
      "Sensibilidad en 25: -0.00\n",
      "Sensibilidad en 26: -0.00\n",
      "Sensibilidad en 27: -0.00\n",
      "Sensibilidad en 28: -0.00\n",
      "Sensibilidad en 29: -0.00\n",
      "Sensibilidad en 30: -0.00\n",
      "Sensibilidad en 31: -0.00\n",
      "Sensibilidad en 32: -0.00\n",
      "Sensibilidad de proyección: -1,998.16 USD\n"
     ]
    }
   ],
   "source": [
    "import numpy as np\n",
    "result = []\n",
    "for i in range(op[1].size()):\n",
    "    cshflw = op[1].get_cashflow_at(i)\n",
    "    \n",
    "    # Se calcularon las derivadas al calcular los valores\n",
    "    # esperados de las tasas\n",
    "    amt_der = cshflw.get_amount_derivatives() \n",
    "    \n",
    "    # Se calcula el factor de descuento al plazo del flujo.\n",
    "    df = zcc.get_discount_factor_at(fecha_val.day_diff(cshflw.get_settlement_date()))\n",
    "    \n",
    "    # \n",
    "    amt_der = [a * df * delta for a in amt_der]\n",
    "    if len(amt_der) > 0:\n",
    "        result.append(np.array(amt_der))\n",
    "total = result[0] * 0\n",
    "\n",
    "for r in result:\n",
    "    total += r\n",
    "\n",
    "for i in range(len(total)):\n",
    "    print(f\"Sensibilidad en {i}: {total[i]:0,.2f}\")\n",
    "\n",
    "print(f\"Sensibilidad de proyección: {sum(total):,.2f} USD\")"
   ]
  },
  {
   "cell_type": "markdown",
   "metadata": {},
   "source": [
    "**Ejercicio:** Ambas sensibilidades se cancelan. ¿Porqué?"
   ]
  },
  {
   "cell_type": "markdown",
   "metadata": {},
   "source": [
    "En fórmula:\n",
    "\n",
    "Cashflow = F(z1, z2, z3) / Df(z1, z2, z3)\n",
    "\n",
    "Al calcular las derivadas del valor presente, sólo derivamos respecto a z1, z2, z3 en el denominador.\n",
    "\n",
    "Al calcular las derivadas del flujo, derivamos respecto a z1, z2 y z3 en el numerador, lo que coincide con derivar la función F respecto a z1, z2 y z3."
   ]
  }
 ],
 "metadata": {
  "hide_input": false,
  "kernelspec": {
   "display_name": "Python 3",
   "language": "python",
   "name": "python3"
  },
  "language_info": {
   "codemirror_mode": {
    "name": "ipython",
    "version": 3
   },
   "file_extension": ".py",
   "mimetype": "text/x-python",
   "name": "python",
   "nbconvert_exporter": "python",
   "pygments_lexer": "ipython3",
   "version": "3.7.3"
  },
  "toc": {
   "base_numbering": "7",
   "nav_menu": {},
   "number_sections": true,
   "sideBar": true,
   "skip_h1_title": false,
   "title_cell": "Table of Contents",
   "title_sidebar": "Contenido",
   "toc_cell": false,
   "toc_position": {
    "height": "calc(100% - 180px)",
    "left": "10px",
    "top": "150px",
    "width": "299px"
   },
   "toc_section_display": true,
   "toc_window_display": true
  }
 },
 "nbformat": 4,
 "nbformat_minor": 4
}
