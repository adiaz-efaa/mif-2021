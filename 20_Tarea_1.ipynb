{
 "cells": [
  {
   "cell_type": "markdown",
   "metadata": {},
   "source": [
    "# Tarea 1"
   ]
  },
  {
   "cell_type": "code",
   "execution_count": 1,
   "metadata": {
    "ExecuteTime": {
     "end_time": "2021-11-04T01:29:25.217527Z",
     "start_time": "2021-11-04T01:29:24.919410Z"
    }
   },
   "outputs": [],
   "source": [
    "import pandas as pd"
   ]
  },
  {
   "cell_type": "markdown",
   "metadata": {},
   "source": [
    "## Tarea"
   ]
  },
  {
   "cell_type": "markdown",
   "metadata": {},
   "source": [
    "Replicar en Excel el cálculo de la curva cupón cero en el notebook **07_sensibilidad_ois.ipynb**. Recordar que las tasas están en convención Exp Act/365."
   ]
  },
  {
   "cell_type": "markdown",
   "metadata": {},
   "source": [
    "**Nota:** no sólo se evaluará el resultado obtenido con la planilla, se dará mucha importancia, también, a la arquitectura de la solución. Se recomienda pensar que la planilla se transformará en una herramienta que se utilizará diariamente en un entorno real."
   ]
  },
  {
   "cell_type": "markdown",
   "metadata": {},
   "source": [
    "Los valores de la curva obtenida son:"
   ]
  },
  {
   "cell_type": "code",
   "execution_count": 2,
   "metadata": {
    "ExecuteTime": {
     "end_time": "2021-11-04T01:30:57.740562Z",
     "start_time": "2021-11-04T01:30:57.682405Z"
    }
   },
   "outputs": [],
   "source": [
    "df_curva = pd.read_excel('data/20201012_built_sofr_zero.xlsx')"
   ]
  },
  {
   "cell_type": "code",
   "execution_count": 3,
   "metadata": {
    "ExecuteTime": {
     "end_time": "2021-11-04T01:31:43.651112Z",
     "start_time": "2021-11-04T01:31:43.330271Z"
    }
   },
   "outputs": [
    {
     "data": {
      "text/html": [
       "<style  type=\"text/css\" >\n",
       "</style><table id=\"T_f7b63470_3d0e_11ec_a147_02cba411ec9d\" ><thead>    <tr>        <th class=\"blank level0\" ></th>        <th class=\"col_heading level0 col0\" >plazo</th>        <th class=\"col_heading level0 col1\" >tasa</th>        <th class=\"col_heading level0 col2\" >df</th>    </tr></thead><tbody>\n",
       "                <tr>\n",
       "                        <th id=\"T_f7b63470_3d0e_11ec_a147_02cba411ec9dlevel0_row0\" class=\"row_heading level0 row0\" >0</th>\n",
       "                        <td id=\"T_f7b63470_3d0e_11ec_a147_02cba411ec9drow0_col0\" class=\"data row0 col0\" >1</td>\n",
       "                        <td id=\"T_f7b63470_3d0e_11ec_a147_02cba411ec9drow0_col1\" class=\"data row0 col1\" >0.0811%</td>\n",
       "                        <td id=\"T_f7b63470_3d0e_11ec_a147_02cba411ec9drow0_col2\" class=\"data row0 col2\" >99.999778%</td>\n",
       "            </tr>\n",
       "            <tr>\n",
       "                        <th id=\"T_f7b63470_3d0e_11ec_a147_02cba411ec9dlevel0_row1\" class=\"row_heading level0 row1\" >1</th>\n",
       "                        <td id=\"T_f7b63470_3d0e_11ec_a147_02cba411ec9drow1_col0\" class=\"data row1 col0\" >7</td>\n",
       "                        <td id=\"T_f7b63470_3d0e_11ec_a147_02cba411ec9drow1_col1\" class=\"data row1 col1\" >0.0841%</td>\n",
       "                        <td id=\"T_f7b63470_3d0e_11ec_a147_02cba411ec9drow1_col2\" class=\"data row1 col2\" >99.998388%</td>\n",
       "            </tr>\n",
       "            <tr>\n",
       "                        <th id=\"T_f7b63470_3d0e_11ec_a147_02cba411ec9dlevel0_row2\" class=\"row_heading level0 row2\" >2</th>\n",
       "                        <td id=\"T_f7b63470_3d0e_11ec_a147_02cba411ec9drow2_col0\" class=\"data row2 col0\" >14</td>\n",
       "                        <td id=\"T_f7b63470_3d0e_11ec_a147_02cba411ec9drow2_col1\" class=\"data row2 col1\" >0.0780%</td>\n",
       "                        <td id=\"T_f7b63470_3d0e_11ec_a147_02cba411ec9drow2_col2\" class=\"data row2 col2\" >99.997010%</td>\n",
       "            </tr>\n",
       "            <tr>\n",
       "                        <th id=\"T_f7b63470_3d0e_11ec_a147_02cba411ec9dlevel0_row3\" class=\"row_heading level0 row3\" >3</th>\n",
       "                        <td id=\"T_f7b63470_3d0e_11ec_a147_02cba411ec9drow3_col0\" class=\"data row3 col0\" >21</td>\n",
       "                        <td id=\"T_f7b63470_3d0e_11ec_a147_02cba411ec9drow3_col1\" class=\"data row3 col1\" >0.0774%</td>\n",
       "                        <td id=\"T_f7b63470_3d0e_11ec_a147_02cba411ec9drow3_col2\" class=\"data row3 col2\" >99.995549%</td>\n",
       "            </tr>\n",
       "            <tr>\n",
       "                        <th id=\"T_f7b63470_3d0e_11ec_a147_02cba411ec9dlevel0_row4\" class=\"row_heading level0 row4\" >4</th>\n",
       "                        <td id=\"T_f7b63470_3d0e_11ec_a147_02cba411ec9drow4_col0\" class=\"data row4 col0\" >33</td>\n",
       "                        <td id=\"T_f7b63470_3d0e_11ec_a147_02cba411ec9drow4_col1\" class=\"data row4 col1\" >0.0781%</td>\n",
       "                        <td id=\"T_f7b63470_3d0e_11ec_a147_02cba411ec9drow4_col2\" class=\"data row4 col2\" >99.992942%</td>\n",
       "            </tr>\n",
       "            <tr>\n",
       "                        <th id=\"T_f7b63470_3d0e_11ec_a147_02cba411ec9dlevel0_row5\" class=\"row_heading level0 row5\" >5</th>\n",
       "                        <td id=\"T_f7b63470_3d0e_11ec_a147_02cba411ec9drow5_col0\" class=\"data row5 col0\" >61</td>\n",
       "                        <td id=\"T_f7b63470_3d0e_11ec_a147_02cba411ec9drow5_col1\" class=\"data row5 col1\" >0.0781%</td>\n",
       "                        <td id=\"T_f7b63470_3d0e_11ec_a147_02cba411ec9drow5_col2\" class=\"data row5 col2\" >99.986954%</td>\n",
       "            </tr>\n",
       "            <tr>\n",
       "                        <th id=\"T_f7b63470_3d0e_11ec_a147_02cba411ec9dlevel0_row6\" class=\"row_heading level0 row6\" >6</th>\n",
       "                        <td id=\"T_f7b63470_3d0e_11ec_a147_02cba411ec9drow6_col0\" class=\"data row6 col0\" >92</td>\n",
       "                        <td id=\"T_f7b63470_3d0e_11ec_a147_02cba411ec9drow6_col1\" class=\"data row6 col1\" >0.0811%</td>\n",
       "                        <td id=\"T_f7b63470_3d0e_11ec_a147_02cba411ec9drow6_col2\" class=\"data row6 col2\" >99.979560%</td>\n",
       "            </tr>\n",
       "            <tr>\n",
       "                        <th id=\"T_f7b63470_3d0e_11ec_a147_02cba411ec9dlevel0_row7\" class=\"row_heading level0 row7\" >7</th>\n",
       "                        <td id=\"T_f7b63470_3d0e_11ec_a147_02cba411ec9drow7_col0\" class=\"data row7 col0\" >125</td>\n",
       "                        <td id=\"T_f7b63470_3d0e_11ec_a147_02cba411ec9drow7_col1\" class=\"data row7 col1\" >0.0781%</td>\n",
       "                        <td id=\"T_f7b63470_3d0e_11ec_a147_02cba411ec9drow7_col2\" class=\"data row7 col2\" >99.973271%</td>\n",
       "            </tr>\n",
       "            <tr>\n",
       "                        <th id=\"T_f7b63470_3d0e_11ec_a147_02cba411ec9dlevel0_row8\" class=\"row_heading level0 row8\" >8</th>\n",
       "                        <td id=\"T_f7b63470_3d0e_11ec_a147_02cba411ec9drow8_col0\" class=\"data row8 col0\" >152</td>\n",
       "                        <td id=\"T_f7b63470_3d0e_11ec_a147_02cba411ec9drow8_col1\" class=\"data row8 col1\" >0.0760%</td>\n",
       "                        <td id=\"T_f7b63470_3d0e_11ec_a147_02cba411ec9drow8_col2\" class=\"data row8 col2\" >99.968343%</td>\n",
       "            </tr>\n",
       "            <tr>\n",
       "                        <th id=\"T_f7b63470_3d0e_11ec_a147_02cba411ec9dlevel0_row9\" class=\"row_heading level0 row9\" >9</th>\n",
       "                        <td id=\"T_f7b63470_3d0e_11ec_a147_02cba411ec9drow9_col0\" class=\"data row9 col0\" >182</td>\n",
       "                        <td id=\"T_f7b63470_3d0e_11ec_a147_02cba411ec9drow9_col1\" class=\"data row9 col1\" >0.0750%</td>\n",
       "                        <td id=\"T_f7b63470_3d0e_11ec_a147_02cba411ec9drow9_col2\" class=\"data row9 col2\" >99.962603%</td>\n",
       "            </tr>\n",
       "            <tr>\n",
       "                        <th id=\"T_f7b63470_3d0e_11ec_a147_02cba411ec9dlevel0_row10\" class=\"row_heading level0 row10\" >10</th>\n",
       "                        <td id=\"T_f7b63470_3d0e_11ec_a147_02cba411ec9drow10_col0\" class=\"data row10 col0\" >212</td>\n",
       "                        <td id=\"T_f7b63470_3d0e_11ec_a147_02cba411ec9drow10_col1\" class=\"data row10 col1\" >0.0736%</td>\n",
       "                        <td id=\"T_f7b63470_3d0e_11ec_a147_02cba411ec9drow10_col2\" class=\"data row10 col2\" >99.957265%</td>\n",
       "            </tr>\n",
       "            <tr>\n",
       "                        <th id=\"T_f7b63470_3d0e_11ec_a147_02cba411ec9dlevel0_row11\" class=\"row_heading level0 row11\" >11</th>\n",
       "                        <td id=\"T_f7b63470_3d0e_11ec_a147_02cba411ec9drow11_col0\" class=\"data row11 col0\" >243</td>\n",
       "                        <td id=\"T_f7b63470_3d0e_11ec_a147_02cba411ec9drow11_col1\" class=\"data row11 col1\" >0.0725%</td>\n",
       "                        <td id=\"T_f7b63470_3d0e_11ec_a147_02cba411ec9drow11_col2\" class=\"data row11 col2\" >99.951761%</td>\n",
       "            </tr>\n",
       "            <tr>\n",
       "                        <th id=\"T_f7b63470_3d0e_11ec_a147_02cba411ec9dlevel0_row12\" class=\"row_heading level0 row12\" >12</th>\n",
       "                        <td id=\"T_f7b63470_3d0e_11ec_a147_02cba411ec9drow12_col0\" class=\"data row12 col0\" >273</td>\n",
       "                        <td id=\"T_f7b63470_3d0e_11ec_a147_02cba411ec9drow12_col1\" class=\"data row12 col1\" >0.0720%</td>\n",
       "                        <td id=\"T_f7b63470_3d0e_11ec_a147_02cba411ec9drow12_col2\" class=\"data row12 col2\" >99.946187%</td>\n",
       "            </tr>\n",
       "            <tr>\n",
       "                        <th id=\"T_f7b63470_3d0e_11ec_a147_02cba411ec9dlevel0_row13\" class=\"row_heading level0 row13\" >13</th>\n",
       "                        <td id=\"T_f7b63470_3d0e_11ec_a147_02cba411ec9drow13_col0\" class=\"data row13 col0\" >306</td>\n",
       "                        <td id=\"T_f7b63470_3d0e_11ec_a147_02cba411ec9drow13_col1\" class=\"data row13 col1\" >0.0714%</td>\n",
       "                        <td id=\"T_f7b63470_3d0e_11ec_a147_02cba411ec9drow13_col2\" class=\"data row13 col2\" >99.940196%</td>\n",
       "            </tr>\n",
       "            <tr>\n",
       "                        <th id=\"T_f7b63470_3d0e_11ec_a147_02cba411ec9dlevel0_row14\" class=\"row_heading level0 row14\" >14</th>\n",
       "                        <td id=\"T_f7b63470_3d0e_11ec_a147_02cba411ec9drow14_col0\" class=\"data row14 col0\" >335</td>\n",
       "                        <td id=\"T_f7b63470_3d0e_11ec_a147_02cba411ec9drow14_col1\" class=\"data row14 col1\" >0.0708%</td>\n",
       "                        <td id=\"T_f7b63470_3d0e_11ec_a147_02cba411ec9drow14_col2\" class=\"data row14 col2\" >99.934996%</td>\n",
       "            </tr>\n",
       "            <tr>\n",
       "                        <th id=\"T_f7b63470_3d0e_11ec_a147_02cba411ec9dlevel0_row15\" class=\"row_heading level0 row15\" >15</th>\n",
       "                        <td id=\"T_f7b63470_3d0e_11ec_a147_02cba411ec9drow15_col0\" class=\"data row15 col0\" >365</td>\n",
       "                        <td id=\"T_f7b63470_3d0e_11ec_a147_02cba411ec9drow15_col1\" class=\"data row15 col1\" >0.0702%</td>\n",
       "                        <td id=\"T_f7b63470_3d0e_11ec_a147_02cba411ec9drow15_col2\" class=\"data row15 col2\" >99.929787%</td>\n",
       "            </tr>\n",
       "            <tr>\n",
       "                        <th id=\"T_f7b63470_3d0e_11ec_a147_02cba411ec9dlevel0_row16\" class=\"row_heading level0 row16\" >16</th>\n",
       "                        <td id=\"T_f7b63470_3d0e_11ec_a147_02cba411ec9drow16_col0\" class=\"data row16 col0\" >547</td>\n",
       "                        <td id=\"T_f7b63470_3d0e_11ec_a147_02cba411ec9drow16_col1\" class=\"data row16 col1\" >0.0642%</td>\n",
       "                        <td id=\"T_f7b63470_3d0e_11ec_a147_02cba411ec9drow16_col2\" class=\"data row16 col2\" >99.903893%</td>\n",
       "            </tr>\n",
       "            <tr>\n",
       "                        <th id=\"T_f7b63470_3d0e_11ec_a147_02cba411ec9dlevel0_row17\" class=\"row_heading level0 row17\" >17</th>\n",
       "                        <td id=\"T_f7b63470_3d0e_11ec_a147_02cba411ec9drow17_col0\" class=\"data row17 col0\" >730</td>\n",
       "                        <td id=\"T_f7b63470_3d0e_11ec_a147_02cba411ec9drow17_col1\" class=\"data row17 col1\" >0.0568%</td>\n",
       "                        <td id=\"T_f7b63470_3d0e_11ec_a147_02cba411ec9drow17_col2\" class=\"data row17 col2\" >99.886549%</td>\n",
       "            </tr>\n",
       "            <tr>\n",
       "                        <th id=\"T_f7b63470_3d0e_11ec_a147_02cba411ec9dlevel0_row18\" class=\"row_heading level0 row18\" >18</th>\n",
       "                        <td id=\"T_f7b63470_3d0e_11ec_a147_02cba411ec9drow18_col0\" class=\"data row18 col0\" >1097</td>\n",
       "                        <td id=\"T_f7b63470_3d0e_11ec_a147_02cba411ec9drow18_col1\" class=\"data row18 col1\" >0.0750%</td>\n",
       "                        <td id=\"T_f7b63470_3d0e_11ec_a147_02cba411ec9drow18_col2\" class=\"data row18 col2\" >99.774813%</td>\n",
       "            </tr>\n",
       "            <tr>\n",
       "                        <th id=\"T_f7b63470_3d0e_11ec_a147_02cba411ec9dlevel0_row19\" class=\"row_heading level0 row19\" >19</th>\n",
       "                        <td id=\"T_f7b63470_3d0e_11ec_a147_02cba411ec9drow19_col0\" class=\"data row19 col0\" >1462</td>\n",
       "                        <td id=\"T_f7b63470_3d0e_11ec_a147_02cba411ec9drow19_col1\" class=\"data row19 col1\" >0.1258%</td>\n",
       "                        <td id=\"T_f7b63470_3d0e_11ec_a147_02cba411ec9drow19_col2\" class=\"data row19 col2\" >99.497569%</td>\n",
       "            </tr>\n",
       "            <tr>\n",
       "                        <th id=\"T_f7b63470_3d0e_11ec_a147_02cba411ec9dlevel0_row20\" class=\"row_heading level0 row20\" >20</th>\n",
       "                        <td id=\"T_f7b63470_3d0e_11ec_a147_02cba411ec9drow20_col0\" class=\"data row20 col0\" >1826</td>\n",
       "                        <td id=\"T_f7b63470_3d0e_11ec_a147_02cba411ec9drow20_col1\" class=\"data row20 col1\" >0.1939%</td>\n",
       "                        <td id=\"T_f7b63470_3d0e_11ec_a147_02cba411ec9drow20_col2\" class=\"data row20 col2\" >99.034837%</td>\n",
       "            </tr>\n",
       "            <tr>\n",
       "                        <th id=\"T_f7b63470_3d0e_11ec_a147_02cba411ec9dlevel0_row21\" class=\"row_heading level0 row21\" >21</th>\n",
       "                        <td id=\"T_f7b63470_3d0e_11ec_a147_02cba411ec9drow21_col0\" class=\"data row21 col0\" >2191</td>\n",
       "                        <td id=\"T_f7b63470_3d0e_11ec_a147_02cba411ec9drow21_col1\" class=\"data row21 col1\" >0.2775%</td>\n",
       "                        <td id=\"T_f7b63470_3d0e_11ec_a147_02cba411ec9drow21_col2\" class=\"data row21 col2\" >98.348253%</td>\n",
       "            </tr>\n",
       "            <tr>\n",
       "                        <th id=\"T_f7b63470_3d0e_11ec_a147_02cba411ec9dlevel0_row22\" class=\"row_heading level0 row22\" >22</th>\n",
       "                        <td id=\"T_f7b63470_3d0e_11ec_a147_02cba411ec9drow22_col0\" class=\"data row22 col0\" >2556</td>\n",
       "                        <td id=\"T_f7b63470_3d0e_11ec_a147_02cba411ec9drow22_col1\" class=\"data row22 col1\" >0.3603%</td>\n",
       "                        <td id=\"T_f7b63470_3d0e_11ec_a147_02cba411ec9drow22_col2\" class=\"data row22 col2\" >97.508202%</td>\n",
       "            </tr>\n",
       "            <tr>\n",
       "                        <th id=\"T_f7b63470_3d0e_11ec_a147_02cba411ec9dlevel0_row23\" class=\"row_heading level0 row23\" >23</th>\n",
       "                        <td id=\"T_f7b63470_3d0e_11ec_a147_02cba411ec9drow23_col0\" class=\"data row23 col0\" >2924</td>\n",
       "                        <td id=\"T_f7b63470_3d0e_11ec_a147_02cba411ec9drow23_col1\" class=\"data row23 col1\" >0.4384%</td>\n",
       "                        <td id=\"T_f7b63470_3d0e_11ec_a147_02cba411ec9drow23_col2\" class=\"data row23 col2\" >96.548853%</td>\n",
       "            </tr>\n",
       "            <tr>\n",
       "                        <th id=\"T_f7b63470_3d0e_11ec_a147_02cba411ec9dlevel0_row24\" class=\"row_heading level0 row24\" >24</th>\n",
       "                        <td id=\"T_f7b63470_3d0e_11ec_a147_02cba411ec9drow24_col0\" class=\"data row24 col0\" >3288</td>\n",
       "                        <td id=\"T_f7b63470_3d0e_11ec_a147_02cba411ec9drow24_col1\" class=\"data row24 col1\" >0.5117%</td>\n",
       "                        <td id=\"T_f7b63470_3d0e_11ec_a147_02cba411ec9drow24_col2\" class=\"data row24 col2\" >95.495266%</td>\n",
       "            </tr>\n",
       "            <tr>\n",
       "                        <th id=\"T_f7b63470_3d0e_11ec_a147_02cba411ec9dlevel0_row25\" class=\"row_heading level0 row25\" >25</th>\n",
       "                        <td id=\"T_f7b63470_3d0e_11ec_a147_02cba411ec9drow25_col0\" class=\"data row25 col0\" >3653</td>\n",
       "                        <td id=\"T_f7b63470_3d0e_11ec_a147_02cba411ec9drow25_col1\" class=\"data row25 col1\" >0.5812%</td>\n",
       "                        <td id=\"T_f7b63470_3d0e_11ec_a147_02cba411ec9drow25_col2\" class=\"data row25 col2\" >94.349488%</td>\n",
       "            </tr>\n",
       "            <tr>\n",
       "                        <th id=\"T_f7b63470_3d0e_11ec_a147_02cba411ec9dlevel0_row26\" class=\"row_heading level0 row26\" >26</th>\n",
       "                        <td id=\"T_f7b63470_3d0e_11ec_a147_02cba411ec9drow26_col0\" class=\"data row26 col0\" >4383</td>\n",
       "                        <td id=\"T_f7b63470_3d0e_11ec_a147_02cba411ec9drow26_col1\" class=\"data row26 col1\" >0.6917%</td>\n",
       "                        <td id=\"T_f7b63470_3d0e_11ec_a147_02cba411ec9drow26_col2\" class=\"data row26 col2\" >92.028980%</td>\n",
       "            </tr>\n",
       "            <tr>\n",
       "                        <th id=\"T_f7b63470_3d0e_11ec_a147_02cba411ec9dlevel0_row27\" class=\"row_heading level0 row27\" >27</th>\n",
       "                        <td id=\"T_f7b63470_3d0e_11ec_a147_02cba411ec9drow27_col0\" class=\"data row27 col0\" >5479</td>\n",
       "                        <td id=\"T_f7b63470_3d0e_11ec_a147_02cba411ec9drow27_col1\" class=\"data row27 col1\" >0.8064%</td>\n",
       "                        <td id=\"T_f7b63470_3d0e_11ec_a147_02cba411ec9drow27_col2\" class=\"data row27 col2\" >88.599741%</td>\n",
       "            </tr>\n",
       "            <tr>\n",
       "                        <th id=\"T_f7b63470_3d0e_11ec_a147_02cba411ec9dlevel0_row28\" class=\"row_heading level0 row28\" >28</th>\n",
       "                        <td id=\"T_f7b63470_3d0e_11ec_a147_02cba411ec9drow28_col0\" class=\"data row28 col0\" >7306</td>\n",
       "                        <td id=\"T_f7b63470_3d0e_11ec_a147_02cba411ec9drow28_col1\" class=\"data row28 col1\" >0.9253%</td>\n",
       "                        <td id=\"T_f7b63470_3d0e_11ec_a147_02cba411ec9drow28_col2\" class=\"data row28 col2\" >83.092401%</td>\n",
       "            </tr>\n",
       "            <tr>\n",
       "                        <th id=\"T_f7b63470_3d0e_11ec_a147_02cba411ec9dlevel0_row29\" class=\"row_heading level0 row29\" >29</th>\n",
       "                        <td id=\"T_f7b63470_3d0e_11ec_a147_02cba411ec9drow29_col0\" class=\"data row29 col0\" >9133</td>\n",
       "                        <td id=\"T_f7b63470_3d0e_11ec_a147_02cba411ec9drow29_col1\" class=\"data row29 col1\" >0.9657%</td>\n",
       "                        <td id=\"T_f7b63470_3d0e_11ec_a147_02cba411ec9drow29_col2\" class=\"data row29 col2\" >78.533775%</td>\n",
       "            </tr>\n",
       "            <tr>\n",
       "                        <th id=\"T_f7b63470_3d0e_11ec_a147_02cba411ec9dlevel0_row30\" class=\"row_heading level0 row30\" >30</th>\n",
       "                        <td id=\"T_f7b63470_3d0e_11ec_a147_02cba411ec9drow30_col0\" class=\"data row30 col0\" >10957</td>\n",
       "                        <td id=\"T_f7b63470_3d0e_11ec_a147_02cba411ec9drow30_col1\" class=\"data row30 col1\" >0.9881%</td>\n",
       "                        <td id=\"T_f7b63470_3d0e_11ec_a147_02cba411ec9drow30_col2\" class=\"data row30 col2\" >74.332619%</td>\n",
       "            </tr>\n",
       "            <tr>\n",
       "                        <th id=\"T_f7b63470_3d0e_11ec_a147_02cba411ec9dlevel0_row31\" class=\"row_heading level0 row31\" >31</th>\n",
       "                        <td id=\"T_f7b63470_3d0e_11ec_a147_02cba411ec9drow31_col0\" class=\"data row31 col0\" >14610</td>\n",
       "                        <td id=\"T_f7b63470_3d0e_11ec_a147_02cba411ec9drow31_col1\" class=\"data row31 col1\" >0.9408%</td>\n",
       "                        <td id=\"T_f7b63470_3d0e_11ec_a147_02cba411ec9drow31_col2\" class=\"data row31 col2\" >68.619685%</td>\n",
       "            </tr>\n",
       "            <tr>\n",
       "                        <th id=\"T_f7b63470_3d0e_11ec_a147_02cba411ec9dlevel0_row32\" class=\"row_heading level0 row32\" >32</th>\n",
       "                        <td id=\"T_f7b63470_3d0e_11ec_a147_02cba411ec9drow32_col0\" class=\"data row32 col0\" >18262</td>\n",
       "                        <td id=\"T_f7b63470_3d0e_11ec_a147_02cba411ec9drow32_col1\" class=\"data row32 col1\" >0.8464%</td>\n",
       "                        <td id=\"T_f7b63470_3d0e_11ec_a147_02cba411ec9drow32_col2\" class=\"data row32 col2\" >65.475678%</td>\n",
       "            </tr>\n",
       "    </tbody></table>"
      ],
      "text/plain": [
       "<pandas.io.formats.style.Styler at 0x7f0b07463748>"
      ]
     },
     "execution_count": 3,
     "metadata": {},
     "output_type": "execute_result"
    }
   ],
   "source": [
    "df_curva.style.format({'tasa': '{:.4%}', 'df': '{:.6%}'})"
   ]
  }
 ],
 "metadata": {
  "hide_input": false,
  "kernelspec": {
   "display_name": "Python 3",
   "language": "python",
   "name": "python3"
  },
  "language_info": {
   "codemirror_mode": {
    "name": "ipython",
    "version": 3
   },
   "file_extension": ".py",
   "mimetype": "text/x-python",
   "name": "python",
   "nbconvert_exporter": "python",
   "pygments_lexer": "ipython3",
   "version": "3.7.3"
  },
  "toc": {
   "base_numbering": "20",
   "nav_menu": {},
   "number_sections": true,
   "sideBar": true,
   "skip_h1_title": false,
   "title_cell": "Table of Contents",
   "title_sidebar": "Contents",
   "toc_cell": false,
   "toc_position": {},
   "toc_section_display": true,
   "toc_window_display": true
  }
 },
 "nbformat": 4,
 "nbformat_minor": 4
}
