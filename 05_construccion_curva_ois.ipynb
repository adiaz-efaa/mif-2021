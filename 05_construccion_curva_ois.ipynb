{
 "cells": [
  {
   "cell_type": "markdown",
   "metadata": {},
   "source": [
    "# Construcción Curva OIS"
   ]
  },
  {
   "cell_type": "code",
   "execution_count": 5,
   "metadata": {
    "ExecuteTime": {
     "end_time": "2020-12-10T21:40:50.896205Z",
     "start_time": "2020-12-10T21:40:50.892705Z"
    },
    "hide_input": false
   },
   "outputs": [],
   "source": [
    "from IPython.display import Image"
   ]
  },
  {
   "cell_type": "markdown",
   "metadata": {},
   "source": [
    "En el notebook anterior vimos que el valor de un derivado perfectamente colateralizado se obtiene descontando su payoff con un factor de descuento que proviene de la curva asociada a la tasa de remuneración del colateral.\n",
    "\n",
    "Dicha tasa de remuneración es, en la gran mayoría de los casos, una tasa overnight. En el caso USD, para los CSA se utiliza *Effective Fed Funds* mientras que las contrapartes centrales están migrando a *SOFR*.\n",
    "\n",
    "A continuación se verá cómo construir la curva asociada a *SOFR* a partir de cotizaciones de swaps de *SOFR* versus tasa fija. El procedimiento se conoce como **bootstrapping** por el hecho que la construcción de la curva se hace de forma incremental, partiendo de una solución parcial de fácil obtención."
   ]
  },
  {
   "cell_type": "markdown",
   "metadata": {},
   "source": [
    "## Bootstrapping para OIS"
   ]
  },
  {
   "cell_type": "markdown",
   "metadata": {
    "cell_style": "center"
   },
   "source": [
    "Tenemos que (notebook 4):\n",
    "\n",
    "$$\n",
    "\\begin{equation}\n",
    "\\Pi\\left(t,X\\right)=\\mathbb{E}_t^{Q_f}\\left[D_c\\left(t,T\\right)\\Pi\\left(T,X\\right)\\right]\n",
    "\\end{equation}\n",
    "$$\n",
    "\n",
    "$$\n",
    "\\begin{equation}\n",
    "D_c\\left(t,T\\right)=\\exp\\left[-\\int_t^Tr_c\\left(u\\right)du\\right]\n",
    "\\end{equation}\n",
    "$$\n",
    "\n",
    "$$\n",
    "\\begin{equation}\n",
    "\\mathbb{E}_t^{Q_f}\\left[D_c\\left(t,T\\right)\\right]=P_c\\left(t,T\\right)\n",
    "\\end{equation}\n",
    "$$\n",
    "\n",
    "$$\n",
    "\\begin{equation}\n",
    "D_c\\left(t,T\\right)={B_c\\left(t,T\\right)}^{-1}\n",
    "\\end{equation}\n",
    "$$"
   ]
  },
  {
   "cell_type": "markdown",
   "metadata": {},
   "source": [
    "Consideremos el valor de la pata fija de un OIS. Para fijar las ideas, supongamos una pata a 2Y con cupones anuales. Suponemos, adicionalmente que el valor del nocional es 1 y que éste se paga al vencimiento. El valor de la pata fija es:\n",
    "\n",
    "$$\n",
    "\\begin{equation}\n",
    "\\Pi^{fija}\\left(t\\right)=\\mathbb{E}_t^{Q_f}\\left[D_c\\left(t,T_1\\right)\\cdot r\\cdot\\frac{T_1-T_0}{360}+D_c\\left(t,T_2\\right)\\left(1+r \\cdot \\frac{T_2-T_1}{360}\\right)\\right]\n",
    "\\end{equation}\n",
    "$$\n",
    "\n",
    "$$\n",
    "\\begin{equation}\n",
    "\\Pi^{fija}\\left(t\\right)=\\mathbb{E}_t^{Q_f}\\left[D_c\\left(t,T_1\\right)\\right]\\cdot r\\cdot\\frac{T_1-T_0}{360}+\\mathbb{E}_t^{Q_f}\\left[D_c\\left(t,T_2\\right)\\right]\\left(1+r \\cdot \\frac{T_2-T_1}{360}\\right)\n",
    "\\end{equation}\n",
    "$$\n",
    "\n",
    "$$\n",
    "\\begin{equation}\n",
    "\\Pi^{fija}\\left(t\\right)=P_c\\left(t,T_1\\right)\\cdot r\\cdot\\frac{T_1-T_0}{360}+P_c\\left(t,T_2\\right)\\left(1+r \\cdot \\frac{T_2-T_1}{360}\\right)\n",
    "\\end{equation}\n",
    "$$\n",
    "\n",
    "Vemos que la expresión (7) corresponde a la suma de:\n",
    "\n",
    "- primer cupón de intereses traído a valor presente con el factor de descuento entre $t$ y $T_1$\n",
    "- segundo cupón de intereses y nocional traído a valor presente con el factor de descuento entre $t$ y $T_2$\n",
    "\n",
    "Donde $T_0$ representa la fecha en que el primer cupón del swap comienza a devengar intereses (usualmente 2 días hábiles después de la fecha de celebración del contrato)."
   ]
  },
  {
   "cell_type": "markdown",
   "metadata": {},
   "source": [
    "Por otro lado, el valor de la pata flotante es:\n",
    "\n",
    "$$\n",
    "\\begin{equation}\n",
    "\\Pi^{flot}\\left(t\\right)=\\mathbb{E}_t^{Q_f}\\left[D_c\\left(t,T_1\\right) \\cdot \\left(\\frac{B_c\\left(t,T_1\\right)}{B_c\\left(t,T_0\\right)}-1\\right)\\right]+\\mathbb{E}_t^{Q_f}\\left[D_c\\left(t,T_2\\right) \\cdot \\frac{B_c\\left(t,T_2\\right)}{B_c\\left(t,T_1\\right)}\\right]\n",
    "\\end{equation}\n",
    "$$\n",
    "\n",
    "Aplicando (4) se obtiene:\n",
    "\n",
    "$$\n",
    "\\begin{equation}\n",
    "\\Pi^{flot}\\left(t\\right)=\\mathbb{E}_t^{Q_f}\\left[D_c\\left(t,T_0\\right)-D_c\\left(t,T_1\\right)\\right]+\\mathbb{E}_t^{Q_f}\\left[D_c\\left(t,T_1\\right)\\right]\n",
    "\\end{equation}\n",
    "$$\n",
    "\n",
    "Utilizando el hecho que el valor esperado es un operador lineal se llega a:\n",
    "\n",
    "$$\n",
    "\\begin{equation}\n",
    "\\Pi^{flot}\\left(t\\right)=\\mathbb{E}_t^{Q_f}\\left[D_c\\left(t,T_0\\right)\\right]=P_c\\left(t,T_0\\right)\n",
    "\\end{equation}\n",
    "$$"
   ]
  },
  {
   "cell_type": "markdown",
   "metadata": {},
   "source": [
    "Si se supone que $t=T_0$ tenemos que:\n",
    "\n",
    "$$\n",
    "\\begin{equation}\n",
    "P_c\\left(t,T_0\\right)=P_c\\left(T_0,T_0\\right)=1\n",
    "\\end{equation}\n",
    "$$\n",
    "\n",
    "Y por lo tanto, utilizando (7) y (10) se deduce que:\n",
    "\n",
    "$$\n",
    "\\begin{equation}\n",
    "\\Pi^{fija}\\left(T_0\\right)=P_c\\left(t_0,T_1\\right)\\cdot r\\cdot\\frac{T_1-T_0}{360}+P_c\\left(t_0,T_2\\right)\\left(1+r \\cdot \\frac{T_2-T_1}{360}\\right)=1\n",
    "\\end{equation}\n",
    "$$\n",
    "\n",
    "O sea, el valor presente de los flujos de la pata fija, considerando que el nocional se paga al vencimiento y utilizando los factores de descuento de la curva OIS es 1 (más generalmente es igual al nocional si se considera un nocional distinto de 1)."
   ]
  },
  {
   "cell_type": "markdown",
   "metadata": {},
   "source": [
    "La fórmula (12) se puede extender fácilmente a los OIS de cualquier vencimiento y la podemos escribir, en forma general, de la siguiente manera:\n",
    "\n",
    "$$\n",
    "\\begin{equation}\n",
    "\\Pi^{fija,tenor}\\left(T_0\\right)=\\sum\\limits_{j=1}^{m-1}P_c\\left(T_0,T_j\\right)\\cdot r\\cdot\\frac{T_j-T_{j-1}}{360}+P_c\\left(T_m,T_{m-1}\\right)\\cdot\\left(1+r\\cdot\\frac{T_m-T_{m-1}}{360}\\right)=1\n",
    "\\end{equation}\n",
    "$$\n",
    "\n",
    "Donde $tenor$ representa el plazo del swap (6M, 1Y, 5Y, ...) y $m$ es el número de cupones del swap. Por ejemplo, en un swap con $tenor=5Y$ y periodicidad anual, $m=5$. Para el mismo $tenor$, si la periodicidad es semestral, entonces $m=10$."
   ]
  },
  {
   "cell_type": "markdown",
   "metadata": {},
   "source": [
    "La ecuación (13), por si sola, no sería muy útil si no existiera toda una familia de OIS a distintos plazos para los cuales puedo observar su tasa fija en un momento dado del tiempo. Por ejemplo, para los OIS de *SOFR*, se dispone del siguiente panel de precios durante las horas en que estos productos se transan (hay incluso más plazos, pero no se ven todos en esta imagen)."
   ]
  },
  {
   "cell_type": "code",
   "execution_count": 6,
   "metadata": {
    "ExecuteTime": {
     "end_time": "2020-12-10T21:40:50.920764Z",
     "start_time": "2020-12-10T21:40:50.901997Z"
    }
   },
   "outputs": [
    {
     "data": {
      "text/html": [
       "<img src=\"img/20201015_sofr_swaps.gif\" width=\"900\" height=\"720\"/>"
      ],
      "text/plain": [
       "<IPython.core.display.Image object>"
      ]
     },
     "execution_count": 6,
     "metadata": {},
     "output_type": "execute_result"
    }
   ],
   "source": [
    "Image(url=\"img/20201015_sofr_swaps.gif\", width=900, height=720)"
   ]
  },
  {
   "cell_type": "markdown",
   "metadata": {},
   "source": [
    "Los primeros 13 swaps son cero cupón, y por lo tanto, las ecuaciones correspondientes son muy sencillas:\n",
    "\n",
    "$$\n",
    "\\begin{equation}\n",
    "\\Pi^{fija,tenor}\\left(T_0\\right)=P_c\\left(T_0,T_{tenor}\\right)\\cdot\\left(1+r\\cdot\\frac{T_{tenor}-T_0}{360}\\right)=1\n",
    "\\end{equation}\n",
    "$$\n",
    "\n",
    "donde $tenor\\in\\ \\left\\{ 1W, 2W, 3W, 1M, 2M, 3M, 4M, 5M, 6M, 9M, 10M, 11M,1Y \\right\\}$."
   ]
  },
  {
   "cell_type": "markdown",
   "metadata": {},
   "source": [
    "Al swap cuyo $tenor=18M$ le corresponde la siguiente ecuación:\n",
    "\n",
    "$$\n",
    "\\begin{equation}\n",
    "\\Pi^{fija,18M}\\left(T_0\\right)=P_c\\left(T_0,T_1\\right)\\cdot r\\cdot\\frac{T_1-T_{0}}{360}+P_c\\left(T_0,T_{2}\\right)\\cdot\\left(1+r\\cdot\\frac{T_2-T_1}{360}\\right)=1\n",
    "\\end{equation}\n",
    "$$\n",
    "\n",
    "En (15), gracias a las ecuaciones (14), el único término desconocido es $P_c\\left(T_0,T_2\\right)$ y por lo tanto, se puede resolver. Esto mismo se repite para los swaps cuyo $tenor \\in \\left\\{ 2Y,3Y,4Y,5Y \\right\\}$."
   ]
  },
  {
   "cell_type": "markdown",
   "metadata": {},
   "source": [
    "Al swap cuyo $tenor=10Y$ le corresponde la siguiente ecuación:\n",
    "\n",
    "$$\n",
    "\\begin{equation}\n",
    "\\Pi^{fija,10Y}\\left(T_0\\right)=\\sum\\limits_{j=1}^{9}P_c\\left(T_0,T_j\\right)\\cdot r\\cdot\\frac{T_j-T_{j-1}}{360}+P_c\\left(T_0,T_{10}\\right)\\cdot\\left(1+r\\cdot\\frac{T_{10}-T_9}{360}\\right)=1\n",
    "\\end{equation}\n",
    "$$\n",
    "\n",
    "En (16), los términos $P_c\\left(T_0,T_j\\right)$ con $j\\in \\left\\{6,7,8,9,10\\right\\}$y son desconocidos, lo que nos fuerza a imponer alguna condición adicional que reduzca el número de incógnitas a 1. La condición que se impone es la siguiente:\n",
    "\n",
    "$$\n",
    "\\begin{equation}\n",
    "P_c\\left(T_0,T_j\\right)=g\\left(T_j, P_c\\left(T_0,T_5\\right),  P_c\\left(T_0,T_{10}\\right)\\right)\n",
    "\\end{equation}\n",
    "$$\n",
    "\n",
    "Donde $j\\in\\left\\{6,7,8,9\\right\\}$ y $g$ es algún tipo de interpolación. Un razonamiento similar debe aplicarse al swap cuyo $tenor=20Y$."
   ]
  },
  {
   "cell_type": "markdown",
   "metadata": {
    "solution2": "hidden",
    "solution2_first": true
   },
   "source": [
    "### Ejercicio\n",
    "\n",
    "Demuestre que, para valorizar, el valor esperado en $t$ de un flujo entre $T_1$ y $T_2$ de la pata flotante se puede calcular como:\n",
    "\n",
    "$$\n",
    "\\begin{equation}\n",
    "nominal\\cdot r_{T_1,T_2}\\cdot\\frac{T_2-T_1}{360}\n",
    "\\end{equation}\n",
    "$$\n",
    "\n",
    "donde\n",
    "\n",
    "$$\n",
    "\\begin{equation}\n",
    "r_{T_1,T_2}=\\left( \\frac{P_c\\left(t, T_1\\right)}{P_c\\left(t, T_2\\right)}-1\\right)\\cdot\\frac{360}{T_2-T_1}\n",
    "\\end{equation}\n",
    "$$"
   ]
  },
  {
   "cell_type": "markdown",
   "metadata": {
    "solution2": "hidden"
   },
   "source": [
    "Por una parte tenemos que (considerando $nominal=1$):\n",
    "\n",
    "$$\n",
    "\\begin{equation}\n",
    "\\Pi^{flot}\\left(t,T_1,T_2\\right)=\\mathbb{E}_t^{Q_f}\\left[D_c\\left(t,T_2\\right)\\left(\\frac{B_c\\left(t,T_2\\right)}{B_c\\left(t,T_1\\right)}-1\\right)\\right]=P_c\\left(t,T_1\\right)-P_c\\left(t,T_2\\right)\n",
    "\\end{equation}\n",
    "$$"
   ]
  },
  {
   "cell_type": "markdown",
   "metadata": {
    "solution2": "hidden"
   },
   "source": [
    "Por otra parte también sabemos que (siempre con $nominal=1$):\n",
    "\n",
    "$$\n",
    "\\begin{equation}\n",
    "\\Pi^{flot}\\left(t,T_1,T_2\\right)=P_c\\left(t,T_2\\right)\\cdot\\mathbb{E}_t^{Q_f^{T_2}}\\left[ON\\left(T_1,T_2\\right)\\cdot\\frac{T_2-T_1}{360}\\right]\n",
    "\\end{equation}\n",
    "$$\n",
    "\n",
    "Donde $ON\\left(T_1,T_2\\right)$ es la tasa equivalente al producto de los factores de capitalización de la tasa overnight asociada al OIS entre $T_1$ y $T_2$."
   ]
  },
  {
   "cell_type": "markdown",
   "metadata": {
    "solution2": "hidden"
   },
   "source": [
    "Juntando (20) y (21) llegamos a:\n",
    "\n",
    "$$\n",
    "\\begin{equation}\n",
    "\\frac{T_2-T_1}{360}\\cdot\\mathbb{E}_t^{Q_f^{T_2}}\\left[ON\\left(T_1,T_2\\right)\\right]=\\frac{P_c\\left(t,T_1\\right)-P_c\\left(t,T_2\\right)}{P_c\\left(t,T_2\\right)}\n",
    "\\end{equation}\n",
    "$$\n",
    "\n",
    "Por lo tanto, si denotamos $\\mathbb{E}_t^{Q_f^{T_2}}\\left[ON\\left(T_1,T_2\\right)\\right]=r_{T_1,T_2}$ (22) implica (18) utilizando $nominal=1$. Es evidente que el resultado se generaliza para cualquier $nominal>0$."
   ]
  },
  {
   "cell_type": "markdown",
   "metadata": {},
   "source": [
    "## Implementación"
   ]
  },
  {
   "cell_type": "markdown",
   "metadata": {},
   "source": [
    "En lo que sigue, se implementa el **bootstrapping** para swaps de *SOFR* versus tasa fija."
   ]
  },
  {
   "cell_type": "markdown",
   "metadata": {},
   "source": [
    "### Librerías"
   ]
  },
  {
   "cell_type": "code",
   "execution_count": 7,
   "metadata": {
    "ExecuteTime": {
     "end_time": "2020-12-10T21:40:51.248143Z",
     "start_time": "2020-12-10T21:40:50.926930Z"
    }
   },
   "outputs": [],
   "source": [
    "from finrisk import QC_Financial_3 as Qcf\n",
    "from scipy.optimize import root_scalar\n",
    "import modules.auxiliary as aux\n",
    "import pandas as pd\n",
    "import math"
   ]
  },
  {
   "cell_type": "markdown",
   "metadata": {},
   "source": [
    "### Variables Globales"
   ]
  },
  {
   "cell_type": "markdown",
   "metadata": {},
   "source": [
    "Se da de alta un objeto de tipo `Qcf.BusinessCalendar`y se agregan los feriados relevantes para la implementación."
   ]
  },
  {
   "cell_type": "code",
   "execution_count": 8,
   "metadata": {
    "ExecuteTime": {
     "end_time": "2020-12-10T21:40:51.261286Z",
     "start_time": "2020-12-10T21:40:51.250610Z"
    }
   },
   "outputs": [],
   "source": [
    "bus_cal = Qcf.BusinessCalendar(Qcf.QCDate(1, 1, 2020), 20)\n",
    "for agno in range(2020, 2071):\n",
    "    f = Qcf.QCDate(12, 10, agno)\n",
    "    if f.week_day() == Qcf.WeekDay.SAT:\n",
    "        bus_cal.add_holiday(Qcf.QCDate(14, 10, agno))\n",
    "        # pass\n",
    "    elif f.week_day() == Qcf.WeekDay.SUN:\n",
    "        bus_cal.add_holiday(Qcf.QCDate(13, 10, agno))\n",
    "    elif f.week_day() == Qcf.WeekDay.MON:\n",
    "        bus_cal.add_holiday(Qcf.QCDate(12, 10, agno))\n",
    "    elif f.week_day() == Qcf.WeekDay.TUE:\n",
    "        bus_cal.add_holiday(Qcf.QCDate(11, 10, agno))\n",
    "    elif f.week_day() == Qcf.WeekDay.WED:\n",
    "        bus_cal.add_holiday(Qcf.QCDate(10, 10, agno))\n",
    "    elif f.week_day() == Qcf.WeekDay.THU:\n",
    "        bus_cal.add_holiday(Qcf.QCDate(9, 10, agno))\n",
    "    else:\n",
    "        bus_cal.add_holiday(Qcf.QCDate(8,10, agno))\n",
    "bus_cal.add_holiday(Qcf.QCDate(15, 2, 2021))"
   ]
  },
  {
   "cell_type": "markdown",
   "metadata": {},
   "source": [
    "### Funciones"
   ]
  },
  {
   "cell_type": "code",
   "execution_count": 9,
   "metadata": {
    "ExecuteTime": {
     "end_time": "2020-12-10T21:40:51.274197Z",
     "start_time": "2020-12-10T21:40:51.263528Z"
    },
    "code_folding": [
     0
    ]
   },
   "outputs": [],
   "source": [
    "def make_fixed_leg(start_date: str, tenor: str, rate_value: float) -> Qcf.Leg:\n",
    "    \"\"\"\n",
    "    Construye un pata fija con algunos parámetros prefijados:\n",
    "    \n",
    "    - recibo o pago: R\n",
    "    - nocional: 1,000,000\n",
    "    - moneda: USD\n",
    "    - periodicidad: 1Y\n",
    "    - business adjustment rule: MODFOLLOW\n",
    "    - stub period: SHORTBACK\n",
    "    \n",
    "    params:\n",
    "    \n",
    "    - start_date: fecha inicial de la pata en formato ISO\n",
    "    - tenor: plazo estructurado de la pata (1Y, 2Y, 18M, ...)\n",
    "    - rate_value: valor de la tasa fija\n",
    "    \n",
    "    return:\n",
    "    \n",
    "    - objeto `Qcf.Leg` con cashflows de tipo `FixedRateCashflow`\n",
    "    \"\"\"\n",
    "    # Recibo o pago los flujos de esta pata\n",
    "    rp = Qcf.RecPay.RECEIVE\n",
    "\n",
    "    # Periodicidad de pago\n",
    "    periodicidad = Qcf.Tenor('1Y')\n",
    "\n",
    "    # Tipo de período irregular (si lo hay)\n",
    "    periodo_irregular = Qcf.StubPeriod.SHORTFRONT\n",
    "\n",
    "    # Regla para ajustes de días feriados\n",
    "    bus_adj_rule = Qcf.BusyAdjRules.MODFOLLOW\n",
    "\n",
    "    # Número de días después de la fecha final de devengo en que se paga el flujo\n",
    "    lag_pago = 0\n",
    "\n",
    "    # Nocional del contrato\n",
    "    nocional = 10000000.0\n",
    "\n",
    "    # Considera amortización\n",
    "    amort_es_flujo = True\n",
    "\n",
    "    # Moneda\n",
    "    moneda = Qcf.QCUSD()\n",
    "\n",
    "    # Es un bono de RF\n",
    "    es_bono = False\n",
    "\n",
    "    # Fecha de inicio de devengo del primer cupón\n",
    "    fecha_inicial = Qcf.build_qcdate_from_string(start_date)\n",
    "\n",
    "    # Fecha final de devengo, antes de ajustes, del último cupón\n",
    "    qc_tenor = Qcf.Tenor(tenor)\n",
    "    meses = qc_tenor.get_years()*12 + qc_tenor.get_months()\n",
    "    if meses > 0:\n",
    "        fecha_final = fecha_inicial.add_months(meses)\n",
    "    else:\n",
    "        dias = qc_tenor.get_days()\n",
    "        fecha_final = fecha_inicial.add_days(dias)\n",
    "\n",
    "    valor_tasa = rate_value\n",
    "    tasa_cupon = Qcf.QCInterestRate(\n",
    "        valor_tasa, Qcf.QCAct360(), Qcf.QCLinearWf())\n",
    "    \n",
    "    # Se da de alta el objeto y se retorna\n",
    "    return Qcf.LegFactory.build_bullet_fixed_rate_leg(\n",
    "        rp,\n",
    "        fecha_inicial,\n",
    "        fecha_final,\n",
    "        bus_adj_rule,\n",
    "        periodicidad,\n",
    "        periodo_irregular,\n",
    "        bus_cal,\n",
    "        lag_pago,\n",
    "        nocional,\n",
    "        amort_es_flujo,\n",
    "        tasa_cupon,\n",
    "        moneda,\n",
    "        es_bono)"
   ]
  },
  {
   "cell_type": "code",
   "execution_count": 10,
   "metadata": {
    "ExecuteTime": {
     "end_time": "2020-12-10T21:40:51.290696Z",
     "start_time": "2020-12-10T21:40:51.278735Z"
    },
    "code_folding": [
     0
    ]
   },
   "outputs": [],
   "source": [
    "def error_with_rate(rate: float, *args) -> float:\n",
    "    \"\"\"\n",
    "    Calcula el error entre el valor presente de una pata fija calculado con una curva cero y el nocional\n",
    "    de la pata fija. Esta función está diseñada para servir de apoyo al proceso de bootstrapping de una curva\n",
    "    cero cupón de OIS.\n",
    "    \n",
    "    params:\n",
    "    \n",
    "    - rate: valor a utilizar para la última tasa de la curva\n",
    "    - args: iterable con plazos de la curva, tasas de la curva, objeto Qcf.Leg a valorizar y fecha de\n",
    "    valorización.\n",
    "    \n",
    "    return:\n",
    "    \n",
    "    - float con el monto del error.\n",
    "    \"\"\"\n",
    "    # Para usar la librería, los plazos y tasas deben estar en estos formatos.\n",
    "    # Recordar que la librería está escrita en C++. \n",
    "    plazos = Qcf.long_vec()\n",
    "    for p in args[0]:\n",
    "        plazos.append(p)\n",
    "    \n",
    "    tasas = Qcf.double_vec()\n",
    "    for t in args[1]:\n",
    "        tasas.append(t)\n",
    "    \n",
    "    pata = args[2]\n",
    "    \n",
    "    fecha_val = args[3]\n",
    "    \n",
    "    # Se construye una curva cero Qcf\n",
    "    curva = Qcf.QCCurve(plazos, tasas)\n",
    "    cuantos = curva.get_length()\n",
    "    par = curva.get_values_at(cuantos - 1)\n",
    "    curva.set_pair(par.tenor, rate) # La variable rate se transforma en la última tasa de la curva\n",
    "    curva = Qcf.QCLinearInterpolator(curva)\n",
    "    curva = Qcf.ZeroCouponCurve(curva, Qcf.QCInterestRate(\n",
    "        0.0, Qcf.QCAct365(), Qcf.QCContinousWf()))\n",
    "    \n",
    "    # Se da de alta el objeto que calcula valores presentes\n",
    "    vp = Qcf.PresentValue()\n",
    "    \n",
    "    # Se retorna la diferencia entre el vp calculado con la curva y el nominal\n",
    "    return vp.pv(fecha_val, pata, curva) - pata.get_cashflow_at(0).get_nominal()"
   ]
  },
  {
   "cell_type": "markdown",
   "metadata": {},
   "source": [
    "### Formatos `DataFrame`"
   ]
  },
  {
   "cell_type": "code",
   "execution_count": 11,
   "metadata": {
    "ExecuteTime": {
     "end_time": "2020-12-10T21:40:51.299067Z",
     "start_time": "2020-12-10T21:40:51.294847Z"
    }
   },
   "outputs": [],
   "source": [
    "frmt = {'rate_value': '{:.8%}', 'valor_tasa': '{:.8%}',\n",
    "        'nominal': '{:,.2f}', 'amortizacion': '{:,.2f}',\n",
    "        'interes': '{:,.2f}', 'flujo': '{:,.2f}'\n",
    "       }"
   ]
  },
  {
   "cell_type": "markdown",
   "metadata": {},
   "source": [
    "### Obtiene Data"
   ]
  },
  {
   "cell_type": "code",
   "execution_count": 12,
   "metadata": {
    "ExecuteTime": {
     "end_time": "2020-12-10T21:40:51.349910Z",
     "start_time": "2020-12-10T21:40:51.301557Z"
    }
   },
   "outputs": [],
   "source": [
    "swaps = pd.read_excel('data/20201012_sofr_zero.xlsx', sheet_name='upload')\n",
    "swaps['start_date'] = swaps['start_date'].astype(str).str[:10]"
   ]
  },
  {
   "cell_type": "code",
   "execution_count": 13,
   "metadata": {
    "ExecuteTime": {
     "end_time": "2020-12-10T21:40:51.450677Z",
     "start_time": "2020-12-10T21:40:51.352297Z"
    }
   },
   "outputs": [
    {
     "data": {
      "text/html": [
       "<style  type=\"text/css\" >\n",
       "</style><table id=\"T_5fa7b50e_3b30_11eb_a3d0_02cba411ec9d\" ><thead>    <tr>        <th class=\"blank level0\" ></th>        <th class=\"col_heading level0 col0\" >start_date</th>        <th class=\"col_heading level0 col1\" >tenor</th>        <th class=\"col_heading level0 col2\" >rate_value</th>        <th class=\"col_heading level0 col3\" >rate_type</th>        <th class=\"col_heading level0 col4\" >periodicity</th>        <th class=\"col_heading level0 col5\" >stub_period</th>    </tr></thead><tbody>\n",
       "                <tr>\n",
       "                        <th id=\"T_5fa7b50e_3b30_11eb_a3d0_02cba411ec9dlevel0_row0\" class=\"row_heading level0 row0\" >0</th>\n",
       "                        <td id=\"T_5fa7b50e_3b30_11eb_a3d0_02cba411ec9drow0_col0\" class=\"data row0 col0\" >2020-10-14</td>\n",
       "                        <td id=\"T_5fa7b50e_3b30_11eb_a3d0_02cba411ec9drow0_col1\" class=\"data row0 col1\" >1D</td>\n",
       "                        <td id=\"T_5fa7b50e_3b30_11eb_a3d0_02cba411ec9drow0_col2\" class=\"data row0 col2\" >0.08000000%</td>\n",
       "                        <td id=\"T_5fa7b50e_3b30_11eb_a3d0_02cba411ec9drow0_col3\" class=\"data row0 col3\" >LINACT360</td>\n",
       "                        <td id=\"T_5fa7b50e_3b30_11eb_a3d0_02cba411ec9drow0_col4\" class=\"data row0 col4\" >1Y</td>\n",
       "                        <td id=\"T_5fa7b50e_3b30_11eb_a3d0_02cba411ec9drow0_col5\" class=\"data row0 col5\" >SHORTFRONT</td>\n",
       "            </tr>\n",
       "            <tr>\n",
       "                        <th id=\"T_5fa7b50e_3b30_11eb_a3d0_02cba411ec9dlevel0_row1\" class=\"row_heading level0 row1\" >1</th>\n",
       "                        <td id=\"T_5fa7b50e_3b30_11eb_a3d0_02cba411ec9drow1_col0\" class=\"data row1 col0\" >2020-10-14</td>\n",
       "                        <td id=\"T_5fa7b50e_3b30_11eb_a3d0_02cba411ec9drow1_col1\" class=\"data row1 col1\" >7D</td>\n",
       "                        <td id=\"T_5fa7b50e_3b30_11eb_a3d0_02cba411ec9drow1_col2\" class=\"data row1 col2\" >0.08290000%</td>\n",
       "                        <td id=\"T_5fa7b50e_3b30_11eb_a3d0_02cba411ec9drow1_col3\" class=\"data row1 col3\" >LINACT360</td>\n",
       "                        <td id=\"T_5fa7b50e_3b30_11eb_a3d0_02cba411ec9drow1_col4\" class=\"data row1 col4\" >1Y</td>\n",
       "                        <td id=\"T_5fa7b50e_3b30_11eb_a3d0_02cba411ec9drow1_col5\" class=\"data row1 col5\" >SHORTFRONT</td>\n",
       "            </tr>\n",
       "            <tr>\n",
       "                        <th id=\"T_5fa7b50e_3b30_11eb_a3d0_02cba411ec9dlevel0_row2\" class=\"row_heading level0 row2\" >2</th>\n",
       "                        <td id=\"T_5fa7b50e_3b30_11eb_a3d0_02cba411ec9drow2_col0\" class=\"data row2 col0\" >2020-10-14</td>\n",
       "                        <td id=\"T_5fa7b50e_3b30_11eb_a3d0_02cba411ec9drow2_col1\" class=\"data row2 col1\" >14D</td>\n",
       "                        <td id=\"T_5fa7b50e_3b30_11eb_a3d0_02cba411ec9drow2_col2\" class=\"data row2 col2\" >0.07690000%</td>\n",
       "                        <td id=\"T_5fa7b50e_3b30_11eb_a3d0_02cba411ec9drow2_col3\" class=\"data row2 col3\" >LINACT360</td>\n",
       "                        <td id=\"T_5fa7b50e_3b30_11eb_a3d0_02cba411ec9drow2_col4\" class=\"data row2 col4\" >1Y</td>\n",
       "                        <td id=\"T_5fa7b50e_3b30_11eb_a3d0_02cba411ec9drow2_col5\" class=\"data row2 col5\" >SHORTFRONT</td>\n",
       "            </tr>\n",
       "            <tr>\n",
       "                        <th id=\"T_5fa7b50e_3b30_11eb_a3d0_02cba411ec9dlevel0_row3\" class=\"row_heading level0 row3\" >3</th>\n",
       "                        <td id=\"T_5fa7b50e_3b30_11eb_a3d0_02cba411ec9drow3_col0\" class=\"data row3 col0\" >2020-10-14</td>\n",
       "                        <td id=\"T_5fa7b50e_3b30_11eb_a3d0_02cba411ec9drow3_col1\" class=\"data row3 col1\" >21D</td>\n",
       "                        <td id=\"T_5fa7b50e_3b30_11eb_a3d0_02cba411ec9drow3_col2\" class=\"data row3 col2\" >0.07630005%</td>\n",
       "                        <td id=\"T_5fa7b50e_3b30_11eb_a3d0_02cba411ec9drow3_col3\" class=\"data row3 col3\" >LINACT360</td>\n",
       "                        <td id=\"T_5fa7b50e_3b30_11eb_a3d0_02cba411ec9drow3_col4\" class=\"data row3 col4\" >1Y</td>\n",
       "                        <td id=\"T_5fa7b50e_3b30_11eb_a3d0_02cba411ec9drow3_col5\" class=\"data row3 col5\" >SHORTFRONT</td>\n",
       "            </tr>\n",
       "            <tr>\n",
       "                        <th id=\"T_5fa7b50e_3b30_11eb_a3d0_02cba411ec9dlevel0_row4\" class=\"row_heading level0 row4\" >4</th>\n",
       "                        <td id=\"T_5fa7b50e_3b30_11eb_a3d0_02cba411ec9drow4_col0\" class=\"data row4 col0\" >2020-10-14</td>\n",
       "                        <td id=\"T_5fa7b50e_3b30_11eb_a3d0_02cba411ec9drow4_col1\" class=\"data row4 col1\" >1M</td>\n",
       "                        <td id=\"T_5fa7b50e_3b30_11eb_a3d0_02cba411ec9drow4_col2\" class=\"data row4 col2\" >0.07700000%</td>\n",
       "                        <td id=\"T_5fa7b50e_3b30_11eb_a3d0_02cba411ec9drow4_col3\" class=\"data row4 col3\" >LINACT360</td>\n",
       "                        <td id=\"T_5fa7b50e_3b30_11eb_a3d0_02cba411ec9drow4_col4\" class=\"data row4 col4\" >1Y</td>\n",
       "                        <td id=\"T_5fa7b50e_3b30_11eb_a3d0_02cba411ec9drow4_col5\" class=\"data row4 col5\" >SHORTFRONT</td>\n",
       "            </tr>\n",
       "            <tr>\n",
       "                        <th id=\"T_5fa7b50e_3b30_11eb_a3d0_02cba411ec9dlevel0_row5\" class=\"row_heading level0 row5\" >5</th>\n",
       "                        <td id=\"T_5fa7b50e_3b30_11eb_a3d0_02cba411ec9drow5_col0\" class=\"data row5 col0\" >2020-10-14</td>\n",
       "                        <td id=\"T_5fa7b50e_3b30_11eb_a3d0_02cba411ec9drow5_col1\" class=\"data row5 col1\" >2M</td>\n",
       "                        <td id=\"T_5fa7b50e_3b30_11eb_a3d0_02cba411ec9drow5_col2\" class=\"data row5 col2\" >0.07700000%</td>\n",
       "                        <td id=\"T_5fa7b50e_3b30_11eb_a3d0_02cba411ec9drow5_col3\" class=\"data row5 col3\" >LINACT360</td>\n",
       "                        <td id=\"T_5fa7b50e_3b30_11eb_a3d0_02cba411ec9drow5_col4\" class=\"data row5 col4\" >1Y</td>\n",
       "                        <td id=\"T_5fa7b50e_3b30_11eb_a3d0_02cba411ec9drow5_col5\" class=\"data row5 col5\" >SHORTFRONT</td>\n",
       "            </tr>\n",
       "            <tr>\n",
       "                        <th id=\"T_5fa7b50e_3b30_11eb_a3d0_02cba411ec9dlevel0_row6\" class=\"row_heading level0 row6\" >6</th>\n",
       "                        <td id=\"T_5fa7b50e_3b30_11eb_a3d0_02cba411ec9drow6_col0\" class=\"data row6 col0\" >2020-10-14</td>\n",
       "                        <td id=\"T_5fa7b50e_3b30_11eb_a3d0_02cba411ec9drow6_col1\" class=\"data row6 col1\" >3M</td>\n",
       "                        <td id=\"T_5fa7b50e_3b30_11eb_a3d0_02cba411ec9drow6_col2\" class=\"data row6 col2\" >0.08000000%</td>\n",
       "                        <td id=\"T_5fa7b50e_3b30_11eb_a3d0_02cba411ec9drow6_col3\" class=\"data row6 col3\" >LINACT360</td>\n",
       "                        <td id=\"T_5fa7b50e_3b30_11eb_a3d0_02cba411ec9drow6_col4\" class=\"data row6 col4\" >1Y</td>\n",
       "                        <td id=\"T_5fa7b50e_3b30_11eb_a3d0_02cba411ec9drow6_col5\" class=\"data row6 col5\" >SHORTFRONT</td>\n",
       "            </tr>\n",
       "            <tr>\n",
       "                        <th id=\"T_5fa7b50e_3b30_11eb_a3d0_02cba411ec9dlevel0_row7\" class=\"row_heading level0 row7\" >7</th>\n",
       "                        <td id=\"T_5fa7b50e_3b30_11eb_a3d0_02cba411ec9drow7_col0\" class=\"data row7 col0\" >2020-10-14</td>\n",
       "                        <td id=\"T_5fa7b50e_3b30_11eb_a3d0_02cba411ec9drow7_col1\" class=\"data row7 col1\" >4M</td>\n",
       "                        <td id=\"T_5fa7b50e_3b30_11eb_a3d0_02cba411ec9drow7_col2\" class=\"data row7 col2\" >0.07700000%</td>\n",
       "                        <td id=\"T_5fa7b50e_3b30_11eb_a3d0_02cba411ec9drow7_col3\" class=\"data row7 col3\" >LINACT360</td>\n",
       "                        <td id=\"T_5fa7b50e_3b30_11eb_a3d0_02cba411ec9drow7_col4\" class=\"data row7 col4\" >1Y</td>\n",
       "                        <td id=\"T_5fa7b50e_3b30_11eb_a3d0_02cba411ec9drow7_col5\" class=\"data row7 col5\" >SHORTFRONT</td>\n",
       "            </tr>\n",
       "            <tr>\n",
       "                        <th id=\"T_5fa7b50e_3b30_11eb_a3d0_02cba411ec9dlevel0_row8\" class=\"row_heading level0 row8\" >8</th>\n",
       "                        <td id=\"T_5fa7b50e_3b30_11eb_a3d0_02cba411ec9drow8_col0\" class=\"data row8 col0\" >2020-10-14</td>\n",
       "                        <td id=\"T_5fa7b50e_3b30_11eb_a3d0_02cba411ec9drow8_col1\" class=\"data row8 col1\" >5M</td>\n",
       "                        <td id=\"T_5fa7b50e_3b30_11eb_a3d0_02cba411ec9drow8_col2\" class=\"data row8 col2\" >0.07500000%</td>\n",
       "                        <td id=\"T_5fa7b50e_3b30_11eb_a3d0_02cba411ec9drow8_col3\" class=\"data row8 col3\" >LINACT360</td>\n",
       "                        <td id=\"T_5fa7b50e_3b30_11eb_a3d0_02cba411ec9drow8_col4\" class=\"data row8 col4\" >1Y</td>\n",
       "                        <td id=\"T_5fa7b50e_3b30_11eb_a3d0_02cba411ec9drow8_col5\" class=\"data row8 col5\" >SHORTFRONT</td>\n",
       "            </tr>\n",
       "            <tr>\n",
       "                        <th id=\"T_5fa7b50e_3b30_11eb_a3d0_02cba411ec9dlevel0_row9\" class=\"row_heading level0 row9\" >9</th>\n",
       "                        <td id=\"T_5fa7b50e_3b30_11eb_a3d0_02cba411ec9drow9_col0\" class=\"data row9 col0\" >2020-10-14</td>\n",
       "                        <td id=\"T_5fa7b50e_3b30_11eb_a3d0_02cba411ec9drow9_col1\" class=\"data row9 col1\" >6M</td>\n",
       "                        <td id=\"T_5fa7b50e_3b30_11eb_a3d0_02cba411ec9drow9_col2\" class=\"data row9 col2\" >0.07400000%</td>\n",
       "                        <td id=\"T_5fa7b50e_3b30_11eb_a3d0_02cba411ec9drow9_col3\" class=\"data row9 col3\" >LINACT360</td>\n",
       "                        <td id=\"T_5fa7b50e_3b30_11eb_a3d0_02cba411ec9drow9_col4\" class=\"data row9 col4\" >1Y</td>\n",
       "                        <td id=\"T_5fa7b50e_3b30_11eb_a3d0_02cba411ec9drow9_col5\" class=\"data row9 col5\" >SHORTFRONT</td>\n",
       "            </tr>\n",
       "            <tr>\n",
       "                        <th id=\"T_5fa7b50e_3b30_11eb_a3d0_02cba411ec9dlevel0_row10\" class=\"row_heading level0 row10\" >10</th>\n",
       "                        <td id=\"T_5fa7b50e_3b30_11eb_a3d0_02cba411ec9drow10_col0\" class=\"data row10 col0\" >2020-10-14</td>\n",
       "                        <td id=\"T_5fa7b50e_3b30_11eb_a3d0_02cba411ec9drow10_col1\" class=\"data row10 col1\" >7M</td>\n",
       "                        <td id=\"T_5fa7b50e_3b30_11eb_a3d0_02cba411ec9drow10_col2\" class=\"data row10 col2\" >0.07260000%</td>\n",
       "                        <td id=\"T_5fa7b50e_3b30_11eb_a3d0_02cba411ec9drow10_col3\" class=\"data row10 col3\" >LINACT360</td>\n",
       "                        <td id=\"T_5fa7b50e_3b30_11eb_a3d0_02cba411ec9drow10_col4\" class=\"data row10 col4\" >1Y</td>\n",
       "                        <td id=\"T_5fa7b50e_3b30_11eb_a3d0_02cba411ec9drow10_col5\" class=\"data row10 col5\" >SHORTFRONT</td>\n",
       "            </tr>\n",
       "            <tr>\n",
       "                        <th id=\"T_5fa7b50e_3b30_11eb_a3d0_02cba411ec9dlevel0_row11\" class=\"row_heading level0 row11\" >11</th>\n",
       "                        <td id=\"T_5fa7b50e_3b30_11eb_a3d0_02cba411ec9drow11_col0\" class=\"data row11 col0\" >2020-10-14</td>\n",
       "                        <td id=\"T_5fa7b50e_3b30_11eb_a3d0_02cba411ec9drow11_col1\" class=\"data row11 col1\" >8M</td>\n",
       "                        <td id=\"T_5fa7b50e_3b30_11eb_a3d0_02cba411ec9drow11_col2\" class=\"data row11 col2\" >0.07149995%</td>\n",
       "                        <td id=\"T_5fa7b50e_3b30_11eb_a3d0_02cba411ec9drow11_col3\" class=\"data row11 col3\" >LINACT360</td>\n",
       "                        <td id=\"T_5fa7b50e_3b30_11eb_a3d0_02cba411ec9drow11_col4\" class=\"data row11 col4\" >1Y</td>\n",
       "                        <td id=\"T_5fa7b50e_3b30_11eb_a3d0_02cba411ec9drow11_col5\" class=\"data row11 col5\" >SHORTFRONT</td>\n",
       "            </tr>\n",
       "            <tr>\n",
       "                        <th id=\"T_5fa7b50e_3b30_11eb_a3d0_02cba411ec9dlevel0_row12\" class=\"row_heading level0 row12\" >12</th>\n",
       "                        <td id=\"T_5fa7b50e_3b30_11eb_a3d0_02cba411ec9drow12_col0\" class=\"data row12 col0\" >2020-10-14</td>\n",
       "                        <td id=\"T_5fa7b50e_3b30_11eb_a3d0_02cba411ec9drow12_col1\" class=\"data row12 col1\" >9M</td>\n",
       "                        <td id=\"T_5fa7b50e_3b30_11eb_a3d0_02cba411ec9drow12_col2\" class=\"data row12 col2\" >0.07100000%</td>\n",
       "                        <td id=\"T_5fa7b50e_3b30_11eb_a3d0_02cba411ec9drow12_col3\" class=\"data row12 col3\" >LINACT360</td>\n",
       "                        <td id=\"T_5fa7b50e_3b30_11eb_a3d0_02cba411ec9drow12_col4\" class=\"data row12 col4\" >1Y</td>\n",
       "                        <td id=\"T_5fa7b50e_3b30_11eb_a3d0_02cba411ec9drow12_col5\" class=\"data row12 col5\" >SHORTFRONT</td>\n",
       "            </tr>\n",
       "            <tr>\n",
       "                        <th id=\"T_5fa7b50e_3b30_11eb_a3d0_02cba411ec9dlevel0_row13\" class=\"row_heading level0 row13\" >13</th>\n",
       "                        <td id=\"T_5fa7b50e_3b30_11eb_a3d0_02cba411ec9drow13_col0\" class=\"data row13 col0\" >2020-10-14</td>\n",
       "                        <td id=\"T_5fa7b50e_3b30_11eb_a3d0_02cba411ec9drow13_col1\" class=\"data row13 col1\" >10M</td>\n",
       "                        <td id=\"T_5fa7b50e_3b30_11eb_a3d0_02cba411ec9drow13_col2\" class=\"data row13 col2\" >0.07040000%</td>\n",
       "                        <td id=\"T_5fa7b50e_3b30_11eb_a3d0_02cba411ec9drow13_col3\" class=\"data row13 col3\" >LINACT360</td>\n",
       "                        <td id=\"T_5fa7b50e_3b30_11eb_a3d0_02cba411ec9drow13_col4\" class=\"data row13 col4\" >1Y</td>\n",
       "                        <td id=\"T_5fa7b50e_3b30_11eb_a3d0_02cba411ec9drow13_col5\" class=\"data row13 col5\" >SHORTFRONT</td>\n",
       "            </tr>\n",
       "            <tr>\n",
       "                        <th id=\"T_5fa7b50e_3b30_11eb_a3d0_02cba411ec9dlevel0_row14\" class=\"row_heading level0 row14\" >14</th>\n",
       "                        <td id=\"T_5fa7b50e_3b30_11eb_a3d0_02cba411ec9drow14_col0\" class=\"data row14 col0\" >2020-10-14</td>\n",
       "                        <td id=\"T_5fa7b50e_3b30_11eb_a3d0_02cba411ec9drow14_col1\" class=\"data row14 col1\" >11M</td>\n",
       "                        <td id=\"T_5fa7b50e_3b30_11eb_a3d0_02cba411ec9drow14_col2\" class=\"data row14 col2\" >0.06990000%</td>\n",
       "                        <td id=\"T_5fa7b50e_3b30_11eb_a3d0_02cba411ec9drow14_col3\" class=\"data row14 col3\" >LINACT360</td>\n",
       "                        <td id=\"T_5fa7b50e_3b30_11eb_a3d0_02cba411ec9drow14_col4\" class=\"data row14 col4\" >1Y</td>\n",
       "                        <td id=\"T_5fa7b50e_3b30_11eb_a3d0_02cba411ec9drow14_col5\" class=\"data row14 col5\" >SHORTFRONT</td>\n",
       "            </tr>\n",
       "            <tr>\n",
       "                        <th id=\"T_5fa7b50e_3b30_11eb_a3d0_02cba411ec9dlevel0_row15\" class=\"row_heading level0 row15\" >15</th>\n",
       "                        <td id=\"T_5fa7b50e_3b30_11eb_a3d0_02cba411ec9drow15_col0\" class=\"data row15 col0\" >2020-10-14</td>\n",
       "                        <td id=\"T_5fa7b50e_3b30_11eb_a3d0_02cba411ec9drow15_col1\" class=\"data row15 col1\" >12M</td>\n",
       "                        <td id=\"T_5fa7b50e_3b30_11eb_a3d0_02cba411ec9drow15_col2\" class=\"data row15 col2\" >0.06929995%</td>\n",
       "                        <td id=\"T_5fa7b50e_3b30_11eb_a3d0_02cba411ec9drow15_col3\" class=\"data row15 col3\" >LINACT360</td>\n",
       "                        <td id=\"T_5fa7b50e_3b30_11eb_a3d0_02cba411ec9drow15_col4\" class=\"data row15 col4\" >1Y</td>\n",
       "                        <td id=\"T_5fa7b50e_3b30_11eb_a3d0_02cba411ec9drow15_col5\" class=\"data row15 col5\" >SHORTFRONT</td>\n",
       "            </tr>\n",
       "            <tr>\n",
       "                        <th id=\"T_5fa7b50e_3b30_11eb_a3d0_02cba411ec9dlevel0_row16\" class=\"row_heading level0 row16\" >16</th>\n",
       "                        <td id=\"T_5fa7b50e_3b30_11eb_a3d0_02cba411ec9drow16_col0\" class=\"data row16 col0\" >2020-10-14</td>\n",
       "                        <td id=\"T_5fa7b50e_3b30_11eb_a3d0_02cba411ec9drow16_col1\" class=\"data row16 col1\" >18M</td>\n",
       "                        <td id=\"T_5fa7b50e_3b30_11eb_a3d0_02cba411ec9drow16_col2\" class=\"data row16 col2\" >0.06330000%</td>\n",
       "                        <td id=\"T_5fa7b50e_3b30_11eb_a3d0_02cba411ec9drow16_col3\" class=\"data row16 col3\" >LINACT360</td>\n",
       "                        <td id=\"T_5fa7b50e_3b30_11eb_a3d0_02cba411ec9drow16_col4\" class=\"data row16 col4\" >1Y</td>\n",
       "                        <td id=\"T_5fa7b50e_3b30_11eb_a3d0_02cba411ec9drow16_col5\" class=\"data row16 col5\" >SHORTFRONT</td>\n",
       "            </tr>\n",
       "            <tr>\n",
       "                        <th id=\"T_5fa7b50e_3b30_11eb_a3d0_02cba411ec9dlevel0_row17\" class=\"row_heading level0 row17\" >17</th>\n",
       "                        <td id=\"T_5fa7b50e_3b30_11eb_a3d0_02cba411ec9drow17_col0\" class=\"data row17 col0\" >2020-10-14</td>\n",
       "                        <td id=\"T_5fa7b50e_3b30_11eb_a3d0_02cba411ec9drow17_col1\" class=\"data row17 col1\" >2Y</td>\n",
       "                        <td id=\"T_5fa7b50e_3b30_11eb_a3d0_02cba411ec9drow17_col2\" class=\"data row17 col2\" >0.05600000%</td>\n",
       "                        <td id=\"T_5fa7b50e_3b30_11eb_a3d0_02cba411ec9drow17_col3\" class=\"data row17 col3\" >LINACT360</td>\n",
       "                        <td id=\"T_5fa7b50e_3b30_11eb_a3d0_02cba411ec9drow17_col4\" class=\"data row17 col4\" >1Y</td>\n",
       "                        <td id=\"T_5fa7b50e_3b30_11eb_a3d0_02cba411ec9drow17_col5\" class=\"data row17 col5\" >SHORTFRONT</td>\n",
       "            </tr>\n",
       "            <tr>\n",
       "                        <th id=\"T_5fa7b50e_3b30_11eb_a3d0_02cba411ec9dlevel0_row18\" class=\"row_heading level0 row18\" >18</th>\n",
       "                        <td id=\"T_5fa7b50e_3b30_11eb_a3d0_02cba411ec9drow18_col0\" class=\"data row18 col0\" >2020-10-14</td>\n",
       "                        <td id=\"T_5fa7b50e_3b30_11eb_a3d0_02cba411ec9drow18_col1\" class=\"data row18 col1\" >3Y</td>\n",
       "                        <td id=\"T_5fa7b50e_3b30_11eb_a3d0_02cba411ec9drow18_col2\" class=\"data row18 col2\" >0.07400000%</td>\n",
       "                        <td id=\"T_5fa7b50e_3b30_11eb_a3d0_02cba411ec9drow18_col3\" class=\"data row18 col3\" >LINACT360</td>\n",
       "                        <td id=\"T_5fa7b50e_3b30_11eb_a3d0_02cba411ec9drow18_col4\" class=\"data row18 col4\" >1Y</td>\n",
       "                        <td id=\"T_5fa7b50e_3b30_11eb_a3d0_02cba411ec9drow18_col5\" class=\"data row18 col5\" >SHORTFRONT</td>\n",
       "            </tr>\n",
       "            <tr>\n",
       "                        <th id=\"T_5fa7b50e_3b30_11eb_a3d0_02cba411ec9dlevel0_row19\" class=\"row_heading level0 row19\" >19</th>\n",
       "                        <td id=\"T_5fa7b50e_3b30_11eb_a3d0_02cba411ec9drow19_col0\" class=\"data row19 col0\" >2020-10-14</td>\n",
       "                        <td id=\"T_5fa7b50e_3b30_11eb_a3d0_02cba411ec9drow19_col1\" class=\"data row19 col1\" >4Y</td>\n",
       "                        <td id=\"T_5fa7b50e_3b30_11eb_a3d0_02cba411ec9drow19_col2\" class=\"data row19 col2\" >0.12400000%</td>\n",
       "                        <td id=\"T_5fa7b50e_3b30_11eb_a3d0_02cba411ec9drow19_col3\" class=\"data row19 col3\" >LINACT360</td>\n",
       "                        <td id=\"T_5fa7b50e_3b30_11eb_a3d0_02cba411ec9drow19_col4\" class=\"data row19 col4\" >1Y</td>\n",
       "                        <td id=\"T_5fa7b50e_3b30_11eb_a3d0_02cba411ec9drow19_col5\" class=\"data row19 col5\" >SHORTFRONT</td>\n",
       "            </tr>\n",
       "            <tr>\n",
       "                        <th id=\"T_5fa7b50e_3b30_11eb_a3d0_02cba411ec9dlevel0_row20\" class=\"row_heading level0 row20\" >20</th>\n",
       "                        <td id=\"T_5fa7b50e_3b30_11eb_a3d0_02cba411ec9drow20_col0\" class=\"data row20 col0\" >2020-10-14</td>\n",
       "                        <td id=\"T_5fa7b50e_3b30_11eb_a3d0_02cba411ec9drow20_col1\" class=\"data row20 col1\" >5Y</td>\n",
       "                        <td id=\"T_5fa7b50e_3b30_11eb_a3d0_02cba411ec9drow20_col2\" class=\"data row20 col2\" >0.19100000%</td>\n",
       "                        <td id=\"T_5fa7b50e_3b30_11eb_a3d0_02cba411ec9drow20_col3\" class=\"data row20 col3\" >LINACT360</td>\n",
       "                        <td id=\"T_5fa7b50e_3b30_11eb_a3d0_02cba411ec9drow20_col4\" class=\"data row20 col4\" >1Y</td>\n",
       "                        <td id=\"T_5fa7b50e_3b30_11eb_a3d0_02cba411ec9drow20_col5\" class=\"data row20 col5\" >SHORTFRONT</td>\n",
       "            </tr>\n",
       "            <tr>\n",
       "                        <th id=\"T_5fa7b50e_3b30_11eb_a3d0_02cba411ec9dlevel0_row21\" class=\"row_heading level0 row21\" >21</th>\n",
       "                        <td id=\"T_5fa7b50e_3b30_11eb_a3d0_02cba411ec9drow21_col0\" class=\"data row21 col0\" >2020-10-14</td>\n",
       "                        <td id=\"T_5fa7b50e_3b30_11eb_a3d0_02cba411ec9drow21_col1\" class=\"data row21 col1\" >6Y</td>\n",
       "                        <td id=\"T_5fa7b50e_3b30_11eb_a3d0_02cba411ec9drow21_col2\" class=\"data row21 col2\" >0.27300000%</td>\n",
       "                        <td id=\"T_5fa7b50e_3b30_11eb_a3d0_02cba411ec9drow21_col3\" class=\"data row21 col3\" >LINACT360</td>\n",
       "                        <td id=\"T_5fa7b50e_3b30_11eb_a3d0_02cba411ec9drow21_col4\" class=\"data row21 col4\" >1Y</td>\n",
       "                        <td id=\"T_5fa7b50e_3b30_11eb_a3d0_02cba411ec9drow21_col5\" class=\"data row21 col5\" >SHORTFRONT</td>\n",
       "            </tr>\n",
       "            <tr>\n",
       "                        <th id=\"T_5fa7b50e_3b30_11eb_a3d0_02cba411ec9dlevel0_row22\" class=\"row_heading level0 row22\" >22</th>\n",
       "                        <td id=\"T_5fa7b50e_3b30_11eb_a3d0_02cba411ec9drow22_col0\" class=\"data row22 col0\" >2020-10-14</td>\n",
       "                        <td id=\"T_5fa7b50e_3b30_11eb_a3d0_02cba411ec9drow22_col1\" class=\"data row22 col1\" >7Y</td>\n",
       "                        <td id=\"T_5fa7b50e_3b30_11eb_a3d0_02cba411ec9drow22_col2\" class=\"data row22 col2\" >0.35400000%</td>\n",
       "                        <td id=\"T_5fa7b50e_3b30_11eb_a3d0_02cba411ec9drow22_col3\" class=\"data row22 col3\" >LINACT360</td>\n",
       "                        <td id=\"T_5fa7b50e_3b30_11eb_a3d0_02cba411ec9drow22_col4\" class=\"data row22 col4\" >1Y</td>\n",
       "                        <td id=\"T_5fa7b50e_3b30_11eb_a3d0_02cba411ec9drow22_col5\" class=\"data row22 col5\" >SHORTFRONT</td>\n",
       "            </tr>\n",
       "            <tr>\n",
       "                        <th id=\"T_5fa7b50e_3b30_11eb_a3d0_02cba411ec9dlevel0_row23\" class=\"row_heading level0 row23\" >23</th>\n",
       "                        <td id=\"T_5fa7b50e_3b30_11eb_a3d0_02cba411ec9drow23_col0\" class=\"data row23 col0\" >2020-10-14</td>\n",
       "                        <td id=\"T_5fa7b50e_3b30_11eb_a3d0_02cba411ec9drow23_col1\" class=\"data row23 col1\" >8Y</td>\n",
       "                        <td id=\"T_5fa7b50e_3b30_11eb_a3d0_02cba411ec9drow23_col2\" class=\"data row23 col2\" >0.43000001%</td>\n",
       "                        <td id=\"T_5fa7b50e_3b30_11eb_a3d0_02cba411ec9drow23_col3\" class=\"data row23 col3\" >LINACT360</td>\n",
       "                        <td id=\"T_5fa7b50e_3b30_11eb_a3d0_02cba411ec9drow23_col4\" class=\"data row23 col4\" >1Y</td>\n",
       "                        <td id=\"T_5fa7b50e_3b30_11eb_a3d0_02cba411ec9drow23_col5\" class=\"data row23 col5\" >SHORTFRONT</td>\n",
       "            </tr>\n",
       "            <tr>\n",
       "                        <th id=\"T_5fa7b50e_3b30_11eb_a3d0_02cba411ec9dlevel0_row24\" class=\"row_heading level0 row24\" >24</th>\n",
       "                        <td id=\"T_5fa7b50e_3b30_11eb_a3d0_02cba411ec9drow24_col0\" class=\"data row24 col0\" >2020-10-14</td>\n",
       "                        <td id=\"T_5fa7b50e_3b30_11eb_a3d0_02cba411ec9drow24_col1\" class=\"data row24 col1\" >9Y</td>\n",
       "                        <td id=\"T_5fa7b50e_3b30_11eb_a3d0_02cba411ec9drow24_col2\" class=\"data row24 col2\" >0.50099999%</td>\n",
       "                        <td id=\"T_5fa7b50e_3b30_11eb_a3d0_02cba411ec9drow24_col3\" class=\"data row24 col3\" >LINACT360</td>\n",
       "                        <td id=\"T_5fa7b50e_3b30_11eb_a3d0_02cba411ec9drow24_col4\" class=\"data row24 col4\" >1Y</td>\n",
       "                        <td id=\"T_5fa7b50e_3b30_11eb_a3d0_02cba411ec9drow24_col5\" class=\"data row24 col5\" >SHORTFRONT</td>\n",
       "            </tr>\n",
       "            <tr>\n",
       "                        <th id=\"T_5fa7b50e_3b30_11eb_a3d0_02cba411ec9dlevel0_row25\" class=\"row_heading level0 row25\" >25</th>\n",
       "                        <td id=\"T_5fa7b50e_3b30_11eb_a3d0_02cba411ec9drow25_col0\" class=\"data row25 col0\" >2020-10-14</td>\n",
       "                        <td id=\"T_5fa7b50e_3b30_11eb_a3d0_02cba411ec9drow25_col1\" class=\"data row25 col1\" >10Y</td>\n",
       "                        <td id=\"T_5fa7b50e_3b30_11eb_a3d0_02cba411ec9drow25_col2\" class=\"data row25 col2\" >0.56800002%</td>\n",
       "                        <td id=\"T_5fa7b50e_3b30_11eb_a3d0_02cba411ec9drow25_col3\" class=\"data row25 col3\" >LINACT360</td>\n",
       "                        <td id=\"T_5fa7b50e_3b30_11eb_a3d0_02cba411ec9drow25_col4\" class=\"data row25 col4\" >1Y</td>\n",
       "                        <td id=\"T_5fa7b50e_3b30_11eb_a3d0_02cba411ec9drow25_col5\" class=\"data row25 col5\" >SHORTFRONT</td>\n",
       "            </tr>\n",
       "            <tr>\n",
       "                        <th id=\"T_5fa7b50e_3b30_11eb_a3d0_02cba411ec9dlevel0_row26\" class=\"row_heading level0 row26\" >26</th>\n",
       "                        <td id=\"T_5fa7b50e_3b30_11eb_a3d0_02cba411ec9drow26_col0\" class=\"data row26 col0\" >2020-10-14</td>\n",
       "                        <td id=\"T_5fa7b50e_3b30_11eb_a3d0_02cba411ec9drow26_col1\" class=\"data row26 col1\" >12Y</td>\n",
       "                        <td id=\"T_5fa7b50e_3b30_11eb_a3d0_02cba411ec9drow26_col2\" class=\"data row26 col2\" >0.67400002%</td>\n",
       "                        <td id=\"T_5fa7b50e_3b30_11eb_a3d0_02cba411ec9drow26_col3\" class=\"data row26 col3\" >LINACT360</td>\n",
       "                        <td id=\"T_5fa7b50e_3b30_11eb_a3d0_02cba411ec9drow26_col4\" class=\"data row26 col4\" >1Y</td>\n",
       "                        <td id=\"T_5fa7b50e_3b30_11eb_a3d0_02cba411ec9drow26_col5\" class=\"data row26 col5\" >SHORTFRONT</td>\n",
       "            </tr>\n",
       "            <tr>\n",
       "                        <th id=\"T_5fa7b50e_3b30_11eb_a3d0_02cba411ec9dlevel0_row27\" class=\"row_heading level0 row27\" >27</th>\n",
       "                        <td id=\"T_5fa7b50e_3b30_11eb_a3d0_02cba411ec9drow27_col0\" class=\"data row27 col0\" >2020-10-14</td>\n",
       "                        <td id=\"T_5fa7b50e_3b30_11eb_a3d0_02cba411ec9drow27_col1\" class=\"data row27 col1\" >15Y</td>\n",
       "                        <td id=\"T_5fa7b50e_3b30_11eb_a3d0_02cba411ec9drow27_col2\" class=\"data row27 col2\" >0.78299999%</td>\n",
       "                        <td id=\"T_5fa7b50e_3b30_11eb_a3d0_02cba411ec9drow27_col3\" class=\"data row27 col3\" >LINACT360</td>\n",
       "                        <td id=\"T_5fa7b50e_3b30_11eb_a3d0_02cba411ec9drow27_col4\" class=\"data row27 col4\" >1Y</td>\n",
       "                        <td id=\"T_5fa7b50e_3b30_11eb_a3d0_02cba411ec9drow27_col5\" class=\"data row27 col5\" >SHORTFRONT</td>\n",
       "            </tr>\n",
       "            <tr>\n",
       "                        <th id=\"T_5fa7b50e_3b30_11eb_a3d0_02cba411ec9dlevel0_row28\" class=\"row_heading level0 row28\" >28</th>\n",
       "                        <td id=\"T_5fa7b50e_3b30_11eb_a3d0_02cba411ec9drow28_col0\" class=\"data row28 col0\" >2020-10-14</td>\n",
       "                        <td id=\"T_5fa7b50e_3b30_11eb_a3d0_02cba411ec9drow28_col1\" class=\"data row28 col1\" >20Y</td>\n",
       "                        <td id=\"T_5fa7b50e_3b30_11eb_a3d0_02cba411ec9drow28_col2\" class=\"data row28 col2\" >0.89499998%</td>\n",
       "                        <td id=\"T_5fa7b50e_3b30_11eb_a3d0_02cba411ec9drow28_col3\" class=\"data row28 col3\" >LINACT360</td>\n",
       "                        <td id=\"T_5fa7b50e_3b30_11eb_a3d0_02cba411ec9drow28_col4\" class=\"data row28 col4\" >1Y</td>\n",
       "                        <td id=\"T_5fa7b50e_3b30_11eb_a3d0_02cba411ec9drow28_col5\" class=\"data row28 col5\" >SHORTFRONT</td>\n",
       "            </tr>\n",
       "            <tr>\n",
       "                        <th id=\"T_5fa7b50e_3b30_11eb_a3d0_02cba411ec9dlevel0_row29\" class=\"row_heading level0 row29\" >29</th>\n",
       "                        <td id=\"T_5fa7b50e_3b30_11eb_a3d0_02cba411ec9drow29_col0\" class=\"data row29 col0\" >2020-10-14</td>\n",
       "                        <td id=\"T_5fa7b50e_3b30_11eb_a3d0_02cba411ec9drow29_col1\" class=\"data row29 col1\" >25Y</td>\n",
       "                        <td id=\"T_5fa7b50e_3b30_11eb_a3d0_02cba411ec9drow29_col2\" class=\"data row29 col2\" >0.93455002%</td>\n",
       "                        <td id=\"T_5fa7b50e_3b30_11eb_a3d0_02cba411ec9drow29_col3\" class=\"data row29 col3\" >LINACT360</td>\n",
       "                        <td id=\"T_5fa7b50e_3b30_11eb_a3d0_02cba411ec9drow29_col4\" class=\"data row29 col4\" >1Y</td>\n",
       "                        <td id=\"T_5fa7b50e_3b30_11eb_a3d0_02cba411ec9drow29_col5\" class=\"data row29 col5\" >SHORTFRONT</td>\n",
       "            </tr>\n",
       "            <tr>\n",
       "                        <th id=\"T_5fa7b50e_3b30_11eb_a3d0_02cba411ec9dlevel0_row30\" class=\"row_heading level0 row30\" >30</th>\n",
       "                        <td id=\"T_5fa7b50e_3b30_11eb_a3d0_02cba411ec9drow30_col0\" class=\"data row30 col0\" >2020-10-14</td>\n",
       "                        <td id=\"T_5fa7b50e_3b30_11eb_a3d0_02cba411ec9drow30_col1\" class=\"data row30 col1\" >30Y</td>\n",
       "                        <td id=\"T_5fa7b50e_3b30_11eb_a3d0_02cba411ec9drow30_col2\" class=\"data row30 col2\" >0.95700002%</td>\n",
       "                        <td id=\"T_5fa7b50e_3b30_11eb_a3d0_02cba411ec9drow30_col3\" class=\"data row30 col3\" >LINACT360</td>\n",
       "                        <td id=\"T_5fa7b50e_3b30_11eb_a3d0_02cba411ec9drow30_col4\" class=\"data row30 col4\" >1Y</td>\n",
       "                        <td id=\"T_5fa7b50e_3b30_11eb_a3d0_02cba411ec9drow30_col5\" class=\"data row30 col5\" >SHORTFRONT</td>\n",
       "            </tr>\n",
       "            <tr>\n",
       "                        <th id=\"T_5fa7b50e_3b30_11eb_a3d0_02cba411ec9dlevel0_row31\" class=\"row_heading level0 row31\" >31</th>\n",
       "                        <td id=\"T_5fa7b50e_3b30_11eb_a3d0_02cba411ec9drow31_col0\" class=\"data row31 col0\" >2020-10-14</td>\n",
       "                        <td id=\"T_5fa7b50e_3b30_11eb_a3d0_02cba411ec9drow31_col1\" class=\"data row31 col1\" >40Y</td>\n",
       "                        <td id=\"T_5fa7b50e_3b30_11eb_a3d0_02cba411ec9drow31_col2\" class=\"data row31 col2\" >0.92200002%</td>\n",
       "                        <td id=\"T_5fa7b50e_3b30_11eb_a3d0_02cba411ec9drow31_col3\" class=\"data row31 col3\" >LINACT360</td>\n",
       "                        <td id=\"T_5fa7b50e_3b30_11eb_a3d0_02cba411ec9drow31_col4\" class=\"data row31 col4\" >1Y</td>\n",
       "                        <td id=\"T_5fa7b50e_3b30_11eb_a3d0_02cba411ec9drow31_col5\" class=\"data row31 col5\" >SHORTFRONT</td>\n",
       "            </tr>\n",
       "            <tr>\n",
       "                        <th id=\"T_5fa7b50e_3b30_11eb_a3d0_02cba411ec9dlevel0_row32\" class=\"row_heading level0 row32\" >32</th>\n",
       "                        <td id=\"T_5fa7b50e_3b30_11eb_a3d0_02cba411ec9drow32_col0\" class=\"data row32 col0\" >2020-10-14</td>\n",
       "                        <td id=\"T_5fa7b50e_3b30_11eb_a3d0_02cba411ec9drow32_col1\" class=\"data row32 col1\" >50Y</td>\n",
       "                        <td id=\"T_5fa7b50e_3b30_11eb_a3d0_02cba411ec9drow32_col2\" class=\"data row32 col2\" >0.84599999%</td>\n",
       "                        <td id=\"T_5fa7b50e_3b30_11eb_a3d0_02cba411ec9drow32_col3\" class=\"data row32 col3\" >LINACT360</td>\n",
       "                        <td id=\"T_5fa7b50e_3b30_11eb_a3d0_02cba411ec9drow32_col4\" class=\"data row32 col4\" >1Y</td>\n",
       "                        <td id=\"T_5fa7b50e_3b30_11eb_a3d0_02cba411ec9drow32_col5\" class=\"data row32 col5\" >SHORTFRONT</td>\n",
       "            </tr>\n",
       "    </tbody></table>"
      ],
      "text/plain": [
       "<pandas.io.formats.style.Styler at 0x7fd111d04c88>"
      ]
     },
     "execution_count": 13,
     "metadata": {},
     "output_type": "execute_result"
    }
   ],
   "source": [
    "swaps.style.format(frmt)"
   ]
  },
  {
   "cell_type": "markdown",
   "metadata": {},
   "source": [
    "### Construye Objetos `Qcf`"
   ]
  },
  {
   "cell_type": "code",
   "execution_count": 14,
   "metadata": {
    "ExecuteTime": {
     "end_time": "2020-12-10T21:40:54.475771Z",
     "start_time": "2020-12-10T21:40:51.453243Z"
    }
   },
   "outputs": [],
   "source": [
    "qc_swaps = []\n",
    "for s in swaps.itertuples():\n",
    "    leg = make_fixed_leg(s.start_date, s.tenor, s.rate_value)\n",
    "    cuantos_flujos = leg.size()\n",
    "    last_pmt_date = leg.get_cashflow_at(cuantos_flujos - 1).get_settlement_date()\n",
    "    start_date = Qcf.build_qcdate_from_string(s.start_date)\n",
    "    plazo = start_date.day_diff(last_pmt_date)\n",
    "    qc_swaps.append((leg, plazo))"
   ]
  },
  {
   "cell_type": "code",
   "execution_count": 15,
   "metadata": {
    "ExecuteTime": {
     "end_time": "2020-12-10T21:40:54.491806Z",
     "start_time": "2020-12-10T21:40:54.478664Z"
    }
   },
   "outputs": [
    {
     "data": {
      "text/html": [
       "<style  type=\"text/css\" >\n",
       "</style><table id=\"T_617b3ab8_3b30_11eb_a3d0_02cba411ec9d\" ><thead>    <tr>        <th class=\"blank level0\" ></th>        <th class=\"col_heading level0 col0\" >fecha_inicial</th>        <th class=\"col_heading level0 col1\" >fecha_final</th>        <th class=\"col_heading level0 col2\" >fecha_pago</th>        <th class=\"col_heading level0 col3\" >nominal</th>        <th class=\"col_heading level0 col4\" >amortizacion</th>        <th class=\"col_heading level0 col5\" >interes</th>        <th class=\"col_heading level0 col6\" >amort_es_flujo</th>        <th class=\"col_heading level0 col7\" >flujo</th>        <th class=\"col_heading level0 col8\" >moneda</th>        <th class=\"col_heading level0 col9\" >valor_tasa</th>        <th class=\"col_heading level0 col10\" >tipo_tasa</th>    </tr></thead><tbody>\n",
       "                <tr>\n",
       "                        <th id=\"T_617b3ab8_3b30_11eb_a3d0_02cba411ec9dlevel0_row0\" class=\"row_heading level0 row0\" >0</th>\n",
       "                        <td id=\"T_617b3ab8_3b30_11eb_a3d0_02cba411ec9drow0_col0\" class=\"data row0 col0\" >2020-10-14</td>\n",
       "                        <td id=\"T_617b3ab8_3b30_11eb_a3d0_02cba411ec9drow0_col1\" class=\"data row0 col1\" >2021-04-14</td>\n",
       "                        <td id=\"T_617b3ab8_3b30_11eb_a3d0_02cba411ec9drow0_col2\" class=\"data row0 col2\" >2021-04-14</td>\n",
       "                        <td id=\"T_617b3ab8_3b30_11eb_a3d0_02cba411ec9drow0_col3\" class=\"data row0 col3\" >10,000,000.00</td>\n",
       "                        <td id=\"T_617b3ab8_3b30_11eb_a3d0_02cba411ec9drow0_col4\" class=\"data row0 col4\" >0.00</td>\n",
       "                        <td id=\"T_617b3ab8_3b30_11eb_a3d0_02cba411ec9drow0_col5\" class=\"data row0 col5\" >3,200.17</td>\n",
       "                        <td id=\"T_617b3ab8_3b30_11eb_a3d0_02cba411ec9drow0_col6\" class=\"data row0 col6\" >True</td>\n",
       "                        <td id=\"T_617b3ab8_3b30_11eb_a3d0_02cba411ec9drow0_col7\" class=\"data row0 col7\" >3,200.17</td>\n",
       "                        <td id=\"T_617b3ab8_3b30_11eb_a3d0_02cba411ec9drow0_col8\" class=\"data row0 col8\" >USD</td>\n",
       "                        <td id=\"T_617b3ab8_3b30_11eb_a3d0_02cba411ec9drow0_col9\" class=\"data row0 col9\" >0.06330000%</td>\n",
       "                        <td id=\"T_617b3ab8_3b30_11eb_a3d0_02cba411ec9drow0_col10\" class=\"data row0 col10\" >LinAct360</td>\n",
       "            </tr>\n",
       "            <tr>\n",
       "                        <th id=\"T_617b3ab8_3b30_11eb_a3d0_02cba411ec9dlevel0_row1\" class=\"row_heading level0 row1\" >1</th>\n",
       "                        <td id=\"T_617b3ab8_3b30_11eb_a3d0_02cba411ec9drow1_col0\" class=\"data row1 col0\" >2021-04-14</td>\n",
       "                        <td id=\"T_617b3ab8_3b30_11eb_a3d0_02cba411ec9drow1_col1\" class=\"data row1 col1\" >2022-04-14</td>\n",
       "                        <td id=\"T_617b3ab8_3b30_11eb_a3d0_02cba411ec9drow1_col2\" class=\"data row1 col2\" >2022-04-14</td>\n",
       "                        <td id=\"T_617b3ab8_3b30_11eb_a3d0_02cba411ec9drow1_col3\" class=\"data row1 col3\" >10,000,000.00</td>\n",
       "                        <td id=\"T_617b3ab8_3b30_11eb_a3d0_02cba411ec9drow1_col4\" class=\"data row1 col4\" >10,000,000.00</td>\n",
       "                        <td id=\"T_617b3ab8_3b30_11eb_a3d0_02cba411ec9drow1_col5\" class=\"data row1 col5\" >6,417.92</td>\n",
       "                        <td id=\"T_617b3ab8_3b30_11eb_a3d0_02cba411ec9drow1_col6\" class=\"data row1 col6\" >True</td>\n",
       "                        <td id=\"T_617b3ab8_3b30_11eb_a3d0_02cba411ec9drow1_col7\" class=\"data row1 col7\" >10,006,417.92</td>\n",
       "                        <td id=\"T_617b3ab8_3b30_11eb_a3d0_02cba411ec9drow1_col8\" class=\"data row1 col8\" >USD</td>\n",
       "                        <td id=\"T_617b3ab8_3b30_11eb_a3d0_02cba411ec9drow1_col9\" class=\"data row1 col9\" >0.06330000%</td>\n",
       "                        <td id=\"T_617b3ab8_3b30_11eb_a3d0_02cba411ec9drow1_col10\" class=\"data row1 col10\" >LinAct360</td>\n",
       "            </tr>\n",
       "    </tbody></table>"
      ],
      "text/plain": [
       "<pandas.io.formats.style.Styler at 0x7fd1118d9cc0>"
      ]
     },
     "execution_count": 15,
     "metadata": {},
     "output_type": "execute_result"
    }
   ],
   "source": [
    "aux.show_leg(qc_swaps[16][0], 'FixedRateCashflow', '').style.format(frmt)"
   ]
  },
  {
   "cell_type": "markdown",
   "metadata": {},
   "source": [
    "### Construye Curva Cero Cupón"
   ]
  },
  {
   "cell_type": "markdown",
   "metadata": {},
   "source": [
    "Demuestra función objetivo."
   ]
  },
  {
   "cell_type": "code",
   "execution_count": 16,
   "metadata": {
    "ExecuteTime": {
     "end_time": "2020-12-10T21:40:54.502560Z",
     "start_time": "2020-12-10T21:40:54.494466Z"
    }
   },
   "outputs": [
    {
     "data": {
      "text/plain": [
       "7.768488567322493"
      ]
     },
     "execution_count": 16,
     "metadata": {},
     "output_type": "execute_result"
    }
   ],
   "source": [
    "plazos = []\n",
    "tasas = []\n",
    " \n",
    "plazos.append(1) # Los plazos se calculan desde start_date (2020-10-14)\n",
    "tasa = math.log(1 + .08 / 100 * 1 / 360)* 365.0 / 1\n",
    "# 1 + .08% * 1/360 = exp(r * 1/365) -> log(1 + .08% * 1/360) * 365/1\n",
    "tasas.append(tasa)\n",
    "\n",
    "plazos.append(int(7))\n",
    "tasas.append(.0)\n",
    "\n",
    "# Puedo valorizar cualquiera de los swaps ya dado de alta.\n",
    "error_with_rate(.0008, plazos, tasas, qc_swaps[1][0], Qcf.QCDate(14, 10, 2020))"
   ]
  },
  {
   "cell_type": "code",
   "execution_count": 17,
   "metadata": {
    "ExecuteTime": {
     "end_time": "2020-12-10T21:40:54.626361Z",
     "start_time": "2020-12-10T21:40:54.504859Z"
    }
   },
   "outputs": [],
   "source": [
    "plazos = []\n",
    "tasas = []\n",
    " \n",
    "plazos.append(1) # Los plazos se calculan desde start_date (2020-10-14)\n",
    "tasa = math.log(1 + .08 / 100 * 1 / 360)* 365.0 / 1\n",
    "# 1 + .08% * 1/360 = exp(r * 1/365) -> log(1 + .08% * 1/360) * 365/1\n",
    "tasas.append(tasa)\n",
    "\n",
    "for s in qc_swaps[1:]:\n",
    "    plazos.append(s[1])\n",
    "    tasas.append(0.0)\n",
    "    \n",
    "    x = root_scalar(\n",
    "        error_with_rate,\n",
    "        method='bisect',\n",
    "        bracket=[0.0, .02],\n",
    "        x0=.0008,\n",
    "        args=(plazos, tasas, s[0], Qcf.QCDate(14, 10, 2020)),\n",
    "        xtol=.00000000000000001\n",
    "    )\n",
    "    \n",
    "    tasas[-1] = x.root"
   ]
  },
  {
   "cell_type": "code",
   "execution_count": 18,
   "metadata": {
    "ExecuteTime": {
     "end_time": "2020-12-10T21:40:54.667030Z",
     "start_time": "2020-12-10T21:40:54.629815Z"
    }
   },
   "outputs": [
    {
     "data": {
      "text/html": [
       "<style  type=\"text/css\" >\n",
       "</style><table id=\"T_617b3ab9_3b30_11eb_a3d0_02cba411ec9d\" ><thead>    <tr>        <th class=\"blank level0\" ></th>        <th class=\"col_heading level0 col0\" >plazo</th>        <th class=\"col_heading level0 col1\" >tasa</th>        <th class=\"col_heading level0 col2\" >df</th>    </tr></thead><tbody>\n",
       "                <tr>\n",
       "                        <th id=\"T_617b3ab9_3b30_11eb_a3d0_02cba411ec9dlevel0_row0\" class=\"row_heading level0 row0\" >0</th>\n",
       "                        <td id=\"T_617b3ab9_3b30_11eb_a3d0_02cba411ec9drow0_col0\" class=\"data row0 col0\" >1</td>\n",
       "                        <td id=\"T_617b3ab9_3b30_11eb_a3d0_02cba411ec9drow0_col1\" class=\"data row0 col1\" >0.08111102%</td>\n",
       "                        <td id=\"T_617b3ab9_3b30_11eb_a3d0_02cba411ec9drow0_col2\" class=\"data row0 col2\" >99.99977778%</td>\n",
       "            </tr>\n",
       "            <tr>\n",
       "                        <th id=\"T_617b3ab9_3b30_11eb_a3d0_02cba411ec9dlevel0_row1\" class=\"row_heading level0 row1\" >1</th>\n",
       "                        <td id=\"T_617b3ab9_3b30_11eb_a3d0_02cba411ec9drow1_col0\" class=\"data row1 col0\" >7</td>\n",
       "                        <td id=\"T_617b3ab9_3b30_11eb_a3d0_02cba411ec9drow1_col1\" class=\"data row1 col1\" >0.08405071%</td>\n",
       "                        <td id=\"T_617b3ab9_3b30_11eb_a3d0_02cba411ec9drow1_col2\" class=\"data row1 col2\" >99.99838808%</td>\n",
       "            </tr>\n",
       "            <tr>\n",
       "                        <th id=\"T_617b3ab9_3b30_11eb_a3d0_02cba411ec9dlevel0_row2\" class=\"row_heading level0 row2\" >2</th>\n",
       "                        <td id=\"T_617b3ab9_3b30_11eb_a3d0_02cba411ec9drow2_col0\" class=\"data row2 col0\" >14</td>\n",
       "                        <td id=\"T_617b3ab9_3b30_11eb_a3d0_02cba411ec9drow2_col1\" class=\"data row2 col1\" >0.07796689%</td>\n",
       "                        <td id=\"T_617b3ab9_3b30_11eb_a3d0_02cba411ec9drow2_col2\" class=\"data row2 col2\" >99.99700953%</td>\n",
       "            </tr>\n",
       "            <tr>\n",
       "                        <th id=\"T_617b3ab9_3b30_11eb_a3d0_02cba411ec9dlevel0_row3\" class=\"row_heading level0 row3\" >3</th>\n",
       "                        <td id=\"T_617b3ab9_3b30_11eb_a3d0_02cba411ec9drow3_col0\" class=\"data row3 col0\" >21</td>\n",
       "                        <td id=\"T_617b3ab9_3b30_11eb_a3d0_02cba411ec9drow3_col1\" class=\"data row3 col1\" >0.07735805%</td>\n",
       "                        <td id=\"T_617b3ab9_3b30_11eb_a3d0_02cba411ec9drow3_col2\" class=\"data row3 col2\" >99.99554936%</td>\n",
       "            </tr>\n",
       "            <tr>\n",
       "                        <th id=\"T_617b3ab9_3b30_11eb_a3d0_02cba411ec9dlevel0_row4\" class=\"row_heading level0 row4\" >4</th>\n",
       "                        <td id=\"T_617b3ab9_3b30_11eb_a3d0_02cba411ec9drow4_col0\" class=\"data row4 col0\" >33</td>\n",
       "                        <td id=\"T_617b3ab9_3b30_11eb_a3d0_02cba411ec9drow4_col1\" class=\"data row4 col1\" >0.07806669%</td>\n",
       "                        <td id=\"T_617b3ab9_3b30_11eb_a3d0_02cba411ec9drow4_col2\" class=\"data row4 col2\" >99.99294216%</td>\n",
       "            </tr>\n",
       "            <tr>\n",
       "                        <th id=\"T_617b3ab9_3b30_11eb_a3d0_02cba411ec9dlevel0_row5\" class=\"row_heading level0 row5\" >5</th>\n",
       "                        <td id=\"T_617b3ab9_3b30_11eb_a3d0_02cba411ec9drow5_col0\" class=\"data row5 col0\" >61</td>\n",
       "                        <td id=\"T_617b3ab9_3b30_11eb_a3d0_02cba411ec9drow5_col1\" class=\"data row5 col1\" >0.07806435%</td>\n",
       "                        <td id=\"T_617b3ab9_3b30_11eb_a3d0_02cba411ec9drow5_col2\" class=\"data row5 col2\" >99.98695448%</td>\n",
       "            </tr>\n",
       "            <tr>\n",
       "                        <th id=\"T_617b3ab9_3b30_11eb_a3d0_02cba411ec9dlevel0_row6\" class=\"row_heading level0 row6\" >6</th>\n",
       "                        <td id=\"T_617b3ab9_3b30_11eb_a3d0_02cba411ec9drow6_col0\" class=\"data row6 col0\" >92</td>\n",
       "                        <td id=\"T_617b3ab9_3b30_11eb_a3d0_02cba411ec9drow6_col1\" class=\"data row6 col1\" >0.08110282%</td>\n",
       "                        <td id=\"T_617b3ab9_3b30_11eb_a3d0_02cba411ec9drow6_col2\" class=\"data row6 col2\" >99.97955973%</td>\n",
       "            </tr>\n",
       "            <tr>\n",
       "                        <th id=\"T_617b3ab9_3b30_11eb_a3d0_02cba411ec9dlevel0_row7\" class=\"row_heading level0 row7\" >7</th>\n",
       "                        <td id=\"T_617b3ab9_3b30_11eb_a3d0_02cba411ec9drow7_col0\" class=\"data row7 col0\" >125</td>\n",
       "                        <td id=\"T_617b3ab9_3b30_11eb_a3d0_02cba411ec9drow7_col1\" class=\"data row7 col1\" >0.07805901%</td>\n",
       "                        <td id=\"T_617b3ab9_3b30_11eb_a3d0_02cba411ec9drow7_col2\" class=\"data row7 col2\" >99.97327104%</td>\n",
       "            </tr>\n",
       "            <tr>\n",
       "                        <th id=\"T_617b3ab9_3b30_11eb_a3d0_02cba411ec9dlevel0_row8\" class=\"row_heading level0 row8\" >8</th>\n",
       "                        <td id=\"T_617b3ab9_3b30_11eb_a3d0_02cba411ec9drow8_col0\" class=\"data row8 col0\" >152</td>\n",
       "                        <td id=\"T_617b3ab9_3b30_11eb_a3d0_02cba411ec9drow8_col1\" class=\"data row8 col1\" >0.07602963%</td>\n",
       "                        <td id=\"T_617b3ab9_3b30_11eb_a3d0_02cba411ec9drow8_col2\" class=\"data row8 col2\" >99.96834336%</td>\n",
       "            </tr>\n",
       "            <tr>\n",
       "                        <th id=\"T_617b3ab9_3b30_11eb_a3d0_02cba411ec9dlevel0_row9\" class=\"row_heading level0 row9\" >9</th>\n",
       "                        <td id=\"T_617b3ab9_3b30_11eb_a3d0_02cba411ec9drow9_col0\" class=\"data row9 col0\" >182</td>\n",
       "                        <td id=\"T_617b3ab9_3b30_11eb_a3d0_02cba411ec9drow9_col1\" class=\"data row9 col1\" >0.07501375%</td>\n",
       "                        <td id=\"T_617b3ab9_3b30_11eb_a3d0_02cba411ec9drow9_col2\" class=\"data row9 col2\" >99.96260288%</td>\n",
       "            </tr>\n",
       "            <tr>\n",
       "                        <th id=\"T_617b3ab9_3b30_11eb_a3d0_02cba411ec9dlevel0_row10\" class=\"row_heading level0 row10\" >10</th>\n",
       "                        <td id=\"T_617b3ab9_3b30_11eb_a3d0_02cba411ec9drow10_col0\" class=\"data row10 col0\" >212</td>\n",
       "                        <td id=\"T_617b3ab9_3b30_11eb_a3d0_02cba411ec9drow10_col1\" class=\"data row10 col1\" >0.07359260%</td>\n",
       "                        <td id=\"T_617b3ab9_3b30_11eb_a3d0_02cba411ec9drow10_col2\" class=\"data row10 col2\" >99.95726494%</td>\n",
       "            </tr>\n",
       "            <tr>\n",
       "                        <th id=\"T_617b3ab9_3b30_11eb_a3d0_02cba411ec9dlevel0_row11\" class=\"row_heading level0 row11\" >11</th>\n",
       "                        <td id=\"T_617b3ab9_3b30_11eb_a3d0_02cba411ec9drow11_col0\" class=\"data row11 col0\" >243</td>\n",
       "                        <td id=\"T_617b3ab9_3b30_11eb_a3d0_02cba411ec9drow11_col1\" class=\"data row11 col1\" >0.07247552%</td>\n",
       "                        <td id=\"T_617b3ab9_3b30_11eb_a3d0_02cba411ec9drow11_col2\" class=\"data row11 col2\" >99.95176081%</td>\n",
       "            </tr>\n",
       "            <tr>\n",
       "                        <th id=\"T_617b3ab9_3b30_11eb_a3d0_02cba411ec9dlevel0_row12\" class=\"row_heading level0 row12\" >12</th>\n",
       "                        <td id=\"T_617b3ab9_3b30_11eb_a3d0_02cba411ec9drow12_col0\" class=\"data row12 col0\" >273</td>\n",
       "                        <td id=\"T_617b3ab9_3b30_11eb_a3d0_02cba411ec9drow12_col1\" class=\"data row12 col1\" >0.07196674%</td>\n",
       "                        <td id=\"T_617b3ab9_3b30_11eb_a3d0_02cba411ec9drow12_col2\" class=\"data row12 col2\" >99.94618731%</td>\n",
       "            </tr>\n",
       "            <tr>\n",
       "                        <th id=\"T_617b3ab9_3b30_11eb_a3d0_02cba411ec9dlevel0_row13\" class=\"row_heading level0 row13\" >13</th>\n",
       "                        <td id=\"T_617b3ab9_3b30_11eb_a3d0_02cba411ec9drow13_col0\" class=\"data row13 col0\" >306</td>\n",
       "                        <td id=\"T_617b3ab9_3b30_11eb_a3d0_02cba411ec9drow13_col1\" class=\"data row13 col1\" >0.07135643%</td>\n",
       "                        <td id=\"T_617b3ab9_3b30_11eb_a3d0_02cba411ec9drow13_col2\" class=\"data row13 col2\" >99.94019579%</td>\n",
       "            </tr>\n",
       "            <tr>\n",
       "                        <th id=\"T_617b3ab9_3b30_11eb_a3d0_02cba411ec9dlevel0_row14\" class=\"row_heading level0 row14\" >14</th>\n",
       "                        <td id=\"T_617b3ab9_3b30_11eb_a3d0_02cba411ec9drow14_col0\" class=\"data row14 col0\" >335</td>\n",
       "                        <td id=\"T_617b3ab9_3b30_11eb_a3d0_02cba411ec9drow14_col1\" class=\"data row14 col1\" >0.07084780%</td>\n",
       "                        <td id=\"T_617b3ab9_3b30_11eb_a3d0_02cba411ec9drow14_col2\" class=\"data row14 col2\" >99.93499645%</td>\n",
       "            </tr>\n",
       "            <tr>\n",
       "                        <th id=\"T_617b3ab9_3b30_11eb_a3d0_02cba411ec9dlevel0_row15\" class=\"row_heading level0 row15\" >15</th>\n",
       "                        <td id=\"T_617b3ab9_3b30_11eb_a3d0_02cba411ec9drow15_col0\" class=\"data row15 col0\" >365</td>\n",
       "                        <td id=\"T_617b3ab9_3b30_11eb_a3d0_02cba411ec9drow15_col1\" class=\"data row15 col1\" >0.07023778%</td>\n",
       "                        <td id=\"T_617b3ab9_3b30_11eb_a3d0_02cba411ec9drow15_col2\" class=\"data row15 col2\" >99.92978688%</td>\n",
       "            </tr>\n",
       "            <tr>\n",
       "                        <th id=\"T_617b3ab9_3b30_11eb_a3d0_02cba411ec9dlevel0_row16\" class=\"row_heading level0 row16\" >16</th>\n",
       "                        <td id=\"T_617b3ab9_3b30_11eb_a3d0_02cba411ec9drow16_col0\" class=\"data row16 col0\" >547</td>\n",
       "                        <td id=\"T_617b3ab9_3b30_11eb_a3d0_02cba411ec9drow16_col1\" class=\"data row16 col1\" >0.06416086%</td>\n",
       "                        <td id=\"T_617b3ab9_3b30_11eb_a3d0_02cba411ec9drow16_col2\" class=\"data row16 col2\" >99.90389281%</td>\n",
       "            </tr>\n",
       "            <tr>\n",
       "                        <th id=\"T_617b3ab9_3b30_11eb_a3d0_02cba411ec9dlevel0_row17\" class=\"row_heading level0 row17\" >17</th>\n",
       "                        <td id=\"T_617b3ab9_3b30_11eb_a3d0_02cba411ec9drow17_col0\" class=\"data row17 col0\" >730</td>\n",
       "                        <td id=\"T_617b3ab9_3b30_11eb_a3d0_02cba411ec9drow17_col1\" class=\"data row17 col1\" >0.05675784%</td>\n",
       "                        <td id=\"T_617b3ab9_3b30_11eb_a3d0_02cba411ec9drow17_col2\" class=\"data row17 col2\" >99.88654873%</td>\n",
       "            </tr>\n",
       "            <tr>\n",
       "                        <th id=\"T_617b3ab9_3b30_11eb_a3d0_02cba411ec9dlevel0_row18\" class=\"row_heading level0 row18\" >18</th>\n",
       "                        <td id=\"T_617b3ab9_3b30_11eb_a3d0_02cba411ec9drow18_col0\" class=\"data row18 col0\" >1097</td>\n",
       "                        <td id=\"T_617b3ab9_3b30_11eb_a3d0_02cba411ec9drow18_col1\" class=\"data row18 col1\" >0.07500989%</td>\n",
       "                        <td id=\"T_617b3ab9_3b30_11eb_a3d0_02cba411ec9drow18_col2\" class=\"data row18 col2\" >99.77481323%</td>\n",
       "            </tr>\n",
       "            <tr>\n",
       "                        <th id=\"T_617b3ab9_3b30_11eb_a3d0_02cba411ec9dlevel0_row19\" class=\"row_heading level0 row19\" >19</th>\n",
       "                        <td id=\"T_617b3ab9_3b30_11eb_a3d0_02cba411ec9drow19_col0\" class=\"data row19 col0\" >1462</td>\n",
       "                        <td id=\"T_617b3ab9_3b30_11eb_a3d0_02cba411ec9drow19_col1\" class=\"data row19 col1\" >0.12575198%</td>\n",
       "                        <td id=\"T_617b3ab9_3b30_11eb_a3d0_02cba411ec9drow19_col2\" class=\"data row19 col2\" >99.49756947%</td>\n",
       "            </tr>\n",
       "            <tr>\n",
       "                        <th id=\"T_617b3ab9_3b30_11eb_a3d0_02cba411ec9dlevel0_row20\" class=\"row_heading level0 row20\" >20</th>\n",
       "                        <td id=\"T_617b3ab9_3b30_11eb_a3d0_02cba411ec9drow20_col0\" class=\"data row20 col0\" >1826</td>\n",
       "                        <td id=\"T_617b3ab9_3b30_11eb_a3d0_02cba411ec9drow20_col1\" class=\"data row20 col1\" >0.19386403%</td>\n",
       "                        <td id=\"T_617b3ab9_3b30_11eb_a3d0_02cba411ec9drow20_col2\" class=\"data row20 col2\" >99.03483661%</td>\n",
       "            </tr>\n",
       "            <tr>\n",
       "                        <th id=\"T_617b3ab9_3b30_11eb_a3d0_02cba411ec9dlevel0_row21\" class=\"row_heading level0 row21\" >21</th>\n",
       "                        <td id=\"T_617b3ab9_3b30_11eb_a3d0_02cba411ec9drow21_col0\" class=\"data row21 col0\" >2191</td>\n",
       "                        <td id=\"T_617b3ab9_3b30_11eb_a3d0_02cba411ec9drow21_col1\" class=\"data row21 col1\" >0.27746329%</td>\n",
       "                        <td id=\"T_617b3ab9_3b30_11eb_a3d0_02cba411ec9drow21_col2\" class=\"data row21 col2\" >98.34825349%</td>\n",
       "            </tr>\n",
       "            <tr>\n",
       "                        <th id=\"T_617b3ab9_3b30_11eb_a3d0_02cba411ec9dlevel0_row22\" class=\"row_heading level0 row22\" >22</th>\n",
       "                        <td id=\"T_617b3ab9_3b30_11eb_a3d0_02cba411ec9drow22_col0\" class=\"data row22 col0\" >2556</td>\n",
       "                        <td id=\"T_617b3ab9_3b30_11eb_a3d0_02cba411ec9drow22_col1\" class=\"data row22 col1\" >0.36034028%</td>\n",
       "                        <td id=\"T_617b3ab9_3b30_11eb_a3d0_02cba411ec9drow22_col2\" class=\"data row22 col2\" >97.50820167%</td>\n",
       "            </tr>\n",
       "            <tr>\n",
       "                        <th id=\"T_617b3ab9_3b30_11eb_a3d0_02cba411ec9dlevel0_row23\" class=\"row_heading level0 row23\" >23</th>\n",
       "                        <td id=\"T_617b3ab9_3b30_11eb_a3d0_02cba411ec9drow23_col0\" class=\"data row23 col0\" >2924</td>\n",
       "                        <td id=\"T_617b3ab9_3b30_11eb_a3d0_02cba411ec9drow23_col1\" class=\"data row23 col1\" >0.43841259%</td>\n",
       "                        <td id=\"T_617b3ab9_3b30_11eb_a3d0_02cba411ec9drow23_col2\" class=\"data row23 col2\" >96.54885343%</td>\n",
       "            </tr>\n",
       "            <tr>\n",
       "                        <th id=\"T_617b3ab9_3b30_11eb_a3d0_02cba411ec9dlevel0_row24\" class=\"row_heading level0 row24\" >24</th>\n",
       "                        <td id=\"T_617b3ab9_3b30_11eb_a3d0_02cba411ec9drow24_col0\" class=\"data row24 col0\" >3288</td>\n",
       "                        <td id=\"T_617b3ab9_3b30_11eb_a3d0_02cba411ec9drow24_col1\" class=\"data row24 col1\" >0.51168283%</td>\n",
       "                        <td id=\"T_617b3ab9_3b30_11eb_a3d0_02cba411ec9drow24_col2\" class=\"data row24 col2\" >95.49526595%</td>\n",
       "            </tr>\n",
       "            <tr>\n",
       "                        <th id=\"T_617b3ab9_3b30_11eb_a3d0_02cba411ec9dlevel0_row25\" class=\"row_heading level0 row25\" >25</th>\n",
       "                        <td id=\"T_617b3ab9_3b30_11eb_a3d0_02cba411ec9drow25_col0\" class=\"data row25 col0\" >3653</td>\n",
       "                        <td id=\"T_617b3ab9_3b30_11eb_a3d0_02cba411ec9drow25_col1\" class=\"data row25 col1\" >0.58116575%</td>\n",
       "                        <td id=\"T_617b3ab9_3b30_11eb_a3d0_02cba411ec9drow25_col2\" class=\"data row25 col2\" >94.34948791%</td>\n",
       "            </tr>\n",
       "            <tr>\n",
       "                        <th id=\"T_617b3ab9_3b30_11eb_a3d0_02cba411ec9dlevel0_row26\" class=\"row_heading level0 row26\" >26</th>\n",
       "                        <td id=\"T_617b3ab9_3b30_11eb_a3d0_02cba411ec9drow26_col0\" class=\"data row26 col0\" >4383</td>\n",
       "                        <td id=\"T_617b3ab9_3b30_11eb_a3d0_02cba411ec9drow26_col1\" class=\"data row26 col1\" >0.69174838%</td>\n",
       "                        <td id=\"T_617b3ab9_3b30_11eb_a3d0_02cba411ec9drow26_col2\" class=\"data row26 col2\" >92.02897968%</td>\n",
       "            </tr>\n",
       "            <tr>\n",
       "                        <th id=\"T_617b3ab9_3b30_11eb_a3d0_02cba411ec9dlevel0_row27\" class=\"row_heading level0 row27\" >27</th>\n",
       "                        <td id=\"T_617b3ab9_3b30_11eb_a3d0_02cba411ec9drow27_col0\" class=\"data row27 col0\" >5479</td>\n",
       "                        <td id=\"T_617b3ab9_3b30_11eb_a3d0_02cba411ec9drow27_col1\" class=\"data row27 col1\" >0.80635259%</td>\n",
       "                        <td id=\"T_617b3ab9_3b30_11eb_a3d0_02cba411ec9drow27_col2\" class=\"data row27 col2\" >88.59974057%</td>\n",
       "            </tr>\n",
       "            <tr>\n",
       "                        <th id=\"T_617b3ab9_3b30_11eb_a3d0_02cba411ec9dlevel0_row28\" class=\"row_heading level0 row28\" >28</th>\n",
       "                        <td id=\"T_617b3ab9_3b30_11eb_a3d0_02cba411ec9drow28_col0\" class=\"data row28 col0\" >7306</td>\n",
       "                        <td id=\"T_617b3ab9_3b30_11eb_a3d0_02cba411ec9drow28_col1\" class=\"data row28 col1\" >0.92532411%</td>\n",
       "                        <td id=\"T_617b3ab9_3b30_11eb_a3d0_02cba411ec9drow28_col2\" class=\"data row28 col2\" >83.09240116%</td>\n",
       "            </tr>\n",
       "            <tr>\n",
       "                        <th id=\"T_617b3ab9_3b30_11eb_a3d0_02cba411ec9dlevel0_row29\" class=\"row_heading level0 row29\" >29</th>\n",
       "                        <td id=\"T_617b3ab9_3b30_11eb_a3d0_02cba411ec9drow29_col0\" class=\"data row29 col0\" >9133</td>\n",
       "                        <td id=\"T_617b3ab9_3b30_11eb_a3d0_02cba411ec9drow29_col1\" class=\"data row29 col1\" >0.96571892%</td>\n",
       "                        <td id=\"T_617b3ab9_3b30_11eb_a3d0_02cba411ec9drow29_col2\" class=\"data row29 col2\" >78.53377535%</td>\n",
       "            </tr>\n",
       "            <tr>\n",
       "                        <th id=\"T_617b3ab9_3b30_11eb_a3d0_02cba411ec9dlevel0_row30\" class=\"row_heading level0 row30\" >30</th>\n",
       "                        <td id=\"T_617b3ab9_3b30_11eb_a3d0_02cba411ec9drow30_col0\" class=\"data row30 col0\" >10957</td>\n",
       "                        <td id=\"T_617b3ab9_3b30_11eb_a3d0_02cba411ec9drow30_col1\" class=\"data row30 col1\" >0.98810273%</td>\n",
       "                        <td id=\"T_617b3ab9_3b30_11eb_a3d0_02cba411ec9drow30_col2\" class=\"data row30 col2\" >74.33261856%</td>\n",
       "            </tr>\n",
       "            <tr>\n",
       "                        <th id=\"T_617b3ab9_3b30_11eb_a3d0_02cba411ec9dlevel0_row31\" class=\"row_heading level0 row31\" >31</th>\n",
       "                        <td id=\"T_617b3ab9_3b30_11eb_a3d0_02cba411ec9drow31_col0\" class=\"data row31 col0\" >14610</td>\n",
       "                        <td id=\"T_617b3ab9_3b30_11eb_a3d0_02cba411ec9drow31_col1\" class=\"data row31 col1\" >0.94083244%</td>\n",
       "                        <td id=\"T_617b3ab9_3b30_11eb_a3d0_02cba411ec9drow31_col2\" class=\"data row31 col2\" >68.61968516%</td>\n",
       "            </tr>\n",
       "            <tr>\n",
       "                        <th id=\"T_617b3ab9_3b30_11eb_a3d0_02cba411ec9dlevel0_row32\" class=\"row_heading level0 row32\" >32</th>\n",
       "                        <td id=\"T_617b3ab9_3b30_11eb_a3d0_02cba411ec9drow32_col0\" class=\"data row32 col0\" >18262</td>\n",
       "                        <td id=\"T_617b3ab9_3b30_11eb_a3d0_02cba411ec9drow32_col1\" class=\"data row32 col1\" >0.84642634%</td>\n",
       "                        <td id=\"T_617b3ab9_3b30_11eb_a3d0_02cba411ec9drow32_col2\" class=\"data row32 col2\" >65.47567760%</td>\n",
       "            </tr>\n",
       "    </tbody></table>"
      ],
      "text/plain": [
       "<pandas.io.formats.style.Styler at 0x7fd14cf48a20>"
      ]
     },
     "execution_count": 18,
     "metadata": {},
     "output_type": "execute_result"
    }
   ],
   "source": [
    "for_df = []\n",
    "for p, t in zip(plazos, tasas):\n",
    "    for_df.append((p,t))\n",
    "df_curva = pd.DataFrame(for_df, columns=['plazo', 'tasa'])\n",
    "df_curva['df'] = df_curva.apply(lambda row: math.exp(-row['plazo']*row['tasa']/365), axis=1)\n",
    "df_curva.style.format({'tasa':'{:.8%}', 'df':'{:.8%}'})"
   ]
  },
  {
   "cell_type": "markdown",
   "metadata": {},
   "source": [
    "Tasa fwd entre t1 y t2 días."
   ]
  },
  {
   "cell_type": "code",
   "execution_count": 19,
   "metadata": {
    "ExecuteTime": {
     "end_time": "2020-12-10T21:40:54.674960Z",
     "start_time": "2020-12-10T21:40:54.670213Z"
    }
   },
   "outputs": [],
   "source": [
    "from scipy.interpolate import interp1d"
   ]
  },
  {
   "cell_type": "code",
   "execution_count": 20,
   "metadata": {
    "ExecuteTime": {
     "end_time": "2020-12-10T21:40:54.691212Z",
     "start_time": "2020-12-10T21:40:54.678367Z"
    }
   },
   "outputs": [],
   "source": [
    "crv = interp1d(df_curva['plazo'], df_curva['tasa'], 'linear')"
   ]
  },
  {
   "cell_type": "code",
   "execution_count": 28,
   "metadata": {
    "ExecuteTime": {
     "end_time": "2020-12-10T21:43:45.586844Z",
     "start_time": "2020-12-10T21:43:45.575495Z"
    }
   },
   "outputs": [
    {
     "name": "stdout",
     "output_type": "stream",
     "text": [
      "0.06269389%\n"
     ]
    }
   ],
   "source": [
    "t1 = 98\n",
    "t2 = 456\n",
    "r1 = crv(t1)\n",
    "r2 = crv(t2)\n",
    "df1 = math.exp(-r1 * t1 / 365)\n",
    "df2 = math.exp(-r2 * t2 / 365)\n",
    "fwd12 = (df1 / df2 - 1.0) * 360.0 / (t2 - t1)\n",
    "print(f'{fwd12:.8%}')"
   ]
  },
  {
   "cell_type": "markdown",
   "metadata": {},
   "source": [
    "Se exporta a Excel este resultado."
   ]
  },
  {
   "cell_type": "code",
   "execution_count": 21,
   "metadata": {
    "ExecuteTime": {
     "end_time": "2020-12-10T21:40:54.955703Z",
     "start_time": "2020-12-10T21:40:54.697010Z"
    }
   },
   "outputs": [],
   "source": [
    "df_curva.to_excel('data/20201012_built_sofr_zero.xlsx', index=False)"
   ]
  },
  {
   "cell_type": "markdown",
   "metadata": {},
   "source": [
    "### Comprobación"
   ]
  },
  {
   "cell_type": "markdown",
   "metadata": {},
   "source": [
    "Con el resultado (raíces) se construye un objeto `Qcf.ZeroCouponCurve`."
   ]
  },
  {
   "cell_type": "code",
   "execution_count": 22,
   "metadata": {
    "ExecuteTime": {
     "end_time": "2020-12-10T21:40:54.964468Z",
     "start_time": "2020-12-10T21:40:54.958117Z"
    }
   },
   "outputs": [],
   "source": [
    "qc_plazos = Qcf.long_vec()\n",
    "qc_tasas = Qcf.double_vec()\n",
    "for p, t in zip(plazos, tasas):\n",
    "    qc_plazos.append(p)\n",
    "    qc_tasas.append(t)\n",
    "curva_final = Qcf.QCCurve(qc_plazos, qc_tasas)\n",
    "curva_final = Qcf.QCLinearInterpolator(curva_final)\n",
    "\n",
    "# Se construye la curva\n",
    "curva_final = Qcf.ZeroCouponCurve(\n",
    "    curva_final,\n",
    "    Qcf.QCInterestRate(0.0, Qcf.QCAct365(), Qcf.QCContinousWf())\n",
    ")"
   ]
  },
  {
   "cell_type": "markdown",
   "metadata": {},
   "source": [
    "Se calcula el valor presente de cada una de las patas fijas de los swaps."
   ]
  },
  {
   "cell_type": "code",
   "execution_count": 23,
   "metadata": {
    "ExecuteTime": {
     "end_time": "2020-12-10T21:40:54.978757Z",
     "start_time": "2020-12-10T21:40:54.967140Z"
    }
   },
   "outputs": [
    {
     "name": "stdout",
     "output_type": "stream",
     "text": [
      "0: 10,000,000.00000000\n",
      "1: 10,000,000.00000000\n",
      "2: 10,000,000.00000000\n",
      "3: 10,000,000.00000000\n",
      "4: 10,000,000.00000000\n",
      "5: 10,000,000.00000000\n",
      "6: 10,000,000.00000000\n",
      "7: 10,000,000.00000000\n",
      "8: 10,000,000.00000000\n",
      "9: 10,000,000.00000000\n",
      "10: 10,000,000.00000000\n",
      "11: 10,000,000.00000000\n",
      "12: 10,000,000.00000000\n",
      "13: 10,000,000.00000000\n",
      "14: 10,000,000.00000000\n",
      "15: 10,000,000.00000000\n",
      "16: 10,000,000.00000000\n",
      "17: 10,000,000.00000000\n",
      "18: 10,000,000.00000000\n",
      "19: 10,000,000.00000000\n",
      "20: 10,000,000.00000000\n",
      "21: 10,000,000.00000000\n",
      "22: 10,000,000.00000000\n",
      "23: 10,000,000.00000000\n",
      "24: 10,000,000.00000000\n",
      "25: 10,000,000.00000000\n",
      "26: 10,000,000.00000000\n",
      "27: 10,000,000.00000000\n",
      "28: 10,000,000.00000000\n",
      "29: 10,000,000.00000000\n",
      "30: 10,000,000.00000000\n",
      "31: 10,000,000.00000000\n",
      "32: 10,000,000.00000000\n"
     ]
    }
   ],
   "source": [
    "vp = Qcf.PresentValue()\n",
    "for i, s in enumerate(qc_swaps):\n",
    "    pv = vp.pv(Qcf.QCDate(14, 10, 2020), s[0], curva_final)\n",
    "    print(f'{i}: {pv:,.8f}')"
   ]
  }
 ],
 "metadata": {
  "hide_input": false,
  "kernelspec": {
   "display_name": "Python 3",
   "language": "python",
   "name": "python3"
  },
  "language_info": {
   "codemirror_mode": {
    "name": "ipython",
    "version": 3
   },
   "file_extension": ".py",
   "mimetype": "text/x-python",
   "name": "python",
   "nbconvert_exporter": "python",
   "pygments_lexer": "ipython3",
   "version": "3.7.3"
  },
  "latex_envs": {
   "LaTeX_envs_menu_present": true,
   "autoclose": true,
   "autocomplete": true,
   "bibliofile": "biblio.bib",
   "cite_by": "apalike",
   "current_citInitial": 1,
   "eqLabelWithNumbers": true,
   "eqNumInitial": 1,
   "hotkeys": {
    "equation": "Ctrl-E",
    "itemize": "Ctrl-I"
   },
   "labels_anchors": false,
   "latex_user_defs": false,
   "report_style_numbering": false,
   "user_envs_cfg": false
  },
  "toc": {
   "base_numbering": "5",
   "nav_menu": {},
   "number_sections": true,
   "sideBar": true,
   "skip_h1_title": false,
   "title_cell": "Table of Contents",
   "title_sidebar": "Contenido",
   "toc_cell": false,
   "toc_position": {
    "height": "calc(100% - 180px)",
    "left": "10px",
    "top": "150px",
    "width": "215.43478393554688px"
   },
   "toc_section_display": true,
   "toc_window_display": true
  }
 },
 "nbformat": 4,
 "nbformat_minor": 4
}
