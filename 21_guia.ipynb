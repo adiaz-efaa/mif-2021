{
 "cells": [
  {
   "cell_type": "markdown",
   "metadata": {},
   "source": [
    "# Guía de Ejercicios"
   ]
  },
  {
   "cell_type": "code",
   "execution_count": 1,
   "metadata": {
    "ExecuteTime": {
     "end_time": "2021-12-09T00:50:28.743813Z",
     "start_time": "2021-12-09T00:50:28.727560Z"
    }
   },
   "outputs": [],
   "source": [
    "from finrisk import QC_Financial_3 as Qcf\n",
    "from IPython.display import Image\n",
    "from IPython.core.display import HTML"
   ]
  },
  {
   "cell_type": "markdown",
   "metadata": {
    "ExecuteTime": {
     "end_time": "2021-12-05T13:26:40.000217Z",
     "start_time": "2021-12-05T13:26:39.995666Z"
    }
   },
   "source": [
    "## Equivalencia de Tasas de Interés\n",
    "\n",
    "Utilizando la librería `QC_Financial_3` o directamente en Python, replicar los valores de la siguiente tabla:"
   ]
  },
  {
   "cell_type": "code",
   "execution_count": 2,
   "metadata": {
    "ExecuteTime": {
     "end_time": "2021-12-09T00:50:28.757686Z",
     "start_time": "2021-12-09T00:50:28.746922Z"
    }
   },
   "outputs": [
    {
     "data": {
      "text/html": [
       "<img src=\"img/tabla_ejercicio.png\" width=\"550\" height=\"440\"/>"
      ],
      "text/plain": [
       "<IPython.core.display.Image object>"
      ]
     },
     "execution_count": 2,
     "metadata": {},
     "output_type": "execute_result"
    }
   ],
   "source": [
    "Image(url=\"img/tabla_ejercicio.png\", width=550, height=440)"
   ]
  },
  {
   "cell_type": "markdown",
   "metadata": {},
   "source": [
    "## Construcción de Flujos"
   ]
  },
  {
   "cell_type": "code",
   "execution_count": 3,
   "metadata": {
    "ExecuteTime": {
     "end_time": "2021-12-09T00:50:29.037462Z",
     "start_time": "2021-12-09T00:50:28.759829Z"
    }
   },
   "outputs": [],
   "source": [
    "import pandas as pd"
   ]
  },
  {
   "cell_type": "markdown",
   "metadata": {},
   "source": [
    "### Flujos Pata Fija\n",
    "\n",
    "Replique en Python, sin usar la librería `QC_Financial_3` la siguiente tabla de desarrollo de la pata fija de un swap."
   ]
  },
  {
   "cell_type": "code",
   "execution_count": 4,
   "metadata": {
    "ExecuteTime": {
     "end_time": "2021-12-09T00:50:29.096683Z",
     "start_time": "2021-12-09T00:50:29.039738Z"
    }
   },
   "outputs": [],
   "source": [
    "tabla = pd.read_excel('data/flujos_pata_fija.xlsx')"
   ]
  },
  {
   "cell_type": "code",
   "execution_count": 5,
   "metadata": {
    "ExecuteTime": {
     "end_time": "2021-12-09T00:50:29.391682Z",
     "start_time": "2021-12-09T00:50:29.099960Z"
    }
   },
   "outputs": [
    {
     "data": {
      "text/html": [
       "<style  type=\"text/css\" >\n",
       "</style><table id=\"T_0165cfda_588a_11ec_a147_02cba411ec9d\" ><thead>    <tr>        <th class=\"blank level0\" ></th>        <th class=\"col_heading level0 col0\" >fecha_inicial</th>        <th class=\"col_heading level0 col1\" >fecha_final</th>        <th class=\"col_heading level0 col2\" >fecha_pago</th>        <th class=\"col_heading level0 col3\" >nominal</th>        <th class=\"col_heading level0 col4\" >amortizacion</th>        <th class=\"col_heading level0 col5\" >interes</th>        <th class=\"col_heading level0 col6\" >amort_es_flujo</th>        <th class=\"col_heading level0 col7\" >flujo</th>        <th class=\"col_heading level0 col8\" >moneda</th>        <th class=\"col_heading level0 col9\" >valor_tasa</th>        <th class=\"col_heading level0 col10\" >tipo_tasa</th>    </tr></thead><tbody>\n",
       "                <tr>\n",
       "                        <th id=\"T_0165cfda_588a_11ec_a147_02cba411ec9dlevel0_row0\" class=\"row_heading level0 row0\" >0</th>\n",
       "                        <td id=\"T_0165cfda_588a_11ec_a147_02cba411ec9drow0_col0\" class=\"data row0 col0\" >2020-09-17</td>\n",
       "                        <td id=\"T_0165cfda_588a_11ec_a147_02cba411ec9drow0_col1\" class=\"data row0 col1\" >2021-03-17</td>\n",
       "                        <td id=\"T_0165cfda_588a_11ec_a147_02cba411ec9drow0_col2\" class=\"data row0 col2\" >2021-03-17</td>\n",
       "                        <td id=\"T_0165cfda_588a_11ec_a147_02cba411ec9drow0_col3\" class=\"data row0 col3\" >10,000,000</td>\n",
       "                        <td id=\"T_0165cfda_588a_11ec_a147_02cba411ec9drow0_col4\" class=\"data row0 col4\" >0</td>\n",
       "                        <td id=\"T_0165cfda_588a_11ec_a147_02cba411ec9drow0_col5\" class=\"data row0 col5\" >10,905</td>\n",
       "                        <td id=\"T_0165cfda_588a_11ec_a147_02cba411ec9drow0_col6\" class=\"data row0 col6\" >True</td>\n",
       "                        <td id=\"T_0165cfda_588a_11ec_a147_02cba411ec9drow0_col7\" class=\"data row0 col7\" >10,905</td>\n",
       "                        <td id=\"T_0165cfda_588a_11ec_a147_02cba411ec9drow0_col8\" class=\"data row0 col8\" >USD</td>\n",
       "                        <td id=\"T_0165cfda_588a_11ec_a147_02cba411ec9drow0_col9\" class=\"data row0 col9\" >0.2181%</td>\n",
       "                        <td id=\"T_0165cfda_588a_11ec_a147_02cba411ec9drow0_col10\" class=\"data row0 col10\" >Lin30360</td>\n",
       "            </tr>\n",
       "            <tr>\n",
       "                        <th id=\"T_0165cfda_588a_11ec_a147_02cba411ec9dlevel0_row1\" class=\"row_heading level0 row1\" >1</th>\n",
       "                        <td id=\"T_0165cfda_588a_11ec_a147_02cba411ec9drow1_col0\" class=\"data row1 col0\" >2021-03-17</td>\n",
       "                        <td id=\"T_0165cfda_588a_11ec_a147_02cba411ec9drow1_col1\" class=\"data row1 col1\" >2021-09-17</td>\n",
       "                        <td id=\"T_0165cfda_588a_11ec_a147_02cba411ec9drow1_col2\" class=\"data row1 col2\" >2021-09-17</td>\n",
       "                        <td id=\"T_0165cfda_588a_11ec_a147_02cba411ec9drow1_col3\" class=\"data row1 col3\" >10,000,000</td>\n",
       "                        <td id=\"T_0165cfda_588a_11ec_a147_02cba411ec9drow1_col4\" class=\"data row1 col4\" >0</td>\n",
       "                        <td id=\"T_0165cfda_588a_11ec_a147_02cba411ec9drow1_col5\" class=\"data row1 col5\" >10,905</td>\n",
       "                        <td id=\"T_0165cfda_588a_11ec_a147_02cba411ec9drow1_col6\" class=\"data row1 col6\" >True</td>\n",
       "                        <td id=\"T_0165cfda_588a_11ec_a147_02cba411ec9drow1_col7\" class=\"data row1 col7\" >10,905</td>\n",
       "                        <td id=\"T_0165cfda_588a_11ec_a147_02cba411ec9drow1_col8\" class=\"data row1 col8\" >USD</td>\n",
       "                        <td id=\"T_0165cfda_588a_11ec_a147_02cba411ec9drow1_col9\" class=\"data row1 col9\" >0.2181%</td>\n",
       "                        <td id=\"T_0165cfda_588a_11ec_a147_02cba411ec9drow1_col10\" class=\"data row1 col10\" >Lin30360</td>\n",
       "            </tr>\n",
       "            <tr>\n",
       "                        <th id=\"T_0165cfda_588a_11ec_a147_02cba411ec9dlevel0_row2\" class=\"row_heading level0 row2\" >2</th>\n",
       "                        <td id=\"T_0165cfda_588a_11ec_a147_02cba411ec9drow2_col0\" class=\"data row2 col0\" >2021-09-17</td>\n",
       "                        <td id=\"T_0165cfda_588a_11ec_a147_02cba411ec9drow2_col1\" class=\"data row2 col1\" >2022-03-17</td>\n",
       "                        <td id=\"T_0165cfda_588a_11ec_a147_02cba411ec9drow2_col2\" class=\"data row2 col2\" >2022-03-17</td>\n",
       "                        <td id=\"T_0165cfda_588a_11ec_a147_02cba411ec9drow2_col3\" class=\"data row2 col3\" >10,000,000</td>\n",
       "                        <td id=\"T_0165cfda_588a_11ec_a147_02cba411ec9drow2_col4\" class=\"data row2 col4\" >0</td>\n",
       "                        <td id=\"T_0165cfda_588a_11ec_a147_02cba411ec9drow2_col5\" class=\"data row2 col5\" >10,905</td>\n",
       "                        <td id=\"T_0165cfda_588a_11ec_a147_02cba411ec9drow2_col6\" class=\"data row2 col6\" >True</td>\n",
       "                        <td id=\"T_0165cfda_588a_11ec_a147_02cba411ec9drow2_col7\" class=\"data row2 col7\" >10,905</td>\n",
       "                        <td id=\"T_0165cfda_588a_11ec_a147_02cba411ec9drow2_col8\" class=\"data row2 col8\" >USD</td>\n",
       "                        <td id=\"T_0165cfda_588a_11ec_a147_02cba411ec9drow2_col9\" class=\"data row2 col9\" >0.2181%</td>\n",
       "                        <td id=\"T_0165cfda_588a_11ec_a147_02cba411ec9drow2_col10\" class=\"data row2 col10\" >Lin30360</td>\n",
       "            </tr>\n",
       "            <tr>\n",
       "                        <th id=\"T_0165cfda_588a_11ec_a147_02cba411ec9dlevel0_row3\" class=\"row_heading level0 row3\" >3</th>\n",
       "                        <td id=\"T_0165cfda_588a_11ec_a147_02cba411ec9drow3_col0\" class=\"data row3 col0\" >2022-03-17</td>\n",
       "                        <td id=\"T_0165cfda_588a_11ec_a147_02cba411ec9drow3_col1\" class=\"data row3 col1\" >2022-09-19</td>\n",
       "                        <td id=\"T_0165cfda_588a_11ec_a147_02cba411ec9drow3_col2\" class=\"data row3 col2\" >2022-09-19</td>\n",
       "                        <td id=\"T_0165cfda_588a_11ec_a147_02cba411ec9drow3_col3\" class=\"data row3 col3\" >10,000,000</td>\n",
       "                        <td id=\"T_0165cfda_588a_11ec_a147_02cba411ec9drow3_col4\" class=\"data row3 col4\" >10,000,000</td>\n",
       "                        <td id=\"T_0165cfda_588a_11ec_a147_02cba411ec9drow3_col5\" class=\"data row3 col5\" >11,026</td>\n",
       "                        <td id=\"T_0165cfda_588a_11ec_a147_02cba411ec9drow3_col6\" class=\"data row3 col6\" >True</td>\n",
       "                        <td id=\"T_0165cfda_588a_11ec_a147_02cba411ec9drow3_col7\" class=\"data row3 col7\" >10,011,026</td>\n",
       "                        <td id=\"T_0165cfda_588a_11ec_a147_02cba411ec9drow3_col8\" class=\"data row3 col8\" >USD</td>\n",
       "                        <td id=\"T_0165cfda_588a_11ec_a147_02cba411ec9drow3_col9\" class=\"data row3 col9\" >0.2181%</td>\n",
       "                        <td id=\"T_0165cfda_588a_11ec_a147_02cba411ec9drow3_col10\" class=\"data row3 col10\" >Lin30360</td>\n",
       "            </tr>\n",
       "    </tbody></table>"
      ],
      "text/plain": [
       "<pandas.io.formats.style.Styler at 0x7f9b77b46cf8>"
      ]
     },
     "execution_count": 5,
     "metadata": {},
     "output_type": "execute_result"
    }
   ],
   "source": [
    "tabla.style.format({\n",
    "    'nominal': '{0:,.0f}',\n",
    "    'amortizacion': '{0:,.0f}',\n",
    "    'interes': '{0:,.0f}',\n",
    "    'flujo': '{0:,.0f}',\n",
    "    'valor_tasa': '{0:,.4%}',\n",
    "})"
   ]
  },
  {
   "cell_type": "markdown",
   "metadata": {},
   "source": [
    "#### Solución"
   ]
  },
  {
   "cell_type": "markdown",
   "metadata": {},
   "source": [
    "Lo importante es poder replicar las fechas y los intereses.\n",
    "\n",
    "Para el campo `fecha_final` necesitamos una librería en Pytgon que nos permita sumar un número de meses a una fecha dada. Para encontrarla googleamos \"add a certain amount of months to date in python\". El primer link del resultado es: https://thispointer.com/add-months-to-a-date-in-python/ . Ahí se explica el uso del módulo `dateutil` y en particular de la clase `relativedelta`."
   ]
  },
  {
   "cell_type": "code",
   "execution_count": 12,
   "metadata": {
    "ExecuteTime": {
     "end_time": "2021-12-09T02:34:54.360131Z",
     "start_time": "2021-12-09T02:34:54.356224Z"
    }
   },
   "outputs": [],
   "source": [
    "from datetime import date\n",
    "from dateutil.relativedelta import relativedelta"
   ]
  },
  {
   "cell_type": "code",
   "execution_count": 16,
   "metadata": {
    "ExecuteTime": {
     "end_time": "2021-12-09T02:36:59.714835Z",
     "start_time": "2021-12-09T02:36:59.710804Z"
    }
   },
   "outputs": [
    {
     "name": "stdout",
     "output_type": "stream",
     "text": [
      "2021-03-15\n"
     ]
    }
   ],
   "source": [
    "f1 = date(2021, 2, 15)\n",
    "f2 = f1 + relativedelta(months=1)\n",
    "print(f2)"
   ]
  },
  {
   "cell_type": "markdown",
   "metadata": {},
   "source": [
    "Necesitamos, además, una función que imite el comoportamiento de `FOLLOWING`. Escribimos una función muy sencilla que a un sábado o un domingo asocia el lunes siguiente y a los días entre lunes y viernes inclusive los deja sin cambio."
   ]
  },
  {
   "cell_type": "code",
   "execution_count": 17,
   "metadata": {
    "ExecuteTime": {
     "end_time": "2021-12-09T02:41:10.161120Z",
     "start_time": "2021-12-09T02:41:10.155798Z"
    }
   },
   "outputs": [],
   "source": [
    "def buss_day(fecha: date) -> date:\n",
    "    \"\"\"\n",
    "    Imita el comportamiento de `FOLLOWING`.\n",
    "    \n",
    "    A un sábado o un domingo asocia el lunes siguiente y a los días entre lunes y viernes,\n",
    "    inclusive, los deja sin cambio\n",
    "    \"\"\"\n",
    "    if fecha.weekday() == 5:    # Sábado\n",
    "        return fecha + relativedelta(days=2)\n",
    "    elif fecha.weekday() == 6:  # Domingo\n",
    "        return fecha + relativedelta(days=1)\n",
    "    else:\n",
    "        return fecha"
   ]
  },
  {
   "cell_type": "code",
   "execution_count": 19,
   "metadata": {
    "ExecuteTime": {
     "end_time": "2021-12-09T02:42:17.273946Z",
     "start_time": "2021-12-09T02:42:17.269026Z"
    }
   },
   "outputs": [
    {
     "name": "stdout",
     "output_type": "stream",
     "text": [
      "1969-01-13\n",
      "1969-01-13\n"
     ]
    }
   ],
   "source": [
    "# Domingo\n",
    "f = date(1969, 1, 12)\n",
    "print(buss_day(f))\n",
    "\n",
    "# Sábado\n",
    "f = date(1969, 1, 11)\n",
    "print(buss_day(f))"
   ]
  },
  {
   "cell_type": "markdown",
   "metadata": {},
   "source": [
    "Para el conteo de días en base 30360 googleamos \"DAYS360 equivalent in python\". El primer link del resultado es una pregunta en StackOverflow: https://stackoverflow.com/questions/51832672/pandas-excel-days360-equivalent . De ahí sacamos el siguiente código (el cual probaremos para este caso)."
   ]
  },
  {
   "cell_type": "code",
   "execution_count": 10,
   "metadata": {
    "ExecuteTime": {
     "end_time": "2021-12-09T02:32:07.546952Z",
     "start_time": "2021-12-09T02:32:07.538368Z"
    }
   },
   "outputs": [],
   "source": [
    "def days360(start_date, end_date, method_eu=False):\n",
    "    \"\"\"\n",
    "    Calcula el número de días entre 2 fechas en base 30360.\n",
    "    \"\"\"\n",
    "    start_day = start_date.day\n",
    "    start_month = start_date.month\n",
    "    start_year = start_date.year\n",
    "    end_day = end_date.day\n",
    "    end_month = end_date.month\n",
    "    end_year = end_date.year\n",
    "\n",
    "    if (\n",
    "        start_day == 31 or\n",
    "        (\n",
    "            method_eu is False and\n",
    "            start_month == 2 and (\n",
    "                start_day == 29 or (\n",
    "                    start_day == 28 and\n",
    "                    start_date.is_leap_year is False\n",
    "                )\n",
    "            )\n",
    "        )\n",
    "    ):\n",
    "        start_day = 30\n",
    "\n",
    "    if end_day == 31:\n",
    "        if method_eu is False and start_day != 30:\n",
    "            end_day = 1\n",
    "\n",
    "            if end_month == 12:\n",
    "                end_year += 1\n",
    "                end_month = 1\n",
    "            else:\n",
    "                end_month += 1\n",
    "        else:\n",
    "            end_day = 30\n",
    "\n",
    "    return (\n",
    "        end_day + end_month * 30 + end_year * 360 -\n",
    "        start_day - start_month * 30 - start_year * 360)"
   ]
  },
  {
   "cell_type": "code",
   "execution_count": 22,
   "metadata": {
    "ExecuteTime": {
     "end_time": "2021-12-09T02:44:02.399957Z",
     "start_time": "2021-12-09T02:44:02.391799Z"
    }
   },
   "outputs": [
    {
     "name": "stdout",
     "output_type": "stream",
     "text": [
      "30\n",
      "360\n"
     ]
    }
   ],
   "source": [
    "f1 = date(2021, 2, 15)\n",
    "f2 = date(2021, 3, 15)\n",
    "f3 = date(2022, 2, 15)\n",
    "print(days360(f1, f2))\n",
    "print(days360(f1, f3))"
   ]
  },
  {
   "cell_type": "code",
   "execution_count": 28,
   "metadata": {
    "ExecuteTime": {
     "end_time": "2021-12-09T02:55:54.257297Z",
     "start_time": "2021-12-09T02:55:54.251006Z"
    }
   },
   "outputs": [],
   "source": [
    "date0 = date(2020, 9, 17)\n",
    "start_date = date0\n",
    "valor_tasa = .002181\n",
    "result = []\n",
    "for i in range(4):\n",
    "    end_date = buss_day(date0 + relativedelta(months=(i + 1) * 6))\n",
    "    nominal = 10000000\n",
    "    amortizacion = 0.0 if i < 3 else nominal\n",
    "    interes = nominal * valor_tasa * days360(start_date, end_date) / 360.0\n",
    "    temp = (start_date, end_date, end_date, nominal, interes, amortizacion)\n",
    "    result.append(temp)\n",
    "    start_date = end_date"
   ]
  },
  {
   "cell_type": "code",
   "execution_count": 29,
   "metadata": {
    "ExecuteTime": {
     "end_time": "2021-12-09T02:55:55.024103Z",
     "start_time": "2021-12-09T02:55:55.018569Z"
    }
   },
   "outputs": [],
   "source": [
    "df_result = pd.DataFrame(\n",
    "    result,\n",
    "    columns=[\n",
    "        'start_date',\n",
    "        'end_date',\n",
    "        'settlement_date',\n",
    "        'nominal',\n",
    "        'interes',\n",
    "        'amortizacion'\n",
    "    ])"
   ]
  },
  {
   "cell_type": "code",
   "execution_count": 30,
   "metadata": {
    "ExecuteTime": {
     "end_time": "2021-12-09T02:55:55.697168Z",
     "start_time": "2021-12-09T02:55:55.685447Z"
    }
   },
   "outputs": [
    {
     "data": {
      "text/html": [
       "<div>\n",
       "<style scoped>\n",
       "    .dataframe tbody tr th:only-of-type {\n",
       "        vertical-align: middle;\n",
       "    }\n",
       "\n",
       "    .dataframe tbody tr th {\n",
       "        vertical-align: top;\n",
       "    }\n",
       "\n",
       "    .dataframe thead th {\n",
       "        text-align: right;\n",
       "    }\n",
       "</style>\n",
       "<table border=\"1\" class=\"dataframe\">\n",
       "  <thead>\n",
       "    <tr style=\"text-align: right;\">\n",
       "      <th></th>\n",
       "      <th>start_date</th>\n",
       "      <th>end_date</th>\n",
       "      <th>settlement_date</th>\n",
       "      <th>nominal</th>\n",
       "      <th>interes</th>\n",
       "      <th>amortizacion</th>\n",
       "    </tr>\n",
       "  </thead>\n",
       "  <tbody>\n",
       "    <tr>\n",
       "      <th>0</th>\n",
       "      <td>2020-09-17</td>\n",
       "      <td>2021-03-17</td>\n",
       "      <td>2021-03-17</td>\n",
       "      <td>10000000</td>\n",
       "      <td>10905.000000</td>\n",
       "      <td>0.0</td>\n",
       "    </tr>\n",
       "    <tr>\n",
       "      <th>1</th>\n",
       "      <td>2021-03-17</td>\n",
       "      <td>2021-09-17</td>\n",
       "      <td>2021-09-17</td>\n",
       "      <td>10000000</td>\n",
       "      <td>10905.000000</td>\n",
       "      <td>0.0</td>\n",
       "    </tr>\n",
       "    <tr>\n",
       "      <th>2</th>\n",
       "      <td>2021-09-17</td>\n",
       "      <td>2022-03-17</td>\n",
       "      <td>2022-03-17</td>\n",
       "      <td>10000000</td>\n",
       "      <td>10905.000000</td>\n",
       "      <td>0.0</td>\n",
       "    </tr>\n",
       "    <tr>\n",
       "      <th>3</th>\n",
       "      <td>2022-03-17</td>\n",
       "      <td>2022-09-19</td>\n",
       "      <td>2022-09-19</td>\n",
       "      <td>10000000</td>\n",
       "      <td>11026.166667</td>\n",
       "      <td>10000000.0</td>\n",
       "    </tr>\n",
       "  </tbody>\n",
       "</table>\n",
       "</div>"
      ],
      "text/plain": [
       "   start_date    end_date settlement_date   nominal       interes  \\\n",
       "0  2020-09-17  2021-03-17      2021-03-17  10000000  10905.000000   \n",
       "1  2021-03-17  2021-09-17      2021-09-17  10000000  10905.000000   \n",
       "2  2021-09-17  2022-03-17      2022-03-17  10000000  10905.000000   \n",
       "3  2022-03-17  2022-09-19      2022-09-19  10000000  11026.166667   \n",
       "\n",
       "   amortizacion  \n",
       "0           0.0  \n",
       "1           0.0  \n",
       "2           0.0  \n",
       "3    10000000.0  "
      ]
     },
     "execution_count": 30,
     "metadata": {},
     "output_type": "execute_result"
    }
   ],
   "source": [
    "df_result"
   ]
  },
  {
   "cell_type": "markdown",
   "metadata": {},
   "source": [
    "### Flujos Pata OIS\n",
    "\n",
    "Replique en Python, sin usar la librería `QC_Financial_3` la siguiente tabla de desarrollo de la pata cámara promedio (OIS de Chile) de un swap. Los valores del ICP se obtuvieron suponiendo una tasa interbancaria constante igual a 1.5%."
   ]
  },
  {
   "cell_type": "code",
   "execution_count": 6,
   "metadata": {
    "ExecuteTime": {
     "end_time": "2021-12-09T00:50:29.409830Z",
     "start_time": "2021-12-09T00:50:29.394938Z"
    }
   },
   "outputs": [],
   "source": [
    "tabla = pd.read_excel('data/tabla_desarrollo_para_icp-ois.xlsx')"
   ]
  },
  {
   "cell_type": "code",
   "execution_count": 7,
   "metadata": {
    "ExecuteTime": {
     "end_time": "2021-12-09T00:50:29.423092Z",
     "start_time": "2021-12-09T00:50:29.412052Z"
    }
   },
   "outputs": [
    {
     "data": {
      "text/html": [
       "<style  type=\"text/css\" >\n",
       "</style><table id=\"T_0165cfdb_588a_11ec_a147_02cba411ec9d\" ><thead>    <tr>        <th class=\"blank level0\" ></th>        <th class=\"col_heading level0 col0\" >fecha_inicial</th>        <th class=\"col_heading level0 col1\" >fecha_final</th>        <th class=\"col_heading level0 col2\" >fecha_pago</th>        <th class=\"col_heading level0 col3\" >nominal</th>        <th class=\"col_heading level0 col4\" >amortizacion</th>        <th class=\"col_heading level0 col5\" >amort_es_flujo</th>        <th class=\"col_heading level0 col6\" >flujo</th>        <th class=\"col_heading level0 col7\" >moneda</th>        <th class=\"col_heading level0 col8\" >icp_inicial</th>        <th class=\"col_heading level0 col9\" >icp_final</th>        <th class=\"col_heading level0 col10\" >valor_tasa</th>        <th class=\"col_heading level0 col11\" >interes</th>        <th class=\"col_heading level0 col12\" >spread</th>        <th class=\"col_heading level0 col13\" >gearing</th>        <th class=\"col_heading level0 col14\" >tipo_tasa</th>    </tr></thead><tbody>\n",
       "                <tr>\n",
       "                        <th id=\"T_0165cfdb_588a_11ec_a147_02cba411ec9dlevel0_row0\" class=\"row_heading level0 row0\" >0</th>\n",
       "                        <td id=\"T_0165cfdb_588a_11ec_a147_02cba411ec9drow0_col0\" class=\"data row0 col0\" >2021-09-21</td>\n",
       "                        <td id=\"T_0165cfdb_588a_11ec_a147_02cba411ec9drow0_col1\" class=\"data row0 col1\" >2022-03-21</td>\n",
       "                        <td id=\"T_0165cfdb_588a_11ec_a147_02cba411ec9drow0_col2\" class=\"data row0 col2\" >2022-03-21</td>\n",
       "                        <td id=\"T_0165cfdb_588a_11ec_a147_02cba411ec9drow0_col3\" class=\"data row0 col3\" >1,000,000</td>\n",
       "                        <td id=\"T_0165cfdb_588a_11ec_a147_02cba411ec9drow0_col4\" class=\"data row0 col4\" >0</td>\n",
       "                        <td id=\"T_0165cfdb_588a_11ec_a147_02cba411ec9drow0_col5\" class=\"data row0 col5\" >True</td>\n",
       "                        <td id=\"T_0165cfdb_588a_11ec_a147_02cba411ec9drow0_col6\" class=\"data row0 col6\" >7,491</td>\n",
       "                        <td id=\"T_0165cfdb_588a_11ec_a147_02cba411ec9drow0_col7\" class=\"data row0 col7\" >CLP</td>\n",
       "                        <td id=\"T_0165cfdb_588a_11ec_a147_02cba411ec9drow0_col8\" class=\"data row0 col8\" >10,000.00</td>\n",
       "                        <td id=\"T_0165cfdb_588a_11ec_a147_02cba411ec9drow0_col9\" class=\"data row0 col9\" >10,075.00</td>\n",
       "                        <td id=\"T_0165cfdb_588a_11ec_a147_02cba411ec9drow0_col10\" class=\"data row0 col10\" >1.4900%</td>\n",
       "                        <td id=\"T_0165cfdb_588a_11ec_a147_02cba411ec9drow0_col11\" class=\"data row0 col11\" >7,491</td>\n",
       "                        <td id=\"T_0165cfdb_588a_11ec_a147_02cba411ec9drow0_col12\" class=\"data row0 col12\" >0</td>\n",
       "                        <td id=\"T_0165cfdb_588a_11ec_a147_02cba411ec9drow0_col13\" class=\"data row0 col13\" >1</td>\n",
       "                        <td id=\"T_0165cfdb_588a_11ec_a147_02cba411ec9drow0_col14\" class=\"data row0 col14\" >LinAct360</td>\n",
       "            </tr>\n",
       "            <tr>\n",
       "                        <th id=\"T_0165cfdb_588a_11ec_a147_02cba411ec9dlevel0_row1\" class=\"row_heading level0 row1\" >1</th>\n",
       "                        <td id=\"T_0165cfdb_588a_11ec_a147_02cba411ec9drow1_col0\" class=\"data row1 col0\" >2022-03-21</td>\n",
       "                        <td id=\"T_0165cfdb_588a_11ec_a147_02cba411ec9drow1_col1\" class=\"data row1 col1\" >2022-09-21</td>\n",
       "                        <td id=\"T_0165cfdb_588a_11ec_a147_02cba411ec9drow1_col2\" class=\"data row1 col2\" >2022-09-21</td>\n",
       "                        <td id=\"T_0165cfdb_588a_11ec_a147_02cba411ec9drow1_col3\" class=\"data row1 col3\" >1,000,000</td>\n",
       "                        <td id=\"T_0165cfdb_588a_11ec_a147_02cba411ec9drow1_col4\" class=\"data row1 col4\" >0</td>\n",
       "                        <td id=\"T_0165cfdb_588a_11ec_a147_02cba411ec9drow1_col5\" class=\"data row1 col5\" >True</td>\n",
       "                        <td id=\"T_0165cfdb_588a_11ec_a147_02cba411ec9drow1_col6\" class=\"data row1 col6\" >7,513</td>\n",
       "                        <td id=\"T_0165cfdb_588a_11ec_a147_02cba411ec9drow1_col7\" class=\"data row1 col7\" >CLP</td>\n",
       "                        <td id=\"T_0165cfdb_588a_11ec_a147_02cba411ec9drow1_col8\" class=\"data row1 col8\" >10,075.00</td>\n",
       "                        <td id=\"T_0165cfdb_588a_11ec_a147_02cba411ec9drow1_col9\" class=\"data row1 col9\" >10,150.56</td>\n",
       "                        <td id=\"T_0165cfdb_588a_11ec_a147_02cba411ec9drow1_col10\" class=\"data row1 col10\" >1.4700%</td>\n",
       "                        <td id=\"T_0165cfdb_588a_11ec_a147_02cba411ec9drow1_col11\" class=\"data row1 col11\" >7,513</td>\n",
       "                        <td id=\"T_0165cfdb_588a_11ec_a147_02cba411ec9drow1_col12\" class=\"data row1 col12\" >0</td>\n",
       "                        <td id=\"T_0165cfdb_588a_11ec_a147_02cba411ec9drow1_col13\" class=\"data row1 col13\" >1</td>\n",
       "                        <td id=\"T_0165cfdb_588a_11ec_a147_02cba411ec9drow1_col14\" class=\"data row1 col14\" >LinAct360</td>\n",
       "            </tr>\n",
       "            <tr>\n",
       "                        <th id=\"T_0165cfdb_588a_11ec_a147_02cba411ec9dlevel0_row2\" class=\"row_heading level0 row2\" >2</th>\n",
       "                        <td id=\"T_0165cfdb_588a_11ec_a147_02cba411ec9drow2_col0\" class=\"data row2 col0\" >2022-09-21</td>\n",
       "                        <td id=\"T_0165cfdb_588a_11ec_a147_02cba411ec9drow2_col1\" class=\"data row2 col1\" >2023-03-21</td>\n",
       "                        <td id=\"T_0165cfdb_588a_11ec_a147_02cba411ec9drow2_col2\" class=\"data row2 col2\" >2023-03-21</td>\n",
       "                        <td id=\"T_0165cfdb_588a_11ec_a147_02cba411ec9drow2_col3\" class=\"data row2 col3\" >1,000,000</td>\n",
       "                        <td id=\"T_0165cfdb_588a_11ec_a147_02cba411ec9drow2_col4\" class=\"data row2 col4\" >0</td>\n",
       "                        <td id=\"T_0165cfdb_588a_11ec_a147_02cba411ec9drow2_col5\" class=\"data row2 col5\" >True</td>\n",
       "                        <td id=\"T_0165cfdb_588a_11ec_a147_02cba411ec9drow2_col6\" class=\"data row2 col6\" >7,491</td>\n",
       "                        <td id=\"T_0165cfdb_588a_11ec_a147_02cba411ec9drow2_col7\" class=\"data row2 col7\" >CLP</td>\n",
       "                        <td id=\"T_0165cfdb_588a_11ec_a147_02cba411ec9drow2_col8\" class=\"data row2 col8\" >10,150.56</td>\n",
       "                        <td id=\"T_0165cfdb_588a_11ec_a147_02cba411ec9drow2_col9\" class=\"data row2 col9\" >10,226.69</td>\n",
       "                        <td id=\"T_0165cfdb_588a_11ec_a147_02cba411ec9drow2_col10\" class=\"data row2 col10\" >1.4900%</td>\n",
       "                        <td id=\"T_0165cfdb_588a_11ec_a147_02cba411ec9drow2_col11\" class=\"data row2 col11\" >7,491</td>\n",
       "                        <td id=\"T_0165cfdb_588a_11ec_a147_02cba411ec9drow2_col12\" class=\"data row2 col12\" >0</td>\n",
       "                        <td id=\"T_0165cfdb_588a_11ec_a147_02cba411ec9drow2_col13\" class=\"data row2 col13\" >1</td>\n",
       "                        <td id=\"T_0165cfdb_588a_11ec_a147_02cba411ec9drow2_col14\" class=\"data row2 col14\" >LinAct360</td>\n",
       "            </tr>\n",
       "            <tr>\n",
       "                        <th id=\"T_0165cfdb_588a_11ec_a147_02cba411ec9dlevel0_row3\" class=\"row_heading level0 row3\" >3</th>\n",
       "                        <td id=\"T_0165cfdb_588a_11ec_a147_02cba411ec9drow3_col0\" class=\"data row3 col0\" >2023-03-21</td>\n",
       "                        <td id=\"T_0165cfdb_588a_11ec_a147_02cba411ec9drow3_col1\" class=\"data row3 col1\" >2023-09-21</td>\n",
       "                        <td id=\"T_0165cfdb_588a_11ec_a147_02cba411ec9drow3_col2\" class=\"data row3 col2\" >2023-09-21</td>\n",
       "                        <td id=\"T_0165cfdb_588a_11ec_a147_02cba411ec9drow3_col3\" class=\"data row3 col3\" >1,000,000</td>\n",
       "                        <td id=\"T_0165cfdb_588a_11ec_a147_02cba411ec9drow3_col4\" class=\"data row3 col4\" >1,000,000</td>\n",
       "                        <td id=\"T_0165cfdb_588a_11ec_a147_02cba411ec9drow3_col5\" class=\"data row3 col5\" >True</td>\n",
       "                        <td id=\"T_0165cfdb_588a_11ec_a147_02cba411ec9drow3_col6\" class=\"data row3 col6\" >1,007,513</td>\n",
       "                        <td id=\"T_0165cfdb_588a_11ec_a147_02cba411ec9drow3_col7\" class=\"data row3 col7\" >CLP</td>\n",
       "                        <td id=\"T_0165cfdb_588a_11ec_a147_02cba411ec9drow3_col8\" class=\"data row3 col8\" >10,226.69</td>\n",
       "                        <td id=\"T_0165cfdb_588a_11ec_a147_02cba411ec9drow3_col9\" class=\"data row3 col9\" >10,303.39</td>\n",
       "                        <td id=\"T_0165cfdb_588a_11ec_a147_02cba411ec9drow3_col10\" class=\"data row3 col10\" >1.4700%</td>\n",
       "                        <td id=\"T_0165cfdb_588a_11ec_a147_02cba411ec9drow3_col11\" class=\"data row3 col11\" >7,513</td>\n",
       "                        <td id=\"T_0165cfdb_588a_11ec_a147_02cba411ec9drow3_col12\" class=\"data row3 col12\" >0</td>\n",
       "                        <td id=\"T_0165cfdb_588a_11ec_a147_02cba411ec9drow3_col13\" class=\"data row3 col13\" >1</td>\n",
       "                        <td id=\"T_0165cfdb_588a_11ec_a147_02cba411ec9drow3_col14\" class=\"data row3 col14\" >LinAct360</td>\n",
       "            </tr>\n",
       "    </tbody></table>"
      ],
      "text/plain": [
       "<pandas.io.formats.style.Styler at 0x7f9b7fc49a90>"
      ]
     },
     "execution_count": 7,
     "metadata": {},
     "output_type": "execute_result"
    }
   ],
   "source": [
    "tabla.style.format({\n",
    "    'nominal': '{0:,.0f}',\n",
    "    'amortizacion': '{0:,.0f}',\n",
    "    'interes': '{0:,.0f}',\n",
    "    'flujo': '{0:,.0f}',\n",
    "    'icp_inicial': '{0:,.2f}',\n",
    "    'icp_final': '{0:,.2f}',\n",
    "    'valor_tasa': '{0:,.4%}',\n",
    "})"
   ]
  },
  {
   "cell_type": "markdown",
   "metadata": {},
   "source": [
    "## Colateral"
   ]
  },
  {
   "cell_type": "markdown",
   "metadata": {},
   "source": [
    "Aprovechar de revisar los videos del notebook 03."
   ]
  },
  {
   "cell_type": "markdown",
   "metadata": {},
   "source": [
    "### Definiciones\n",
    "\n",
    "¿Qué significa usar colateral en el contexto de las operaciones de derivados OTC? Defina los siguientes términos:\n",
    "\n",
    "- **Margen inicial:** \n",
    "- **Margen de variación:** \n",
    "- **Close-out netting:**\n",
    "- **Threshold:**\n",
    "- **Colateral Elegible:**\n",
    "- **Minimum transfer amount (MTA):**\n",
    "- **Remuneración del colateral:**\n",
    "- **Periodicidad de Cálculo:**"
   ]
  },
  {
   "cell_type": "markdown",
   "metadata": {},
   "source": [
    "## Modelos de Tasa Corta"
   ]
  },
  {
   "cell_type": "markdown",
   "metadata": {},
   "source": [
    "### Definiciones"
   ]
  },
  {
   "cell_type": "markdown",
   "metadata": {},
   "source": [
    "#### Tasa Forward Lineal\n",
    "\n",
    "Defina la tasa forward lineal y entregue una interpretación en términos de inversiones a los dos plazos que aparecen en la definición."
   ]
  },
  {
   "cell_type": "markdown",
   "metadata": {},
   "source": [
    "#### Tasa Forward Instantánea\n",
    "\n",
    "Defina la tasa forward instantánea y todos los objetos que se requieren para llegar a estar definición."
   ]
  },
  {
   "cell_type": "markdown",
   "metadata": {},
   "source": [
    "### Ecuaciones"
   ]
  },
  {
   "cell_type": "markdown",
   "metadata": {},
   "source": [
    "Para las próximas preguntas, suponga que, en la medida histórica:"
   ]
  },
  {
   "cell_type": "markdown",
   "metadata": {},
   "source": [
    "$$\n",
    "dr_t=m\\left(r_t,t\\right)dt+\\sigma\\left(r_t,t\\right)dX_t\n",
    "$$"
   ]
  },
  {
   "cell_type": "markdown",
   "metadata": {},
   "source": [
    "#### $dZ_t$\n",
    "Sea:\n",
    "\n",
    "$$Z=Z\\left(r_t, t, T\\right)$$\n",
    "\n",
    "un instrumento con un único payoff en $T\\gt t$. Escriba la ecuación diferencial estocástica de $dZ_t$."
   ]
  },
  {
   "cell_type": "markdown",
   "metadata": {},
   "source": [
    "#### Ecuación Fundamental\n",
    "\n",
    "Recuerde que todo instrumento de tasa de interés satisface:\n",
    "\n",
    "$$\n",
    "\\frac{\\partial Z}{\\partial t}+\\frac{\\partial Z}{\\partial r}m^*\\left(r,t\\right)+\\frac{1}{2}\\frac{\\partial^2 Z}{\\partial r^2}\\sigma^2\\left(r,t\\right)-r Z=0\n",
    "$$\n",
    "\n",
    "¿Qué es $m^*$ y qué forma tiene? Describa que significan los términos que componen $m^*$."
   ]
  },
  {
   "cell_type": "markdown",
   "metadata": {},
   "source": [
    "## Construcción de Curva"
   ]
  },
  {
   "cell_type": "markdown",
   "metadata": {},
   "source": [
    "Considere las siguientes cotizaciones de OIS."
   ]
  },
  {
   "cell_type": "code",
   "execution_count": 8,
   "metadata": {
    "ExecuteTime": {
     "end_time": "2021-12-09T00:50:29.434904Z",
     "start_time": "2021-12-09T00:50:29.425195Z"
    }
   },
   "outputs": [],
   "source": [
    "quotes = pd.read_excel('guia.xlsx', sheet_name='quotes patas fijas')"
   ]
  },
  {
   "cell_type": "code",
   "execution_count": 9,
   "metadata": {
    "ExecuteTime": {
     "end_time": "2021-12-09T00:50:29.444228Z",
     "start_time": "2021-12-09T00:50:29.436916Z"
    }
   },
   "outputs": [
    {
     "data": {
      "text/html": [
       "<style  type=\"text/css\" >\n",
       "</style><table id=\"T_0165cfdc_588a_11ec_a147_02cba411ec9d\" ><thead>    <tr>        <th class=\"blank level0\" ></th>        <th class=\"col_heading level0 col0\" >plazo</th>        <th class=\"col_heading level0 col1\" >tasa fija</th>        <th class=\"col_heading level0 col2\" >convención tasa</th>        <th class=\"col_heading level0 col3\" >periodicidad</th>    </tr></thead><tbody>\n",
       "                <tr>\n",
       "                        <th id=\"T_0165cfdc_588a_11ec_a147_02cba411ec9dlevel0_row0\" class=\"row_heading level0 row0\" >0</th>\n",
       "                        <td id=\"T_0165cfdc_588a_11ec_a147_02cba411ec9drow0_col0\" class=\"data row0 col0\" >0.500000</td>\n",
       "                        <td id=\"T_0165cfdc_588a_11ec_a147_02cba411ec9drow0_col1\" class=\"data row0 col1\" >1.00%</td>\n",
       "                        <td id=\"T_0165cfdc_588a_11ec_a147_02cba411ec9drow0_col2\" class=\"data row0 col2\" >Lin 30360</td>\n",
       "                        <td id=\"T_0165cfdc_588a_11ec_a147_02cba411ec9drow0_col3\" class=\"data row0 col3\" >Cero cupón</td>\n",
       "            </tr>\n",
       "            <tr>\n",
       "                        <th id=\"T_0165cfdc_588a_11ec_a147_02cba411ec9dlevel0_row1\" class=\"row_heading level0 row1\" >1</th>\n",
       "                        <td id=\"T_0165cfdc_588a_11ec_a147_02cba411ec9drow1_col0\" class=\"data row1 col0\" >1.000000</td>\n",
       "                        <td id=\"T_0165cfdc_588a_11ec_a147_02cba411ec9drow1_col1\" class=\"data row1 col1\" >1.20%</td>\n",
       "                        <td id=\"T_0165cfdc_588a_11ec_a147_02cba411ec9drow1_col2\" class=\"data row1 col2\" >Lin 30360</td>\n",
       "                        <td id=\"T_0165cfdc_588a_11ec_a147_02cba411ec9drow1_col3\" class=\"data row1 col3\" >Cero cupón</td>\n",
       "            </tr>\n",
       "            <tr>\n",
       "                        <th id=\"T_0165cfdc_588a_11ec_a147_02cba411ec9dlevel0_row2\" class=\"row_heading level0 row2\" >2</th>\n",
       "                        <td id=\"T_0165cfdc_588a_11ec_a147_02cba411ec9drow2_col0\" class=\"data row2 col0\" >2.000000</td>\n",
       "                        <td id=\"T_0165cfdc_588a_11ec_a147_02cba411ec9drow2_col1\" class=\"data row2 col1\" >1.50%</td>\n",
       "                        <td id=\"T_0165cfdc_588a_11ec_a147_02cba411ec9drow2_col2\" class=\"data row2 col2\" >Lin 30360</td>\n",
       "                        <td id=\"T_0165cfdc_588a_11ec_a147_02cba411ec9drow2_col3\" class=\"data row2 col3\" >Semestral</td>\n",
       "            </tr>\n",
       "    </tbody></table>"
      ],
      "text/plain": [
       "<pandas.io.formats.style.Styler at 0x7f9b759404a8>"
      ]
     },
     "execution_count": 9,
     "metadata": {},
     "output_type": "execute_result"
    }
   ],
   "source": [
    "quotes.style.format({'tasa fija': '{:.2%}'})"
   ]
  },
  {
   "cell_type": "markdown",
   "metadata": {},
   "source": [
    "Usando interpolación lineal calcule por bootstrapping las tasas a .5, 1.0 y 2.0 años."
   ]
  },
  {
   "cell_type": "markdown",
   "metadata": {},
   "source": [
    "## Valorización y Sensibilidad"
   ]
  },
  {
   "cell_type": "markdown",
   "metadata": {},
   "source": [
    "Considere un OIS a 2Y recién contratado con tasa fija igual a 2%, un spread de 1% en la pata flotante y periodicidad semestral.\n",
    "\n",
    "- Usando la librería, valorice el swap.\n",
    "- Sin usar la librería, replique la valorización de la pata fija.\n",
    "- Sin usar la librería, calcule la sensibilidad a un punto básico de la pata fija del swap a las 4 tasas cero cupón."
   ]
  }
 ],
 "metadata": {
  "hide_input": false,
  "kernelspec": {
   "display_name": "Python 3",
   "language": "python",
   "name": "python3"
  },
  "language_info": {
   "codemirror_mode": {
    "name": "ipython",
    "version": 3
   },
   "file_extension": ".py",
   "mimetype": "text/x-python",
   "name": "python",
   "nbconvert_exporter": "python",
   "pygments_lexer": "ipython3",
   "version": "3.7.3"
  },
  "toc": {
   "base_numbering": "20",
   "nav_menu": {},
   "number_sections": true,
   "sideBar": true,
   "skip_h1_title": false,
   "title_cell": "Table of Contents",
   "title_sidebar": "Contents",
   "toc_cell": false,
   "toc_position": {
    "height": "calc(100% - 180px)",
    "left": "10px",
    "top": "150px",
    "width": "209.4px"
   },
   "toc_section_display": true,
   "toc_window_display": true
  }
 },
 "nbformat": 4,
 "nbformat_minor": 4
}
