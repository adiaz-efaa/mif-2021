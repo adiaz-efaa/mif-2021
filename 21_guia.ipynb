{
 "cells": [
  {
   "cell_type": "markdown",
   "metadata": {},
   "source": [
    "# Guía de Ejercicios"
   ]
  },
  {
   "cell_type": "code",
   "execution_count": 14,
   "metadata": {
    "ExecuteTime": {
     "end_time": "2021-12-05T13:48:46.385741Z",
     "start_time": "2021-12-05T13:48:46.382155Z"
    }
   },
   "outputs": [],
   "source": [
    "from finrisk import QC_Financial_3 as Qcf\n",
    "from IPython.display import Image\n",
    "from IPython.core.display import HTML"
   ]
  },
  {
   "cell_type": "markdown",
   "metadata": {
    "ExecuteTime": {
     "end_time": "2021-12-05T13:26:40.000217Z",
     "start_time": "2021-12-05T13:26:39.995666Z"
    }
   },
   "source": [
    "## Equivalencia de Tasas de Interés\n",
    "\n",
    "Utilizando la librería `QC_Financial_3` o directamente en Python, replicar los valores de la siguiente tabla:"
   ]
  },
  {
   "cell_type": "code",
   "execution_count": 5,
   "metadata": {
    "ExecuteTime": {
     "end_time": "2021-12-05T13:27:33.505509Z",
     "start_time": "2021-12-05T13:27:33.494360Z"
    }
   },
   "outputs": [
    {
     "data": {
      "text/html": [
       "<img src=\"img/tabla_ejercicio.png\" width=\"550\" height=\"440\"/>"
      ],
      "text/plain": [
       "<IPython.core.display.Image object>"
      ]
     },
     "execution_count": 5,
     "metadata": {},
     "output_type": "execute_result"
    }
   ],
   "source": [
    "Image(url=\"img/tabla_ejercicio.png\", width=550, height=440)"
   ]
  },
  {
   "cell_type": "markdown",
   "metadata": {},
   "source": [
    "## Construcción de Flujos"
   ]
  },
  {
   "cell_type": "code",
   "execution_count": 15,
   "metadata": {
    "ExecuteTime": {
     "end_time": "2021-12-05T13:48:53.623501Z",
     "start_time": "2021-12-05T13:48:53.619311Z"
    }
   },
   "outputs": [],
   "source": [
    "import pandas as pd"
   ]
  },
  {
   "cell_type": "markdown",
   "metadata": {},
   "source": [
    "### Flujos Pata Fija\n",
    "\n",
    "Replique en Python, sin usar la librería `QC_Financial_3` la siguiente tabla de desarrollo de la pata fija de un swap."
   ]
  },
  {
   "cell_type": "code",
   "execution_count": 7,
   "metadata": {
    "ExecuteTime": {
     "end_time": "2021-12-05T13:33:34.652083Z",
     "start_time": "2021-12-05T13:33:34.627121Z"
    }
   },
   "outputs": [],
   "source": [
    "tabla = pd.read_excel('data/flujos_pata_fija.xlsx')"
   ]
  },
  {
   "cell_type": "code",
   "execution_count": 13,
   "metadata": {
    "ExecuteTime": {
     "end_time": "2021-12-05T13:38:39.246324Z",
     "start_time": "2021-12-05T13:38:39.233562Z"
    }
   },
   "outputs": [
    {
     "data": {
      "text/html": [
       "<style  type=\"text/css\" >\n",
       "</style><table id=\"T_a770abbe_55d0_11ec_a147_02cba411ec9d\" ><thead>    <tr>        <th class=\"blank level0\" ></th>        <th class=\"col_heading level0 col0\" >fecha_inicial</th>        <th class=\"col_heading level0 col1\" >fecha_final</th>        <th class=\"col_heading level0 col2\" >fecha_pago</th>        <th class=\"col_heading level0 col3\" >nominal</th>        <th class=\"col_heading level0 col4\" >amortizacion</th>        <th class=\"col_heading level0 col5\" >interes</th>        <th class=\"col_heading level0 col6\" >amort_es_flujo</th>        <th class=\"col_heading level0 col7\" >flujo</th>        <th class=\"col_heading level0 col8\" >moneda</th>        <th class=\"col_heading level0 col9\" >valor_tasa</th>        <th class=\"col_heading level0 col10\" >tipo_tasa</th>    </tr></thead><tbody>\n",
       "                <tr>\n",
       "                        <th id=\"T_a770abbe_55d0_11ec_a147_02cba411ec9dlevel0_row0\" class=\"row_heading level0 row0\" >0</th>\n",
       "                        <td id=\"T_a770abbe_55d0_11ec_a147_02cba411ec9drow0_col0\" class=\"data row0 col0\" >2020-09-17</td>\n",
       "                        <td id=\"T_a770abbe_55d0_11ec_a147_02cba411ec9drow0_col1\" class=\"data row0 col1\" >2021-03-17</td>\n",
       "                        <td id=\"T_a770abbe_55d0_11ec_a147_02cba411ec9drow0_col2\" class=\"data row0 col2\" >2021-03-17</td>\n",
       "                        <td id=\"T_a770abbe_55d0_11ec_a147_02cba411ec9drow0_col3\" class=\"data row0 col3\" >10,000,000</td>\n",
       "                        <td id=\"T_a770abbe_55d0_11ec_a147_02cba411ec9drow0_col4\" class=\"data row0 col4\" >0</td>\n",
       "                        <td id=\"T_a770abbe_55d0_11ec_a147_02cba411ec9drow0_col5\" class=\"data row0 col5\" >10,905</td>\n",
       "                        <td id=\"T_a770abbe_55d0_11ec_a147_02cba411ec9drow0_col6\" class=\"data row0 col6\" >True</td>\n",
       "                        <td id=\"T_a770abbe_55d0_11ec_a147_02cba411ec9drow0_col7\" class=\"data row0 col7\" >10,905</td>\n",
       "                        <td id=\"T_a770abbe_55d0_11ec_a147_02cba411ec9drow0_col8\" class=\"data row0 col8\" >USD</td>\n",
       "                        <td id=\"T_a770abbe_55d0_11ec_a147_02cba411ec9drow0_col9\" class=\"data row0 col9\" >0.2181%</td>\n",
       "                        <td id=\"T_a770abbe_55d0_11ec_a147_02cba411ec9drow0_col10\" class=\"data row0 col10\" >Lin30360</td>\n",
       "            </tr>\n",
       "            <tr>\n",
       "                        <th id=\"T_a770abbe_55d0_11ec_a147_02cba411ec9dlevel0_row1\" class=\"row_heading level0 row1\" >1</th>\n",
       "                        <td id=\"T_a770abbe_55d0_11ec_a147_02cba411ec9drow1_col0\" class=\"data row1 col0\" >2021-03-17</td>\n",
       "                        <td id=\"T_a770abbe_55d0_11ec_a147_02cba411ec9drow1_col1\" class=\"data row1 col1\" >2021-09-17</td>\n",
       "                        <td id=\"T_a770abbe_55d0_11ec_a147_02cba411ec9drow1_col2\" class=\"data row1 col2\" >2021-09-17</td>\n",
       "                        <td id=\"T_a770abbe_55d0_11ec_a147_02cba411ec9drow1_col3\" class=\"data row1 col3\" >10,000,000</td>\n",
       "                        <td id=\"T_a770abbe_55d0_11ec_a147_02cba411ec9drow1_col4\" class=\"data row1 col4\" >0</td>\n",
       "                        <td id=\"T_a770abbe_55d0_11ec_a147_02cba411ec9drow1_col5\" class=\"data row1 col5\" >10,905</td>\n",
       "                        <td id=\"T_a770abbe_55d0_11ec_a147_02cba411ec9drow1_col6\" class=\"data row1 col6\" >True</td>\n",
       "                        <td id=\"T_a770abbe_55d0_11ec_a147_02cba411ec9drow1_col7\" class=\"data row1 col7\" >10,905</td>\n",
       "                        <td id=\"T_a770abbe_55d0_11ec_a147_02cba411ec9drow1_col8\" class=\"data row1 col8\" >USD</td>\n",
       "                        <td id=\"T_a770abbe_55d0_11ec_a147_02cba411ec9drow1_col9\" class=\"data row1 col9\" >0.2181%</td>\n",
       "                        <td id=\"T_a770abbe_55d0_11ec_a147_02cba411ec9drow1_col10\" class=\"data row1 col10\" >Lin30360</td>\n",
       "            </tr>\n",
       "            <tr>\n",
       "                        <th id=\"T_a770abbe_55d0_11ec_a147_02cba411ec9dlevel0_row2\" class=\"row_heading level0 row2\" >2</th>\n",
       "                        <td id=\"T_a770abbe_55d0_11ec_a147_02cba411ec9drow2_col0\" class=\"data row2 col0\" >2021-09-17</td>\n",
       "                        <td id=\"T_a770abbe_55d0_11ec_a147_02cba411ec9drow2_col1\" class=\"data row2 col1\" >2022-03-17</td>\n",
       "                        <td id=\"T_a770abbe_55d0_11ec_a147_02cba411ec9drow2_col2\" class=\"data row2 col2\" >2022-03-17</td>\n",
       "                        <td id=\"T_a770abbe_55d0_11ec_a147_02cba411ec9drow2_col3\" class=\"data row2 col3\" >10,000,000</td>\n",
       "                        <td id=\"T_a770abbe_55d0_11ec_a147_02cba411ec9drow2_col4\" class=\"data row2 col4\" >0</td>\n",
       "                        <td id=\"T_a770abbe_55d0_11ec_a147_02cba411ec9drow2_col5\" class=\"data row2 col5\" >10,905</td>\n",
       "                        <td id=\"T_a770abbe_55d0_11ec_a147_02cba411ec9drow2_col6\" class=\"data row2 col6\" >True</td>\n",
       "                        <td id=\"T_a770abbe_55d0_11ec_a147_02cba411ec9drow2_col7\" class=\"data row2 col7\" >10,905</td>\n",
       "                        <td id=\"T_a770abbe_55d0_11ec_a147_02cba411ec9drow2_col8\" class=\"data row2 col8\" >USD</td>\n",
       "                        <td id=\"T_a770abbe_55d0_11ec_a147_02cba411ec9drow2_col9\" class=\"data row2 col9\" >0.2181%</td>\n",
       "                        <td id=\"T_a770abbe_55d0_11ec_a147_02cba411ec9drow2_col10\" class=\"data row2 col10\" >Lin30360</td>\n",
       "            </tr>\n",
       "            <tr>\n",
       "                        <th id=\"T_a770abbe_55d0_11ec_a147_02cba411ec9dlevel0_row3\" class=\"row_heading level0 row3\" >3</th>\n",
       "                        <td id=\"T_a770abbe_55d0_11ec_a147_02cba411ec9drow3_col0\" class=\"data row3 col0\" >2022-03-17</td>\n",
       "                        <td id=\"T_a770abbe_55d0_11ec_a147_02cba411ec9drow3_col1\" class=\"data row3 col1\" >2022-09-19</td>\n",
       "                        <td id=\"T_a770abbe_55d0_11ec_a147_02cba411ec9drow3_col2\" class=\"data row3 col2\" >2022-09-19</td>\n",
       "                        <td id=\"T_a770abbe_55d0_11ec_a147_02cba411ec9drow3_col3\" class=\"data row3 col3\" >10,000,000</td>\n",
       "                        <td id=\"T_a770abbe_55d0_11ec_a147_02cba411ec9drow3_col4\" class=\"data row3 col4\" >10,000,000</td>\n",
       "                        <td id=\"T_a770abbe_55d0_11ec_a147_02cba411ec9drow3_col5\" class=\"data row3 col5\" >11,026</td>\n",
       "                        <td id=\"T_a770abbe_55d0_11ec_a147_02cba411ec9drow3_col6\" class=\"data row3 col6\" >True</td>\n",
       "                        <td id=\"T_a770abbe_55d0_11ec_a147_02cba411ec9drow3_col7\" class=\"data row3 col7\" >10,011,026</td>\n",
       "                        <td id=\"T_a770abbe_55d0_11ec_a147_02cba411ec9drow3_col8\" class=\"data row3 col8\" >USD</td>\n",
       "                        <td id=\"T_a770abbe_55d0_11ec_a147_02cba411ec9drow3_col9\" class=\"data row3 col9\" >0.2181%</td>\n",
       "                        <td id=\"T_a770abbe_55d0_11ec_a147_02cba411ec9drow3_col10\" class=\"data row3 col10\" >Lin30360</td>\n",
       "            </tr>\n",
       "    </tbody></table>"
      ],
      "text/plain": [
       "<pandas.io.formats.style.Styler at 0x7f0b6a9d39b0>"
      ]
     },
     "execution_count": 13,
     "metadata": {},
     "output_type": "execute_result"
    }
   ],
   "source": [
    "tabla.style.format({\n",
    "    'nominal': '{0:,.0f}',\n",
    "    'amortizacion': '{0:,.0f}',\n",
    "    'interes': '{0:,.0f}',\n",
    "    'flujo': '{0:,.0f}',\n",
    "    'valor_tasa': '{0:,.4%}',\n",
    "})"
   ]
  },
  {
   "cell_type": "markdown",
   "metadata": {},
   "source": [
    "### Flujos Pata OIS\n",
    "\n",
    "Replique en Python, sin usar la librería `QC_Financial_3` la siguiente tabla de desarrollo de la pata cámara promedio (OIS de Chile) de un swap. Los valores del ICP se obtuvieron suponiendo una tasa interbancaria constante igual a 1.5%."
   ]
  },
  {
   "cell_type": "code",
   "execution_count": 16,
   "metadata": {
    "ExecuteTime": {
     "end_time": "2021-12-05T13:51:26.452184Z",
     "start_time": "2021-12-05T13:51:26.438171Z"
    }
   },
   "outputs": [],
   "source": [
    "tabla = pd.read_excel('data/tabla_desarrollo_para_icp-ois.xlsx')"
   ]
  },
  {
   "cell_type": "code",
   "execution_count": 18,
   "metadata": {
    "ExecuteTime": {
     "end_time": "2021-12-05T13:52:03.571056Z",
     "start_time": "2021-12-05T13:52:03.559877Z"
    }
   },
   "outputs": [
    {
     "data": {
      "text/html": [
       "<style  type=\"text/css\" >\n",
       "</style><table id=\"T_86db3386_55d2_11ec_a147_02cba411ec9d\" ><thead>    <tr>        <th class=\"blank level0\" ></th>        <th class=\"col_heading level0 col0\" >fecha_inicial</th>        <th class=\"col_heading level0 col1\" >fecha_final</th>        <th class=\"col_heading level0 col2\" >fecha_pago</th>        <th class=\"col_heading level0 col3\" >nominal</th>        <th class=\"col_heading level0 col4\" >amortizacion</th>        <th class=\"col_heading level0 col5\" >amort_es_flujo</th>        <th class=\"col_heading level0 col6\" >flujo</th>        <th class=\"col_heading level0 col7\" >moneda</th>        <th class=\"col_heading level0 col8\" >icp_inicial</th>        <th class=\"col_heading level0 col9\" >icp_final</th>        <th class=\"col_heading level0 col10\" >valor_tasa</th>        <th class=\"col_heading level0 col11\" >interes</th>        <th class=\"col_heading level0 col12\" >spread</th>        <th class=\"col_heading level0 col13\" >gearing</th>        <th class=\"col_heading level0 col14\" >tipo_tasa</th>    </tr></thead><tbody>\n",
       "                <tr>\n",
       "                        <th id=\"T_86db3386_55d2_11ec_a147_02cba411ec9dlevel0_row0\" class=\"row_heading level0 row0\" >0</th>\n",
       "                        <td id=\"T_86db3386_55d2_11ec_a147_02cba411ec9drow0_col0\" class=\"data row0 col0\" >2021-09-21</td>\n",
       "                        <td id=\"T_86db3386_55d2_11ec_a147_02cba411ec9drow0_col1\" class=\"data row0 col1\" >2022-03-21</td>\n",
       "                        <td id=\"T_86db3386_55d2_11ec_a147_02cba411ec9drow0_col2\" class=\"data row0 col2\" >2022-03-21</td>\n",
       "                        <td id=\"T_86db3386_55d2_11ec_a147_02cba411ec9drow0_col3\" class=\"data row0 col3\" >1,000,000</td>\n",
       "                        <td id=\"T_86db3386_55d2_11ec_a147_02cba411ec9drow0_col4\" class=\"data row0 col4\" >0</td>\n",
       "                        <td id=\"T_86db3386_55d2_11ec_a147_02cba411ec9drow0_col5\" class=\"data row0 col5\" >True</td>\n",
       "                        <td id=\"T_86db3386_55d2_11ec_a147_02cba411ec9drow0_col6\" class=\"data row0 col6\" >7,491</td>\n",
       "                        <td id=\"T_86db3386_55d2_11ec_a147_02cba411ec9drow0_col7\" class=\"data row0 col7\" >CLP</td>\n",
       "                        <td id=\"T_86db3386_55d2_11ec_a147_02cba411ec9drow0_col8\" class=\"data row0 col8\" >10,000.00</td>\n",
       "                        <td id=\"T_86db3386_55d2_11ec_a147_02cba411ec9drow0_col9\" class=\"data row0 col9\" >10,075.00</td>\n",
       "                        <td id=\"T_86db3386_55d2_11ec_a147_02cba411ec9drow0_col10\" class=\"data row0 col10\" >1.4900%</td>\n",
       "                        <td id=\"T_86db3386_55d2_11ec_a147_02cba411ec9drow0_col11\" class=\"data row0 col11\" >7,491</td>\n",
       "                        <td id=\"T_86db3386_55d2_11ec_a147_02cba411ec9drow0_col12\" class=\"data row0 col12\" >0</td>\n",
       "                        <td id=\"T_86db3386_55d2_11ec_a147_02cba411ec9drow0_col13\" class=\"data row0 col13\" >1</td>\n",
       "                        <td id=\"T_86db3386_55d2_11ec_a147_02cba411ec9drow0_col14\" class=\"data row0 col14\" >LinAct360</td>\n",
       "            </tr>\n",
       "            <tr>\n",
       "                        <th id=\"T_86db3386_55d2_11ec_a147_02cba411ec9dlevel0_row1\" class=\"row_heading level0 row1\" >1</th>\n",
       "                        <td id=\"T_86db3386_55d2_11ec_a147_02cba411ec9drow1_col0\" class=\"data row1 col0\" >2022-03-21</td>\n",
       "                        <td id=\"T_86db3386_55d2_11ec_a147_02cba411ec9drow1_col1\" class=\"data row1 col1\" >2022-09-21</td>\n",
       "                        <td id=\"T_86db3386_55d2_11ec_a147_02cba411ec9drow1_col2\" class=\"data row1 col2\" >2022-09-21</td>\n",
       "                        <td id=\"T_86db3386_55d2_11ec_a147_02cba411ec9drow1_col3\" class=\"data row1 col3\" >1,000,000</td>\n",
       "                        <td id=\"T_86db3386_55d2_11ec_a147_02cba411ec9drow1_col4\" class=\"data row1 col4\" >0</td>\n",
       "                        <td id=\"T_86db3386_55d2_11ec_a147_02cba411ec9drow1_col5\" class=\"data row1 col5\" >True</td>\n",
       "                        <td id=\"T_86db3386_55d2_11ec_a147_02cba411ec9drow1_col6\" class=\"data row1 col6\" >7,513</td>\n",
       "                        <td id=\"T_86db3386_55d2_11ec_a147_02cba411ec9drow1_col7\" class=\"data row1 col7\" >CLP</td>\n",
       "                        <td id=\"T_86db3386_55d2_11ec_a147_02cba411ec9drow1_col8\" class=\"data row1 col8\" >10,075.00</td>\n",
       "                        <td id=\"T_86db3386_55d2_11ec_a147_02cba411ec9drow1_col9\" class=\"data row1 col9\" >10,150.56</td>\n",
       "                        <td id=\"T_86db3386_55d2_11ec_a147_02cba411ec9drow1_col10\" class=\"data row1 col10\" >1.4700%</td>\n",
       "                        <td id=\"T_86db3386_55d2_11ec_a147_02cba411ec9drow1_col11\" class=\"data row1 col11\" >7,513</td>\n",
       "                        <td id=\"T_86db3386_55d2_11ec_a147_02cba411ec9drow1_col12\" class=\"data row1 col12\" >0</td>\n",
       "                        <td id=\"T_86db3386_55d2_11ec_a147_02cba411ec9drow1_col13\" class=\"data row1 col13\" >1</td>\n",
       "                        <td id=\"T_86db3386_55d2_11ec_a147_02cba411ec9drow1_col14\" class=\"data row1 col14\" >LinAct360</td>\n",
       "            </tr>\n",
       "            <tr>\n",
       "                        <th id=\"T_86db3386_55d2_11ec_a147_02cba411ec9dlevel0_row2\" class=\"row_heading level0 row2\" >2</th>\n",
       "                        <td id=\"T_86db3386_55d2_11ec_a147_02cba411ec9drow2_col0\" class=\"data row2 col0\" >2022-09-21</td>\n",
       "                        <td id=\"T_86db3386_55d2_11ec_a147_02cba411ec9drow2_col1\" class=\"data row2 col1\" >2023-03-21</td>\n",
       "                        <td id=\"T_86db3386_55d2_11ec_a147_02cba411ec9drow2_col2\" class=\"data row2 col2\" >2023-03-21</td>\n",
       "                        <td id=\"T_86db3386_55d2_11ec_a147_02cba411ec9drow2_col3\" class=\"data row2 col3\" >1,000,000</td>\n",
       "                        <td id=\"T_86db3386_55d2_11ec_a147_02cba411ec9drow2_col4\" class=\"data row2 col4\" >0</td>\n",
       "                        <td id=\"T_86db3386_55d2_11ec_a147_02cba411ec9drow2_col5\" class=\"data row2 col5\" >True</td>\n",
       "                        <td id=\"T_86db3386_55d2_11ec_a147_02cba411ec9drow2_col6\" class=\"data row2 col6\" >7,491</td>\n",
       "                        <td id=\"T_86db3386_55d2_11ec_a147_02cba411ec9drow2_col7\" class=\"data row2 col7\" >CLP</td>\n",
       "                        <td id=\"T_86db3386_55d2_11ec_a147_02cba411ec9drow2_col8\" class=\"data row2 col8\" >10,150.56</td>\n",
       "                        <td id=\"T_86db3386_55d2_11ec_a147_02cba411ec9drow2_col9\" class=\"data row2 col9\" >10,226.69</td>\n",
       "                        <td id=\"T_86db3386_55d2_11ec_a147_02cba411ec9drow2_col10\" class=\"data row2 col10\" >1.4900%</td>\n",
       "                        <td id=\"T_86db3386_55d2_11ec_a147_02cba411ec9drow2_col11\" class=\"data row2 col11\" >7,491</td>\n",
       "                        <td id=\"T_86db3386_55d2_11ec_a147_02cba411ec9drow2_col12\" class=\"data row2 col12\" >0</td>\n",
       "                        <td id=\"T_86db3386_55d2_11ec_a147_02cba411ec9drow2_col13\" class=\"data row2 col13\" >1</td>\n",
       "                        <td id=\"T_86db3386_55d2_11ec_a147_02cba411ec9drow2_col14\" class=\"data row2 col14\" >LinAct360</td>\n",
       "            </tr>\n",
       "            <tr>\n",
       "                        <th id=\"T_86db3386_55d2_11ec_a147_02cba411ec9dlevel0_row3\" class=\"row_heading level0 row3\" >3</th>\n",
       "                        <td id=\"T_86db3386_55d2_11ec_a147_02cba411ec9drow3_col0\" class=\"data row3 col0\" >2023-03-21</td>\n",
       "                        <td id=\"T_86db3386_55d2_11ec_a147_02cba411ec9drow3_col1\" class=\"data row3 col1\" >2023-09-21</td>\n",
       "                        <td id=\"T_86db3386_55d2_11ec_a147_02cba411ec9drow3_col2\" class=\"data row3 col2\" >2023-09-21</td>\n",
       "                        <td id=\"T_86db3386_55d2_11ec_a147_02cba411ec9drow3_col3\" class=\"data row3 col3\" >1,000,000</td>\n",
       "                        <td id=\"T_86db3386_55d2_11ec_a147_02cba411ec9drow3_col4\" class=\"data row3 col4\" >1,000,000</td>\n",
       "                        <td id=\"T_86db3386_55d2_11ec_a147_02cba411ec9drow3_col5\" class=\"data row3 col5\" >True</td>\n",
       "                        <td id=\"T_86db3386_55d2_11ec_a147_02cba411ec9drow3_col6\" class=\"data row3 col6\" >1,007,513</td>\n",
       "                        <td id=\"T_86db3386_55d2_11ec_a147_02cba411ec9drow3_col7\" class=\"data row3 col7\" >CLP</td>\n",
       "                        <td id=\"T_86db3386_55d2_11ec_a147_02cba411ec9drow3_col8\" class=\"data row3 col8\" >10,226.69</td>\n",
       "                        <td id=\"T_86db3386_55d2_11ec_a147_02cba411ec9drow3_col9\" class=\"data row3 col9\" >10,303.39</td>\n",
       "                        <td id=\"T_86db3386_55d2_11ec_a147_02cba411ec9drow3_col10\" class=\"data row3 col10\" >1.4700%</td>\n",
       "                        <td id=\"T_86db3386_55d2_11ec_a147_02cba411ec9drow3_col11\" class=\"data row3 col11\" >7,513</td>\n",
       "                        <td id=\"T_86db3386_55d2_11ec_a147_02cba411ec9drow3_col12\" class=\"data row3 col12\" >0</td>\n",
       "                        <td id=\"T_86db3386_55d2_11ec_a147_02cba411ec9drow3_col13\" class=\"data row3 col13\" >1</td>\n",
       "                        <td id=\"T_86db3386_55d2_11ec_a147_02cba411ec9drow3_col14\" class=\"data row3 col14\" >LinAct360</td>\n",
       "            </tr>\n",
       "    </tbody></table>"
      ],
      "text/plain": [
       "<pandas.io.formats.style.Styler at 0x7f0b68a36f60>"
      ]
     },
     "execution_count": 18,
     "metadata": {},
     "output_type": "execute_result"
    }
   ],
   "source": [
    "tabla.style.format({\n",
    "    'nominal': '{0:,.0f}',\n",
    "    'amortizacion': '{0:,.0f}',\n",
    "    'interes': '{0:,.0f}',\n",
    "    'flujo': '{0:,.0f}',\n",
    "    'icp_inicial': '{0:,.2f}',\n",
    "    'icp_final': '{0:,.2f}',\n",
    "    'valor_tasa': '{0:,.4%}',\n",
    "})"
   ]
  },
  {
   "cell_type": "markdown",
   "metadata": {},
   "source": [
    "## Colateral"
   ]
  },
  {
   "cell_type": "markdown",
   "metadata": {},
   "source": [
    "Aprovechar de revisar los videos del notebook 03."
   ]
  },
  {
   "cell_type": "markdown",
   "metadata": {},
   "source": [
    "### Definiciones\n",
    "\n",
    "¿Qué significa usar colateral en el contexto de las operaciones de derivados OTC? Defina los siguientes términos:\n",
    "\n",
    "- **Margen inicial:** \n",
    "- **Margen de variación:** \n",
    "- **Close-out netting:**\n",
    "- **Threshold:**\n",
    "- **Colateral Elegible:**\n",
    "- **Minimum transfer amount (MTA):**\n",
    "- **Remuneración del colateral:**\n",
    "- **Periodicidad de Cálculo:**"
   ]
  },
  {
   "cell_type": "markdown",
   "metadata": {},
   "source": [
    "## Modelos de Tasa Corta"
   ]
  },
  {
   "cell_type": "markdown",
   "metadata": {},
   "source": [
    "### Definiciones"
   ]
  },
  {
   "cell_type": "markdown",
   "metadata": {},
   "source": [
    "#### Tasa Forward Lineal\n",
    "\n",
    "Defina la tasa forward lineal y entregue una interpretación en términos de inversiones a los dos plazos que aparecen en la definición."
   ]
  },
  {
   "cell_type": "markdown",
   "metadata": {},
   "source": [
    "#### Tasa Forward Instantánea\n",
    "\n",
    "Defina la tasa forward instantánea y todos los objetos que se requieren para llegar a estar definición."
   ]
  },
  {
   "cell_type": "markdown",
   "metadata": {},
   "source": [
    "### Ecuaciones"
   ]
  },
  {
   "cell_type": "markdown",
   "metadata": {},
   "source": [
    "Para las próximas preguntas, suponga que, en la medida histórica:"
   ]
  },
  {
   "cell_type": "markdown",
   "metadata": {},
   "source": [
    "$$\n",
    "dr_t=m\\left(r_t,t\\right)dt+\\sigma\\left(r_t,t\\right)dX_t\n",
    "$$"
   ]
  },
  {
   "cell_type": "markdown",
   "metadata": {},
   "source": [
    "#### $dZ_t$\n",
    "Sea:\n",
    "\n",
    "$$Z=Z\\left(r_t, t, T\\right)$$\n",
    "\n",
    "un instrumento con un único payoff en $T\\gt t$. Escriba la ecuación diferencial estocástica de $dZ_t$."
   ]
  },
  {
   "cell_type": "markdown",
   "metadata": {},
   "source": [
    "#### Ecuación Fundamental\n",
    "\n",
    "Recuerde que todo instrumento de tasa de interés satisface:\n",
    "\n",
    "$$\n",
    "\\frac{\\partial Z}{\\partial t}+\\frac{\\partial Z}{\\partial r}m^*\\left(r,t\\right)+\\frac{1}{2}\\frac{\\partial^2 Z}{\\partial r^2}\\sigma^2\\left(r,t\\right)-r Z=0\n",
    "$$\n",
    "\n",
    "¿Qué es $m^*$ y qué forma tiene? Describa que significan los términos que componen $m^*$."
   ]
  }
 ],
 "metadata": {
  "hide_input": false,
  "kernelspec": {
   "display_name": "Python 3",
   "language": "python",
   "name": "python3"
  },
  "language_info": {
   "codemirror_mode": {
    "name": "ipython",
    "version": 3
   },
   "file_extension": ".py",
   "mimetype": "text/x-python",
   "name": "python",
   "nbconvert_exporter": "python",
   "pygments_lexer": "ipython3",
   "version": "3.7.3"
  },
  "toc": {
   "base_numbering": "20",
   "nav_menu": {},
   "number_sections": true,
   "sideBar": true,
   "skip_h1_title": false,
   "title_cell": "Table of Contents",
   "title_sidebar": "Contents",
   "toc_cell": false,
   "toc_position": {
    "height": "calc(100% - 180px)",
    "left": "10px",
    "top": "150px",
    "width": "209.4px"
   },
   "toc_section_display": true,
   "toc_window_display": true
  }
 },
 "nbformat": 4,
 "nbformat_minor": 4
}
