{
 "cells": [
  {
   "cell_type": "markdown",
   "metadata": {},
   "source": [
    "# Construcción Curva Libor USD 3M"
   ]
  },
  {
   "cell_type": "code",
   "execution_count": 1,
   "metadata": {
    "ExecuteTime": {
     "end_time": "2020-10-16T15:29:04.524922Z",
     "start_time": "2020-10-16T15:29:04.520067Z"
    },
    "hide_input": false
   },
   "outputs": [],
   "source": [
    "from IPython.display import Image"
   ]
  },
  {
   "cell_type": "markdown",
   "metadata": {},
   "source": [
    "## Valor de un Cupón Libor"
   ]
  },
  {
   "cell_type": "markdown",
   "metadata": {},
   "source": [
    "Tenemos que (notebook 4):\n",
    "\n",
    "$$\n",
    "\\begin{equation}\n",
    "\\Pi\\left(t,X\\right)=\\mathbb{E}_t^{Q_f}\\left[D_c\\left(t,T\\right)\\Pi\\left(T,X\\left(T\\right)\\right)\\right]\n",
    "\\end{equation}\n",
    "$$\n",
    "\n",
    "$$\n",
    "\\begin{equation}\n",
    "D_c\\left(t,T\\right)=\\exp\\left[-\\int_t^Tr_c\\left(u\\right)du\\right]\n",
    "\\end{equation}\n",
    "$$\n",
    "\n",
    "$$\n",
    "\\begin{equation}\n",
    "\\mathbb{E}_t^{Q_f}\\left[D_c\\left(t,T\\right)\\right]=P_c\\left(t,T\\right)\n",
    "\\end{equation}\n",
    "$$\n",
    "\n",
    "$$\n",
    "\\begin{equation}\n",
    "D_c\\left(t,T\\right)={B_c\\left(t,T\\right)}^{-1}\n",
    "\\end{equation}\n",
    "$$"
   ]
  },
  {
   "cell_type": "markdown",
   "metadata": {},
   "source": [
    "También vamos a necesitar:\n",
    "\n",
    "$$\n",
    "\\begin{equation}\n",
    "\\Pi\\left(t,X\\right)=P_c\\left(t,T\\right)\\mathbb{E}_{t}^{Q_f^T}\\left[\\Pi\\left(T,X\\right)\\right]\n",
    "\\end{equation}\n",
    "$$\n",
    "\n",
    "$$\n",
    "\\begin{equation}\n",
    "P_c\\left(t,T\\right)=\\mathbb{E}^{Q_f}\\left[D_c\\left(t,T\\right)\\right]\n",
    "\\end{equation}\n",
    "$$\n",
    "\n",
    "donde $Q_f^T$ es la probabilidad asociada a $P_c\\left(t,T\\right)$ (la medida $T$-forward)."
   ]
  },
  {
   "cell_type": "markdown",
   "metadata": {},
   "source": [
    "Sea $L\\left(T\\right)$ el valor de la Libor USD de $tenor=3M$ al tiempo $T$ y sea $\\Delta\\left(T,T_{3M}\\right)$ la fracción de año asociada a esa Libor y $T_{3M}$ es la fecha $3M$ después de $T$. Para un cupón flotante a Libor (suponiendo un nocional igual a 1), tenemos que:\n",
    "\n",
    "$$\n",
    "\\begin{equation}\n",
    "\\Pi\\left(T,X\\left(T\\right)\\right)=L\\left(T\\right)\\cdot\\Delta\\left(T,T_{3M}\\right)\n",
    "\\end{equation}\n",
    "$$\n",
    "\n",
    "Y por lo tanto,\n",
    "\n",
    "$$\n",
    "\\begin{equation}\n",
    "\\Pi\\left(t,X\\left(t\\right)\\right)=\\mathbb{E}_t^{Q_f}\\left[D_c\\left(t,T_{3M}\\right)L\\left(T\\right)\\cdot\\Delta\\left(T,T_{3M}\\right)\\right]\n",
    "\\end{equation}\n",
    "$$\n",
    "\n",
    "Finalmente, utilizando (5) y (6) y la linealidad del valor esperado se llega a:\n",
    "\n",
    "$$\n",
    "\\begin{equation}\n",
    "\\Pi\\left(t,X\\left(t\\right)\\right)=\\Delta\\left(T,T_{3M}\\right)\\cdot P_c\\left(t,T\\right)\\cdot\\mathbb{E}_t^{Q_f^T}\\left[L\\left(T\\right)\\right]\n",
    "\\end{equation}\n",
    "$$"
   ]
  },
  {
   "cell_type": "markdown",
   "metadata": {},
   "source": [
    "## Cotizaciones Libor USD 3M vs Tasa Fija"
   ]
  },
  {
   "cell_type": "code",
   "execution_count": 2,
   "metadata": {
    "ExecuteTime": {
     "end_time": "2020-10-16T15:29:08.991636Z",
     "start_time": "2020-10-16T15:29:08.978931Z"
    }
   },
   "outputs": [
    {
     "data": {
      "text/html": [
       "<img src=\"img/libor_usd_3m_fixed_swap_quotes.gif\" width=\"900\" height=\"720\"/>"
      ],
      "text/plain": [
       "<IPython.core.display.Image object>"
      ]
     },
     "execution_count": 2,
     "metadata": {},
     "output_type": "execute_result"
    }
   ],
   "source": [
    "Image(url=\"img/libor_usd_3m_fixed_swap_quotes.gif\", width=900, height=720)"
   ]
  },
  {
   "cell_type": "markdown",
   "metadata": {},
   "source": [
    "Como se puede observar en la imagen anterior, existen cotizaciones de swaps Libor USD 3M versus tasa fija para plazos hasta 30Y. Utilizando la fórmula (9) y lo que ya vimos sobre la construcción de una curva a partir de las cotizaciones de OIS ¿Cómo se escribe la fórmula de valorización para un swap Libor?"
   ]
  },
  {
   "cell_type": "markdown",
   "metadata": {},
   "source": [
    "Para fijar las ideas, consideremos el swap cuyo $tenor=1Y$. Recordemos (notebook 2, 2.2.1) que, en estos swaps, la pata fija tiene periodicidad semestral y convención de tasa 30/360, mientras que la pata flotante tiene trimestral y convención de tasa Act/360."
   ]
  },
  {
   "cell_type": "markdown",
   "metadata": {},
   "source": [
    "Tenemos que, el valor de la pata fija es:\n",
    "\n",
    "$$\n",
    "\\begin{equation}\n",
    "\\Pi^{fija,1Y}\\left(t\\right)=P_c\\left(t,T_1\\right)\\cdot r\\cdot\\delta\\left(T_0,T_1\\right)+P_c\\left(t,T_2\\right)\\left(1+r \\cdot \\delta\\left(T_1,T_2\\right)\\right)\n",
    "\\end{equation}\n",
    "$$\n",
    "\n",
    "Donde $P_c\\left(t,T\\right)$ proviene de la curva OIS (ver notebook 5) y $\\delta\\left(T_i,T_j\\right)$ representa la fracción de año en convención 30/360 entre $T_i$ y $T_j$."
   ]
  },
  {
   "cell_type": "markdown",
   "metadata": {},
   "source": [
    "Por otro lado, el valor de la pata flotante es:\n",
    "\n",
    "$$\n",
    "\\begin{equation}\n",
    "\\Pi^{flot,1Y}\\left(T_0\\right)=\\sum\\limits_{j=1}^{3}\\left\\{P_c\\left(T_0,T_{3M}^j\\right)\\cdot\\mathbb{E}_t^{Q_f^T}\\left[L\\left(T_j\\right)\\right]\\cdot\\Delta\\left(T_j,T_{3M}^j\\right)\\right\\}+P_c\\left(T_0,T_{4}\\right)\\cdot\\left(1+\\cdot\\mathbb{E}_t^{Q_f^T}\\left[L\\left(T_4\\right)\\right]\\cdot\\Delta\\left(T_4,T_{3M}^4\\right)\\right)\n",
    "\\end{equation}\n",
    "$$\n",
    "\n",
    "Donde $\\Delta\\left(T_i,T_{3M}^i\\right)$ representa la fracción de año en convención Act/360 correspondiente la Libor que parte en $T_i$.\n",
    "\n",
    "Podemos observar que esta ecuación tiene 4 incógnitas, y por lo tanto, para poder aplicar un procedimiento de bootstrapping como para los OIS, se requiere disponer de data de corto plazo, que permita deducir algunos valores iniciales.\n",
    "\n",
    "Afortunadamente, dicha data sí existe y se puede apreciar en la imagen siguiente, lo que hace inncesario resolver una ecuación para este primer dato.\n",
    "\n",
    "Sin embargo, para el swap de 3Y, si se debe resolver una ecuación.\n",
    "\n",
    "**TODO:** mejorar esta redacción."
   ]
  },
  {
   "cell_type": "code",
   "execution_count": 4,
   "metadata": {
    "ExecuteTime": {
     "end_time": "2020-10-16T15:32:17.213165Z",
     "start_time": "2020-10-16T15:32:17.206818Z"
    }
   },
   "outputs": [
    {
     "data": {
      "text/html": [
       "<img src=\"img/20201016_libor_curve.gif\" width=\"900\" height=\"720\"/>"
      ],
      "text/plain": [
       "<IPython.core.display.Image object>"
      ]
     },
     "execution_count": 4,
     "metadata": {},
     "output_type": "execute_result"
    }
   ],
   "source": [
    "Image(url=\"img/20201016_libor_curve.gif\", width=900, height=720)"
   ]
  },
  {
   "cell_type": "markdown",
   "metadata": {},
   "source": [
    "La primera de las tasas marcadas en rojo corresponde a la Libor USD 3M del 16-10-2020. Las siguientes 6 tasas, se obtienen de las cotizaciones de futuros [eurodollar](https://www.cmegroup.com/trading/interest-rates/stir/eurodollar.html) con esos *nemotécnicos*."
   ]
  }
 ],
 "metadata": {
  "hide_input": false,
  "kernelspec": {
   "display_name": "Python 3",
   "language": "python",
   "name": "python3"
  },
  "language_info": {
   "codemirror_mode": {
    "name": "ipython",
    "version": 3
   },
   "file_extension": ".py",
   "mimetype": "text/x-python",
   "name": "python",
   "nbconvert_exporter": "python",
   "pygments_lexer": "ipython3",
   "version": "3.7.3"
  },
  "toc": {
   "base_numbering": "5",
   "nav_menu": {},
   "number_sections": true,
   "sideBar": true,
   "skip_h1_title": false,
   "title_cell": "Table of Contents",
   "title_sidebar": "Contenido",
   "toc_cell": false,
   "toc_position": {
    "height": "calc(100% - 180px)",
    "left": "10px",
    "top": "150px",
    "width": "171.796875px"
   },
   "toc_section_display": true,
   "toc_window_display": true
  }
 },
 "nbformat": 4,
 "nbformat_minor": 4
}
