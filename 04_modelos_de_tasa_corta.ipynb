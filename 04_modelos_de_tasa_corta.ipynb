{
 "cells": [
  {
   "cell_type": "markdown",
   "metadata": {},
   "source": [
    "# Modelos de Tasa Corta"
   ]
  },
  {
   "cell_type": "markdown",
   "metadata": {},
   "source": [
    "Comenzamos con algunas definiciones preliminares."
   ]
  },
  {
   "cell_type": "markdown",
   "metadata": {},
   "source": [
    "## Definiciones Preliminares"
   ]
  },
  {
   "cell_type": "markdown",
   "metadata": {},
   "source": [
    "- Bank Account\n",
    "- Factor de Descuento\n",
    "- Tasa Compuesta Contínua\n",
    "- Tasa Lineal\n",
    "- Curva Cero Cupón\n",
    "- Curva de Bonos Cero Cupón\n",
    "- Tasa Forward Lineal\n",
    "- Tasa Forward Instantánea"
   ]
  },
  {
   "cell_type": "markdown",
   "metadata": {},
   "source": [
    "### Bank Account"
   ]
  },
  {
   "cell_type": "markdown",
   "metadata": {},
   "source": [
    "Sea $B(t)$ el valor en $t\\geq0$ de una cuenta bancaria que acumula intereses de forma contínua. Se asume que $B(0)=1$ y que la evolución en el tiempo de la cuenta está regida por la siguiente ecuación diferencial:\n",
    "\n",
    "$$\n",
    "dB(t)=r_tB(t)dt\n",
    "$$\n",
    "\n",
    "donde $r_t\\geq 0$ $\\forall t$. La solución de (1) es:\n",
    "\n",
    "$$\n",
    "B(t)=\\exp{\\left({\\int_0}^t r_s ds\\right)}\n",
    "$$\n",
    "\n",
    "La cantidad $r_t$ corresponde a la tasa instantánea que se aplica en el tiempo $t$."
   ]
  },
  {
   "cell_type": "markdown",
   "metadata": {},
   "source": [
    "Es evidente que si $r_t$ es una función determinística, el valor $B(t)$ es totalmente conocido en $t=0$. Por otra parte si $r_t$ es un proceso estocástico (una variable aleatoria $\\forall t$ ), entonces $B(t)$ también lo es. Esta observación motiva la siguiente definición:"
   ]
  },
  {
   "cell_type": "markdown",
   "metadata": {},
   "source": [
    "### Factor de Descuento"
   ]
  },
  {
   "cell_type": "markdown",
   "metadata": {},
   "source": [
    "El factor de descuento (que puede ser estocástico) $D(t,T)$ entre los dos instante de tiempo $t$ y $T$ está dado por:\n",
    "\n",
    "$$\n",
    "D(t,T)=\\frac{B(t)}{B(T)}=\\exp\\left(-{\\int_t}^T r_s ds\\right)\n",
    "$$"
   ]
  },
  {
   "cell_type": "markdown",
   "metadata": {},
   "source": [
    "**Contrariamente al modelamiento usual para Equity o FX, para instrumentos de tasa de interés siempre se supondrá que $r_t$ es un proceso estocástico.**"
   ]
  },
  {
   "cell_type": "markdown",
   "metadata": {},
   "source": [
    "### Bono Cero Cupón"
   ]
  },
  {
   "cell_type": "markdown",
   "metadata": {},
   "source": [
    "Un bono cero cupón que vence en $T$ (o bono a descuento) es un contrato que garantiza a su tenedor el pago de una unidad de moneda en el instante $T$. El valor de este contrato en $t\\lt T$ se denota con $P(t,T)$. Claramente, $P(T,T)=1$ $\\forall\\space T$."
   ]
  },
  {
   "cell_type": "markdown",
   "metadata": {},
   "source": [
    "### Tasa Compuesta Contínua"
   ]
  },
  {
   "cell_type": "markdown",
   "metadata": {},
   "source": [
    "La tasa compuesta contínua en $t$ para un instante de tiempo $T\\gt t$ se denota con $R(t,T$) y se define a partir de la siguiente ecuación:\n",
    "\n",
    "$$\n",
    "P(t,T)=\\exp\\left[-R(t,T)\\cdot (T-t)\\right]\n",
    "$$\n",
    "\n",
    "Sigue que:\n",
    "\n",
    "$$\n",
    "R(t,T)=-\\frac{\\log P(t,T)}{T-t}\n",
    "$$"
   ]
  },
  {
   "cell_type": "markdown",
   "metadata": {},
   "source": [
    "### Tasa Lineal"
   ]
  },
  {
   "cell_type": "markdown",
   "metadata": {},
   "source": [
    "De forma análoga, la tasa lineal se define a través de la siguiente ecuación:\n",
    "\n",
    "$$\n",
    "P(t,T)=\\frac{1}{1+L(t,T)\\cdot (T-t)}\n",
    "$$\n",
    "\n",
    "Y por lo tanto:\n",
    "\n",
    "$$\n",
    "L(t,T)=\\left(\\frac{1}{P(t,T)}-1\\right)\\cdot\\frac{1}{T-t}\n",
    "$$"
   ]
  },
  {
   "cell_type": "markdown",
   "metadata": {},
   "source": [
    "### Curva Cero Cupón"
   ]
  },
  {
   "cell_type": "markdown",
   "metadata": {},
   "source": [
    "Una curva cero cupón en $t$ es una función del tipo:\n",
    "\n",
    "$$T\\rightarrow\\rho(t,T)$$\n",
    "\n",
    "donde $\\rho(t,T)$ representa una tasa en convención compuesta contínua, lineal o cualquier otra."
   ]
  },
  {
   "cell_type": "markdown",
   "metadata": {},
   "source": [
    "De forma similar se puede definir:"
   ]
  },
  {
   "cell_type": "markdown",
   "metadata": {},
   "source": [
    "### Curva Bonos Cero Cupón"
   ]
  },
  {
   "cell_type": "markdown",
   "metadata": {},
   "source": [
    "Una curva de bonos cero cupón en $t$ es una función del tipo:\n",
    "\n",
    "$$T\\rightarrow P(t,T)$$\n",
    "\n",
    "donde $P(t,T)$ es el valor de.l bono cero cupón en $t$ que vence en $T$."
   ]
  },
  {
   "cell_type": "markdown",
   "metadata": {},
   "source": [
    "### Tasa Forward Lineal"
   ]
  },
  {
   "cell_type": "markdown",
   "metadata": {},
   "source": [
    "La tasa forward lineal en $t$ que expira en $T$ y vence en $S$ con $S>T$ se denota con $F(t;T,S)$ y se define como:\n",
    "\n",
    "$$\n",
    "F(t;T,S):=\\left(\\frac{P(t,T)}{P(t,S)}-1\\right)\\cdot\\frac{1}{S-T}=\\left(\\frac{W(t,S)}{W(t,T)}-1\\right)\\cdot\\frac{1}{S-T}\n",
    "$$"
   ]
  },
  {
   "cell_type": "markdown",
   "metadata": {},
   "source": [
    "### Tasa Forward Instantánea"
   ]
  },
  {
   "cell_type": "markdown",
   "metadata": {},
   "source": [
    "La tasa forward instantánea en $t$ que expira y vence en $T$ se denota con $f(t,T)$ y se define como:\n",
    "\n",
    "$$\n",
    "f(t,T):=\\lim_{S \\to T^+}F(t;T,S)=-\\frac{\\partial\\log P(t,T)}{\\partial T}\n",
    "$$\n",
    "\n",
    "Para entender la última igualdad considerar lo siguiente:\n",
    "\n",
    "$$\\left(\\frac{P\\left(T\\right)-P\\left(S\\right)}{P\\left(S\\right)}\\right)\\cdot\\frac{1}{S-T}$$\n",
    "\n",
    "$$-\\left(\\frac{P\\left(S\\right)-P\\left(T\\right)}{S-T}\\right)\\cdot\\frac{1}{P\\left(S\\right)}$$\n",
    "\n",
    "El término a la izquierda del producto tiende a la derivada de $P$ para $S$ que tiende a $T$. \n",
    "\n",
    "\n",
    "Sigue que:\n",
    "\n",
    "$$\n",
    "P(t,T)=\\exp\\left(-{\\int_t}^T f(t,u)\\cdot du\\right)\n",
    "$$"
   ]
  },
  {
   "cell_type": "markdown",
   "metadata": {},
   "source": [
    "## Ecuación Fundamental"
   ]
  },
  {
   "cell_type": "markdown",
   "metadata": {},
   "source": [
    "- Aquí vemos la primera generación de modelos de tasa de interés en tiempo continuo. Los llamados modelos de la tasa corta.\n",
    "\n",
    "\n",
    "- Se modela explícitamente la evolución de la tasa instantánea $r_t$ como única fuente de incertidumbre en tasa de interés.\n",
    "\n",
    "\n",
    "- Esta tasa de interés se considera libre de riesgo financiero, es decir representa la tasa que se obtiene en un depósito a plazo (u otra fuente de financiamiento similar) entre $t$ y $t + dt$.\n",
    "\n",
    "\n",
    "- De este modo, los valores de todos los instrumentos de tasa de interés quedan ligados a esta única variable estocástica."
   ]
  },
  {
   "cell_type": "markdown",
   "metadata": {},
   "source": [
    "Sea:\n",
    "\n",
    "$$\n",
    "dr_t=m\\left(r_t,t\\right)dt+\\sigma\\left(r_t,t\\right)dX_t\n",
    "$$\n",
    "\n",
    "la ecuación diferencial estocástica en la medida histórica que gobierna la evolución de la tasa $r_t$. Aquí $X_t$ es un movimiento browniano en la medida histórica y las funciones $m\\left(r_t,t\\right)$ y $\\sigma\\left(r_t,t\\right)$ son suficientemente regulares."
   ]
  },
  {
   "cell_type": "markdown",
   "metadata": {},
   "source": [
    "Queremos encontrar una ecuación a las derivadas parciales, al estilo de lo hecho para encontrar la fórmula de BSM, que nos permita valorizar instrumentos que dependen de la tasa de interés.\n",
    "\n",
    "Sean $Z_1\\left(r_t,t\\right)$ y $Z_2\\left(r_t,t\\right)$ dos tales instrumentos y construyamos un portfolio con ambos que sea insensible a movimientos de tasa de interés, o sea:\n",
    "\n",
    "$$\n",
    "\\Pi\\left(r,t\\right)=Z_1\\left(r,t\\right)-\\Delta Z_2\\left(r,t\\right)\n",
    "$$\n",
    "\n",
    "$$\n",
    "\\frac{\\partial\\Pi\\left(r,t\\right)}{\\partial r}=0\n",
    "$$\n",
    "\n",
    "$$\n",
    "\\Delta=\\left(\\frac{\\partial Z_1}{\\partial r}\\right)\\cdot\\left(\\frac{\\partial Z_2}{\\partial r}\\right)^{-1}\n",
    "$$\n",
    "\n",
    "De ahora en adelante, por simplicidad, se omitirá la dependencia de $r$ de $t$."
   ]
  },
  {
   "cell_type": "markdown",
   "metadata": {},
   "source": [
    "Utilizando el lema de Itô tenemos que:\n",
    "\n",
    "$$\n",
    "d\\Pi=\\frac{\\partial\\Pi}{\\partial t}dt+\\frac{\\partial\\Pi}{\\partial r}dr+\\frac{1}{2}\\frac{\\partial^2\\Pi}{\\partial r^2}dr^2\\\\\n",
    "=\\left[\\frac{\\partial\\Pi}{\\partial t}+\\frac{1}{2}\\frac{\\partial^2\\Pi}{\\partial r^2}\\sigma^2\\left(r,t\\right)\\right]dt+\\frac{\\partial\\Pi}{\\partial r}\\left[m\\left(r,t\\right)dt+\\sigma\\left(r,t\\right)dX_t\\right]\\\\\n",
    "=\\left[\\frac{\\partial\\Pi}{\\partial t}+\\frac{\\partial\\Pi}{\\partial r}m\\left(r,t\\right)+\\frac{1}{2}\\frac{\\partial^2\\Pi}{\\partial r^2}\\sigma^2\\left(r,t\\right)\\right]dt+\\frac{\\partial\\Pi}{\\partial r}\\sigma\\left(r,t\\right)dX_t\n",
    "$$"
   ]
  },
  {
   "cell_type": "markdown",
   "metadata": {},
   "source": [
    "Dado que $\\frac{\\partial\\Pi}{\\partial r}=0$ tenemos que:\n",
    "\n",
    "$$\n",
    "d\\Pi=\\left(\\frac{\\partial\\Pi}{\\partial t}+\\frac{1}{2}\\frac{\\partial^2\\Pi}{\\partial r^2}\\sigma^2\\left(r,t\\right)\\right)dt\n",
    "$$"
   ]
  },
  {
   "cell_type": "markdown",
   "metadata": {},
   "source": [
    "Luego, como el portfolio no es estocástico, por ausencia de arbitraje, sigue que:\n",
    "\n",
    "$$\n",
    "d\\Pi=\\Pi r dt\n",
    "$$\n",
    "\n",
    "y finalmente se obtiene que:\n",
    "\n",
    "$$\n",
    "\\frac{\\partial\\Pi}{\\partial t}+\\frac{1}{2}\\frac{\\partial^2\\Pi}{\\partial r^2}\\sigma^2\\left(r,t\\right)-r\\Pi=0\n",
    "$$"
   ]
  },
  {
   "cell_type": "markdown",
   "metadata": {},
   "source": [
    "Recordando las definiciones de $\\Pi$ y $\\Delta$ llegamos a:\n",
    "\n",
    "$$\n",
    "\\frac{\\partial\\Pi}{\\partial t}=\\frac{\\partial Z_1}{\\partial t}-\\Delta\\frac{\\partial Z_2}{\\partial t}\\\\\n",
    "\\frac{\\partial^2\\Pi}{\\partial r^2}=\\frac{\\partial^2 Z_1}{\\partial r^2}-\\Delta\\frac{\\partial^2 Z_2}{\\partial r^2}\n",
    "$$"
   ]
  },
  {
   "cell_type": "markdown",
   "metadata": {},
   "source": [
    "Sustituyendo y reordenando se llega a:\n",
    "\n",
    "$$\n",
    "\\left(\\frac{\\partial Z_1}{\\partial t}+\\frac{1}{2}\\frac{\\partial^2 Z_1}{\\partial r^2}\\sigma^2\\left(r,t\\right)-r Z_1\\right)\\cdot\\left(\\frac{\\partial Z_1}{\\partial r}\\right)^{-1}=\\left(\\frac{\\partial Z_2}{\\partial t}+\\frac{1}{2}\\frac{\\partial^2 Z_2}{\\partial r^2}\\sigma^2\\left(r,t\\right)-r Z_2\\right)\\cdot\\left(\\frac{\\partial Z_2}{\\partial r}\\right)^{-1}\n",
    "$$"
   ]
  },
  {
   "cell_type": "markdown",
   "metadata": {},
   "source": [
    "- Cambio de valor por paso del tiempo (*theta*):\n",
    "\n",
    "$$\n",
    "\\frac{\\partial Z}{\\partial t}\n",
    "$$\n",
    "\n",
    "\n",
    "- Valor por convexidad o estocasticidad de las tasas de interés (*gamma*):\n",
    "\n",
    "$$\n",
    "\\frac{1}{2}\\frac{\\partial^2 Z}{\\partial r^2}\n",
    "$$\n",
    "\n",
    "\n",
    "- Costo de financiamiento de la posición (*carry*):\n",
    "\n",
    "$$\n",
    "rZ\n",
    "$$\n",
    "\n",
    "\n",
    "- Cambio de valor por cambio en las tasas de interés (*delta*):\n",
    "\n",
    "$$\n",
    "\\frac{\\partial Z}{\\partial r}\n",
    "$$"
   ]
  },
  {
   "cell_type": "markdown",
   "metadata": {},
   "source": [
    "Se concluye que para todo instrumento $Z(r,t)$ vale la siguiente ecuación diferencial a las derivadas parciales:\n",
    "\n",
    "$$\n",
    "\\left(\\frac{\\partial Z}{\\partial t}+\\frac{1}{2}\\frac{\\partial^2 Z}{\\partial r^2}\\sigma^2\\left(r,t\\right)-r Z\\right)\\cdot\\left(\\frac{\\partial Z}{\\partial r}\\right)^{-1}=-m^*\\left(r,t\\right)\\\\\n",
    "\\frac{\\partial Z}{\\partial t}+\\frac{\\partial Z}{\\partial r}m^*\\left(r,t\\right)+\\frac{1}{2}\\frac{\\partial^2 Z}{\\partial r^2}\\sigma^2\\left(r,t\\right)-r Z=0\n",
    "$$"
   ]
  },
  {
   "cell_type": "markdown",
   "metadata": {},
   "source": [
    "Volviendo a hacer explícita la dependencia de $r$ de $t$, si el instrumento $Z(r,t)$ vence en $T$ podemos encontrar su valor $Z(r_t,t)$ en $t$ resolviendo la ecuación (27) junto con la oportuna condición terminal o de borde:\n",
    "\n",
    "$$\n",
    "Z(r_T, T)=g(r_T)\n",
    "$$\n",
    "\n",
    "Aquí la función $g(r_T)$ (que es una función del valor final $r_T$ de la tasa $r_t$) representa el payoff o valor final de $Z$."
   ]
  },
  {
   "cell_type": "markdown",
   "metadata": {},
   "source": [
    "Busquemos una interpretación para $m*$, definamos los siguientes dos objetos (partimos calculando la ecuación diferencial estocástica para un instrumento $Z$):\n",
    "\n",
    "$$\n",
    "dZ=\\left(\\frac{\\partial Z}{\\partial t}+\\frac{1}{2}\\frac{\\partial^2 Z}{\\partial r^2}\\sigma^2\\left(r,t\\right)+\\frac{\\partial Z}{\\partial r}m\\left(r,t\\right)\\right)dt+\\sigma\\left(r,t\\right)\\frac{\\partial Z}{\\partial r}dX_t \\\\\n",
    "\\mu_Z\\cdot Z=\\frac{\\partial Z}{\\partial t}+\\frac{1}{2}\\frac{\\partial^2 Z}{\\partial r^2}\\sigma^2\\left(r,t\\right)+\\frac{\\partial Z}{\\partial r}m\\left(r,t\\right) \\\\\n",
    "\\sigma_Z\\cdot Z=\\sigma\\left(r,t\\right)\\frac{\\partial Z}{\\partial r}\n",
    "$$"
   ]
  },
  {
   "cell_type": "markdown",
   "metadata": {},
   "source": [
    "Recordando (27) llegamos a:\n",
    "\n",
    "$$\n",
    "\\frac{\\mu_Z-r}{\\sigma_Z}=\\frac{m-m^*}{\\sigma}:=\\lambda\n",
    "$$\n",
    "\n",
    "Al cociente $\\lambda$ se le llama *market price of interest rate risk*. Indica que la razón entre el exceso de retorno de un instrumento y su volatilidad es la misma para todos los instrumentos. Vemos además, el nexo que hay entre $m^*$ y $\\lambda$."
   ]
  },
  {
   "cell_type": "markdown",
   "metadata": {},
   "source": [
    "En particular tenemos que $m*=m-\\lambda\\sigma$ y por lo tanto podemos escribir:\n",
    "\n",
    "$$\n",
    "\\begin{equation}\n",
    "\\frac{\\partial Z}{\\partial t}+\\frac{\\partial Z}{\\partial r}\\left(m-\\lambda\\sigma\\right)+\\frac{1}{2}\\frac{\\partial^2 Z}{\\partial r^2}\\sigma^2\\left(r,t\\right)-r Z=0\n",
    "\\end{equation}\n",
    "$$"
   ]
  },
  {
   "cell_type": "markdown",
   "metadata": {},
   "source": [
    "## Fórmula de Feynman-Kac"
   ]
  },
  {
   "cell_type": "markdown",
   "metadata": {},
   "source": [
    "Sea $V(r,t)$ el precio de un instrumento con payoff final igual a $V(r_T,T)=g(r_T,T)$ que satisfaga la siguiente ecuación diferencial parcial:\n",
    "\n",
    "$$\n",
    "\\begin{equation}\n",
    "\\frac{\\partial V}{\\partial t}+\\frac{\\partial V}{\\partial r}m^*\\left(r_t,t\\right)+\\frac{1}{2}\\frac{\\partial^2 V}{\\partial r^2}\\sigma^2\\left(r_t,t\\right)=R\\left(r_t\\right)V\n",
    "\\end{equation}\n",
    "$$\n",
    "\n",
    "Donde $R(r)$ es una cierta función. Entonces $V(r_t,t)$ está dado por:\n",
    "\n",
    "$$\n",
    "\\begin{equation}\n",
    "V\\left(r_t,t\\right)=\\mathbb{E}_t^*\\left[e^{-\\int_{t}^{T}R\\left(r_u\\right)du}g\\left(r_T,T\\right)\\right] \\\\\n",
    "\\end{equation}\n",
    "$$\n",
    "\n",
    "Donde,\n",
    "\n",
    "$$\n",
    "\\begin{equation}\n",
    "dr_t=m^*\\left(r_t,t\\right)dt+\\sigma\\left(r_t,t\\right)dX_t\n",
    "\\end{equation}\n",
    "$$"
   ]
  },
  {
   "cell_type": "markdown",
   "metadata": {},
   "source": [
    "## La Medida Forward"
   ]
  },
  {
   "cell_type": "markdown",
   "metadata": {},
   "source": [
    "**Ref:** https://www.amazon.com/s?k=stochastic+finance+a+numeraire+approach&__mk_es_US=ÅMÅŽÕÑ&ref=nb_sb_noss"
   ]
  },
  {
   "cell_type": "markdown",
   "metadata": {},
   "source": [
    "El cálculo de este valor esperado (fórmula de Feynman-Kac) es dificultoso porque la variable estocástica $r_t$ aparece en ambos términos del producto. Si recordamos que:\n",
    "\n",
    "$$\n",
    "\\begin{equation}\n",
    "\\newcommand{\\E}{\\mathrm{E}}\n",
    "\\newcommand{\\Var}{\\mathrm{Var}}\n",
    "\\newcommand{\\Cov}{\\mathrm{Cov}}\n",
    "\\Cov\\left(Z,Y\\right)=\\E\\left(ZY\\right)-\\E\\left(Z\\right)\\E\\left(Y\\right) \\\\\n",
    "\\E\\left(ZY\\right)=\\E\\left(Z\\right)\\E\\left(Y\\right)+\\Cov\\left(Z,Y\\right)\n",
    "\\end{equation}\n",
    "$$\n",
    "\n",
    "Podemos escribir,\n",
    "\n",
    "$$\n",
    "\\begin{equation}\n",
    "\\newcommand{\\Cov}{\\mathrm{Cov}}\n",
    "\\mathbb{E}_t^*\\left[e^{-\\int_{t}^{T}r_udu}g\\left(r_T,T\\right)\\right]=\\mathbb{E}_t^*\\left[e^{-\\int_{t}^{T}r_udu}\\right]\\mathbb{E}_t^*\\left[g\\left(r_T,T\\right)\\right]+\\Cov\\left(e^{-\\int_{t}^{T}r_udu},g\\left(r_T,T\\right)\\right)\n",
    "\\end{equation}\n",
    "$$\n",
    "\n",
    "Si pudiéramos eliminar el término con covarianza, quedaría algo mucho más sencillo, de hecho ya sabemos que:\n",
    "\n",
    "$$\n",
    "\\begin{equation}\n",
    "\\newcommand{\\Cov}{\\mathrm{Cov}}\n",
    "\\mathbb{E}_t^*\\left[e^{-\\int_{t}^{T}r_udu}\\right]=Z\\left(t,T\\right)\n",
    "\\end{equation}\n",
    "$$"
   ]
  },
  {
   "cell_type": "markdown",
   "metadata": {},
   "source": [
    "- Entendemos por numerario (del francés numeraire) la unidad en que expresamos los precios. Por ejemplo, en vez de usar USD, podríamos expresar precios de instrumentos financieros en términos del precio de un bono del tesoro prefijado.\n",
    "\n",
    "\n",
    "- Veremos que un cambio de numerario lleva a una simplificación en las fórmulas de valoración de derivados.\n",
    "\n",
    "\n",
    "- Sea $V(r_t,t,T)$ el valor en USD de un cierto instrumento y $Z(r_t,t,T)$ el valor del bono cupón cero que vence en T. Consideremos la siguiente renormalización o cambio de numerario:\n",
    "\n",
    "$$\n",
    "\\begin{equation}\n",
    "\\overline{V}\\left(r_t,t,T\\right)=\\frac{V\\left(r_t,t,T\\right)}{Z\\left(r_t,t,T\\right)}\n",
    "\\end{equation}\n",
    "$$"
   ]
  },
  {
   "cell_type": "markdown",
   "metadata": {},
   "source": [
    "El valor $\\overline{V}\\left(r_t,t,T\\right)$ satisface la siguiente ecuación diferencial:\n",
    "\n",
    "$$\n",
    "\\begin{equation}\n",
    "\\frac{\\partial\\overline{V}}{\\partial t}+\\frac{\\partial\\overline{V}}{\\partial r}\\left[m^*\\left(r_t,t\\right)+\\frac{\\partial Z}{\\partial r}\\frac{1}{Z}\\sigma^2\\left(r_t,t\\right)\\right]+\\frac{1}{2}\\frac{\\partial^2\\overline{V}}{\\partial r^2}\\sigma^2\\left(r_t,t\\right)=0\n",
    "\\end{equation}\n",
    "$$\n",
    "\n",
    "$$R(r_t)=0\\quad \\forall t$$\n",
    "\n",
    "\n",
    "Si consideramos que:\n",
    "\n",
    "$$\n",
    "\\begin{equation}\n",
    "\\frac{dZ}{Z}=\\ldots+\\sigma_{Z}dX_t\n",
    "\\end{equation}\n",
    "$$\n",
    "\n",
    "Tenemos que:\n",
    "\n",
    "$$\n",
    "\\begin{equation}\n",
    "\\sigma_{Z}\\left(r_t,t\\right)=\\frac{\\partial Z}{\\partial r}\\frac{1}{Z}\\sigma\\left(r_t,t\\right)\n",
    "\\end{equation}\n",
    "$$\n",
    "\n",
    "Y por lo tanto llegamos a:\n",
    "\n",
    "$$\n",
    "\\begin{equation}\n",
    "\\frac{\\partial\\overline{V}}{\\partial t}+\\frac{\\partial\\overline{V}}{\\partial r}\\left[m^*\\left(r_t,t\\right)+\\sigma_Z\\left(r_t,t\\right)\\sigma\\left(r_t,t\\right)\\right]+\\frac{1}{2}\\frac{\\partial^2\\overline{V}}{\\partial r^2}\\sigma^2\\left(r_t,t\\right)=0\n",
    "\\end{equation}\n",
    "$$\n",
    "\n",
    "Esta ecuación tiene dos diferencias importantes respecto a la ecuación fundamental: el término $rV$ desaparece y $m^*$ aparece modificado por el producto entre el coeficiente de difusión del bono cero cupón y el coeficiente de difusión de la tasa corta."
   ]
  },
  {
   "cell_type": "markdown",
   "metadata": {},
   "source": [
    "Podemos ahora aplicar la fórmula de Feynman-Kac para obtener que la solución a la ecuación diferencial anterior está dada por:\n",
    "\n",
    "$$\n",
    "\\begin{equation}\n",
    "\\overline{V}\\left(r_t,t,T\\right)=\\mathbb{E}_t^{Z_T}\\left[g\\left(r_T,T\\right)\\right]\n",
    "\\end{equation}\n",
    "$$\n",
    "\n",
    "Donde el valor esperado $\\mathbb{E}_t^{Z_T}$ se calcula con la probabilidad tal que:\n",
    "\n",
    "$$\n",
    "\\begin{equation}\n",
    "dr_t=\\left[m^*\\left(r_t,t\\right)+\\sigma_Z\\left(r_t,t\\right)\\sigma\\left(r_t,t\\right)\\right]dt+\\sigma\\left(r_t,t\\right)dX_t\n",
    "\\end{equation}\n",
    "$$\n",
    "\n",
    "El proceso anterior suele llamarse forward risk neutral o T-forward risk neutral cuando se desea enfatizar el plazo del instrumento a valorar. Finalmente tenemos que:\n",
    "\n",
    "$$\n",
    "\\begin{equation}\n",
    "V\\left(r_t,t,T\\right)=Z\\left(r_t,t,T\\right)\\mathbb{E}_t^{Z_T}\\left[g\\left(r_T,T\\right)\\right]\n",
    "\\end{equation}\n",
    "$$\n",
    "\n"
   ]
  }
 ],
 "metadata": {
  "hide_input": false,
  "kernelspec": {
   "display_name": "Python 3",
   "language": "python",
   "name": "python3"
  },
  "language_info": {
   "codemirror_mode": {
    "name": "ipython",
    "version": 3
   },
   "file_extension": ".py",
   "mimetype": "text/x-python",
   "name": "python",
   "nbconvert_exporter": "python",
   "pygments_lexer": "ipython3",
   "version": "3.7.3"
  },
  "latex_envs": {
   "LaTeX_envs_menu_present": true,
   "autoclose": true,
   "autocomplete": true,
   "bibliofile": "biblio.bib",
   "cite_by": "apalike",
   "current_citInitial": 1,
   "eqLabelWithNumbers": true,
   "eqNumInitial": 1,
   "hotkeys": {
    "equation": "Ctrl-E",
    "itemize": "Ctrl-I"
   },
   "labels_anchors": false,
   "latex_user_defs": false,
   "report_style_numbering": false,
   "user_envs_cfg": false
  },
  "toc": {
   "base_numbering": "4",
   "nav_menu": {},
   "number_sections": true,
   "sideBar": true,
   "skip_h1_title": false,
   "title_cell": "Tabla de Contenidos",
   "title_sidebar": "Contenido",
   "toc_cell": false,
   "toc_position": {
    "height": "calc(100% - 180px)",
    "left": "10px",
    "top": "150px",
    "width": "219px"
   },
   "toc_section_display": true,
   "toc_window_display": true
  },
  "varInspector": {
   "cols": {
    "lenName": 16,
    "lenType": 16,
    "lenVar": 40
   },
   "kernels_config": {
    "python": {
     "delete_cmd_postfix": "",
     "delete_cmd_prefix": "del ",
     "library": "var_list.py",
     "varRefreshCmd": "print(var_dic_list())"
    },
    "r": {
     "delete_cmd_postfix": ") ",
     "delete_cmd_prefix": "rm(",
     "library": "var_list.r",
     "varRefreshCmd": "cat(var_dic_list()) "
    }
   },
   "types_to_exclude": [
    "module",
    "function",
    "builtin_function_or_method",
    "instance",
    "_Feature"
   ],
   "window_display": false
  }
 },
 "nbformat": 4,
 "nbformat_minor": 2
}
