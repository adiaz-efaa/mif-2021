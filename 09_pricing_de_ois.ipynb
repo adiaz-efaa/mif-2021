{
 "cells": [
  {
   "cell_type": "markdown",
   "metadata": {},
   "source": [
    "# Valorización de OIS"
   ]
  },
  {
   "cell_type": "markdown",
   "metadata": {},
   "source": [
    "Entre sí, los bancos operan los instrumentos estándar. En el caso de los OIS sobre SOFR, éstos son instrumentos con periodicidad anual, amortización bullet y a los plazos predefinidos.\n",
    "\n",
    "¿Qué se hace cuándo es necesario cotizar un swap con características distintas? En esos casos, se hace *pricing* de este contrato especial, utilizando la curva cupón cero que se ha obtenido de los swaps estándar."
   ]
  },
  {
   "cell_type": "markdown",
   "metadata": {},
   "source": [
    "## Configuración"
   ]
  },
  {
   "cell_type": "markdown",
   "metadata": {},
   "source": [
    "### Librerías"
   ]
  },
  {
   "cell_type": "code",
   "execution_count": 1,
   "metadata": {
    "ExecuteTime": {
     "end_time": "2021-11-09T21:39:19.246653Z",
     "start_time": "2021-11-09T21:39:18.769767Z"
    }
   },
   "outputs": [],
   "source": [
    "from finrisk import QC_Financial_3 as Qcf\n",
    "from scipy.optimize import root_scalar\n",
    "import modules.auxiliary as aux\n",
    "from functools import partial\n",
    "from enum import Enum\n",
    "import pandas as pd"
   ]
  },
  {
   "cell_type": "markdown",
   "metadata": {},
   "source": [
    "### Variables Globales"
   ]
  },
  {
   "cell_type": "markdown",
   "metadata": {},
   "source": [
    "Formatos para campos de los `DataFrames`."
   ]
  },
  {
   "cell_type": "code",
   "execution_count": 54,
   "metadata": {
    "ExecuteTime": {
     "end_time": "2021-11-09T21:59:17.362361Z",
     "start_time": "2021-11-09T21:59:17.356808Z"
    }
   },
   "outputs": [],
   "source": [
    "frmt = {\n",
    "    'tasa': '{:.6%}',\n",
    "    'df': '{:.12%}',\n",
    "    'valor_tasa': '{:.4%}',\n",
    "    'spread': '{:.4%}',\n",
    "    'nominal': '{:,.2f}',\n",
    "    'interes': '{:,.2f}',\n",
    "    'amortizacion': '{:,.2f}',\n",
    "    'flujo': '{:,.2f}',\n",
    "}"
   ]
  },
  {
   "cell_type": "markdown",
   "metadata": {},
   "source": [
    "## Carga Curva Cero Cupón"
   ]
  },
  {
   "cell_type": "markdown",
   "metadata": {},
   "source": [
    "Se importa la data de la curva cupón cero que fue construida en el notebook 5."
   ]
  },
  {
   "cell_type": "code",
   "execution_count": 55,
   "metadata": {
    "ExecuteTime": {
     "end_time": "2021-11-09T21:59:18.835530Z",
     "start_time": "2021-11-09T21:59:18.820530Z"
    }
   },
   "outputs": [],
   "source": [
    "df_curva = pd.read_excel('data/20201012_built_sofr_zero.xlsx')"
   ]
  },
  {
   "cell_type": "code",
   "execution_count": 56,
   "metadata": {
    "ExecuteTime": {
     "end_time": "2021-11-09T21:59:20.061064Z",
     "start_time": "2021-11-09T21:59:20.048247Z"
    }
   },
   "outputs": [
    {
     "data": {
      "text/html": [
       "<style  type=\"text/css\" >\n",
       "</style><table id=\"T_4a6ba6ee_41a8_11ec_a147_02cba411ec9d\" ><thead>    <tr>        <th class=\"blank level0\" ></th>        <th class=\"col_heading level0 col0\" >plazo</th>        <th class=\"col_heading level0 col1\" >tasa</th>        <th class=\"col_heading level0 col2\" >df</th>    </tr></thead><tbody>\n",
       "                <tr>\n",
       "                        <th id=\"T_4a6ba6ee_41a8_11ec_a147_02cba411ec9dlevel0_row0\" class=\"row_heading level0 row0\" >0</th>\n",
       "                        <td id=\"T_4a6ba6ee_41a8_11ec_a147_02cba411ec9drow0_col0\" class=\"data row0 col0\" >1</td>\n",
       "                        <td id=\"T_4a6ba6ee_41a8_11ec_a147_02cba411ec9drow0_col1\" class=\"data row0 col1\" >0.081111%</td>\n",
       "                        <td id=\"T_4a6ba6ee_41a8_11ec_a147_02cba411ec9drow0_col2\" class=\"data row0 col2\" >99.999777778272%</td>\n",
       "            </tr>\n",
       "            <tr>\n",
       "                        <th id=\"T_4a6ba6ee_41a8_11ec_a147_02cba411ec9dlevel0_row1\" class=\"row_heading level0 row1\" >1</th>\n",
       "                        <td id=\"T_4a6ba6ee_41a8_11ec_a147_02cba411ec9drow1_col0\" class=\"data row1 col0\" >7</td>\n",
       "                        <td id=\"T_4a6ba6ee_41a8_11ec_a147_02cba411ec9drow1_col1\" class=\"data row1 col1\" >0.084051%</td>\n",
       "                        <td id=\"T_4a6ba6ee_41a8_11ec_a147_02cba411ec9drow1_col2\" class=\"data row1 col2\" >99.998388081561%</td>\n",
       "            </tr>\n",
       "            <tr>\n",
       "                        <th id=\"T_4a6ba6ee_41a8_11ec_a147_02cba411ec9dlevel0_row2\" class=\"row_heading level0 row2\" >2</th>\n",
       "                        <td id=\"T_4a6ba6ee_41a8_11ec_a147_02cba411ec9drow2_col0\" class=\"data row2 col0\" >14</td>\n",
       "                        <td id=\"T_4a6ba6ee_41a8_11ec_a147_02cba411ec9drow2_col1\" class=\"data row2 col1\" >0.077967%</td>\n",
       "                        <td id=\"T_4a6ba6ee_41a8_11ec_a147_02cba411ec9drow2_col2\" class=\"data row2 col2\" >99.997009533958%</td>\n",
       "            </tr>\n",
       "            <tr>\n",
       "                        <th id=\"T_4a6ba6ee_41a8_11ec_a147_02cba411ec9dlevel0_row3\" class=\"row_heading level0 row3\" >3</th>\n",
       "                        <td id=\"T_4a6ba6ee_41a8_11ec_a147_02cba411ec9drow3_col0\" class=\"data row3 col0\" >21</td>\n",
       "                        <td id=\"T_4a6ba6ee_41a8_11ec_a147_02cba411ec9drow3_col1\" class=\"data row3 col1\" >0.077358%</td>\n",
       "                        <td id=\"T_4a6ba6ee_41a8_11ec_a147_02cba411ec9drow3_col2\" class=\"data row3 col2\" >99.995549361779%</td>\n",
       "            </tr>\n",
       "            <tr>\n",
       "                        <th id=\"T_4a6ba6ee_41a8_11ec_a147_02cba411ec9dlevel0_row4\" class=\"row_heading level0 row4\" >4</th>\n",
       "                        <td id=\"T_4a6ba6ee_41a8_11ec_a147_02cba411ec9drow4_col0\" class=\"data row4 col0\" >33</td>\n",
       "                        <td id=\"T_4a6ba6ee_41a8_11ec_a147_02cba411ec9drow4_col1\" class=\"data row4 col1\" >0.078067%</td>\n",
       "                        <td id=\"T_4a6ba6ee_41a8_11ec_a147_02cba411ec9drow4_col2\" class=\"data row4 col2\" >99.992942164529%</td>\n",
       "            </tr>\n",
       "            <tr>\n",
       "                        <th id=\"T_4a6ba6ee_41a8_11ec_a147_02cba411ec9dlevel0_row5\" class=\"row_heading level0 row5\" >5</th>\n",
       "                        <td id=\"T_4a6ba6ee_41a8_11ec_a147_02cba411ec9drow5_col0\" class=\"data row5 col0\" >61</td>\n",
       "                        <td id=\"T_4a6ba6ee_41a8_11ec_a147_02cba411ec9drow5_col1\" class=\"data row5 col1\" >0.078064%</td>\n",
       "                        <td id=\"T_4a6ba6ee_41a8_11ec_a147_02cba411ec9drow5_col2\" class=\"data row5 col2\" >99.986954479926%</td>\n",
       "            </tr>\n",
       "            <tr>\n",
       "                        <th id=\"T_4a6ba6ee_41a8_11ec_a147_02cba411ec9dlevel0_row6\" class=\"row_heading level0 row6\" >6</th>\n",
       "                        <td id=\"T_4a6ba6ee_41a8_11ec_a147_02cba411ec9drow6_col0\" class=\"data row6 col0\" >92</td>\n",
       "                        <td id=\"T_4a6ba6ee_41a8_11ec_a147_02cba411ec9drow6_col1\" class=\"data row6 col1\" >0.081103%</td>\n",
       "                        <td id=\"T_4a6ba6ee_41a8_11ec_a147_02cba411ec9drow6_col2\" class=\"data row6 col2\" >99.979559733959%</td>\n",
       "            </tr>\n",
       "            <tr>\n",
       "                        <th id=\"T_4a6ba6ee_41a8_11ec_a147_02cba411ec9dlevel0_row7\" class=\"row_heading level0 row7\" >7</th>\n",
       "                        <td id=\"T_4a6ba6ee_41a8_11ec_a147_02cba411ec9drow7_col0\" class=\"data row7 col0\" >125</td>\n",
       "                        <td id=\"T_4a6ba6ee_41a8_11ec_a147_02cba411ec9drow7_col1\" class=\"data row7 col1\" >0.078059%</td>\n",
       "                        <td id=\"T_4a6ba6ee_41a8_11ec_a147_02cba411ec9drow7_col2\" class=\"data row7 col2\" >99.973271035319%</td>\n",
       "            </tr>\n",
       "            <tr>\n",
       "                        <th id=\"T_4a6ba6ee_41a8_11ec_a147_02cba411ec9dlevel0_row8\" class=\"row_heading level0 row8\" >8</th>\n",
       "                        <td id=\"T_4a6ba6ee_41a8_11ec_a147_02cba411ec9drow8_col0\" class=\"data row8 col0\" >152</td>\n",
       "                        <td id=\"T_4a6ba6ee_41a8_11ec_a147_02cba411ec9drow8_col1\" class=\"data row8 col1\" >0.076030%</td>\n",
       "                        <td id=\"T_4a6ba6ee_41a8_11ec_a147_02cba411ec9drow8_col2\" class=\"data row8 col2\" >99.968343358251%</td>\n",
       "            </tr>\n",
       "            <tr>\n",
       "                        <th id=\"T_4a6ba6ee_41a8_11ec_a147_02cba411ec9dlevel0_row9\" class=\"row_heading level0 row9\" >9</th>\n",
       "                        <td id=\"T_4a6ba6ee_41a8_11ec_a147_02cba411ec9drow9_col0\" class=\"data row9 col0\" >182</td>\n",
       "                        <td id=\"T_4a6ba6ee_41a8_11ec_a147_02cba411ec9drow9_col1\" class=\"data row9 col1\" >0.075014%</td>\n",
       "                        <td id=\"T_4a6ba6ee_41a8_11ec_a147_02cba411ec9drow9_col2\" class=\"data row9 col2\" >99.962602879085%</td>\n",
       "            </tr>\n",
       "            <tr>\n",
       "                        <th id=\"T_4a6ba6ee_41a8_11ec_a147_02cba411ec9dlevel0_row10\" class=\"row_heading level0 row10\" >10</th>\n",
       "                        <td id=\"T_4a6ba6ee_41a8_11ec_a147_02cba411ec9drow10_col0\" class=\"data row10 col0\" >212</td>\n",
       "                        <td id=\"T_4a6ba6ee_41a8_11ec_a147_02cba411ec9drow10_col1\" class=\"data row10 col1\" >0.073593%</td>\n",
       "                        <td id=\"T_4a6ba6ee_41a8_11ec_a147_02cba411ec9drow10_col2\" class=\"data row10 col2\" >99.957264937562%</td>\n",
       "            </tr>\n",
       "            <tr>\n",
       "                        <th id=\"T_4a6ba6ee_41a8_11ec_a147_02cba411ec9dlevel0_row11\" class=\"row_heading level0 row11\" >11</th>\n",
       "                        <td id=\"T_4a6ba6ee_41a8_11ec_a147_02cba411ec9drow11_col0\" class=\"data row11 col0\" >243</td>\n",
       "                        <td id=\"T_4a6ba6ee_41a8_11ec_a147_02cba411ec9drow11_col1\" class=\"data row11 col1\" >0.072476%</td>\n",
       "                        <td id=\"T_4a6ba6ee_41a8_11ec_a147_02cba411ec9drow11_col2\" class=\"data row11 col2\" >99.951760814372%</td>\n",
       "            </tr>\n",
       "            <tr>\n",
       "                        <th id=\"T_4a6ba6ee_41a8_11ec_a147_02cba411ec9dlevel0_row12\" class=\"row_heading level0 row12\" >12</th>\n",
       "                        <td id=\"T_4a6ba6ee_41a8_11ec_a147_02cba411ec9drow12_col0\" class=\"data row12 col0\" >273</td>\n",
       "                        <td id=\"T_4a6ba6ee_41a8_11ec_a147_02cba411ec9drow12_col1\" class=\"data row12 col1\" >0.071967%</td>\n",
       "                        <td id=\"T_4a6ba6ee_41a8_11ec_a147_02cba411ec9drow12_col2\" class=\"data row12 col2\" >99.946187308045%</td>\n",
       "            </tr>\n",
       "            <tr>\n",
       "                        <th id=\"T_4a6ba6ee_41a8_11ec_a147_02cba411ec9dlevel0_row13\" class=\"row_heading level0 row13\" >13</th>\n",
       "                        <td id=\"T_4a6ba6ee_41a8_11ec_a147_02cba411ec9drow13_col0\" class=\"data row13 col0\" >306</td>\n",
       "                        <td id=\"T_4a6ba6ee_41a8_11ec_a147_02cba411ec9drow13_col1\" class=\"data row13 col1\" >0.071356%</td>\n",
       "                        <td id=\"T_4a6ba6ee_41a8_11ec_a147_02cba411ec9drow13_col2\" class=\"data row13 col2\" >99.940195787165%</td>\n",
       "            </tr>\n",
       "            <tr>\n",
       "                        <th id=\"T_4a6ba6ee_41a8_11ec_a147_02cba411ec9dlevel0_row14\" class=\"row_heading level0 row14\" >14</th>\n",
       "                        <td id=\"T_4a6ba6ee_41a8_11ec_a147_02cba411ec9drow14_col0\" class=\"data row14 col0\" >335</td>\n",
       "                        <td id=\"T_4a6ba6ee_41a8_11ec_a147_02cba411ec9drow14_col1\" class=\"data row14 col1\" >0.070848%</td>\n",
       "                        <td id=\"T_4a6ba6ee_41a8_11ec_a147_02cba411ec9drow14_col2\" class=\"data row14 col2\" >99.934996446602%</td>\n",
       "            </tr>\n",
       "            <tr>\n",
       "                        <th id=\"T_4a6ba6ee_41a8_11ec_a147_02cba411ec9dlevel0_row15\" class=\"row_heading level0 row15\" >15</th>\n",
       "                        <td id=\"T_4a6ba6ee_41a8_11ec_a147_02cba411ec9drow15_col0\" class=\"data row15 col0\" >365</td>\n",
       "                        <td id=\"T_4a6ba6ee_41a8_11ec_a147_02cba411ec9drow15_col1\" class=\"data row15 col1\" >0.070238%</td>\n",
       "                        <td id=\"T_4a6ba6ee_41a8_11ec_a147_02cba411ec9drow15_col2\" class=\"data row15 col2\" >99.929786882939%</td>\n",
       "            </tr>\n",
       "            <tr>\n",
       "                        <th id=\"T_4a6ba6ee_41a8_11ec_a147_02cba411ec9dlevel0_row16\" class=\"row_heading level0 row16\" >16</th>\n",
       "                        <td id=\"T_4a6ba6ee_41a8_11ec_a147_02cba411ec9drow16_col0\" class=\"data row16 col0\" >547</td>\n",
       "                        <td id=\"T_4a6ba6ee_41a8_11ec_a147_02cba411ec9drow16_col1\" class=\"data row16 col1\" >0.064161%</td>\n",
       "                        <td id=\"T_4a6ba6ee_41a8_11ec_a147_02cba411ec9drow16_col2\" class=\"data row16 col2\" >99.903892814395%</td>\n",
       "            </tr>\n",
       "            <tr>\n",
       "                        <th id=\"T_4a6ba6ee_41a8_11ec_a147_02cba411ec9dlevel0_row17\" class=\"row_heading level0 row17\" >17</th>\n",
       "                        <td id=\"T_4a6ba6ee_41a8_11ec_a147_02cba411ec9drow17_col0\" class=\"data row17 col0\" >730</td>\n",
       "                        <td id=\"T_4a6ba6ee_41a8_11ec_a147_02cba411ec9drow17_col1\" class=\"data row17 col1\" >0.056758%</td>\n",
       "                        <td id=\"T_4a6ba6ee_41a8_11ec_a147_02cba411ec9drow17_col2\" class=\"data row17 col2\" >99.886548725276%</td>\n",
       "            </tr>\n",
       "            <tr>\n",
       "                        <th id=\"T_4a6ba6ee_41a8_11ec_a147_02cba411ec9dlevel0_row18\" class=\"row_heading level0 row18\" >18</th>\n",
       "                        <td id=\"T_4a6ba6ee_41a8_11ec_a147_02cba411ec9drow18_col0\" class=\"data row18 col0\" >1097</td>\n",
       "                        <td id=\"T_4a6ba6ee_41a8_11ec_a147_02cba411ec9drow18_col1\" class=\"data row18 col1\" >0.075010%</td>\n",
       "                        <td id=\"T_4a6ba6ee_41a8_11ec_a147_02cba411ec9drow18_col2\" class=\"data row18 col2\" >99.774813230362%</td>\n",
       "            </tr>\n",
       "            <tr>\n",
       "                        <th id=\"T_4a6ba6ee_41a8_11ec_a147_02cba411ec9dlevel0_row19\" class=\"row_heading level0 row19\" >19</th>\n",
       "                        <td id=\"T_4a6ba6ee_41a8_11ec_a147_02cba411ec9drow19_col0\" class=\"data row19 col0\" >1462</td>\n",
       "                        <td id=\"T_4a6ba6ee_41a8_11ec_a147_02cba411ec9drow19_col1\" class=\"data row19 col1\" >0.125752%</td>\n",
       "                        <td id=\"T_4a6ba6ee_41a8_11ec_a147_02cba411ec9drow19_col2\" class=\"data row19 col2\" >99.497569465319%</td>\n",
       "            </tr>\n",
       "    </tbody></table>"
      ],
      "text/plain": [
       "<pandas.io.formats.style.Styler at 0x7f6e264e2e10>"
      ]
     },
     "execution_count": 56,
     "metadata": {},
     "output_type": "execute_result"
    }
   ],
   "source": [
    "df_curva.head(20).style.format(frmt)"
   ]
  },
  {
   "cell_type": "code",
   "execution_count": 5,
   "metadata": {
    "ExecuteTime": {
     "end_time": "2021-11-09T21:42:09.867902Z",
     "start_time": "2021-11-09T21:42:09.862605Z"
    }
   },
   "outputs": [],
   "source": [
    "zcc = aux.get_curve_from_dataframe(\n",
    "    Qcf.QCAct365(),\n",
    "    Qcf.QCCompoundWf(),\n",
    "    df_curva\n",
    ")"
   ]
  },
  {
   "cell_type": "markdown",
   "metadata": {},
   "source": [
    "Algunos métodos del objeto`zcc`."
   ]
  },
  {
   "cell_type": "code",
   "execution_count": 11,
   "metadata": {
    "ExecuteTime": {
     "end_time": "2021-11-09T21:43:47.312610Z",
     "start_time": "2021-11-09T21:43:47.308223Z"
    }
   },
   "outputs": [
    {
     "name": "stdout",
     "output_type": "stream",
     "text": [
      "Tasa a 900 días es igual a 0.0652%\n",
      "Factor de descuento a 900 días es igual a 99.839384%\n"
     ]
    }
   ],
   "source": [
    "plazo = 900\n",
    "print(f\"Tasa a {plazo} días es igual a {zcc.get_rate_at(plazo):.4%}\")\n",
    "print(f\"Factor de descuento a {plazo} días es igual a {zcc.get_discount_factor_at(plazo):.6%}\")"
   ]
  },
  {
   "cell_type": "markdown",
   "metadata": {},
   "source": [
    "## Pricing"
   ]
  },
  {
   "cell_type": "code",
   "execution_count": 12,
   "metadata": {
    "ExecuteTime": {
     "end_time": "2021-11-09T21:49:03.536192Z",
     "start_time": "2021-11-09T21:49:03.531024Z"
    },
    "code_folding": []
   },
   "outputs": [],
   "source": [
    "get_ois_sofr = partial(\n",
    "    aux.get_ois_using_template,\n",
    "    aux.type_ois_template,\n",
    "    aux.TypeOis.SOFR\n",
    ")"
   ]
  },
  {
   "cell_type": "markdown",
   "metadata": {},
   "source": [
    "### Operación con Plazo Distinto"
   ]
  },
  {
   "cell_type": "code",
   "execution_count": 43,
   "metadata": {
    "ExecuteTime": {
     "end_time": "2021-11-09T21:57:32.745591Z",
     "start_time": "2021-11-09T21:57:32.681258Z"
    }
   },
   "outputs": [
    {
     "data": {
      "text/plain": [
       "(<finrisk.QC_Financial_3.Leg at 0x7f6e26534238>,\n",
       " <finrisk.QC_Financial_3.Leg at 0x7f6e265344a8>)"
      ]
     },
     "execution_count": 43,
     "metadata": {},
     "output_type": "execute_result"
    }
   ],
   "source": [
    "op = get_ois_sofr(\n",
    "    rp=Qcf.RecPay.RECEIVE,\n",
    "    notional=10000000,\n",
    "    start_date=Qcf.QCDate(14, 10, 2020),\n",
    "    tenor=Qcf.Tenor('2Y6M'),\n",
    "    fixed_rate_value=.01,\n",
    "    spread=0.0,\n",
    "    gearing=1.0\n",
    ")\n",
    "op"
   ]
  },
  {
   "cell_type": "code",
   "execution_count": 44,
   "metadata": {
    "ExecuteTime": {
     "end_time": "2021-11-09T21:57:32.874993Z",
     "start_time": "2021-11-09T21:57:32.861346Z"
    }
   },
   "outputs": [
    {
     "data": {
      "text/html": [
       "<style  type=\"text/css\" >\n",
       "</style><table id=\"T_0a88bb84_41a8_11ec_a147_02cba411ec9d\" ><thead>    <tr>        <th class=\"blank level0\" ></th>        <th class=\"col_heading level0 col0\" >fecha_inicial</th>        <th class=\"col_heading level0 col1\" >fecha_final</th>        <th class=\"col_heading level0 col2\" >fecha_pago</th>        <th class=\"col_heading level0 col3\" >nominal</th>        <th class=\"col_heading level0 col4\" >amortizacion</th>        <th class=\"col_heading level0 col5\" >interes</th>        <th class=\"col_heading level0 col6\" >amort_es_flujo</th>        <th class=\"col_heading level0 col7\" >flujo</th>        <th class=\"col_heading level0 col8\" >moneda</th>        <th class=\"col_heading level0 col9\" >valor_tasa</th>        <th class=\"col_heading level0 col10\" >tipo_tasa</th>    </tr></thead><tbody>\n",
       "                <tr>\n",
       "                        <th id=\"T_0a88bb84_41a8_11ec_a147_02cba411ec9dlevel0_row0\" class=\"row_heading level0 row0\" >0</th>\n",
       "                        <td id=\"T_0a88bb84_41a8_11ec_a147_02cba411ec9drow0_col0\" class=\"data row0 col0\" >2020-10-14</td>\n",
       "                        <td id=\"T_0a88bb84_41a8_11ec_a147_02cba411ec9drow0_col1\" class=\"data row0 col1\" >2021-04-14</td>\n",
       "                        <td id=\"T_0a88bb84_41a8_11ec_a147_02cba411ec9drow0_col2\" class=\"data row0 col2\" >2021-04-14</td>\n",
       "                        <td id=\"T_0a88bb84_41a8_11ec_a147_02cba411ec9drow0_col3\" class=\"data row0 col3\" >10,000,000.00</td>\n",
       "                        <td id=\"T_0a88bb84_41a8_11ec_a147_02cba411ec9drow0_col4\" class=\"data row0 col4\" >0.00</td>\n",
       "                        <td id=\"T_0a88bb84_41a8_11ec_a147_02cba411ec9drow0_col5\" class=\"data row0 col5\" >50,555.56</td>\n",
       "                        <td id=\"T_0a88bb84_41a8_11ec_a147_02cba411ec9drow0_col6\" class=\"data row0 col6\" >True</td>\n",
       "                        <td id=\"T_0a88bb84_41a8_11ec_a147_02cba411ec9drow0_col7\" class=\"data row0 col7\" >50,555.56</td>\n",
       "                        <td id=\"T_0a88bb84_41a8_11ec_a147_02cba411ec9drow0_col8\" class=\"data row0 col8\" >USD</td>\n",
       "                        <td id=\"T_0a88bb84_41a8_11ec_a147_02cba411ec9drow0_col9\" class=\"data row0 col9\" >1.0000%</td>\n",
       "                        <td id=\"T_0a88bb84_41a8_11ec_a147_02cba411ec9drow0_col10\" class=\"data row0 col10\" >LinAct360</td>\n",
       "            </tr>\n",
       "            <tr>\n",
       "                        <th id=\"T_0a88bb84_41a8_11ec_a147_02cba411ec9dlevel0_row1\" class=\"row_heading level0 row1\" >1</th>\n",
       "                        <td id=\"T_0a88bb84_41a8_11ec_a147_02cba411ec9drow1_col0\" class=\"data row1 col0\" >2021-04-14</td>\n",
       "                        <td id=\"T_0a88bb84_41a8_11ec_a147_02cba411ec9drow1_col1\" class=\"data row1 col1\" >2022-04-14</td>\n",
       "                        <td id=\"T_0a88bb84_41a8_11ec_a147_02cba411ec9drow1_col2\" class=\"data row1 col2\" >2022-04-14</td>\n",
       "                        <td id=\"T_0a88bb84_41a8_11ec_a147_02cba411ec9drow1_col3\" class=\"data row1 col3\" >10,000,000.00</td>\n",
       "                        <td id=\"T_0a88bb84_41a8_11ec_a147_02cba411ec9drow1_col4\" class=\"data row1 col4\" >0.00</td>\n",
       "                        <td id=\"T_0a88bb84_41a8_11ec_a147_02cba411ec9drow1_col5\" class=\"data row1 col5\" >101,388.89</td>\n",
       "                        <td id=\"T_0a88bb84_41a8_11ec_a147_02cba411ec9drow1_col6\" class=\"data row1 col6\" >True</td>\n",
       "                        <td id=\"T_0a88bb84_41a8_11ec_a147_02cba411ec9drow1_col7\" class=\"data row1 col7\" >101,388.89</td>\n",
       "                        <td id=\"T_0a88bb84_41a8_11ec_a147_02cba411ec9drow1_col8\" class=\"data row1 col8\" >USD</td>\n",
       "                        <td id=\"T_0a88bb84_41a8_11ec_a147_02cba411ec9drow1_col9\" class=\"data row1 col9\" >1.0000%</td>\n",
       "                        <td id=\"T_0a88bb84_41a8_11ec_a147_02cba411ec9drow1_col10\" class=\"data row1 col10\" >LinAct360</td>\n",
       "            </tr>\n",
       "            <tr>\n",
       "                        <th id=\"T_0a88bb84_41a8_11ec_a147_02cba411ec9dlevel0_row2\" class=\"row_heading level0 row2\" >2</th>\n",
       "                        <td id=\"T_0a88bb84_41a8_11ec_a147_02cba411ec9drow2_col0\" class=\"data row2 col0\" >2022-04-14</td>\n",
       "                        <td id=\"T_0a88bb84_41a8_11ec_a147_02cba411ec9drow2_col1\" class=\"data row2 col1\" >2023-04-14</td>\n",
       "                        <td id=\"T_0a88bb84_41a8_11ec_a147_02cba411ec9drow2_col2\" class=\"data row2 col2\" >2023-04-14</td>\n",
       "                        <td id=\"T_0a88bb84_41a8_11ec_a147_02cba411ec9drow2_col3\" class=\"data row2 col3\" >10,000,000.00</td>\n",
       "                        <td id=\"T_0a88bb84_41a8_11ec_a147_02cba411ec9drow2_col4\" class=\"data row2 col4\" >10,000,000.00</td>\n",
       "                        <td id=\"T_0a88bb84_41a8_11ec_a147_02cba411ec9drow2_col5\" class=\"data row2 col5\" >101,388.89</td>\n",
       "                        <td id=\"T_0a88bb84_41a8_11ec_a147_02cba411ec9drow2_col6\" class=\"data row2 col6\" >True</td>\n",
       "                        <td id=\"T_0a88bb84_41a8_11ec_a147_02cba411ec9drow2_col7\" class=\"data row2 col7\" >10,101,388.89</td>\n",
       "                        <td id=\"T_0a88bb84_41a8_11ec_a147_02cba411ec9drow2_col8\" class=\"data row2 col8\" >USD</td>\n",
       "                        <td id=\"T_0a88bb84_41a8_11ec_a147_02cba411ec9drow2_col9\" class=\"data row2 col9\" >1.0000%</td>\n",
       "                        <td id=\"T_0a88bb84_41a8_11ec_a147_02cba411ec9drow2_col10\" class=\"data row2 col10\" >LinAct360</td>\n",
       "            </tr>\n",
       "    </tbody></table>"
      ],
      "text/plain": [
       "<pandas.io.formats.style.Styler at 0x7f6e2652c048>"
      ]
     },
     "execution_count": 44,
     "metadata": {},
     "output_type": "execute_result"
    }
   ],
   "source": [
    "aux.show_leg(op[0], 'FixedRateCashflow', '').style.format(frmt)"
   ]
  },
  {
   "cell_type": "code",
   "execution_count": 45,
   "metadata": {
    "ExecuteTime": {
     "end_time": "2021-11-09T21:57:33.073995Z",
     "start_time": "2021-11-09T21:57:33.059670Z"
    }
   },
   "outputs": [
    {
     "data": {
      "text/html": [
       "<style  type=\"text/css\" >\n",
       "</style><table id=\"T_0a88bb85_41a8_11ec_a147_02cba411ec9d\" ><thead>    <tr>        <th class=\"blank level0\" ></th>        <th class=\"col_heading level0 col0\" >fecha_inicial</th>        <th class=\"col_heading level0 col1\" >fecha_final</th>        <th class=\"col_heading level0 col2\" >fecha_pago</th>        <th class=\"col_heading level0 col3\" >nominal</th>        <th class=\"col_heading level0 col4\" >amortizacion</th>        <th class=\"col_heading level0 col5\" >amort_es_flujo</th>        <th class=\"col_heading level0 col6\" >flujo</th>        <th class=\"col_heading level0 col7\" >moneda</th>        <th class=\"col_heading level0 col8\" >icp_inicial</th>        <th class=\"col_heading level0 col9\" >icp_final</th>        <th class=\"col_heading level0 col10\" >valor_tasa</th>        <th class=\"col_heading level0 col11\" >interes</th>        <th class=\"col_heading level0 col12\" >spread</th>        <th class=\"col_heading level0 col13\" >gearing</th>        <th class=\"col_heading level0 col14\" >tipo_tasa</th>    </tr></thead><tbody>\n",
       "                <tr>\n",
       "                        <th id=\"T_0a88bb85_41a8_11ec_a147_02cba411ec9dlevel0_row0\" class=\"row_heading level0 row0\" >0</th>\n",
       "                        <td id=\"T_0a88bb85_41a8_11ec_a147_02cba411ec9drow0_col0\" class=\"data row0 col0\" >2020-10-14</td>\n",
       "                        <td id=\"T_0a88bb85_41a8_11ec_a147_02cba411ec9drow0_col1\" class=\"data row0 col1\" >2021-04-14</td>\n",
       "                        <td id=\"T_0a88bb85_41a8_11ec_a147_02cba411ec9drow0_col2\" class=\"data row0 col2\" >2021-04-14</td>\n",
       "                        <td id=\"T_0a88bb85_41a8_11ec_a147_02cba411ec9drow0_col3\" class=\"data row0 col3\" >-10,000,000.00</td>\n",
       "                        <td id=\"T_0a88bb85_41a8_11ec_a147_02cba411ec9drow0_col4\" class=\"data row0 col4\" >0.00</td>\n",
       "                        <td id=\"T_0a88bb85_41a8_11ec_a147_02cba411ec9drow0_col5\" class=\"data row0 col5\" >True</td>\n",
       "                        <td id=\"T_0a88bb85_41a8_11ec_a147_02cba411ec9drow0_col6\" class=\"data row0 col6\" >0.00</td>\n",
       "                        <td id=\"T_0a88bb85_41a8_11ec_a147_02cba411ec9drow0_col7\" class=\"data row0 col7\" >CLP</td>\n",
       "                        <td id=\"T_0a88bb85_41a8_11ec_a147_02cba411ec9drow0_col8\" class=\"data row0 col8\" >1.000000</td>\n",
       "                        <td id=\"T_0a88bb85_41a8_11ec_a147_02cba411ec9drow0_col9\" class=\"data row0 col9\" >1.000000</td>\n",
       "                        <td id=\"T_0a88bb85_41a8_11ec_a147_02cba411ec9drow0_col10\" class=\"data row0 col10\" >0.0000%</td>\n",
       "                        <td id=\"T_0a88bb85_41a8_11ec_a147_02cba411ec9drow0_col11\" class=\"data row0 col11\" >-0.00</td>\n",
       "                        <td id=\"T_0a88bb85_41a8_11ec_a147_02cba411ec9drow0_col12\" class=\"data row0 col12\" >0.0000%</td>\n",
       "                        <td id=\"T_0a88bb85_41a8_11ec_a147_02cba411ec9drow0_col13\" class=\"data row0 col13\" >1.000000</td>\n",
       "                        <td id=\"T_0a88bb85_41a8_11ec_a147_02cba411ec9drow0_col14\" class=\"data row0 col14\" >LinAct360</td>\n",
       "            </tr>\n",
       "            <tr>\n",
       "                        <th id=\"T_0a88bb85_41a8_11ec_a147_02cba411ec9dlevel0_row1\" class=\"row_heading level0 row1\" >1</th>\n",
       "                        <td id=\"T_0a88bb85_41a8_11ec_a147_02cba411ec9drow1_col0\" class=\"data row1 col0\" >2021-04-14</td>\n",
       "                        <td id=\"T_0a88bb85_41a8_11ec_a147_02cba411ec9drow1_col1\" class=\"data row1 col1\" >2022-04-14</td>\n",
       "                        <td id=\"T_0a88bb85_41a8_11ec_a147_02cba411ec9drow1_col2\" class=\"data row1 col2\" >2022-04-14</td>\n",
       "                        <td id=\"T_0a88bb85_41a8_11ec_a147_02cba411ec9drow1_col3\" class=\"data row1 col3\" >-10,000,000.00</td>\n",
       "                        <td id=\"T_0a88bb85_41a8_11ec_a147_02cba411ec9drow1_col4\" class=\"data row1 col4\" >0.00</td>\n",
       "                        <td id=\"T_0a88bb85_41a8_11ec_a147_02cba411ec9drow1_col5\" class=\"data row1 col5\" >True</td>\n",
       "                        <td id=\"T_0a88bb85_41a8_11ec_a147_02cba411ec9drow1_col6\" class=\"data row1 col6\" >0.00</td>\n",
       "                        <td id=\"T_0a88bb85_41a8_11ec_a147_02cba411ec9drow1_col7\" class=\"data row1 col7\" >CLP</td>\n",
       "                        <td id=\"T_0a88bb85_41a8_11ec_a147_02cba411ec9drow1_col8\" class=\"data row1 col8\" >1.000000</td>\n",
       "                        <td id=\"T_0a88bb85_41a8_11ec_a147_02cba411ec9drow1_col9\" class=\"data row1 col9\" >1.000000</td>\n",
       "                        <td id=\"T_0a88bb85_41a8_11ec_a147_02cba411ec9drow1_col10\" class=\"data row1 col10\" >0.0000%</td>\n",
       "                        <td id=\"T_0a88bb85_41a8_11ec_a147_02cba411ec9drow1_col11\" class=\"data row1 col11\" >-0.00</td>\n",
       "                        <td id=\"T_0a88bb85_41a8_11ec_a147_02cba411ec9drow1_col12\" class=\"data row1 col12\" >0.0000%</td>\n",
       "                        <td id=\"T_0a88bb85_41a8_11ec_a147_02cba411ec9drow1_col13\" class=\"data row1 col13\" >1.000000</td>\n",
       "                        <td id=\"T_0a88bb85_41a8_11ec_a147_02cba411ec9drow1_col14\" class=\"data row1 col14\" >LinAct360</td>\n",
       "            </tr>\n",
       "            <tr>\n",
       "                        <th id=\"T_0a88bb85_41a8_11ec_a147_02cba411ec9dlevel0_row2\" class=\"row_heading level0 row2\" >2</th>\n",
       "                        <td id=\"T_0a88bb85_41a8_11ec_a147_02cba411ec9drow2_col0\" class=\"data row2 col0\" >2022-04-14</td>\n",
       "                        <td id=\"T_0a88bb85_41a8_11ec_a147_02cba411ec9drow2_col1\" class=\"data row2 col1\" >2023-04-14</td>\n",
       "                        <td id=\"T_0a88bb85_41a8_11ec_a147_02cba411ec9drow2_col2\" class=\"data row2 col2\" >2023-04-14</td>\n",
       "                        <td id=\"T_0a88bb85_41a8_11ec_a147_02cba411ec9drow2_col3\" class=\"data row2 col3\" >-10,000,000.00</td>\n",
       "                        <td id=\"T_0a88bb85_41a8_11ec_a147_02cba411ec9drow2_col4\" class=\"data row2 col4\" >-10,000,000.00</td>\n",
       "                        <td id=\"T_0a88bb85_41a8_11ec_a147_02cba411ec9drow2_col5\" class=\"data row2 col5\" >True</td>\n",
       "                        <td id=\"T_0a88bb85_41a8_11ec_a147_02cba411ec9drow2_col6\" class=\"data row2 col6\" >-10,000,000.00</td>\n",
       "                        <td id=\"T_0a88bb85_41a8_11ec_a147_02cba411ec9drow2_col7\" class=\"data row2 col7\" >CLP</td>\n",
       "                        <td id=\"T_0a88bb85_41a8_11ec_a147_02cba411ec9drow2_col8\" class=\"data row2 col8\" >1.000000</td>\n",
       "                        <td id=\"T_0a88bb85_41a8_11ec_a147_02cba411ec9drow2_col9\" class=\"data row2 col9\" >1.000000</td>\n",
       "                        <td id=\"T_0a88bb85_41a8_11ec_a147_02cba411ec9drow2_col10\" class=\"data row2 col10\" >0.0000%</td>\n",
       "                        <td id=\"T_0a88bb85_41a8_11ec_a147_02cba411ec9drow2_col11\" class=\"data row2 col11\" >-0.00</td>\n",
       "                        <td id=\"T_0a88bb85_41a8_11ec_a147_02cba411ec9drow2_col12\" class=\"data row2 col12\" >0.0000%</td>\n",
       "                        <td id=\"T_0a88bb85_41a8_11ec_a147_02cba411ec9drow2_col13\" class=\"data row2 col13\" >1.000000</td>\n",
       "                        <td id=\"T_0a88bb85_41a8_11ec_a147_02cba411ec9drow2_col14\" class=\"data row2 col14\" >LinAct360</td>\n",
       "            </tr>\n",
       "    </tbody></table>"
      ],
      "text/plain": [
       "<pandas.io.formats.style.Styler at 0x7f6e2655f390>"
      ]
     },
     "execution_count": 45,
     "metadata": {},
     "output_type": "execute_result"
    }
   ],
   "source": [
    "aux.show_leg(op[1], 'IcpClpCashflow', '').style.format(frmt)"
   ]
  },
  {
   "cell_type": "markdown",
   "metadata": {},
   "source": [
    "#### Valor Presente Pata Fija"
   ]
  },
  {
   "cell_type": "code",
   "execution_count": 46,
   "metadata": {
    "ExecuteTime": {
     "end_time": "2021-11-09T21:57:33.573116Z",
     "start_time": "2021-11-09T21:57:33.569032Z"
    }
   },
   "outputs": [],
   "source": [
    "vp = Qcf.PresentValue()"
   ]
  },
  {
   "cell_type": "code",
   "execution_count": 47,
   "metadata": {
    "ExecuteTime": {
     "end_time": "2021-11-09T21:57:34.855153Z",
     "start_time": "2021-11-09T21:57:34.851651Z"
    }
   },
   "outputs": [],
   "source": [
    "fecha_val = Qcf.QCDate(14, 10, 2020)"
   ]
  },
  {
   "cell_type": "code",
   "execution_count": 48,
   "metadata": {
    "ExecuteTime": {
     "end_time": "2021-11-09T21:57:35.060567Z",
     "start_time": "2021-11-09T21:57:35.055218Z"
    }
   },
   "outputs": [
    {
     "name": "stdout",
     "output_type": "stream",
     "text": [
      "El valor presente de la pata fija es: USD 10,236,626.11\n"
     ]
    }
   ],
   "source": [
    "vp_fija = vp.pv(fecha_val, op[0], zcc)\n",
    "print(f'El valor presente de la pata fija es: USD {vp_fija:,.2f}')"
   ]
  },
  {
   "cell_type": "markdown",
   "metadata": {},
   "source": [
    "#### Valor Presente Pata Flotante"
   ]
  },
  {
   "cell_type": "code",
   "execution_count": 49,
   "metadata": {
    "ExecuteTime": {
     "end_time": "2021-11-09T21:57:35.467314Z",
     "start_time": "2021-11-09T21:57:35.462817Z"
    }
   },
   "outputs": [],
   "source": [
    "fwd = Qcf.ForwardRates()"
   ]
  },
  {
   "cell_type": "code",
   "execution_count": 50,
   "metadata": {
    "ExecuteTime": {
     "end_time": "2021-11-09T21:57:35.680944Z",
     "start_time": "2021-11-09T21:57:35.677028Z"
    }
   },
   "outputs": [],
   "source": [
    "fwd.set_rates_icp_clp_leg(fecha_val, 1.0, op[1], zcc)"
   ]
  },
  {
   "cell_type": "code",
   "execution_count": 51,
   "metadata": {
    "ExecuteTime": {
     "end_time": "2021-11-09T21:57:35.936187Z",
     "start_time": "2021-11-09T21:57:35.921970Z"
    }
   },
   "outputs": [
    {
     "data": {
      "text/html": [
       "<style  type=\"text/css\" >\n",
       "</style><table id=\"T_0c5ba62e_41a8_11ec_a147_02cba411ec9d\" ><thead>    <tr>        <th class=\"blank level0\" ></th>        <th class=\"col_heading level0 col0\" >fecha_inicial</th>        <th class=\"col_heading level0 col1\" >fecha_final</th>        <th class=\"col_heading level0 col2\" >fecha_pago</th>        <th class=\"col_heading level0 col3\" >nominal</th>        <th class=\"col_heading level0 col4\" >amortizacion</th>        <th class=\"col_heading level0 col5\" >amort_es_flujo</th>        <th class=\"col_heading level0 col6\" >flujo</th>        <th class=\"col_heading level0 col7\" >moneda</th>        <th class=\"col_heading level0 col8\" >icp_inicial</th>        <th class=\"col_heading level0 col9\" >icp_final</th>        <th class=\"col_heading level0 col10\" >valor_tasa</th>        <th class=\"col_heading level0 col11\" >interes</th>        <th class=\"col_heading level0 col12\" >spread</th>        <th class=\"col_heading level0 col13\" >gearing</th>        <th class=\"col_heading level0 col14\" >tipo_tasa</th>    </tr></thead><tbody>\n",
       "                <tr>\n",
       "                        <th id=\"T_0c5ba62e_41a8_11ec_a147_02cba411ec9dlevel0_row0\" class=\"row_heading level0 row0\" >0</th>\n",
       "                        <td id=\"T_0c5ba62e_41a8_11ec_a147_02cba411ec9drow0_col0\" class=\"data row0 col0\" >2020-10-14</td>\n",
       "                        <td id=\"T_0c5ba62e_41a8_11ec_a147_02cba411ec9drow0_col1\" class=\"data row0 col1\" >2021-04-14</td>\n",
       "                        <td id=\"T_0c5ba62e_41a8_11ec_a147_02cba411ec9drow0_col2\" class=\"data row0 col2\" >2021-04-14</td>\n",
       "                        <td id=\"T_0c5ba62e_41a8_11ec_a147_02cba411ec9drow0_col3\" class=\"data row0 col3\" >-10,000,000.00</td>\n",
       "                        <td id=\"T_0c5ba62e_41a8_11ec_a147_02cba411ec9drow0_col4\" class=\"data row0 col4\" >0.00</td>\n",
       "                        <td id=\"T_0c5ba62e_41a8_11ec_a147_02cba411ec9drow0_col5\" class=\"data row0 col5\" >True</td>\n",
       "                        <td id=\"T_0c5ba62e_41a8_11ec_a147_02cba411ec9drow0_col6\" class=\"data row0 col6\" >-3,739.71</td>\n",
       "                        <td id=\"T_0c5ba62e_41a8_11ec_a147_02cba411ec9drow0_col7\" class=\"data row0 col7\" >CLP</td>\n",
       "                        <td id=\"T_0c5ba62e_41a8_11ec_a147_02cba411ec9drow0_col8\" class=\"data row0 col8\" >1.000000</td>\n",
       "                        <td id=\"T_0c5ba62e_41a8_11ec_a147_02cba411ec9drow0_col9\" class=\"data row0 col9\" >1.000374</td>\n",
       "                        <td id=\"T_0c5ba62e_41a8_11ec_a147_02cba411ec9drow0_col10\" class=\"data row0 col10\" >0.0700%</td>\n",
       "                        <td id=\"T_0c5ba62e_41a8_11ec_a147_02cba411ec9drow0_col11\" class=\"data row0 col11\" >-3,538.89</td>\n",
       "                        <td id=\"T_0c5ba62e_41a8_11ec_a147_02cba411ec9drow0_col12\" class=\"data row0 col12\" >0.0000%</td>\n",
       "                        <td id=\"T_0c5ba62e_41a8_11ec_a147_02cba411ec9drow0_col13\" class=\"data row0 col13\" >1.000000</td>\n",
       "                        <td id=\"T_0c5ba62e_41a8_11ec_a147_02cba411ec9drow0_col14\" class=\"data row0 col14\" >LinAct360</td>\n",
       "            </tr>\n",
       "            <tr>\n",
       "                        <th id=\"T_0c5ba62e_41a8_11ec_a147_02cba411ec9dlevel0_row1\" class=\"row_heading level0 row1\" >1</th>\n",
       "                        <td id=\"T_0c5ba62e_41a8_11ec_a147_02cba411ec9drow1_col0\" class=\"data row1 col0\" >2021-04-14</td>\n",
       "                        <td id=\"T_0c5ba62e_41a8_11ec_a147_02cba411ec9drow1_col1\" class=\"data row1 col1\" >2022-04-14</td>\n",
       "                        <td id=\"T_0c5ba62e_41a8_11ec_a147_02cba411ec9drow1_col2\" class=\"data row1 col2\" >2022-04-14</td>\n",
       "                        <td id=\"T_0c5ba62e_41a8_11ec_a147_02cba411ec9drow1_col3\" class=\"data row1 col3\" >-10,000,000.00</td>\n",
       "                        <td id=\"T_0c5ba62e_41a8_11ec_a147_02cba411ec9drow1_col4\" class=\"data row1 col4\" >0.00</td>\n",
       "                        <td id=\"T_0c5ba62e_41a8_11ec_a147_02cba411ec9drow1_col5\" class=\"data row1 col5\" >True</td>\n",
       "                        <td id=\"T_0c5ba62e_41a8_11ec_a147_02cba411ec9drow1_col6\" class=\"data row1 col6\" >-5,874.97</td>\n",
       "                        <td id=\"T_0c5ba62e_41a8_11ec_a147_02cba411ec9drow1_col7\" class=\"data row1 col7\" >CLP</td>\n",
       "                        <td id=\"T_0c5ba62e_41a8_11ec_a147_02cba411ec9drow1_col8\" class=\"data row1 col8\" >1.000374</td>\n",
       "                        <td id=\"T_0c5ba62e_41a8_11ec_a147_02cba411ec9drow1_col9\" class=\"data row1 col9\" >1.000962</td>\n",
       "                        <td id=\"T_0c5ba62e_41a8_11ec_a147_02cba411ec9drow1_col10\" class=\"data row1 col10\" >0.0600%</td>\n",
       "                        <td id=\"T_0c5ba62e_41a8_11ec_a147_02cba411ec9drow1_col11\" class=\"data row1 col11\" >-6,083.33</td>\n",
       "                        <td id=\"T_0c5ba62e_41a8_11ec_a147_02cba411ec9drow1_col12\" class=\"data row1 col12\" >0.0000%</td>\n",
       "                        <td id=\"T_0c5ba62e_41a8_11ec_a147_02cba411ec9drow1_col13\" class=\"data row1 col13\" >1.000000</td>\n",
       "                        <td id=\"T_0c5ba62e_41a8_11ec_a147_02cba411ec9drow1_col14\" class=\"data row1 col14\" >LinAct360</td>\n",
       "            </tr>\n",
       "            <tr>\n",
       "                        <th id=\"T_0c5ba62e_41a8_11ec_a147_02cba411ec9dlevel0_row2\" class=\"row_heading level0 row2\" >2</th>\n",
       "                        <td id=\"T_0c5ba62e_41a8_11ec_a147_02cba411ec9drow2_col0\" class=\"data row2 col0\" >2022-04-14</td>\n",
       "                        <td id=\"T_0c5ba62e_41a8_11ec_a147_02cba411ec9drow2_col1\" class=\"data row2 col1\" >2023-04-14</td>\n",
       "                        <td id=\"T_0c5ba62e_41a8_11ec_a147_02cba411ec9drow2_col2\" class=\"data row2 col2\" >2023-04-14</td>\n",
       "                        <td id=\"T_0c5ba62e_41a8_11ec_a147_02cba411ec9drow2_col3\" class=\"data row2 col3\" >-10,000,000.00</td>\n",
       "                        <td id=\"T_0c5ba62e_41a8_11ec_a147_02cba411ec9drow2_col4\" class=\"data row2 col4\" >-10,000,000.00</td>\n",
       "                        <td id=\"T_0c5ba62e_41a8_11ec_a147_02cba411ec9drow2_col5\" class=\"data row2 col5\" >True</td>\n",
       "                        <td id=\"T_0c5ba62e_41a8_11ec_a147_02cba411ec9drow2_col6\" class=\"data row2 col6\" >-10,006,827.97</td>\n",
       "                        <td id=\"T_0c5ba62e_41a8_11ec_a147_02cba411ec9drow2_col7\" class=\"data row2 col7\" >CLP</td>\n",
       "                        <td id=\"T_0c5ba62e_41a8_11ec_a147_02cba411ec9drow2_col8\" class=\"data row2 col8\" >1.000962</td>\n",
       "                        <td id=\"T_0c5ba62e_41a8_11ec_a147_02cba411ec9drow2_col9\" class=\"data row2 col9\" >1.001645</td>\n",
       "                        <td id=\"T_0c5ba62e_41a8_11ec_a147_02cba411ec9drow2_col10\" class=\"data row2 col10\" >0.0700%</td>\n",
       "                        <td id=\"T_0c5ba62e_41a8_11ec_a147_02cba411ec9drow2_col11\" class=\"data row2 col11\" >-7,097.22</td>\n",
       "                        <td id=\"T_0c5ba62e_41a8_11ec_a147_02cba411ec9drow2_col12\" class=\"data row2 col12\" >0.0000%</td>\n",
       "                        <td id=\"T_0c5ba62e_41a8_11ec_a147_02cba411ec9drow2_col13\" class=\"data row2 col13\" >1.000000</td>\n",
       "                        <td id=\"T_0c5ba62e_41a8_11ec_a147_02cba411ec9drow2_col14\" class=\"data row2 col14\" >LinAct360</td>\n",
       "            </tr>\n",
       "    </tbody></table>"
      ],
      "text/plain": [
       "<pandas.io.formats.style.Styler at 0x7f6e2652ccc0>"
      ]
     },
     "execution_count": 51,
     "metadata": {},
     "output_type": "execute_result"
    }
   ],
   "source": [
    "aux.show_leg(op[1], 'IcpClpCashflow', '').style.format(frmt)"
   ]
  },
  {
   "cell_type": "code",
   "execution_count": 52,
   "metadata": {
    "ExecuteTime": {
     "end_time": "2021-11-09T21:57:36.163566Z",
     "start_time": "2021-11-09T21:57:36.158809Z"
    }
   },
   "outputs": [
    {
     "name": "stdout",
     "output_type": "stream",
     "text": [
      "El valor presente de la pata flotante es: USD -10,000,000.00\n"
     ]
    }
   ],
   "source": [
    "vp_flot = vp.pv(fecha_val, op[1], zcc)\n",
    "print(f'El valor presente de la pata flotante es: USD {vp_flot:,.2f}')"
   ]
  },
  {
   "cell_type": "code",
   "execution_count": 53,
   "metadata": {
    "ExecuteTime": {
     "end_time": "2021-11-09T21:57:39.331506Z",
     "start_time": "2021-11-09T21:57:39.326845Z"
    },
    "hide_input": false
   },
   "outputs": [
    {
     "name": "stdout",
     "output_type": "stream",
     "text": [
      "Por lo tanto, el valor total de la operación es:\n",
      "Valor total: USD 236,626.11\n"
     ]
    }
   ],
   "source": [
    "print(f'Por lo tanto, el valor total de la operación es:\\nValor total: USD {vp_fija + vp_flot:,.2f}')"
   ]
  },
  {
   "cell_type": "markdown",
   "metadata": {},
   "source": [
    "Ecuación a resolver"
   ]
  },
  {
   "cell_type": "markdown",
   "metadata": {},
   "source": [
    "$$\n",
    "nominal=c_{1Y}\\cdot df_{1Y}+c_{2Y}\\cdot df_{2Y}\n",
    "$$\n",
    "\n",
    "$$\n",
    "nominal = \\left[r\\cdot yf_1 \\cdot df_{1Y}+ \\left(1+r\\cdot yf_2\\right) \\cdot df_{2Y}\\right]\\cdot nominal\n",
    "$$"
   ]
  },
  {
   "cell_type": "markdown",
   "metadata": {},
   "source": [
    "$$\n",
    "\\frac{1 - df_{1Y}}{\\cdot\\left(yf_1\\cdot df_{1Y}+yf_2\\cdot df_{2Y}\\right)}=r\n",
    "$$"
   ]
  },
  {
   "cell_type": "markdown",
   "metadata": {
    "solution2": "shown",
    "solution2_first": true
   },
   "source": [
    "#### Ejercicio\n",
    "\n",
    "Haga el *pricing* de la operación: determine qué tasa fija hace que el valor total de la operación sea 0."
   ]
  },
  {
   "cell_type": "code",
   "execution_count": 57,
   "metadata": {
    "ExecuteTime": {
     "end_time": "2021-11-09T22:11:40.167452Z",
     "start_time": "2021-11-09T22:11:40.160664Z"
    },
    "solution2": "shown"
   },
   "outputs": [],
   "source": [
    "get_ois_sofr_solo_tasa = partial(\n",
    "    aux.get_ois_using_template,\n",
    "    template=aux.type_ois_template,\n",
    "    rp=Qcf.RecPay.RECEIVE,\n",
    "    type_ois=aux.TypeOis.SOFR,\n",
    "    notional=10000000,\n",
    "    start_date=Qcf.QCDate(14, 10, 2020),\n",
    "    tenor=Qcf.Tenor('2Y6M'),\n",
    "    spread=0.0,\n",
    "    gearing=1.0\n",
    ")"
   ]
  },
  {
   "cell_type": "code",
   "execution_count": 58,
   "metadata": {
    "ExecuteTime": {
     "end_time": "2021-11-09T22:11:48.904404Z",
     "start_time": "2021-11-09T22:11:48.843245Z"
    },
    "solution2": "shown"
   },
   "outputs": [
    {
     "data": {
      "text/plain": [
       "(<finrisk.QC_Financial_3.Leg at 0x7f6e264ed510>,\n",
       " <finrisk.QC_Financial_3.Leg at 0x7f6e264ed100>)"
      ]
     },
     "execution_count": 58,
     "metadata": {},
     "output_type": "execute_result"
    }
   ],
   "source": [
    "get_ois_sofr_solo_tasa(fixed_rate_value=0.0)"
   ]
  },
  {
   "cell_type": "code",
   "execution_count": 59,
   "metadata": {
    "ExecuteTime": {
     "end_time": "2021-11-09T22:13:11.152840Z",
     "start_time": "2021-11-09T22:13:11.148375Z"
    },
    "solution2": "shown"
   },
   "outputs": [],
   "source": [
    "def error(fixed_rate_value: float) -> float:\n",
    "    this_op = get_ois_sofr_solo_tasa(fixed_rate_value=fixed_rate_value)\n",
    "    err = vp.pv(fecha_val, this_op[0], zcc) - 10000000\n",
    "    return err"
   ]
  },
  {
   "cell_type": "code",
   "execution_count": 60,
   "metadata": {
    "ExecuteTime": {
     "end_time": "2021-11-09T22:13:16.946178Z",
     "start_time": "2021-11-09T22:13:16.886134Z"
    },
    "solution2": "shown"
   },
   "outputs": [
    {
     "name": "stdout",
     "output_type": "stream",
     "text": [
      "Error: 236,626.11\n"
     ]
    }
   ],
   "source": [
    "tasa = .01\n",
    "print(f'Error: {error(tasa):,.2f}')"
   ]
  },
  {
   "cell_type": "code",
   "execution_count": 64,
   "metadata": {
    "ExecuteTime": {
     "end_time": "2021-11-09T22:17:55.322846Z",
     "start_time": "2021-11-09T22:17:52.267759Z"
    },
    "solution2": "shown"
   },
   "outputs": [],
   "source": [
    "x = root_scalar(\n",
    "        error,\n",
    "        method='bisect',\n",
    "        bracket=[0.0, .02],\n",
    "        x0=.01,\n",
    "        xtol=.00000000000000001\n",
    ")"
   ]
  },
  {
   "cell_type": "code",
   "execution_count": 67,
   "metadata": {
    "ExecuteTime": {
     "end_time": "2021-11-09T22:18:30.186830Z",
     "start_time": "2021-11-09T22:18:30.183302Z"
    },
    "solution2": "shown"
   },
   "outputs": [
    {
     "name": "stdout",
     "output_type": "stream",
     "text": [
      "Tasa fija es: 0.06490559%\n"
     ]
    }
   ],
   "source": [
    "print(f'Tasa fija es: {x.root:.8%}')"
   ]
  },
  {
   "cell_type": "markdown",
   "metadata": {},
   "source": [
    "Dejo a ustedes comprobar la solución."
   ]
  },
  {
   "cell_type": "markdown",
   "metadata": {},
   "source": [
    "### Operación con Amortizaciones"
   ]
  },
  {
   "cell_type": "code",
   "execution_count": 68,
   "metadata": {
    "ExecuteTime": {
     "end_time": "2021-11-09T22:21:37.533388Z",
     "start_time": "2021-11-09T22:21:37.427478Z"
    }
   },
   "outputs": [
    {
     "data": {
      "text/plain": [
       "(<finrisk.QC_Financial_3.Leg at 0x7f6e26479cc8>,\n",
       " <finrisk.QC_Financial_3.Leg at 0x7f6e26479c60>)"
      ]
     },
     "execution_count": 68,
     "metadata": {},
     "output_type": "execute_result"
    }
   ],
   "source": [
    "op2 = get_ois_sofr(\n",
    "    rp=Qcf.RecPay.RECEIVE,\n",
    "    notional=10000000,\n",
    "    start_date=Qcf.QCDate(14, 10, 2020),\n",
    "    tenor=Qcf.Tenor('4Y'),\n",
    "    fixed_rate_value=.01,\n",
    "    spread=0.0,\n",
    "    gearing=1.0\n",
    ")\n",
    "op2"
   ]
  },
  {
   "cell_type": "code",
   "execution_count": 69,
   "metadata": {
    "ExecuteTime": {
     "end_time": "2021-11-09T22:21:41.536492Z",
     "start_time": "2021-11-09T22:21:41.524492Z"
    }
   },
   "outputs": [
    {
     "data": {
      "text/html": [
       "<style  type=\"text/css\" >\n",
       "</style><table id=\"T_6a00fcc2_41ab_11ec_a147_02cba411ec9d\" ><thead>    <tr>        <th class=\"blank level0\" ></th>        <th class=\"col_heading level0 col0\" >fecha_inicial</th>        <th class=\"col_heading level0 col1\" >fecha_final</th>        <th class=\"col_heading level0 col2\" >fecha_pago</th>        <th class=\"col_heading level0 col3\" >nominal</th>        <th class=\"col_heading level0 col4\" >amortizacion</th>        <th class=\"col_heading level0 col5\" >interes</th>        <th class=\"col_heading level0 col6\" >amort_es_flujo</th>        <th class=\"col_heading level0 col7\" >flujo</th>        <th class=\"col_heading level0 col8\" >moneda</th>        <th class=\"col_heading level0 col9\" >valor_tasa</th>        <th class=\"col_heading level0 col10\" >tipo_tasa</th>    </tr></thead><tbody>\n",
       "                <tr>\n",
       "                        <th id=\"T_6a00fcc2_41ab_11ec_a147_02cba411ec9dlevel0_row0\" class=\"row_heading level0 row0\" >0</th>\n",
       "                        <td id=\"T_6a00fcc2_41ab_11ec_a147_02cba411ec9drow0_col0\" class=\"data row0 col0\" >2020-10-14</td>\n",
       "                        <td id=\"T_6a00fcc2_41ab_11ec_a147_02cba411ec9drow0_col1\" class=\"data row0 col1\" >2021-10-14</td>\n",
       "                        <td id=\"T_6a00fcc2_41ab_11ec_a147_02cba411ec9drow0_col2\" class=\"data row0 col2\" >2021-10-14</td>\n",
       "                        <td id=\"T_6a00fcc2_41ab_11ec_a147_02cba411ec9drow0_col3\" class=\"data row0 col3\" >10,000,000.00</td>\n",
       "                        <td id=\"T_6a00fcc2_41ab_11ec_a147_02cba411ec9drow0_col4\" class=\"data row0 col4\" >0.00</td>\n",
       "                        <td id=\"T_6a00fcc2_41ab_11ec_a147_02cba411ec9drow0_col5\" class=\"data row0 col5\" >101,388.89</td>\n",
       "                        <td id=\"T_6a00fcc2_41ab_11ec_a147_02cba411ec9drow0_col6\" class=\"data row0 col6\" >True</td>\n",
       "                        <td id=\"T_6a00fcc2_41ab_11ec_a147_02cba411ec9drow0_col7\" class=\"data row0 col7\" >101,388.89</td>\n",
       "                        <td id=\"T_6a00fcc2_41ab_11ec_a147_02cba411ec9drow0_col8\" class=\"data row0 col8\" >USD</td>\n",
       "                        <td id=\"T_6a00fcc2_41ab_11ec_a147_02cba411ec9drow0_col9\" class=\"data row0 col9\" >1.0000%</td>\n",
       "                        <td id=\"T_6a00fcc2_41ab_11ec_a147_02cba411ec9drow0_col10\" class=\"data row0 col10\" >LinAct360</td>\n",
       "            </tr>\n",
       "            <tr>\n",
       "                        <th id=\"T_6a00fcc2_41ab_11ec_a147_02cba411ec9dlevel0_row1\" class=\"row_heading level0 row1\" >1</th>\n",
       "                        <td id=\"T_6a00fcc2_41ab_11ec_a147_02cba411ec9drow1_col0\" class=\"data row1 col0\" >2021-10-14</td>\n",
       "                        <td id=\"T_6a00fcc2_41ab_11ec_a147_02cba411ec9drow1_col1\" class=\"data row1 col1\" >2022-10-14</td>\n",
       "                        <td id=\"T_6a00fcc2_41ab_11ec_a147_02cba411ec9drow1_col2\" class=\"data row1 col2\" >2022-10-14</td>\n",
       "                        <td id=\"T_6a00fcc2_41ab_11ec_a147_02cba411ec9drow1_col3\" class=\"data row1 col3\" >10,000,000.00</td>\n",
       "                        <td id=\"T_6a00fcc2_41ab_11ec_a147_02cba411ec9drow1_col4\" class=\"data row1 col4\" >0.00</td>\n",
       "                        <td id=\"T_6a00fcc2_41ab_11ec_a147_02cba411ec9drow1_col5\" class=\"data row1 col5\" >101,388.89</td>\n",
       "                        <td id=\"T_6a00fcc2_41ab_11ec_a147_02cba411ec9drow1_col6\" class=\"data row1 col6\" >True</td>\n",
       "                        <td id=\"T_6a00fcc2_41ab_11ec_a147_02cba411ec9drow1_col7\" class=\"data row1 col7\" >101,388.89</td>\n",
       "                        <td id=\"T_6a00fcc2_41ab_11ec_a147_02cba411ec9drow1_col8\" class=\"data row1 col8\" >USD</td>\n",
       "                        <td id=\"T_6a00fcc2_41ab_11ec_a147_02cba411ec9drow1_col9\" class=\"data row1 col9\" >1.0000%</td>\n",
       "                        <td id=\"T_6a00fcc2_41ab_11ec_a147_02cba411ec9drow1_col10\" class=\"data row1 col10\" >LinAct360</td>\n",
       "            </tr>\n",
       "            <tr>\n",
       "                        <th id=\"T_6a00fcc2_41ab_11ec_a147_02cba411ec9dlevel0_row2\" class=\"row_heading level0 row2\" >2</th>\n",
       "                        <td id=\"T_6a00fcc2_41ab_11ec_a147_02cba411ec9drow2_col0\" class=\"data row2 col0\" >2022-10-14</td>\n",
       "                        <td id=\"T_6a00fcc2_41ab_11ec_a147_02cba411ec9drow2_col1\" class=\"data row2 col1\" >2023-10-16</td>\n",
       "                        <td id=\"T_6a00fcc2_41ab_11ec_a147_02cba411ec9drow2_col2\" class=\"data row2 col2\" >2023-10-16</td>\n",
       "                        <td id=\"T_6a00fcc2_41ab_11ec_a147_02cba411ec9drow2_col3\" class=\"data row2 col3\" >10,000,000.00</td>\n",
       "                        <td id=\"T_6a00fcc2_41ab_11ec_a147_02cba411ec9drow2_col4\" class=\"data row2 col4\" >0.00</td>\n",
       "                        <td id=\"T_6a00fcc2_41ab_11ec_a147_02cba411ec9drow2_col5\" class=\"data row2 col5\" >101,944.44</td>\n",
       "                        <td id=\"T_6a00fcc2_41ab_11ec_a147_02cba411ec9drow2_col6\" class=\"data row2 col6\" >True</td>\n",
       "                        <td id=\"T_6a00fcc2_41ab_11ec_a147_02cba411ec9drow2_col7\" class=\"data row2 col7\" >101,944.44</td>\n",
       "                        <td id=\"T_6a00fcc2_41ab_11ec_a147_02cba411ec9drow2_col8\" class=\"data row2 col8\" >USD</td>\n",
       "                        <td id=\"T_6a00fcc2_41ab_11ec_a147_02cba411ec9drow2_col9\" class=\"data row2 col9\" >1.0000%</td>\n",
       "                        <td id=\"T_6a00fcc2_41ab_11ec_a147_02cba411ec9drow2_col10\" class=\"data row2 col10\" >LinAct360</td>\n",
       "            </tr>\n",
       "            <tr>\n",
       "                        <th id=\"T_6a00fcc2_41ab_11ec_a147_02cba411ec9dlevel0_row3\" class=\"row_heading level0 row3\" >3</th>\n",
       "                        <td id=\"T_6a00fcc2_41ab_11ec_a147_02cba411ec9drow3_col0\" class=\"data row3 col0\" >2023-10-16</td>\n",
       "                        <td id=\"T_6a00fcc2_41ab_11ec_a147_02cba411ec9drow3_col1\" class=\"data row3 col1\" >2024-10-15</td>\n",
       "                        <td id=\"T_6a00fcc2_41ab_11ec_a147_02cba411ec9drow3_col2\" class=\"data row3 col2\" >2024-10-15</td>\n",
       "                        <td id=\"T_6a00fcc2_41ab_11ec_a147_02cba411ec9drow3_col3\" class=\"data row3 col3\" >10,000,000.00</td>\n",
       "                        <td id=\"T_6a00fcc2_41ab_11ec_a147_02cba411ec9drow3_col4\" class=\"data row3 col4\" >10,000,000.00</td>\n",
       "                        <td id=\"T_6a00fcc2_41ab_11ec_a147_02cba411ec9drow3_col5\" class=\"data row3 col5\" >101,388.89</td>\n",
       "                        <td id=\"T_6a00fcc2_41ab_11ec_a147_02cba411ec9drow3_col6\" class=\"data row3 col6\" >True</td>\n",
       "                        <td id=\"T_6a00fcc2_41ab_11ec_a147_02cba411ec9drow3_col7\" class=\"data row3 col7\" >10,101,388.89</td>\n",
       "                        <td id=\"T_6a00fcc2_41ab_11ec_a147_02cba411ec9drow3_col8\" class=\"data row3 col8\" >USD</td>\n",
       "                        <td id=\"T_6a00fcc2_41ab_11ec_a147_02cba411ec9drow3_col9\" class=\"data row3 col9\" >1.0000%</td>\n",
       "                        <td id=\"T_6a00fcc2_41ab_11ec_a147_02cba411ec9drow3_col10\" class=\"data row3 col10\" >LinAct360</td>\n",
       "            </tr>\n",
       "    </tbody></table>"
      ],
      "text/plain": [
       "<pandas.io.formats.style.Styler at 0x7f6e2650a780>"
      ]
     },
     "execution_count": 69,
     "metadata": {},
     "output_type": "execute_result"
    }
   ],
   "source": [
    "aux.show_leg(op2[0], 'FixedRateCashflow', '').style.format(frmt)"
   ]
  },
  {
   "cell_type": "code",
   "execution_count": 70,
   "metadata": {
    "ExecuteTime": {
     "end_time": "2021-11-09T22:21:53.976268Z",
     "start_time": "2021-11-09T22:21:53.963034Z"
    }
   },
   "outputs": [
    {
     "data": {
      "text/html": [
       "<style  type=\"text/css\" >\n",
       "</style><table id=\"T_716b138a_41ab_11ec_a147_02cba411ec9d\" ><thead>    <tr>        <th class=\"blank level0\" ></th>        <th class=\"col_heading level0 col0\" >fecha_inicial</th>        <th class=\"col_heading level0 col1\" >fecha_final</th>        <th class=\"col_heading level0 col2\" >fecha_pago</th>        <th class=\"col_heading level0 col3\" >nominal</th>        <th class=\"col_heading level0 col4\" >amortizacion</th>        <th class=\"col_heading level0 col5\" >amort_es_flujo</th>        <th class=\"col_heading level0 col6\" >flujo</th>        <th class=\"col_heading level0 col7\" >moneda</th>        <th class=\"col_heading level0 col8\" >icp_inicial</th>        <th class=\"col_heading level0 col9\" >icp_final</th>        <th class=\"col_heading level0 col10\" >valor_tasa</th>        <th class=\"col_heading level0 col11\" >interes</th>        <th class=\"col_heading level0 col12\" >spread</th>        <th class=\"col_heading level0 col13\" >gearing</th>        <th class=\"col_heading level0 col14\" >tipo_tasa</th>    </tr></thead><tbody>\n",
       "                <tr>\n",
       "                        <th id=\"T_716b138a_41ab_11ec_a147_02cba411ec9dlevel0_row0\" class=\"row_heading level0 row0\" >0</th>\n",
       "                        <td id=\"T_716b138a_41ab_11ec_a147_02cba411ec9drow0_col0\" class=\"data row0 col0\" >2020-10-14</td>\n",
       "                        <td id=\"T_716b138a_41ab_11ec_a147_02cba411ec9drow0_col1\" class=\"data row0 col1\" >2021-10-14</td>\n",
       "                        <td id=\"T_716b138a_41ab_11ec_a147_02cba411ec9drow0_col2\" class=\"data row0 col2\" >2021-10-14</td>\n",
       "                        <td id=\"T_716b138a_41ab_11ec_a147_02cba411ec9drow0_col3\" class=\"data row0 col3\" >-10,000,000.00</td>\n",
       "                        <td id=\"T_716b138a_41ab_11ec_a147_02cba411ec9drow0_col4\" class=\"data row0 col4\" >0.00</td>\n",
       "                        <td id=\"T_716b138a_41ab_11ec_a147_02cba411ec9drow0_col5\" class=\"data row0 col5\" >True</td>\n",
       "                        <td id=\"T_716b138a_41ab_11ec_a147_02cba411ec9drow0_col6\" class=\"data row0 col6\" >0.00</td>\n",
       "                        <td id=\"T_716b138a_41ab_11ec_a147_02cba411ec9drow0_col7\" class=\"data row0 col7\" >CLP</td>\n",
       "                        <td id=\"T_716b138a_41ab_11ec_a147_02cba411ec9drow0_col8\" class=\"data row0 col8\" >1.000000</td>\n",
       "                        <td id=\"T_716b138a_41ab_11ec_a147_02cba411ec9drow0_col9\" class=\"data row0 col9\" >1.000000</td>\n",
       "                        <td id=\"T_716b138a_41ab_11ec_a147_02cba411ec9drow0_col10\" class=\"data row0 col10\" >0.0000%</td>\n",
       "                        <td id=\"T_716b138a_41ab_11ec_a147_02cba411ec9drow0_col11\" class=\"data row0 col11\" >-0.00</td>\n",
       "                        <td id=\"T_716b138a_41ab_11ec_a147_02cba411ec9drow0_col12\" class=\"data row0 col12\" >0.0000%</td>\n",
       "                        <td id=\"T_716b138a_41ab_11ec_a147_02cba411ec9drow0_col13\" class=\"data row0 col13\" >1.000000</td>\n",
       "                        <td id=\"T_716b138a_41ab_11ec_a147_02cba411ec9drow0_col14\" class=\"data row0 col14\" >LinAct360</td>\n",
       "            </tr>\n",
       "            <tr>\n",
       "                        <th id=\"T_716b138a_41ab_11ec_a147_02cba411ec9dlevel0_row1\" class=\"row_heading level0 row1\" >1</th>\n",
       "                        <td id=\"T_716b138a_41ab_11ec_a147_02cba411ec9drow1_col0\" class=\"data row1 col0\" >2021-10-14</td>\n",
       "                        <td id=\"T_716b138a_41ab_11ec_a147_02cba411ec9drow1_col1\" class=\"data row1 col1\" >2022-10-14</td>\n",
       "                        <td id=\"T_716b138a_41ab_11ec_a147_02cba411ec9drow1_col2\" class=\"data row1 col2\" >2022-10-14</td>\n",
       "                        <td id=\"T_716b138a_41ab_11ec_a147_02cba411ec9drow1_col3\" class=\"data row1 col3\" >-10,000,000.00</td>\n",
       "                        <td id=\"T_716b138a_41ab_11ec_a147_02cba411ec9drow1_col4\" class=\"data row1 col4\" >0.00</td>\n",
       "                        <td id=\"T_716b138a_41ab_11ec_a147_02cba411ec9drow1_col5\" class=\"data row1 col5\" >True</td>\n",
       "                        <td id=\"T_716b138a_41ab_11ec_a147_02cba411ec9drow1_col6\" class=\"data row1 col6\" >0.00</td>\n",
       "                        <td id=\"T_716b138a_41ab_11ec_a147_02cba411ec9drow1_col7\" class=\"data row1 col7\" >CLP</td>\n",
       "                        <td id=\"T_716b138a_41ab_11ec_a147_02cba411ec9drow1_col8\" class=\"data row1 col8\" >1.000000</td>\n",
       "                        <td id=\"T_716b138a_41ab_11ec_a147_02cba411ec9drow1_col9\" class=\"data row1 col9\" >1.000000</td>\n",
       "                        <td id=\"T_716b138a_41ab_11ec_a147_02cba411ec9drow1_col10\" class=\"data row1 col10\" >0.0000%</td>\n",
       "                        <td id=\"T_716b138a_41ab_11ec_a147_02cba411ec9drow1_col11\" class=\"data row1 col11\" >-0.00</td>\n",
       "                        <td id=\"T_716b138a_41ab_11ec_a147_02cba411ec9drow1_col12\" class=\"data row1 col12\" >0.0000%</td>\n",
       "                        <td id=\"T_716b138a_41ab_11ec_a147_02cba411ec9drow1_col13\" class=\"data row1 col13\" >1.000000</td>\n",
       "                        <td id=\"T_716b138a_41ab_11ec_a147_02cba411ec9drow1_col14\" class=\"data row1 col14\" >LinAct360</td>\n",
       "            </tr>\n",
       "            <tr>\n",
       "                        <th id=\"T_716b138a_41ab_11ec_a147_02cba411ec9dlevel0_row2\" class=\"row_heading level0 row2\" >2</th>\n",
       "                        <td id=\"T_716b138a_41ab_11ec_a147_02cba411ec9drow2_col0\" class=\"data row2 col0\" >2022-10-14</td>\n",
       "                        <td id=\"T_716b138a_41ab_11ec_a147_02cba411ec9drow2_col1\" class=\"data row2 col1\" >2023-10-16</td>\n",
       "                        <td id=\"T_716b138a_41ab_11ec_a147_02cba411ec9drow2_col2\" class=\"data row2 col2\" >2023-10-16</td>\n",
       "                        <td id=\"T_716b138a_41ab_11ec_a147_02cba411ec9drow2_col3\" class=\"data row2 col3\" >-10,000,000.00</td>\n",
       "                        <td id=\"T_716b138a_41ab_11ec_a147_02cba411ec9drow2_col4\" class=\"data row2 col4\" >0.00</td>\n",
       "                        <td id=\"T_716b138a_41ab_11ec_a147_02cba411ec9drow2_col5\" class=\"data row2 col5\" >True</td>\n",
       "                        <td id=\"T_716b138a_41ab_11ec_a147_02cba411ec9drow2_col6\" class=\"data row2 col6\" >0.00</td>\n",
       "                        <td id=\"T_716b138a_41ab_11ec_a147_02cba411ec9drow2_col7\" class=\"data row2 col7\" >CLP</td>\n",
       "                        <td id=\"T_716b138a_41ab_11ec_a147_02cba411ec9drow2_col8\" class=\"data row2 col8\" >1.000000</td>\n",
       "                        <td id=\"T_716b138a_41ab_11ec_a147_02cba411ec9drow2_col9\" class=\"data row2 col9\" >1.000000</td>\n",
       "                        <td id=\"T_716b138a_41ab_11ec_a147_02cba411ec9drow2_col10\" class=\"data row2 col10\" >0.0000%</td>\n",
       "                        <td id=\"T_716b138a_41ab_11ec_a147_02cba411ec9drow2_col11\" class=\"data row2 col11\" >-0.00</td>\n",
       "                        <td id=\"T_716b138a_41ab_11ec_a147_02cba411ec9drow2_col12\" class=\"data row2 col12\" >0.0000%</td>\n",
       "                        <td id=\"T_716b138a_41ab_11ec_a147_02cba411ec9drow2_col13\" class=\"data row2 col13\" >1.000000</td>\n",
       "                        <td id=\"T_716b138a_41ab_11ec_a147_02cba411ec9drow2_col14\" class=\"data row2 col14\" >LinAct360</td>\n",
       "            </tr>\n",
       "            <tr>\n",
       "                        <th id=\"T_716b138a_41ab_11ec_a147_02cba411ec9dlevel0_row3\" class=\"row_heading level0 row3\" >3</th>\n",
       "                        <td id=\"T_716b138a_41ab_11ec_a147_02cba411ec9drow3_col0\" class=\"data row3 col0\" >2023-10-16</td>\n",
       "                        <td id=\"T_716b138a_41ab_11ec_a147_02cba411ec9drow3_col1\" class=\"data row3 col1\" >2024-10-15</td>\n",
       "                        <td id=\"T_716b138a_41ab_11ec_a147_02cba411ec9drow3_col2\" class=\"data row3 col2\" >2024-10-15</td>\n",
       "                        <td id=\"T_716b138a_41ab_11ec_a147_02cba411ec9drow3_col3\" class=\"data row3 col3\" >-10,000,000.00</td>\n",
       "                        <td id=\"T_716b138a_41ab_11ec_a147_02cba411ec9drow3_col4\" class=\"data row3 col4\" >-10,000,000.00</td>\n",
       "                        <td id=\"T_716b138a_41ab_11ec_a147_02cba411ec9drow3_col5\" class=\"data row3 col5\" >True</td>\n",
       "                        <td id=\"T_716b138a_41ab_11ec_a147_02cba411ec9drow3_col6\" class=\"data row3 col6\" >-10,000,000.00</td>\n",
       "                        <td id=\"T_716b138a_41ab_11ec_a147_02cba411ec9drow3_col7\" class=\"data row3 col7\" >CLP</td>\n",
       "                        <td id=\"T_716b138a_41ab_11ec_a147_02cba411ec9drow3_col8\" class=\"data row3 col8\" >1.000000</td>\n",
       "                        <td id=\"T_716b138a_41ab_11ec_a147_02cba411ec9drow3_col9\" class=\"data row3 col9\" >1.000000</td>\n",
       "                        <td id=\"T_716b138a_41ab_11ec_a147_02cba411ec9drow3_col10\" class=\"data row3 col10\" >0.0000%</td>\n",
       "                        <td id=\"T_716b138a_41ab_11ec_a147_02cba411ec9drow3_col11\" class=\"data row3 col11\" >-0.00</td>\n",
       "                        <td id=\"T_716b138a_41ab_11ec_a147_02cba411ec9drow3_col12\" class=\"data row3 col12\" >0.0000%</td>\n",
       "                        <td id=\"T_716b138a_41ab_11ec_a147_02cba411ec9drow3_col13\" class=\"data row3 col13\" >1.000000</td>\n",
       "                        <td id=\"T_716b138a_41ab_11ec_a147_02cba411ec9drow3_col14\" class=\"data row3 col14\" >LinAct360</td>\n",
       "            </tr>\n",
       "    </tbody></table>"
      ],
      "text/plain": [
       "<pandas.io.formats.style.Styler at 0x7f6e2650ad68>"
      ]
     },
     "execution_count": 70,
     "metadata": {},
     "output_type": "execute_result"
    }
   ],
   "source": [
    "aux.show_leg(op2[1], 'IcpClpCashflow', '').style.format(frmt)"
   ]
  },
  {
   "cell_type": "markdown",
   "metadata": {},
   "source": [
    "#### Agrega Amortizaciones"
   ]
  },
  {
   "cell_type": "markdown",
   "metadata": {},
   "source": [
    "Vamos a agregar una amortización por la mitad del nocional en el segundo cupón de cada pata. Veamos primero la pata fija."
   ]
  },
  {
   "cell_type": "code",
   "execution_count": 71,
   "metadata": {
    "ExecuteTime": {
     "end_time": "2021-11-09T22:23:06.564952Z",
     "start_time": "2021-11-09T22:23:06.560201Z"
    }
   },
   "outputs": [],
   "source": [
    "cshflw = op2[0].get_cashflow_at(1)\n",
    "cshflw.set_amortization(5000000)"
   ]
  },
  {
   "cell_type": "code",
   "execution_count": 72,
   "metadata": {
    "ExecuteTime": {
     "end_time": "2021-11-09T22:23:10.230148Z",
     "start_time": "2021-11-09T22:23:10.217319Z"
    }
   },
   "outputs": [
    {
     "data": {
      "text/html": [
       "<style  type=\"text/css\" >\n",
       "</style><table id=\"T_9ede7aa0_41ab_11ec_a147_02cba411ec9d\" ><thead>    <tr>        <th class=\"blank level0\" ></th>        <th class=\"col_heading level0 col0\" >fecha_inicial</th>        <th class=\"col_heading level0 col1\" >fecha_final</th>        <th class=\"col_heading level0 col2\" >fecha_pago</th>        <th class=\"col_heading level0 col3\" >nominal</th>        <th class=\"col_heading level0 col4\" >amortizacion</th>        <th class=\"col_heading level0 col5\" >interes</th>        <th class=\"col_heading level0 col6\" >amort_es_flujo</th>        <th class=\"col_heading level0 col7\" >flujo</th>        <th class=\"col_heading level0 col8\" >moneda</th>        <th class=\"col_heading level0 col9\" >valor_tasa</th>        <th class=\"col_heading level0 col10\" >tipo_tasa</th>    </tr></thead><tbody>\n",
       "                <tr>\n",
       "                        <th id=\"T_9ede7aa0_41ab_11ec_a147_02cba411ec9dlevel0_row0\" class=\"row_heading level0 row0\" >0</th>\n",
       "                        <td id=\"T_9ede7aa0_41ab_11ec_a147_02cba411ec9drow0_col0\" class=\"data row0 col0\" >2020-10-14</td>\n",
       "                        <td id=\"T_9ede7aa0_41ab_11ec_a147_02cba411ec9drow0_col1\" class=\"data row0 col1\" >2021-10-14</td>\n",
       "                        <td id=\"T_9ede7aa0_41ab_11ec_a147_02cba411ec9drow0_col2\" class=\"data row0 col2\" >2021-10-14</td>\n",
       "                        <td id=\"T_9ede7aa0_41ab_11ec_a147_02cba411ec9drow0_col3\" class=\"data row0 col3\" >10,000,000.00</td>\n",
       "                        <td id=\"T_9ede7aa0_41ab_11ec_a147_02cba411ec9drow0_col4\" class=\"data row0 col4\" >0.00</td>\n",
       "                        <td id=\"T_9ede7aa0_41ab_11ec_a147_02cba411ec9drow0_col5\" class=\"data row0 col5\" >101,388.89</td>\n",
       "                        <td id=\"T_9ede7aa0_41ab_11ec_a147_02cba411ec9drow0_col6\" class=\"data row0 col6\" >True</td>\n",
       "                        <td id=\"T_9ede7aa0_41ab_11ec_a147_02cba411ec9drow0_col7\" class=\"data row0 col7\" >101,388.89</td>\n",
       "                        <td id=\"T_9ede7aa0_41ab_11ec_a147_02cba411ec9drow0_col8\" class=\"data row0 col8\" >USD</td>\n",
       "                        <td id=\"T_9ede7aa0_41ab_11ec_a147_02cba411ec9drow0_col9\" class=\"data row0 col9\" >1.0000%</td>\n",
       "                        <td id=\"T_9ede7aa0_41ab_11ec_a147_02cba411ec9drow0_col10\" class=\"data row0 col10\" >LinAct360</td>\n",
       "            </tr>\n",
       "            <tr>\n",
       "                        <th id=\"T_9ede7aa0_41ab_11ec_a147_02cba411ec9dlevel0_row1\" class=\"row_heading level0 row1\" >1</th>\n",
       "                        <td id=\"T_9ede7aa0_41ab_11ec_a147_02cba411ec9drow1_col0\" class=\"data row1 col0\" >2021-10-14</td>\n",
       "                        <td id=\"T_9ede7aa0_41ab_11ec_a147_02cba411ec9drow1_col1\" class=\"data row1 col1\" >2022-10-14</td>\n",
       "                        <td id=\"T_9ede7aa0_41ab_11ec_a147_02cba411ec9drow1_col2\" class=\"data row1 col2\" >2022-10-14</td>\n",
       "                        <td id=\"T_9ede7aa0_41ab_11ec_a147_02cba411ec9drow1_col3\" class=\"data row1 col3\" >10,000,000.00</td>\n",
       "                        <td id=\"T_9ede7aa0_41ab_11ec_a147_02cba411ec9drow1_col4\" class=\"data row1 col4\" >5,000,000.00</td>\n",
       "                        <td id=\"T_9ede7aa0_41ab_11ec_a147_02cba411ec9drow1_col5\" class=\"data row1 col5\" >101,388.89</td>\n",
       "                        <td id=\"T_9ede7aa0_41ab_11ec_a147_02cba411ec9drow1_col6\" class=\"data row1 col6\" >True</td>\n",
       "                        <td id=\"T_9ede7aa0_41ab_11ec_a147_02cba411ec9drow1_col7\" class=\"data row1 col7\" >5,101,388.89</td>\n",
       "                        <td id=\"T_9ede7aa0_41ab_11ec_a147_02cba411ec9drow1_col8\" class=\"data row1 col8\" >USD</td>\n",
       "                        <td id=\"T_9ede7aa0_41ab_11ec_a147_02cba411ec9drow1_col9\" class=\"data row1 col9\" >1.0000%</td>\n",
       "                        <td id=\"T_9ede7aa0_41ab_11ec_a147_02cba411ec9drow1_col10\" class=\"data row1 col10\" >LinAct360</td>\n",
       "            </tr>\n",
       "            <tr>\n",
       "                        <th id=\"T_9ede7aa0_41ab_11ec_a147_02cba411ec9dlevel0_row2\" class=\"row_heading level0 row2\" >2</th>\n",
       "                        <td id=\"T_9ede7aa0_41ab_11ec_a147_02cba411ec9drow2_col0\" class=\"data row2 col0\" >2022-10-14</td>\n",
       "                        <td id=\"T_9ede7aa0_41ab_11ec_a147_02cba411ec9drow2_col1\" class=\"data row2 col1\" >2023-10-16</td>\n",
       "                        <td id=\"T_9ede7aa0_41ab_11ec_a147_02cba411ec9drow2_col2\" class=\"data row2 col2\" >2023-10-16</td>\n",
       "                        <td id=\"T_9ede7aa0_41ab_11ec_a147_02cba411ec9drow2_col3\" class=\"data row2 col3\" >10,000,000.00</td>\n",
       "                        <td id=\"T_9ede7aa0_41ab_11ec_a147_02cba411ec9drow2_col4\" class=\"data row2 col4\" >0.00</td>\n",
       "                        <td id=\"T_9ede7aa0_41ab_11ec_a147_02cba411ec9drow2_col5\" class=\"data row2 col5\" >101,944.44</td>\n",
       "                        <td id=\"T_9ede7aa0_41ab_11ec_a147_02cba411ec9drow2_col6\" class=\"data row2 col6\" >True</td>\n",
       "                        <td id=\"T_9ede7aa0_41ab_11ec_a147_02cba411ec9drow2_col7\" class=\"data row2 col7\" >101,944.44</td>\n",
       "                        <td id=\"T_9ede7aa0_41ab_11ec_a147_02cba411ec9drow2_col8\" class=\"data row2 col8\" >USD</td>\n",
       "                        <td id=\"T_9ede7aa0_41ab_11ec_a147_02cba411ec9drow2_col9\" class=\"data row2 col9\" >1.0000%</td>\n",
       "                        <td id=\"T_9ede7aa0_41ab_11ec_a147_02cba411ec9drow2_col10\" class=\"data row2 col10\" >LinAct360</td>\n",
       "            </tr>\n",
       "            <tr>\n",
       "                        <th id=\"T_9ede7aa0_41ab_11ec_a147_02cba411ec9dlevel0_row3\" class=\"row_heading level0 row3\" >3</th>\n",
       "                        <td id=\"T_9ede7aa0_41ab_11ec_a147_02cba411ec9drow3_col0\" class=\"data row3 col0\" >2023-10-16</td>\n",
       "                        <td id=\"T_9ede7aa0_41ab_11ec_a147_02cba411ec9drow3_col1\" class=\"data row3 col1\" >2024-10-15</td>\n",
       "                        <td id=\"T_9ede7aa0_41ab_11ec_a147_02cba411ec9drow3_col2\" class=\"data row3 col2\" >2024-10-15</td>\n",
       "                        <td id=\"T_9ede7aa0_41ab_11ec_a147_02cba411ec9drow3_col3\" class=\"data row3 col3\" >10,000,000.00</td>\n",
       "                        <td id=\"T_9ede7aa0_41ab_11ec_a147_02cba411ec9drow3_col4\" class=\"data row3 col4\" >10,000,000.00</td>\n",
       "                        <td id=\"T_9ede7aa0_41ab_11ec_a147_02cba411ec9drow3_col5\" class=\"data row3 col5\" >101,388.89</td>\n",
       "                        <td id=\"T_9ede7aa0_41ab_11ec_a147_02cba411ec9drow3_col6\" class=\"data row3 col6\" >True</td>\n",
       "                        <td id=\"T_9ede7aa0_41ab_11ec_a147_02cba411ec9drow3_col7\" class=\"data row3 col7\" >10,101,388.89</td>\n",
       "                        <td id=\"T_9ede7aa0_41ab_11ec_a147_02cba411ec9drow3_col8\" class=\"data row3 col8\" >USD</td>\n",
       "                        <td id=\"T_9ede7aa0_41ab_11ec_a147_02cba411ec9drow3_col9\" class=\"data row3 col9\" >1.0000%</td>\n",
       "                        <td id=\"T_9ede7aa0_41ab_11ec_a147_02cba411ec9drow3_col10\" class=\"data row3 col10\" >LinAct360</td>\n",
       "            </tr>\n",
       "    </tbody></table>"
      ],
      "text/plain": [
       "<pandas.io.formats.style.Styler at 0x7f6e2654deb8>"
      ]
     },
     "execution_count": 72,
     "metadata": {},
     "output_type": "execute_result"
    }
   ],
   "source": [
    "aux.show_leg(op2[0], 'FixedRateCashflow', '').style.format(frmt)"
   ]
  },
  {
   "cell_type": "markdown",
   "metadata": {},
   "source": [
    "Vemos que la amortización queda bien ingresada, sin embargo, los flujos siguientes no la consideran. Vamos a arreglar eso:"
   ]
  },
  {
   "cell_type": "code",
   "execution_count": 73,
   "metadata": {
    "ExecuteTime": {
     "end_time": "2021-11-09T22:24:45.573511Z",
     "start_time": "2021-11-09T22:24:45.568776Z"
    }
   },
   "outputs": [],
   "source": [
    "cshflw = op2[0].get_cashflow_at(2)\n",
    "cshflw.set_nominal(5000000)\n",
    "\n",
    "cshflw = op2[0].get_cashflow_at(3)\n",
    "cshflw.set_nominal(5000000)\n",
    "cshflw.set_amortization(5000000)"
   ]
  },
  {
   "cell_type": "code",
   "execution_count": 74,
   "metadata": {
    "ExecuteTime": {
     "end_time": "2021-11-09T22:24:50.346859Z",
     "start_time": "2021-11-09T22:24:50.334667Z"
    }
   },
   "outputs": [
    {
     "data": {
      "text/html": [
       "<style  type=\"text/css\" >\n",
       "</style><table id=\"T_da8b43da_41ab_11ec_a147_02cba411ec9d\" ><thead>    <tr>        <th class=\"blank level0\" ></th>        <th class=\"col_heading level0 col0\" >fecha_inicial</th>        <th class=\"col_heading level0 col1\" >fecha_final</th>        <th class=\"col_heading level0 col2\" >fecha_pago</th>        <th class=\"col_heading level0 col3\" >nominal</th>        <th class=\"col_heading level0 col4\" >amortizacion</th>        <th class=\"col_heading level0 col5\" >interes</th>        <th class=\"col_heading level0 col6\" >amort_es_flujo</th>        <th class=\"col_heading level0 col7\" >flujo</th>        <th class=\"col_heading level0 col8\" >moneda</th>        <th class=\"col_heading level0 col9\" >valor_tasa</th>        <th class=\"col_heading level0 col10\" >tipo_tasa</th>    </tr></thead><tbody>\n",
       "                <tr>\n",
       "                        <th id=\"T_da8b43da_41ab_11ec_a147_02cba411ec9dlevel0_row0\" class=\"row_heading level0 row0\" >0</th>\n",
       "                        <td id=\"T_da8b43da_41ab_11ec_a147_02cba411ec9drow0_col0\" class=\"data row0 col0\" >2020-10-14</td>\n",
       "                        <td id=\"T_da8b43da_41ab_11ec_a147_02cba411ec9drow0_col1\" class=\"data row0 col1\" >2021-10-14</td>\n",
       "                        <td id=\"T_da8b43da_41ab_11ec_a147_02cba411ec9drow0_col2\" class=\"data row0 col2\" >2021-10-14</td>\n",
       "                        <td id=\"T_da8b43da_41ab_11ec_a147_02cba411ec9drow0_col3\" class=\"data row0 col3\" >10,000,000.00</td>\n",
       "                        <td id=\"T_da8b43da_41ab_11ec_a147_02cba411ec9drow0_col4\" class=\"data row0 col4\" >0.00</td>\n",
       "                        <td id=\"T_da8b43da_41ab_11ec_a147_02cba411ec9drow0_col5\" class=\"data row0 col5\" >101,388.89</td>\n",
       "                        <td id=\"T_da8b43da_41ab_11ec_a147_02cba411ec9drow0_col6\" class=\"data row0 col6\" >True</td>\n",
       "                        <td id=\"T_da8b43da_41ab_11ec_a147_02cba411ec9drow0_col7\" class=\"data row0 col7\" >101,388.89</td>\n",
       "                        <td id=\"T_da8b43da_41ab_11ec_a147_02cba411ec9drow0_col8\" class=\"data row0 col8\" >USD</td>\n",
       "                        <td id=\"T_da8b43da_41ab_11ec_a147_02cba411ec9drow0_col9\" class=\"data row0 col9\" >1.0000%</td>\n",
       "                        <td id=\"T_da8b43da_41ab_11ec_a147_02cba411ec9drow0_col10\" class=\"data row0 col10\" >LinAct360</td>\n",
       "            </tr>\n",
       "            <tr>\n",
       "                        <th id=\"T_da8b43da_41ab_11ec_a147_02cba411ec9dlevel0_row1\" class=\"row_heading level0 row1\" >1</th>\n",
       "                        <td id=\"T_da8b43da_41ab_11ec_a147_02cba411ec9drow1_col0\" class=\"data row1 col0\" >2021-10-14</td>\n",
       "                        <td id=\"T_da8b43da_41ab_11ec_a147_02cba411ec9drow1_col1\" class=\"data row1 col1\" >2022-10-14</td>\n",
       "                        <td id=\"T_da8b43da_41ab_11ec_a147_02cba411ec9drow1_col2\" class=\"data row1 col2\" >2022-10-14</td>\n",
       "                        <td id=\"T_da8b43da_41ab_11ec_a147_02cba411ec9drow1_col3\" class=\"data row1 col3\" >10,000,000.00</td>\n",
       "                        <td id=\"T_da8b43da_41ab_11ec_a147_02cba411ec9drow1_col4\" class=\"data row1 col4\" >5,000,000.00</td>\n",
       "                        <td id=\"T_da8b43da_41ab_11ec_a147_02cba411ec9drow1_col5\" class=\"data row1 col5\" >101,388.89</td>\n",
       "                        <td id=\"T_da8b43da_41ab_11ec_a147_02cba411ec9drow1_col6\" class=\"data row1 col6\" >True</td>\n",
       "                        <td id=\"T_da8b43da_41ab_11ec_a147_02cba411ec9drow1_col7\" class=\"data row1 col7\" >5,101,388.89</td>\n",
       "                        <td id=\"T_da8b43da_41ab_11ec_a147_02cba411ec9drow1_col8\" class=\"data row1 col8\" >USD</td>\n",
       "                        <td id=\"T_da8b43da_41ab_11ec_a147_02cba411ec9drow1_col9\" class=\"data row1 col9\" >1.0000%</td>\n",
       "                        <td id=\"T_da8b43da_41ab_11ec_a147_02cba411ec9drow1_col10\" class=\"data row1 col10\" >LinAct360</td>\n",
       "            </tr>\n",
       "            <tr>\n",
       "                        <th id=\"T_da8b43da_41ab_11ec_a147_02cba411ec9dlevel0_row2\" class=\"row_heading level0 row2\" >2</th>\n",
       "                        <td id=\"T_da8b43da_41ab_11ec_a147_02cba411ec9drow2_col0\" class=\"data row2 col0\" >2022-10-14</td>\n",
       "                        <td id=\"T_da8b43da_41ab_11ec_a147_02cba411ec9drow2_col1\" class=\"data row2 col1\" >2023-10-16</td>\n",
       "                        <td id=\"T_da8b43da_41ab_11ec_a147_02cba411ec9drow2_col2\" class=\"data row2 col2\" >2023-10-16</td>\n",
       "                        <td id=\"T_da8b43da_41ab_11ec_a147_02cba411ec9drow2_col3\" class=\"data row2 col3\" >5,000,000.00</td>\n",
       "                        <td id=\"T_da8b43da_41ab_11ec_a147_02cba411ec9drow2_col4\" class=\"data row2 col4\" >0.00</td>\n",
       "                        <td id=\"T_da8b43da_41ab_11ec_a147_02cba411ec9drow2_col5\" class=\"data row2 col5\" >50,972.22</td>\n",
       "                        <td id=\"T_da8b43da_41ab_11ec_a147_02cba411ec9drow2_col6\" class=\"data row2 col6\" >True</td>\n",
       "                        <td id=\"T_da8b43da_41ab_11ec_a147_02cba411ec9drow2_col7\" class=\"data row2 col7\" >50,972.22</td>\n",
       "                        <td id=\"T_da8b43da_41ab_11ec_a147_02cba411ec9drow2_col8\" class=\"data row2 col8\" >USD</td>\n",
       "                        <td id=\"T_da8b43da_41ab_11ec_a147_02cba411ec9drow2_col9\" class=\"data row2 col9\" >1.0000%</td>\n",
       "                        <td id=\"T_da8b43da_41ab_11ec_a147_02cba411ec9drow2_col10\" class=\"data row2 col10\" >LinAct360</td>\n",
       "            </tr>\n",
       "            <tr>\n",
       "                        <th id=\"T_da8b43da_41ab_11ec_a147_02cba411ec9dlevel0_row3\" class=\"row_heading level0 row3\" >3</th>\n",
       "                        <td id=\"T_da8b43da_41ab_11ec_a147_02cba411ec9drow3_col0\" class=\"data row3 col0\" >2023-10-16</td>\n",
       "                        <td id=\"T_da8b43da_41ab_11ec_a147_02cba411ec9drow3_col1\" class=\"data row3 col1\" >2024-10-15</td>\n",
       "                        <td id=\"T_da8b43da_41ab_11ec_a147_02cba411ec9drow3_col2\" class=\"data row3 col2\" >2024-10-15</td>\n",
       "                        <td id=\"T_da8b43da_41ab_11ec_a147_02cba411ec9drow3_col3\" class=\"data row3 col3\" >5,000,000.00</td>\n",
       "                        <td id=\"T_da8b43da_41ab_11ec_a147_02cba411ec9drow3_col4\" class=\"data row3 col4\" >5,000,000.00</td>\n",
       "                        <td id=\"T_da8b43da_41ab_11ec_a147_02cba411ec9drow3_col5\" class=\"data row3 col5\" >50,694.44</td>\n",
       "                        <td id=\"T_da8b43da_41ab_11ec_a147_02cba411ec9drow3_col6\" class=\"data row3 col6\" >True</td>\n",
       "                        <td id=\"T_da8b43da_41ab_11ec_a147_02cba411ec9drow3_col7\" class=\"data row3 col7\" >5,050,694.44</td>\n",
       "                        <td id=\"T_da8b43da_41ab_11ec_a147_02cba411ec9drow3_col8\" class=\"data row3 col8\" >USD</td>\n",
       "                        <td id=\"T_da8b43da_41ab_11ec_a147_02cba411ec9drow3_col9\" class=\"data row3 col9\" >1.0000%</td>\n",
       "                        <td id=\"T_da8b43da_41ab_11ec_a147_02cba411ec9drow3_col10\" class=\"data row3 col10\" >LinAct360</td>\n",
       "            </tr>\n",
       "    </tbody></table>"
      ],
      "text/plain": [
       "<pandas.io.formats.style.Styler at 0x7f6e2648f048>"
      ]
     },
     "execution_count": 74,
     "metadata": {},
     "output_type": "execute_result"
    }
   ],
   "source": [
    "aux.show_leg(op2[0], 'FixedRateCashflow', '').style.format(frmt)"
   ]
  },
  {
   "cell_type": "markdown",
   "metadata": {},
   "source": [
    "Hagamos ahora la pata flotante. Dado que esta es la pata que pagamos, hay que usar signo negativo para los montos de amortización y capital vigente."
   ]
  },
  {
   "cell_type": "code",
   "execution_count": 75,
   "metadata": {
    "ExecuteTime": {
     "end_time": "2021-11-09T22:25:47.734146Z",
     "start_time": "2021-11-09T22:25:47.729282Z"
    }
   },
   "outputs": [],
   "source": [
    "cshflw = op2[1].get_cashflow_at(1)\n",
    "cshflw.set_amortization(-5000000)\n",
    "\n",
    "cshflw = op2[1].get_cashflow_at(2)\n",
    "cshflw.set_nominal(-5000000)\n",
    "\n",
    "cshflw = op2[1].get_cashflow_at(3)\n",
    "cshflw.set_nominal(-5000000)\n",
    "cshflw.set_amortization(-5000000)"
   ]
  },
  {
   "cell_type": "code",
   "execution_count": 76,
   "metadata": {
    "ExecuteTime": {
     "end_time": "2021-11-09T22:25:52.183511Z",
     "start_time": "2021-11-09T22:25:52.169329Z"
    }
   },
   "outputs": [
    {
     "data": {
      "text/html": [
       "<style  type=\"text/css\" >\n",
       "</style><table id=\"T_ff668fb6_41ab_11ec_a147_02cba411ec9d\" ><thead>    <tr>        <th class=\"blank level0\" ></th>        <th class=\"col_heading level0 col0\" >fecha_inicial</th>        <th class=\"col_heading level0 col1\" >fecha_final</th>        <th class=\"col_heading level0 col2\" >fecha_pago</th>        <th class=\"col_heading level0 col3\" >nominal</th>        <th class=\"col_heading level0 col4\" >amortizacion</th>        <th class=\"col_heading level0 col5\" >amort_es_flujo</th>        <th class=\"col_heading level0 col6\" >flujo</th>        <th class=\"col_heading level0 col7\" >moneda</th>        <th class=\"col_heading level0 col8\" >icp_inicial</th>        <th class=\"col_heading level0 col9\" >icp_final</th>        <th class=\"col_heading level0 col10\" >valor_tasa</th>        <th class=\"col_heading level0 col11\" >interes</th>        <th class=\"col_heading level0 col12\" >spread</th>        <th class=\"col_heading level0 col13\" >gearing</th>        <th class=\"col_heading level0 col14\" >tipo_tasa</th>    </tr></thead><tbody>\n",
       "                <tr>\n",
       "                        <th id=\"T_ff668fb6_41ab_11ec_a147_02cba411ec9dlevel0_row0\" class=\"row_heading level0 row0\" >0</th>\n",
       "                        <td id=\"T_ff668fb6_41ab_11ec_a147_02cba411ec9drow0_col0\" class=\"data row0 col0\" >2020-10-14</td>\n",
       "                        <td id=\"T_ff668fb6_41ab_11ec_a147_02cba411ec9drow0_col1\" class=\"data row0 col1\" >2021-10-14</td>\n",
       "                        <td id=\"T_ff668fb6_41ab_11ec_a147_02cba411ec9drow0_col2\" class=\"data row0 col2\" >2021-10-14</td>\n",
       "                        <td id=\"T_ff668fb6_41ab_11ec_a147_02cba411ec9drow0_col3\" class=\"data row0 col3\" >-10,000,000.00</td>\n",
       "                        <td id=\"T_ff668fb6_41ab_11ec_a147_02cba411ec9drow0_col4\" class=\"data row0 col4\" >0.00</td>\n",
       "                        <td id=\"T_ff668fb6_41ab_11ec_a147_02cba411ec9drow0_col5\" class=\"data row0 col5\" >True</td>\n",
       "                        <td id=\"T_ff668fb6_41ab_11ec_a147_02cba411ec9drow0_col6\" class=\"data row0 col6\" >0.00</td>\n",
       "                        <td id=\"T_ff668fb6_41ab_11ec_a147_02cba411ec9drow0_col7\" class=\"data row0 col7\" >CLP</td>\n",
       "                        <td id=\"T_ff668fb6_41ab_11ec_a147_02cba411ec9drow0_col8\" class=\"data row0 col8\" >1.000000</td>\n",
       "                        <td id=\"T_ff668fb6_41ab_11ec_a147_02cba411ec9drow0_col9\" class=\"data row0 col9\" >1.000000</td>\n",
       "                        <td id=\"T_ff668fb6_41ab_11ec_a147_02cba411ec9drow0_col10\" class=\"data row0 col10\" >0.0000%</td>\n",
       "                        <td id=\"T_ff668fb6_41ab_11ec_a147_02cba411ec9drow0_col11\" class=\"data row0 col11\" >-0.00</td>\n",
       "                        <td id=\"T_ff668fb6_41ab_11ec_a147_02cba411ec9drow0_col12\" class=\"data row0 col12\" >0.0000%</td>\n",
       "                        <td id=\"T_ff668fb6_41ab_11ec_a147_02cba411ec9drow0_col13\" class=\"data row0 col13\" >1.000000</td>\n",
       "                        <td id=\"T_ff668fb6_41ab_11ec_a147_02cba411ec9drow0_col14\" class=\"data row0 col14\" >LinAct360</td>\n",
       "            </tr>\n",
       "            <tr>\n",
       "                        <th id=\"T_ff668fb6_41ab_11ec_a147_02cba411ec9dlevel0_row1\" class=\"row_heading level0 row1\" >1</th>\n",
       "                        <td id=\"T_ff668fb6_41ab_11ec_a147_02cba411ec9drow1_col0\" class=\"data row1 col0\" >2021-10-14</td>\n",
       "                        <td id=\"T_ff668fb6_41ab_11ec_a147_02cba411ec9drow1_col1\" class=\"data row1 col1\" >2022-10-14</td>\n",
       "                        <td id=\"T_ff668fb6_41ab_11ec_a147_02cba411ec9drow1_col2\" class=\"data row1 col2\" >2022-10-14</td>\n",
       "                        <td id=\"T_ff668fb6_41ab_11ec_a147_02cba411ec9drow1_col3\" class=\"data row1 col3\" >-10,000,000.00</td>\n",
       "                        <td id=\"T_ff668fb6_41ab_11ec_a147_02cba411ec9drow1_col4\" class=\"data row1 col4\" >-5,000,000.00</td>\n",
       "                        <td id=\"T_ff668fb6_41ab_11ec_a147_02cba411ec9drow1_col5\" class=\"data row1 col5\" >True</td>\n",
       "                        <td id=\"T_ff668fb6_41ab_11ec_a147_02cba411ec9drow1_col6\" class=\"data row1 col6\" >-5,000,000.00</td>\n",
       "                        <td id=\"T_ff668fb6_41ab_11ec_a147_02cba411ec9drow1_col7\" class=\"data row1 col7\" >CLP</td>\n",
       "                        <td id=\"T_ff668fb6_41ab_11ec_a147_02cba411ec9drow1_col8\" class=\"data row1 col8\" >1.000000</td>\n",
       "                        <td id=\"T_ff668fb6_41ab_11ec_a147_02cba411ec9drow1_col9\" class=\"data row1 col9\" >1.000000</td>\n",
       "                        <td id=\"T_ff668fb6_41ab_11ec_a147_02cba411ec9drow1_col10\" class=\"data row1 col10\" >0.0000%</td>\n",
       "                        <td id=\"T_ff668fb6_41ab_11ec_a147_02cba411ec9drow1_col11\" class=\"data row1 col11\" >-0.00</td>\n",
       "                        <td id=\"T_ff668fb6_41ab_11ec_a147_02cba411ec9drow1_col12\" class=\"data row1 col12\" >0.0000%</td>\n",
       "                        <td id=\"T_ff668fb6_41ab_11ec_a147_02cba411ec9drow1_col13\" class=\"data row1 col13\" >1.000000</td>\n",
       "                        <td id=\"T_ff668fb6_41ab_11ec_a147_02cba411ec9drow1_col14\" class=\"data row1 col14\" >LinAct360</td>\n",
       "            </tr>\n",
       "            <tr>\n",
       "                        <th id=\"T_ff668fb6_41ab_11ec_a147_02cba411ec9dlevel0_row2\" class=\"row_heading level0 row2\" >2</th>\n",
       "                        <td id=\"T_ff668fb6_41ab_11ec_a147_02cba411ec9drow2_col0\" class=\"data row2 col0\" >2022-10-14</td>\n",
       "                        <td id=\"T_ff668fb6_41ab_11ec_a147_02cba411ec9drow2_col1\" class=\"data row2 col1\" >2023-10-16</td>\n",
       "                        <td id=\"T_ff668fb6_41ab_11ec_a147_02cba411ec9drow2_col2\" class=\"data row2 col2\" >2023-10-16</td>\n",
       "                        <td id=\"T_ff668fb6_41ab_11ec_a147_02cba411ec9drow2_col3\" class=\"data row2 col3\" >-5,000,000.00</td>\n",
       "                        <td id=\"T_ff668fb6_41ab_11ec_a147_02cba411ec9drow2_col4\" class=\"data row2 col4\" >0.00</td>\n",
       "                        <td id=\"T_ff668fb6_41ab_11ec_a147_02cba411ec9drow2_col5\" class=\"data row2 col5\" >True</td>\n",
       "                        <td id=\"T_ff668fb6_41ab_11ec_a147_02cba411ec9drow2_col6\" class=\"data row2 col6\" >0.00</td>\n",
       "                        <td id=\"T_ff668fb6_41ab_11ec_a147_02cba411ec9drow2_col7\" class=\"data row2 col7\" >CLP</td>\n",
       "                        <td id=\"T_ff668fb6_41ab_11ec_a147_02cba411ec9drow2_col8\" class=\"data row2 col8\" >1.000000</td>\n",
       "                        <td id=\"T_ff668fb6_41ab_11ec_a147_02cba411ec9drow2_col9\" class=\"data row2 col9\" >1.000000</td>\n",
       "                        <td id=\"T_ff668fb6_41ab_11ec_a147_02cba411ec9drow2_col10\" class=\"data row2 col10\" >0.0000%</td>\n",
       "                        <td id=\"T_ff668fb6_41ab_11ec_a147_02cba411ec9drow2_col11\" class=\"data row2 col11\" >-0.00</td>\n",
       "                        <td id=\"T_ff668fb6_41ab_11ec_a147_02cba411ec9drow2_col12\" class=\"data row2 col12\" >0.0000%</td>\n",
       "                        <td id=\"T_ff668fb6_41ab_11ec_a147_02cba411ec9drow2_col13\" class=\"data row2 col13\" >1.000000</td>\n",
       "                        <td id=\"T_ff668fb6_41ab_11ec_a147_02cba411ec9drow2_col14\" class=\"data row2 col14\" >LinAct360</td>\n",
       "            </tr>\n",
       "            <tr>\n",
       "                        <th id=\"T_ff668fb6_41ab_11ec_a147_02cba411ec9dlevel0_row3\" class=\"row_heading level0 row3\" >3</th>\n",
       "                        <td id=\"T_ff668fb6_41ab_11ec_a147_02cba411ec9drow3_col0\" class=\"data row3 col0\" >2023-10-16</td>\n",
       "                        <td id=\"T_ff668fb6_41ab_11ec_a147_02cba411ec9drow3_col1\" class=\"data row3 col1\" >2024-10-15</td>\n",
       "                        <td id=\"T_ff668fb6_41ab_11ec_a147_02cba411ec9drow3_col2\" class=\"data row3 col2\" >2024-10-15</td>\n",
       "                        <td id=\"T_ff668fb6_41ab_11ec_a147_02cba411ec9drow3_col3\" class=\"data row3 col3\" >-5,000,000.00</td>\n",
       "                        <td id=\"T_ff668fb6_41ab_11ec_a147_02cba411ec9drow3_col4\" class=\"data row3 col4\" >-5,000,000.00</td>\n",
       "                        <td id=\"T_ff668fb6_41ab_11ec_a147_02cba411ec9drow3_col5\" class=\"data row3 col5\" >True</td>\n",
       "                        <td id=\"T_ff668fb6_41ab_11ec_a147_02cba411ec9drow3_col6\" class=\"data row3 col6\" >-5,000,000.00</td>\n",
       "                        <td id=\"T_ff668fb6_41ab_11ec_a147_02cba411ec9drow3_col7\" class=\"data row3 col7\" >CLP</td>\n",
       "                        <td id=\"T_ff668fb6_41ab_11ec_a147_02cba411ec9drow3_col8\" class=\"data row3 col8\" >1.000000</td>\n",
       "                        <td id=\"T_ff668fb6_41ab_11ec_a147_02cba411ec9drow3_col9\" class=\"data row3 col9\" >1.000000</td>\n",
       "                        <td id=\"T_ff668fb6_41ab_11ec_a147_02cba411ec9drow3_col10\" class=\"data row3 col10\" >0.0000%</td>\n",
       "                        <td id=\"T_ff668fb6_41ab_11ec_a147_02cba411ec9drow3_col11\" class=\"data row3 col11\" >-0.00</td>\n",
       "                        <td id=\"T_ff668fb6_41ab_11ec_a147_02cba411ec9drow3_col12\" class=\"data row3 col12\" >0.0000%</td>\n",
       "                        <td id=\"T_ff668fb6_41ab_11ec_a147_02cba411ec9drow3_col13\" class=\"data row3 col13\" >1.000000</td>\n",
       "                        <td id=\"T_ff668fb6_41ab_11ec_a147_02cba411ec9drow3_col14\" class=\"data row3 col14\" >LinAct360</td>\n",
       "            </tr>\n",
       "    </tbody></table>"
      ],
      "text/plain": [
       "<pandas.io.formats.style.Styler at 0x7f6e2650ae48>"
      ]
     },
     "execution_count": 76,
     "metadata": {},
     "output_type": "execute_result"
    }
   ],
   "source": [
    "aux.show_leg(op2[1], 'IcpClpCashflow', '').style.format(frmt)"
   ]
  },
  {
   "cell_type": "markdown",
   "metadata": {},
   "source": [
    "#### Valor Presente por Pata"
   ]
  },
  {
   "cell_type": "markdown",
   "metadata": {},
   "source": [
    "Calculemos ahora los valores presente de cada pata."
   ]
  },
  {
   "cell_type": "code",
   "execution_count": 77,
   "metadata": {
    "ExecuteTime": {
     "end_time": "2021-11-09T22:26:30.201927Z",
     "start_time": "2021-11-09T22:26:30.197555Z"
    }
   },
   "outputs": [
    {
     "name": "stdout",
     "output_type": "stream",
     "text": [
      "El valor presente de la pata fija es: USD 10,273,112.26\n"
     ]
    }
   ],
   "source": [
    "vp_fija_2 = vp.pv(fecha_val, op2[0], zcc)\n",
    "print(f'El valor presente de la pata fija es: USD {vp_fija_2:,.2f}')"
   ]
  },
  {
   "cell_type": "code",
   "execution_count": 78,
   "metadata": {
    "ExecuteTime": {
     "end_time": "2021-11-09T22:26:55.950632Z",
     "start_time": "2021-11-09T22:26:55.946050Z"
    }
   },
   "outputs": [
    {
     "name": "stdout",
     "output_type": "stream",
     "text": [
      "El valor presente de la pata flotante es: USD -10,000,000.00\n"
     ]
    }
   ],
   "source": [
    "fwd.set_rates_icp_clp_leg(fecha_val, 1.0, op2[1], zcc)\n",
    "vp_flot_2 = vp.pv(fecha_val, op2[1], zcc)\n",
    "print(f'El valor presente de la pata flotante es: USD {vp_flot_2:,.2f}')"
   ]
  },
  {
   "cell_type": "code",
   "execution_count": 79,
   "metadata": {
    "ExecuteTime": {
     "end_time": "2021-11-09T22:27:11.432756Z",
     "start_time": "2021-11-09T22:27:11.428781Z"
    }
   },
   "outputs": [
    {
     "name": "stdout",
     "output_type": "stream",
     "text": [
      "Por lo tanto, el valor total de la operación es:\n",
      "Valor total: USD 273,112.26\n"
     ]
    }
   ],
   "source": [
    "print(f'Por lo tanto, el valor total de la operación es:\\nValor total: USD {vp_fija_2 + vp_flot_2:,.2f}')"
   ]
  },
  {
   "cell_type": "markdown",
   "metadata": {
    "solution2": "shown",
    "solution2_first": true
   },
   "source": [
    "#### Ejercicio\n",
    "\n",
    "Pricee esta operación."
   ]
  },
  {
   "cell_type": "markdown",
   "metadata": {
    "solution2": "shown"
   },
   "source": [
    "Segunda forma de obtener una función de 1 sola variable. Se define una función que **retorna** una función de 1 sola variable (que representa el valor de la tasa fija de la operación)."
   ]
  },
  {
   "cell_type": "code",
   "execution_count": 80,
   "metadata": {
    "ExecuteTime": {
     "end_time": "2021-11-09T22:30:01.719115Z",
     "start_time": "2021-11-09T22:30:01.710251Z"
    },
    "solution2": "shown"
   },
   "outputs": [],
   "source": [
    "def get_sofr_ois_builder_only_rate(\n",
    "    rp,\n",
    "    notional,\n",
    "    start_date,\n",
    "    tenor,\n",
    "    spread,\n",
    "    gearing\n",
    "):\n",
    "    def f(fixed_rate_value):\n",
    "        return get_ois_sofr(\n",
    "            rp,\n",
    "            notional,\n",
    "            start_date,\n",
    "            tenor,\n",
    "            fixed_rate_value,\n",
    "            spread,\n",
    "            gearing\n",
    "        )\n",
    "    return f"
   ]
  },
  {
   "cell_type": "markdown",
   "metadata": {
    "solution2": "shown"
   },
   "source": [
    "Utilizamos la función anterior y obtenemos una función que construye un OIS SOFR a partir del valor de la tasa fija."
   ]
  },
  {
   "cell_type": "code",
   "execution_count": 81,
   "metadata": {
    "ExecuteTime": {
     "end_time": "2021-11-09T22:30:43.595864Z",
     "start_time": "2021-11-09T22:30:43.591322Z"
    },
    "solution2": "shown"
   },
   "outputs": [],
   "source": [
    "get_ois_sofr_solo_tasa2 = get_sofr_ois_builder_only_rate(\n",
    "    rp=Qcf.RecPay.RECEIVE,\n",
    "    notional=10000000,\n",
    "    start_date=Qcf.QCDate(14, 10, 2020),\n",
    "    tenor=Qcf.Tenor('4Y'),\n",
    "    spread=0.0,\n",
    "    gearing=1.0\n",
    ")"
   ]
  },
  {
   "cell_type": "code",
   "execution_count": 85,
   "metadata": {
    "ExecuteTime": {
     "end_time": "2021-11-09T22:31:59.507352Z",
     "start_time": "2021-11-09T22:31:59.420357Z"
    }
   },
   "outputs": [],
   "source": [
    "test = get_ois_sofr_solo_tasa2(.03)"
   ]
  },
  {
   "cell_type": "code",
   "execution_count": 86,
   "metadata": {
    "ExecuteTime": {
     "end_time": "2021-11-09T22:32:00.719889Z",
     "start_time": "2021-11-09T22:32:00.706287Z"
    }
   },
   "outputs": [
    {
     "data": {
      "text/html": [
       "<style  type=\"text/css\" >\n",
       "</style><table id=\"T_db10d4d6_41ac_11ec_a147_02cba411ec9d\" ><thead>    <tr>        <th class=\"blank level0\" ></th>        <th class=\"col_heading level0 col0\" >fecha_inicial</th>        <th class=\"col_heading level0 col1\" >fecha_final</th>        <th class=\"col_heading level0 col2\" >fecha_pago</th>        <th class=\"col_heading level0 col3\" >nominal</th>        <th class=\"col_heading level0 col4\" >amortizacion</th>        <th class=\"col_heading level0 col5\" >interes</th>        <th class=\"col_heading level0 col6\" >amort_es_flujo</th>        <th class=\"col_heading level0 col7\" >flujo</th>        <th class=\"col_heading level0 col8\" >moneda</th>        <th class=\"col_heading level0 col9\" >valor_tasa</th>        <th class=\"col_heading level0 col10\" >tipo_tasa</th>    </tr></thead><tbody>\n",
       "                <tr>\n",
       "                        <th id=\"T_db10d4d6_41ac_11ec_a147_02cba411ec9dlevel0_row0\" class=\"row_heading level0 row0\" >0</th>\n",
       "                        <td id=\"T_db10d4d6_41ac_11ec_a147_02cba411ec9drow0_col0\" class=\"data row0 col0\" >2020-10-14</td>\n",
       "                        <td id=\"T_db10d4d6_41ac_11ec_a147_02cba411ec9drow0_col1\" class=\"data row0 col1\" >2021-10-14</td>\n",
       "                        <td id=\"T_db10d4d6_41ac_11ec_a147_02cba411ec9drow0_col2\" class=\"data row0 col2\" >2021-10-14</td>\n",
       "                        <td id=\"T_db10d4d6_41ac_11ec_a147_02cba411ec9drow0_col3\" class=\"data row0 col3\" >10,000,000.00</td>\n",
       "                        <td id=\"T_db10d4d6_41ac_11ec_a147_02cba411ec9drow0_col4\" class=\"data row0 col4\" >0.00</td>\n",
       "                        <td id=\"T_db10d4d6_41ac_11ec_a147_02cba411ec9drow0_col5\" class=\"data row0 col5\" >304,166.67</td>\n",
       "                        <td id=\"T_db10d4d6_41ac_11ec_a147_02cba411ec9drow0_col6\" class=\"data row0 col6\" >True</td>\n",
       "                        <td id=\"T_db10d4d6_41ac_11ec_a147_02cba411ec9drow0_col7\" class=\"data row0 col7\" >304,166.67</td>\n",
       "                        <td id=\"T_db10d4d6_41ac_11ec_a147_02cba411ec9drow0_col8\" class=\"data row0 col8\" >USD</td>\n",
       "                        <td id=\"T_db10d4d6_41ac_11ec_a147_02cba411ec9drow0_col9\" class=\"data row0 col9\" >3.0000%</td>\n",
       "                        <td id=\"T_db10d4d6_41ac_11ec_a147_02cba411ec9drow0_col10\" class=\"data row0 col10\" >LinAct360</td>\n",
       "            </tr>\n",
       "            <tr>\n",
       "                        <th id=\"T_db10d4d6_41ac_11ec_a147_02cba411ec9dlevel0_row1\" class=\"row_heading level0 row1\" >1</th>\n",
       "                        <td id=\"T_db10d4d6_41ac_11ec_a147_02cba411ec9drow1_col0\" class=\"data row1 col0\" >2021-10-14</td>\n",
       "                        <td id=\"T_db10d4d6_41ac_11ec_a147_02cba411ec9drow1_col1\" class=\"data row1 col1\" >2022-10-14</td>\n",
       "                        <td id=\"T_db10d4d6_41ac_11ec_a147_02cba411ec9drow1_col2\" class=\"data row1 col2\" >2022-10-14</td>\n",
       "                        <td id=\"T_db10d4d6_41ac_11ec_a147_02cba411ec9drow1_col3\" class=\"data row1 col3\" >10,000,000.00</td>\n",
       "                        <td id=\"T_db10d4d6_41ac_11ec_a147_02cba411ec9drow1_col4\" class=\"data row1 col4\" >0.00</td>\n",
       "                        <td id=\"T_db10d4d6_41ac_11ec_a147_02cba411ec9drow1_col5\" class=\"data row1 col5\" >304,166.67</td>\n",
       "                        <td id=\"T_db10d4d6_41ac_11ec_a147_02cba411ec9drow1_col6\" class=\"data row1 col6\" >True</td>\n",
       "                        <td id=\"T_db10d4d6_41ac_11ec_a147_02cba411ec9drow1_col7\" class=\"data row1 col7\" >304,166.67</td>\n",
       "                        <td id=\"T_db10d4d6_41ac_11ec_a147_02cba411ec9drow1_col8\" class=\"data row1 col8\" >USD</td>\n",
       "                        <td id=\"T_db10d4d6_41ac_11ec_a147_02cba411ec9drow1_col9\" class=\"data row1 col9\" >3.0000%</td>\n",
       "                        <td id=\"T_db10d4d6_41ac_11ec_a147_02cba411ec9drow1_col10\" class=\"data row1 col10\" >LinAct360</td>\n",
       "            </tr>\n",
       "            <tr>\n",
       "                        <th id=\"T_db10d4d6_41ac_11ec_a147_02cba411ec9dlevel0_row2\" class=\"row_heading level0 row2\" >2</th>\n",
       "                        <td id=\"T_db10d4d6_41ac_11ec_a147_02cba411ec9drow2_col0\" class=\"data row2 col0\" >2022-10-14</td>\n",
       "                        <td id=\"T_db10d4d6_41ac_11ec_a147_02cba411ec9drow2_col1\" class=\"data row2 col1\" >2023-10-16</td>\n",
       "                        <td id=\"T_db10d4d6_41ac_11ec_a147_02cba411ec9drow2_col2\" class=\"data row2 col2\" >2023-10-16</td>\n",
       "                        <td id=\"T_db10d4d6_41ac_11ec_a147_02cba411ec9drow2_col3\" class=\"data row2 col3\" >10,000,000.00</td>\n",
       "                        <td id=\"T_db10d4d6_41ac_11ec_a147_02cba411ec9drow2_col4\" class=\"data row2 col4\" >0.00</td>\n",
       "                        <td id=\"T_db10d4d6_41ac_11ec_a147_02cba411ec9drow2_col5\" class=\"data row2 col5\" >305,833.33</td>\n",
       "                        <td id=\"T_db10d4d6_41ac_11ec_a147_02cba411ec9drow2_col6\" class=\"data row2 col6\" >True</td>\n",
       "                        <td id=\"T_db10d4d6_41ac_11ec_a147_02cba411ec9drow2_col7\" class=\"data row2 col7\" >305,833.33</td>\n",
       "                        <td id=\"T_db10d4d6_41ac_11ec_a147_02cba411ec9drow2_col8\" class=\"data row2 col8\" >USD</td>\n",
       "                        <td id=\"T_db10d4d6_41ac_11ec_a147_02cba411ec9drow2_col9\" class=\"data row2 col9\" >3.0000%</td>\n",
       "                        <td id=\"T_db10d4d6_41ac_11ec_a147_02cba411ec9drow2_col10\" class=\"data row2 col10\" >LinAct360</td>\n",
       "            </tr>\n",
       "            <tr>\n",
       "                        <th id=\"T_db10d4d6_41ac_11ec_a147_02cba411ec9dlevel0_row3\" class=\"row_heading level0 row3\" >3</th>\n",
       "                        <td id=\"T_db10d4d6_41ac_11ec_a147_02cba411ec9drow3_col0\" class=\"data row3 col0\" >2023-10-16</td>\n",
       "                        <td id=\"T_db10d4d6_41ac_11ec_a147_02cba411ec9drow3_col1\" class=\"data row3 col1\" >2024-10-15</td>\n",
       "                        <td id=\"T_db10d4d6_41ac_11ec_a147_02cba411ec9drow3_col2\" class=\"data row3 col2\" >2024-10-15</td>\n",
       "                        <td id=\"T_db10d4d6_41ac_11ec_a147_02cba411ec9drow3_col3\" class=\"data row3 col3\" >10,000,000.00</td>\n",
       "                        <td id=\"T_db10d4d6_41ac_11ec_a147_02cba411ec9drow3_col4\" class=\"data row3 col4\" >10,000,000.00</td>\n",
       "                        <td id=\"T_db10d4d6_41ac_11ec_a147_02cba411ec9drow3_col5\" class=\"data row3 col5\" >304,166.67</td>\n",
       "                        <td id=\"T_db10d4d6_41ac_11ec_a147_02cba411ec9drow3_col6\" class=\"data row3 col6\" >True</td>\n",
       "                        <td id=\"T_db10d4d6_41ac_11ec_a147_02cba411ec9drow3_col7\" class=\"data row3 col7\" >10,304,166.67</td>\n",
       "                        <td id=\"T_db10d4d6_41ac_11ec_a147_02cba411ec9drow3_col8\" class=\"data row3 col8\" >USD</td>\n",
       "                        <td id=\"T_db10d4d6_41ac_11ec_a147_02cba411ec9drow3_col9\" class=\"data row3 col9\" >3.0000%</td>\n",
       "                        <td id=\"T_db10d4d6_41ac_11ec_a147_02cba411ec9drow3_col10\" class=\"data row3 col10\" >LinAct360</td>\n",
       "            </tr>\n",
       "    </tbody></table>"
      ],
      "text/plain": [
       "<pandas.io.formats.style.Styler at 0x7f6e264db9e8>"
      ]
     },
     "execution_count": 86,
     "metadata": {},
     "output_type": "execute_result"
    }
   ],
   "source": [
    "aux.show_leg(test[0], 'FixedRateCashflow', '').style.format(frmt)"
   ]
  },
  {
   "cell_type": "markdown",
   "metadata": {
    "solution2": "shown"
   },
   "source": [
    "Con la ayuda de la función anterior se obtiene una función `error2` que será la que utilizaremos para el *pricing*."
   ]
  },
  {
   "cell_type": "code",
   "execution_count": 87,
   "metadata": {
    "ExecuteTime": {
     "end_time": "2021-11-09T22:34:49.420871Z",
     "start_time": "2021-11-09T22:34:49.414554Z"
    },
    "solution2": "shown"
   },
   "outputs": [],
   "source": [
    "def error2(fixed_rate_value: float) -> float:\n",
    "    this_op = get_ois_sofr_solo_tasa2(fixed_rate_value=fixed_rate_value)\n",
    "    \n",
    "    cshflw = this_op[0].get_cashflow_at(1)\n",
    "    cshflw.set_amortization(5000000)\n",
    "    \n",
    "    cshflw = this_op[0].get_cashflow_at(2)\n",
    "    cshflw.set_nominal(5000000)\n",
    "\n",
    "    cshflw = this_op[0].get_cashflow_at(3)\n",
    "    cshflw.set_nominal(5000000)\n",
    "    cshflw.set_amortization(5000000)\n",
    "    \n",
    "    err = vp.pv(fecha_val, this_op[0], zcc) - 10000000 # Esto es muy ordinario.\n",
    "    # En el caso general en vez de 10000000 habría que calcular al valor presente\n",
    "    # de la pata OIS.\n",
    "    \n",
    "    return err"
   ]
  },
  {
   "cell_type": "markdown",
   "metadata": {
    "solution2": "shown"
   },
   "source": [
    "Se prueba la función `error2`."
   ]
  },
  {
   "cell_type": "code",
   "execution_count": 88,
   "metadata": {
    "ExecuteTime": {
     "end_time": "2021-11-09T22:34:56.219300Z",
     "start_time": "2021-11-09T22:34:56.134601Z"
    },
    "solution2": "shown"
   },
   "outputs": [
    {
     "name": "stdout",
     "output_type": "stream",
     "text": [
      "Error: 273,112.26\n"
     ]
    }
   ],
   "source": [
    "tasa = .01\n",
    "print(f'Error: {error2(tasa):,.2f}')"
   ]
  },
  {
   "cell_type": "markdown",
   "metadata": {
    "solution2": "shown"
   },
   "source": [
    "Se hace el *pricing*."
   ]
  },
  {
   "cell_type": "code",
   "execution_count": 89,
   "metadata": {
    "ExecuteTime": {
     "end_time": "2021-11-09T22:35:19.000240Z",
     "start_time": "2021-11-09T22:35:14.952941Z"
    },
    "solution2": "shown"
   },
   "outputs": [],
   "source": [
    "x2 = root_scalar(\n",
    "        error2,\n",
    "        method='bisect',\n",
    "        bracket=[0.0, .02],\n",
    "        x0=.01,\n",
    "        xtol=.00000000000000001\n",
    ")"
   ]
  },
  {
   "cell_type": "code",
   "execution_count": 90,
   "metadata": {
    "ExecuteTime": {
     "end_time": "2021-11-09T22:35:21.734729Z",
     "start_time": "2021-11-09T22:35:21.731114Z"
    },
    "solution2": "shown"
   },
   "outputs": [
    {
     "name": "stdout",
     "output_type": "stream",
     "text": [
      "Tasa fija es: 0.10127625%\n"
     ]
    }
   ],
   "source": [
    "print(f'Tasa fija es: {x2.root:.8%}')"
   ]
  },
  {
   "cell_type": "markdown",
   "metadata": {},
   "source": [
    "##### Ejercicio"
   ]
  },
  {
   "cell_type": "markdown",
   "metadata": {},
   "source": [
    "Implementar las modificaciones necesarias para poder hacer el *pricing* de una operación cuya pata OIS tenga spread."
   ]
  }
 ],
 "metadata": {
  "hide_input": false,
  "kernelspec": {
   "display_name": "Python 3",
   "language": "python",
   "name": "python3"
  },
  "language_info": {
   "codemirror_mode": {
    "name": "ipython",
    "version": 3
   },
   "file_extension": ".py",
   "mimetype": "text/x-python",
   "name": "python",
   "nbconvert_exporter": "python",
   "pygments_lexer": "ipython3",
   "version": "3.7.3"
  },
  "latex_envs": {
   "LaTeX_envs_menu_present": true,
   "autoclose": true,
   "autocomplete": true,
   "bibliofile": "biblio.bib",
   "cite_by": "apalike",
   "current_citInitial": 1,
   "eqLabelWithNumbers": true,
   "eqNumInitial": 1,
   "hotkeys": {
    "equation": "Ctrl-E",
    "itemize": "Ctrl-I"
   },
   "labels_anchors": false,
   "latex_user_defs": false,
   "report_style_numbering": false,
   "user_envs_cfg": false
  },
  "toc": {
   "base_numbering": "9",
   "nav_menu": {},
   "number_sections": true,
   "sideBar": true,
   "skip_h1_title": false,
   "title_cell": "Table of Contents",
   "title_sidebar": "Contenido",
   "toc_cell": false,
   "toc_position": {
    "height": "calc(100% - 180px)",
    "left": "10px",
    "top": "150px",
    "width": "218.183px"
   },
   "toc_section_display": true,
   "toc_window_display": true
  }
 },
 "nbformat": 4,
 "nbformat_minor": 4
}
