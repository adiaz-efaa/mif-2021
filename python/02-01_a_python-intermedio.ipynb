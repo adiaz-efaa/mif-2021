{
 "cells": [
  {
   "cell_type": "markdown",
   "metadata": {},
   "source": [
    "# `List` y `Dict` Comprehensions"
   ]
  },
  {
   "cell_type": "markdown",
   "metadata": {},
   "source": [
    "Es difícil explicar en abstracto que son las `List` y `Dict` *comprehensions*. Por ahora sólo vamos a decir que son una manera muy potente y rápida de generar `List` y `Dict` a partir de otros `List` y `Dict`. Veamos un par de ejemplos."
   ]
  },
  {
   "cell_type": "markdown",
   "metadata": {},
   "source": [
    "## `List` *Comprehensions*"
   ]
  },
  {
   "cell_type": "markdown",
   "metadata": {},
   "source": [
    "Construir una `List` a partir de otra `List` u otra estrucutura de datos."
   ]
  },
  {
   "cell_type": "markdown",
   "metadata": {},
   "source": [
    "### Ejemplo: Transformar los Elementos de una `List`"
   ]
  },
  {
   "cell_type": "markdown",
   "metadata": {},
   "source": [
    "Supongamos que tenemos una lista de RUTs. Como es típico, los RUTs vienen con formatos inconsistentes, supongamos que pueden venir con o sin separador de miles y con o sin guión antes del dígito verificador. Por ejemplo:\n",
    "\n",
    "- 12.345.678-9\n",
    "- 21543879-9\n",
    "- 214537689\n",
    "\n",
    "Obviamente, antes de utilizar esta lista, queremos homologar los formatos. Para homologar un RUT al formato sin separador de miles y con guión, escribimos la siguiente función:"
   ]
  },
  {
   "cell_type": "code",
   "execution_count": 1,
   "metadata": {
    "ExecuteTime": {
     "end_time": "2021-08-04T22:53:31.429297Z",
     "start_time": "2021-08-04T22:53:31.423347Z"
    }
   },
   "outputs": [],
   "source": [
    "def estandariza_rut(rut):\n",
    "    \"\"\"\n",
    "    Estandariza un RUT al siguiente formato XXXXXXXX-DV.\n",
    "    \n",
    "    Parameters\n",
    "    ----------\n",
    "    \n",
    "    rut: str o int\n",
    "        Representa un RUT, puede venir con o sin separador de miles, con o sin guión antes del \n",
    "        dígito verificador y podría ser un `int` o un `str`.\n",
    "        \n",
    "    Returns\n",
    "    -------\n",
    "    \n",
    "    El RUT en el formato estandarizado como un `str`.\n",
    "    \"\"\"\n",
    "    # Antes de comenzar la transformación nos aseguramos que el parámetro rut sea un str.\n",
    "    temp = str(rut)\n",
    "    \n",
    "    # Se eliminan eventuales separadores de miles.\n",
    "    temp = temp.replace(\".\", \"\")\n",
    "    temp = temp.replace(\",\", \"\")\n",
    "    \n",
    "    # Se elimina eventual dígito verificador.\n",
    "    temp = temp.replace(\"-\", \"\")\n",
    "    \n",
    "    # Se agrega el dígito verificador y se retorna.\n",
    "    return f'{temp[:-1]}-{temp[-1]}' # slicing"
   ]
  },
  {
   "cell_type": "markdown",
   "metadata": {},
   "source": [
    "Probemos la función:"
   ]
  },
  {
   "cell_type": "code",
   "execution_count": 2,
   "metadata": {
    "ExecuteTime": {
     "end_time": "2021-08-04T22:53:54.356721Z",
     "start_time": "2021-08-04T22:53:54.349253Z"
    }
   },
   "outputs": [
    {
     "name": "stdout",
     "output_type": "stream",
     "text": [
      "12345678-9\n",
      "21543879-9\n",
      "21453768-9\n"
     ]
    }
   ],
   "source": [
    "ruts = ['12.345.678-9', '21543879-9', 214537689]\n",
    "for rut in ruts:\n",
    "    print(estandariza_rut(rut))"
   ]
  },
  {
   "cell_type": "code",
   "execution_count": 4,
   "metadata": {
    "ExecuteTime": {
     "end_time": "2021-08-04T22:56:53.383524Z",
     "start_time": "2021-08-04T22:56:53.376930Z"
    }
   },
   "outputs": [
    {
     "data": {
      "text/plain": [
       "['12345678-9', '21543879-9', '21453768-9']"
      ]
     },
     "execution_count": 4,
     "metadata": {},
     "output_type": "execute_result"
    }
   ],
   "source": [
    "ruts_ok = []\n",
    "for rut in ruts:\n",
    "    ruts_ok.append(estandariza_rut(rut))\n",
    "ruts_ok"
   ]
  },
  {
   "cell_type": "markdown",
   "metadata": {},
   "source": [
    "Aplicamos ahora un `List` comprehension para transformar la `List` `ruts` en una `List` con RUTs estandarizados."
   ]
  },
  {
   "cell_type": "code",
   "execution_count": 3,
   "metadata": {
    "ExecuteTime": {
     "end_time": "2021-08-04T22:55:15.650013Z",
     "start_time": "2021-08-04T22:55:15.636102Z"
    }
   },
   "outputs": [
    {
     "data": {
      "text/plain": [
       "['12345678-9', '21543879-9', '21453768-9']"
      ]
     },
     "execution_count": 3,
     "metadata": {},
     "output_type": "execute_result"
    }
   ],
   "source": [
    "ruts_ok = [estandariza_rut(rut) for rut in ruts]\n",
    "ruts_ok"
   ]
  },
  {
   "cell_type": "markdown",
   "metadata": {},
   "source": [
    "La mejor manera de pensar y entender esta sintaxis es recordando la notación matemática (del colegio nada complicado) para denotar o definir un conjunto. En este caso el conjunto $Y$ formado por todos los valores transformados por la función $f$ de los elementos del conjunto $X$.\n",
    "\n",
    "$$Y=\\{ f(x):x\\in X \\}$$"
   ]
  },
  {
   "cell_type": "markdown",
   "metadata": {},
   "source": [
    "#### Ejemplo"
   ]
  },
  {
   "cell_type": "markdown",
   "metadata": {},
   "source": [
    "Considerar esta `List` de nombres: `nombres = ['maría', 'Rosa', 'josé', 'horacio', 'Anacleta']`.\n",
    "\n",
    "Transformar `nombres` en: `['María', 'Rosa', 'José', 'Horacio', 'Anacleta']`.\n",
    "\n",
    "**Tip:** ir a Google y buscar *capitalize string in python*."
   ]
  },
  {
   "cell_type": "markdown",
   "metadata": {
    "solution2": "shown",
    "solution2_first": true
   },
   "source": [
    "Solución:"
   ]
  },
  {
   "cell_type": "code",
   "execution_count": 6,
   "metadata": {
    "ExecuteTime": {
     "end_time": "2021-07-31T11:13:21.169964Z",
     "start_time": "2021-07-31T11:13:21.162151Z"
    },
    "solution2": "shown"
   },
   "outputs": [
    {
     "name": "stdout",
     "output_type": "stream",
     "text": [
      "['María', 'Rosa', 'José', 'Horacio', 'Anacleta']\n",
      "['María', 'Rosa', 'José', 'Horacio', 'Anacleta']\n"
     ]
    }
   ],
   "source": [
    "# Usando List comprehension. Más elegante y más rápido.\n",
    "nombres = ['maría', 'Rosa', 'josé', 'horacio', 'Anacleta']\n",
    "resultado = [x.capitalize() for x in nombres]\n",
    "print(resultado)\n",
    "\n",
    "# Forma fea\n",
    "resultado1 = []\n",
    "for x in nombres:\n",
    "    resultado1.append(x.capitalize())\n",
    "print(resultado1)"
   ]
  },
  {
   "cell_type": "markdown",
   "metadata": {},
   "source": [
    "### Ejemplo: Filtrar los Elementos de una `List`"
   ]
  },
  {
   "cell_type": "markdown",
   "metadata": {},
   "source": [
    "Tenemos ahora una `List` de `Tuple` donde cada `Tuple` tiene el nombre de un producto comestible y un `bool`que indica si el producto tiene o no sellos (si es `True` entonces tiene sellos)."
   ]
  },
  {
   "cell_type": "code",
   "execution_count": 5,
   "metadata": {
    "ExecuteTime": {
     "end_time": "2021-08-04T23:01:28.306180Z",
     "start_time": "2021-08-04T23:01:28.302542Z"
    }
   },
   "outputs": [],
   "source": [
    "productos = [\n",
    "    ('Super8', True),\n",
    "    ('Apio', False),\n",
    "    ('Zucaritas', True),\n",
    "    ('Té verde', False)\n",
    "]"
   ]
  },
  {
   "cell_type": "markdown",
   "metadata": {},
   "source": [
    "Vamos a filtrar los productos sin sellos y almacenarlos en una nueva `List`."
   ]
  },
  {
   "cell_type": "code",
   "execution_count": 12,
   "metadata": {
    "ExecuteTime": {
     "end_time": "2021-08-04T23:06:14.857431Z",
     "start_time": "2021-08-04T23:06:14.852560Z"
    }
   },
   "outputs": [],
   "source": [
    "productos_con_sellos = [p for p in productos if p[1]]"
   ]
  },
  {
   "cell_type": "markdown",
   "metadata": {},
   "source": [
    "La expresión `if p[1]` es lo mismo que escribir `if p[1] == True`, pero es más elegante y conciso. Veamos qué obtuvimos."
   ]
  },
  {
   "cell_type": "code",
   "execution_count": 13,
   "metadata": {
    "ExecuteTime": {
     "end_time": "2021-08-04T23:06:15.776785Z",
     "start_time": "2021-08-04T23:06:15.771621Z"
    }
   },
   "outputs": [
    {
     "data": {
      "text/plain": [
       "[('Super8', True), ('Zucaritas', True)]"
      ]
     },
     "execution_count": 13,
     "metadata": {},
     "output_type": "execute_result"
    }
   ],
   "source": [
    "productos_con_sellos"
   ]
  },
  {
   "cell_type": "markdown",
   "metadata": {},
   "source": [
    "También usando la notación matemática para conjuntos, esta sintaxis se puede pensar como:\n",
    "\n",
    "$$Y=\\{(x_0, x_1): (x_0, x_1) \\in X \\land x_1 = True \\}$$\n",
    "\n",
    "Aquí, $\\land$ es el símbolo matemático para la condición lógica `and`."
   ]
  },
  {
   "cell_type": "markdown",
   "metadata": {},
   "source": [
    "#### Ejemplo"
   ]
  },
  {
   "cell_type": "markdown",
   "metadata": {},
   "source": [
    "Considerando la siguiente `List` `rand_nums` de números enteros generados aleatoriamente usando una `List` comprehension:\n",
    "\n",
    "- filtrar todos los elementos superiores a 50\n",
    "- generar la `List` con las raíces cuadradas de los elementos de `rand_nums`."
   ]
  },
  {
   "cell_type": "code",
   "execution_count": 14,
   "metadata": {
    "ExecuteTime": {
     "end_time": "2021-08-04T23:11:17.011862Z",
     "start_time": "2021-08-04T23:11:17.007450Z"
    },
    "solution2": "shown",
    "solution2_first": true
   },
   "outputs": [],
   "source": [
    "import random as rnd\n",
    "import math # En esta librería está la función sqrt para calcular raíces cuadradas\n",
    "rand_nums = [rnd.randint(1, 101) for i in range(100)] # Es primera vez que usamos range"
   ]
  },
  {
   "cell_type": "markdown",
   "metadata": {
    "solution2": "shown"
   },
   "source": [
    "Solución:"
   ]
  },
  {
   "cell_type": "code",
   "execution_count": 17,
   "metadata": {
    "ExecuteTime": {
     "end_time": "2021-08-04T23:16:17.925565Z",
     "start_time": "2021-08-04T23:16:17.920027Z"
    },
    "solution2": "shown"
   },
   "outputs": [
    {
     "name": "stdout",
     "output_type": "stream",
     "text": [
      "[65, 12, 79, 41, 87, 87, 21, 98, 81, 32, 28, 13, 88, 58, 67, 66, 47, 68, 28, 97, 5, 2, 94, 15, 91, 11, 35, 36, 92, 31, 91, 62, 26, 38, 3, 66, 22, 87, 75, 23, 37, 69, 87, 69, 80, 9, 70, 94, 94, 95, 49, 58, 62, 31, 72, 100, 36, 17, 31, 36, 37, 7, 24, 44, 36, 78, 21, 21, 22, 6, 42, 16, 8, 88, 66, 66, 42, 32, 10, 60, 76, 87, 31, 54, 8, 98, 93, 21, 20, 29, 17, 19, 70, 6, 31, 95, 91, 48, 64, 63]\n",
      "\n",
      "[65, 79, 87, 87, 98, 81, 88, 58, 67, 66, 68, 97, 94, 91, 92, 91, 62, 66, 87, 75, 69, 87, 69, 80, 70, 94, 94, 95, 58, 62, 72, 100, 78, 88, 66, 66, 60, 76, 87, 54, 98, 93, 70, 95, 91, 64, 63]\n",
      "\n",
      "[8.06225774829855, 3.4641016151377544, 8.888194417315589, 6.4031242374328485, 9.327379053088816, 9.327379053088816, 4.58257569495584, 9.899494936611665, 9.0, 5.656854249492381, 5.291502622129181, 3.605551275463989, 9.38083151964686, 7.615773105863909, 8.18535277187245, 8.12403840463596, 6.855654600401044, 8.246211251235321, 5.291502622129181, 9.848857801796104, 2.23606797749979, 1.4142135623730951, 9.695359714832659, 3.872983346207417, 9.539392014169456, 3.3166247903554, 5.916079783099616, 6.0, 9.591663046625438, 5.5677643628300215, 9.539392014169456, 7.874007874011811, 5.0990195135927845, 6.164414002968976, 1.7320508075688772, 8.12403840463596, 4.69041575982343, 9.327379053088816, 8.660254037844387, 4.795831523312719, 6.082762530298219, 8.306623862918075, 9.327379053088816, 8.306623862918075, 8.94427190999916, 3.0, 8.366600265340756, 9.695359714832659, 9.695359714832659, 9.746794344808963, 7.0, 7.615773105863909, 7.874007874011811, 5.5677643628300215, 8.48528137423857, 10.0, 6.0, 4.123105625617661, 5.5677643628300215, 6.0, 6.082762530298219, 2.6457513110645907, 4.898979485566356, 6.6332495807108, 6.0, 8.831760866327848, 4.58257569495584, 4.58257569495584, 4.69041575982343, 2.449489742783178, 6.48074069840786, 4.0, 2.8284271247461903, 9.38083151964686, 8.12403840463596, 8.12403840463596, 6.48074069840786, 5.656854249492381, 3.1622776601683795, 7.745966692414834, 8.717797887081348, 9.327379053088816, 5.5677643628300215, 7.3484692283495345, 2.8284271247461903, 9.899494936611665, 9.643650760992955, 4.58257569495584, 4.47213595499958, 5.385164807134504, 4.123105625617661, 4.358898943540674, 8.366600265340756, 2.449489742783178, 5.5677643628300215, 9.746794344808963, 9.539392014169456, 6.928203230275509, 8.0, 7.937253933193772]\n"
     ]
    }
   ],
   "source": [
    "gt_50 = [number for number in rand_nums if number > 50]\n",
    "sqr = [math.sqrt(number) for number in rand_nums]\n",
    "\n",
    "print(rand_nums)\n",
    "print()\n",
    "print(gt_50)\n",
    "print()\n",
    "print(sqr)"
   ]
  },
  {
   "cell_type": "markdown",
   "metadata": {},
   "source": [
    "##### Ejemplos de `range`"
   ]
  },
  {
   "cell_type": "code",
   "execution_count": 18,
   "metadata": {
    "ExecuteTime": {
     "end_time": "2021-08-04T23:17:37.299911Z",
     "start_time": "2021-08-04T23:17:37.294918Z"
    }
   },
   "outputs": [
    {
     "name": "stdout",
     "output_type": "stream",
     "text": [
      "0\n",
      "1\n",
      "2\n",
      "3\n",
      "4\n"
     ]
    }
   ],
   "source": [
    "for i in range(5):\n",
    "    print(i)"
   ]
  },
  {
   "cell_type": "code",
   "execution_count": 22,
   "metadata": {
    "ExecuteTime": {
     "end_time": "2021-08-04T23:19:33.135965Z",
     "start_time": "2021-08-04T23:19:33.130652Z"
    }
   },
   "outputs": [
    {
     "name": "stdout",
     "output_type": "stream",
     "text": [
      "-1\n",
      "1\n",
      "3\n",
      "5\n",
      "7\n",
      "9\n",
      "11\n",
      "13\n",
      "15\n",
      "17\n",
      "19\n"
     ]
    }
   ],
   "source": [
    "for i in range(-1, 20, 2):\n",
    "    print(i)"
   ]
  },
  {
   "cell_type": "code",
   "execution_count": 24,
   "metadata": {
    "ExecuteTime": {
     "end_time": "2021-08-04T23:21:40.752914Z",
     "start_time": "2021-08-04T23:21:40.749126Z"
    }
   },
   "outputs": [
    {
     "name": "stdout",
     "output_type": "stream",
     "text": [
      "range(stop) -> range object\n",
      "range(start, stop[, step]) -> range object\n",
      "\n",
      "Return an object that produces a sequence of integers from start (inclusive)\n",
      "to stop (exclusive) by step.  range(i, j) produces i, i+1, i+2, ..., j-1.\n",
      "start defaults to 0, and stop is omitted!  range(4) produces 0, 1, 2, 3.\n",
      "These are exactly the valid indices for a list of 4 elements.\n",
      "When step is given, it specifies the increment (or decrement).\n"
     ]
    }
   ],
   "source": [
    "print(range.__doc__) # dunder doc"
   ]
  },
  {
   "cell_type": "code",
   "execution_count": 14,
   "metadata": {
    "ExecuteTime": {
     "end_time": "2021-07-31T11:21:52.237512Z",
     "start_time": "2021-07-31T11:21:52.230727Z"
    }
   },
   "outputs": [
    {
     "name": "stdout",
     "output_type": "stream",
     "text": [
      "a\n",
      "b\n",
      "c\n",
      "d\n",
      "e\n"
     ]
    }
   ],
   "source": [
    "datos = ['a', 'b', 'c', 'd', 'e']\n",
    "for i in range(len(datos)):\n",
    "    print(datos[i])"
   ]
  },
  {
   "cell_type": "markdown",
   "metadata": {},
   "source": [
    "## `Dict` *Comprehensions*"
   ]
  },
  {
   "cell_type": "markdown",
   "metadata": {},
   "source": [
    "Construir un `Dict` a partir de otro `Dict`, una `List` u otra estrucutura de datos."
   ]
  },
  {
   "cell_type": "markdown",
   "metadata": {},
   "source": [
    "### Reorganizar una `List`"
   ]
  },
  {
   "cell_type": "markdown",
   "metadata": {},
   "source": [
    "Consideremos la siguiente `List` de `Tuples`. Cada `Tuple` contiene el nombre, edad (años), peso (kilos) y estatura (cm.) de un paciente. Data con esta estructura es la que usualmente se obtiene de la consulta a una base de datos. Sin embargo, si queremos rápidamente acceder a las cifras de un paciente en particular, tener la data almacenada de esta forma, no es lo más conveniente. Si vamos a buscar por nombre, lo más conveniente es usar un `Dict` cuyos `keys` sea el nombre del paciente y cuyos `values` sea la data del paciente."
   ]
  },
  {
   "cell_type": "code",
   "execution_count": 26,
   "metadata": {
    "ExecuteTime": {
     "end_time": "2021-08-04T23:33:35.461640Z",
     "start_time": "2021-08-04T23:33:35.453023Z"
    }
   },
   "outputs": [],
   "source": [
    "data = [\n",
    "    ('Pedro', 25, 70, 170),\n",
    "    ('Juan', 43, 67, 165),\n",
    "    ('Diego', 18, 90, 180),\n",
    "    ('María', 50, 55, 160),\n",
    "]"
   ]
  },
  {
   "cell_type": "code",
   "execution_count": 34,
   "metadata": {
    "ExecuteTime": {
     "end_time": "2021-08-04T23:35:18.001790Z",
     "start_time": "2021-08-04T23:35:17.996273Z"
    }
   },
   "outputs": [
    {
     "data": {
      "text/plain": [
       "(25, 70, 170)"
      ]
     },
     "execution_count": 34,
     "metadata": {},
     "output_type": "execute_result"
    }
   ],
   "source": [
    "data[0][1:]"
   ]
  },
  {
   "cell_type": "code",
   "execution_count": 35,
   "metadata": {
    "ExecuteTime": {
     "end_time": "2021-08-04T23:36:38.039596Z",
     "start_time": "2021-08-04T23:36:38.025032Z"
    }
   },
   "outputs": [
    {
     "data": {
      "text/plain": [
       "{'Pedro': (25, 70, 170),\n",
       " 'Juan': (43, 67, 165),\n",
       " 'Diego': (18, 90, 180),\n",
       " 'María': (50, 55, 160)}"
      ]
     },
     "execution_count": 35,
     "metadata": {},
     "output_type": "execute_result"
    }
   ],
   "source": [
    "data_dict = {d[0]: d[1:] for d in data}\n",
    "data_dict"
   ]
  },
  {
   "cell_type": "markdown",
   "metadata": {},
   "source": [
    "Ahora, si queremos acceder a los datos de María sólo tenemos que:"
   ]
  },
  {
   "cell_type": "code",
   "execution_count": 36,
   "metadata": {
    "ExecuteTime": {
     "end_time": "2021-08-04T23:37:05.544374Z",
     "start_time": "2021-08-04T23:37:05.536957Z"
    }
   },
   "outputs": [
    {
     "data": {
      "text/plain": [
       "(50, 55, 160)"
      ]
     },
     "execution_count": 36,
     "metadata": {},
     "output_type": "execute_result"
    }
   ],
   "source": [
    "data_dict['María']"
   ]
  },
  {
   "cell_type": "markdown",
   "metadata": {},
   "source": [
    "### Asignar Nombres a los Datos Numéricos"
   ]
  },
  {
   "cell_type": "markdown",
   "metadata": {},
   "source": [
    "La estructura anterior es sin duda una mejora. Sin embargo, podríamos confundirnos entre la edad y el peso de un paciente. Por ejemplo, María tiene **50** años y pesa **55** kilos. Para que no exista esa confusión, también la data se almacenará en un `Dict`."
   ]
  },
  {
   "cell_type": "code",
   "execution_count": 37,
   "metadata": {
    "ExecuteTime": {
     "end_time": "2021-08-04T23:38:38.775977Z",
     "start_time": "2021-08-04T23:38:38.771954Z"
    }
   },
   "outputs": [],
   "source": [
    "data_dict_2 = {d[0]: {'edad': d[1], 'peso': d[2], 'estatura': d[3]} for d in data}"
   ]
  },
  {
   "cell_type": "code",
   "execution_count": 38,
   "metadata": {
    "ExecuteTime": {
     "end_time": "2021-08-04T23:38:47.961475Z",
     "start_time": "2021-08-04T23:38:47.955694Z"
    }
   },
   "outputs": [
    {
     "data": {
      "text/plain": [
       "{'Pedro': {'edad': 25, 'peso': 70, 'estatura': 170},\n",
       " 'Juan': {'edad': 43, 'peso': 67, 'estatura': 165},\n",
       " 'Diego': {'edad': 18, 'peso': 90, 'estatura': 180},\n",
       " 'María': {'edad': 50, 'peso': 55, 'estatura': 160}}"
      ]
     },
     "execution_count": 38,
     "metadata": {},
     "output_type": "execute_result"
    }
   ],
   "source": [
    "data_dict_2"
   ]
  },
  {
   "cell_type": "markdown",
   "metadata": {},
   "source": [
    "Ahora, si queremos la edad de María hacemos:"
   ]
  },
  {
   "cell_type": "code",
   "execution_count": 42,
   "metadata": {
    "ExecuteTime": {
     "end_time": "2021-08-04T23:39:36.680818Z",
     "start_time": "2021-08-04T23:39:36.676478Z"
    }
   },
   "outputs": [
    {
     "data": {
      "text/plain": [
       "50"
      ]
     },
     "execution_count": 42,
     "metadata": {},
     "output_type": "execute_result"
    }
   ],
   "source": [
    "data_dict_2['María']['edad']"
   ]
  },
  {
   "cell_type": "markdown",
   "metadata": {},
   "source": [
    "Y su peso ..."
   ]
  },
  {
   "cell_type": "code",
   "execution_count": 21,
   "metadata": {
    "ExecuteTime": {
     "end_time": "2021-07-31T11:26:03.555525Z",
     "start_time": "2021-07-31T11:26:03.546783Z"
    }
   },
   "outputs": [
    {
     "data": {
      "text/plain": [
       "55"
      ]
     },
     "execution_count": 21,
     "metadata": {},
     "output_type": "execute_result"
    }
   ],
   "source": [
    "data_dict_2['María']['peso']"
   ]
  }
 ],
 "metadata": {
  "hide_input": false,
  "kernelspec": {
   "display_name": "Python 3",
   "language": "python",
   "name": "python3"
  },
  "language_info": {
   "codemirror_mode": {
    "name": "ipython",
    "version": 3
   },
   "file_extension": ".py",
   "mimetype": "text/x-python",
   "name": "python",
   "nbconvert_exporter": "python",
   "pygments_lexer": "ipython3",
   "version": "3.7.3"
  },
  "toc": {
   "base_numbering": 1,
   "nav_menu": {},
   "number_sections": true,
   "sideBar": true,
   "skip_h1_title": true,
   "title_cell": "Table of Contents",
   "title_sidebar": "Contenido",
   "toc_cell": false,
   "toc_position": {
    "height": "calc(100% - 180px)",
    "left": "10px",
    "top": "150px",
    "width": "165px"
   },
   "toc_section_display": true,
   "toc_window_display": true
  }
 },
 "nbformat": 4,
 "nbformat_minor": 4
}
