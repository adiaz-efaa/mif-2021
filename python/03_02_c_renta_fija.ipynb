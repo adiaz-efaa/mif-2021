{
 "cells": [
  {
   "cell_type": "markdown",
   "metadata": {},
   "source": [
    "# Programación Orientada a Objetos"
   ]
  },
  {
   "cell_type": "markdown",
   "metadata": {},
   "source": [
    "https://en.wikipedia.org/wiki/Object-oriented_programming"
   ]
  },
  {
   "cell_type": "markdown",
   "metadata": {},
   "source": [
    "Tenemos las siguientes definiciones:\n",
    "\n",
    "**Clase:** es una plantilla (*template*) para crear *objetos* (*objects*).\n",
    "\n",
    "**Objeto:** los objetos son tipos de variables que a su vez tienen *member variables* y *member functions* o *métodos*. Estos métodos representan comportamiento y/o funcionalidad asociada al objeto."
   ]
  },
  {
   "cell_type": "markdown",
   "metadata": {},
   "source": [
    "## Ejemplos"
   ]
  },
  {
   "cell_type": "markdown",
   "metadata": {},
   "source": [
    "En Python, todo es un objeto."
   ]
  },
  {
   "cell_type": "code",
   "execution_count": 1,
   "metadata": {
    "ExecuteTime": {
     "end_time": "2021-08-26T00:17:14.705748Z",
     "start_time": "2021-08-26T00:17:14.701706Z"
    }
   },
   "outputs": [],
   "source": [
    "x = 2"
   ]
  },
  {
   "cell_type": "markdown",
   "metadata": {},
   "source": [
    "¿Cómo me doy cuenta? La variables `x` tiene métodos, por ejemplo:"
   ]
  },
  {
   "cell_type": "code",
   "execution_count": 2,
   "metadata": {
    "ExecuteTime": {
     "end_time": "2021-08-26T00:17:28.479744Z",
     "start_time": "2021-08-26T00:17:28.463837Z"
    }
   },
   "outputs": [
    {
     "data": {
      "text/plain": [
       "b'\\x02'"
      ]
     },
     "execution_count": 2,
     "metadata": {},
     "output_type": "execute_result"
    }
   ],
   "source": [
    "x.to_bytes(1, 'big')"
   ]
  },
  {
   "cell_type": "code",
   "execution_count": 3,
   "metadata": {
    "ExecuteTime": {
     "end_time": "2021-08-26T00:18:16.607848Z",
     "start_time": "2021-08-26T00:18:16.601615Z"
    }
   },
   "outputs": [],
   "source": [
    "from datetime import date\n",
    "fecha = date(2021, 8, 25)"
   ]
  },
  {
   "cell_type": "markdown",
   "metadata": {},
   "source": [
    "El objeto `fecha`, que es de tipo `date` se *construye* con tres enteros positivos que representan el año, mes y día. Si uso una combinación inválida se genera un error."
   ]
  },
  {
   "cell_type": "code",
   "execution_count": 6,
   "metadata": {
    "ExecuteTime": {
     "end_time": "2021-08-26T00:18:55.499229Z",
     "start_time": "2021-08-26T00:18:55.489462Z"
    }
   },
   "outputs": [
    {
     "ename": "ValueError",
     "evalue": "day is out of range for month",
     "output_type": "error",
     "traceback": [
      "\u001b[0;31m---------------------------------------------------------------------------\u001b[0m",
      "\u001b[0;31mValueError\u001b[0m                                Traceback (most recent call last)",
      "\u001b[0;32m<ipython-input-6-1f418a3a08ad>\u001b[0m in \u001b[0;36m<module>\u001b[0;34m\u001b[0m\n\u001b[0;32m----> 1\u001b[0;31m \u001b[0mdate\u001b[0m\u001b[0;34m(\u001b[0m\u001b[0;36m2021\u001b[0m\u001b[0;34m,\u001b[0m \u001b[0;36m2\u001b[0m\u001b[0;34m,\u001b[0m \u001b[0;36m29\u001b[0m\u001b[0;34m)\u001b[0m \u001b[0;31m# El 2021 no es bisiesto.\u001b[0m\u001b[0;34m\u001b[0m\u001b[0;34m\u001b[0m\u001b[0m\n\u001b[0m",
      "\u001b[0;31mValueError\u001b[0m: day is out of range for month"
     ]
    }
   ],
   "source": [
    "date(2021, 2, 29) # El 2021 no es bisiesto."
   ]
  },
  {
   "cell_type": "markdown",
   "metadata": {},
   "source": [
    "El objeto `fecha` tiene métodos."
   ]
  },
  {
   "cell_type": "code",
   "execution_count": 7,
   "metadata": {
    "ExecuteTime": {
     "end_time": "2021-08-26T00:19:18.563279Z",
     "start_time": "2021-08-26T00:19:18.558145Z"
    }
   },
   "outputs": [
    {
     "data": {
      "text/plain": [
       "'2021-08-25'"
      ]
     },
     "execution_count": 7,
     "metadata": {},
     "output_type": "execute_result"
    }
   ],
   "source": [
    "fecha.isoformat()"
   ]
  },
  {
   "cell_type": "markdown",
   "metadata": {},
   "source": [
    "Las funciones son objetos."
   ]
  },
  {
   "cell_type": "code",
   "execution_count": 8,
   "metadata": {
    "ExecuteTime": {
     "end_time": "2021-08-26T00:19:42.048023Z",
     "start_time": "2021-08-26T00:19:42.041628Z"
    }
   },
   "outputs": [
    {
     "data": {
      "text/plain": [
       "builtin_function_or_method"
      ]
     },
     "execution_count": 8,
     "metadata": {},
     "output_type": "execute_result"
    }
   ],
   "source": [
    "import math\n",
    "type(math.exp)"
   ]
  },
  {
   "cell_type": "markdown",
   "metadata": {},
   "source": [
    "La función `math.exp` tiene métodos."
   ]
  },
  {
   "cell_type": "code",
   "execution_count": 9,
   "metadata": {
    "ExecuteTime": {
     "end_time": "2021-08-26T00:20:05.924178Z",
     "start_time": "2021-08-26T00:20:05.917660Z"
    }
   },
   "outputs": [
    {
     "data": {
      "text/plain": [
       "'Return e raised to the power of x.'"
      ]
     },
     "execution_count": 9,
     "metadata": {},
     "output_type": "execute_result"
    }
   ],
   "source": [
    "math.exp.__doc__"
   ]
  },
  {
   "cell_type": "markdown",
   "metadata": {},
   "source": [
    "## Definir una Clase"
   ]
  },
  {
   "cell_type": "markdown",
   "metadata": {},
   "source": [
    "Podemos definir nuestras propias clases y objetos. En el siguiente ejemplo vamos a definir una clase que represente una coordenada cartesiana en el espacio."
   ]
  },
  {
   "cell_type": "code",
   "execution_count": 10,
   "metadata": {
    "ExecuteTime": {
     "end_time": "2021-08-26T00:22:50.397873Z",
     "start_time": "2021-08-26T00:22:50.392155Z"
    }
   },
   "outputs": [],
   "source": [
    "class PointInSpace:\n",
    "    def __init__(self, x, y, z):\n",
    "        self.x = x\n",
    "        self.y = y\n",
    "        self.z = z"
   ]
  },
  {
   "cell_type": "markdown",
   "metadata": {},
   "source": [
    "El método `__init__` es el *constructor* de la clase, el parámetro `self` representa la instancia de la clase (un objeto concreto).\n",
    "\n",
    "**Nota nerd:** en Python los métodos que empiezan y terminan con doble guión bajo `__` se llaman *dunder methods*.\n",
    "\n",
    "https://dbader.org/blog/python-dunder-methods"
   ]
  },
  {
   "cell_type": "markdown",
   "metadata": {},
   "source": [
    "¿Cómo se da de alta (*instantiate*) un objeto de tipo `PointInSpace`?"
   ]
  },
  {
   "cell_type": "code",
   "execution_count": 11,
   "metadata": {
    "ExecuteTime": {
     "end_time": "2021-08-26T00:24:31.741072Z",
     "start_time": "2021-08-26T00:24:31.735569Z"
    }
   },
   "outputs": [],
   "source": [
    "punto = PointInSpace(0, 0, 0)"
   ]
  },
  {
   "cell_type": "code",
   "execution_count": 15,
   "metadata": {
    "ExecuteTime": {
     "end_time": "2021-08-26T00:25:00.933736Z",
     "start_time": "2021-08-26T00:25:00.927863Z"
    }
   },
   "outputs": [
    {
     "data": {
      "text/plain": [
       "__main__.PointInSpace"
      ]
     },
     "execution_count": 15,
     "metadata": {},
     "output_type": "execute_result"
    }
   ],
   "source": [
    "type(punto)"
   ]
  },
  {
   "cell_type": "markdown",
   "metadata": {},
   "source": [
    "Luego, a través de `punto` podemos acceder a sus coordenadas."
   ]
  },
  {
   "cell_type": "code",
   "execution_count": 12,
   "metadata": {
    "ExecuteTime": {
     "end_time": "2021-08-26T00:24:43.909923Z",
     "start_time": "2021-08-26T00:24:43.905146Z"
    }
   },
   "outputs": [
    {
     "data": {
      "text/plain": [
       "0"
      ]
     },
     "execution_count": 12,
     "metadata": {},
     "output_type": "execute_result"
    }
   ],
   "source": [
    "punto.x"
   ]
  },
  {
   "cell_type": "code",
   "execution_count": 13,
   "metadata": {
    "ExecuteTime": {
     "end_time": "2021-08-26T00:24:46.759974Z",
     "start_time": "2021-08-26T00:24:46.754651Z"
    }
   },
   "outputs": [
    {
     "data": {
      "text/plain": [
       "0"
      ]
     },
     "execution_count": 13,
     "metadata": {},
     "output_type": "execute_result"
    }
   ],
   "source": [
    "punto.y"
   ]
  },
  {
   "cell_type": "code",
   "execution_count": 14,
   "metadata": {
    "ExecuteTime": {
     "end_time": "2021-08-26T00:24:48.723748Z",
     "start_time": "2021-08-26T00:24:48.718561Z"
    }
   },
   "outputs": [
    {
     "data": {
      "text/plain": [
       "0"
      ]
     },
     "execution_count": 14,
     "metadata": {},
     "output_type": "execute_result"
    }
   ],
   "source": [
    "punto.z"
   ]
  },
  {
   "cell_type": "markdown",
   "metadata": {},
   "source": [
    "Lo siguiente genera un error."
   ]
  },
  {
   "cell_type": "code",
   "execution_count": 16,
   "metadata": {
    "ExecuteTime": {
     "end_time": "2021-08-26T00:25:39.532916Z",
     "start_time": "2021-08-26T00:25:39.525436Z"
    }
   },
   "outputs": [
    {
     "ename": "AttributeError",
     "evalue": "'PointInSpace' object has no attribute 'w'",
     "output_type": "error",
     "traceback": [
      "\u001b[0;31m---------------------------------------------------------------------------\u001b[0m",
      "\u001b[0;31mAttributeError\u001b[0m                            Traceback (most recent call last)",
      "\u001b[0;32m<ipython-input-16-a1eeaf757af9>\u001b[0m in \u001b[0;36m<module>\u001b[0;34m\u001b[0m\n\u001b[0;32m----> 1\u001b[0;31m \u001b[0mpunto\u001b[0m\u001b[0;34m.\u001b[0m\u001b[0mw\u001b[0m\u001b[0;34m\u001b[0m\u001b[0;34m\u001b[0m\u001b[0m\n\u001b[0m",
      "\u001b[0;31mAttributeError\u001b[0m: 'PointInSpace' object has no attribute 'w'"
     ]
    }
   ],
   "source": [
    "punto.w"
   ]
  },
  {
   "cell_type": "markdown",
   "metadata": {},
   "source": [
    "Podemos agregar más comportamiento o funcionalidad a la clase, y en consecuencia, a todos los objetos de esa clase."
   ]
  },
  {
   "cell_type": "code",
   "execution_count": 17,
   "metadata": {
    "ExecuteTime": {
     "end_time": "2021-08-26T00:26:44.582238Z",
     "start_time": "2021-08-26T00:26:44.576351Z"
    }
   },
   "outputs": [],
   "source": [
    "class PointInSpace:\n",
    "    def __init__(self, x, y, z):\n",
    "        self.x = x\n",
    "        self.y = y\n",
    "        self.z = z\n",
    "        \n",
    "    def norma(self):\n",
    "        return math.sqrt(self.x**2 + self.y**2 + self.z**2)"
   ]
  },
  {
   "cell_type": "code",
   "execution_count": 18,
   "metadata": {
    "ExecuteTime": {
     "end_time": "2021-08-26T00:26:51.199356Z",
     "start_time": "2021-08-26T00:26:51.195487Z"
    }
   },
   "outputs": [],
   "source": [
    "punto = PointInSpace(1, 2, 3)"
   ]
  },
  {
   "cell_type": "code",
   "execution_count": 19,
   "metadata": {
    "ExecuteTime": {
     "end_time": "2021-08-26T00:26:53.988348Z",
     "start_time": "2021-08-26T00:26:53.982342Z"
    }
   },
   "outputs": [
    {
     "data": {
      "text/plain": [
       "3.7416573867739413"
      ]
     },
     "execution_count": 19,
     "metadata": {},
     "output_type": "execute_result"
    }
   ],
   "source": [
    "punto.norma()"
   ]
  },
  {
   "cell_type": "markdown",
   "metadata": {},
   "source": [
    "Un objeto es *mutable*:"
   ]
  },
  {
   "cell_type": "code",
   "execution_count": 20,
   "metadata": {
    "ExecuteTime": {
     "end_time": "2021-08-26T00:27:25.708157Z",
     "start_time": "2021-08-26T00:27:25.704728Z"
    }
   },
   "outputs": [],
   "source": [
    "punto.x = 2"
   ]
  },
  {
   "cell_type": "code",
   "execution_count": 21,
   "metadata": {
    "ExecuteTime": {
     "end_time": "2021-08-26T00:27:30.764713Z",
     "start_time": "2021-08-26T00:27:30.758522Z"
    }
   },
   "outputs": [
    {
     "data": {
      "text/plain": [
       "2"
      ]
     },
     "execution_count": 21,
     "metadata": {},
     "output_type": "execute_result"
    }
   ],
   "source": [
    "punto.x"
   ]
  },
  {
   "cell_type": "markdown",
   "metadata": {},
   "source": [
    "Incluso puedo agregarle métodos:"
   ]
  },
  {
   "cell_type": "code",
   "execution_count": 22,
   "metadata": {
    "ExecuteTime": {
     "end_time": "2021-08-26T00:28:03.590416Z",
     "start_time": "2021-08-26T00:28:03.585695Z"
    }
   },
   "outputs": [],
   "source": [
    "def norma_geom(self):\n",
    "    return math.pow(self.x * self.y * self.z, 1./3)"
   ]
  },
  {
   "cell_type": "code",
   "execution_count": 23,
   "metadata": {
    "ExecuteTime": {
     "end_time": "2021-08-26T00:28:21.899160Z",
     "start_time": "2021-08-26T00:28:21.894607Z"
    }
   },
   "outputs": [],
   "source": [
    "PointInSpace.norma_geom = norma_geom"
   ]
  },
  {
   "cell_type": "code",
   "execution_count": 24,
   "metadata": {
    "ExecuteTime": {
     "end_time": "2021-08-26T00:28:25.518645Z",
     "start_time": "2021-08-26T00:28:25.514545Z"
    }
   },
   "outputs": [],
   "source": [
    "punto = PointInSpace(1, 2, 3)"
   ]
  },
  {
   "cell_type": "code",
   "execution_count": 25,
   "metadata": {
    "ExecuteTime": {
     "end_time": "2021-08-26T00:28:30.463233Z",
     "start_time": "2021-08-26T00:28:30.457815Z"
    }
   },
   "outputs": [
    {
     "data": {
      "text/plain": [
       "1.8171205928321397"
      ]
     },
     "execution_count": 25,
     "metadata": {},
     "output_type": "execute_result"
    }
   ],
   "source": [
    "punto.norma_geom()"
   ]
  },
  {
   "cell_type": "markdown",
   "metadata": {},
   "source": [
    "## Otros *dunder methods*"
   ]
  },
  {
   "cell_type": "code",
   "execution_count": 26,
   "metadata": {
    "ExecuteTime": {
     "end_time": "2021-08-26T00:30:31.078152Z",
     "start_time": "2021-08-26T00:30:30.718194Z"
    }
   },
   "outputs": [],
   "source": [
    "import pandas as pd"
   ]
  },
  {
   "cell_type": "code",
   "execution_count": 27,
   "metadata": {
    "ExecuteTime": {
     "end_time": "2021-08-26T00:30:35.559239Z",
     "start_time": "2021-08-26T00:30:35.555630Z"
    }
   },
   "outputs": [],
   "source": [
    "data = [\n",
    "    {\n",
    "        'nombre': 'Donald',\n",
    "        'especie': 'pato',\n",
    "    },\n",
    "    {\n",
    "        'nombre': 'Mickey',\n",
    "        'especie': 'ratón',\n",
    "    },\n",
    "    {\n",
    "        'nombre': 'Tribilín',\n",
    "        'especie': 'perro',\n",
    "    }\n",
    "]"
   ]
  },
  {
   "cell_type": "code",
   "execution_count": 28,
   "metadata": {
    "ExecuteTime": {
     "end_time": "2021-08-26T00:30:40.178451Z",
     "start_time": "2021-08-26T00:30:40.172571Z"
    }
   },
   "outputs": [],
   "source": [
    "data_df = pd.DataFrame(data)"
   ]
  },
  {
   "cell_type": "code",
   "execution_count": 29,
   "metadata": {
    "ExecuteTime": {
     "end_time": "2021-08-26T00:30:42.915528Z",
     "start_time": "2021-08-26T00:30:42.865382Z"
    }
   },
   "outputs": [
    {
     "data": {
      "text/html": [
       "<div>\n",
       "<style scoped>\n",
       "    .dataframe tbody tr th:only-of-type {\n",
       "        vertical-align: middle;\n",
       "    }\n",
       "\n",
       "    .dataframe tbody tr th {\n",
       "        vertical-align: top;\n",
       "    }\n",
       "\n",
       "    .dataframe thead th {\n",
       "        text-align: right;\n",
       "    }\n",
       "</style>\n",
       "<table border=\"1\" class=\"dataframe\">\n",
       "  <thead>\n",
       "    <tr style=\"text-align: right;\">\n",
       "      <th></th>\n",
       "      <th>nombre</th>\n",
       "      <th>especie</th>\n",
       "    </tr>\n",
       "  </thead>\n",
       "  <tbody>\n",
       "    <tr>\n",
       "      <th>0</th>\n",
       "      <td>Donald</td>\n",
       "      <td>pato</td>\n",
       "    </tr>\n",
       "    <tr>\n",
       "      <th>1</th>\n",
       "      <td>Mickey</td>\n",
       "      <td>ratón</td>\n",
       "    </tr>\n",
       "    <tr>\n",
       "      <th>2</th>\n",
       "      <td>Tribilín</td>\n",
       "      <td>perro</td>\n",
       "    </tr>\n",
       "  </tbody>\n",
       "</table>\n",
       "</div>"
      ],
      "text/plain": [
       "     nombre especie\n",
       "0    Donald    pato\n",
       "1    Mickey   ratón\n",
       "2  Tribilín   perro"
      ]
     },
     "execution_count": 29,
     "metadata": {},
     "output_type": "execute_result"
    }
   ],
   "source": [
    "data_df"
   ]
  },
  {
   "cell_type": "code",
   "execution_count": 30,
   "metadata": {
    "ExecuteTime": {
     "end_time": "2021-08-26T00:30:59.308782Z",
     "start_time": "2021-08-26T00:30:59.303152Z"
    }
   },
   "outputs": [
    {
     "name": "stdout",
     "output_type": "stream",
     "text": [
      "\n",
      "    Two-dimensional, size-mutable, potentially heterogeneous tabular data.\n",
      "\n",
      "    Data structure also contains labeled axes (rows and columns).\n",
      "    Arithmetic operations align on both row and column labels. Can be\n",
      "    thought of as a dict-like container for Series objects. The primary\n",
      "    pandas data structure.\n",
      "\n",
      "    Parameters\n",
      "    ----------\n",
      "    data : ndarray (structured or homogeneous), Iterable, dict, or DataFrame\n",
      "        Dict can contain Series, arrays, constants, or list-like objects.\n",
      "\n",
      "        .. versionchanged:: 0.23.0\n",
      "           If data is a dict, column order follows insertion-order for\n",
      "           Python 3.6 and later.\n",
      "\n",
      "        .. versionchanged:: 0.25.0\n",
      "           If data is a list of dicts, column order follows insertion-order\n",
      "           for Python 3.6 and later.\n",
      "\n",
      "    index : Index or array-like\n",
      "        Index to use for resulting frame. Will default to RangeIndex if\n",
      "        no indexing information part of input data and no index provided.\n",
      "    columns : Index or array-like\n",
      "        Column labels to use for resulting frame. Will default to\n",
      "        RangeIndex (0, 1, 2, ..., n) if no column labels are provided.\n",
      "    dtype : dtype, default None\n",
      "        Data type to force. Only a single dtype is allowed. If None, infer.\n",
      "    copy : bool, default False\n",
      "        Copy data from inputs. Only affects DataFrame / 2d ndarray input.\n",
      "\n",
      "    See Also\n",
      "    --------\n",
      "    DataFrame.from_records : Constructor from tuples, also record arrays.\n",
      "    DataFrame.from_dict : From dicts of Series, arrays, or dicts.\n",
      "    read_csv\n",
      "    read_table\n",
      "    read_clipboard\n",
      "\n",
      "    Examples\n",
      "    --------\n",
      "    Constructing DataFrame from a dictionary.\n",
      "\n",
      "    >>> d = {'col1': [1, 2], 'col2': [3, 4]}\n",
      "    >>> df = pd.DataFrame(data=d)\n",
      "    >>> df\n",
      "       col1  col2\n",
      "    0     1     3\n",
      "    1     2     4\n",
      "\n",
      "    Notice that the inferred dtype is int64.\n",
      "\n",
      "    >>> df.dtypes\n",
      "    col1    int64\n",
      "    col2    int64\n",
      "    dtype: object\n",
      "\n",
      "    To enforce a single dtype:\n",
      "\n",
      "    >>> df = pd.DataFrame(data=d, dtype=np.int8)\n",
      "    >>> df.dtypes\n",
      "    col1    int8\n",
      "    col2    int8\n",
      "    dtype: object\n",
      "\n",
      "    Constructing DataFrame from numpy ndarray:\n",
      "\n",
      "    >>> df2 = pd.DataFrame(np.array([[1, 2, 3], [4, 5, 6], [7, 8, 9]]),\n",
      "    ...                    columns=['a', 'b', 'c'])\n",
      "    >>> df2\n",
      "       a  b  c\n",
      "    0  1  2  3\n",
      "    1  4  5  6\n",
      "    2  7  8  9\n",
      "    \n"
     ]
    }
   ],
   "source": [
    "print(data_df.__doc__)"
   ]
  },
  {
   "cell_type": "code",
   "execution_count": 31,
   "metadata": {
    "ExecuteTime": {
     "end_time": "2021-08-26T00:31:16.100132Z",
     "start_time": "2021-08-26T00:31:16.093344Z"
    }
   },
   "outputs": [
    {
     "name": "stdout",
     "output_type": "stream",
     "text": [
      "     nombre especie\n",
      "0    Donald    pato\n",
      "1    Mickey   ratón\n",
      "2  Tribilín   perro\n"
     ]
    }
   ],
   "source": [
    "print(data_df.__str__())"
   ]
  },
  {
   "cell_type": "code",
   "execution_count": 32,
   "metadata": {
    "ExecuteTime": {
     "end_time": "2021-08-26T00:31:25.267450Z",
     "start_time": "2021-08-26T00:31:25.259117Z"
    }
   },
   "outputs": [
    {
     "data": {
      "text/plain": [
       "'     nombre especie\\n0    Donald    pato\\n1    Mickey   ratón\\n2  Tribilín   perro'"
      ]
     },
     "execution_count": 32,
     "metadata": {},
     "output_type": "execute_result"
    }
   ],
   "source": [
    "data_df.__repr__()"
   ]
  },
  {
   "cell_type": "code",
   "execution_count": 33,
   "metadata": {
    "ExecuteTime": {
     "end_time": "2021-08-26T00:31:32.983966Z",
     "start_time": "2021-08-26T00:31:32.977095Z"
    }
   },
   "outputs": [
    {
     "data": {
      "text/plain": [
       "3"
      ]
     },
     "execution_count": 33,
     "metadata": {},
     "output_type": "execute_result"
    }
   ],
   "source": [
    "data_df.__len__()"
   ]
  },
  {
   "cell_type": "markdown",
   "metadata": {},
   "source": [
    "## So?"
   ]
  },
  {
   "cell_type": "markdown",
   "metadata": {},
   "source": [
    "Vamos a desarrollar un pequeño ejemplo que nos de una mejor idea de las posibilidades que se abren cuando usamos objetos.\n",
    "\n",
    "**NOTA:** este código es sólo de ejemplo y le falta mucho para poder ser usado en un entorno de producción."
   ]
  },
  {
   "cell_type": "code",
   "execution_count": 34,
   "metadata": {
    "ExecuteTime": {
     "end_time": "2021-08-26T00:34:05.918706Z",
     "start_time": "2021-08-26T00:34:05.909239Z"
    }
   },
   "outputs": [],
   "source": [
    "class PosicionRF:\n",
    "    def __init__(self, nemotecnico, nominal, valor_mercado, tir_mercado, duracion):\n",
    "        self.nemotecnico = nemotecnico\n",
    "        self.nominal = nominal\n",
    "        self.valor_mercado = valor_mercado\n",
    "        self.tir_mercado = tir_mercado\n",
    "        self.duracion = duracion\n",
    "        \n",
    "    def sensibilidad(self, pb):\n",
    "        _pb = pb / 10000\n",
    "        return self.valor_mercado * self.duracion * _pb / (1 + self.tir_mercado)\n",
    "    \n",
    "    def __str__(self):\n",
    "        result = f'nemotecnico: {self.nemotecnico}\\n'\n",
    "        result += f'nominal: {self.nominal}\\n'\n",
    "        result += f'valor_mercado: {self.valor_mercado}\\n'\n",
    "        result += f'tir_mercado: {self.tir_mercado}\\n'\n",
    "        result += f'duracion: {self.duracion}'\n",
    "        return result\n",
    "    \n",
    "    def __repr__(self):\n",
    "        result = f'nemotecnico: {self.nemotecnico}\\n'\n",
    "        result += f'nominal: {self.nominal}\\n'\n",
    "        result += f'valor_mercado: {self.valor_mercado}\\n'\n",
    "        result += f'tir_mercado: {self.tir_mercado}\\n'\n",
    "        result += f'duracion: {self.duracion}'\n",
    "        return result"
   ]
  },
  {
   "cell_type": "code",
   "execution_count": 36,
   "metadata": {
    "ExecuteTime": {
     "end_time": "2021-08-26T00:36:18.663974Z",
     "start_time": "2021-08-26T00:36:18.655260Z"
    }
   },
   "outputs": [],
   "source": [
    "class Cuenta:\n",
    "    def __init__(self, id_cliente):\n",
    "        self.id_cliente = id_cliente\n",
    "        self.posiciones = []\n",
    "        \n",
    "    def agrega_posicion(self, posicion):\n",
    "        self.posiciones.append(posicion)\n",
    "        \n",
    "    def valor_mercado(self):\n",
    "        if len(self.posiciones) > 0:\n",
    "            return sum([p.valor_mercado for p in self.posiciones])\n",
    "        return 0\n",
    "    \n",
    "    def sensibilidad(self, pb):\n",
    "        if len(self.posiciones) > 0:\n",
    "            return round(sum([p.sensibilidad(pb) for p in self.posiciones]), 6)\n",
    "        return 0\n",
    "    \n",
    "    def __len__(self):\n",
    "        return len(self.posiciones)\n",
    "    \n",
    "    def __getitem__(self, index):\n",
    "        return self.posiciones[index]\n",
    "    \n",
    "    def __iter__(self):\n",
    "        return (t for t in self.posiciones)"
   ]
  },
  {
   "cell_type": "code",
   "execution_count": 37,
   "metadata": {
    "ExecuteTime": {
     "end_time": "2021-08-26T00:36:20.341978Z",
     "start_time": "2021-08-26T00:36:20.335076Z"
    }
   },
   "outputs": [],
   "source": [
    "cuenta = Cuenta('alvaro')"
   ]
  },
  {
   "cell_type": "code",
   "execution_count": 38,
   "metadata": {
    "ExecuteTime": {
     "end_time": "2021-08-26T00:36:42.052197Z",
     "start_time": "2021-08-26T00:36:42.048007Z"
    }
   },
   "outputs": [],
   "source": [
    "posicion = PosicionRF('bono1', 100, 101, .01, 4)"
   ]
  },
  {
   "cell_type": "code",
   "execution_count": 39,
   "metadata": {
    "ExecuteTime": {
     "end_time": "2021-08-26T00:36:53.688703Z",
     "start_time": "2021-08-26T00:36:53.683175Z"
    }
   },
   "outputs": [
    {
     "data": {
      "text/plain": [
       "0"
      ]
     },
     "execution_count": 39,
     "metadata": {},
     "output_type": "execute_result"
    }
   ],
   "source": [
    "len(cuenta)"
   ]
  },
  {
   "cell_type": "code",
   "execution_count": 48,
   "metadata": {
    "ExecuteTime": {
     "end_time": "2021-08-26T00:37:54.726976Z",
     "start_time": "2021-08-26T00:37:54.722258Z"
    }
   },
   "outputs": [],
   "source": [
    "cuenta.agrega_posicion(posicion)"
   ]
  },
  {
   "cell_type": "code",
   "execution_count": 49,
   "metadata": {
    "ExecuteTime": {
     "end_time": "2021-08-26T00:37:55.516863Z",
     "start_time": "2021-08-26T00:37:55.509359Z"
    }
   },
   "outputs": [
    {
     "data": {
      "text/plain": [
       "2"
      ]
     },
     "execution_count": 49,
     "metadata": {},
     "output_type": "execute_result"
    }
   ],
   "source": [
    "len(cuenta)"
   ]
  },
  {
   "cell_type": "code",
   "execution_count": 42,
   "metadata": {
    "ExecuteTime": {
     "end_time": "2021-08-26T00:37:13.750353Z",
     "start_time": "2021-08-26T00:37:13.743322Z"
    }
   },
   "outputs": [
    {
     "data": {
      "text/plain": [
       "nemotecnico: bono1\n",
       "nominal: 100\n",
       "valor_mercado: 101\n",
       "tir_mercado: 0.01\n",
       "duracion: 4"
      ]
     },
     "execution_count": 42,
     "metadata": {},
     "output_type": "execute_result"
    }
   ],
   "source": [
    "cuenta[0]"
   ]
  },
  {
   "cell_type": "code",
   "execution_count": 43,
   "metadata": {
    "ExecuteTime": {
     "end_time": "2021-08-26T00:37:25.569952Z",
     "start_time": "2021-08-26T00:37:25.560162Z"
    }
   },
   "outputs": [
    {
     "data": {
      "text/plain": [
       "101"
      ]
     },
     "execution_count": 43,
     "metadata": {},
     "output_type": "execute_result"
    }
   ],
   "source": [
    "cuenta.valor_mercado()"
   ]
  },
  {
   "cell_type": "code",
   "execution_count": 46,
   "metadata": {
    "ExecuteTime": {
     "end_time": "2021-08-26T00:37:39.779232Z",
     "start_time": "2021-08-26T00:37:39.773876Z"
    }
   },
   "outputs": [
    {
     "data": {
      "text/plain": [
       "4.0"
      ]
     },
     "execution_count": 46,
     "metadata": {},
     "output_type": "execute_result"
    }
   ],
   "source": [
    "cuenta.sensibilidad(100)"
   ]
  },
  {
   "cell_type": "code",
   "execution_count": 50,
   "metadata": {
    "ExecuteTime": {
     "end_time": "2021-08-26T00:38:00.325554Z",
     "start_time": "2021-08-26T00:38:00.321163Z"
    }
   },
   "outputs": [
    {
     "name": "stdout",
     "output_type": "stream",
     "text": [
      "nemotecnico: bono1\n",
      "nominal: 100\n",
      "valor_mercado: 101\n",
      "tir_mercado: 0.01\n",
      "duracion: 4\n",
      "nemotecnico: bono1\n",
      "nominal: 100\n",
      "valor_mercado: 101\n",
      "tir_mercado: 0.01\n",
      "duracion: 4\n"
     ]
    }
   ],
   "source": [
    "for p in cuenta:\n",
    "    print(p)"
   ]
  },
  {
   "cell_type": "markdown",
   "metadata": {},
   "source": [
    "Hay mucho más y muchas cosas muy interesantes ... "
   ]
  }
 ],
 "metadata": {
  "hide_input": false,
  "kernelspec": {
   "display_name": "Python 3",
   "language": "python",
   "name": "python3"
  },
  "language_info": {
   "codemirror_mode": {
    "name": "ipython",
    "version": 3
   },
   "file_extension": ".py",
   "mimetype": "text/x-python",
   "name": "python",
   "nbconvert_exporter": "python",
   "pygments_lexer": "ipython3",
   "version": "3.7.3"
  },
  "toc": {
   "base_numbering": 1,
   "nav_menu": {},
   "number_sections": true,
   "sideBar": true,
   "skip_h1_title": true,
   "title_cell": "Table of Contents",
   "title_sidebar": "Contenido",
   "toc_cell": false,
   "toc_position": {
    "height": "calc(100% - 180px)",
    "left": "10px",
    "top": "150px",
    "width": "179.8px"
   },
   "toc_section_display": true,
   "toc_window_display": true
  }
 },
 "nbformat": 4,
 "nbformat_minor": 4
}
