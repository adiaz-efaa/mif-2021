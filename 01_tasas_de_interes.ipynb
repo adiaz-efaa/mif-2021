{
 "cells": [
  {
   "cell_type": "markdown",
   "metadata": {},
   "source": [
    "# Tasas de Interés"
   ]
  },
  {
   "cell_type": "markdown",
   "metadata": {},
   "source": [
    "## Librerías"
   ]
  },
  {
   "cell_type": "code",
   "execution_count": 2,
   "metadata": {
    "ExecuteTime": {
     "end_time": "2021-09-21T20:54:35.133437Z",
     "start_time": "2021-09-21T20:54:35.130227Z"
    }
   },
   "outputs": [],
   "source": [
    "from finrisk import QC_Financial_3 as Qcf\n",
    "from IPython.display import Image\n",
    "from IPython.core.display import HTML"
   ]
  },
  {
   "cell_type": "markdown",
   "metadata": {},
   "source": [
    "## Convenciones de Tasas"
   ]
  },
  {
   "cell_type": "markdown",
   "metadata": {},
   "source": [
    "Consideremos la siguiente situación:\n",
    "\n",
    "- El día 10-09-2020, nos conectamos al sitio web de un banco de la plaza para contratar un depósito a plazo en CLP, a 30 días, por 1 MM CLP.\n",
    "- La página del banco nos ofrece una tasa de 0,11% para ese plazo.\n",
    "- ¿Tenemos claro cuál es el negocio que nos están ofreciendo?"
   ]
  },
  {
   "cell_type": "code",
   "execution_count": 3,
   "metadata": {
    "ExecuteTime": {
     "end_time": "2021-09-21T20:56:41.162568Z",
     "start_time": "2021-09-21T20:56:41.151442Z"
    }
   },
   "outputs": [
    {
     "data": {
      "text/html": [
       "<img src=\"img/20200910_dap_online_0.png\" width=\"500\" height=\"400\"/>"
      ],
      "text/plain": [
       "<IPython.core.display.Image object>"
      ]
     },
     "execution_count": 3,
     "metadata": {},
     "output_type": "execute_result"
    }
   ],
   "source": [
    "Image(url=\"img/20200910_dap_online_0.png\", width=500, height=400)"
   ]
  },
  {
   "cell_type": "markdown",
   "metadata": {},
   "source": [
    "Al apretar el botón para **Continuar** se despliega el siguiente resultado:"
   ]
  },
  {
   "cell_type": "markdown",
   "metadata": {},
   "source": [
    "![DAP Online](img/20200910_dap_online.png)"
   ]
  },
  {
   "cell_type": "markdown",
   "metadata": {},
   "source": [
    "Veamos como se llega a este resultado. Nuestra solicitud fue:"
   ]
  },
  {
   "cell_type": "code",
   "execution_count": 4,
   "metadata": {
    "ExecuteTime": {
     "end_time": "2021-09-21T20:58:06.413559Z",
     "start_time": "2021-09-21T20:58:06.409975Z"
    },
    "cell_style": "center"
   },
   "outputs": [],
   "source": [
    "monto_inicial = 1000000\n",
    "plazo = 30"
   ]
  },
  {
   "cell_type": "markdown",
   "metadata": {},
   "source": [
    "La pantalla inicial indica que la tasa para este plazo es:"
   ]
  },
  {
   "cell_type": "code",
   "execution_count": 5,
   "metadata": {
    "ExecuteTime": {
     "end_time": "2021-09-21T20:58:27.252610Z",
     "start_time": "2021-09-21T20:58:27.248979Z"
    }
   },
   "outputs": [],
   "source": [
    "valor_tasa = .0011"
   ]
  },
  {
   "cell_type": "markdown",
   "metadata": {},
   "source": [
    "¿Porqué el plazo de la operación simulada es de 33 días?"
   ]
  },
  {
   "cell_type": "code",
   "execution_count": 6,
   "metadata": {
    "ExecuteTime": {
     "end_time": "2021-09-21T20:59:27.450212Z",
     "start_time": "2021-09-21T20:59:27.442556Z"
    }
   },
   "outputs": [
    {
     "name": "stdout",
     "output_type": "stream",
     "text": [
      "10-10-2020\n",
      "SAT\n"
     ]
    }
   ],
   "source": [
    "fecha_inicial = Qcf.QCDate(10, 9, 2020)\n",
    "\n",
    "fecha_final = fecha_inicial.add_days(plazo)\n",
    "\n",
    "print(fecha_final.description(True))\n",
    "\n",
    "print(fecha_final.week_day())"
   ]
  },
  {
   "cell_type": "markdown",
   "metadata": {},
   "source": [
    "Sumando 30 días al 10-09-2020 llegamos al 10-10-2020 que es un sábado (`SAT`). Para corregir esto, consideremos dentro del cálculo los días feriados."
   ]
  },
  {
   "cell_type": "code",
   "execution_count": 7,
   "metadata": {
    "ExecuteTime": {
     "end_time": "2021-09-21T21:01:30.667132Z",
     "start_time": "2021-09-21T21:01:30.661775Z"
    }
   },
   "outputs": [
    {
     "name": "stdout",
     "output_type": "stream",
     "text": [
      "12-10-2020\n",
      "MON\n"
     ]
    }
   ],
   "source": [
    "calendario = Qcf.BusinessCalendar(fecha_inicial, 1)\n",
    "\n",
    "fecha_final = calendario.next_busy_day(fecha_final)\n",
    "\n",
    "print(fecha_final.description(True))\n",
    "\n",
    "print(fecha_final.week_day())"
   ]
  },
  {
   "cell_type": "markdown",
   "metadata": {},
   "source": [
    "Vemos que, al pasar a la fecha hábil siguiente, llegamos al 12-10-2020. Sin embargo, la fecha final del depósito simulado es el 13-10-2020. El objeto calendario considera por default como feriados los días sábado y domingo, pero el lunes 12-10-2020 también es feriado y hay que agregarlo manualmente al calendario."
   ]
  },
  {
   "cell_type": "code",
   "execution_count": 8,
   "metadata": {
    "ExecuteTime": {
     "end_time": "2021-09-21T21:02:32.110623Z",
     "start_time": "2021-09-21T21:02:32.104468Z"
    }
   },
   "outputs": [
    {
     "name": "stdout",
     "output_type": "stream",
     "text": [
      "Fecha final: 13-10-2020.\n",
      "Día final: TUE.\n",
      "Plazo: 33 días.\n"
     ]
    }
   ],
   "source": [
    "calendario.add_holiday(fecha_final) # Se agrega el 12-10-2020 como feriado al calendario.\n",
    "\n",
    "fecha_final = calendario.next_busy_day(fecha_final) # Se recalcula la fecha final.\n",
    "\n",
    "print(f'Fecha final: {fecha_final.description(True)}.')\n",
    "\n",
    "print(f'Día final: {fecha_final.week_day()}.')\n",
    "\n",
    "plazo_op = fecha_inicial.day_diff(fecha_final)\n",
    "\n",
    "print(f'Plazo: {plazo_op} días.')"
   ]
  },
  {
   "cell_type": "markdown",
   "metadata": {},
   "source": [
    "¿Cómo se calcula el interés? La convención de tasa en Chile para depósitos a plazo en CLP es Lineal Act/30."
   ]
  },
  {
   "cell_type": "code",
   "execution_count": 9,
   "metadata": {
    "ExecuteTime": {
     "end_time": "2021-09-21T21:04:57.370449Z",
     "start_time": "2021-09-21T21:04:57.364193Z"
    }
   },
   "outputs": [],
   "source": [
    "yf = Qcf.QCAct30() # Act/30\n",
    "\n",
    "wf = Qcf.QCLinearWf() # Lineal\n",
    "\n",
    "tasa = Qcf.QCInterestRate(valor_tasa, yf, wf) # Tasa con ese valor y convención"
   ]
  },
  {
   "cell_type": "markdown",
   "metadata": {},
   "source": [
    "Así, el monto final se calcula como:"
   ]
  },
  {
   "cell_type": "code",
   "execution_count": 10,
   "metadata": {
    "ExecuteTime": {
     "end_time": "2021-09-21T21:05:09.800485Z",
     "start_time": "2021-09-21T21:05:09.794455Z"
    }
   },
   "outputs": [
    {
     "name": "stdout",
     "output_type": "stream",
     "text": [
      "Monto final: 1,001,210\n"
     ]
    }
   ],
   "source": [
    "monto_final = monto_inicial * tasa.wf(fecha_inicial, fecha_final) # wf: factor de capitalización\n",
    "\n",
    "print(f'Monto final: {monto_final:,.0f}')"
   ]
  },
  {
   "cell_type": "markdown",
   "metadata": {},
   "source": [
    "Veamos explícitamente este cálculo:"
   ]
  },
  {
   "cell_type": "code",
   "execution_count": 11,
   "metadata": {
    "ExecuteTime": {
     "end_time": "2021-09-21T21:05:52.610978Z",
     "start_time": "2021-09-21T21:05:52.606760Z"
    }
   },
   "outputs": [
    {
     "name": "stdout",
     "output_type": "stream",
     "text": [
      "Monto final:  1,001,210\n"
     ]
    }
   ],
   "source": [
    "print(f'Monto final: {monto_inicial * (1 + valor_tasa * plazo_op / 30): ,.0f}')"
   ]
  },
  {
   "cell_type": "markdown",
   "metadata": {},
   "source": [
    "El monto final, entonces, se calcula utilizando la siguiente fórmula:"
   ]
  },
  {
   "cell_type": "markdown",
   "metadata": {},
   "source": [
    "$$\n",
    "\\begin{equation}\n",
    "M_{final}=M_{inicial}\\cdot\\left(1+r\\cdot\\frac{fecha_{final}-fecha_{inicial}}{30}\\right)\n",
    "\\end{equation}\n",
    "$$"
   ]
  },
  {
   "cell_type": "markdown",
   "metadata": {},
   "source": [
    "donde:\n",
    "\n",
    "- $M_{inicial}$ es el monto inicial del depósito.\n",
    "- $M_{final}$ es el monto final del depósito.\n",
    "- $r$ es el valor de la tasa ofrecida por el banco.\n",
    "- $fecha_{final}-fecha_{inicial}$ representa la diferencia real en días entre las fechas inicial y final del depósito."
   ]
  },
  {
   "cell_type": "markdown",
   "metadata": {},
   "source": [
    "¿Porqué se usa la fórmula anterior?\n",
    "\n",
    "Por convención:\n",
    "\n",
    "- en Chile las tasas de los depósitos a plazo en CLP se cotizan de esta forma.\n",
    "- La fórmula tiene distintas componentes, las cuales, en su conjunto, definen el tipo de tasa de interés asociado a los depósitos en CLP."
   ]
  },
  {
   "cell_type": "markdown",
   "metadata": {},
   "source": [
    "Abstrayendo la estructura de la fórmula (1) podemos escribir:\n",
    "\n",
    "$$\n",
    "\\begin{equation}\n",
    "M_{final}=M_{inicial}\\cdot wf(valorTasa, yf(fecha_{inicial},fecha_{final}))\n",
    "\\end{equation}\n",
    "$$"
   ]
  },
  {
   "cell_type": "markdown",
   "metadata": {},
   "source": [
    "Donde:\n",
    "\n",
    "- $yf$ es la función *fracción de año* que determina el período de tiempo que transcurre entre ambas fechas y\n",
    "- $wf$ es la función *factor de capitalización* que establece el factor a aplicar al monto inicial de la inversión para obtener el monto final de la inversión. "
   ]
  },
  {
   "cell_type": "markdown",
   "metadata": {},
   "source": [
    "Para el cálculo de la fracción de año, existen distintas maneras de contar los días:\n",
    "    \n",
    "- Actual (días reales o la diferencia de fechas que acabamos de ver)\n",
    "- En base 30 (todos los meses tienen 30 días)\n",
    "\n",
    "y distintas maneras de representar un *período* de tasa:\n",
    "\n",
    "- Base 30 (meses)\n",
    "- Año de 360 días\n",
    "- Año de 365 días"
   ]
  },
  {
   "cell_type": "markdown",
   "metadata": {},
   "source": [
    "También hay distintas maneras de calcular el factor de capitalización, entre ellas:\n",
    "\n",
    "- Lineal:\n",
    "\n",
    "$$\n",
    "\\begin{equation}\n",
    "1+r_{lineal}\\cdot yf(fecha_{inicial},fecha_{final})\n",
    "\\end{equation}\n",
    "$$\n",
    "\n",
    "- Compuesto\n",
    "\n",
    "$$\n",
    "\\begin{equation}\n",
    "\\left(1+r_{compuesto}\\right)^{yf(fecha_{inicial},fecha_{final})}\n",
    "\\end{equation}\n",
    "$$\n",
    "\n",
    "- Exponencial\n",
    "$$\n",
    "\\begin{equation}\n",
    "\\exp\\left(r_{exponencial}\\cdot yf\\left(fecha_{inicial},fecha_{final}\\right)\\right)\n",
    "\\end{equation}\n",
    "$$"
   ]
  },
  {
   "cell_type": "markdown",
   "metadata": {},
   "source": [
    "Plazo de la Tasa:\n",
    "\n",
    "- En Chile se suele hablar de la tasa a 30 días, 90 días, 180 días etc. Como vimos en el ejemplo anterior, no todos los días podemos tener una tasa a 30 días (por el vencimiento en día inhábil).\n",
    "- Esto hace difícil la comparación en el tiempo de las tasas a un mismo plazo (de hecho no todos los días podemos tener tasa a un cierto plazo).\n",
    "- En los mercados desarrollados, esto se resuelve a través del concepto de plazo estándar o Tenor."
   ]
  },
  {
   "cell_type": "markdown",
   "metadata": {},
   "source": [
    "Tenor\n",
    "\n",
    "- Por ejemplo, en vez de tasa a 30 días se habla de la tasa a 1 mes (1M) que significa, por ejemplo (es una convención de mercado), que la tasa es al mismo día de hoy, pero del mes siguiente.\n",
    "- Si ese día es inhábil se adopta una convención que puede ser ir al próximo día hábil. Así tenemos también 3M, 6M, 1Y (un año) etc."
   ]
  },
  {
   "cell_type": "code",
   "execution_count": 11,
   "metadata": {
    "ExecuteTime": {
     "end_time": "2021-09-17T13:56:03.740885Z",
     "start_time": "2021-09-17T13:56:03.733085Z"
    }
   },
   "outputs": [
    {
     "name": "stdout",
     "output_type": "stream",
     "text": [
      "Un mes sin corrección: 10-10-2020\n",
      "Un mes con corrección al día hábil siguiente: 13-10-2020\n"
     ]
    }
   ],
   "source": [
    "un_mes = Qcf.Tenor('1M')\n",
    "print(f'Un mes sin corrección: {fecha_inicial.add_months(un_mes.get_months()).description(True)}')\n",
    "\n",
    "temp = calendario.next_busy_day(fecha_inicial.add_months(un_mes.get_months()))\n",
    "print(f'Un mes con corrección al día hábil siguiente: {temp.description(True)}')"
   ]
  },
  {
   "cell_type": "markdown",
   "metadata": {},
   "source": [
    "Consideremos la siguiente inversión.\n",
    "\n",
    "- Fecha inicial: 10-09-2020\n",
    "- Plazo de la inversión: 1Y (corrección al día hábil siguiente).\n",
    "- En la fecha final recibo 10 CLP por cada 100 CLP invertidos.\n",
    "- Dado el plazo de la inversión, ésta queda definida, por su factor de capitalización $\\frac{110}{100}=1.1$."
   ]
  },
  {
   "cell_type": "markdown",
   "metadata": {},
   "source": [
    "## Ejercicio\n",
    "\n",
    "Utilizando la librería `QC_Financial_3` replicar los valores de la siguiente tabla:"
   ]
  },
  {
   "cell_type": "code",
   "execution_count": 12,
   "metadata": {
    "ExecuteTime": {
     "end_time": "2021-09-17T13:56:03.753876Z",
     "start_time": "2021-09-17T13:56:03.744597Z"
    }
   },
   "outputs": [
    {
     "data": {
      "text/html": [
       "<img src=\"img/tabla_ejercicio.png\" width=\"550\" height=\"440\"/>"
      ],
      "text/plain": [
       "<IPython.core.display.Image object>"
      ]
     },
     "execution_count": 12,
     "metadata": {},
     "output_type": "execute_result"
    }
   ],
   "source": [
    "Image(url=\"img/tabla_ejercicio.png\", width=550, height=440)"
   ]
  }
 ],
 "metadata": {
  "hide_input": false,
  "kernelspec": {
   "display_name": "Python 3",
   "language": "python",
   "name": "python3"
  },
  "language_info": {
   "codemirror_mode": {
    "name": "ipython",
    "version": 3
   },
   "file_extension": ".py",
   "mimetype": "text/x-python",
   "name": "python",
   "nbconvert_exporter": "python",
   "pygments_lexer": "ipython3",
   "version": "3.7.3"
  },
  "toc": {
   "base_numbering": 1,
   "nav_menu": {},
   "number_sections": true,
   "sideBar": true,
   "skip_h1_title": false,
   "title_cell": "Table of Contents",
   "title_sidebar": "Contenidos",
   "toc_cell": false,
   "toc_position": {
    "height": "calc(100% - 180px)",
    "left": "10px",
    "top": "150px",
    "width": "166px"
   },
   "toc_section_display": true,
   "toc_window_display": true
  }
 },
 "nbformat": 4,
 "nbformat_minor": 4
}
