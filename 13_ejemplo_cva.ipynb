{
 "cells": [
  {
   "cell_type": "markdown",
   "metadata": {},
   "source": [
    "# Ejemplo CVA"
   ]
  },
  {
   "cell_type": "markdown",
   "metadata": {},
   "source": [
    "Se calcula el CVA de un swap."
   ]
  },
  {
   "cell_type": "markdown",
   "metadata": {},
   "source": [
    "## Librerías"
   ]
  },
  {
   "cell_type": "markdown",
   "metadata": {},
   "source": [
    "- Las funciones relacionadas con el modelo de Hull-White que definimos y utilizamos en los notebooks 13 y 14 han sido mejoradas y encapsuladas en el módulo `hull_white.py`.\n",
    "\n",
    "- La función `bono_tasa_fija` se trasladó al nuevo módulo `instruments.py`."
   ]
  },
  {
   "cell_type": "code",
   "execution_count": 11,
   "metadata": {
    "ExecuteTime": {
     "end_time": "2020-12-05T11:48:36.578721Z",
     "start_time": "2020-12-05T11:48:36.573723Z"
    }
   },
   "outputs": [],
   "source": [
    "from modules import instruments as inst\n",
    "from modules import hull_white as hw\n",
    "from modules import auxiliary as aux\n",
    "import pandas as pd\n",
    "import numpy as np\n",
    "import math"
   ]
  },
  {
   "cell_type": "markdown",
   "metadata": {},
   "source": [
    "## Auxiliares"
   ]
  },
  {
   "cell_type": "code",
   "execution_count": 30,
   "metadata": {
    "ExecuteTime": {
     "end_time": "2020-12-05T11:53:10.523935Z",
     "start_time": "2020-12-05T11:53:10.518859Z"
    }
   },
   "outputs": [],
   "source": [
    "frmt = {'plazo': '{:,.0f}', 'tasa': '{:.8%}', 'df': '{:.6%}', 't': '{:.4f}'}"
   ]
  },
  {
   "cell_type": "markdown",
   "metadata": {},
   "source": [
    "## Data Curva"
   ]
  },
  {
   "cell_type": "markdown",
   "metadata": {},
   "source": [
    "Se lee la data y se completa con el plazo en convención Act/365."
   ]
  },
  {
   "cell_type": "code",
   "execution_count": 26,
   "metadata": {
    "ExecuteTime": {
     "end_time": "2020-12-05T11:52:34.304319Z",
     "start_time": "2020-12-05T11:52:34.292297Z"
    }
   },
   "outputs": [],
   "source": [
    "df_curva = pd.read_excel('data/20201012_built_sofr_zero.xlsx')"
   ]
  },
  {
   "cell_type": "code",
   "execution_count": 27,
   "metadata": {
    "ExecuteTime": {
     "end_time": "2020-12-05T11:52:34.880701Z",
     "start_time": "2020-12-05T11:52:34.874071Z"
    }
   },
   "outputs": [],
   "source": [
    "df_curva['t'] = df_curva['plazo'] / 365.0"
   ]
  },
  {
   "cell_type": "code",
   "execution_count": 28,
   "metadata": {
    "ExecuteTime": {
     "end_time": "2020-12-05T11:52:35.430511Z",
     "start_time": "2020-12-05T11:52:35.416997Z"
    }
   },
   "outputs": [
    {
     "data": {
      "text/html": [
       "<style  type=\"text/css\" >\n",
       "</style><table id=\"T_5d88d12a_36f0_11eb_a3d0_02cba411ec9d\" ><thead>    <tr>        <th class=\"blank level0\" ></th>        <th class=\"col_heading level0 col0\" >plazo</th>        <th class=\"col_heading level0 col1\" >tasa</th>        <th class=\"col_heading level0 col2\" >df</th>        <th class=\"col_heading level0 col3\" >t</th>    </tr></thead><tbody>\n",
       "                <tr>\n",
       "                        <th id=\"T_5d88d12a_36f0_11eb_a3d0_02cba411ec9dlevel0_row0\" class=\"row_heading level0 row0\" >28</th>\n",
       "                        <td id=\"T_5d88d12a_36f0_11eb_a3d0_02cba411ec9drow0_col0\" class=\"data row0 col0\" >7306</td>\n",
       "                        <td id=\"T_5d88d12a_36f0_11eb_a3d0_02cba411ec9drow0_col1\" class=\"data row0 col1\" >0.92532411%</td>\n",
       "                        <td id=\"T_5d88d12a_36f0_11eb_a3d0_02cba411ec9drow0_col2\" class=\"data row0 col2\" >83.092401%</td>\n",
       "                        <td id=\"T_5d88d12a_36f0_11eb_a3d0_02cba411ec9drow0_col3\" class=\"data row0 col3\" >20.0164</td>\n",
       "            </tr>\n",
       "            <tr>\n",
       "                        <th id=\"T_5d88d12a_36f0_11eb_a3d0_02cba411ec9dlevel0_row1\" class=\"row_heading level0 row1\" >29</th>\n",
       "                        <td id=\"T_5d88d12a_36f0_11eb_a3d0_02cba411ec9drow1_col0\" class=\"data row1 col0\" >9133</td>\n",
       "                        <td id=\"T_5d88d12a_36f0_11eb_a3d0_02cba411ec9drow1_col1\" class=\"data row1 col1\" >0.96571892%</td>\n",
       "                        <td id=\"T_5d88d12a_36f0_11eb_a3d0_02cba411ec9drow1_col2\" class=\"data row1 col2\" >78.533775%</td>\n",
       "                        <td id=\"T_5d88d12a_36f0_11eb_a3d0_02cba411ec9drow1_col3\" class=\"data row1 col3\" >25.0219</td>\n",
       "            </tr>\n",
       "            <tr>\n",
       "                        <th id=\"T_5d88d12a_36f0_11eb_a3d0_02cba411ec9dlevel0_row2\" class=\"row_heading level0 row2\" >30</th>\n",
       "                        <td id=\"T_5d88d12a_36f0_11eb_a3d0_02cba411ec9drow2_col0\" class=\"data row2 col0\" >10957</td>\n",
       "                        <td id=\"T_5d88d12a_36f0_11eb_a3d0_02cba411ec9drow2_col1\" class=\"data row2 col1\" >0.98810273%</td>\n",
       "                        <td id=\"T_5d88d12a_36f0_11eb_a3d0_02cba411ec9drow2_col2\" class=\"data row2 col2\" >74.332619%</td>\n",
       "                        <td id=\"T_5d88d12a_36f0_11eb_a3d0_02cba411ec9drow2_col3\" class=\"data row2 col3\" >30.0192</td>\n",
       "            </tr>\n",
       "            <tr>\n",
       "                        <th id=\"T_5d88d12a_36f0_11eb_a3d0_02cba411ec9dlevel0_row3\" class=\"row_heading level0 row3\" >31</th>\n",
       "                        <td id=\"T_5d88d12a_36f0_11eb_a3d0_02cba411ec9drow3_col0\" class=\"data row3 col0\" >14610</td>\n",
       "                        <td id=\"T_5d88d12a_36f0_11eb_a3d0_02cba411ec9drow3_col1\" class=\"data row3 col1\" >0.94083244%</td>\n",
       "                        <td id=\"T_5d88d12a_36f0_11eb_a3d0_02cba411ec9drow3_col2\" class=\"data row3 col2\" >68.619685%</td>\n",
       "                        <td id=\"T_5d88d12a_36f0_11eb_a3d0_02cba411ec9drow3_col3\" class=\"data row3 col3\" >40.0274</td>\n",
       "            </tr>\n",
       "            <tr>\n",
       "                        <th id=\"T_5d88d12a_36f0_11eb_a3d0_02cba411ec9dlevel0_row4\" class=\"row_heading level0 row4\" >32</th>\n",
       "                        <td id=\"T_5d88d12a_36f0_11eb_a3d0_02cba411ec9drow4_col0\" class=\"data row4 col0\" >18262</td>\n",
       "                        <td id=\"T_5d88d12a_36f0_11eb_a3d0_02cba411ec9drow4_col1\" class=\"data row4 col1\" >0.84642634%</td>\n",
       "                        <td id=\"T_5d88d12a_36f0_11eb_a3d0_02cba411ec9drow4_col2\" class=\"data row4 col2\" >65.475678%</td>\n",
       "                        <td id=\"T_5d88d12a_36f0_11eb_a3d0_02cba411ec9drow4_col3\" class=\"data row4 col3\" >50.0329</td>\n",
       "            </tr>\n",
       "    </tbody></table>"
      ],
      "text/plain": [
       "<pandas.io.formats.style.Styler at 0x7f93e79239e8>"
      ]
     },
     "execution_count": 28,
     "metadata": {},
     "output_type": "execute_result"
    }
   ],
   "source": [
    "df_curva.tail().style.format(frmt)"
   ]
  },
  {
   "cell_type": "markdown",
   "metadata": {},
   "source": [
    "## Funciones para el Modelo de HW"
   ]
  },
  {
   "cell_type": "markdown",
   "metadata": {},
   "source": [
    "- `zrate`: es el cubic spline construido a partir de las columnas `t` y `tasa` de `df_curva`.\n",
    "- `hwz`: es una versión más sencilla de la función `zero_hw` que sólo requiere llos parámetros `r`, `t` y `T`.\n",
    "- `theta`: es la misma función que ya utilizamos."
   ]
  },
  {
   "cell_type": "code",
   "execution_count": 5,
   "metadata": {
    "ExecuteTime": {
     "end_time": "2020-12-05T11:35:35.677379Z",
     "start_time": "2020-12-05T11:35:35.673751Z"
    }
   },
   "outputs": [],
   "source": [
    "gamma = 1.0\n",
    "sigma = .0025"
   ]
  },
  {
   "cell_type": "markdown",
   "metadata": {},
   "source": [
    "Se construyen las funciones `zrate`, `hwz` y `theta`."
   ]
  },
  {
   "cell_type": "code",
   "execution_count": 6,
   "metadata": {
    "ExecuteTime": {
     "end_time": "2020-12-05T11:35:53.011638Z",
     "start_time": "2020-12-05T11:35:53.006374Z"
    }
   },
   "outputs": [],
   "source": [
    "zrate, hwz, theta = hw.get_zrate_hwzero_and_theta(\n",
    "    df_curva['t'],\n",
    "    df_curva['tasa'],\n",
    "    gamma,\n",
    "    sigma\n",
    ")"
   ]
  },
  {
   "cell_type": "markdown",
   "metadata": {},
   "source": [
    "Se verifica que `zrate` y más importante aún, `hwz` coincidan con los valores de la curva de mercado en los vértices de interpolación (plazos y tasas de la curva).\n",
    "\n",
    "**Notar** el plazo utilizado para obtener el valor de `r0`."
   ]
  },
  {
   "cell_type": "code",
   "execution_count": 43,
   "metadata": {
    "ExecuteTime": {
     "end_time": "2020-12-05T12:09:56.604035Z",
     "start_time": "2020-12-05T12:09:56.580807Z"
    }
   },
   "outputs": [
    {
     "name": "stdout",
     "output_type": "stream",
     "text": [
      "         r0:  0.078814%\n",
      "\n",
      "      plazo: 0.0027\n",
      " tasa curva: 0.081111%\n",
      "tasa spline: 0.081111%\n",
      "   tasa hwz: 0.081111%\n",
      "\n",
      "      plazo: 0.0192\n",
      " tasa curva: 0.084051%\n",
      "tasa spline: 0.084051%\n",
      "   tasa hwz: 0.084051%\n",
      "\n",
      "      plazo: 0.0384\n",
      " tasa curva: 0.077967%\n",
      "tasa spline: 0.077967%\n",
      "   tasa hwz: 0.077967%\n",
      "\n",
      "      plazo: 0.0575\n",
      " tasa curva: 0.077358%\n",
      "tasa spline: 0.077358%\n",
      "   tasa hwz: 0.077358%\n",
      "\n",
      "      plazo: 0.0904\n",
      " tasa curva: 0.078067%\n",
      "tasa spline: 0.078067%\n",
      "   tasa hwz: 0.078067%\n",
      "\n",
      "      plazo: 0.1671\n",
      " tasa curva: 0.078064%\n",
      "tasa spline: 0.078064%\n",
      "   tasa hwz: 0.078064%\n",
      "\n",
      "      plazo: 0.2521\n",
      " tasa curva: 0.081103%\n",
      "tasa spline: 0.081103%\n",
      "   tasa hwz: 0.081103%\n",
      "\n",
      "      plazo: 0.3425\n",
      " tasa curva: 0.078059%\n",
      "tasa spline: 0.078059%\n",
      "   tasa hwz: 0.078059%\n",
      "\n",
      "      plazo: 0.4164\n",
      " tasa curva: 0.076030%\n",
      "tasa spline: 0.076030%\n",
      "   tasa hwz: 0.076030%\n",
      "\n",
      "      plazo: 0.4986\n",
      " tasa curva: 0.075014%\n",
      "tasa spline: 0.075014%\n",
      "   tasa hwz: 0.075014%\n",
      "\n",
      "      plazo: 0.5808\n",
      " tasa curva: 0.073593%\n",
      "tasa spline: 0.073593%\n",
      "   tasa hwz: 0.073593%\n",
      "\n",
      "      plazo: 0.6658\n",
      " tasa curva: 0.072476%\n",
      "tasa spline: 0.072476%\n",
      "   tasa hwz: 0.072476%\n",
      "\n",
      "      plazo: 0.7479\n",
      " tasa curva: 0.071967%\n",
      "tasa spline: 0.071967%\n",
      "   tasa hwz: 0.071967%\n",
      "\n",
      "      plazo: 0.8384\n",
      " tasa curva: 0.071356%\n",
      "tasa spline: 0.071356%\n",
      "   tasa hwz: 0.071356%\n",
      "\n",
      "      plazo: 0.9178\n",
      " tasa curva: 0.070848%\n",
      "tasa spline: 0.070848%\n",
      "   tasa hwz: 0.070848%\n",
      "\n",
      "      plazo: 1.0000\n",
      " tasa curva: 0.070238%\n",
      "tasa spline: 0.070238%\n",
      "   tasa hwz: 0.070238%\n",
      "\n",
      "      plazo: 1.4986\n",
      " tasa curva: 0.064161%\n",
      "tasa spline: 0.064161%\n",
      "   tasa hwz: 0.064161%\n",
      "\n",
      "      plazo: 2.0000\n",
      " tasa curva: 0.056758%\n",
      "tasa spline: 0.056758%\n",
      "   tasa hwz: 0.056758%\n",
      "\n",
      "      plazo: 3.0055\n",
      " tasa curva: 0.075010%\n",
      "tasa spline: 0.075010%\n",
      "   tasa hwz: 0.075010%\n",
      "\n",
      "      plazo: 4.0055\n",
      " tasa curva: 0.125752%\n",
      "tasa spline: 0.125752%\n",
      "   tasa hwz: 0.125752%\n",
      "\n",
      "      plazo: 5.0027\n",
      " tasa curva: 0.193864%\n",
      "tasa spline: 0.193864%\n",
      "   tasa hwz: 0.193864%\n",
      "\n",
      "      plazo: 6.0027\n",
      " tasa curva: 0.277463%\n",
      "tasa spline: 0.277463%\n",
      "   tasa hwz: 0.277463%\n",
      "\n",
      "      plazo: 7.0027\n",
      " tasa curva: 0.360340%\n",
      "tasa spline: 0.360340%\n",
      "   tasa hwz: 0.360340%\n",
      "\n",
      "      plazo: 8.0110\n",
      " tasa curva: 0.438413%\n",
      "tasa spline: 0.438413%\n",
      "   tasa hwz: 0.438413%\n",
      "\n",
      "      plazo: 9.0082\n",
      " tasa curva: 0.511683%\n",
      "tasa spline: 0.511683%\n",
      "   tasa hwz: 0.511683%\n",
      "\n",
      "      plazo: 10.0082\n",
      " tasa curva: 0.581166%\n",
      "tasa spline: 0.581166%\n",
      "   tasa hwz: 0.581166%\n",
      "\n",
      "      plazo: 12.0082\n",
      " tasa curva: 0.691748%\n",
      "tasa spline: 0.691748%\n",
      "   tasa hwz: 0.691748%\n",
      "\n",
      "      plazo: 15.0110\n",
      " tasa curva: 0.806353%\n",
      "tasa spline: 0.806353%\n",
      "   tasa hwz: 0.806353%\n",
      "\n",
      "      plazo: 20.0164\n",
      " tasa curva: 0.925324%\n",
      "tasa spline: 0.925324%\n",
      "   tasa hwz: 0.925324%\n",
      "\n",
      "      plazo: 25.0219\n",
      " tasa curva: 0.965719%\n",
      "tasa spline: 0.965719%\n",
      "   tasa hwz: 0.965719%\n",
      "\n",
      "      plazo: 30.0192\n",
      " tasa curva: 0.988103%\n",
      "tasa spline: 0.988103%\n",
      "   tasa hwz: 0.988103%\n",
      "\n",
      "      plazo: 40.0274\n",
      " tasa curva: 0.940832%\n",
      "tasa spline: 0.940832%\n",
      "   tasa hwz: 0.940832%\n",
      "\n",
      "      plazo: 50.0329\n",
      " tasa curva: 0.846426%\n",
      "tasa spline: 0.846426%\n",
      "   tasa hwz: 0.846426%\n",
      "\n"
     ]
    }
   ],
   "source": [
    "r0 = zrate(.0000001)\n",
    "print(f'         r0: {r0: .6%}\\n')\n",
    "for tup in df_curva.itertuples():\n",
    "    print(f'      plazo: {tup.t:.4f}')\n",
    "    print(f' tasa curva: {tup.tasa:.6%}')\n",
    "    print(f'tasa spline: {zrate(tup.t):.6%}')\n",
    "    print(f'   tasa hwz: {-math.log(hwz(r, 0, tup.t)) / tup.t:.6%}')\n",
    "    print()"
   ]
  },
  {
   "cell_type": "markdown",
   "metadata": {},
   "source": [
    "Se verifica que la función `theta` se mantenga acotada."
   ]
  },
  {
   "cell_type": "code",
   "execution_count": 44,
   "metadata": {
    "ExecuteTime": {
     "end_time": "2020-12-05T12:13:39.351830Z",
     "start_time": "2020-12-05T12:13:39.330323Z"
    }
   },
   "outputs": [
    {
     "name": "stdout",
     "output_type": "stream",
     "text": [
      "theta(0.0027): 1.287414%\n",
      "theta(0.0192): -0.943991%\n",
      "theta(0.0384): 0.800401%\n",
      "theta(0.0575): 0.047061%\n",
      "theta(0.0904): 0.019791%\n",
      "theta(0.1671): 0.337408%\n",
      "theta(0.2521): -0.310565%\n",
      "theta(0.3425): 0.153700%\n",
      "theta(0.4164): 0.125659%\n",
      "theta(0.4986): -0.041470%\n",
      "theta(0.5808): 0.079302%\n",
      "theta(0.6658): 0.125025%\n",
      "theta(0.7479): 0.024419%\n",
      "theta(0.8384): 0.071200%\n",
      "theta(0.9178): 0.032841%\n",
      "theta(1.0000): 0.030964%\n",
      "theta(1.4986): -0.021227%\n",
      "theta(2.0000): 0.147546%\n",
      "theta(3.0055): 0.359198%\n",
      "theta(4.0055): 0.542529%\n",
      "theta(5.0027): 0.840753%\n",
      "theta(6.0027): 0.932951%\n",
      "theta(7.0027): 1.040001%\n",
      "theta(8.0110): 1.159568%\n",
      "theta(9.0082): 1.286390%\n",
      "theta(10.0082): 1.251110%\n",
      "theta(12.0082): 1.260508%\n",
      "theta(15.0110): 1.306324%\n",
      "theta(20.0164): 1.164882%\n",
      "theta(25.0219): 1.118646%\n",
      "theta(30.0192): 0.996521%\n",
      "theta(40.0274): 0.535297%\n",
      "theta(50.0329): 0.495002%\n"
     ]
    }
   ],
   "source": [
    "for tup in df_curva.itertuples():\n",
    "    print(f'theta({tup.t:.4f}): {theta(tup.t):.6%}')"
   ]
  },
  {
   "cell_type": "markdown",
   "metadata": {},
   "source": [
    "## Simulación"
   ]
  },
  {
   "cell_type": "markdown",
   "metadata": {},
   "source": [
    "Se definen los parámetros requeridos, tanto del modelo como de la simulación."
   ]
  },
  {
   "cell_type": "code",
   "execution_count": 45,
   "metadata": {
    "ExecuteTime": {
     "end_time": "2020-12-05T12:14:41.008010Z",
     "start_time": "2020-12-05T12:14:41.003890Z"
    }
   },
   "outputs": [],
   "source": [
    "num_sims = 1000\n",
    "num_steps = 528 # 264 * 2 (2 años)"
   ]
  },
  {
   "cell_type": "markdown",
   "metadata": {},
   "source": [
    "Se obtienen las trayectorias."
   ]
  },
  {
   "cell_type": "code",
   "execution_count": 46,
   "metadata": {
    "ExecuteTime": {
     "end_time": "2020-12-05T12:14:48.858153Z",
     "start_time": "2020-12-05T12:14:44.867102Z"
    }
   },
   "outputs": [],
   "source": [
    "time_steps, paths = hw.sim_hw_many(gamma, sigma, theta, r0, 1000, 528, seed=1000)"
   ]
  },
  {
   "cell_type": "markdown",
   "metadata": {},
   "source": [
    "**Ejercicio:** construir una función que retorne la función `sim_hw_many` pero sólo con los argumentos r0, num_sims, num_:steps y seed. O sea, que gamma, sigma y theta queden encerrados (closure) dentro de la función."
   ]
  },
  {
   "cell_type": "code",
   "execution_count": 47,
   "metadata": {
    "ExecuteTime": {
     "end_time": "2020-12-05T12:15:13.296402Z",
     "start_time": "2020-12-05T12:15:13.290583Z"
    }
   },
   "outputs": [
    {
     "data": {
      "text/plain": [
       "array([0.        , 0.00378788, 0.00757576, 0.01136364, 0.01515152,\n",
       "       0.01893939, 0.02272727, 0.02651515, 0.03030303, 0.03409091,\n",
       "       0.03787879, 0.04166667, 0.04545455, 0.04924242, 0.0530303 ,\n",
       "       0.05681818, 0.06060606, 0.06439394, 0.06818182, 0.0719697 ])"
      ]
     },
     "execution_count": 47,
     "metadata": {},
     "output_type": "execute_result"
    }
   ],
   "source": [
    "time_steps[0:20]"
   ]
  },
  {
   "cell_type": "code",
   "execution_count": 13,
   "metadata": {
    "ExecuteTime": {
     "end_time": "2020-12-04T19:15:39.074099Z",
     "start_time": "2020-12-04T19:15:39.049269Z"
    }
   },
   "outputs": [
    {
     "data": {
      "text/plain": [
       "array([0.0007891 , 0.00073774, 0.00082384, 0.00082725, 0.00091151,\n",
       "       0.00083472, 0.00085602, 0.00079933, 0.00069104, 0.00076107])"
      ]
     },
     "execution_count": 13,
     "metadata": {},
     "output_type": "execute_result"
    }
   ],
   "source": [
    "paths[0][0:10] # son los primeros 10 valores de la primera trayectoria simulada."
   ]
  },
  {
   "cell_type": "markdown",
   "metadata": {
    "ExecuteTime": {
     "end_time": "2020-11-27T18:16:13.035672Z",
     "start_time": "2020-11-27T18:16:13.030346Z"
    }
   },
   "source": [
    "Se extrae el elemento correspondiente a 6M, 1Y, 18M de cada simulación:\n",
    "\n",
    "EE = Promedio(max(Vi, 0)) y se va a calcular en estos tiempos de parada o stopping times."
   ]
  },
  {
   "cell_type": "code",
   "execution_count": 14,
   "metadata": {
    "ExecuteTime": {
     "end_time": "2020-12-04T19:15:39.099592Z",
     "start_time": "2020-12-04T19:15:39.077799Z"
    }
   },
   "outputs": [
    {
     "data": {
      "text/plain": [
       "(0.00023065735784508546, -0.0022857834272125696, -0.0010278696736560555)"
      ]
     },
     "execution_count": 14,
     "metadata": {},
     "output_type": "execute_result"
    }
   ],
   "source": [
    "last_r = [(s[132], s[264], s[396]) for s in paths]\n",
    "last_r[0]"
   ]
  },
  {
   "cell_type": "markdown",
   "metadata": {},
   "source": [
    "## Cálculo de la *EE* de un Swap"
   ]
  },
  {
   "cell_type": "markdown",
   "metadata": {},
   "source": [
    "Para el swap vamos a utilizar una función sencilla para la pata fija y consideraremos que el valor presente de la pata flotante siempre es igual al nocional. Consideremos un swap a 2Y."
   ]
  },
  {
   "cell_type": "code",
   "execution_count": 15,
   "metadata": {
    "ExecuteTime": {
     "end_time": "2020-12-04T19:15:39.111073Z",
     "start_time": "2020-12-04T19:15:39.102704Z"
    }
   },
   "outputs": [],
   "source": [
    "swap_fija = inst.bono_tasa_fija(0, .5, 4, .001)"
   ]
  },
  {
   "cell_type": "code",
   "execution_count": 16,
   "metadata": {
    "ExecuteTime": {
     "end_time": "2020-12-04T19:15:39.136641Z",
     "start_time": "2020-12-04T19:15:39.114403Z"
    }
   },
   "outputs": [
    {
     "data": {
      "text/plain": [
       "[(0.5, 0.05), (1.0, 0.05), (1.5, 0.05), (2.0, 100.05)]"
      ]
     },
     "execution_count": 16,
     "metadata": {},
     "output_type": "execute_result"
    }
   ],
   "source": [
    "swap_fija"
   ]
  },
  {
   "cell_type": "markdown",
   "metadata": {},
   "source": [
    "Se define una función que construye una función que valoriza el swap a partir de $t$ y $r_t$."
   ]
  },
  {
   "cell_type": "code",
   "execution_count": 17,
   "metadata": {
    "ExecuteTime": {
     "end_time": "2020-12-04T19:15:39.159692Z",
     "start_time": "2020-12-04T19:15:39.141791Z"
    }
   },
   "outputs": [],
   "source": [
    "def valorizador_swap(pata_fija, df_function):\n",
    "    def valor(r, t):\n",
    "        result = 0.0\n",
    "        for e in pata_fija:\n",
    "            if e[0] > t:\n",
    "                result += e[1] * df_function(r, t, e[0])\n",
    "        return result - 100.0 if result > 0.0 else 0.0\n",
    "    return valor"
   ]
  },
  {
   "cell_type": "markdown",
   "metadata": {},
   "source": [
    "Probemos:"
   ]
  },
  {
   "cell_type": "code",
   "execution_count": 18,
   "metadata": {
    "ExecuteTime": {
     "end_time": "2020-12-04T19:15:39.170537Z",
     "start_time": "2020-12-04T19:15:39.163747Z"
    }
   },
   "outputs": [],
   "source": [
    "vswap = valorizador_swap(swap_fija, hwz)"
   ]
  },
  {
   "cell_type": "code",
   "execution_count": 19,
   "metadata": {
    "ExecuteTime": {
     "end_time": "2020-12-04T19:15:39.209674Z",
     "start_time": "2020-12-04T19:15:39.175150Z"
    }
   },
   "outputs": [
    {
     "data": {
      "text/plain": [
       "0.0"
      ]
     },
     "execution_count": 19,
     "metadata": {},
     "output_type": "execute_result"
    }
   ],
   "source": [
    "vswap(r0, 2)"
   ]
  },
  {
   "cell_type": "markdown",
   "metadata": {},
   "source": [
    "Valoricemos el swap en 6M más en cada simulación:"
   ]
  },
  {
   "cell_type": "code",
   "execution_count": 27,
   "metadata": {
    "ExecuteTime": {
     "end_time": "2020-12-04T19:37:05.131188Z",
     "start_time": "2020-12-04T19:37:04.198132Z"
    }
   },
   "outputs": [
    {
     "data": {
      "text/plain": [
       "[0.1087151035156495,\n",
       " -0.06891838127835115,\n",
       " -0.08828135334222509,\n",
       " 0.024086600811841663,\n",
       " 0.023152978606702845,\n",
       " 0.16379864922694765,\n",
       " 0.1809763078510258,\n",
       " 0.14545651414299243,\n",
       " -0.10416145596083481,\n",
       " -0.012453256721840944]"
      ]
     },
     "execution_count": 27,
     "metadata": {},
     "output_type": "execute_result"
    }
   ],
   "source": [
    "valor_swap_6m = [vswap(r[0], .5) for r in last_r]\n",
    "valor_swap_6m[0: 10]"
   ]
  },
  {
   "cell_type": "markdown",
   "metadata": {},
   "source": [
    "Mejor aún, podemos calcular directamente la exposición."
   ]
  },
  {
   "cell_type": "code",
   "execution_count": 21,
   "metadata": {
    "ExecuteTime": {
     "end_time": "2020-12-04T19:15:41.018648Z",
     "start_time": "2020-12-04T19:15:40.079314Z"
    }
   },
   "outputs": [
    {
     "data": {
      "text/plain": [
       "[0.1087151035156495,\n",
       " 0,\n",
       " 0,\n",
       " 0.024086600811841663,\n",
       " 0.023152978606702845,\n",
       " 0.16379864922694765,\n",
       " 0.1809763078510258,\n",
       " 0.14545651414299243,\n",
       " 0,\n",
       " 0]"
      ]
     },
     "execution_count": 21,
     "metadata": {},
     "output_type": "execute_result"
    }
   ],
   "source": [
    "e_swap_6m = [max(vswap(r[0], .5), 0) for r in last_r]\n",
    "e_swap_6m[0: 10]"
   ]
  },
  {
   "cell_type": "markdown",
   "metadata": {},
   "source": [
    "Por lo tanto, la exposición esperada en 6M es:"
   ]
  },
  {
   "cell_type": "code",
   "execution_count": 22,
   "metadata": {
    "ExecuteTime": {
     "end_time": "2020-12-04T19:15:41.026712Z",
     "start_time": "2020-12-04T19:15:41.021913Z"
    }
   },
   "outputs": [],
   "source": [
    "ee_swap_6m = np.average(e_swap_6m)"
   ]
  },
  {
   "cell_type": "code",
   "execution_count": 23,
   "metadata": {
    "ExecuteTime": {
     "end_time": "2020-12-04T19:15:41.035070Z",
     "start_time": "2020-12-04T19:15:41.029812Z"
    }
   },
   "outputs": [
    {
     "name": "stdout",
     "output_type": "stream",
     "text": [
      "La EE del swap en 6M es:  0.09\n"
     ]
    }
   ],
   "source": [
    "print(f'La EE del swap en 6M es: {ee_swap_6m: ,.2f}')"
   ]
  },
  {
   "cell_type": "markdown",
   "metadata": {},
   "source": [
    "**Ejercicio:** completar el cálculo del CVA."
   ]
  },
  {
   "cell_type": "markdown",
   "metadata": {},
   "source": [
    "Se calcula la *EE* a 1Y y a 18M."
   ]
  },
  {
   "cell_type": "code",
   "execution_count": 24,
   "metadata": {
    "ExecuteTime": {
     "end_time": "2020-12-04T19:21:16.915425Z",
     "start_time": "2020-12-04T19:21:16.201865Z"
    }
   },
   "outputs": [
    {
     "data": {
      "text/plain": [
       "[0.24063608214910914,\n",
       " 0.17092867198768147,\n",
       " 0.10516439489080653,\n",
       " 0.07754376339669022,\n",
       " 0,\n",
       " 0.10064812920498412,\n",
       " 0.040880910676904136,\n",
       " 0.12907264180080347,\n",
       " 0.016080984047064817,\n",
       " 0]"
      ]
     },
     "execution_count": 24,
     "metadata": {},
     "output_type": "execute_result"
    }
   ],
   "source": [
    "e_swap_1y = [max(vswap(r[1], 1), 0) for r in last_r]\n",
    "e_swap_1y[0: 10]"
   ]
  },
  {
   "cell_type": "code",
   "execution_count": 25,
   "metadata": {
    "ExecuteTime": {
     "end_time": "2020-12-04T19:21:42.316745Z",
     "start_time": "2020-12-04T19:21:42.041927Z"
    }
   },
   "outputs": [
    {
     "data": {
      "text/plain": [
       "[0.08859937173058086,\n",
       " 0.05476454386807461,\n",
       " 0.10545540933068764,\n",
       " 0.03618827563377636,\n",
       " 0.02995438503567982,\n",
       " 0.1415773018194102,\n",
       " 0,\n",
       " 0.09010082539154496,\n",
       " 0.008504017457028112,\n",
       " 0]"
      ]
     },
     "execution_count": 25,
     "metadata": {},
     "output_type": "execute_result"
    }
   ],
   "source": [
    "e_swap_18m = [max(vswap(r[2], 1.5), 0) for r in last_r]\n",
    "e_swap_18m[0: 10]"
   ]
  },
  {
   "cell_type": "markdown",
   "metadata": {},
   "source": [
    "Luego, se calcula el factor de descuento a cada uno de los plazos en que se calcula *EE*: 6M, 1Y y 18M.\n",
    "\n",
    "- Se extraen los resultados de la simulación hasta 6M, 1Y y 18M."
   ]
  },
  {
   "cell_type": "code",
   "execution_count": 34,
   "metadata": {
    "ExecuteTime": {
     "end_time": "2020-12-04T19:49:22.899774Z",
     "start_time": "2020-12-04T19:49:22.886715Z"
    }
   },
   "outputs": [],
   "source": [
    "paths_up_to_6m = [s[0:132] for s in paths]\n",
    "paths_up_to_1y = [s[0:264] for s in paths]\n",
    "paths_up_to_18m = [s[0:396] for s in paths]"
   ]
  },
  {
   "cell_type": "markdown",
   "metadata": {},
   "source": [
    "Luego, se calculan los factores de descuento \"devolviéndose por cada trayectoria\"."
   ]
  },
  {
   "cell_type": "code",
   "execution_count": 35,
   "metadata": {
    "ExecuteTime": {
     "end_time": "2020-12-04T19:49:25.692703Z",
     "start_time": "2020-12-04T19:49:25.687318Z"
    }
   },
   "outputs": [],
   "source": [
    "dt = 1 / 264.0"
   ]
  },
  {
   "cell_type": "code",
   "execution_count": 36,
   "metadata": {
    "ExecuteTime": {
     "end_time": "2020-12-04T19:49:27.324922Z",
     "start_time": "2020-12-04T19:49:27.282454Z"
    }
   },
   "outputs": [],
   "source": [
    "dfs_up_to_6m = [np.exp(-dt * np.sum(path)) for path in paths_up_to_6m]\n",
    "dfs_up_to_1y = [np.exp(-dt * np.sum(path)) for path in paths_up_to_1y]\n",
    "dfs_up_to_18m = [np.exp(-dt * np.sum(path)) for path in paths_up_to_18m]"
   ]
  },
  {
   "cell_type": "code",
   "execution_count": 44,
   "metadata": {
    "ExecuteTime": {
     "end_time": "2020-12-04T19:57:56.780570Z",
     "start_time": "2020-12-04T19:57:56.772344Z"
    }
   },
   "outputs": [],
   "source": [
    "pv_ee_6m = [both[0] * both[1] for both in zip(e_swap_6m, dfs_up_to_6m)]\n",
    "pv_ee_1y = [both[0] * both[1] for both in zip(e_swap_1y, dfs_up_to_1y)]\n",
    "pv_ee_18m = [both[0] * both[1] for both in zip(e_swap_18m, dfs_up_to_18m)]"
   ]
  },
  {
   "cell_type": "code",
   "execution_count": 47,
   "metadata": {
    "ExecuteTime": {
     "end_time": "2020-12-04T19:59:24.060741Z",
     "start_time": "2020-12-04T19:59:24.054332Z"
    }
   },
   "outputs": [
    {
     "name": "stdout",
     "output_type": "stream",
     "text": [
      "0.09061139204024957 0.0791395253127055 0.049810373539262105\n"
     ]
    }
   ],
   "source": [
    "mean_pv_ee_6m = np.mean(pv_ee_6m)\n",
    "mean_pv_ee_1y = np.mean(pv_ee_1y)\n",
    "mean_pv_ee_18m = np.mean(pv_ee_18m)\n",
    "print(mean_pv_ee_6m, mean_pv_ee_1y, mean_pv_ee_18m)"
   ]
  }
 ],
 "metadata": {
  "hide_input": false,
  "kernelspec": {
   "display_name": "Python 3",
   "language": "python",
   "name": "python3"
  },
  "language_info": {
   "codemirror_mode": {
    "name": "ipython",
    "version": 3
   },
   "file_extension": ".py",
   "mimetype": "text/x-python",
   "name": "python",
   "nbconvert_exporter": "python",
   "pygments_lexer": "ipython3",
   "version": "3.7.3"
  },
  "toc": {
   "base_numbering": "15",
   "nav_menu": {},
   "number_sections": true,
   "sideBar": true,
   "skip_h1_title": false,
   "title_cell": "Table of Contents",
   "title_sidebar": "Contenido",
   "toc_cell": false,
   "toc_position": {
    "height": "calc(100% - 180px)",
    "left": "10px",
    "top": "150px",
    "width": "204.390625px"
   },
   "toc_section_display": true,
   "toc_window_display": true
  }
 },
 "nbformat": 4,
 "nbformat_minor": 4
}
