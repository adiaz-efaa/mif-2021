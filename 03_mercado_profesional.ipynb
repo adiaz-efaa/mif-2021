{
 "cells": [
  {
   "cell_type": "markdown",
   "metadata": {},
   "source": [
    "# Mercado Profesional de Swaps"
   ]
  },
  {
   "cell_type": "markdown",
   "metadata": {},
   "source": [
    "- Este mercado también se conoce como mercado OTC (over-the-counter) de swaps.\n",
    "\n",
    "\n",
    "- En el notebook anterior vimos la estructura de los contratos que se operan en el mercado profesional.\n",
    "\n",
    "\n",
    "- La otra característica fundamental de este mercado es el uso de [colateral](https://www.youtube.com/watch?v=9K14BBbIxXM).\n",
    "  - **Margen inicial:** cantidad de dinero up-front antes de iniciar a operar. No siempre es > 0.\n",
    "  - **Margen de variación:** cantidad que coincide con la variación en el valor **de la cartera** y que es entregada por la contraparte que sufre la pérdida.\n",
    "  - Importante que se considere el valor de toda la cartera (todas las operaciones de derivados entre 2 contrapartes). Esto se sustenta en el llamado [**close-out netting**](https://www.youtube.com/watch?v=aa3TdhvoOSA).\n",
    "  - **Close-out netting:** acuerdo para compensar, en caso de quiebra, las cuentas por cobrar y recibir de una cartera de derivados entre dos contrapartes. La legislación aplicable al contrato debe permitir este mecanismo."
   ]
  },
  {
   "cell_type": "markdown",
   "metadata": {},
   "source": [
    "- Existen dos formas de implementar el uso de colateral:\n",
    "  - Contrato bilateral de condiciones generales y un anexo de mitigación de riesgo de crédito. Por ejemplo el contrato ISDA y su Credit Support Annex (CSA). Las principales cláusulas negociadas en un CSA son:\n",
    "    - **Threshold:** define el nivel de exposición (mark-to-market) bajo la cual no es necesario entregar colateral. El threshold puede ser distinto para cada contraparte y típicamente se define en función del rating crediticio.\n",
    "    - **Colateral Elegible:** define el tipo de instrumentos que pueden ser entregados como colateral. Lo más usual es cash, a veces en más de una moneda. También se pueden aceptar instrumentos de renta fija de bajo riesgo valorizados utilizando un *haircut* (descuento por sobre el valor de mercado del instrumento).\n",
    "    - **Minimum transfer amount (MTA):** corresponde a la cantidad por la cual la exposición de una contraparte debe exceder el monto de colateral ya entregado para solicitar colateral adicional.\n",
    "    - **Remuneración del colateral:** el colateral entregado en cash gana intereses. Aquí se define qué índice de tasa de interés se utiliza para calcular esos intereses (típicamente un índice overnight). Cuando el colateral se entrega en forma de instrumentos de renta fija, quien entrega tiene derecho a recibir los cupones del instrumento.\n",
    "    - **Periodicidad de Cálculo:** con qué periodicidad se calcula el valor de la cartera y se determina si corresponde exigir o devolver colateral.\n",
    "  - Utilizar [una contraparte central (CCP) de derivados](https://www.youtube.com/watch?v=o-Yxjs33aQs).\n",
    "    - La regulación de EE. UU. y de Europa requiere que los bancos más grandes y que operan globalmente lleven sus transacciones de derivados a una CCP.\n",
    "    - En Chile existe [Comder](https://www.comder.cl), aunque no es obligatorio para los bancos utilizarla."
   ]
  },
  {
   "cell_type": "markdown",
   "metadata": {},
   "source": [
    "## Ejemplo"
   ]
  },
  {
   "cell_type": "markdown",
   "metadata": {},
   "source": [
    "Consideremos el contrato definido por el siguiente payoff."
   ]
  },
  {
   "cell_type": "code",
   "execution_count": 1,
   "metadata": {
    "ExecuteTime": {
     "end_time": "2020-10-06T00:26:08.273400Z",
     "start_time": "2020-10-06T00:26:08.268919Z"
    }
   },
   "outputs": [],
   "source": [
    "def payoff(nominal, tasa_fija, tasa_flotante, plazo):\n",
    "    \"\"\"\n",
    "    Forward de tasa de interés.\n",
    "    \"\"\"\n",
    "    return nominal * (tasa_fija - tasa_flotante) * plazo / 360"
   ]
  },
  {
   "cell_type": "markdown",
   "metadata": {},
   "source": [
    "Consideremos los siguientes parámetros y comparemos los flujos de caja en el caso que el contrato se opere con o sin colateral."
   ]
  },
  {
   "cell_type": "code",
   "execution_count": 2,
   "metadata": {
    "ExecuteTime": {
     "end_time": "2020-10-09T20:18:55.134316Z",
     "start_time": "2020-10-09T20:18:55.127590Z"
    }
   },
   "outputs": [
    {
     "name": "stdout",
     "output_type": "stream",
     "text": [
      "nominal: 10,000,000\n"
     ]
    }
   ],
   "source": [
    "# Plazo en días hasta el vencimiento del contrato\n",
    "plazo_a_vcto = 30\n",
    "\n",
    "# Nominal o nocional del contrato\n",
    "nominal = 10000000\n",
    "\n",
    "# Tasa fija o strike del contrato\n",
    "tasa_fija = .005\n",
    "\n",
    "# Plazo de la tasa del contrato\n",
    "plazo = 92\n",
    "\n",
    "# Escenarios (valores posibles de la tasa flotante al vencimiento)\n",
    "escenarios = [.004, .006]\n",
    "\n",
    "# Tasa de financiamiento del banco\n",
    "tasa_fin = .0055\n",
    "\n",
    "# Tasa de remuneración del colateral\n",
    "tasa_on = .0045\n",
    "\n",
    "print(f'nominal: {nominal:,.0f}')"
   ]
  },
  {
   "cell_type": "markdown",
   "metadata": {},
   "source": [
    "### Escenario 1"
   ]
  },
  {
   "cell_type": "markdown",
   "metadata": {},
   "source": [
    "Flujos de caja sin colateral en el primer escenario, que suponemos se produce instantáneamente (o sea la tasa variable cambia justo después de celebrar el contrato)."
   ]
  },
  {
   "cell_type": "code",
   "execution_count": 3,
   "metadata": {
    "ExecuteTime": {
     "end_time": "2020-10-06T00:26:08.288451Z",
     "start_time": "2020-10-06T00:26:08.283333Z"
    }
   },
   "outputs": [
    {
     "name": "stdout",
     "output_type": "stream",
     "text": [
      "Flujo de caja sin colateral: 2,555.5556\n"
     ]
    }
   ],
   "source": [
    "payoff_esc_0 = payoff(nominal, tasa_fija, escenarios[0], plazo)\n",
    "print(f\"Flujo de caja sin colateral: {payoff_esc_0:,.4f}\")"
   ]
  },
  {
   "cell_type": "markdown",
   "metadata": {
    "ExecuteTime": {
     "end_time": "2020-10-03T21:41:03.199469Z",
     "start_time": "2020-10-03T21:41:03.193120Z"
    }
   },
   "source": [
    "Justo después de celebrar el contrato, el valor del contrato cambia (se supone por simplicidad que coincide con el valor del payoff):"
   ]
  },
  {
   "cell_type": "code",
   "execution_count": 4,
   "metadata": {
    "ExecuteTime": {
     "end_time": "2020-10-06T00:26:08.295671Z",
     "start_time": "2020-10-06T00:26:08.291665Z"
    }
   },
   "outputs": [
    {
     "name": "stdout",
     "output_type": "stream",
     "text": [
      "Valor de mercado: 2,555.5556\n"
     ]
    }
   ],
   "source": [
    "m2m_esc_0 = payoff(nominal, tasa_fija, escenarios[0], plazo)\n",
    "print(f'Valor de mercado: {m2m_esc_0:,.4f}')"
   ]
  },
  {
   "cell_type": "markdown",
   "metadata": {},
   "source": [
    "Como el valor es positivo, lo recibo como colateral, esto ocasiona un costo, porque debo remunerar el colateral, y un beneficio, porque recibo una remuneración por ese colateral si lo reinvierto a mi tasa de financiamiento (esto último, sólo en el caso que la reinversión del colateral esté permitida en el CSA)."
   ]
  },
  {
   "cell_type": "code",
   "execution_count": 5,
   "metadata": {
    "ExecuteTime": {
     "end_time": "2020-10-06T00:26:08.302580Z",
     "start_time": "2020-10-06T00:26:08.298007Z"
    }
   },
   "outputs": [
    {
     "name": "stdout",
     "output_type": "stream",
     "text": [
      "Costo: -0.9583\n"
     ]
    }
   ],
   "source": [
    "costo_esc_0 = -m2m_esc_0 * tasa_on * plazo_a_vcto / 360\n",
    "print(f'Costo: {costo_esc_0:,.4f}')"
   ]
  },
  {
   "cell_type": "code",
   "execution_count": 6,
   "metadata": {
    "ExecuteTime": {
     "end_time": "2020-10-06T00:26:08.308463Z",
     "start_time": "2020-10-06T00:26:08.304508Z"
    }
   },
   "outputs": [
    {
     "name": "stdout",
     "output_type": "stream",
     "text": [
      "Beneficio: 1.1713\n"
     ]
    }
   ],
   "source": [
    "beneficio_esc_0 = m2m_esc_0 * tasa_fin * plazo_a_vcto / 360\n",
    "print(f'Beneficio: {beneficio_esc_0:,.4f}')"
   ]
  },
  {
   "cell_type": "markdown",
   "metadata": {},
   "source": [
    "Por lo tanto, el flujo total en este caso:"
   ]
  },
  {
   "cell_type": "code",
   "execution_count": 7,
   "metadata": {
    "ExecuteTime": {
     "end_time": "2020-10-06T00:26:08.314721Z",
     "start_time": "2020-10-06T00:26:08.310448Z"
    }
   },
   "outputs": [
    {
     "name": "stdout",
     "output_type": "stream",
     "text": [
      "Flujo total: 2,555.7685\n"
     ]
    }
   ],
   "source": [
    "flujo_total_esc_0 = payoff_esc_0 + beneficio_esc_0 + costo_esc_0\n",
    "print(f'Flujo total: {flujo_total_esc_0:,.4f}')"
   ]
  },
  {
   "cell_type": "markdown",
   "metadata": {},
   "source": [
    "### Escenario 2"
   ]
  },
  {
   "cell_type": "markdown",
   "metadata": {},
   "source": [
    "En el caso en que la tasa sube el flujo sin colateral es:"
   ]
  },
  {
   "cell_type": "code",
   "execution_count": 8,
   "metadata": {
    "ExecuteTime": {
     "end_time": "2020-10-06T00:26:08.323061Z",
     "start_time": "2020-10-06T00:26:08.318021Z"
    }
   },
   "outputs": [
    {
     "name": "stdout",
     "output_type": "stream",
     "text": [
      "Flujo de caja sin colateral: -2,555.5556\n"
     ]
    }
   ],
   "source": [
    "payoff_esc_1 = payoff(nominal, tasa_fija, escenarios[1], plazo)\n",
    "print(f\"Flujo de caja sin colateral: {payoff_esc_1:,.4f}\")"
   ]
  },
  {
   "cell_type": "markdown",
   "metadata": {},
   "source": [
    "El valor de mercado del contrato cambia y es igual a:"
   ]
  },
  {
   "cell_type": "code",
   "execution_count": 9,
   "metadata": {
    "ExecuteTime": {
     "end_time": "2020-10-06T00:26:08.330855Z",
     "start_time": "2020-10-06T00:26:08.325292Z"
    }
   },
   "outputs": [
    {
     "name": "stdout",
     "output_type": "stream",
     "text": [
      "Valor de mercado: -2,555.5556\n"
     ]
    }
   ],
   "source": [
    "m2m_esc_1 = payoff(nominal, tasa_fija, escenarios[1], plazo)\n",
    "print(f'Valor de mercado: {m2m_esc_1:,.4f}')"
   ]
  },
  {
   "cell_type": "markdown",
   "metadata": {},
   "source": [
    "Como el valor es negativo, tengo que entregarlo como colateral, esto ocasiona un costo, porque debo financiar el colateral, y un beneficio, porque recibo una remuneración por ese colateral."
   ]
  },
  {
   "cell_type": "code",
   "execution_count": 10,
   "metadata": {
    "ExecuteTime": {
     "end_time": "2020-10-06T00:26:08.338474Z",
     "start_time": "2020-10-06T00:26:08.333342Z"
    }
   },
   "outputs": [
    {
     "name": "stdout",
     "output_type": "stream",
     "text": [
      "Costo: -1.1713\n"
     ]
    }
   ],
   "source": [
    "costo_esc_1 = m2m_esc_1 * tasa_fin * plazo_a_vcto / 360\n",
    "print(f'Costo: {costo_esc_1:,.4f}')"
   ]
  },
  {
   "cell_type": "code",
   "execution_count": 11,
   "metadata": {
    "ExecuteTime": {
     "end_time": "2020-10-06T00:26:08.345356Z",
     "start_time": "2020-10-06T00:26:08.340762Z"
    }
   },
   "outputs": [
    {
     "name": "stdout",
     "output_type": "stream",
     "text": [
      "Beneficio: 0.9583\n"
     ]
    }
   ],
   "source": [
    "beneficio_esc_1 = -m2m_esc_1 * tasa_on * plazo_a_vcto / 360\n",
    "print(f'Beneficio: {beneficio_esc_1:,.4f}')"
   ]
  },
  {
   "cell_type": "markdown",
   "metadata": {},
   "source": [
    "El flujo total en este caso es:"
   ]
  },
  {
   "cell_type": "code",
   "execution_count": 12,
   "metadata": {
    "ExecuteTime": {
     "end_time": "2020-10-06T00:26:08.352462Z",
     "start_time": "2020-10-06T00:26:08.347639Z"
    }
   },
   "outputs": [
    {
     "name": "stdout",
     "output_type": "stream",
     "text": [
      "Flujo total: -2,555.7685\n"
     ]
    }
   ],
   "source": [
    "flujo_total_esc_1 = payoff_esc_1 + beneficio_esc_1 + costo_esc_1\n",
    "print(f'Flujo total: {flujo_total_esc_1:,.4f}')"
   ]
  },
  {
   "cell_type": "markdown",
   "metadata": {},
   "source": [
    "### Observaciones"
   ]
  },
  {
   "cell_type": "markdown",
   "metadata": {},
   "source": [
    "- El uso de colateral debe considerarse al momento de hacer el pricing de una operación.\n",
    "\n",
    "\n",
    "- El efecto en pricing depende del costo de financiamiento del banco."
   ]
  }
 ],
 "metadata": {
  "hide_input": false,
  "kernelspec": {
   "display_name": "Python 3",
   "language": "python",
   "name": "python3"
  },
  "language_info": {
   "codemirror_mode": {
    "name": "ipython",
    "version": 3
   },
   "file_extension": ".py",
   "mimetype": "text/x-python",
   "name": "python",
   "nbconvert_exporter": "python",
   "pygments_lexer": "ipython3",
   "version": "3.7.3"
  },
  "toc": {
   "base_numbering": "3",
   "nav_menu": {},
   "number_sections": true,
   "sideBar": true,
   "skip_h1_title": false,
   "title_cell": "Table of Contents",
   "title_sidebar": "Contenido",
   "toc_cell": false,
   "toc_position": {
    "height": "calc(100% - 180px)",
    "left": "10px",
    "top": "150px",
    "width": "202px"
   },
   "toc_section_display": true,
   "toc_window_display": true
  }
 },
 "nbformat": 4,
 "nbformat_minor": 4
}
