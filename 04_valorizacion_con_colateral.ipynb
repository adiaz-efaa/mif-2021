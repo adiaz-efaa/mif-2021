{
 "cells": [
  {
   "cell_type": "markdown",
   "metadata": {},
   "source": [
    "# Valorización con Colateral"
   ]
  },
  {
   "cell_type": "markdown",
   "metadata": {},
   "source": [
    "**Ametrano, Ferdinando M. and Bianchetti, Marco**, Everything You Always Wanted to Know About Multiple Interest Rate Curve Bootstrapping but Were Afraid to Ask (April 2, 2013). Available at SSRN: https://ssrn.com/abstract=2219548 or http://dx.doi.org/10.2139/ssrn.2219548"
   ]
  },
  {
   "cell_type": "markdown",
   "metadata": {},
   "source": [
    "Se puede suponer que las cantidades captadas o colocadas por una contraparte que participa en el mercado OTC están asociadas a una cuenta de financiamiento (*funding account*) con el valor $B_{\\alpha}\\left(t\\right)$ en $t$. El índice $\\alpha$ denota la fuente específica de financiamiento.\n",
    "\n",
    "Se asume la siguiente dinámica:"
   ]
  },
  {
   "cell_type": "markdown",
   "metadata": {},
   "source": [
    "$$\n",
    "\\begin{equation}\n",
    "dB_{\\alpha}\\left(t\\right)=r_{\\alpha}\\left(t\\right)B_{\\alpha}\\left(t\\right)dt\n",
    "\\end{equation}\n",
    "$$\n",
    "\n",
    "\n",
    "$$\n",
    "\\begin{equation}\n",
    "B_{\\alpha}\\left(0\\right)=1\n",
    "\\end{equation}\n",
    "$$\n",
    "\n",
    "\n",
    "$$\n",
    "\\begin{equation}\n",
    "B_{\\alpha}\\left(t\\right)=\\exp\\int_{0}^{t}r_{\\alpha}\\left(u\\right)du\n",
    "\\end{equation}\n",
    "$$"
   ]
  },
  {
   "cell_type": "markdown",
   "metadata": {},
   "source": [
    "Hemos ya identificado dos fuentes de financiamiento para el mercado OTC:\n",
    "\n",
    "- La fuente de financiamiento general (o de tesorería), denotada con $B_f$ asociada a la operativa usual en mercados monetarios y de bonos. Podemos pensar que, en este caso, $r_f=Libor+spread$\n",
    "\n",
    "\n",
    "- La cuenta de colateral, $B_c$, asociada a un CSA para la cual típicamente $r_c=ON$."
   ]
  },
  {
   "cell_type": "markdown",
   "metadata": {},
   "source": [
    "## Definición\n",
    "\n",
    "Un CSA perfecto es un CSA con las siguientes características:\n",
    "\n",
    "- margen inicial igual a 0\n",
    "- totalmente simétrico (las condiciones aplican a ambas contrapartes por igual)\n",
    "- colateral sólo en *cash*\n",
    "- threshold igual a 0\n",
    "- MTA igual a 0\n",
    "- periodicidad de cálculo continua\n",
    "- tasa de colateral $r_c\\left(t\\right)$\n",
    "- traspaso instantáneo de colateral\n",
    "- sin reinversión de colateral\n",
    "\n",
    "Como consecuencia se tiene que:\n",
    "\n",
    "$$\n",
    "\\begin{equation}\n",
    "B_c\\left(t\\right)=\\Pi\\left(t\\right)\n",
    "\\end{equation}\n",
    "$$\n",
    "\n",
    "donde $\\Pi\\left(t\\right)$ es el valor de la cartera de derivados asociada al CSA."
   ]
  },
  {
   "cell_type": "markdown",
   "metadata": {},
   "source": [
    "## Teorema (valorización con colateral)\n",
    "\n",
    "Sea $\\Pi$ un instrumento derivado que vence en $T$ escrito sobre el activo $X$ que obedece la siguiente ecuación diferencial estocástica:\n",
    "\n",
    "\n",
    "$$\n",
    "\\begin{equation}\n",
    "dX\\left(t\\right)=\\mu^P\\left(t,X\\right)X\\left(t\\right)dt+\\sigma\\left(t,X\\right)X\\left(t\\right)dW^P\\left(t\\right),\n",
    "\\end{equation}\n",
    "$$\n",
    "\n",
    "\n",
    "$$\n",
    "\\begin{equation}\n",
    "X\\left(0\\right)=X_0\n",
    "\\end{equation}\n",
    "$$\n",
    "\n",
    "donde $t\\in\\mathbb{R}_+$, $X\\in\\mathbb{R}$, $\\mu^P\\in\\mathbb{R}_+\\times\\mathbb{R}\\rightarrow\\mathbb{R}$, $\\sigma\\in\\mathbb{R}_+\\times\\mathbb{R}\\rightarrow\\mathbb{R}_+$, $W^P\\in\\mathbb{R}$ es un movimiento browniano de dimension 1 sobre $\\left(\\Omega,\\mathscr{F},P\\right)$ y $P$ es la medida histórica (u objetiva). Asumiendo colateral perfecto, el precio del derivado $\\Pi\\left(t\\right)$ en $t\\lt T$ satisface:\n",
    "\n",
    "$$\n",
    "\\begin{equation}\n",
    "\\overset{\\wedge}{\\mathcal{D}}_{rf}\\Pi\\left(t,X\\right)=r_c\\left(t\\right)\\Pi\\left(t,X\\right)\n",
    "\\end{equation}\n",
    "$$\n",
    "\n",
    "\n",
    "$$\n",
    "\\begin{equation}\n",
    "\\overset{\\wedge}{\\mathcal{D}}_{rf}=\\frac{\\partial}{\\partial t}+r_f\\left(t\\right)X\\left(t\\right)\\frac{\\partial}{\\partial X}+\\frac{1}{2}\\sigma^2\\left(t\\right)X^2\\left(t\\right)\\frac{\\partial^2}{\\partial X^2}\n",
    "\\end{equation}\n",
    "$$\n",
    "\n",
    "\n",
    "y está dado también por:\n",
    "\n",
    "$$\n",
    "\\begin{equation}\n",
    "\\Pi\\left(t,X\\right)=\\mathbb{E}_t^{Q_f}\\left[D_c\\left(t,T\\right)\\Pi\\left(T,X\\right)\\right]\n",
    "\\end{equation}\n",
    "$$\n",
    "\n",
    "$$\n",
    "\\begin{equation}\n",
    "D_c\\left(t,T\\right)=\\exp\\left[-\\int_t^Tr_c\\left(u\\right)du\\right]\n",
    "\\end{equation}\n",
    "$$\n",
    "\n",
    "\n",
    "donde $Q_f$ es la medida de probabilidad asociada a la cuenta de financiamiento $B_f$ de modo que:\n",
    "\n",
    "\n",
    "$$\n",
    "\\begin{equation}\n",
    "dX\\left(t\\right)=r_f\\left(t\\right)X\\left(t\\right)dt+\\sigma\\left(t,X\\right)X\\left(t\\right)dW^{Q_f}\\left(t\\right),\n",
    "\\end{equation}\n",
    "$$"
   ]
  },
  {
   "cell_type": "markdown",
   "metadata": {
    "ExecuteTime": {
     "end_time": "2020-10-06T01:42:07.326086Z",
     "start_time": "2020-10-06T01:42:07.321060Z"
    }
   },
   "source": [
    "### Corolario (en la medida forward)\n",
    "\n",
    "Vale la expresión:\n",
    "\n",
    "$$\n",
    "\\begin{equation}\n",
    "\\Pi\\left(t,X\\right)=P_c\\left(t,T\\right)\\mathbb{E}_{t}^{Q_f^T}\\left[\\Pi\\left(T,X\\right)\\right]\n",
    "\\end{equation}\n",
    "$$\n",
    "\n",
    "$$\n",
    "\\begin{equation}\n",
    "P_c\\left(t,T\\right)=\\mathbb{E}^{Q_f}\\left[D_c\\left(t,T\\right)\\right]\n",
    "\\end{equation}\n",
    "$$\n",
    "\n",
    "donde $Q_f^T$ es la probabilidad asociada a $P_c\\left(t,T\\right)$ (la medida $T$-forward)."
   ]
  }
 ],
 "metadata": {
  "hide_input": false,
  "kernelspec": {
   "display_name": "Python 3",
   "language": "python",
   "name": "python3"
  },
  "language_info": {
   "codemirror_mode": {
    "name": "ipython",
    "version": 3
   },
   "file_extension": ".py",
   "mimetype": "text/x-python",
   "name": "python",
   "nbconvert_exporter": "python",
   "pygments_lexer": "ipython3",
   "version": "3.7.3"
  },
  "toc": {
   "base_numbering": "4",
   "nav_menu": {},
   "number_sections": true,
   "sideBar": true,
   "skip_h1_title": false,
   "title_cell": "Table of Contents",
   "title_sidebar": "Contenido",
   "toc_cell": false,
   "toc_position": {
    "height": "calc(100% - 180px)",
    "left": "10px",
    "top": "150px",
    "width": "187px"
   },
   "toc_section_display": true,
   "toc_window_display": true
  }
 },
 "nbformat": 4,
 "nbformat_minor": 4
}
