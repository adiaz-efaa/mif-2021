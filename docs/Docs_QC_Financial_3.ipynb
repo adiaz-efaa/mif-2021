{
 "cells": [
  {
   "cell_type": "markdown",
   "metadata": {},
   "source": [
    "# Construcción y Uso de Una Curva Cero Cupón"
   ]
  },
  {
   "cell_type": "markdown",
   "metadata": {},
   "source": [
    "Se importa la versión de `QC_Financial` compilada para Python3."
   ]
  },
  {
   "cell_type": "code",
   "execution_count": 1,
   "metadata": {
    "ExecuteTime": {
     "end_time": "2021-09-17T14:19:52.168520Z",
     "start_time": "2021-09-17T14:19:52.153043Z"
    }
   },
   "outputs": [],
   "source": [
    "from finrisk import QC_Financial_3 as Qcf"
   ]
  },
  {
   "cell_type": "markdown",
   "metadata": {},
   "source": [
    "Librerías adicionales."
   ]
  },
  {
   "cell_type": "code",
   "execution_count": 2,
   "metadata": {
    "ExecuteTime": {
     "end_time": "2021-09-17T14:19:59.744975Z",
     "start_time": "2021-09-17T14:19:59.364977Z"
    }
   },
   "outputs": [],
   "source": [
    "import pandas as pd"
   ]
  },
  {
   "cell_type": "markdown",
   "metadata": {},
   "source": [
    "Para formateo de `pandas.DataFrames`."
   ]
  },
  {
   "cell_type": "code",
   "execution_count": 3,
   "metadata": {
    "ExecuteTime": {
     "end_time": "2021-09-17T14:20:00.102579Z",
     "start_time": "2021-09-17T14:20:00.097122Z"
    }
   },
   "outputs": [],
   "source": [
    "format_dict = {'nominal': '{0:,.2f}', 'amort': '{0:,.2f}', 'interes': '{0:,.2f}', 'flujo': '{0:,.2f}', 'amortizacion': '{0:,.2f}',\n",
    "               'icp_inicial': '{0:,.2f}', 'icp_final': '{0:,.2f}', 'uf_inicial': '{0:,.2f}', 'uf_final': '{0:,.2f}',\n",
    "               'valor_tasa': '{0:,.4%}', 'spread': '{0:,.4%}', 'gearing': '{0:,.2f}',\n",
    "               'amort_moneda_pago': '{0:,.2f}', 'interes_moneda_pago': '{0:,.2f}', 'valor_indice_fx': '{0:,.2f}'}"
   ]
  },
  {
   "cell_type": "markdown",
   "metadata": {},
   "source": [
    "## Construcción de la Curva"
   ]
  },
  {
   "cell_type": "markdown",
   "metadata": {},
   "source": [
    "La construcción de una curva se hace en varios pasos."
   ]
  },
  {
   "cell_type": "markdown",
   "metadata": {},
   "source": [
    "### Vectores de Float e Int"
   ]
  },
  {
   "cell_type": "code",
   "execution_count": 4,
   "metadata": {
    "ExecuteTime": {
     "end_time": "2021-09-17T14:20:03.973893Z",
     "start_time": "2021-09-17T14:20:03.968204Z"
    }
   },
   "outputs": [],
   "source": [
    "# Este es un vector de números enteros (grandes, de ahí la l (long))\n",
    "lvec = Qcf.long_vec()"
   ]
  },
  {
   "cell_type": "code",
   "execution_count": 5,
   "metadata": {
    "ExecuteTime": {
     "end_time": "2021-09-17T14:20:04.386732Z",
     "start_time": "2021-09-17T14:20:04.381165Z"
    }
   },
   "outputs": [],
   "source": [
    "# Agregar un elemento\n",
    "lvec.append(1000)"
   ]
  },
  {
   "cell_type": "code",
   "execution_count": 6,
   "metadata": {
    "ExecuteTime": {
     "end_time": "2021-09-17T14:20:04.740779Z",
     "start_time": "2021-09-17T14:20:04.734108Z"
    }
   },
   "outputs": [],
   "source": [
    "# Este es un vector de números double.\n",
    "vec = Qcf.double_vec()"
   ]
  },
  {
   "cell_type": "code",
   "execution_count": 7,
   "metadata": {
    "ExecuteTime": {
     "end_time": "2021-09-17T14:20:04.970287Z",
     "start_time": "2021-09-17T14:20:04.961309Z"
    }
   },
   "outputs": [],
   "source": [
    "# Agregar un elemento\n",
    "vec.append(.025)"
   ]
  },
  {
   "cell_type": "code",
   "execution_count": 8,
   "metadata": {
    "ExecuteTime": {
     "end_time": "2021-09-17T14:20:05.354363Z",
     "start_time": "2021-09-17T14:20:05.344648Z"
    }
   },
   "outputs": [
    {
     "name": "stdout",
     "output_type": "stream",
     "text": [
      "Tasa: 2.50%\n"
     ]
    }
   ],
   "source": [
    "# Obtener ese elemento\n",
    "print(\"Tasa: {0:,.2%}\".format(vec[0]))"
   ]
  },
  {
   "cell_type": "markdown",
   "metadata": {},
   "source": [
    "### Objeto Curva"
   ]
  },
  {
   "cell_type": "markdown",
   "metadata": {},
   "source": [
    "Es simplemente un `long_vec` que representa las abscisas de la curva y un `double_vec` que representa las ordenadas. Ambos vectores deben tener el mismo largo. "
   ]
  },
  {
   "cell_type": "code",
   "execution_count": 9,
   "metadata": {
    "ExecuteTime": {
     "end_time": "2021-09-17T14:20:07.223442Z",
     "start_time": "2021-09-17T14:20:07.215687Z"
    }
   },
   "outputs": [],
   "source": [
    "zcc = Qcf.QCCurve(lvec, vec)"
   ]
  },
  {
   "cell_type": "markdown",
   "metadata": {},
   "source": [
    "Un elemento de una curva se representa como un par abscisa, ordenada."
   ]
  },
  {
   "cell_type": "code",
   "execution_count": 10,
   "metadata": {
    "ExecuteTime": {
     "end_time": "2021-09-17T14:20:08.927590Z",
     "start_time": "2021-09-17T14:20:08.885084Z"
    }
   },
   "outputs": [
    {
     "data": {
      "text/plain": [
       "<finrisk.QC_Financial_3.CurvePoint at 0x7f4ccd068920>"
      ]
     },
     "execution_count": 10,
     "metadata": {},
     "output_type": "execute_result"
    }
   ],
   "source": [
    "zcc.get_values_at(0)"
   ]
  },
  {
   "cell_type": "markdown",
   "metadata": {},
   "source": [
    "Se obtiene el plazo en una posición de la curva."
   ]
  },
  {
   "cell_type": "code",
   "execution_count": 11,
   "metadata": {
    "ExecuteTime": {
     "end_time": "2021-09-17T14:20:10.224652Z",
     "start_time": "2021-09-17T14:20:10.219243Z"
    }
   },
   "outputs": [
    {
     "data": {
      "text/plain": [
       "1000"
      ]
     },
     "execution_count": 11,
     "metadata": {},
     "output_type": "execute_result"
    }
   ],
   "source": [
    "zcc.get_values_at(0).tenor"
   ]
  },
  {
   "cell_type": "markdown",
   "metadata": {},
   "source": [
    "Se obtiene la tasa en una posición de la curva."
   ]
  },
  {
   "cell_type": "code",
   "execution_count": 12,
   "metadata": {
    "ExecuteTime": {
     "end_time": "2021-09-17T14:20:13.074540Z",
     "start_time": "2021-09-17T14:20:13.067948Z"
    }
   },
   "outputs": [
    {
     "data": {
      "text/plain": [
       "0.025"
      ]
     },
     "execution_count": 12,
     "metadata": {},
     "output_type": "execute_result"
    }
   ],
   "source": [
    "zcc.get_values_at(0).value"
   ]
  },
  {
   "cell_type": "markdown",
   "metadata": {},
   "source": [
    "Se agrega un par (plazo, valor) a la curva."
   ]
  },
  {
   "cell_type": "code",
   "execution_count": 13,
   "metadata": {
    "ExecuteTime": {
     "end_time": "2021-09-17T14:20:14.097695Z",
     "start_time": "2021-09-17T14:20:14.089505Z"
    }
   },
   "outputs": [],
   "source": [
    "zcc.set_pair(100, .026)"
   ]
  },
  {
   "cell_type": "markdown",
   "metadata": {},
   "source": [
    "Se verifica."
   ]
  },
  {
   "cell_type": "code",
   "execution_count": 14,
   "metadata": {
    "ExecuteTime": {
     "end_time": "2021-09-17T14:20:14.998585Z",
     "start_time": "2021-09-17T14:20:14.993389Z"
    }
   },
   "outputs": [
    {
     "data": {
      "text/plain": [
       "1000"
      ]
     },
     "execution_count": 14,
     "metadata": {},
     "output_type": "execute_result"
    }
   ],
   "source": [
    "# Plazo\n",
    "zcc.get_values_at(1).tenor"
   ]
  },
  {
   "cell_type": "code",
   "execution_count": 15,
   "metadata": {
    "ExecuteTime": {
     "end_time": "2021-09-17T14:20:17.219037Z",
     "start_time": "2021-09-17T14:20:17.214613Z"
    }
   },
   "outputs": [
    {
     "data": {
      "text/plain": [
       "0.025"
      ]
     },
     "execution_count": 15,
     "metadata": {},
     "output_type": "execute_result"
    }
   ],
   "source": [
    "# Valor\n",
    "zcc.get_values_at(1).value"
   ]
  },
  {
   "cell_type": "markdown",
   "metadata": {},
   "source": [
    "Se agrega un par más."
   ]
  },
  {
   "cell_type": "code",
   "execution_count": 17,
   "metadata": {
    "ExecuteTime": {
     "end_time": "2021-09-17T14:20:42.403266Z",
     "start_time": "2021-09-17T14:20:42.399412Z"
    }
   },
   "outputs": [],
   "source": [
    "zcc.set_pair(370, .03)"
   ]
  },
  {
   "cell_type": "markdown",
   "metadata": {},
   "source": [
    "Se itera sobre la curva mostrando sus valores"
   ]
  },
  {
   "cell_type": "code",
   "execution_count": 18,
   "metadata": {
    "ExecuteTime": {
     "end_time": "2021-09-17T14:20:46.267005Z",
     "start_time": "2021-09-17T14:20:46.262345Z"
    }
   },
   "outputs": [
    {
     "name": "stdout",
     "output_type": "stream",
     "text": [
      "Tenor: 100 Valor: 2.6000%\n",
      "Tenor: 370 Valor: 3.0000%\n",
      "Tenor: 1000 Valor: 2.5000%\n"
     ]
    }
   ],
   "source": [
    "for i in range(0, zcc.get_length()):\n",
    "    pair = zcc.get_values_at(i)\n",
    "    print(\"Tenor: {0:} Valor: {1:.4%}\".format(pair.tenor, pair.value))"
   ]
  },
  {
   "cell_type": "markdown",
   "metadata": {},
   "source": [
    "Se define un interpolador. En este caso, un interpolador lineal."
   ]
  },
  {
   "cell_type": "code",
   "execution_count": 19,
   "metadata": {
    "ExecuteTime": {
     "end_time": "2021-09-17T14:20:55.015310Z",
     "start_time": "2021-09-17T14:20:55.011929Z"
    }
   },
   "outputs": [],
   "source": [
    "lin = Qcf.QCLinearInterpolator(zcc)"
   ]
  },
  {
   "cell_type": "markdown",
   "metadata": {},
   "source": [
    "Se hace una prueba."
   ]
  },
  {
   "cell_type": "code",
   "execution_count": 20,
   "metadata": {
    "ExecuteTime": {
     "end_time": "2021-09-17T14:20:58.219915Z",
     "start_time": "2021-09-17T14:20:58.214720Z"
    }
   },
   "outputs": [
    {
     "name": "stdout",
     "output_type": "stream",
     "text": [
      "Tasa en 10 es igual a 2.6000%\n"
     ]
    }
   ],
   "source": [
    "print(\"Tasa en {0:} es igual a {1:.4%}\".format(10, lin.interpolate_at(10)))"
   ]
  },
  {
   "cell_type": "markdown",
   "metadata": {},
   "source": [
    "Para completar el proceso se define una fracción de año, un factor de capitalización y un tipo de tasa. Con estos objetos se termina de dar de alta una curva cero."
   ]
  },
  {
   "cell_type": "code",
   "execution_count": 21,
   "metadata": {
    "ExecuteTime": {
     "end_time": "2021-09-17T14:21:07.982660Z",
     "start_time": "2021-09-17T14:21:07.978256Z"
    }
   },
   "outputs": [],
   "source": [
    "yf = Qcf.QCAct360()\n",
    "wf = Qcf.QCLinearWf()\n",
    "tasa = Qcf.QCInterestRate(.01, yf, wf)"
   ]
  },
  {
   "cell_type": "code",
   "execution_count": 22,
   "metadata": {
    "ExecuteTime": {
     "end_time": "2021-09-17T14:21:17.033989Z",
     "start_time": "2021-09-17T14:21:17.030511Z"
    }
   },
   "outputs": [],
   "source": [
    "zz = Qcf.ZeroCouponCurve(lin, tasa)"
   ]
  },
  {
   "cell_type": "markdown",
   "metadata": {},
   "source": [
    "El interpolador permite obtener una tasa a cualquier plazo."
   ]
  },
  {
   "cell_type": "code",
   "execution_count": 23,
   "metadata": {
    "ExecuteTime": {
     "end_time": "2021-09-17T14:21:20.903869Z",
     "start_time": "2021-09-17T14:21:20.898130Z"
    }
   },
   "outputs": [
    {
     "name": "stdout",
     "output_type": "stream",
     "text": [
      "Tasa en 365 es igual a 2.9926%\n"
     ]
    }
   ],
   "source": [
    "plazo = 365\n",
    "print(\"Tasa en {0:} es igual a {1:.4%}\".format(plazo, zz.get_rate_at(plazo)))"
   ]
  },
  {
   "cell_type": "code",
   "execution_count": 24,
   "metadata": {
    "ExecuteTime": {
     "end_time": "2021-09-17T14:21:22.269261Z",
     "start_time": "2021-09-17T14:21:22.259910Z"
    }
   },
   "outputs": [
    {
     "data": {
      "text/plain": [
       "finrisk.QC_Financial_3.ZeroCouponCurve"
      ]
     },
     "execution_count": 24,
     "metadata": {},
     "output_type": "execute_result"
    }
   ],
   "source": [
    "type(zz)"
   ]
  },
  {
   "cell_type": "markdown",
   "metadata": {},
   "source": [
    "TODO: mostrar los otros métodos disponibles."
   ]
  },
  {
   "cell_type": "code",
   "execution_count": 25,
   "metadata": {
    "ExecuteTime": {
     "end_time": "2021-09-17T14:21:25.460225Z",
     "start_time": "2021-09-17T14:21:25.453547Z"
    }
   },
   "outputs": [
    {
     "data": {
      "text/plain": [
       "0.9999277829934504"
      ]
     },
     "execution_count": 25,
     "metadata": {},
     "output_type": "execute_result"
    }
   ],
   "source": [
    "zz.get_discount_factor_at(1)"
   ]
  },
  {
   "cell_type": "markdown",
   "metadata": {},
   "source": [
    "#### Otros métodos:"
   ]
  },
  {
   "cell_type": "markdown",
   "metadata": {},
   "source": [
    "Tasa Forward"
   ]
  },
  {
   "cell_type": "code",
   "execution_count": 26,
   "metadata": {
    "ExecuteTime": {
     "end_time": "2021-09-17T14:21:28.597424Z",
     "start_time": "2021-09-17T14:21:28.559277Z"
    }
   },
   "outputs": [
    {
     "name": "stdout",
     "output_type": "stream",
     "text": [
      "Tasa forward entre los días 30 y 90: 2.5944%\n"
     ]
    }
   ],
   "source": [
    "d1 = 30\n",
    "d2 = 90\n",
    "print(\"Tasa forward entre los días {0:} y {1:}: {2:.4%}\".format(\n",
    "    d1, d2, zz.get_forward_rate(d1, d2)))"
   ]
  },
  {
   "cell_type": "markdown",
   "metadata": {},
   "source": [
    "Derivada del factor de capitalización de la Tasa Forward. El argumento representa el índice de la tasa de la curva."
   ]
  },
  {
   "cell_type": "code",
   "execution_count": 27,
   "metadata": {
    "ExecuteTime": {
     "end_time": "2021-09-17T14:21:30.993821Z",
     "start_time": "2021-09-17T14:21:30.987452Z"
    }
   },
   "outputs": [
    {
     "data": {
      "text/plain": [
       "0.0"
      ]
     },
     "execution_count": 27,
     "metadata": {},
     "output_type": "execute_result"
    }
   ],
   "source": [
    "zz.fwd_wf_derivative_at(2)"
   ]
  },
  {
   "cell_type": "markdown",
   "metadata": {},
   "source": [
    "## Valorizar"
   ]
  },
  {
   "cell_type": "markdown",
   "metadata": {},
   "source": [
    "Se da de alta un objeto `PresentValue`."
   ]
  },
  {
   "cell_type": "code",
   "execution_count": 28,
   "metadata": {
    "ExecuteTime": {
     "end_time": "2021-09-17T14:21:32.574234Z",
     "start_time": "2021-09-17T14:21:32.571009Z"
    }
   },
   "outputs": [],
   "source": [
    "pv = Qcf.PresentValue()"
   ]
  },
  {
   "cell_type": "markdown",
   "metadata": {},
   "source": [
    "### Depósito a Plazo"
   ]
  },
  {
   "cell_type": "markdown",
   "metadata": {},
   "source": [
    "Se utilizará como instrumento un depósito a plazo en CLP o USD. Este instrumento se modela como un `SimpleCashflow`. Este, a su vez se construye con un monto, una fecha y una moneda."
   ]
  },
  {
   "cell_type": "code",
   "execution_count": 29,
   "metadata": {
    "ExecuteTime": {
     "end_time": "2021-09-17T14:21:34.957267Z",
     "start_time": "2021-09-17T14:21:34.952667Z"
    }
   },
   "outputs": [],
   "source": [
    "# Con estas variables vamos a construir\n",
    "fecha_vcto = Qcf.QCDate(12, 1, 2020)\n",
    "monto = 10000000.0\n",
    "clp = Qcf.QCCLP()\n",
    "\n",
    "# Se construye el depósito\n",
    "depo = Qcf.SimpleCashflow(fecha_vcto, monto, clp)"
   ]
  },
  {
   "cell_type": "code",
   "execution_count": 30,
   "metadata": {
    "ExecuteTime": {
     "end_time": "2021-09-17T14:21:35.539957Z",
     "start_time": "2021-09-17T14:21:35.535038Z"
    }
   },
   "outputs": [
    {
     "name": "stdout",
     "output_type": "stream",
     "text": [
      "Monto del depósito: 10,000,000\n"
     ]
    }
   ],
   "source": [
    "print(\"Monto del depósito: {0:,.0f}\".format(depo.amount()))"
   ]
  },
  {
   "cell_type": "markdown",
   "metadata": {},
   "source": [
    "Se define una fecha de valorización y se calcula el valor presente del depo."
   ]
  },
  {
   "cell_type": "code",
   "execution_count": 31,
   "metadata": {
    "ExecuteTime": {
     "end_time": "2021-09-17T14:21:38.859676Z",
     "start_time": "2021-09-17T14:21:38.853801Z"
    }
   },
   "outputs": [
    {
     "name": "stdout",
     "output_type": "stream",
     "text": [
      "Valor presente depo: 0\n"
     ]
    }
   ],
   "source": [
    "fecha_hoy = Qcf.QCDate(17, 1, 2020)\n",
    "print(\"Valor presente depo: {0:,.0f}\".format(pv.pv(fecha_hoy, depo, zz)))"
   ]
  },
  {
   "cell_type": "markdown",
   "metadata": {},
   "source": [
    "Se verifica *a mano* el resultado."
   ]
  },
  {
   "cell_type": "code",
   "execution_count": 32,
   "metadata": {
    "ExecuteTime": {
     "end_time": "2021-09-17T14:21:40.113628Z",
     "start_time": "2021-09-17T14:21:40.107997Z"
    }
   },
   "outputs": [
    {
     "name": "stdout",
     "output_type": "stream",
     "text": [
      "Plazo: -5\n"
     ]
    }
   ],
   "source": [
    "plazo = fecha_hoy.day_diff(fecha_vcto)\n",
    "print(\"Plazo:\", plazo)"
   ]
  },
  {
   "cell_type": "code",
   "execution_count": 33,
   "metadata": {
    "ExecuteTime": {
     "end_time": "2021-09-17T14:21:40.729286Z",
     "start_time": "2021-09-17T14:21:40.722798Z"
    }
   },
   "outputs": [
    {
     "name": "stdout",
     "output_type": "stream",
     "text": [
      "Tasa: 2.6000%\n"
     ]
    }
   ],
   "source": [
    "tasa_int = zz.get_rate_at(plazo)\n",
    "print(\"Tasa: {0:,.4%}\".format(tasa_int))"
   ]
  },
  {
   "cell_type": "code",
   "execution_count": 34,
   "metadata": {
    "ExecuteTime": {
     "end_time": "2021-09-17T14:21:42.428536Z",
     "start_time": "2021-09-17T14:21:42.422377Z"
    }
   },
   "outputs": [
    {
     "name": "stdout",
     "output_type": "stream",
     "text": [
      "Valor presente a mano: 10,003,517\n"
     ]
    }
   ],
   "source": [
    "valor_presente = monto * (1 + tasa_int)**(-plazo / 365)\n",
    "print(\"Valor presente a mano: {0:,.0f}\".format(valor_presente))"
   ]
  },
  {
   "cell_type": "markdown",
   "metadata": {},
   "source": [
    "### Renta Fija Local"
   ]
  },
  {
   "cell_type": "code",
   "execution_count": 35,
   "metadata": {
    "ExecuteTime": {
     "end_time": "2021-09-17T14:21:51.669989Z",
     "start_time": "2021-09-17T14:21:51.652170Z"
    }
   },
   "outputs": [],
   "source": [
    "# Se da de alta los parámetros requeridos\n",
    "rp = Qcf.RecPay.RECEIVE\n",
    "fecha_inicio = Qcf.QCDate(1, 3, 2015)\n",
    "fecha_final = Qcf.QCDate(1, 3, 2026)\n",
    "bus_adj_rule = Qcf.BusyAdjRules.NO\n",
    "periodicidad = Qcf.Tenor('6M')\n",
    "periodo_irregular = Qcf.StubPeriod.NO\n",
    "calendario = Qcf.BusinessCalendar(fecha_inicio, 20)\n",
    "lag_pago = 0\n",
    "nominal = 100.0\n",
    "amort_es_flujo = True\n",
    "valor_tasa_fija = .045\n",
    "tasa_cupon = Qcf.QCInterestRate(\n",
    "    valor_tasa_fija, Qcf.QC30360(), Qcf.QCLinearWf())\n",
    "moneda = Qcf.QCCLP()\n",
    "es_bono = True\n",
    "\n",
    "# Se da de alta el objeto\n",
    "pata_bono = Qcf.LegFactory.build_bullet_fixed_rate_leg(\n",
    "    rp,\n",
    "    fecha_inicio,\n",
    "    fecha_final,\n",
    "    bus_adj_rule,\n",
    "    periodicidad,\n",
    "    periodo_irregular,\n",
    "    calendario,\n",
    "    lag_pago,\n",
    "    nominal,\n",
    "    amort_es_flujo,\n",
    "    tasa_cupon,\n",
    "    moneda,\n",
    "    es_bono\n",
    ")"
   ]
  },
  {
   "cell_type": "code",
   "execution_count": 36,
   "metadata": {
    "ExecuteTime": {
     "end_time": "2021-09-17T14:21:53.783610Z",
     "start_time": "2021-09-17T14:21:53.777199Z"
    }
   },
   "outputs": [
    {
     "name": "stdout",
     "output_type": "stream",
     "text": [
      "Valor presente: 118.05163190\n",
      "Precio: 115.98%\n",
      "Valor par: 101.782019006663375649\n"
     ]
    }
   ],
   "source": [
    "tera = Qcf.QCInterestRate(.045466, Qcf.QCAct365(), Qcf.QCCompoundWf())\n",
    "bono_chileno = Qcf.ChileanFixedRateBond(pata_bono, tera)\n",
    "fecha_valor = Qcf.QCDate(24, 7, 2020)\n",
    "tir = Qcf.QCInterestRate(.0147, Qcf.QCAct365(), Qcf.QCCompoundWf())\n",
    "print(f'Valor presente: {bono_chileno.present_value(fecha_valor, tir):,.8f}')\n",
    "print(f'Precio: {bono_chileno.price(fecha_valor, tir):,.2%}')\n",
    "print(f'Valor par: {bono_chileno.valor_par(fecha_valor):,.18f}')"
   ]
  },
  {
   "cell_type": "code",
   "execution_count": 37,
   "metadata": {
    "ExecuteTime": {
     "end_time": "2021-09-17T14:21:54.981016Z",
     "start_time": "2021-09-17T14:21:54.975139Z"
    }
   },
   "outputs": [
    {
     "name": "stdout",
     "output_type": "stream",
     "text": [
      "Valor presente: 118.05163190\n",
      "Precio: 116.26413190\n"
     ]
    }
   ],
   "source": [
    "bono = Qcf.FixedRateBond(pata_bono)\n",
    "print(f'Valor presente: {bono.present_value(fecha_valor, tir):,.8f}')\n",
    "print(f'Precio: {bono.price(fecha_valor, tir):,.8f}')"
   ]
  },
  {
   "cell_type": "markdown",
   "metadata": {},
   "source": [
    "### Curvas Reales"
   ]
  },
  {
   "cell_type": "markdown",
   "metadata": {},
   "source": [
    "Construyamos dos curvas a partir de data real. Primero la curva CAMARACLP."
   ]
  },
  {
   "cell_type": "code",
   "execution_count": 38,
   "metadata": {
    "ExecuteTime": {
     "end_time": "2021-09-17T14:23:43.115038Z",
     "start_time": "2021-09-17T14:23:43.030732Z"
    }
   },
   "outputs": [
    {
     "data": {
      "text/html": [
       "<style  type=\"text/css\" >\n",
       "</style><table id=\"T_dc6f8ff2_17c2_11ec_80d9_02cba411ec9d\" ><thead>    <tr>        <th class=\"blank level0\" ></th>        <th class=\"col_heading level0 col0\" >curva</th>        <th class=\"col_heading level0 col1\" >fecha</th>        <th class=\"col_heading level0 col2\" >plazo</th>        <th class=\"col_heading level0 col3\" >tasa</th>    </tr></thead><tbody>\n",
       "                <tr>\n",
       "                        <th id=\"T_dc6f8ff2_17c2_11ec_80d9_02cba411ec9dlevel0_row0\" class=\"row_heading level0 row0\" >0</th>\n",
       "                        <td id=\"T_dc6f8ff2_17c2_11ec_80d9_02cba411ec9drow0_col0\" class=\"data row0 col0\" >CAMARACLP</td>\n",
       "                        <td id=\"T_dc6f8ff2_17c2_11ec_80d9_02cba411ec9drow0_col1\" class=\"data row0 col1\" >2020-03-05 00:00:00</td>\n",
       "                        <td id=\"T_dc6f8ff2_17c2_11ec_80d9_02cba411ec9drow0_col2\" class=\"data row0 col2\" >1</td>\n",
       "                        <td id=\"T_dc6f8ff2_17c2_11ec_80d9_02cba411ec9drow0_col3\" class=\"data row0 col3\" >1.7500%</td>\n",
       "            </tr>\n",
       "            <tr>\n",
       "                        <th id=\"T_dc6f8ff2_17c2_11ec_80d9_02cba411ec9dlevel0_row1\" class=\"row_heading level0 row1\" >1</th>\n",
       "                        <td id=\"T_dc6f8ff2_17c2_11ec_80d9_02cba411ec9drow1_col0\" class=\"data row1 col0\" >CAMARACLP</td>\n",
       "                        <td id=\"T_dc6f8ff2_17c2_11ec_80d9_02cba411ec9drow1_col1\" class=\"data row1 col1\" >2020-03-05 00:00:00</td>\n",
       "                        <td id=\"T_dc6f8ff2_17c2_11ec_80d9_02cba411ec9drow1_col2\" class=\"data row1 col2\" >4</td>\n",
       "                        <td id=\"T_dc6f8ff2_17c2_11ec_80d9_02cba411ec9drow1_col3\" class=\"data row1 col3\" >1.7501%</td>\n",
       "            </tr>\n",
       "            <tr>\n",
       "                        <th id=\"T_dc6f8ff2_17c2_11ec_80d9_02cba411ec9dlevel0_row2\" class=\"row_heading level0 row2\" >2</th>\n",
       "                        <td id=\"T_dc6f8ff2_17c2_11ec_80d9_02cba411ec9drow2_col0\" class=\"data row2 col0\" >CAMARACLP</td>\n",
       "                        <td id=\"T_dc6f8ff2_17c2_11ec_80d9_02cba411ec9drow2_col1\" class=\"data row2 col1\" >2020-03-05 00:00:00</td>\n",
       "                        <td id=\"T_dc6f8ff2_17c2_11ec_80d9_02cba411ec9drow2_col2\" class=\"data row2 col2\" >96</td>\n",
       "                        <td id=\"T_dc6f8ff2_17c2_11ec_80d9_02cba411ec9drow2_col3\" class=\"data row2 col3\" >1.4867%</td>\n",
       "            </tr>\n",
       "            <tr>\n",
       "                        <th id=\"T_dc6f8ff2_17c2_11ec_80d9_02cba411ec9dlevel0_row3\" class=\"row_heading level0 row3\" >3</th>\n",
       "                        <td id=\"T_dc6f8ff2_17c2_11ec_80d9_02cba411ec9drow3_col0\" class=\"data row3 col0\" >CAMARACLP</td>\n",
       "                        <td id=\"T_dc6f8ff2_17c2_11ec_80d9_02cba411ec9drow3_col1\" class=\"data row3 col1\" >2020-03-05 00:00:00</td>\n",
       "                        <td id=\"T_dc6f8ff2_17c2_11ec_80d9_02cba411ec9drow3_col2\" class=\"data row3 col2\" >188</td>\n",
       "                        <td id=\"T_dc6f8ff2_17c2_11ec_80d9_02cba411ec9drow3_col3\" class=\"data row3 col3\" >1.3049%</td>\n",
       "            </tr>\n",
       "            <tr>\n",
       "                        <th id=\"T_dc6f8ff2_17c2_11ec_80d9_02cba411ec9dlevel0_row4\" class=\"row_heading level0 row4\" >4</th>\n",
       "                        <td id=\"T_dc6f8ff2_17c2_11ec_80d9_02cba411ec9drow4_col0\" class=\"data row4 col0\" >CAMARACLP</td>\n",
       "                        <td id=\"T_dc6f8ff2_17c2_11ec_80d9_02cba411ec9drow4_col1\" class=\"data row4 col1\" >2020-03-05 00:00:00</td>\n",
       "                        <td id=\"T_dc6f8ff2_17c2_11ec_80d9_02cba411ec9drow4_col2\" class=\"data row4 col2\" >279</td>\n",
       "                        <td id=\"T_dc6f8ff2_17c2_11ec_80d9_02cba411ec9drow4_col3\" class=\"data row4 col3\" >1.2870%</td>\n",
       "            </tr>\n",
       "            <tr>\n",
       "                        <th id=\"T_dc6f8ff2_17c2_11ec_80d9_02cba411ec9dlevel0_row5\" class=\"row_heading level0 row5\" >5</th>\n",
       "                        <td id=\"T_dc6f8ff2_17c2_11ec_80d9_02cba411ec9drow5_col0\" class=\"data row5 col0\" >CAMARACLP</td>\n",
       "                        <td id=\"T_dc6f8ff2_17c2_11ec_80d9_02cba411ec9drow5_col1\" class=\"data row5 col1\" >2020-03-05 00:00:00</td>\n",
       "                        <td id=\"T_dc6f8ff2_17c2_11ec_80d9_02cba411ec9drow5_col2\" class=\"data row5 col2\" >369</td>\n",
       "                        <td id=\"T_dc6f8ff2_17c2_11ec_80d9_02cba411ec9drow5_col3\" class=\"data row5 col3\" >1.3002%</td>\n",
       "            </tr>\n",
       "            <tr>\n",
       "                        <th id=\"T_dc6f8ff2_17c2_11ec_80d9_02cba411ec9dlevel0_row6\" class=\"row_heading level0 row6\" >6</th>\n",
       "                        <td id=\"T_dc6f8ff2_17c2_11ec_80d9_02cba411ec9drow6_col0\" class=\"data row6 col0\" >CAMARACLP</td>\n",
       "                        <td id=\"T_dc6f8ff2_17c2_11ec_80d9_02cba411ec9drow6_col1\" class=\"data row6 col1\" >2020-03-05 00:00:00</td>\n",
       "                        <td id=\"T_dc6f8ff2_17c2_11ec_80d9_02cba411ec9drow6_col2\" class=\"data row6 col2\" >553</td>\n",
       "                        <td id=\"T_dc6f8ff2_17c2_11ec_80d9_02cba411ec9drow6_col3\" class=\"data row6 col3\" >1.3035%</td>\n",
       "            </tr>\n",
       "            <tr>\n",
       "                        <th id=\"T_dc6f8ff2_17c2_11ec_80d9_02cba411ec9dlevel0_row7\" class=\"row_heading level0 row7\" >7</th>\n",
       "                        <td id=\"T_dc6f8ff2_17c2_11ec_80d9_02cba411ec9drow7_col0\" class=\"data row7 col0\" >CAMARACLP</td>\n",
       "                        <td id=\"T_dc6f8ff2_17c2_11ec_80d9_02cba411ec9drow7_col1\" class=\"data row7 col1\" >2020-03-05 00:00:00</td>\n",
       "                        <td id=\"T_dc6f8ff2_17c2_11ec_80d9_02cba411ec9drow7_col2\" class=\"data row7 col2\" >734</td>\n",
       "                        <td id=\"T_dc6f8ff2_17c2_11ec_80d9_02cba411ec9drow7_col3\" class=\"data row7 col3\" >1.2951%</td>\n",
       "            </tr>\n",
       "            <tr>\n",
       "                        <th id=\"T_dc6f8ff2_17c2_11ec_80d9_02cba411ec9dlevel0_row8\" class=\"row_heading level0 row8\" >8</th>\n",
       "                        <td id=\"T_dc6f8ff2_17c2_11ec_80d9_02cba411ec9drow8_col0\" class=\"data row8 col0\" >CAMARACLP</td>\n",
       "                        <td id=\"T_dc6f8ff2_17c2_11ec_80d9_02cba411ec9drow8_col1\" class=\"data row8 col1\" >2020-03-05 00:00:00</td>\n",
       "                        <td id=\"T_dc6f8ff2_17c2_11ec_80d9_02cba411ec9drow8_col2\" class=\"data row8 col2\" >1099</td>\n",
       "                        <td id=\"T_dc6f8ff2_17c2_11ec_80d9_02cba411ec9drow8_col3\" class=\"data row8 col3\" >1.4440%</td>\n",
       "            </tr>\n",
       "            <tr>\n",
       "                        <th id=\"T_dc6f8ff2_17c2_11ec_80d9_02cba411ec9dlevel0_row9\" class=\"row_heading level0 row9\" >9</th>\n",
       "                        <td id=\"T_dc6f8ff2_17c2_11ec_80d9_02cba411ec9drow9_col0\" class=\"data row9 col0\" >CAMARACLP</td>\n",
       "                        <td id=\"T_dc6f8ff2_17c2_11ec_80d9_02cba411ec9drow9_col1\" class=\"data row9 col1\" >2020-03-05 00:00:00</td>\n",
       "                        <td id=\"T_dc6f8ff2_17c2_11ec_80d9_02cba411ec9drow9_col2\" class=\"data row9 col2\" >1465</td>\n",
       "                        <td id=\"T_dc6f8ff2_17c2_11ec_80d9_02cba411ec9drow9_col3\" class=\"data row9 col3\" >1.6736%</td>\n",
       "            </tr>\n",
       "            <tr>\n",
       "                        <th id=\"T_dc6f8ff2_17c2_11ec_80d9_02cba411ec9dlevel0_row10\" class=\"row_heading level0 row10\" >10</th>\n",
       "                        <td id=\"T_dc6f8ff2_17c2_11ec_80d9_02cba411ec9drow10_col0\" class=\"data row10 col0\" >CAMARACLP</td>\n",
       "                        <td id=\"T_dc6f8ff2_17c2_11ec_80d9_02cba411ec9drow10_col1\" class=\"data row10 col1\" >2020-03-05 00:00:00</td>\n",
       "                        <td id=\"T_dc6f8ff2_17c2_11ec_80d9_02cba411ec9drow10_col2\" class=\"data row10 col2\" >1830</td>\n",
       "                        <td id=\"T_dc6f8ff2_17c2_11ec_80d9_02cba411ec9drow10_col3\" class=\"data row10 col3\" >1.9860%</td>\n",
       "            </tr>\n",
       "            <tr>\n",
       "                        <th id=\"T_dc6f8ff2_17c2_11ec_80d9_02cba411ec9dlevel0_row11\" class=\"row_heading level0 row11\" >11</th>\n",
       "                        <td id=\"T_dc6f8ff2_17c2_11ec_80d9_02cba411ec9drow11_col0\" class=\"data row11 col0\" >CAMARACLP</td>\n",
       "                        <td id=\"T_dc6f8ff2_17c2_11ec_80d9_02cba411ec9drow11_col1\" class=\"data row11 col1\" >2020-03-05 00:00:00</td>\n",
       "                        <td id=\"T_dc6f8ff2_17c2_11ec_80d9_02cba411ec9drow11_col2\" class=\"data row11 col2\" >2195</td>\n",
       "                        <td id=\"T_dc6f8ff2_17c2_11ec_80d9_02cba411ec9drow11_col3\" class=\"data row11 col3\" >2.2766%</td>\n",
       "            </tr>\n",
       "            <tr>\n",
       "                        <th id=\"T_dc6f8ff2_17c2_11ec_80d9_02cba411ec9dlevel0_row12\" class=\"row_heading level0 row12\" >12</th>\n",
       "                        <td id=\"T_dc6f8ff2_17c2_11ec_80d9_02cba411ec9drow12_col0\" class=\"data row12 col0\" >CAMARACLP</td>\n",
       "                        <td id=\"T_dc6f8ff2_17c2_11ec_80d9_02cba411ec9drow12_col1\" class=\"data row12 col1\" >2020-03-05 00:00:00</td>\n",
       "                        <td id=\"T_dc6f8ff2_17c2_11ec_80d9_02cba411ec9drow12_col2\" class=\"data row12 col2\" >2560</td>\n",
       "                        <td id=\"T_dc6f8ff2_17c2_11ec_80d9_02cba411ec9drow12_col3\" class=\"data row12 col3\" >2.5812%</td>\n",
       "            </tr>\n",
       "            <tr>\n",
       "                        <th id=\"T_dc6f8ff2_17c2_11ec_80d9_02cba411ec9dlevel0_row13\" class=\"row_heading level0 row13\" >13</th>\n",
       "                        <td id=\"T_dc6f8ff2_17c2_11ec_80d9_02cba411ec9drow13_col0\" class=\"data row13 col0\" >CAMARACLP</td>\n",
       "                        <td id=\"T_dc6f8ff2_17c2_11ec_80d9_02cba411ec9drow13_col1\" class=\"data row13 col1\" >2020-03-05 00:00:00</td>\n",
       "                        <td id=\"T_dc6f8ff2_17c2_11ec_80d9_02cba411ec9drow13_col2\" class=\"data row13 col2\" >2926</td>\n",
       "                        <td id=\"T_dc6f8ff2_17c2_11ec_80d9_02cba411ec9drow13_col3\" class=\"data row13 col3\" >2.8216%</td>\n",
       "            </tr>\n",
       "            <tr>\n",
       "                        <th id=\"T_dc6f8ff2_17c2_11ec_80d9_02cba411ec9dlevel0_row14\" class=\"row_heading level0 row14\" >14</th>\n",
       "                        <td id=\"T_dc6f8ff2_17c2_11ec_80d9_02cba411ec9drow14_col0\" class=\"data row14 col0\" >CAMARACLP</td>\n",
       "                        <td id=\"T_dc6f8ff2_17c2_11ec_80d9_02cba411ec9drow14_col1\" class=\"data row14 col1\" >2020-03-05 00:00:00</td>\n",
       "                        <td id=\"T_dc6f8ff2_17c2_11ec_80d9_02cba411ec9drow14_col2\" class=\"data row14 col2\" >3291</td>\n",
       "                        <td id=\"T_dc6f8ff2_17c2_11ec_80d9_02cba411ec9drow14_col3\" class=\"data row14 col3\" >3.0373%</td>\n",
       "            </tr>\n",
       "            <tr>\n",
       "                        <th id=\"T_dc6f8ff2_17c2_11ec_80d9_02cba411ec9dlevel0_row15\" class=\"row_heading level0 row15\" >15</th>\n",
       "                        <td id=\"T_dc6f8ff2_17c2_11ec_80d9_02cba411ec9drow15_col0\" class=\"data row15 col0\" >CAMARACLP</td>\n",
       "                        <td id=\"T_dc6f8ff2_17c2_11ec_80d9_02cba411ec9drow15_col1\" class=\"data row15 col1\" >2020-03-05 00:00:00</td>\n",
       "                        <td id=\"T_dc6f8ff2_17c2_11ec_80d9_02cba411ec9drow15_col2\" class=\"data row15 col2\" >3656</td>\n",
       "                        <td id=\"T_dc6f8ff2_17c2_11ec_80d9_02cba411ec9drow15_col3\" class=\"data row15 col3\" >3.2154%</td>\n",
       "            </tr>\n",
       "            <tr>\n",
       "                        <th id=\"T_dc6f8ff2_17c2_11ec_80d9_02cba411ec9dlevel0_row16\" class=\"row_heading level0 row16\" >16</th>\n",
       "                        <td id=\"T_dc6f8ff2_17c2_11ec_80d9_02cba411ec9drow16_col0\" class=\"data row16 col0\" >CAMARACLP</td>\n",
       "                        <td id=\"T_dc6f8ff2_17c2_11ec_80d9_02cba411ec9drow16_col1\" class=\"data row16 col1\" >2020-03-05 00:00:00</td>\n",
       "                        <td id=\"T_dc6f8ff2_17c2_11ec_80d9_02cba411ec9drow16_col2\" class=\"data row16 col2\" >4387</td>\n",
       "                        <td id=\"T_dc6f8ff2_17c2_11ec_80d9_02cba411ec9drow16_col3\" class=\"data row16 col3\" >3.4525%</td>\n",
       "            </tr>\n",
       "            <tr>\n",
       "                        <th id=\"T_dc6f8ff2_17c2_11ec_80d9_02cba411ec9dlevel0_row17\" class=\"row_heading level0 row17\" >17</th>\n",
       "                        <td id=\"T_dc6f8ff2_17c2_11ec_80d9_02cba411ec9drow17_col0\" class=\"data row17 col0\" >CAMARACLP</td>\n",
       "                        <td id=\"T_dc6f8ff2_17c2_11ec_80d9_02cba411ec9drow17_col1\" class=\"data row17 col1\" >2020-03-05 00:00:00</td>\n",
       "                        <td id=\"T_dc6f8ff2_17c2_11ec_80d9_02cba411ec9drow17_col2\" class=\"data row17 col2\" >5482</td>\n",
       "                        <td id=\"T_dc6f8ff2_17c2_11ec_80d9_02cba411ec9drow17_col3\" class=\"data row17 col3\" >3.7636%</td>\n",
       "            </tr>\n",
       "            <tr>\n",
       "                        <th id=\"T_dc6f8ff2_17c2_11ec_80d9_02cba411ec9dlevel0_row18\" class=\"row_heading level0 row18\" >18</th>\n",
       "                        <td id=\"T_dc6f8ff2_17c2_11ec_80d9_02cba411ec9drow18_col0\" class=\"data row18 col0\" >CAMARACLP</td>\n",
       "                        <td id=\"T_dc6f8ff2_17c2_11ec_80d9_02cba411ec9drow18_col1\" class=\"data row18 col1\" >2020-03-05 00:00:00</td>\n",
       "                        <td id=\"T_dc6f8ff2_17c2_11ec_80d9_02cba411ec9drow18_col2\" class=\"data row18 col2\" >7309</td>\n",
       "                        <td id=\"T_dc6f8ff2_17c2_11ec_80d9_02cba411ec9drow18_col3\" class=\"data row18 col3\" >4.1641%</td>\n",
       "            </tr>\n",
       "    </tbody></table>"
      ],
      "text/plain": [
       "<pandas.io.formats.style.Styler at 0x7f4cff037d68>"
      ]
     },
     "execution_count": 38,
     "metadata": {},
     "output_type": "execute_result"
    }
   ],
   "source": [
    "curva = pd.read_excel(\"data/20200305_camaraclp.xlsx\")\n",
    "curva.style.format({\"tasa\": \"{0:,.4%}\"})"
   ]
  },
  {
   "cell_type": "markdown",
   "metadata": {},
   "source": [
    "Se da de alta un vector con los plazos (variable de tipo `long`) y un vector con las tasas (variable de tipo `double`)."
   ]
  },
  {
   "cell_type": "code",
   "execution_count": 39,
   "metadata": {
    "ExecuteTime": {
     "end_time": "2021-09-17T14:24:51.840907Z",
     "start_time": "2021-09-17T14:24:51.828733Z"
    }
   },
   "outputs": [],
   "source": [
    "lvec1 = Qcf.long_vec()\n",
    "vec1 = Qcf.double_vec()\n",
    "for index, row in curva.iterrows():\n",
    "    lvec1.append(int(row['plazo']))\n",
    "    vec1.append(row['tasa'])"
   ]
  },
  {
   "cell_type": "markdown",
   "metadata": {},
   "source": [
    "Luego, con una curva, un interpolador y un objeto `QCInterestRate`(que indica la convención de las tasas de la curva) se construye una curva cupón cero."
   ]
  },
  {
   "cell_type": "code",
   "execution_count": 40,
   "metadata": {
    "ExecuteTime": {
     "end_time": "2021-09-17T14:25:03.863398Z",
     "start_time": "2021-09-17T14:25:03.847233Z"
    }
   },
   "outputs": [],
   "source": [
    "zcc1 = Qcf.QCCurve(lvec1, vec1)\n",
    "lin1 = Qcf.QCLinearInterpolator(zcc1)\n",
    "zz1 = Qcf.ZeroCouponCurve(lin1, tasa)"
   ]
  },
  {
   "cell_type": "markdown",
   "metadata": {},
   "source": [
    "Luego, la curva LIBORUSD3M."
   ]
  },
  {
   "cell_type": "code",
   "execution_count": 42,
   "metadata": {
    "ExecuteTime": {
     "end_time": "2021-09-17T14:25:17.764726Z",
     "start_time": "2021-09-17T14:25:17.723480Z"
    }
   },
   "outputs": [
    {
     "data": {
      "text/html": [
       "<style  type=\"text/css\" >\n",
       "</style><table id=\"T_14d90ec2_17c3_11ec_80d9_02cba411ec9d\" ><thead>    <tr>        <th class=\"blank level0\" ></th>        <th class=\"col_heading level0 col0\" >curva</th>        <th class=\"col_heading level0 col1\" >fecha</th>        <th class=\"col_heading level0 col2\" >plazo</th>        <th class=\"col_heading level0 col3\" >tasa</th>    </tr></thead><tbody>\n",
       "                <tr>\n",
       "                        <th id=\"T_14d90ec2_17c3_11ec_80d9_02cba411ec9dlevel0_row0\" class=\"row_heading level0 row0\" >0</th>\n",
       "                        <td id=\"T_14d90ec2_17c3_11ec_80d9_02cba411ec9drow0_col0\" class=\"data row0 col0\" >LIBORUSD3MBBG</td>\n",
       "                        <td id=\"T_14d90ec2_17c3_11ec_80d9_02cba411ec9drow0_col1\" class=\"data row0 col1\" >2020-01-22 00:00:00</td>\n",
       "                        <td id=\"T_14d90ec2_17c3_11ec_80d9_02cba411ec9drow0_col2\" class=\"data row0 col2\" >3</td>\n",
       "                        <td id=\"T_14d90ec2_17c3_11ec_80d9_02cba411ec9drow0_col3\" class=\"data row0 col3\" >1.5362%</td>\n",
       "            </tr>\n",
       "            <tr>\n",
       "                        <th id=\"T_14d90ec2_17c3_11ec_80d9_02cba411ec9dlevel0_row1\" class=\"row_heading level0 row1\" >1</th>\n",
       "                        <td id=\"T_14d90ec2_17c3_11ec_80d9_02cba411ec9drow1_col0\" class=\"data row1 col0\" >LIBORUSD3MBBG</td>\n",
       "                        <td id=\"T_14d90ec2_17c3_11ec_80d9_02cba411ec9drow1_col1\" class=\"data row1 col1\" >2020-01-22 00:00:00</td>\n",
       "                        <td id=\"T_14d90ec2_17c3_11ec_80d9_02cba411ec9drow1_col2\" class=\"data row1 col2\" >4</td>\n",
       "                        <td id=\"T_14d90ec2_17c3_11ec_80d9_02cba411ec9drow1_col3\" class=\"data row1 col3\" >1.1521%</td>\n",
       "            </tr>\n",
       "            <tr>\n",
       "                        <th id=\"T_14d90ec2_17c3_11ec_80d9_02cba411ec9dlevel0_row2\" class=\"row_heading level0 row2\" >2</th>\n",
       "                        <td id=\"T_14d90ec2_17c3_11ec_80d9_02cba411ec9drow2_col0\" class=\"data row2 col0\" >LIBORUSD3MBBG</td>\n",
       "                        <td id=\"T_14d90ec2_17c3_11ec_80d9_02cba411ec9drow2_col1\" class=\"data row2 col1\" >2020-01-22 00:00:00</td>\n",
       "                        <td id=\"T_14d90ec2_17c3_11ec_80d9_02cba411ec9drow2_col2\" class=\"data row2 col2\" >7</td>\n",
       "                        <td id=\"T_14d90ec2_17c3_11ec_80d9_02cba411ec9drow2_col3\" class=\"data row2 col3\" >1.5536%</td>\n",
       "            </tr>\n",
       "            <tr>\n",
       "                        <th id=\"T_14d90ec2_17c3_11ec_80d9_02cba411ec9dlevel0_row3\" class=\"row_heading level0 row3\" >3</th>\n",
       "                        <td id=\"T_14d90ec2_17c3_11ec_80d9_02cba411ec9drow3_col0\" class=\"data row3 col0\" >LIBORUSD3MBBG</td>\n",
       "                        <td id=\"T_14d90ec2_17c3_11ec_80d9_02cba411ec9drow3_col1\" class=\"data row3 col1\" >2020-01-22 00:00:00</td>\n",
       "                        <td id=\"T_14d90ec2_17c3_11ec_80d9_02cba411ec9drow3_col2\" class=\"data row3 col2\" >14</td>\n",
       "                        <td id=\"T_14d90ec2_17c3_11ec_80d9_02cba411ec9drow3_col3\" class=\"data row3 col3\" >1.5850%</td>\n",
       "            </tr>\n",
       "            <tr>\n",
       "                        <th id=\"T_14d90ec2_17c3_11ec_80d9_02cba411ec9dlevel0_row4\" class=\"row_heading level0 row4\" >4</th>\n",
       "                        <td id=\"T_14d90ec2_17c3_11ec_80d9_02cba411ec9drow4_col0\" class=\"data row4 col0\" >LIBORUSD3MBBG</td>\n",
       "                        <td id=\"T_14d90ec2_17c3_11ec_80d9_02cba411ec9drow4_col1\" class=\"data row4 col1\" >2020-01-22 00:00:00</td>\n",
       "                        <td id=\"T_14d90ec2_17c3_11ec_80d9_02cba411ec9drow4_col2\" class=\"data row4 col2\" >31</td>\n",
       "                        <td id=\"T_14d90ec2_17c3_11ec_80d9_02cba411ec9drow4_col3\" class=\"data row4 col3\" >1.6595%</td>\n",
       "            </tr>\n",
       "            <tr>\n",
       "                        <th id=\"T_14d90ec2_17c3_11ec_80d9_02cba411ec9dlevel0_row5\" class=\"row_heading level0 row5\" >5</th>\n",
       "                        <td id=\"T_14d90ec2_17c3_11ec_80d9_02cba411ec9drow5_col0\" class=\"data row5 col0\" >LIBORUSD3MBBG</td>\n",
       "                        <td id=\"T_14d90ec2_17c3_11ec_80d9_02cba411ec9drow5_col1\" class=\"data row5 col1\" >2020-01-22 00:00:00</td>\n",
       "                        <td id=\"T_14d90ec2_17c3_11ec_80d9_02cba411ec9drow5_col2\" class=\"data row5 col2\" >60</td>\n",
       "                        <td id=\"T_14d90ec2_17c3_11ec_80d9_02cba411ec9drow5_col3\" class=\"data row5 col3\" >1.7698%</td>\n",
       "            </tr>\n",
       "            <tr>\n",
       "                        <th id=\"T_14d90ec2_17c3_11ec_80d9_02cba411ec9dlevel0_row6\" class=\"row_heading level0 row6\" >6</th>\n",
       "                        <td id=\"T_14d90ec2_17c3_11ec_80d9_02cba411ec9drow6_col0\" class=\"data row6 col0\" >LIBORUSD3MBBG</td>\n",
       "                        <td id=\"T_14d90ec2_17c3_11ec_80d9_02cba411ec9drow6_col1\" class=\"data row6 col1\" >2020-01-22 00:00:00</td>\n",
       "                        <td id=\"T_14d90ec2_17c3_11ec_80d9_02cba411ec9drow6_col2\" class=\"data row6 col2\" >91</td>\n",
       "                        <td id=\"T_14d90ec2_17c3_11ec_80d9_02cba411ec9drow6_col3\" class=\"data row6 col3\" >1.8010%</td>\n",
       "            </tr>\n",
       "            <tr>\n",
       "                        <th id=\"T_14d90ec2_17c3_11ec_80d9_02cba411ec9dlevel0_row7\" class=\"row_heading level0 row7\" >7</th>\n",
       "                        <td id=\"T_14d90ec2_17c3_11ec_80d9_02cba411ec9drow7_col0\" class=\"data row7 col0\" >LIBORUSD3MBBG</td>\n",
       "                        <td id=\"T_14d90ec2_17c3_11ec_80d9_02cba411ec9drow7_col1\" class=\"data row7 col1\" >2020-01-22 00:00:00</td>\n",
       "                        <td id=\"T_14d90ec2_17c3_11ec_80d9_02cba411ec9drow7_col2\" class=\"data row7 col2\" >123</td>\n",
       "                        <td id=\"T_14d90ec2_17c3_11ec_80d9_02cba411ec9drow7_col3\" class=\"data row7 col3\" >1.7711%</td>\n",
       "            </tr>\n",
       "            <tr>\n",
       "                        <th id=\"T_14d90ec2_17c3_11ec_80d9_02cba411ec9dlevel0_row8\" class=\"row_heading level0 row8\" >8</th>\n",
       "                        <td id=\"T_14d90ec2_17c3_11ec_80d9_02cba411ec9drow8_col0\" class=\"data row8 col0\" >LIBORUSD3MBBG</td>\n",
       "                        <td id=\"T_14d90ec2_17c3_11ec_80d9_02cba411ec9drow8_col1\" class=\"data row8 col1\" >2020-01-22 00:00:00</td>\n",
       "                        <td id=\"T_14d90ec2_17c3_11ec_80d9_02cba411ec9drow8_col2\" class=\"data row8 col2\" >152</td>\n",
       "                        <td id=\"T_14d90ec2_17c3_11ec_80d9_02cba411ec9drow8_col3\" class=\"data row8 col3\" >1.7542%</td>\n",
       "            </tr>\n",
       "            <tr>\n",
       "                        <th id=\"T_14d90ec2_17c3_11ec_80d9_02cba411ec9dlevel0_row9\" class=\"row_heading level0 row9\" >9</th>\n",
       "                        <td id=\"T_14d90ec2_17c3_11ec_80d9_02cba411ec9drow9_col0\" class=\"data row9 col0\" >LIBORUSD3MBBG</td>\n",
       "                        <td id=\"T_14d90ec2_17c3_11ec_80d9_02cba411ec9drow9_col1\" class=\"data row9 col1\" >2020-01-22 00:00:00</td>\n",
       "                        <td id=\"T_14d90ec2_17c3_11ec_80d9_02cba411ec9drow9_col2\" class=\"data row9 col2\" >182</td>\n",
       "                        <td id=\"T_14d90ec2_17c3_11ec_80d9_02cba411ec9drow9_col3\" class=\"data row9 col3\" >1.7394%</td>\n",
       "            </tr>\n",
       "            <tr>\n",
       "                        <th id=\"T_14d90ec2_17c3_11ec_80d9_02cba411ec9dlevel0_row10\" class=\"row_heading level0 row10\" >10</th>\n",
       "                        <td id=\"T_14d90ec2_17c3_11ec_80d9_02cba411ec9drow10_col0\" class=\"data row10 col0\" >LIBORUSD3MBBG</td>\n",
       "                        <td id=\"T_14d90ec2_17c3_11ec_80d9_02cba411ec9drow10_col1\" class=\"data row10 col1\" >2020-01-22 00:00:00</td>\n",
       "                        <td id=\"T_14d90ec2_17c3_11ec_80d9_02cba411ec9drow10_col2\" class=\"data row10 col2\" >213</td>\n",
       "                        <td id=\"T_14d90ec2_17c3_11ec_80d9_02cba411ec9drow10_col3\" class=\"data row10 col3\" >1.7288%</td>\n",
       "            </tr>\n",
       "            <tr>\n",
       "                        <th id=\"T_14d90ec2_17c3_11ec_80d9_02cba411ec9dlevel0_row11\" class=\"row_heading level0 row11\" >11</th>\n",
       "                        <td id=\"T_14d90ec2_17c3_11ec_80d9_02cba411ec9drow11_col0\" class=\"data row11 col0\" >LIBORUSD3MBBG</td>\n",
       "                        <td id=\"T_14d90ec2_17c3_11ec_80d9_02cba411ec9drow11_col1\" class=\"data row11 col1\" >2020-01-22 00:00:00</td>\n",
       "                        <td id=\"T_14d90ec2_17c3_11ec_80d9_02cba411ec9drow11_col2\" class=\"data row11 col2\" >244</td>\n",
       "                        <td id=\"T_14d90ec2_17c3_11ec_80d9_02cba411ec9drow11_col3\" class=\"data row11 col3\" >1.7183%</td>\n",
       "            </tr>\n",
       "            <tr>\n",
       "                        <th id=\"T_14d90ec2_17c3_11ec_80d9_02cba411ec9dlevel0_row12\" class=\"row_heading level0 row12\" >12</th>\n",
       "                        <td id=\"T_14d90ec2_17c3_11ec_80d9_02cba411ec9drow12_col0\" class=\"data row12 col0\" >LIBORUSD3MBBG</td>\n",
       "                        <td id=\"T_14d90ec2_17c3_11ec_80d9_02cba411ec9drow12_col1\" class=\"data row12 col1\" >2020-01-22 00:00:00</td>\n",
       "                        <td id=\"T_14d90ec2_17c3_11ec_80d9_02cba411ec9drow12_col2\" class=\"data row12 col2\" >276</td>\n",
       "                        <td id=\"T_14d90ec2_17c3_11ec_80d9_02cba411ec9drow12_col3\" class=\"data row12 col3\" >1.7027%</td>\n",
       "            </tr>\n",
       "            <tr>\n",
       "                        <th id=\"T_14d90ec2_17c3_11ec_80d9_02cba411ec9dlevel0_row13\" class=\"row_heading level0 row13\" >13</th>\n",
       "                        <td id=\"T_14d90ec2_17c3_11ec_80d9_02cba411ec9drow13_col0\" class=\"data row13 col0\" >LIBORUSD3MBBG</td>\n",
       "                        <td id=\"T_14d90ec2_17c3_11ec_80d9_02cba411ec9drow13_col1\" class=\"data row13 col1\" >2020-01-22 00:00:00</td>\n",
       "                        <td id=\"T_14d90ec2_17c3_11ec_80d9_02cba411ec9drow13_col2\" class=\"data row13 col2\" >305</td>\n",
       "                        <td id=\"T_14d90ec2_17c3_11ec_80d9_02cba411ec9drow13_col3\" class=\"data row13 col3\" >1.6917%</td>\n",
       "            </tr>\n",
       "            <tr>\n",
       "                        <th id=\"T_14d90ec2_17c3_11ec_80d9_02cba411ec9dlevel0_row14\" class=\"row_heading level0 row14\" >14</th>\n",
       "                        <td id=\"T_14d90ec2_17c3_11ec_80d9_02cba411ec9drow14_col0\" class=\"data row14 col0\" >LIBORUSD3MBBG</td>\n",
       "                        <td id=\"T_14d90ec2_17c3_11ec_80d9_02cba411ec9drow14_col1\" class=\"data row14 col1\" >2020-01-22 00:00:00</td>\n",
       "                        <td id=\"T_14d90ec2_17c3_11ec_80d9_02cba411ec9drow14_col2\" class=\"data row14 col2\" >335</td>\n",
       "                        <td id=\"T_14d90ec2_17c3_11ec_80d9_02cba411ec9drow14_col3\" class=\"data row14 col3\" >1.6820%</td>\n",
       "            </tr>\n",
       "            <tr>\n",
       "                        <th id=\"T_14d90ec2_17c3_11ec_80d9_02cba411ec9dlevel0_row15\" class=\"row_heading level0 row15\" >15</th>\n",
       "                        <td id=\"T_14d90ec2_17c3_11ec_80d9_02cba411ec9drow15_col0\" class=\"data row15 col0\" >LIBORUSD3MBBG</td>\n",
       "                        <td id=\"T_14d90ec2_17c3_11ec_80d9_02cba411ec9drow15_col1\" class=\"data row15 col1\" >2020-01-22 00:00:00</td>\n",
       "                        <td id=\"T_14d90ec2_17c3_11ec_80d9_02cba411ec9drow15_col2\" class=\"data row15 col2\" >367</td>\n",
       "                        <td id=\"T_14d90ec2_17c3_11ec_80d9_02cba411ec9drow15_col3\" class=\"data row15 col3\" >1.6722%</td>\n",
       "            </tr>\n",
       "            <tr>\n",
       "                        <th id=\"T_14d90ec2_17c3_11ec_80d9_02cba411ec9dlevel0_row16\" class=\"row_heading level0 row16\" >16</th>\n",
       "                        <td id=\"T_14d90ec2_17c3_11ec_80d9_02cba411ec9drow16_col0\" class=\"data row16 col0\" >LIBORUSD3MBBG</td>\n",
       "                        <td id=\"T_14d90ec2_17c3_11ec_80d9_02cba411ec9drow16_col1\" class=\"data row16 col1\" >2020-01-22 00:00:00</td>\n",
       "                        <td id=\"T_14d90ec2_17c3_11ec_80d9_02cba411ec9drow16_col2\" class=\"data row16 col2\" >549</td>\n",
       "                        <td id=\"T_14d90ec2_17c3_11ec_80d9_02cba411ec9drow16_col3\" class=\"data row16 col3\" >1.6207%</td>\n",
       "            </tr>\n",
       "            <tr>\n",
       "                        <th id=\"T_14d90ec2_17c3_11ec_80d9_02cba411ec9dlevel0_row17\" class=\"row_heading level0 row17\" >17</th>\n",
       "                        <td id=\"T_14d90ec2_17c3_11ec_80d9_02cba411ec9drow17_col0\" class=\"data row17 col0\" >LIBORUSD3MBBG</td>\n",
       "                        <td id=\"T_14d90ec2_17c3_11ec_80d9_02cba411ec9drow17_col1\" class=\"data row17 col1\" >2020-01-22 00:00:00</td>\n",
       "                        <td id=\"T_14d90ec2_17c3_11ec_80d9_02cba411ec9drow17_col2\" class=\"data row17 col2\" >731</td>\n",
       "                        <td id=\"T_14d90ec2_17c3_11ec_80d9_02cba411ec9drow17_col3\" class=\"data row17 col3\" >1.5947%</td>\n",
       "            </tr>\n",
       "            <tr>\n",
       "                        <th id=\"T_14d90ec2_17c3_11ec_80d9_02cba411ec9dlevel0_row18\" class=\"row_heading level0 row18\" >18</th>\n",
       "                        <td id=\"T_14d90ec2_17c3_11ec_80d9_02cba411ec9drow18_col0\" class=\"data row18 col0\" >LIBORUSD3MBBG</td>\n",
       "                        <td id=\"T_14d90ec2_17c3_11ec_80d9_02cba411ec9drow18_col1\" class=\"data row18 col1\" >2020-01-22 00:00:00</td>\n",
       "                        <td id=\"T_14d90ec2_17c3_11ec_80d9_02cba411ec9drow18_col2\" class=\"data row18 col2\" >1096</td>\n",
       "                        <td id=\"T_14d90ec2_17c3_11ec_80d9_02cba411ec9drow18_col3\" class=\"data row18 col3\" >1.5788%</td>\n",
       "            </tr>\n",
       "            <tr>\n",
       "                        <th id=\"T_14d90ec2_17c3_11ec_80d9_02cba411ec9dlevel0_row19\" class=\"row_heading level0 row19\" >19</th>\n",
       "                        <td id=\"T_14d90ec2_17c3_11ec_80d9_02cba411ec9drow19_col0\" class=\"data row19 col0\" >LIBORUSD3MBBG</td>\n",
       "                        <td id=\"T_14d90ec2_17c3_11ec_80d9_02cba411ec9drow19_col1\" class=\"data row19 col1\" >2020-01-22 00:00:00</td>\n",
       "                        <td id=\"T_14d90ec2_17c3_11ec_80d9_02cba411ec9drow19_col2\" class=\"data row19 col2\" >1461</td>\n",
       "                        <td id=\"T_14d90ec2_17c3_11ec_80d9_02cba411ec9drow19_col3\" class=\"data row19 col3\" >1.5906%</td>\n",
       "            </tr>\n",
       "            <tr>\n",
       "                        <th id=\"T_14d90ec2_17c3_11ec_80d9_02cba411ec9dlevel0_row20\" class=\"row_heading level0 row20\" >20</th>\n",
       "                        <td id=\"T_14d90ec2_17c3_11ec_80d9_02cba411ec9drow20_col0\" class=\"data row20 col0\" >LIBORUSD3MBBG</td>\n",
       "                        <td id=\"T_14d90ec2_17c3_11ec_80d9_02cba411ec9drow20_col1\" class=\"data row20 col1\" >2020-01-22 00:00:00</td>\n",
       "                        <td id=\"T_14d90ec2_17c3_11ec_80d9_02cba411ec9drow20_col2\" class=\"data row20 col2\" >1827</td>\n",
       "                        <td id=\"T_14d90ec2_17c3_11ec_80d9_02cba411ec9drow20_col3\" class=\"data row20 col3\" >1.6190%</td>\n",
       "            </tr>\n",
       "            <tr>\n",
       "                        <th id=\"T_14d90ec2_17c3_11ec_80d9_02cba411ec9dlevel0_row21\" class=\"row_heading level0 row21\" >21</th>\n",
       "                        <td id=\"T_14d90ec2_17c3_11ec_80d9_02cba411ec9drow21_col0\" class=\"data row21 col0\" >LIBORUSD3MBBG</td>\n",
       "                        <td id=\"T_14d90ec2_17c3_11ec_80d9_02cba411ec9drow21_col1\" class=\"data row21 col1\" >2020-01-22 00:00:00</td>\n",
       "                        <td id=\"T_14d90ec2_17c3_11ec_80d9_02cba411ec9drow21_col2\" class=\"data row21 col2\" >2558</td>\n",
       "                        <td id=\"T_14d90ec2_17c3_11ec_80d9_02cba411ec9drow21_col3\" class=\"data row21 col3\" >1.7028%</td>\n",
       "            </tr>\n",
       "            <tr>\n",
       "                        <th id=\"T_14d90ec2_17c3_11ec_80d9_02cba411ec9dlevel0_row22\" class=\"row_heading level0 row22\" >22</th>\n",
       "                        <td id=\"T_14d90ec2_17c3_11ec_80d9_02cba411ec9drow22_col0\" class=\"data row22 col0\" >LIBORUSD3MBBG</td>\n",
       "                        <td id=\"T_14d90ec2_17c3_11ec_80d9_02cba411ec9drow22_col1\" class=\"data row22 col1\" >2020-01-22 00:00:00</td>\n",
       "                        <td id=\"T_14d90ec2_17c3_11ec_80d9_02cba411ec9drow22_col2\" class=\"data row22 col2\" >3653</td>\n",
       "                        <td id=\"T_14d90ec2_17c3_11ec_80d9_02cba411ec9drow22_col3\" class=\"data row22 col3\" >1.8533%</td>\n",
       "            </tr>\n",
       "            <tr>\n",
       "                        <th id=\"T_14d90ec2_17c3_11ec_80d9_02cba411ec9dlevel0_row23\" class=\"row_heading level0 row23\" >23</th>\n",
       "                        <td id=\"T_14d90ec2_17c3_11ec_80d9_02cba411ec9drow23_col0\" class=\"data row23 col0\" >LIBORUSD3MBBG</td>\n",
       "                        <td id=\"T_14d90ec2_17c3_11ec_80d9_02cba411ec9drow23_col1\" class=\"data row23 col1\" >2020-01-22 00:00:00</td>\n",
       "                        <td id=\"T_14d90ec2_17c3_11ec_80d9_02cba411ec9drow23_col2\" class=\"data row23 col2\" >4385</td>\n",
       "                        <td id=\"T_14d90ec2_17c3_11ec_80d9_02cba411ec9drow23_col3\" class=\"data row23 col3\" >1.9547%</td>\n",
       "            </tr>\n",
       "            <tr>\n",
       "                        <th id=\"T_14d90ec2_17c3_11ec_80d9_02cba411ec9dlevel0_row24\" class=\"row_heading level0 row24\" >24</th>\n",
       "                        <td id=\"T_14d90ec2_17c3_11ec_80d9_02cba411ec9drow24_col0\" class=\"data row24 col0\" >LIBORUSD3MBBG</td>\n",
       "                        <td id=\"T_14d90ec2_17c3_11ec_80d9_02cba411ec9drow24_col1\" class=\"data row24 col1\" >2020-01-22 00:00:00</td>\n",
       "                        <td id=\"T_14d90ec2_17c3_11ec_80d9_02cba411ec9drow24_col2\" class=\"data row24 col2\" >5479</td>\n",
       "                        <td id=\"T_14d90ec2_17c3_11ec_80d9_02cba411ec9drow24_col3\" class=\"data row24 col3\" >2.0893%</td>\n",
       "            </tr>\n",
       "            <tr>\n",
       "                        <th id=\"T_14d90ec2_17c3_11ec_80d9_02cba411ec9dlevel0_row25\" class=\"row_heading level0 row25\" >25</th>\n",
       "                        <td id=\"T_14d90ec2_17c3_11ec_80d9_02cba411ec9drow25_col0\" class=\"data row25 col0\" >LIBORUSD3MBBG</td>\n",
       "                        <td id=\"T_14d90ec2_17c3_11ec_80d9_02cba411ec9drow25_col1\" class=\"data row25 col1\" >2020-01-22 00:00:00</td>\n",
       "                        <td id=\"T_14d90ec2_17c3_11ec_80d9_02cba411ec9drow25_col2\" class=\"data row25 col2\" >7305</td>\n",
       "                        <td id=\"T_14d90ec2_17c3_11ec_80d9_02cba411ec9drow25_col3\" class=\"data row25 col3\" >2.2831%</td>\n",
       "            </tr>\n",
       "            <tr>\n",
       "                        <th id=\"T_14d90ec2_17c3_11ec_80d9_02cba411ec9dlevel0_row26\" class=\"row_heading level0 row26\" >26</th>\n",
       "                        <td id=\"T_14d90ec2_17c3_11ec_80d9_02cba411ec9drow26_col0\" class=\"data row26 col0\" >LIBORUSD3MBBG</td>\n",
       "                        <td id=\"T_14d90ec2_17c3_11ec_80d9_02cba411ec9drow26_col1\" class=\"data row26 col1\" >2020-01-22 00:00:00</td>\n",
       "                        <td id=\"T_14d90ec2_17c3_11ec_80d9_02cba411ec9drow26_col2\" class=\"data row26 col2\" >9132</td>\n",
       "                        <td id=\"T_14d90ec2_17c3_11ec_80d9_02cba411ec9drow26_col3\" class=\"data row26 col3\" >2.4306%</td>\n",
       "            </tr>\n",
       "            <tr>\n",
       "                        <th id=\"T_14d90ec2_17c3_11ec_80d9_02cba411ec9dlevel0_row27\" class=\"row_heading level0 row27\" >27</th>\n",
       "                        <td id=\"T_14d90ec2_17c3_11ec_80d9_02cba411ec9drow27_col0\" class=\"data row27 col0\" >LIBORUSD3MBBG</td>\n",
       "                        <td id=\"T_14d90ec2_17c3_11ec_80d9_02cba411ec9drow27_col1\" class=\"data row27 col1\" >2020-01-22 00:00:00</td>\n",
       "                        <td id=\"T_14d90ec2_17c3_11ec_80d9_02cba411ec9drow27_col2\" class=\"data row27 col2\" >10958</td>\n",
       "                        <td id=\"T_14d90ec2_17c3_11ec_80d9_02cba411ec9drow27_col3\" class=\"data row27 col3\" >2.5576%</td>\n",
       "            </tr>\n",
       "    </tbody></table>"
      ],
      "text/plain": [
       "<pandas.io.formats.style.Styler at 0x7f4ccd01e828>"
      ]
     },
     "execution_count": 42,
     "metadata": {},
     "output_type": "execute_result"
    }
   ],
   "source": [
    "curva_libor = pd.read_excel(\"data/20200122_libor3mbbg.xlsx\")\n",
    "curva_libor.style.format({\"tasa\": \"{0:,.4%}\"})"
   ]
  },
  {
   "cell_type": "code",
   "execution_count": 43,
   "metadata": {
    "ExecuteTime": {
     "end_time": "2021-09-17T14:25:21.802464Z",
     "start_time": "2021-09-17T14:25:21.783714Z"
    }
   },
   "outputs": [],
   "source": [
    "lvec2 = Qcf.long_vec()\n",
    "vec2 = Qcf.double_vec()\n",
    "for index, row in curva_libor.iterrows():\n",
    "    lvec2.append(int(row['plazo']))\n",
    "    vec2.append(row['tasa'])\n",
    "\n",
    "zcc2 = Qcf.QCCurve(lvec2, vec2)\n",
    "lin2 = Qcf.QCLinearInterpolator(zcc2)\n",
    "zz2 = Qcf.ZeroCouponCurve(lin2, tasa)"
   ]
  },
  {
   "cell_type": "markdown",
   "metadata": {},
   "source": [
    "Finalmente, la curva CAMARACLF."
   ]
  },
  {
   "cell_type": "code",
   "execution_count": 45,
   "metadata": {
    "ExecuteTime": {
     "end_time": "2021-09-17T14:25:44.473449Z",
     "start_time": "2021-09-17T14:25:44.449230Z"
    }
   },
   "outputs": [
    {
     "data": {
      "text/html": [
       "<style  type=\"text/css\" >\n",
       "</style><table id=\"T_24c56d1c_17c3_11ec_80d9_02cba411ec9d\" ><thead>    <tr>        <th class=\"blank level0\" ></th>        <th class=\"col_heading level0 col0\" >curva</th>        <th class=\"col_heading level0 col1\" >fecha</th>        <th class=\"col_heading level0 col2\" >plazo</th>        <th class=\"col_heading level0 col3\" >tasa</th>    </tr></thead><tbody>\n",
       "                <tr>\n",
       "                        <th id=\"T_24c56d1c_17c3_11ec_80d9_02cba411ec9dlevel0_row0\" class=\"row_heading level0 row0\" >0</th>\n",
       "                        <td id=\"T_24c56d1c_17c3_11ec_80d9_02cba411ec9drow0_col0\" class=\"data row0 col0\" >CAMARACLF</td>\n",
       "                        <td id=\"T_24c56d1c_17c3_11ec_80d9_02cba411ec9drow0_col1\" class=\"data row0 col1\" >2020-03-05 00:00:00</td>\n",
       "                        <td id=\"T_24c56d1c_17c3_11ec_80d9_02cba411ec9drow0_col2\" class=\"data row0 col2\" >1</td>\n",
       "                        <td id=\"T_24c56d1c_17c3_11ec_80d9_02cba411ec9drow0_col3\" class=\"data row0 col3\" >-5.6780%</td>\n",
       "            </tr>\n",
       "            <tr>\n",
       "                        <th id=\"T_24c56d1c_17c3_11ec_80d9_02cba411ec9dlevel0_row1\" class=\"row_heading level0 row1\" >1</th>\n",
       "                        <td id=\"T_24c56d1c_17c3_11ec_80d9_02cba411ec9drow1_col0\" class=\"data row1 col0\" >CAMARACLF</td>\n",
       "                        <td id=\"T_24c56d1c_17c3_11ec_80d9_02cba411ec9drow1_col1\" class=\"data row1 col1\" >2020-03-05 00:00:00</td>\n",
       "                        <td id=\"T_24c56d1c_17c3_11ec_80d9_02cba411ec9drow1_col2\" class=\"data row1 col2\" >4</td>\n",
       "                        <td id=\"T_24c56d1c_17c3_11ec_80d9_02cba411ec9drow1_col3\" class=\"data row1 col3\" >-5.6744%</td>\n",
       "            </tr>\n",
       "            <tr>\n",
       "                        <th id=\"T_24c56d1c_17c3_11ec_80d9_02cba411ec9dlevel0_row2\" class=\"row_heading level0 row2\" >2</th>\n",
       "                        <td id=\"T_24c56d1c_17c3_11ec_80d9_02cba411ec9drow2_col0\" class=\"data row2 col0\" >CAMARACLF</td>\n",
       "                        <td id=\"T_24c56d1c_17c3_11ec_80d9_02cba411ec9drow2_col1\" class=\"data row2 col1\" >2020-03-05 00:00:00</td>\n",
       "                        <td id=\"T_24c56d1c_17c3_11ec_80d9_02cba411ec9drow2_col2\" class=\"data row2 col2\" >35</td>\n",
       "                        <td id=\"T_24c56d1c_17c3_11ec_80d9_02cba411ec9drow2_col3\" class=\"data row2 col3\" >-0.9340%</td>\n",
       "            </tr>\n",
       "            <tr>\n",
       "                        <th id=\"T_24c56d1c_17c3_11ec_80d9_02cba411ec9dlevel0_row3\" class=\"row_heading level0 row3\" >3</th>\n",
       "                        <td id=\"T_24c56d1c_17c3_11ec_80d9_02cba411ec9drow3_col0\" class=\"data row3 col0\" >CAMARACLF</td>\n",
       "                        <td id=\"T_24c56d1c_17c3_11ec_80d9_02cba411ec9drow3_col1\" class=\"data row3 col1\" >2020-03-05 00:00:00</td>\n",
       "                        <td id=\"T_24c56d1c_17c3_11ec_80d9_02cba411ec9drow3_col2\" class=\"data row3 col2\" >64</td>\n",
       "                        <td id=\"T_24c56d1c_17c3_11ec_80d9_02cba411ec9drow3_col3\" class=\"data row3 col3\" >-2.1183%</td>\n",
       "            </tr>\n",
       "            <tr>\n",
       "                        <th id=\"T_24c56d1c_17c3_11ec_80d9_02cba411ec9dlevel0_row4\" class=\"row_heading level0 row4\" >4</th>\n",
       "                        <td id=\"T_24c56d1c_17c3_11ec_80d9_02cba411ec9drow4_col0\" class=\"data row4 col0\" >CAMARACLF</td>\n",
       "                        <td id=\"T_24c56d1c_17c3_11ec_80d9_02cba411ec9drow4_col1\" class=\"data row4 col1\" >2020-03-05 00:00:00</td>\n",
       "                        <td id=\"T_24c56d1c_17c3_11ec_80d9_02cba411ec9drow4_col2\" class=\"data row4 col2\" >96</td>\n",
       "                        <td id=\"T_24c56d1c_17c3_11ec_80d9_02cba411ec9drow4_col3\" class=\"data row4 col3\" >-2.0079%</td>\n",
       "            </tr>\n",
       "            <tr>\n",
       "                        <th id=\"T_24c56d1c_17c3_11ec_80d9_02cba411ec9dlevel0_row5\" class=\"row_heading level0 row5\" >5</th>\n",
       "                        <td id=\"T_24c56d1c_17c3_11ec_80d9_02cba411ec9drow5_col0\" class=\"data row5 col0\" >CAMARACLF</td>\n",
       "                        <td id=\"T_24c56d1c_17c3_11ec_80d9_02cba411ec9drow5_col1\" class=\"data row5 col1\" >2020-03-05 00:00:00</td>\n",
       "                        <td id=\"T_24c56d1c_17c3_11ec_80d9_02cba411ec9drow5_col2\" class=\"data row5 col2\" >126</td>\n",
       "                        <td id=\"T_24c56d1c_17c3_11ec_80d9_02cba411ec9drow5_col3\" class=\"data row5 col3\" >-2.0762%</td>\n",
       "            </tr>\n",
       "            <tr>\n",
       "                        <th id=\"T_24c56d1c_17c3_11ec_80d9_02cba411ec9dlevel0_row6\" class=\"row_heading level0 row6\" >6</th>\n",
       "                        <td id=\"T_24c56d1c_17c3_11ec_80d9_02cba411ec9drow6_col0\" class=\"data row6 col0\" >CAMARACLF</td>\n",
       "                        <td id=\"T_24c56d1c_17c3_11ec_80d9_02cba411ec9drow6_col1\" class=\"data row6 col1\" >2020-03-05 00:00:00</td>\n",
       "                        <td id=\"T_24c56d1c_17c3_11ec_80d9_02cba411ec9drow6_col2\" class=\"data row6 col2\" >155</td>\n",
       "                        <td id=\"T_24c56d1c_17c3_11ec_80d9_02cba411ec9drow6_col3\" class=\"data row6 col3\" >-1.9197%</td>\n",
       "            </tr>\n",
       "            <tr>\n",
       "                        <th id=\"T_24c56d1c_17c3_11ec_80d9_02cba411ec9dlevel0_row7\" class=\"row_heading level0 row7\" >7</th>\n",
       "                        <td id=\"T_24c56d1c_17c3_11ec_80d9_02cba411ec9drow7_col0\" class=\"data row7 col0\" >CAMARACLF</td>\n",
       "                        <td id=\"T_24c56d1c_17c3_11ec_80d9_02cba411ec9drow7_col1\" class=\"data row7 col1\" >2020-03-05 00:00:00</td>\n",
       "                        <td id=\"T_24c56d1c_17c3_11ec_80d9_02cba411ec9drow7_col2\" class=\"data row7 col2\" >188</td>\n",
       "                        <td id=\"T_24c56d1c_17c3_11ec_80d9_02cba411ec9drow7_col3\" class=\"data row7 col3\" >-1.9347%</td>\n",
       "            </tr>\n",
       "            <tr>\n",
       "                        <th id=\"T_24c56d1c_17c3_11ec_80d9_02cba411ec9dlevel0_row8\" class=\"row_heading level0 row8\" >8</th>\n",
       "                        <td id=\"T_24c56d1c_17c3_11ec_80d9_02cba411ec9drow8_col0\" class=\"data row8 col0\" >CAMARACLF</td>\n",
       "                        <td id=\"T_24c56d1c_17c3_11ec_80d9_02cba411ec9drow8_col1\" class=\"data row8 col1\" >2020-03-05 00:00:00</td>\n",
       "                        <td id=\"T_24c56d1c_17c3_11ec_80d9_02cba411ec9drow8_col2\" class=\"data row8 col2\" >218</td>\n",
       "                        <td id=\"T_24c56d1c_17c3_11ec_80d9_02cba411ec9drow8_col3\" class=\"data row8 col3\" >-1.7626%</td>\n",
       "            </tr>\n",
       "            <tr>\n",
       "                        <th id=\"T_24c56d1c_17c3_11ec_80d9_02cba411ec9dlevel0_row9\" class=\"row_heading level0 row9\" >9</th>\n",
       "                        <td id=\"T_24c56d1c_17c3_11ec_80d9_02cba411ec9drow9_col0\" class=\"data row9 col0\" >CAMARACLF</td>\n",
       "                        <td id=\"T_24c56d1c_17c3_11ec_80d9_02cba411ec9drow9_col1\" class=\"data row9 col1\" >2020-03-05 00:00:00</td>\n",
       "                        <td id=\"T_24c56d1c_17c3_11ec_80d9_02cba411ec9drow9_col2\" class=\"data row9 col2\" >249</td>\n",
       "                        <td id=\"T_24c56d1c_17c3_11ec_80d9_02cba411ec9drow9_col3\" class=\"data row9 col3\" >-1.7987%</td>\n",
       "            </tr>\n",
       "            <tr>\n",
       "                        <th id=\"T_24c56d1c_17c3_11ec_80d9_02cba411ec9dlevel0_row10\" class=\"row_heading level0 row10\" >10</th>\n",
       "                        <td id=\"T_24c56d1c_17c3_11ec_80d9_02cba411ec9drow10_col0\" class=\"data row10 col0\" >CAMARACLF</td>\n",
       "                        <td id=\"T_24c56d1c_17c3_11ec_80d9_02cba411ec9drow10_col1\" class=\"data row10 col1\" >2020-03-05 00:00:00</td>\n",
       "                        <td id=\"T_24c56d1c_17c3_11ec_80d9_02cba411ec9drow10_col2\" class=\"data row10 col2\" >279</td>\n",
       "                        <td id=\"T_24c56d1c_17c3_11ec_80d9_02cba411ec9drow10_col3\" class=\"data row10 col3\" >-1.9335%</td>\n",
       "            </tr>\n",
       "            <tr>\n",
       "                        <th id=\"T_24c56d1c_17c3_11ec_80d9_02cba411ec9dlevel0_row11\" class=\"row_heading level0 row11\" >11</th>\n",
       "                        <td id=\"T_24c56d1c_17c3_11ec_80d9_02cba411ec9drow11_col0\" class=\"data row11 col0\" >CAMARACLF</td>\n",
       "                        <td id=\"T_24c56d1c_17c3_11ec_80d9_02cba411ec9drow11_col1\" class=\"data row11 col1\" >2020-03-05 00:00:00</td>\n",
       "                        <td id=\"T_24c56d1c_17c3_11ec_80d9_02cba411ec9drow11_col2\" class=\"data row11 col2\" >309</td>\n",
       "                        <td id=\"T_24c56d1c_17c3_11ec_80d9_02cba411ec9drow11_col3\" class=\"data row11 col3\" >-1.8159%</td>\n",
       "            </tr>\n",
       "            <tr>\n",
       "                        <th id=\"T_24c56d1c_17c3_11ec_80d9_02cba411ec9dlevel0_row12\" class=\"row_heading level0 row12\" >12</th>\n",
       "                        <td id=\"T_24c56d1c_17c3_11ec_80d9_02cba411ec9drow12_col0\" class=\"data row12 col0\" >CAMARACLF</td>\n",
       "                        <td id=\"T_24c56d1c_17c3_11ec_80d9_02cba411ec9drow12_col1\" class=\"data row12 col1\" >2020-03-05 00:00:00</td>\n",
       "                        <td id=\"T_24c56d1c_17c3_11ec_80d9_02cba411ec9drow12_col2\" class=\"data row12 col2\" >341</td>\n",
       "                        <td id=\"T_24c56d1c_17c3_11ec_80d9_02cba411ec9drow12_col3\" class=\"data row12 col3\" >-1.5940%</td>\n",
       "            </tr>\n",
       "            <tr>\n",
       "                        <th id=\"T_24c56d1c_17c3_11ec_80d9_02cba411ec9dlevel0_row13\" class=\"row_heading level0 row13\" >13</th>\n",
       "                        <td id=\"T_24c56d1c_17c3_11ec_80d9_02cba411ec9drow13_col0\" class=\"data row13 col0\" >CAMARACLF</td>\n",
       "                        <td id=\"T_24c56d1c_17c3_11ec_80d9_02cba411ec9drow13_col1\" class=\"data row13 col1\" >2020-03-05 00:00:00</td>\n",
       "                        <td id=\"T_24c56d1c_17c3_11ec_80d9_02cba411ec9drow13_col2\" class=\"data row13 col2\" >369</td>\n",
       "                        <td id=\"T_24c56d1c_17c3_11ec_80d9_02cba411ec9drow13_col3\" class=\"data row13 col3\" >-1.5994%</td>\n",
       "            </tr>\n",
       "            <tr>\n",
       "                        <th id=\"T_24c56d1c_17c3_11ec_80d9_02cba411ec9dlevel0_row14\" class=\"row_heading level0 row14\" >14</th>\n",
       "                        <td id=\"T_24c56d1c_17c3_11ec_80d9_02cba411ec9drow14_col0\" class=\"data row14 col0\" >CAMARACLF</td>\n",
       "                        <td id=\"T_24c56d1c_17c3_11ec_80d9_02cba411ec9drow14_col1\" class=\"data row14 col1\" >2020-03-05 00:00:00</td>\n",
       "                        <td id=\"T_24c56d1c_17c3_11ec_80d9_02cba411ec9drow14_col2\" class=\"data row14 col2\" >400</td>\n",
       "                        <td id=\"T_24c56d1c_17c3_11ec_80d9_02cba411ec9drow14_col3\" class=\"data row14 col3\" >-1.5068%</td>\n",
       "            </tr>\n",
       "            <tr>\n",
       "                        <th id=\"T_24c56d1c_17c3_11ec_80d9_02cba411ec9dlevel0_row15\" class=\"row_heading level0 row15\" >15</th>\n",
       "                        <td id=\"T_24c56d1c_17c3_11ec_80d9_02cba411ec9drow15_col0\" class=\"data row15 col0\" >CAMARACLF</td>\n",
       "                        <td id=\"T_24c56d1c_17c3_11ec_80d9_02cba411ec9drow15_col1\" class=\"data row15 col1\" >2020-03-05 00:00:00</td>\n",
       "                        <td id=\"T_24c56d1c_17c3_11ec_80d9_02cba411ec9drow15_col2\" class=\"data row15 col2\" >428</td>\n",
       "                        <td id=\"T_24c56d1c_17c3_11ec_80d9_02cba411ec9drow15_col3\" class=\"data row15 col3\" >-1.6115%</td>\n",
       "            </tr>\n",
       "            <tr>\n",
       "                        <th id=\"T_24c56d1c_17c3_11ec_80d9_02cba411ec9dlevel0_row16\" class=\"row_heading level0 row16\" >16</th>\n",
       "                        <td id=\"T_24c56d1c_17c3_11ec_80d9_02cba411ec9drow16_col0\" class=\"data row16 col0\" >CAMARACLF</td>\n",
       "                        <td id=\"T_24c56d1c_17c3_11ec_80d9_02cba411ec9drow16_col1\" class=\"data row16 col1\" >2020-03-05 00:00:00</td>\n",
       "                        <td id=\"T_24c56d1c_17c3_11ec_80d9_02cba411ec9drow16_col2\" class=\"data row16 col2\" >461</td>\n",
       "                        <td id=\"T_24c56d1c_17c3_11ec_80d9_02cba411ec9drow16_col3\" class=\"data row16 col3\" >-1.5923%</td>\n",
       "            </tr>\n",
       "            <tr>\n",
       "                        <th id=\"T_24c56d1c_17c3_11ec_80d9_02cba411ec9dlevel0_row17\" class=\"row_heading level0 row17\" >17</th>\n",
       "                        <td id=\"T_24c56d1c_17c3_11ec_80d9_02cba411ec9drow17_col0\" class=\"data row17 col0\" >CAMARACLF</td>\n",
       "                        <td id=\"T_24c56d1c_17c3_11ec_80d9_02cba411ec9drow17_col1\" class=\"data row17 col1\" >2020-03-05 00:00:00</td>\n",
       "                        <td id=\"T_24c56d1c_17c3_11ec_80d9_02cba411ec9drow17_col2\" class=\"data row17 col2\" >491</td>\n",
       "                        <td id=\"T_24c56d1c_17c3_11ec_80d9_02cba411ec9drow17_col3\" class=\"data row17 col3\" >-1.5780%</td>\n",
       "            </tr>\n",
       "            <tr>\n",
       "                        <th id=\"T_24c56d1c_17c3_11ec_80d9_02cba411ec9dlevel0_row18\" class=\"row_heading level0 row18\" >18</th>\n",
       "                        <td id=\"T_24c56d1c_17c3_11ec_80d9_02cba411ec9drow18_col0\" class=\"data row18 col0\" >CAMARACLF</td>\n",
       "                        <td id=\"T_24c56d1c_17c3_11ec_80d9_02cba411ec9drow18_col1\" class=\"data row18 col1\" >2020-03-05 00:00:00</td>\n",
       "                        <td id=\"T_24c56d1c_17c3_11ec_80d9_02cba411ec9drow18_col2\" class=\"data row18 col2\" >522</td>\n",
       "                        <td id=\"T_24c56d1c_17c3_11ec_80d9_02cba411ec9drow18_col3\" class=\"data row18 col3\" >-1.5186%</td>\n",
       "            </tr>\n",
       "            <tr>\n",
       "                        <th id=\"T_24c56d1c_17c3_11ec_80d9_02cba411ec9dlevel0_row19\" class=\"row_heading level0 row19\" >19</th>\n",
       "                        <td id=\"T_24c56d1c_17c3_11ec_80d9_02cba411ec9drow19_col0\" class=\"data row19 col0\" >CAMARACLF</td>\n",
       "                        <td id=\"T_24c56d1c_17c3_11ec_80d9_02cba411ec9drow19_col1\" class=\"data row19 col1\" >2020-03-05 00:00:00</td>\n",
       "                        <td id=\"T_24c56d1c_17c3_11ec_80d9_02cba411ec9drow19_col2\" class=\"data row19 col2\" >553</td>\n",
       "                        <td id=\"T_24c56d1c_17c3_11ec_80d9_02cba411ec9drow19_col3\" class=\"data row19 col3\" >-1.5533%</td>\n",
       "            </tr>\n",
       "            <tr>\n",
       "                        <th id=\"T_24c56d1c_17c3_11ec_80d9_02cba411ec9dlevel0_row20\" class=\"row_heading level0 row20\" >20</th>\n",
       "                        <td id=\"T_24c56d1c_17c3_11ec_80d9_02cba411ec9drow20_col0\" class=\"data row20 col0\" >CAMARACLF</td>\n",
       "                        <td id=\"T_24c56d1c_17c3_11ec_80d9_02cba411ec9drow20_col1\" class=\"data row20 col1\" >2020-03-05 00:00:00</td>\n",
       "                        <td id=\"T_24c56d1c_17c3_11ec_80d9_02cba411ec9drow20_col2\" class=\"data row20 col2\" >582</td>\n",
       "                        <td id=\"T_24c56d1c_17c3_11ec_80d9_02cba411ec9drow20_col3\" class=\"data row20 col3\" >-1.5649%</td>\n",
       "            </tr>\n",
       "            <tr>\n",
       "                        <th id=\"T_24c56d1c_17c3_11ec_80d9_02cba411ec9dlevel0_row21\" class=\"row_heading level0 row21\" >21</th>\n",
       "                        <td id=\"T_24c56d1c_17c3_11ec_80d9_02cba411ec9drow21_col0\" class=\"data row21 col0\" >CAMARACLF</td>\n",
       "                        <td id=\"T_24c56d1c_17c3_11ec_80d9_02cba411ec9drow21_col1\" class=\"data row21 col1\" >2020-03-05 00:00:00</td>\n",
       "                        <td id=\"T_24c56d1c_17c3_11ec_80d9_02cba411ec9drow21_col2\" class=\"data row21 col2\" >734</td>\n",
       "                        <td id=\"T_24c56d1c_17c3_11ec_80d9_02cba411ec9drow21_col3\" class=\"data row21 col3\" >-1.6594%</td>\n",
       "            </tr>\n",
       "            <tr>\n",
       "                        <th id=\"T_24c56d1c_17c3_11ec_80d9_02cba411ec9dlevel0_row22\" class=\"row_heading level0 row22\" >22</th>\n",
       "                        <td id=\"T_24c56d1c_17c3_11ec_80d9_02cba411ec9drow22_col0\" class=\"data row22 col0\" >CAMARACLF</td>\n",
       "                        <td id=\"T_24c56d1c_17c3_11ec_80d9_02cba411ec9drow22_col1\" class=\"data row22 col1\" >2020-03-05 00:00:00</td>\n",
       "                        <td id=\"T_24c56d1c_17c3_11ec_80d9_02cba411ec9drow22_col2\" class=\"data row22 col2\" >1099</td>\n",
       "                        <td id=\"T_24c56d1c_17c3_11ec_80d9_02cba411ec9drow22_col3\" class=\"data row22 col3\" >-1.4881%</td>\n",
       "            </tr>\n",
       "            <tr>\n",
       "                        <th id=\"T_24c56d1c_17c3_11ec_80d9_02cba411ec9dlevel0_row23\" class=\"row_heading level0 row23\" >23</th>\n",
       "                        <td id=\"T_24c56d1c_17c3_11ec_80d9_02cba411ec9drow23_col0\" class=\"data row23 col0\" >CAMARACLF</td>\n",
       "                        <td id=\"T_24c56d1c_17c3_11ec_80d9_02cba411ec9drow23_col1\" class=\"data row23 col1\" >2020-03-05 00:00:00</td>\n",
       "                        <td id=\"T_24c56d1c_17c3_11ec_80d9_02cba411ec9drow23_col2\" class=\"data row23 col2\" >1465</td>\n",
       "                        <td id=\"T_24c56d1c_17c3_11ec_80d9_02cba411ec9drow23_col3\" class=\"data row23 col3\" >-1.2740%</td>\n",
       "            </tr>\n",
       "            <tr>\n",
       "                        <th id=\"T_24c56d1c_17c3_11ec_80d9_02cba411ec9dlevel0_row24\" class=\"row_heading level0 row24\" >24</th>\n",
       "                        <td id=\"T_24c56d1c_17c3_11ec_80d9_02cba411ec9drow24_col0\" class=\"data row24 col0\" >CAMARACLF</td>\n",
       "                        <td id=\"T_24c56d1c_17c3_11ec_80d9_02cba411ec9drow24_col1\" class=\"data row24 col1\" >2020-03-05 00:00:00</td>\n",
       "                        <td id=\"T_24c56d1c_17c3_11ec_80d9_02cba411ec9drow24_col2\" class=\"data row24 col2\" >1830</td>\n",
       "                        <td id=\"T_24c56d1c_17c3_11ec_80d9_02cba411ec9drow24_col3\" class=\"data row24 col3\" >-1.0201%</td>\n",
       "            </tr>\n",
       "            <tr>\n",
       "                        <th id=\"T_24c56d1c_17c3_11ec_80d9_02cba411ec9dlevel0_row25\" class=\"row_heading level0 row25\" >25</th>\n",
       "                        <td id=\"T_24c56d1c_17c3_11ec_80d9_02cba411ec9drow25_col0\" class=\"data row25 col0\" >CAMARACLF</td>\n",
       "                        <td id=\"T_24c56d1c_17c3_11ec_80d9_02cba411ec9drow25_col1\" class=\"data row25 col1\" >2020-03-05 00:00:00</td>\n",
       "                        <td id=\"T_24c56d1c_17c3_11ec_80d9_02cba411ec9drow25_col2\" class=\"data row25 col2\" >2195</td>\n",
       "                        <td id=\"T_24c56d1c_17c3_11ec_80d9_02cba411ec9drow25_col3\" class=\"data row25 col3\" >-0.8009%</td>\n",
       "            </tr>\n",
       "            <tr>\n",
       "                        <th id=\"T_24c56d1c_17c3_11ec_80d9_02cba411ec9dlevel0_row26\" class=\"row_heading level0 row26\" >26</th>\n",
       "                        <td id=\"T_24c56d1c_17c3_11ec_80d9_02cba411ec9drow26_col0\" class=\"data row26 col0\" >CAMARACLF</td>\n",
       "                        <td id=\"T_24c56d1c_17c3_11ec_80d9_02cba411ec9drow26_col1\" class=\"data row26 col1\" >2020-03-05 00:00:00</td>\n",
       "                        <td id=\"T_24c56d1c_17c3_11ec_80d9_02cba411ec9drow26_col2\" class=\"data row26 col2\" >2560</td>\n",
       "                        <td id=\"T_24c56d1c_17c3_11ec_80d9_02cba411ec9drow26_col3\" class=\"data row26 col3\" >-0.5868%</td>\n",
       "            </tr>\n",
       "            <tr>\n",
       "                        <th id=\"T_24c56d1c_17c3_11ec_80d9_02cba411ec9dlevel0_row27\" class=\"row_heading level0 row27\" >27</th>\n",
       "                        <td id=\"T_24c56d1c_17c3_11ec_80d9_02cba411ec9drow27_col0\" class=\"data row27 col0\" >CAMARACLF</td>\n",
       "                        <td id=\"T_24c56d1c_17c3_11ec_80d9_02cba411ec9drow27_col1\" class=\"data row27 col1\" >2020-03-05 00:00:00</td>\n",
       "                        <td id=\"T_24c56d1c_17c3_11ec_80d9_02cba411ec9drow27_col2\" class=\"data row27 col2\" >2926</td>\n",
       "                        <td id=\"T_24c56d1c_17c3_11ec_80d9_02cba411ec9drow27_col3\" class=\"data row27 col3\" >-0.4145%</td>\n",
       "            </tr>\n",
       "            <tr>\n",
       "                        <th id=\"T_24c56d1c_17c3_11ec_80d9_02cba411ec9dlevel0_row28\" class=\"row_heading level0 row28\" >28</th>\n",
       "                        <td id=\"T_24c56d1c_17c3_11ec_80d9_02cba411ec9drow28_col0\" class=\"data row28 col0\" >CAMARACLF</td>\n",
       "                        <td id=\"T_24c56d1c_17c3_11ec_80d9_02cba411ec9drow28_col1\" class=\"data row28 col1\" >2020-03-05 00:00:00</td>\n",
       "                        <td id=\"T_24c56d1c_17c3_11ec_80d9_02cba411ec9drow28_col2\" class=\"data row28 col2\" >3291</td>\n",
       "                        <td id=\"T_24c56d1c_17c3_11ec_80d9_02cba411ec9drow28_col3\" class=\"data row28 col3\" >-0.3047%</td>\n",
       "            </tr>\n",
       "            <tr>\n",
       "                        <th id=\"T_24c56d1c_17c3_11ec_80d9_02cba411ec9dlevel0_row29\" class=\"row_heading level0 row29\" >29</th>\n",
       "                        <td id=\"T_24c56d1c_17c3_11ec_80d9_02cba411ec9drow29_col0\" class=\"data row29 col0\" >CAMARACLF</td>\n",
       "                        <td id=\"T_24c56d1c_17c3_11ec_80d9_02cba411ec9drow29_col1\" class=\"data row29 col1\" >2020-03-05 00:00:00</td>\n",
       "                        <td id=\"T_24c56d1c_17c3_11ec_80d9_02cba411ec9drow29_col2\" class=\"data row29 col2\" >3656</td>\n",
       "                        <td id=\"T_24c56d1c_17c3_11ec_80d9_02cba411ec9drow29_col3\" class=\"data row29 col3\" >-0.2242%</td>\n",
       "            </tr>\n",
       "            <tr>\n",
       "                        <th id=\"T_24c56d1c_17c3_11ec_80d9_02cba411ec9dlevel0_row30\" class=\"row_heading level0 row30\" >30</th>\n",
       "                        <td id=\"T_24c56d1c_17c3_11ec_80d9_02cba411ec9drow30_col0\" class=\"data row30 col0\" >CAMARACLF</td>\n",
       "                        <td id=\"T_24c56d1c_17c3_11ec_80d9_02cba411ec9drow30_col1\" class=\"data row30 col1\" >2020-03-05 00:00:00</td>\n",
       "                        <td id=\"T_24c56d1c_17c3_11ec_80d9_02cba411ec9drow30_col2\" class=\"data row30 col2\" >4387</td>\n",
       "                        <td id=\"T_24c56d1c_17c3_11ec_80d9_02cba411ec9drow30_col3\" class=\"data row30 col3\" >-0.1871%</td>\n",
       "            </tr>\n",
       "            <tr>\n",
       "                        <th id=\"T_24c56d1c_17c3_11ec_80d9_02cba411ec9dlevel0_row31\" class=\"row_heading level0 row31\" >31</th>\n",
       "                        <td id=\"T_24c56d1c_17c3_11ec_80d9_02cba411ec9drow31_col0\" class=\"data row31 col0\" >CAMARACLF</td>\n",
       "                        <td id=\"T_24c56d1c_17c3_11ec_80d9_02cba411ec9drow31_col1\" class=\"data row31 col1\" >2020-03-05 00:00:00</td>\n",
       "                        <td id=\"T_24c56d1c_17c3_11ec_80d9_02cba411ec9drow31_col2\" class=\"data row31 col2\" >5482</td>\n",
       "                        <td id=\"T_24c56d1c_17c3_11ec_80d9_02cba411ec9drow31_col3\" class=\"data row31 col3\" >-0.1056%</td>\n",
       "            </tr>\n",
       "            <tr>\n",
       "                        <th id=\"T_24c56d1c_17c3_11ec_80d9_02cba411ec9dlevel0_row32\" class=\"row_heading level0 row32\" >32</th>\n",
       "                        <td id=\"T_24c56d1c_17c3_11ec_80d9_02cba411ec9drow32_col0\" class=\"data row32 col0\" >CAMARACLF</td>\n",
       "                        <td id=\"T_24c56d1c_17c3_11ec_80d9_02cba411ec9drow32_col1\" class=\"data row32 col1\" >2020-03-05 00:00:00</td>\n",
       "                        <td id=\"T_24c56d1c_17c3_11ec_80d9_02cba411ec9drow32_col2\" class=\"data row32 col2\" >7309</td>\n",
       "                        <td id=\"T_24c56d1c_17c3_11ec_80d9_02cba411ec9drow32_col3\" class=\"data row32 col3\" >-0.0639%</td>\n",
       "            </tr>\n",
       "    </tbody></table>"
      ],
      "text/plain": [
       "<pandas.io.formats.style.Styler at 0x7f4ccc851710>"
      ]
     },
     "execution_count": 45,
     "metadata": {},
     "output_type": "execute_result"
    }
   ],
   "source": [
    "curva_camara_clf = pd.read_excel(\"data/20200305_camaraclf.xlsx\")\n",
    "curva_camara_clf.style.format({\"tasa\": \"{0:,.4%}\"})"
   ]
  },
  {
   "cell_type": "code",
   "execution_count": 46,
   "metadata": {
    "ExecuteTime": {
     "end_time": "2021-09-17T14:25:48.553585Z",
     "start_time": "2021-09-17T14:25:48.534487Z"
    }
   },
   "outputs": [],
   "source": [
    "lvec3 = Qcf.long_vec()\n",
    "vec3 = Qcf.double_vec()\n",
    "for index, row in curva_camara_clf.iterrows():\n",
    "    lvec3.append(int(row['plazo']))\n",
    "    vec3.append(row['tasa'])\n",
    "\n",
    "zcc3 = Qcf.QCCurve(lvec3, vec3)\n",
    "lin3 = Qcf.QCLinearInterpolator(zcc3)\n",
    "zz3 = Qcf.ZeroCouponCurve(lin3, tasa)"
   ]
  },
  {
   "cell_type": "markdown",
   "metadata": {},
   "source": [
    "#### Curvas para Sensibilidad"
   ]
  },
  {
   "cell_type": "markdown",
   "metadata": {},
   "source": [
    "Se define que vértice de la curva se quiere desplazar."
   ]
  },
  {
   "cell_type": "code",
   "execution_count": 47,
   "metadata": {
    "ExecuteTime": {
     "end_time": "2021-09-17T14:25:57.662105Z",
     "start_time": "2021-09-17T14:25:57.658408Z"
    }
   },
   "outputs": [],
   "source": [
    "vertice = 13"
   ]
  },
  {
   "cell_type": "markdown",
   "metadata": {},
   "source": [
    "Se construyen las curvas con ese vértice 1 punto básico más arriba y 1 punto básico más abajo."
   ]
  },
  {
   "cell_type": "code",
   "execution_count": 48,
   "metadata": {
    "ExecuteTime": {
     "end_time": "2021-09-17T14:26:03.235913Z",
     "start_time": "2021-09-17T14:26:03.217484Z"
    }
   },
   "outputs": [],
   "source": [
    "bp = .0001\n",
    "vec_sens_up = Qcf.double_vec()\n",
    "vec_sens_down = Qcf.double_vec()\n",
    "for index, row in curva.iterrows():\n",
    "    if index == vertice:\n",
    "        vec_sens_up.append(row['tasa'] + bp)\n",
    "        vec_sens_down.append(row['tasa'] - bp)\n",
    "    else:\n",
    "        vec_sens_up.append(row['tasa'])\n",
    "        vec_sens_down.append(row['tasa'])\n",
    "\n",
    "zcc_sens_up = Qcf.QCCurve(lvec1, vec_sens_up)\n",
    "lin_sens_up = Qcf.QCLinearInterpolator(zcc_sens_up)\n",
    "zz_sens_up = Qcf.ZeroCouponCurve(lin_sens_up, tasa)\n",
    "\n",
    "zcc_sens_down = Qcf.QCCurve(lvec1, vec_sens_down)\n",
    "lin_sens_down = Qcf.QCLinearInterpolator(zcc_sens_down)\n",
    "zz_sens_down = Qcf.ZeroCouponCurve(lin_sens_down, tasa)"
   ]
  },
  {
   "cell_type": "code",
   "execution_count": 49,
   "metadata": {
    "ExecuteTime": {
     "end_time": "2021-09-17T14:26:04.515188Z",
     "start_time": "2021-09-17T14:26:04.496364Z"
    }
   },
   "outputs": [],
   "source": [
    "vec2_sens_up = Qcf.double_vec()\n",
    "vec2_sens_down = Qcf.double_vec()\n",
    "for index, row in curva_libor.iterrows():\n",
    "    if index == vertice:\n",
    "        vec2_sens_up.append(row['tasa'] + bp)\n",
    "        vec2_sens_down.append(row['tasa'] - bp)\n",
    "    else:\n",
    "        vec2_sens_up.append(row['tasa'])\n",
    "        vec2_sens_down.append(row['tasa'])\n",
    "\n",
    "zcc2_sens_up = Qcf.QCCurve(lvec2, vec2_sens_up)\n",
    "lin2_sens_up = Qcf.QCLinearInterpolator(zcc2_sens_up)\n",
    "zz2_sens_up = Qcf.ZeroCouponCurve(lin2_sens_up, tasa)\n",
    "\n",
    "zcc2_sens_down = Qcf.QCCurve(lvec2, vec2_sens_down)\n",
    "lin2_sens_down = Qcf.QCLinearInterpolator(zcc2_sens_down)\n",
    "zz2_sens_down = Qcf.ZeroCouponCurve(lin2_sens_down, tasa)"
   ]
  },
  {
   "cell_type": "code",
   "execution_count": 50,
   "metadata": {
    "ExecuteTime": {
     "end_time": "2021-09-17T14:26:06.177709Z",
     "start_time": "2021-09-17T14:26:06.161143Z"
    }
   },
   "outputs": [],
   "source": [
    "vec3_sens_up = Qcf.double_vec()\n",
    "vec3_sens_down = Qcf.double_vec()\n",
    "for index, row in curva_camara_clf.iterrows():\n",
    "    if index == vertice:\n",
    "        vec3_sens_up.append(row['tasa'] + bp)\n",
    "        vec3_sens_down.append(row['tasa'] - bp)\n",
    "    else:\n",
    "        vec3_sens_up.append(row['tasa'])\n",
    "        vec3_sens_down.append(row['tasa'])\n",
    "\n",
    "zcc3_sens_up = Qcf.QCCurve(lvec3, vec3_sens_up)\n",
    "lin3_sens_up = Qcf.QCLinearInterpolator(zcc3_sens_up)\n",
    "zz3_sens_up = Qcf.ZeroCouponCurve(lin3_sens_up, tasa)\n",
    "\n",
    "zcc3_sens_down = Qcf.QCCurve(lvec3, vec3_sens_down)\n",
    "lin3_sens_down = Qcf.QCLinearInterpolator(zcc3_sens_down)\n",
    "zz3_sens_down = Qcf.ZeroCouponCurve(lin3_sens_down, tasa)"
   ]
  },
  {
   "cell_type": "markdown",
   "metadata": {},
   "source": [
    "### FixedRateCashflow Leg"
   ]
  },
  {
   "cell_type": "markdown",
   "metadata": {},
   "source": [
    "Se da de alta una pata fija:"
   ]
  },
  {
   "cell_type": "code",
   "execution_count": 51,
   "metadata": {
    "ExecuteTime": {
     "end_time": "2021-09-17T14:26:23.704900Z",
     "start_time": "2021-09-17T14:26:23.688721Z"
    }
   },
   "outputs": [],
   "source": [
    "# Se da de alta los parámetros requeridos\n",
    "rp = Qcf.RecPay.RECEIVE\n",
    "fecha_inicio = Qcf.QCDate(12, 11, 2019)\n",
    "fecha_final = Qcf.QCDate(12, 11, 2020)\n",
    "bus_adj_rule = Qcf.BusyAdjRules.MODFOLLOW\n",
    "periodicidad = Qcf.Tenor('6M')\n",
    "periodo_irregular = Qcf.StubPeriod.SHORTFRONT\n",
    "calendario = Qcf.BusinessCalendar(fecha_inicio, 20)\n",
    "lag_pago = 0\n",
    "nominal = 20000000.0\n",
    "amort_es_flujo = True\n",
    "valor_tasa_fija = .01774\n",
    "tasa_cupon = Qcf.QCInterestRate(\n",
    "    valor_tasa_fija, Qcf.QC30360(), Qcf.QCLinearWf())\n",
    "moneda = Qcf.QCUSD()\n",
    "es_bono = False\n",
    "\n",
    "# Se da de alta el objeto\n",
    "fixed_rate_leg = Qcf.LegFactory.build_bullet_fixed_rate_leg(\n",
    "    rp,\n",
    "    fecha_inicio,\n",
    "    fecha_final,\n",
    "    bus_adj_rule,\n",
    "    periodicidad,\n",
    "    periodo_irregular,\n",
    "    calendario,\n",
    "    lag_pago,\n",
    "    nominal,\n",
    "    amort_es_flujo,\n",
    "    tasa_cupon,\n",
    "    moneda,\n",
    "    es_bono\n",
    ")"
   ]
  },
  {
   "cell_type": "code",
   "execution_count": 52,
   "metadata": {
    "ExecuteTime": {
     "end_time": "2021-09-17T14:26:26.162694Z",
     "start_time": "2021-09-17T14:26:26.147249Z"
    }
   },
   "outputs": [
    {
     "data": {
      "text/html": [
       "<style  type=\"text/css\" >\n",
       "</style><table id=\"T_3d9f9088_17c3_11ec_80d9_02cba411ec9d\" ><thead>    <tr>        <th class=\"blank level0\" ></th>        <th class=\"col_heading level0 col0\" >fecha_inicial</th>        <th class=\"col_heading level0 col1\" >fecha_final</th>        <th class=\"col_heading level0 col2\" >fecha_pago</th>        <th class=\"col_heading level0 col3\" >nominal</th>        <th class=\"col_heading level0 col4\" >amortizacion</th>        <th class=\"col_heading level0 col5\" >interes</th>        <th class=\"col_heading level0 col6\" >amort_es_flujo</th>        <th class=\"col_heading level0 col7\" >flujo</th>        <th class=\"col_heading level0 col8\" >moneda</th>        <th class=\"col_heading level0 col9\" >valor_tasa</th>        <th class=\"col_heading level0 col10\" >tipo_tasa</th>    </tr></thead><tbody>\n",
       "                <tr>\n",
       "                        <th id=\"T_3d9f9088_17c3_11ec_80d9_02cba411ec9dlevel0_row0\" class=\"row_heading level0 row0\" >0</th>\n",
       "                        <td id=\"T_3d9f9088_17c3_11ec_80d9_02cba411ec9drow0_col0\" class=\"data row0 col0\" >2019-11-12</td>\n",
       "                        <td id=\"T_3d9f9088_17c3_11ec_80d9_02cba411ec9drow0_col1\" class=\"data row0 col1\" >2020-05-12</td>\n",
       "                        <td id=\"T_3d9f9088_17c3_11ec_80d9_02cba411ec9drow0_col2\" class=\"data row0 col2\" >2020-05-12</td>\n",
       "                        <td id=\"T_3d9f9088_17c3_11ec_80d9_02cba411ec9drow0_col3\" class=\"data row0 col3\" >20,000,000.00</td>\n",
       "                        <td id=\"T_3d9f9088_17c3_11ec_80d9_02cba411ec9drow0_col4\" class=\"data row0 col4\" >0.00</td>\n",
       "                        <td id=\"T_3d9f9088_17c3_11ec_80d9_02cba411ec9drow0_col5\" class=\"data row0 col5\" >177,400.00</td>\n",
       "                        <td id=\"T_3d9f9088_17c3_11ec_80d9_02cba411ec9drow0_col6\" class=\"data row0 col6\" >True</td>\n",
       "                        <td id=\"T_3d9f9088_17c3_11ec_80d9_02cba411ec9drow0_col7\" class=\"data row0 col7\" >177,400.00</td>\n",
       "                        <td id=\"T_3d9f9088_17c3_11ec_80d9_02cba411ec9drow0_col8\" class=\"data row0 col8\" >USD</td>\n",
       "                        <td id=\"T_3d9f9088_17c3_11ec_80d9_02cba411ec9drow0_col9\" class=\"data row0 col9\" >1.7740%</td>\n",
       "                        <td id=\"T_3d9f9088_17c3_11ec_80d9_02cba411ec9drow0_col10\" class=\"data row0 col10\" >Lin30360</td>\n",
       "            </tr>\n",
       "            <tr>\n",
       "                        <th id=\"T_3d9f9088_17c3_11ec_80d9_02cba411ec9dlevel0_row1\" class=\"row_heading level0 row1\" >1</th>\n",
       "                        <td id=\"T_3d9f9088_17c3_11ec_80d9_02cba411ec9drow1_col0\" class=\"data row1 col0\" >2020-05-12</td>\n",
       "                        <td id=\"T_3d9f9088_17c3_11ec_80d9_02cba411ec9drow1_col1\" class=\"data row1 col1\" >2020-11-12</td>\n",
       "                        <td id=\"T_3d9f9088_17c3_11ec_80d9_02cba411ec9drow1_col2\" class=\"data row1 col2\" >2020-11-12</td>\n",
       "                        <td id=\"T_3d9f9088_17c3_11ec_80d9_02cba411ec9drow1_col3\" class=\"data row1 col3\" >20,000,000.00</td>\n",
       "                        <td id=\"T_3d9f9088_17c3_11ec_80d9_02cba411ec9drow1_col4\" class=\"data row1 col4\" >20,000,000.00</td>\n",
       "                        <td id=\"T_3d9f9088_17c3_11ec_80d9_02cba411ec9drow1_col5\" class=\"data row1 col5\" >177,400.00</td>\n",
       "                        <td id=\"T_3d9f9088_17c3_11ec_80d9_02cba411ec9drow1_col6\" class=\"data row1 col6\" >True</td>\n",
       "                        <td id=\"T_3d9f9088_17c3_11ec_80d9_02cba411ec9drow1_col7\" class=\"data row1 col7\" >20,177,400.00</td>\n",
       "                        <td id=\"T_3d9f9088_17c3_11ec_80d9_02cba411ec9drow1_col8\" class=\"data row1 col8\" >USD</td>\n",
       "                        <td id=\"T_3d9f9088_17c3_11ec_80d9_02cba411ec9drow1_col9\" class=\"data row1 col9\" >1.7740%</td>\n",
       "                        <td id=\"T_3d9f9088_17c3_11ec_80d9_02cba411ec9drow1_col10\" class=\"data row1 col10\" >Lin30360</td>\n",
       "            </tr>\n",
       "    </tbody></table>"
      ],
      "text/plain": [
       "<pandas.io.formats.style.Styler at 0x7f4ccd01e710>"
      ]
     },
     "execution_count": 52,
     "metadata": {},
     "output_type": "execute_result"
    }
   ],
   "source": [
    "# Se define un list donde almacenar los resultados de la función show\n",
    "tabla = []\n",
    "for i in range(0, fixed_rate_leg.size()):\n",
    "    tabla.append(Qcf.show(fixed_rate_leg.get_cashflow_at(i)))\n",
    "\n",
    "# Se utiliza tabla para inicializar el Dataframe\n",
    "columnas = list(Qcf.get_column_names(\"FixedRateCashflow\", \"\"))\n",
    "df = pd.DataFrame(tabla, columns=columnas)\n",
    "\n",
    "# Se despliega la data en este formato\n",
    "df.style.format(format_dict)"
   ]
  },
  {
   "cell_type": "markdown",
   "metadata": {},
   "source": [
    "Se calcula ahora el valor presente:"
   ]
  },
  {
   "cell_type": "code",
   "execution_count": 53,
   "metadata": {
    "ExecuteTime": {
     "end_time": "2021-09-17T14:26:27.869694Z",
     "start_time": "2021-09-17T14:26:27.864653Z"
    }
   },
   "outputs": [
    {
     "name": "stdout",
     "output_type": "stream",
     "text": [
      "Valor presente de la pata fija es: 20,072,981\n"
     ]
    }
   ],
   "source": [
    "vp_fija = pv.pv(fecha_hoy, fixed_rate_leg, zz2)\n",
    "print(\"Valor presente de la pata fija es: {0:,.0f}\".format(vp_fija))"
   ]
  },
  {
   "cell_type": "markdown",
   "metadata": {},
   "source": [
    "Al calcular el valor presente, también se calculan las derivadas del valor presente respecto a cada uno de los vértices de la curva."
   ]
  },
  {
   "cell_type": "code",
   "execution_count": 54,
   "metadata": {
    "ExecuteTime": {
     "end_time": "2021-09-17T14:26:30.273325Z",
     "start_time": "2021-09-17T14:26:30.270230Z"
    }
   },
   "outputs": [],
   "source": [
    "der = pv.get_derivatives()"
   ]
  },
  {
   "cell_type": "markdown",
   "metadata": {},
   "source": [
    "Con esas derivadas, se puede calcular la sensibilidad a la curva cupón cero a un movimiento de 1 punto básico."
   ]
  },
  {
   "cell_type": "code",
   "execution_count": 55,
   "metadata": {
    "ExecuteTime": {
     "end_time": "2021-09-17T14:26:33.391780Z",
     "start_time": "2021-09-17T14:26:33.381685Z"
    }
   },
   "outputs": [
    {
     "name": "stdout",
     "output_type": "stream",
     "text": [
      "Sensibilidad en 0: 0\n",
      "Sensibilidad en 1: 0\n",
      "Sensibilidad en 2: 0\n",
      "Sensibilidad en 3: 0\n",
      "Sensibilidad en 4: 0\n",
      "Sensibilidad en 5: 0\n",
      "Sensibilidad en 6: -1\n",
      "Sensibilidad en 7: -4\n",
      "Sensibilidad en 8: 0\n",
      "Sensibilidad en 9: 0\n",
      "Sensibilidad en 10: 0\n",
      "Sensibilidad en 11: 0\n",
      "Sensibilidad en 12: -282\n",
      "Sensibilidad en 13: -1,353\n",
      "Sensibilidad en 14: 0\n",
      "Sensibilidad en 15: 0\n",
      "Sensibilidad en 16: 0\n",
      "Sensibilidad en 17: 0\n",
      "Sensibilidad en 18: 0\n",
      "Sensibilidad en 19: 0\n",
      "Sensibilidad en 20: 0\n",
      "Sensibilidad en 21: 0\n",
      "Sensibilidad en 22: 0\n",
      "Sensibilidad en 23: 0\n",
      "Sensibilidad en 24: 0\n",
      "Sensibilidad en 25: 0\n",
      "Sensibilidad en 26: 0\n",
      "Sensibilidad en 27: 0\n",
      "Sensibilidad total: -1,641\n"
     ]
    }
   ],
   "source": [
    "i = 0\n",
    "bp = .0001\n",
    "total = 0\n",
    "for d in der:\n",
    "    total += d * bp\n",
    "    print(\"Sensibilidad en {0:}: {1:0,.0f}\".format(i, d * bp))\n",
    "    i += 1\n",
    "print(\"Sensibilidad total: {0:,.0f}\".format(total))"
   ]
  },
  {
   "cell_type": "markdown",
   "metadata": {},
   "source": [
    "Se puede verificar la sensibilidad por diferencias finitas."
   ]
  },
  {
   "cell_type": "markdown",
   "metadata": {},
   "source": [
    "Se calcula el valor presente con las curvas desplazadas."
   ]
  },
  {
   "cell_type": "code",
   "execution_count": 56,
   "metadata": {
    "ExecuteTime": {
     "end_time": "2021-09-17T14:26:37.827788Z",
     "start_time": "2021-09-17T14:26:37.820487Z"
    }
   },
   "outputs": [
    {
     "name": "stdout",
     "output_type": "stream",
     "text": [
      "Valor presente up de la pata fija es: 20,139,366\n",
      "Valor presente down de la pata fija es: 20,139,366\n"
     ]
    }
   ],
   "source": [
    "vp_fija_sens_up = pv.pv(fecha_hoy, fixed_rate_leg, zz_sens_up)\n",
    "vp_fija_sens_down = pv.pv(fecha_hoy, fixed_rate_leg, zz_sens_down)\n",
    "print(\"Valor presente up de la pata fija es: {0:,.0f}\".format(vp_fija_sens_up))\n",
    "print(\"Valor presente down de la pata fija es: {0:,.0f}\".format(\n",
    "    vp_fija_sens_down))"
   ]
  },
  {
   "cell_type": "markdown",
   "metadata": {},
   "source": [
    "Finalmente, se calcula la sensibilidad (usando la aproximación central por diferencias finitas)."
   ]
  },
  {
   "cell_type": "code",
   "execution_count": 57,
   "metadata": {
    "ExecuteTime": {
     "end_time": "2021-09-17T14:26:38.939305Z",
     "start_time": "2021-09-17T14:26:38.934505Z"
    }
   },
   "outputs": [
    {
     "name": "stdout",
     "output_type": "stream",
     "text": [
      "Sensibilidad por diferencias finitas: 0\n"
     ]
    }
   ],
   "source": [
    "print(\"Sensibilidad por diferencias finitas: {0:,.0f}\".format(\n",
    "    (vp_fija_sens_up - vp_fija_sens_down) / 2))"
   ]
  },
  {
   "cell_type": "markdown",
   "metadata": {},
   "source": [
    "Tanto el VP como la sensibilidad coinciden con lo que muestra FD en la pata fija de la operación 2879."
   ]
  },
  {
   "cell_type": "markdown",
   "metadata": {},
   "source": [
    "### IcpClpCashflow2 Leg"
   ]
  },
  {
   "cell_type": "code",
   "execution_count": 58,
   "metadata": {
    "ExecuteTime": {
     "end_time": "2021-09-17T14:26:44.524489Z",
     "start_time": "2021-09-17T14:26:44.504123Z"
    }
   },
   "outputs": [],
   "source": [
    "# Se da de alta los parámetros requeridos\n",
    "rp = Qcf.RecPay.RECEIVE\n",
    "fecha_inicio = Qcf.QCDate(10,1,2019)\n",
    "fecha_final = Qcf.QCDate(10,7,2020)\n",
    "bus_adj_rule = Qcf.BusyAdjRules.FOLLOW\n",
    "periodicidad_pago = Qcf.Tenor('2Y')\n",
    "periodo_irregular_pago = Qcf.StubPeriod.SHORTFRONT\n",
    "calendario = Qcf.BusinessCalendar(fecha_inicio, 20)\n",
    "lag_pago = 0\n",
    "nominal = 38000000000.0\n",
    "amort_es_flujo = True\n",
    "spread = .0\n",
    "gearing = 1.0\n",
    "\n",
    "icp_clp2_leg = Qcf.LegFactory.build_bullet_icp_clp2_leg(\n",
    "    rp,\n",
    "    fecha_inicio,\n",
    "    fecha_final,\n",
    "    bus_adj_rule,\n",
    "    periodicidad_pago,\n",
    "    periodo_irregular_pago,\n",
    "    calendario,\n",
    "    lag_pago,\n",
    "    nominal,\n",
    "    amort_es_flujo,\n",
    "    spread,\n",
    "    gearing,\n",
    "    True\n",
    ")"
   ]
  },
  {
   "cell_type": "code",
   "execution_count": 59,
   "metadata": {
    "ExecuteTime": {
     "end_time": "2021-09-17T14:26:45.539261Z",
     "start_time": "2021-09-17T14:26:45.512134Z"
    }
   },
   "outputs": [
    {
     "data": {
      "text/html": [
       "<style  type=\"text/css\" >\n",
       "</style><table id=\"T_492bd3b2_17c3_11ec_80d9_02cba411ec9d\" ><thead>    <tr>        <th class=\"blank level0\" ></th>        <th class=\"col_heading level0 col0\" >fecha_inicial</th>        <th class=\"col_heading level0 col1\" >fecha_final</th>        <th class=\"col_heading level0 col2\" >fecha_pago</th>        <th class=\"col_heading level0 col3\" >nominal</th>        <th class=\"col_heading level0 col4\" >amortizacion</th>        <th class=\"col_heading level0 col5\" >amort_es_flujo</th>        <th class=\"col_heading level0 col6\" >flujo</th>        <th class=\"col_heading level0 col7\" >moneda</th>        <th class=\"col_heading level0 col8\" >icp_inicial</th>        <th class=\"col_heading level0 col9\" >icp_final</th>        <th class=\"col_heading level0 col10\" >valor_tasa</th>        <th class=\"col_heading level0 col11\" >interes</th>        <th class=\"col_heading level0 col12\" >spread</th>        <th class=\"col_heading level0 col13\" >gearing</th>        <th class=\"col_heading level0 col14\" >tipo_tasa</th>    </tr></thead><tbody>\n",
       "                <tr>\n",
       "                        <th id=\"T_492bd3b2_17c3_11ec_80d9_02cba411ec9dlevel0_row0\" class=\"row_heading level0 row0\" >0</th>\n",
       "                        <td id=\"T_492bd3b2_17c3_11ec_80d9_02cba411ec9drow0_col0\" class=\"data row0 col0\" >2019-01-10</td>\n",
       "                        <td id=\"T_492bd3b2_17c3_11ec_80d9_02cba411ec9drow0_col1\" class=\"data row0 col1\" >2020-07-10</td>\n",
       "                        <td id=\"T_492bd3b2_17c3_11ec_80d9_02cba411ec9drow0_col2\" class=\"data row0 col2\" >2020-07-10</td>\n",
       "                        <td id=\"T_492bd3b2_17c3_11ec_80d9_02cba411ec9drow0_col3\" class=\"data row0 col3\" >38,000,000,000.00</td>\n",
       "                        <td id=\"T_492bd3b2_17c3_11ec_80d9_02cba411ec9drow0_col4\" class=\"data row0 col4\" >38,000,000,000.00</td>\n",
       "                        <td id=\"T_492bd3b2_17c3_11ec_80d9_02cba411ec9drow0_col5\" class=\"data row0 col5\" >True</td>\n",
       "                        <td id=\"T_492bd3b2_17c3_11ec_80d9_02cba411ec9drow0_col6\" class=\"data row0 col6\" >38,000,000,000.00</td>\n",
       "                        <td id=\"T_492bd3b2_17c3_11ec_80d9_02cba411ec9drow0_col7\" class=\"data row0 col7\" >CLP</td>\n",
       "                        <td id=\"T_492bd3b2_17c3_11ec_80d9_02cba411ec9drow0_col8\" class=\"data row0 col8\" >10,000.00</td>\n",
       "                        <td id=\"T_492bd3b2_17c3_11ec_80d9_02cba411ec9drow0_col9\" class=\"data row0 col9\" >10,000.00</td>\n",
       "                        <td id=\"T_492bd3b2_17c3_11ec_80d9_02cba411ec9drow0_col10\" class=\"data row0 col10\" >0.0000%</td>\n",
       "                        <td id=\"T_492bd3b2_17c3_11ec_80d9_02cba411ec9drow0_col11\" class=\"data row0 col11\" >0.00</td>\n",
       "                        <td id=\"T_492bd3b2_17c3_11ec_80d9_02cba411ec9drow0_col12\" class=\"data row0 col12\" >0.0000%</td>\n",
       "                        <td id=\"T_492bd3b2_17c3_11ec_80d9_02cba411ec9drow0_col13\" class=\"data row0 col13\" >1.00</td>\n",
       "                        <td id=\"T_492bd3b2_17c3_11ec_80d9_02cba411ec9drow0_col14\" class=\"data row0 col14\" >LinAct360</td>\n",
       "            </tr>\n",
       "    </tbody></table>"
      ],
      "text/plain": [
       "<pandas.io.formats.style.Styler at 0x7f4ccc851dd8>"
      ]
     },
     "execution_count": 59,
     "metadata": {},
     "output_type": "execute_result"
    }
   ],
   "source": [
    "# Se define un list donde almacenar los resultados de la función show\n",
    "tabla = []\n",
    "for i in range(0, icp_clp2_leg.size()):\n",
    "    tabla.append(Qcf.show(icp_clp2_leg.get_cashflow_at(i)))\n",
    "\n",
    "# Se utiliza tabla para inicializar el Dataframe\n",
    "columnas = list(Qcf.get_column_names(\"IcpClpCashflow2\", \"\"))\n",
    "df9 = pd.DataFrame(tabla, columns=columnas)\n",
    "\n",
    "# Se despliega la data en este formato\n",
    "df9.style.format(format_dict)"
   ]
  },
  {
   "cell_type": "markdown",
   "metadata": {},
   "source": [
    "Notar que al dar de alta un Leg con IcpClpCashflow2, los valores futuros de los ICP son los default (=10,000.00). Por lo tanto, el primer paso para valorizar estos cashflows, es calcular los valores forward de los índices.\n",
    "\n",
    "Se comienza dando de alta un objeto de tipo `ForwardRates`."
   ]
  },
  {
   "cell_type": "code",
   "execution_count": 60,
   "metadata": {
    "ExecuteTime": {
     "end_time": "2021-09-17T14:26:47.768522Z",
     "start_time": "2021-09-17T14:26:47.764928Z"
    }
   },
   "outputs": [],
   "source": [
    "fwd_rates = Qcf.ForwardRates()"
   ]
  },
  {
   "cell_type": "markdown",
   "metadata": {},
   "source": [
    "Se calculan los índices forward."
   ]
  },
  {
   "cell_type": "code",
   "execution_count": 61,
   "metadata": {
    "ExecuteTime": {
     "end_time": "2021-09-17T14:26:51.234672Z",
     "start_time": "2021-09-17T14:26:51.226260Z"
    }
   },
   "outputs": [],
   "source": [
    "icp_val = 18890.34 # icp a la fecha de proceso\n",
    "fecha_hoy = Qcf.QCDate(5, 3, 2020)\n",
    "\n",
    "for i in range(icp_clp2_leg.size()):\n",
    "    cashflow = icp_clp2_leg.get_cashflow_at(i)\n",
    "    if cashflow.get_start_date() <= fecha_hoy <= cashflow.get_end_date():\n",
    "            index = i\n",
    "\n",
    "icp_fecha_inicio_cupon_vigente = 18376.69\n",
    "icp_clp2_leg.get_cashflow_at(index).set_start_date_icp(icp_fecha_inicio_cupon_vigente)\n",
    "\n",
    "fwd_rates.set_rates_icp_clp_leg(fecha_hoy, icp_val, icp_clp2_leg, zz1)"
   ]
  },
  {
   "cell_type": "code",
   "execution_count": 62,
   "metadata": {
    "ExecuteTime": {
     "end_time": "2021-09-17T14:26:53.472099Z",
     "start_time": "2021-09-17T14:26:53.454321Z"
    }
   },
   "outputs": [
    {
     "data": {
      "text/html": [
       "<style  type=\"text/css\" >\n",
       "</style><table id=\"T_4de6ac10_17c3_11ec_80d9_02cba411ec9d\" ><thead>    <tr>        <th class=\"blank level0\" ></th>        <th class=\"col_heading level0 col0\" >fecha_inicial</th>        <th class=\"col_heading level0 col1\" >fecha_final</th>        <th class=\"col_heading level0 col2\" >fecha_pago</th>        <th class=\"col_heading level0 col3\" >nominal</th>        <th class=\"col_heading level0 col4\" >amortizacion</th>        <th class=\"col_heading level0 col5\" >amort_es_flujo</th>        <th class=\"col_heading level0 col6\" >flujo</th>        <th class=\"col_heading level0 col7\" >moneda</th>        <th class=\"col_heading level0 col8\" >icp_inicial</th>        <th class=\"col_heading level0 col9\" >icp_final</th>        <th class=\"col_heading level0 col10\" >valor_tasa</th>        <th class=\"col_heading level0 col11\" >interes</th>        <th class=\"col_heading level0 col12\" >spread</th>        <th class=\"col_heading level0 col13\" >gearing</th>        <th class=\"col_heading level0 col14\" >tipo_tasa</th>    </tr></thead><tbody>\n",
       "                <tr>\n",
       "                        <th id=\"T_4de6ac10_17c3_11ec_80d9_02cba411ec9dlevel0_row0\" class=\"row_heading level0 row0\" >0</th>\n",
       "                        <td id=\"T_4de6ac10_17c3_11ec_80d9_02cba411ec9drow0_col0\" class=\"data row0 col0\" >2019-01-10</td>\n",
       "                        <td id=\"T_4de6ac10_17c3_11ec_80d9_02cba411ec9drow0_col1\" class=\"data row0 col1\" >2020-07-10</td>\n",
       "                        <td id=\"T_4de6ac10_17c3_11ec_80d9_02cba411ec9drow0_col2\" class=\"data row0 col2\" >2020-07-10</td>\n",
       "                        <td id=\"T_4de6ac10_17c3_11ec_80d9_02cba411ec9drow0_col3\" class=\"data row0 col3\" >38,000,000,000.00</td>\n",
       "                        <td id=\"T_4de6ac10_17c3_11ec_80d9_02cba411ec9drow0_col4\" class=\"data row0 col4\" >38,000,000,000.00</td>\n",
       "                        <td id=\"T_4de6ac10_17c3_11ec_80d9_02cba411ec9drow0_col5\" class=\"data row0 col5\" >True</td>\n",
       "                        <td id=\"T_4de6ac10_17c3_11ec_80d9_02cba411ec9drow0_col6\" class=\"data row0 col6\" >39,258,578,564.14</td>\n",
       "                        <td id=\"T_4de6ac10_17c3_11ec_80d9_02cba411ec9drow0_col7\" class=\"data row0 col7\" >CLP</td>\n",
       "                        <td id=\"T_4de6ac10_17c3_11ec_80d9_02cba411ec9drow0_col8\" class=\"data row0 col8\" >18,376.69</td>\n",
       "                        <td id=\"T_4de6ac10_17c3_11ec_80d9_02cba411ec9drow0_col9\" class=\"data row0 col9\" >18,985.33</td>\n",
       "                        <td id=\"T_4de6ac10_17c3_11ec_80d9_02cba411ec9drow0_col10\" class=\"data row0 col10\" >2.1800%</td>\n",
       "                        <td id=\"T_4de6ac10_17c3_11ec_80d9_02cba411ec9drow0_col11\" class=\"data row0 col11\" >1,258,707,777.78</td>\n",
       "                        <td id=\"T_4de6ac10_17c3_11ec_80d9_02cba411ec9drow0_col12\" class=\"data row0 col12\" >0.0000%</td>\n",
       "                        <td id=\"T_4de6ac10_17c3_11ec_80d9_02cba411ec9drow0_col13\" class=\"data row0 col13\" >1.00</td>\n",
       "                        <td id=\"T_4de6ac10_17c3_11ec_80d9_02cba411ec9drow0_col14\" class=\"data row0 col14\" >LinAct360</td>\n",
       "            </tr>\n",
       "    </tbody></table>"
      ],
      "text/plain": [
       "<pandas.io.formats.style.Styler at 0x7f4ccc4deef0>"
      ]
     },
     "execution_count": 62,
     "metadata": {},
     "output_type": "execute_result"
    }
   ],
   "source": [
    "# Se define un list donde almacenar los resultados de la función show\n",
    "tabla = []\n",
    "for i in range(0, icp_clp2_leg.size()):\n",
    "    tabla.append(Qcf.show(icp_clp2_leg.get_cashflow_at(i)))\n",
    "\n",
    "# Se utiliza tabla para inicializar el Dataframe\n",
    "columnas = list(Qcf.get_column_names(\"IcpClpCashflow2\", \"\"))\n",
    "df9 = pd.DataFrame(tabla, columns=columnas)\n",
    "\n",
    "# Se despliega la data en este formato\n",
    "df9.style.format(format_dict)"
   ]
  },
  {
   "cell_type": "markdown",
   "metadata": {},
   "source": [
    "Con esto, podemos calcular el valor presente."
   ]
  },
  {
   "cell_type": "code",
   "execution_count": 63,
   "metadata": {
    "ExecuteTime": {
     "end_time": "2021-09-17T14:26:54.894497Z",
     "start_time": "2021-09-17T14:26:54.887677Z"
    }
   },
   "outputs": [
    {
     "name": "stdout",
     "output_type": "stream",
     "text": [
      "Valor presente pata ICPCLP: 39,062,144,488\n"
     ]
    }
   ],
   "source": [
    "vp_icp_clp = pv.pv(fecha_hoy, icp_clp2_leg, zz1)\n",
    "print(\"Valor presente pata ICPCLP: {0:,.0f}\".format(vp_icp_clp))"
   ]
  },
  {
   "cell_type": "markdown",
   "metadata": {},
   "source": [
    "También en este caso es posible calcular la sensibilidad a la curva de descuento."
   ]
  },
  {
   "cell_type": "code",
   "execution_count": 64,
   "metadata": {
    "ExecuteTime": {
     "end_time": "2021-09-17T14:26:57.300519Z",
     "start_time": "2021-09-17T14:26:57.290991Z"
    }
   },
   "outputs": [
    {
     "name": "stdout",
     "output_type": "stream",
     "text": [
      "Sensibilidad en 0: 0\n",
      "Sensibilidad en 1: 0\n",
      "Sensibilidad en 2: -909,119\n",
      "Sensibilidad en 3: -462,011\n",
      "Sensibilidad en 4: 0\n",
      "Sensibilidad en 5: 0\n",
      "Sensibilidad en 6: 0\n",
      "Sensibilidad en 7: 0\n",
      "Sensibilidad en 8: 0\n",
      "Sensibilidad en 9: 0\n",
      "Sensibilidad en 10: 0\n",
      "Sensibilidad en 11: 0\n",
      "Sensibilidad en 12: 0\n",
      "Sensibilidad en 13: 0\n",
      "Sensibilidad en 14: 0\n",
      "Sensibilidad en 15: 0\n",
      "Sensibilidad en 16: 0\n",
      "Sensibilidad en 17: 0\n",
      "Sensibilidad en 18: 0\n"
     ]
    }
   ],
   "source": [
    "der = pv.get_derivatives()\n",
    "i = 0\n",
    "bp = .0001\n",
    "for d in der:\n",
    "    print(\"Sensibilidad en {0:}: {1:0,.0f}\".format(i, d * bp))\n",
    "    i += 1"
   ]
  },
  {
   "cell_type": "markdown",
   "metadata": {},
   "source": [
    "Podemos ver la sensibilidad total:"
   ]
  },
  {
   "cell_type": "code",
   "execution_count": 65,
   "metadata": {
    "ExecuteTime": {
     "end_time": "2021-09-17T14:26:59.732657Z",
     "start_time": "2021-09-17T14:26:59.727501Z"
    }
   },
   "outputs": [
    {
     "name": "stdout",
     "output_type": "stream",
     "text": [
      "Sensibilidad de descuento: -1,371,131 CLP\n"
     ]
    }
   ],
   "source": [
    "sens_disc = [d * bp for d in der]\n",
    "print(\"Sensibilidad de descuento: {0:,.0f} CLP\".format(sum(sens_disc)))"
   ]
  },
  {
   "cell_type": "markdown",
   "metadata": {},
   "source": [
    "La estructura es la misma que para una pata fija, lo que indica que se debe también incluir la sensibilidad a la curva de proyección."
   ]
  },
  {
   "cell_type": "code",
   "execution_count": 66,
   "metadata": {
    "ExecuteTime": {
     "end_time": "2021-09-17T14:27:03.588506Z",
     "start_time": "2021-09-17T14:27:03.570541Z"
    }
   },
   "outputs": [
    {
     "name": "stdout",
     "output_type": "stream",
     "text": [
      "Sensibilidad en 0: 0\n",
      "Sensibilidad en 1: 0\n",
      "Sensibilidad en 2: 909,119\n",
      "Sensibilidad en 3: 462,011\n",
      "Sensibilidad en 4: 0\n",
      "Sensibilidad en 5: 0\n",
      "Sensibilidad en 6: 0\n",
      "Sensibilidad en 7: 0\n",
      "Sensibilidad en 8: 0\n",
      "Sensibilidad en 9: 0\n",
      "Sensibilidad en 10: 0\n",
      "Sensibilidad en 11: 0\n",
      "Sensibilidad en 12: 0\n",
      "Sensibilidad en 13: 0\n",
      "Sensibilidad en 14: 0\n",
      "Sensibilidad en 15: 0\n",
      "Sensibilidad en 16: 0\n",
      "Sensibilidad en 17: 0\n",
      "Sensibilidad en 18: 0\n",
      "Sensibilidad de proyección: 1,371,131 CLP\n"
     ]
    }
   ],
   "source": [
    "import numpy as np\n",
    "bp = .0001\n",
    "result = []\n",
    "for i in range(icp_clp2_leg.size()):\n",
    "    cshflw = icp_clp2_leg.get_cashflow_at(i)\n",
    "    amt_der = cshflw.get_amount_derivatives()\n",
    "    df = zz1.get_discount_factor_at(fecha_hoy.day_diff(cshflw.get_settlement_date()))\n",
    "    amt_der = [a * bp * df for a in amt_der]\n",
    "    if len(amt_der) > 0:\n",
    "        result.append(np.array(amt_der))\n",
    "total = result[0] * 0\n",
    "\n",
    "for r in result:\n",
    "    total += r\n",
    "\n",
    "for i in range(len(total)):\n",
    "    print(\"Sensibilidad en {0:}: {1:0,.0f}\".format(i, total[i]))\n",
    "\n",
    "print(\"Sensibilidad de proyección: {0:,.0f} CLP\".format(sum(total)))"
   ]
  },
  {
   "cell_type": "markdown",
   "metadata": {},
   "source": [
    "Como se espera de una pata ICPCLP (con lag de pago igual a 0 y spread igual a 0), ambas sensibilidades se cancelan."
   ]
  },
  {
   "cell_type": "markdown",
   "metadata": {},
   "source": [
    "#### Se verifica la sensibilidad de proyección por diferencias finitas:"
   ]
  },
  {
   "cell_type": "code",
   "execution_count": 67,
   "metadata": {
    "ExecuteTime": {
     "end_time": "2021-09-17T14:27:07.471326Z",
     "start_time": "2021-09-17T14:27:07.441600Z"
    }
   },
   "outputs": [
    {
     "name": "stdout",
     "output_type": "stream",
     "text": [
      "Sensibilidad en vértice 13: 0 CLP\n"
     ]
    }
   ],
   "source": [
    "fwd_rates.set_rates_icp_clp_leg(fecha_hoy, icp_val, icp_clp2_leg, zz_sens_up)\n",
    "vp_icp_clp_up = pv.pv(fecha_hoy, icp_clp2_leg, zz1)\n",
    "\n",
    "fwd_rates.set_rates_icp_clp_leg(fecha_hoy, icp_val, icp_clp2_leg, zz_sens_down)\n",
    "vp_icp_clp_down = pv.pv(fecha_hoy, icp_clp2_leg, zz1)\n",
    "\n",
    "print(\"Sensibilidad en vértice {0:}: {1:,.0f} CLP\".format(\n",
    "    vertice, (vp_icp_clp_up - vp_icp_clp_down) / 2))"
   ]
  },
  {
   "cell_type": "markdown",
   "metadata": {},
   "source": [
    "### IborCashflow2 Leg"
   ]
  },
  {
   "cell_type": "code",
   "execution_count": 69,
   "metadata": {
    "ExecuteTime": {
     "end_time": "2021-09-17T14:27:30.725496Z",
     "start_time": "2021-09-17T14:27:30.706972Z"
    }
   },
   "outputs": [],
   "source": [
    "# Se da de alta los parámetros requeridos\n",
    "rp = Qcf.RecPay.RECEIVE\n",
    "fecha_inicio = Qcf.QCDate(12, 11, 2019)\n",
    "fecha_final = Qcf.QCDate(12, 11, 2020)\n",
    "bus_adj_rule = Qcf.BusyAdjRules.MODFOLLOW\n",
    "periodicidad_pago = Qcf.Tenor('3M')\n",
    "periodo_irregular_pago = Qcf.StubPeriod.NO\n",
    "calendario = Qcf.BusinessCalendar(fecha_inicio, 20)\n",
    "lag_pago = 0\n",
    "periodicidad_fijacion = Qcf.Tenor('3M')\n",
    "periodo_irregular_fijacion = Qcf.StubPeriod.NO\n",
    "\n",
    "# vamos a usar el mismo calendario para pago y fijaciones\n",
    "lag_de_fijacion = 2\n",
    "\n",
    "# Definición del índice\n",
    "codigo = 'LIBORUSD3M'\n",
    "lin_act360 = Qcf.QCInterestRate(.0, Qcf.QCAct360(), Qcf.QCLinearWf())\n",
    "fixing_lag = Qcf.Tenor('2d')\n",
    "tenor = Qcf.Tenor('3m')\n",
    "fixing_calendar = calendario\n",
    "settlement_calendar = calendario\n",
    "usd = Qcf.QCUSD()\n",
    "libor_usd_3m = Qcf.InterestRateIndex(codigo,\n",
    "                                     lin_act360,\n",
    "                                     fixing_lag,\n",
    "                                     tenor,\n",
    "                                     fixing_calendar,\n",
    "                                     settlement_calendar,\n",
    "                                     usd)\n",
    "# Fin índice\n",
    "\n",
    "nominal = 20000000.0\n",
    "amort_es_flujo = True\n",
    "moneda = usd\n",
    "spread = .0\n",
    "gearing = 1.0\n",
    "\n",
    "# Es la op 2879 en FD\n",
    "ibor_leg = Qcf.LegFactory.build_bullet_ibor2_leg(\n",
    "    rp, fecha_inicio, fecha_final, bus_adj_rule, periodicidad_pago,\n",
    "    periodo_irregular_pago, calendario, lag_pago,\n",
    "    periodicidad_fijacion, periodo_irregular_fijacion,\n",
    "    calendario, lag_de_fijacion, libor_usd_3m,\n",
    "    nominal, amort_es_flujo, moneda, spread, gearing\n",
    ")"
   ]
  },
  {
   "cell_type": "code",
   "execution_count": 70,
   "metadata": {
    "ExecuteTime": {
     "end_time": "2021-09-17T14:27:31.669167Z",
     "start_time": "2021-09-17T14:27:31.650634Z"
    }
   },
   "outputs": [
    {
     "data": {
      "text/html": [
       "<style  type=\"text/css\" >\n",
       "</style><table id=\"T_64aa9c90_17c3_11ec_80d9_02cba411ec9d\" ><thead>    <tr>        <th class=\"blank level0\" ></th>        <th class=\"col_heading level0 col0\" >fecha_inicial</th>        <th class=\"col_heading level0 col1\" >fecha__final</th>        <th class=\"col_heading level0 col2\" >fecha_fixing</th>        <th class=\"col_heading level0 col3\" >fecha__pago</th>        <th class=\"col_heading level0 col4\" >nominal</th>        <th class=\"col_heading level0 col5\" >amort</th>        <th class=\"col_heading level0 col6\" >interes</th>        <th class=\"col_heading level0 col7\" >amort_es_flujo</th>        <th class=\"col_heading level0 col8\" >flujo</th>        <th class=\"col_heading level0 col9\" >moneda</th>        <th class=\"col_heading level0 col10\" >codigo_indice</th>        <th class=\"col_heading level0 col11\" >valor_tasa</th>        <th class=\"col_heading level0 col12\" >spread</th>        <th class=\"col_heading level0 col13\" >gearing</th>        <th class=\"col_heading level0 col14\" >tipo_tasa</th>    </tr></thead><tbody>\n",
       "                <tr>\n",
       "                        <th id=\"T_64aa9c90_17c3_11ec_80d9_02cba411ec9dlevel0_row0\" class=\"row_heading level0 row0\" >0</th>\n",
       "                        <td id=\"T_64aa9c90_17c3_11ec_80d9_02cba411ec9drow0_col0\" class=\"data row0 col0\" >2019-11-12</td>\n",
       "                        <td id=\"T_64aa9c90_17c3_11ec_80d9_02cba411ec9drow0_col1\" class=\"data row0 col1\" >2020-02-12</td>\n",
       "                        <td id=\"T_64aa9c90_17c3_11ec_80d9_02cba411ec9drow0_col2\" class=\"data row0 col2\" >2019-11-08</td>\n",
       "                        <td id=\"T_64aa9c90_17c3_11ec_80d9_02cba411ec9drow0_col3\" class=\"data row0 col3\" >2020-02-12</td>\n",
       "                        <td id=\"T_64aa9c90_17c3_11ec_80d9_02cba411ec9drow0_col4\" class=\"data row0 col4\" >20,000,000.00</td>\n",
       "                        <td id=\"T_64aa9c90_17c3_11ec_80d9_02cba411ec9drow0_col5\" class=\"data row0 col5\" >0.00</td>\n",
       "                        <td id=\"T_64aa9c90_17c3_11ec_80d9_02cba411ec9drow0_col6\" class=\"data row0 col6\" >0.00</td>\n",
       "                        <td id=\"T_64aa9c90_17c3_11ec_80d9_02cba411ec9drow0_col7\" class=\"data row0 col7\" >True</td>\n",
       "                        <td id=\"T_64aa9c90_17c3_11ec_80d9_02cba411ec9drow0_col8\" class=\"data row0 col8\" >0.00</td>\n",
       "                        <td id=\"T_64aa9c90_17c3_11ec_80d9_02cba411ec9drow0_col9\" class=\"data row0 col9\" >USD</td>\n",
       "                        <td id=\"T_64aa9c90_17c3_11ec_80d9_02cba411ec9drow0_col10\" class=\"data row0 col10\" >LIBORUSD3M</td>\n",
       "                        <td id=\"T_64aa9c90_17c3_11ec_80d9_02cba411ec9drow0_col11\" class=\"data row0 col11\" >0.0000%</td>\n",
       "                        <td id=\"T_64aa9c90_17c3_11ec_80d9_02cba411ec9drow0_col12\" class=\"data row0 col12\" >0.0000%</td>\n",
       "                        <td id=\"T_64aa9c90_17c3_11ec_80d9_02cba411ec9drow0_col13\" class=\"data row0 col13\" >1.00</td>\n",
       "                        <td id=\"T_64aa9c90_17c3_11ec_80d9_02cba411ec9drow0_col14\" class=\"data row0 col14\" >LinAct360</td>\n",
       "            </tr>\n",
       "            <tr>\n",
       "                        <th id=\"T_64aa9c90_17c3_11ec_80d9_02cba411ec9dlevel0_row1\" class=\"row_heading level0 row1\" >1</th>\n",
       "                        <td id=\"T_64aa9c90_17c3_11ec_80d9_02cba411ec9drow1_col0\" class=\"data row1 col0\" >2020-02-12</td>\n",
       "                        <td id=\"T_64aa9c90_17c3_11ec_80d9_02cba411ec9drow1_col1\" class=\"data row1 col1\" >2020-05-12</td>\n",
       "                        <td id=\"T_64aa9c90_17c3_11ec_80d9_02cba411ec9drow1_col2\" class=\"data row1 col2\" >2020-02-10</td>\n",
       "                        <td id=\"T_64aa9c90_17c3_11ec_80d9_02cba411ec9drow1_col3\" class=\"data row1 col3\" >2020-05-12</td>\n",
       "                        <td id=\"T_64aa9c90_17c3_11ec_80d9_02cba411ec9drow1_col4\" class=\"data row1 col4\" >20,000,000.00</td>\n",
       "                        <td id=\"T_64aa9c90_17c3_11ec_80d9_02cba411ec9drow1_col5\" class=\"data row1 col5\" >0.00</td>\n",
       "                        <td id=\"T_64aa9c90_17c3_11ec_80d9_02cba411ec9drow1_col6\" class=\"data row1 col6\" >0.00</td>\n",
       "                        <td id=\"T_64aa9c90_17c3_11ec_80d9_02cba411ec9drow1_col7\" class=\"data row1 col7\" >True</td>\n",
       "                        <td id=\"T_64aa9c90_17c3_11ec_80d9_02cba411ec9drow1_col8\" class=\"data row1 col8\" >0.00</td>\n",
       "                        <td id=\"T_64aa9c90_17c3_11ec_80d9_02cba411ec9drow1_col9\" class=\"data row1 col9\" >USD</td>\n",
       "                        <td id=\"T_64aa9c90_17c3_11ec_80d9_02cba411ec9drow1_col10\" class=\"data row1 col10\" >LIBORUSD3M</td>\n",
       "                        <td id=\"T_64aa9c90_17c3_11ec_80d9_02cba411ec9drow1_col11\" class=\"data row1 col11\" >0.0000%</td>\n",
       "                        <td id=\"T_64aa9c90_17c3_11ec_80d9_02cba411ec9drow1_col12\" class=\"data row1 col12\" >0.0000%</td>\n",
       "                        <td id=\"T_64aa9c90_17c3_11ec_80d9_02cba411ec9drow1_col13\" class=\"data row1 col13\" >1.00</td>\n",
       "                        <td id=\"T_64aa9c90_17c3_11ec_80d9_02cba411ec9drow1_col14\" class=\"data row1 col14\" >LinAct360</td>\n",
       "            </tr>\n",
       "            <tr>\n",
       "                        <th id=\"T_64aa9c90_17c3_11ec_80d9_02cba411ec9dlevel0_row2\" class=\"row_heading level0 row2\" >2</th>\n",
       "                        <td id=\"T_64aa9c90_17c3_11ec_80d9_02cba411ec9drow2_col0\" class=\"data row2 col0\" >2020-05-12</td>\n",
       "                        <td id=\"T_64aa9c90_17c3_11ec_80d9_02cba411ec9drow2_col1\" class=\"data row2 col1\" >2020-08-12</td>\n",
       "                        <td id=\"T_64aa9c90_17c3_11ec_80d9_02cba411ec9drow2_col2\" class=\"data row2 col2\" >2020-05-08</td>\n",
       "                        <td id=\"T_64aa9c90_17c3_11ec_80d9_02cba411ec9drow2_col3\" class=\"data row2 col3\" >2020-08-12</td>\n",
       "                        <td id=\"T_64aa9c90_17c3_11ec_80d9_02cba411ec9drow2_col4\" class=\"data row2 col4\" >20,000,000.00</td>\n",
       "                        <td id=\"T_64aa9c90_17c3_11ec_80d9_02cba411ec9drow2_col5\" class=\"data row2 col5\" >0.00</td>\n",
       "                        <td id=\"T_64aa9c90_17c3_11ec_80d9_02cba411ec9drow2_col6\" class=\"data row2 col6\" >0.00</td>\n",
       "                        <td id=\"T_64aa9c90_17c3_11ec_80d9_02cba411ec9drow2_col7\" class=\"data row2 col7\" >True</td>\n",
       "                        <td id=\"T_64aa9c90_17c3_11ec_80d9_02cba411ec9drow2_col8\" class=\"data row2 col8\" >0.00</td>\n",
       "                        <td id=\"T_64aa9c90_17c3_11ec_80d9_02cba411ec9drow2_col9\" class=\"data row2 col9\" >USD</td>\n",
       "                        <td id=\"T_64aa9c90_17c3_11ec_80d9_02cba411ec9drow2_col10\" class=\"data row2 col10\" >LIBORUSD3M</td>\n",
       "                        <td id=\"T_64aa9c90_17c3_11ec_80d9_02cba411ec9drow2_col11\" class=\"data row2 col11\" >0.0000%</td>\n",
       "                        <td id=\"T_64aa9c90_17c3_11ec_80d9_02cba411ec9drow2_col12\" class=\"data row2 col12\" >0.0000%</td>\n",
       "                        <td id=\"T_64aa9c90_17c3_11ec_80d9_02cba411ec9drow2_col13\" class=\"data row2 col13\" >1.00</td>\n",
       "                        <td id=\"T_64aa9c90_17c3_11ec_80d9_02cba411ec9drow2_col14\" class=\"data row2 col14\" >LinAct360</td>\n",
       "            </tr>\n",
       "            <tr>\n",
       "                        <th id=\"T_64aa9c90_17c3_11ec_80d9_02cba411ec9dlevel0_row3\" class=\"row_heading level0 row3\" >3</th>\n",
       "                        <td id=\"T_64aa9c90_17c3_11ec_80d9_02cba411ec9drow3_col0\" class=\"data row3 col0\" >2020-08-12</td>\n",
       "                        <td id=\"T_64aa9c90_17c3_11ec_80d9_02cba411ec9drow3_col1\" class=\"data row3 col1\" >2020-11-12</td>\n",
       "                        <td id=\"T_64aa9c90_17c3_11ec_80d9_02cba411ec9drow3_col2\" class=\"data row3 col2\" >2020-08-10</td>\n",
       "                        <td id=\"T_64aa9c90_17c3_11ec_80d9_02cba411ec9drow3_col3\" class=\"data row3 col3\" >2020-11-12</td>\n",
       "                        <td id=\"T_64aa9c90_17c3_11ec_80d9_02cba411ec9drow3_col4\" class=\"data row3 col4\" >20,000,000.00</td>\n",
       "                        <td id=\"T_64aa9c90_17c3_11ec_80d9_02cba411ec9drow3_col5\" class=\"data row3 col5\" >20,000,000.00</td>\n",
       "                        <td id=\"T_64aa9c90_17c3_11ec_80d9_02cba411ec9drow3_col6\" class=\"data row3 col6\" >0.00</td>\n",
       "                        <td id=\"T_64aa9c90_17c3_11ec_80d9_02cba411ec9drow3_col7\" class=\"data row3 col7\" >True</td>\n",
       "                        <td id=\"T_64aa9c90_17c3_11ec_80d9_02cba411ec9drow3_col8\" class=\"data row3 col8\" >20,000,000.00</td>\n",
       "                        <td id=\"T_64aa9c90_17c3_11ec_80d9_02cba411ec9drow3_col9\" class=\"data row3 col9\" >USD</td>\n",
       "                        <td id=\"T_64aa9c90_17c3_11ec_80d9_02cba411ec9drow3_col10\" class=\"data row3 col10\" >LIBORUSD3M</td>\n",
       "                        <td id=\"T_64aa9c90_17c3_11ec_80d9_02cba411ec9drow3_col11\" class=\"data row3 col11\" >0.0000%</td>\n",
       "                        <td id=\"T_64aa9c90_17c3_11ec_80d9_02cba411ec9drow3_col12\" class=\"data row3 col12\" >0.0000%</td>\n",
       "                        <td id=\"T_64aa9c90_17c3_11ec_80d9_02cba411ec9drow3_col13\" class=\"data row3 col13\" >1.00</td>\n",
       "                        <td id=\"T_64aa9c90_17c3_11ec_80d9_02cba411ec9drow3_col14\" class=\"data row3 col14\" >LinAct360</td>\n",
       "            </tr>\n",
       "    </tbody></table>"
      ],
      "text/plain": [
       "<pandas.io.formats.style.Styler at 0x7f4ccc5096d8>"
      ]
     },
     "execution_count": 70,
     "metadata": {},
     "output_type": "execute_result"
    }
   ],
   "source": [
    "# Se define un list donde almacenar los resultados de la función show\n",
    "tabla = []\n",
    "for i in range(0, ibor_leg.size()):\n",
    "    tabla.append(Qcf.show(ibor_leg.get_cashflow_at(i)))\n",
    "\n",
    "# Se utiliza tabla para inicializar el Dataframe\n",
    "columnas = ['fecha_inicial', 'fecha__final', 'fecha_fixing', 'fecha__pago', 'nominal', 'amort', 'interes', 'amort_es_flujo', 'flujo',\n",
    "            'moneda', 'codigo_indice', 'valor_tasa', 'spread', 'gearing', 'tipo_tasa']\n",
    "df5 = pd.DataFrame(tabla, columns=columnas)\n",
    "\n",
    "# Se despliega la data en este formato\n",
    "df5.style.format(format_dict)"
   ]
  },
  {
   "cell_type": "code",
   "execution_count": 71,
   "metadata": {
    "ExecuteTime": {
     "end_time": "2021-09-17T14:27:39.301171Z",
     "start_time": "2021-09-17T14:27:39.295547Z"
    }
   },
   "outputs": [],
   "source": [
    "libor = 0.0190063\n",
    "fecha_hoy = Qcf.QCDate(25, 2, 2020)\n",
    "ibor_leg.get_cashflow_at(0).set_rate_value(libor)\n",
    "fwd_rates.set_rates_ibor_leg(fecha_hoy, ibor_leg, zz2)"
   ]
  },
  {
   "cell_type": "code",
   "execution_count": 72,
   "metadata": {
    "ExecuteTime": {
     "end_time": "2021-09-17T14:27:41.006943Z",
     "start_time": "2021-09-17T14:27:40.987927Z"
    }
   },
   "outputs": [
    {
     "data": {
      "text/html": [
       "<style  type=\"text/css\" >\n",
       "</style><table id=\"T_6a3b8d0e_17c3_11ec_80d9_02cba411ec9d\" ><thead>    <tr>        <th class=\"blank level0\" ></th>        <th class=\"col_heading level0 col0\" >fecha_inicial</th>        <th class=\"col_heading level0 col1\" >fecha__final</th>        <th class=\"col_heading level0 col2\" >fecha_fixing</th>        <th class=\"col_heading level0 col3\" >fecha__pago</th>        <th class=\"col_heading level0 col4\" >nominal</th>        <th class=\"col_heading level0 col5\" >amort</th>        <th class=\"col_heading level0 col6\" >interes</th>        <th class=\"col_heading level0 col7\" >amort_es_flujo</th>        <th class=\"col_heading level0 col8\" >flujo</th>        <th class=\"col_heading level0 col9\" >moneda</th>        <th class=\"col_heading level0 col10\" >codigo_indice</th>        <th class=\"col_heading level0 col11\" >valor_tasa</th>        <th class=\"col_heading level0 col12\" >spread</th>        <th class=\"col_heading level0 col13\" >gearing</th>        <th class=\"col_heading level0 col14\" >tipo_tasa</th>    </tr></thead><tbody>\n",
       "                <tr>\n",
       "                        <th id=\"T_6a3b8d0e_17c3_11ec_80d9_02cba411ec9dlevel0_row0\" class=\"row_heading level0 row0\" >0</th>\n",
       "                        <td id=\"T_6a3b8d0e_17c3_11ec_80d9_02cba411ec9drow0_col0\" class=\"data row0 col0\" >2019-11-12</td>\n",
       "                        <td id=\"T_6a3b8d0e_17c3_11ec_80d9_02cba411ec9drow0_col1\" class=\"data row0 col1\" >2020-02-12</td>\n",
       "                        <td id=\"T_6a3b8d0e_17c3_11ec_80d9_02cba411ec9drow0_col2\" class=\"data row0 col2\" >2019-11-08</td>\n",
       "                        <td id=\"T_6a3b8d0e_17c3_11ec_80d9_02cba411ec9drow0_col3\" class=\"data row0 col3\" >2020-02-12</td>\n",
       "                        <td id=\"T_6a3b8d0e_17c3_11ec_80d9_02cba411ec9drow0_col4\" class=\"data row0 col4\" >20,000,000.00</td>\n",
       "                        <td id=\"T_6a3b8d0e_17c3_11ec_80d9_02cba411ec9drow0_col5\" class=\"data row0 col5\" >0.00</td>\n",
       "                        <td id=\"T_6a3b8d0e_17c3_11ec_80d9_02cba411ec9drow0_col6\" class=\"data row0 col6\" >97,143.31</td>\n",
       "                        <td id=\"T_6a3b8d0e_17c3_11ec_80d9_02cba411ec9drow0_col7\" class=\"data row0 col7\" >True</td>\n",
       "                        <td id=\"T_6a3b8d0e_17c3_11ec_80d9_02cba411ec9drow0_col8\" class=\"data row0 col8\" >97,143.31</td>\n",
       "                        <td id=\"T_6a3b8d0e_17c3_11ec_80d9_02cba411ec9drow0_col9\" class=\"data row0 col9\" >USD</td>\n",
       "                        <td id=\"T_6a3b8d0e_17c3_11ec_80d9_02cba411ec9drow0_col10\" class=\"data row0 col10\" >LIBORUSD3M</td>\n",
       "                        <td id=\"T_6a3b8d0e_17c3_11ec_80d9_02cba411ec9drow0_col11\" class=\"data row0 col11\" >1.9006%</td>\n",
       "                        <td id=\"T_6a3b8d0e_17c3_11ec_80d9_02cba411ec9drow0_col12\" class=\"data row0 col12\" >0.0000%</td>\n",
       "                        <td id=\"T_6a3b8d0e_17c3_11ec_80d9_02cba411ec9drow0_col13\" class=\"data row0 col13\" >1.00</td>\n",
       "                        <td id=\"T_6a3b8d0e_17c3_11ec_80d9_02cba411ec9drow0_col14\" class=\"data row0 col14\" >LinAct360</td>\n",
       "            </tr>\n",
       "            <tr>\n",
       "                        <th id=\"T_6a3b8d0e_17c3_11ec_80d9_02cba411ec9dlevel0_row1\" class=\"row_heading level0 row1\" >1</th>\n",
       "                        <td id=\"T_6a3b8d0e_17c3_11ec_80d9_02cba411ec9drow1_col0\" class=\"data row1 col0\" >2020-02-12</td>\n",
       "                        <td id=\"T_6a3b8d0e_17c3_11ec_80d9_02cba411ec9drow1_col1\" class=\"data row1 col1\" >2020-05-12</td>\n",
       "                        <td id=\"T_6a3b8d0e_17c3_11ec_80d9_02cba411ec9drow1_col2\" class=\"data row1 col2\" >2020-02-10</td>\n",
       "                        <td id=\"T_6a3b8d0e_17c3_11ec_80d9_02cba411ec9drow1_col3\" class=\"data row1 col3\" >2020-05-12</td>\n",
       "                        <td id=\"T_6a3b8d0e_17c3_11ec_80d9_02cba411ec9drow1_col4\" class=\"data row1 col4\" >20,000,000.00</td>\n",
       "                        <td id=\"T_6a3b8d0e_17c3_11ec_80d9_02cba411ec9drow1_col5\" class=\"data row1 col5\" >0.00</td>\n",
       "                        <td id=\"T_6a3b8d0e_17c3_11ec_80d9_02cba411ec9drow1_col6\" class=\"data row1 col6\" >0.00</td>\n",
       "                        <td id=\"T_6a3b8d0e_17c3_11ec_80d9_02cba411ec9drow1_col7\" class=\"data row1 col7\" >True</td>\n",
       "                        <td id=\"T_6a3b8d0e_17c3_11ec_80d9_02cba411ec9drow1_col8\" class=\"data row1 col8\" >0.00</td>\n",
       "                        <td id=\"T_6a3b8d0e_17c3_11ec_80d9_02cba411ec9drow1_col9\" class=\"data row1 col9\" >USD</td>\n",
       "                        <td id=\"T_6a3b8d0e_17c3_11ec_80d9_02cba411ec9drow1_col10\" class=\"data row1 col10\" >LIBORUSD3M</td>\n",
       "                        <td id=\"T_6a3b8d0e_17c3_11ec_80d9_02cba411ec9drow1_col11\" class=\"data row1 col11\" >0.0000%</td>\n",
       "                        <td id=\"T_6a3b8d0e_17c3_11ec_80d9_02cba411ec9drow1_col12\" class=\"data row1 col12\" >0.0000%</td>\n",
       "                        <td id=\"T_6a3b8d0e_17c3_11ec_80d9_02cba411ec9drow1_col13\" class=\"data row1 col13\" >1.00</td>\n",
       "                        <td id=\"T_6a3b8d0e_17c3_11ec_80d9_02cba411ec9drow1_col14\" class=\"data row1 col14\" >LinAct360</td>\n",
       "            </tr>\n",
       "            <tr>\n",
       "                        <th id=\"T_6a3b8d0e_17c3_11ec_80d9_02cba411ec9dlevel0_row2\" class=\"row_heading level0 row2\" >2</th>\n",
       "                        <td id=\"T_6a3b8d0e_17c3_11ec_80d9_02cba411ec9drow2_col0\" class=\"data row2 col0\" >2020-05-12</td>\n",
       "                        <td id=\"T_6a3b8d0e_17c3_11ec_80d9_02cba411ec9drow2_col1\" class=\"data row2 col1\" >2020-08-12</td>\n",
       "                        <td id=\"T_6a3b8d0e_17c3_11ec_80d9_02cba411ec9drow2_col2\" class=\"data row2 col2\" >2020-05-08</td>\n",
       "                        <td id=\"T_6a3b8d0e_17c3_11ec_80d9_02cba411ec9drow2_col3\" class=\"data row2 col3\" >2020-08-12</td>\n",
       "                        <td id=\"T_6a3b8d0e_17c3_11ec_80d9_02cba411ec9drow2_col4\" class=\"data row2 col4\" >20,000,000.00</td>\n",
       "                        <td id=\"T_6a3b8d0e_17c3_11ec_80d9_02cba411ec9drow2_col5\" class=\"data row2 col5\" >0.00</td>\n",
       "                        <td id=\"T_6a3b8d0e_17c3_11ec_80d9_02cba411ec9drow2_col6\" class=\"data row2 col6\" >87,136.92</td>\n",
       "                        <td id=\"T_6a3b8d0e_17c3_11ec_80d9_02cba411ec9drow2_col7\" class=\"data row2 col7\" >True</td>\n",
       "                        <td id=\"T_6a3b8d0e_17c3_11ec_80d9_02cba411ec9drow2_col8\" class=\"data row2 col8\" >87,136.92</td>\n",
       "                        <td id=\"T_6a3b8d0e_17c3_11ec_80d9_02cba411ec9drow2_col9\" class=\"data row2 col9\" >USD</td>\n",
       "                        <td id=\"T_6a3b8d0e_17c3_11ec_80d9_02cba411ec9drow2_col10\" class=\"data row2 col10\" >LIBORUSD3M</td>\n",
       "                        <td id=\"T_6a3b8d0e_17c3_11ec_80d9_02cba411ec9drow2_col11\" class=\"data row2 col11\" >1.7049%</td>\n",
       "                        <td id=\"T_6a3b8d0e_17c3_11ec_80d9_02cba411ec9drow2_col12\" class=\"data row2 col12\" >0.0000%</td>\n",
       "                        <td id=\"T_6a3b8d0e_17c3_11ec_80d9_02cba411ec9drow2_col13\" class=\"data row2 col13\" >1.00</td>\n",
       "                        <td id=\"T_6a3b8d0e_17c3_11ec_80d9_02cba411ec9drow2_col14\" class=\"data row2 col14\" >LinAct360</td>\n",
       "            </tr>\n",
       "            <tr>\n",
       "                        <th id=\"T_6a3b8d0e_17c3_11ec_80d9_02cba411ec9dlevel0_row3\" class=\"row_heading level0 row3\" >3</th>\n",
       "                        <td id=\"T_6a3b8d0e_17c3_11ec_80d9_02cba411ec9drow3_col0\" class=\"data row3 col0\" >2020-08-12</td>\n",
       "                        <td id=\"T_6a3b8d0e_17c3_11ec_80d9_02cba411ec9drow3_col1\" class=\"data row3 col1\" >2020-11-12</td>\n",
       "                        <td id=\"T_6a3b8d0e_17c3_11ec_80d9_02cba411ec9drow3_col2\" class=\"data row3 col2\" >2020-08-10</td>\n",
       "                        <td id=\"T_6a3b8d0e_17c3_11ec_80d9_02cba411ec9drow3_col3\" class=\"data row3 col3\" >2020-11-12</td>\n",
       "                        <td id=\"T_6a3b8d0e_17c3_11ec_80d9_02cba411ec9drow3_col4\" class=\"data row3 col4\" >20,000,000.00</td>\n",
       "                        <td id=\"T_6a3b8d0e_17c3_11ec_80d9_02cba411ec9drow3_col5\" class=\"data row3 col5\" >20,000,000.00</td>\n",
       "                        <td id=\"T_6a3b8d0e_17c3_11ec_80d9_02cba411ec9drow3_col6\" class=\"data row3 col6\" >83,357.57</td>\n",
       "                        <td id=\"T_6a3b8d0e_17c3_11ec_80d9_02cba411ec9drow3_col7\" class=\"data row3 col7\" >True</td>\n",
       "                        <td id=\"T_6a3b8d0e_17c3_11ec_80d9_02cba411ec9drow3_col8\" class=\"data row3 col8\" >20,083,357.57</td>\n",
       "                        <td id=\"T_6a3b8d0e_17c3_11ec_80d9_02cba411ec9drow3_col9\" class=\"data row3 col9\" >USD</td>\n",
       "                        <td id=\"T_6a3b8d0e_17c3_11ec_80d9_02cba411ec9drow3_col10\" class=\"data row3 col10\" >LIBORUSD3M</td>\n",
       "                        <td id=\"T_6a3b8d0e_17c3_11ec_80d9_02cba411ec9drow3_col11\" class=\"data row3 col11\" >1.6309%</td>\n",
       "                        <td id=\"T_6a3b8d0e_17c3_11ec_80d9_02cba411ec9drow3_col12\" class=\"data row3 col12\" >0.0000%</td>\n",
       "                        <td id=\"T_6a3b8d0e_17c3_11ec_80d9_02cba411ec9drow3_col13\" class=\"data row3 col13\" >1.00</td>\n",
       "                        <td id=\"T_6a3b8d0e_17c3_11ec_80d9_02cba411ec9drow3_col14\" class=\"data row3 col14\" >LinAct360</td>\n",
       "            </tr>\n",
       "    </tbody></table>"
      ],
      "text/plain": [
       "<pandas.io.formats.style.Styler at 0x7f4ccc4edbe0>"
      ]
     },
     "execution_count": 72,
     "metadata": {},
     "output_type": "execute_result"
    }
   ],
   "source": [
    "# Se define un list donde almacenar los resultados de la función show\n",
    "tabla = []\n",
    "for i in range(0, ibor_leg.size()):\n",
    "    tabla.append(Qcf.show(ibor_leg.get_cashflow_at(i)))\n",
    "\n",
    "# Se utiliza tabla para inicializar el Dataframe\n",
    "columnas = ['fecha_inicial', 'fecha__final', 'fecha_fixing', 'fecha__pago', 'nominal', 'amort', 'interes', 'amort_es_flujo', 'flujo',\n",
    "            'moneda', 'codigo_indice', 'valor_tasa', 'spread', 'gearing', 'tipo_tasa']\n",
    "df5 = pd.DataFrame(tabla, columns=columnas)\n",
    "\n",
    "# Se despliega la data en este formato\n",
    "df5.style.format(format_dict)"
   ]
  },
  {
   "cell_type": "code",
   "execution_count": 73,
   "metadata": {
    "ExecuteTime": {
     "end_time": "2021-09-17T14:27:43.077555Z",
     "start_time": "2021-09-17T14:27:43.067843Z"
    }
   },
   "outputs": [
    {
     "name": "stdout",
     "output_type": "stream",
     "text": [
      "d1: -13\n",
      "d2: 77\n",
      "Factor forward: 100.4379%\n",
      "Tasa forward: 1.7517%\n",
      "Curve method 1.5288%\n"
     ]
    }
   ],
   "source": [
    "which_cashflow = 1\n",
    "d1 = fecha_hoy.day_diff(ibor_leg.get_cashflow_at(which_cashflow).get_start_date())\n",
    "d2 = fecha_hoy.day_diff(ibor_leg.get_cashflow_at(which_cashflow).get_end_date())\n",
    "print(\"d1: {0:,.0f}\".format(d1))\n",
    "print(\"d2: {0:,.0f}\".format(d2))\n",
    "crv = zz2\n",
    "w1 = 1 / crv.get_discount_factor_at(d1)\n",
    "w2 = 1 / crv.get_discount_factor_at(d2)\n",
    "print(\"Factor forward: {0:.4%}\".format(w2 / w1))\n",
    "print(\"Tasa forward: {0:.4%}\".format((w2 / w1 - 1) * 360 / (d2 - d1)))\n",
    "print(\"Curve method {0:.4%}\".format(crv.get_forward_rate_with_rate(libor_usd_3m.get_rate(), d1, d2)))"
   ]
  },
  {
   "cell_type": "code",
   "execution_count": 74,
   "metadata": {
    "ExecuteTime": {
     "end_time": "2021-09-17T14:27:44.080084Z",
     "start_time": "2021-09-17T14:27:44.076335Z"
    },
    "cell_style": "center"
   },
   "outputs": [
    {
     "name": "stdout",
     "output_type": "stream",
     "text": [
      "Valor presente pata IBOR: 19,923,850\n"
     ]
    }
   ],
   "source": [
    "vp_ibor = pv.pv(fecha_hoy, ibor_leg, zz2)\n",
    "print(\"Valor presente pata IBOR: {0:,.0f}\".format(vp_ibor))"
   ]
  },
  {
   "cell_type": "markdown",
   "metadata": {},
   "source": [
    "Es el mismo valor presente que la pata flotante de la operación 2879 en FD."
   ]
  },
  {
   "cell_type": "code",
   "execution_count": 75,
   "metadata": {
    "ExecuteTime": {
     "end_time": "2021-09-17T14:27:46.316977Z",
     "start_time": "2021-09-17T14:27:46.306553Z"
    }
   },
   "outputs": [
    {
     "name": "stdout",
     "output_type": "stream",
     "text": [
      "Sensibilidad en 0: 0\n",
      "Sensibilidad en 1: 0\n",
      "Sensibilidad en 2: 0\n",
      "Sensibilidad en 3: 0\n",
      "Sensibilidad en 4: 0\n",
      "Sensibilidad en 5: 0\n",
      "Sensibilidad en 6: 0\n",
      "Sensibilidad en 7: 0\n",
      "Sensibilidad en 8: -2\n",
      "Sensibilidad en 9: -2\n",
      "Sensibilidad en 10: 0\n",
      "Sensibilidad en 11: -666\n",
      "Sensibilidad en 12: -755\n",
      "Sensibilidad en 13: 0\n",
      "Sensibilidad en 14: 0\n",
      "Sensibilidad en 15: 0\n",
      "Sensibilidad en 16: 0\n",
      "Sensibilidad en 17: 0\n",
      "Sensibilidad en 18: 0\n",
      "Sensibilidad en 19: 0\n",
      "Sensibilidad en 20: 0\n",
      "Sensibilidad en 21: 0\n",
      "Sensibilidad en 22: 0\n",
      "Sensibilidad en 23: 0\n",
      "Sensibilidad en 24: 0\n",
      "Sensibilidad en 25: 0\n",
      "Sensibilidad en 26: 0\n",
      "Sensibilidad en 27: 0\n",
      "Sensibilidad de descuento: -1,425 USD\n"
     ]
    }
   ],
   "source": [
    "der = pv.get_derivatives()\n",
    "i = 0\n",
    "bp = .0001\n",
    "for d in der:\n",
    "    print(\"Sensibilidad en {0:}: {1:0,.0f}\".format(i, d * bp))\n",
    "    i += 1\n",
    "print(\"Sensibilidad de descuento: {0:,.0f} USD\".format(sum(der) * bp))"
   ]
  },
  {
   "cell_type": "markdown",
   "metadata": {},
   "source": [
    "#### Se verifica la sensibilidad de descuento por diferencias finitas."
   ]
  },
  {
   "cell_type": "code",
   "execution_count": 76,
   "metadata": {
    "ExecuteTime": {
     "end_time": "2021-09-17T14:27:48.409958Z",
     "start_time": "2021-09-17T14:27:48.403775Z"
    }
   },
   "outputs": [
    {
     "name": "stdout",
     "output_type": "stream",
     "text": [
      "Valor presente up pata IBOR: 19,923,850\n",
      "Valor presente down pata IBOR: 19,923,850\n",
      "Sensibilidad de descuento en el vértice 13: 0\n"
     ]
    }
   ],
   "source": [
    "vp_ibor_up = pv.pv(fecha_hoy, ibor_leg, zz2_sens_up)\n",
    "print(\"Valor presente up pata IBOR: {0:,.0f}\".format(vp_ibor_up))\n",
    "\n",
    "vp_ibor_down = pv.pv(fecha_hoy, ibor_leg, zz2_sens_down)\n",
    "print(\"Valor presente down pata IBOR: {0:,.0f}\".format(vp_ibor_down))\n",
    "\n",
    "print(\"Sensibilidad de descuento en el vértice {0:}: {1:,.0f}\".format(vertice, (vp_ibor_up - vp_ibor_down) / 2))"
   ]
  },
  {
   "cell_type": "markdown",
   "metadata": {},
   "source": [
    "Se calcula también la sensibilidad a la curva de proyección."
   ]
  },
  {
   "cell_type": "code",
   "execution_count": 77,
   "metadata": {
    "ExecuteTime": {
     "end_time": "2021-09-17T14:27:50.456638Z",
     "start_time": "2021-09-17T14:27:50.438679Z"
    }
   },
   "outputs": [
    {
     "name": "stdout",
     "output_type": "stream",
     "text": [
      "Sensibilidad en 0: 0\n",
      "Sensibilidad en 1: 0\n",
      "Sensibilidad en 2: 0\n",
      "Sensibilidad en 3: 0\n",
      "Sensibilidad en 4: 0\n",
      "Sensibilidad en 5: -192\n",
      "Sensibilidad en 6: -233\n",
      "Sensibilidad en 7: 0\n",
      "Sensibilidad en 8: 2\n",
      "Sensibilidad en 9: 2\n",
      "Sensibilidad en 10: 0\n",
      "Sensibilidad en 11: 666\n",
      "Sensibilidad en 12: 755\n",
      "Sensibilidad en 13: 0\n",
      "Sensibilidad en 14: 0\n",
      "Sensibilidad en 15: 0\n",
      "Sensibilidad en 16: 0\n",
      "Sensibilidad en 17: 0\n",
      "Sensibilidad en 18: 0\n",
      "Sensibilidad en 19: 0\n",
      "Sensibilidad en 20: 0\n",
      "Sensibilidad en 21: 0\n",
      "Sensibilidad en 22: 0\n",
      "Sensibilidad en 23: 0\n",
      "Sensibilidad en 24: 0\n",
      "Sensibilidad en 25: 0\n",
      "Sensibilidad en 26: 0\n",
      "Sensibilidad en 27: 0\n",
      "Sensibilidad de proyección: 1,000 USD\n"
     ]
    }
   ],
   "source": [
    "import numpy as np\n",
    "bp = .0001\n",
    "result = []\n",
    "\n",
    "for i in range(ibor_leg.size()):\n",
    "    cshflw = ibor_leg.get_cashflow_at(i)\n",
    "    df = zz2.get_discount_factor_at(fecha_hoy.day_diff(cshflw.get_settlement_date()))\n",
    "    amt_der = cshflw.get_amount_derivatives()\n",
    "    if len(amt_der) > 0:\n",
    "        amt_der = [a * bp * df for a in amt_der]\n",
    "        result.append(np.array(amt_der))\n",
    "\n",
    "total = result[0] * 0\n",
    "for r in result:\n",
    "    total += r\n",
    "\n",
    "for i in range(len(total)):\n",
    "    print(\"Sensibilidad en {0:}: {1:0,.0f}\".format(i, total[i]))\n",
    "\n",
    "print(\"Sensibilidad de proyección: {0:,.0f} USD\".format(sum(total)))"
   ]
  },
  {
   "cell_type": "markdown",
   "metadata": {},
   "source": [
    "#### Se verifica la sensibilidad de proyección por diferencias finitas."
   ]
  },
  {
   "cell_type": "code",
   "execution_count": 78,
   "metadata": {
    "ExecuteTime": {
     "end_time": "2021-09-17T14:27:53.380441Z",
     "start_time": "2021-09-17T14:27:53.372699Z"
    }
   },
   "outputs": [
    {
     "name": "stdout",
     "output_type": "stream",
     "text": [
      "Valor presente up pata IBOR: 19,923,850\n",
      "Valor presente down pata IBOR: 19,923,850\n",
      "Sensibilidad de proyección en el vértice 13: 0\n"
     ]
    }
   ],
   "source": [
    "fwd_rates.set_rates_ibor_leg(fecha_hoy, ibor_leg, zz2_sens_up)\n",
    "vp_ibor_up = pv.pv(fecha_hoy, ibor_leg, zz2)\n",
    "print(\"Valor presente up pata IBOR: {0:,.0f}\".format(vp_ibor_up))\n",
    "\n",
    "fwd_rates.set_rates_ibor_leg(fecha_hoy, ibor_leg, zz2_sens_down)\n",
    "vp_ibor_down = pv.pv(fecha_hoy, ibor_leg, zz2)\n",
    "print(\"Valor presente down pata IBOR: {0:,.0f}\".format(vp_ibor_down))\n",
    "\n",
    "print(\"Sensibilidad de proyección en el vértice {0:}: {1:,.0f}\".format(vertice, (vp_ibor_up - vp_ibor_down) / 2))"
   ]
  },
  {
   "cell_type": "markdown",
   "metadata": {},
   "source": [
    "### IcpClfCashflow Leg"
   ]
  },
  {
   "cell_type": "code",
   "execution_count": 79,
   "metadata": {
    "ExecuteTime": {
     "end_time": "2021-09-17T14:27:54.789250Z",
     "start_time": "2021-09-17T14:27:54.768925Z"
    }
   },
   "outputs": [],
   "source": [
    "# Se da de alta los parámetros requeridos\n",
    "rp = Qcf.RecPay.RECEIVE\n",
    "fecha_inicio = Qcf.QCDate(31, 5, 2018)\n",
    "fecha_final = Qcf.QCDate(9, 5, 2026) \n",
    "bus_adj_rule = Qcf.BusyAdjRules.FOLLOW\n",
    "periodicidad_pago = Qcf.Tenor('6M')\n",
    "periodo_irregular_pago = Qcf.StubPeriod.SHORTFRONT\n",
    "calendario = Qcf.BusinessCalendar(fecha_inicio, 20)\n",
    "lag_pago = 0\n",
    "nominal = 600000.0\n",
    "amort_es_flujo = True \n",
    "spread = .0\n",
    "gearing = 1.0\n",
    "\n",
    "icp_clf_leg = Qcf.LegFactory.build_bullet_icp_clf_leg(rp, fecha_inicio, fecha_final, bus_adj_rule, periodicidad_pago,\n",
    "                                                     periodo_irregular_pago, calendario, lag_pago,\n",
    "                                                     nominal, amort_es_flujo, spread, gearing)"
   ]
  },
  {
   "cell_type": "code",
   "execution_count": 80,
   "metadata": {
    "ExecuteTime": {
     "end_time": "2021-09-17T14:27:56.412573Z",
     "start_time": "2021-09-17T14:27:56.386353Z"
    }
   },
   "outputs": [
    {
     "data": {
      "text/html": [
       "<style  type=\"text/css\" >\n",
       "</style><table id=\"T_7368f1c8_17c3_11ec_80d9_02cba411ec9d\" ><thead>    <tr>        <th class=\"blank level0\" ></th>        <th class=\"col_heading level0 col0\" >fecha_inicial</th>        <th class=\"col_heading level0 col1\" >fecha__final</th>        <th class=\"col_heading level0 col2\" >fecha__pago</th>        <th class=\"col_heading level0 col3\" >nominal</th>        <th class=\"col_heading level0 col4\" >amort</th>        <th class=\"col_heading level0 col5\" >amort_es_flujo</th>        <th class=\"col_heading level0 col6\" >flujo</th>        <th class=\"col_heading level0 col7\" >moneda</th>        <th class=\"col_heading level0 col8\" >icp_inicial</th>        <th class=\"col_heading level0 col9\" >icp_final</th>        <th class=\"col_heading level0 col10\" >uf_inicial</th>        <th class=\"col_heading level0 col11\" >uf_final</th>        <th class=\"col_heading level0 col12\" >valor_tasa</th>        <th class=\"col_heading level0 col13\" >interes</th>        <th class=\"col_heading level0 col14\" >spread</th>        <th class=\"col_heading level0 col15\" >gearing</th>        <th class=\"col_heading level0 col16\" >tipo_tasa</th>    </tr></thead><tbody>\n",
       "                <tr>\n",
       "                        <th id=\"T_7368f1c8_17c3_11ec_80d9_02cba411ec9dlevel0_row0\" class=\"row_heading level0 row0\" >0</th>\n",
       "                        <td id=\"T_7368f1c8_17c3_11ec_80d9_02cba411ec9drow0_col0\" class=\"data row0 col0\" >2018-05-31</td>\n",
       "                        <td id=\"T_7368f1c8_17c3_11ec_80d9_02cba411ec9drow0_col1\" class=\"data row0 col1\" >2018-11-09</td>\n",
       "                        <td id=\"T_7368f1c8_17c3_11ec_80d9_02cba411ec9drow0_col2\" class=\"data row0 col2\" >2018-11-09</td>\n",
       "                        <td id=\"T_7368f1c8_17c3_11ec_80d9_02cba411ec9drow0_col3\" class=\"data row0 col3\" >600,000.00</td>\n",
       "                        <td id=\"T_7368f1c8_17c3_11ec_80d9_02cba411ec9drow0_col4\" class=\"data row0 col4\" >0.00</td>\n",
       "                        <td id=\"T_7368f1c8_17c3_11ec_80d9_02cba411ec9drow0_col5\" class=\"data row0 col5\" >True</td>\n",
       "                        <td id=\"T_7368f1c8_17c3_11ec_80d9_02cba411ec9drow0_col6\" class=\"data row0 col6\" >0.00</td>\n",
       "                        <td id=\"T_7368f1c8_17c3_11ec_80d9_02cba411ec9drow0_col7\" class=\"data row0 col7\" >CLF</td>\n",
       "                        <td id=\"T_7368f1c8_17c3_11ec_80d9_02cba411ec9drow0_col8\" class=\"data row0 col8\" >10,000.00</td>\n",
       "                        <td id=\"T_7368f1c8_17c3_11ec_80d9_02cba411ec9drow0_col9\" class=\"data row0 col9\" >10,000.00</td>\n",
       "                        <td id=\"T_7368f1c8_17c3_11ec_80d9_02cba411ec9drow0_col10\" class=\"data row0 col10\" >27,000.00</td>\n",
       "                        <td id=\"T_7368f1c8_17c3_11ec_80d9_02cba411ec9drow0_col11\" class=\"data row0 col11\" >27,000.00</td>\n",
       "                        <td id=\"T_7368f1c8_17c3_11ec_80d9_02cba411ec9drow0_col12\" class=\"data row0 col12\" >0.0000%</td>\n",
       "                        <td id=\"T_7368f1c8_17c3_11ec_80d9_02cba411ec9drow0_col13\" class=\"data row0 col13\" >0.00</td>\n",
       "                        <td id=\"T_7368f1c8_17c3_11ec_80d9_02cba411ec9drow0_col14\" class=\"data row0 col14\" >0.0000%</td>\n",
       "                        <td id=\"T_7368f1c8_17c3_11ec_80d9_02cba411ec9drow0_col15\" class=\"data row0 col15\" >1.00</td>\n",
       "                        <td id=\"T_7368f1c8_17c3_11ec_80d9_02cba411ec9drow0_col16\" class=\"data row0 col16\" >LinAct360</td>\n",
       "            </tr>\n",
       "            <tr>\n",
       "                        <th id=\"T_7368f1c8_17c3_11ec_80d9_02cba411ec9dlevel0_row1\" class=\"row_heading level0 row1\" >1</th>\n",
       "                        <td id=\"T_7368f1c8_17c3_11ec_80d9_02cba411ec9drow1_col0\" class=\"data row1 col0\" >2018-11-09</td>\n",
       "                        <td id=\"T_7368f1c8_17c3_11ec_80d9_02cba411ec9drow1_col1\" class=\"data row1 col1\" >2019-05-09</td>\n",
       "                        <td id=\"T_7368f1c8_17c3_11ec_80d9_02cba411ec9drow1_col2\" class=\"data row1 col2\" >2019-05-09</td>\n",
       "                        <td id=\"T_7368f1c8_17c3_11ec_80d9_02cba411ec9drow1_col3\" class=\"data row1 col3\" >600,000.00</td>\n",
       "                        <td id=\"T_7368f1c8_17c3_11ec_80d9_02cba411ec9drow1_col4\" class=\"data row1 col4\" >0.00</td>\n",
       "                        <td id=\"T_7368f1c8_17c3_11ec_80d9_02cba411ec9drow1_col5\" class=\"data row1 col5\" >True</td>\n",
       "                        <td id=\"T_7368f1c8_17c3_11ec_80d9_02cba411ec9drow1_col6\" class=\"data row1 col6\" >0.00</td>\n",
       "                        <td id=\"T_7368f1c8_17c3_11ec_80d9_02cba411ec9drow1_col7\" class=\"data row1 col7\" >CLF</td>\n",
       "                        <td id=\"T_7368f1c8_17c3_11ec_80d9_02cba411ec9drow1_col8\" class=\"data row1 col8\" >10,000.00</td>\n",
       "                        <td id=\"T_7368f1c8_17c3_11ec_80d9_02cba411ec9drow1_col9\" class=\"data row1 col9\" >10,000.00</td>\n",
       "                        <td id=\"T_7368f1c8_17c3_11ec_80d9_02cba411ec9drow1_col10\" class=\"data row1 col10\" >27,000.00</td>\n",
       "                        <td id=\"T_7368f1c8_17c3_11ec_80d9_02cba411ec9drow1_col11\" class=\"data row1 col11\" >27,000.00</td>\n",
       "                        <td id=\"T_7368f1c8_17c3_11ec_80d9_02cba411ec9drow1_col12\" class=\"data row1 col12\" >0.0000%</td>\n",
       "                        <td id=\"T_7368f1c8_17c3_11ec_80d9_02cba411ec9drow1_col13\" class=\"data row1 col13\" >0.00</td>\n",
       "                        <td id=\"T_7368f1c8_17c3_11ec_80d9_02cba411ec9drow1_col14\" class=\"data row1 col14\" >0.0000%</td>\n",
       "                        <td id=\"T_7368f1c8_17c3_11ec_80d9_02cba411ec9drow1_col15\" class=\"data row1 col15\" >1.00</td>\n",
       "                        <td id=\"T_7368f1c8_17c3_11ec_80d9_02cba411ec9drow1_col16\" class=\"data row1 col16\" >LinAct360</td>\n",
       "            </tr>\n",
       "            <tr>\n",
       "                        <th id=\"T_7368f1c8_17c3_11ec_80d9_02cba411ec9dlevel0_row2\" class=\"row_heading level0 row2\" >2</th>\n",
       "                        <td id=\"T_7368f1c8_17c3_11ec_80d9_02cba411ec9drow2_col0\" class=\"data row2 col0\" >2019-05-09</td>\n",
       "                        <td id=\"T_7368f1c8_17c3_11ec_80d9_02cba411ec9drow2_col1\" class=\"data row2 col1\" >2019-11-11</td>\n",
       "                        <td id=\"T_7368f1c8_17c3_11ec_80d9_02cba411ec9drow2_col2\" class=\"data row2 col2\" >2019-11-11</td>\n",
       "                        <td id=\"T_7368f1c8_17c3_11ec_80d9_02cba411ec9drow2_col3\" class=\"data row2 col3\" >600,000.00</td>\n",
       "                        <td id=\"T_7368f1c8_17c3_11ec_80d9_02cba411ec9drow2_col4\" class=\"data row2 col4\" >0.00</td>\n",
       "                        <td id=\"T_7368f1c8_17c3_11ec_80d9_02cba411ec9drow2_col5\" class=\"data row2 col5\" >True</td>\n",
       "                        <td id=\"T_7368f1c8_17c3_11ec_80d9_02cba411ec9drow2_col6\" class=\"data row2 col6\" >0.00</td>\n",
       "                        <td id=\"T_7368f1c8_17c3_11ec_80d9_02cba411ec9drow2_col7\" class=\"data row2 col7\" >CLF</td>\n",
       "                        <td id=\"T_7368f1c8_17c3_11ec_80d9_02cba411ec9drow2_col8\" class=\"data row2 col8\" >10,000.00</td>\n",
       "                        <td id=\"T_7368f1c8_17c3_11ec_80d9_02cba411ec9drow2_col9\" class=\"data row2 col9\" >10,000.00</td>\n",
       "                        <td id=\"T_7368f1c8_17c3_11ec_80d9_02cba411ec9drow2_col10\" class=\"data row2 col10\" >27,000.00</td>\n",
       "                        <td id=\"T_7368f1c8_17c3_11ec_80d9_02cba411ec9drow2_col11\" class=\"data row2 col11\" >27,000.00</td>\n",
       "                        <td id=\"T_7368f1c8_17c3_11ec_80d9_02cba411ec9drow2_col12\" class=\"data row2 col12\" >0.0000%</td>\n",
       "                        <td id=\"T_7368f1c8_17c3_11ec_80d9_02cba411ec9drow2_col13\" class=\"data row2 col13\" >0.00</td>\n",
       "                        <td id=\"T_7368f1c8_17c3_11ec_80d9_02cba411ec9drow2_col14\" class=\"data row2 col14\" >0.0000%</td>\n",
       "                        <td id=\"T_7368f1c8_17c3_11ec_80d9_02cba411ec9drow2_col15\" class=\"data row2 col15\" >1.00</td>\n",
       "                        <td id=\"T_7368f1c8_17c3_11ec_80d9_02cba411ec9drow2_col16\" class=\"data row2 col16\" >LinAct360</td>\n",
       "            </tr>\n",
       "            <tr>\n",
       "                        <th id=\"T_7368f1c8_17c3_11ec_80d9_02cba411ec9dlevel0_row3\" class=\"row_heading level0 row3\" >3</th>\n",
       "                        <td id=\"T_7368f1c8_17c3_11ec_80d9_02cba411ec9drow3_col0\" class=\"data row3 col0\" >2019-11-11</td>\n",
       "                        <td id=\"T_7368f1c8_17c3_11ec_80d9_02cba411ec9drow3_col1\" class=\"data row3 col1\" >2020-05-11</td>\n",
       "                        <td id=\"T_7368f1c8_17c3_11ec_80d9_02cba411ec9drow3_col2\" class=\"data row3 col2\" >2020-05-11</td>\n",
       "                        <td id=\"T_7368f1c8_17c3_11ec_80d9_02cba411ec9drow3_col3\" class=\"data row3 col3\" >600,000.00</td>\n",
       "                        <td id=\"T_7368f1c8_17c3_11ec_80d9_02cba411ec9drow3_col4\" class=\"data row3 col4\" >0.00</td>\n",
       "                        <td id=\"T_7368f1c8_17c3_11ec_80d9_02cba411ec9drow3_col5\" class=\"data row3 col5\" >True</td>\n",
       "                        <td id=\"T_7368f1c8_17c3_11ec_80d9_02cba411ec9drow3_col6\" class=\"data row3 col6\" >0.00</td>\n",
       "                        <td id=\"T_7368f1c8_17c3_11ec_80d9_02cba411ec9drow3_col7\" class=\"data row3 col7\" >CLF</td>\n",
       "                        <td id=\"T_7368f1c8_17c3_11ec_80d9_02cba411ec9drow3_col8\" class=\"data row3 col8\" >10,000.00</td>\n",
       "                        <td id=\"T_7368f1c8_17c3_11ec_80d9_02cba411ec9drow3_col9\" class=\"data row3 col9\" >10,000.00</td>\n",
       "                        <td id=\"T_7368f1c8_17c3_11ec_80d9_02cba411ec9drow3_col10\" class=\"data row3 col10\" >27,000.00</td>\n",
       "                        <td id=\"T_7368f1c8_17c3_11ec_80d9_02cba411ec9drow3_col11\" class=\"data row3 col11\" >27,000.00</td>\n",
       "                        <td id=\"T_7368f1c8_17c3_11ec_80d9_02cba411ec9drow3_col12\" class=\"data row3 col12\" >0.0000%</td>\n",
       "                        <td id=\"T_7368f1c8_17c3_11ec_80d9_02cba411ec9drow3_col13\" class=\"data row3 col13\" >0.00</td>\n",
       "                        <td id=\"T_7368f1c8_17c3_11ec_80d9_02cba411ec9drow3_col14\" class=\"data row3 col14\" >0.0000%</td>\n",
       "                        <td id=\"T_7368f1c8_17c3_11ec_80d9_02cba411ec9drow3_col15\" class=\"data row3 col15\" >1.00</td>\n",
       "                        <td id=\"T_7368f1c8_17c3_11ec_80d9_02cba411ec9drow3_col16\" class=\"data row3 col16\" >LinAct360</td>\n",
       "            </tr>\n",
       "            <tr>\n",
       "                        <th id=\"T_7368f1c8_17c3_11ec_80d9_02cba411ec9dlevel0_row4\" class=\"row_heading level0 row4\" >4</th>\n",
       "                        <td id=\"T_7368f1c8_17c3_11ec_80d9_02cba411ec9drow4_col0\" class=\"data row4 col0\" >2020-05-11</td>\n",
       "                        <td id=\"T_7368f1c8_17c3_11ec_80d9_02cba411ec9drow4_col1\" class=\"data row4 col1\" >2020-11-09</td>\n",
       "                        <td id=\"T_7368f1c8_17c3_11ec_80d9_02cba411ec9drow4_col2\" class=\"data row4 col2\" >2020-11-09</td>\n",
       "                        <td id=\"T_7368f1c8_17c3_11ec_80d9_02cba411ec9drow4_col3\" class=\"data row4 col3\" >600,000.00</td>\n",
       "                        <td id=\"T_7368f1c8_17c3_11ec_80d9_02cba411ec9drow4_col4\" class=\"data row4 col4\" >0.00</td>\n",
       "                        <td id=\"T_7368f1c8_17c3_11ec_80d9_02cba411ec9drow4_col5\" class=\"data row4 col5\" >True</td>\n",
       "                        <td id=\"T_7368f1c8_17c3_11ec_80d9_02cba411ec9drow4_col6\" class=\"data row4 col6\" >0.00</td>\n",
       "                        <td id=\"T_7368f1c8_17c3_11ec_80d9_02cba411ec9drow4_col7\" class=\"data row4 col7\" >CLF</td>\n",
       "                        <td id=\"T_7368f1c8_17c3_11ec_80d9_02cba411ec9drow4_col8\" class=\"data row4 col8\" >10,000.00</td>\n",
       "                        <td id=\"T_7368f1c8_17c3_11ec_80d9_02cba411ec9drow4_col9\" class=\"data row4 col9\" >10,000.00</td>\n",
       "                        <td id=\"T_7368f1c8_17c3_11ec_80d9_02cba411ec9drow4_col10\" class=\"data row4 col10\" >27,000.00</td>\n",
       "                        <td id=\"T_7368f1c8_17c3_11ec_80d9_02cba411ec9drow4_col11\" class=\"data row4 col11\" >27,000.00</td>\n",
       "                        <td id=\"T_7368f1c8_17c3_11ec_80d9_02cba411ec9drow4_col12\" class=\"data row4 col12\" >0.0000%</td>\n",
       "                        <td id=\"T_7368f1c8_17c3_11ec_80d9_02cba411ec9drow4_col13\" class=\"data row4 col13\" >0.00</td>\n",
       "                        <td id=\"T_7368f1c8_17c3_11ec_80d9_02cba411ec9drow4_col14\" class=\"data row4 col14\" >0.0000%</td>\n",
       "                        <td id=\"T_7368f1c8_17c3_11ec_80d9_02cba411ec9drow4_col15\" class=\"data row4 col15\" >1.00</td>\n",
       "                        <td id=\"T_7368f1c8_17c3_11ec_80d9_02cba411ec9drow4_col16\" class=\"data row4 col16\" >LinAct360</td>\n",
       "            </tr>\n",
       "            <tr>\n",
       "                        <th id=\"T_7368f1c8_17c3_11ec_80d9_02cba411ec9dlevel0_row5\" class=\"row_heading level0 row5\" >5</th>\n",
       "                        <td id=\"T_7368f1c8_17c3_11ec_80d9_02cba411ec9drow5_col0\" class=\"data row5 col0\" >2020-11-09</td>\n",
       "                        <td id=\"T_7368f1c8_17c3_11ec_80d9_02cba411ec9drow5_col1\" class=\"data row5 col1\" >2021-05-10</td>\n",
       "                        <td id=\"T_7368f1c8_17c3_11ec_80d9_02cba411ec9drow5_col2\" class=\"data row5 col2\" >2021-05-10</td>\n",
       "                        <td id=\"T_7368f1c8_17c3_11ec_80d9_02cba411ec9drow5_col3\" class=\"data row5 col3\" >600,000.00</td>\n",
       "                        <td id=\"T_7368f1c8_17c3_11ec_80d9_02cba411ec9drow5_col4\" class=\"data row5 col4\" >0.00</td>\n",
       "                        <td id=\"T_7368f1c8_17c3_11ec_80d9_02cba411ec9drow5_col5\" class=\"data row5 col5\" >True</td>\n",
       "                        <td id=\"T_7368f1c8_17c3_11ec_80d9_02cba411ec9drow5_col6\" class=\"data row5 col6\" >0.00</td>\n",
       "                        <td id=\"T_7368f1c8_17c3_11ec_80d9_02cba411ec9drow5_col7\" class=\"data row5 col7\" >CLF</td>\n",
       "                        <td id=\"T_7368f1c8_17c3_11ec_80d9_02cba411ec9drow5_col8\" class=\"data row5 col8\" >10,000.00</td>\n",
       "                        <td id=\"T_7368f1c8_17c3_11ec_80d9_02cba411ec9drow5_col9\" class=\"data row5 col9\" >10,000.00</td>\n",
       "                        <td id=\"T_7368f1c8_17c3_11ec_80d9_02cba411ec9drow5_col10\" class=\"data row5 col10\" >27,000.00</td>\n",
       "                        <td id=\"T_7368f1c8_17c3_11ec_80d9_02cba411ec9drow5_col11\" class=\"data row5 col11\" >27,000.00</td>\n",
       "                        <td id=\"T_7368f1c8_17c3_11ec_80d9_02cba411ec9drow5_col12\" class=\"data row5 col12\" >0.0000%</td>\n",
       "                        <td id=\"T_7368f1c8_17c3_11ec_80d9_02cba411ec9drow5_col13\" class=\"data row5 col13\" >0.00</td>\n",
       "                        <td id=\"T_7368f1c8_17c3_11ec_80d9_02cba411ec9drow5_col14\" class=\"data row5 col14\" >0.0000%</td>\n",
       "                        <td id=\"T_7368f1c8_17c3_11ec_80d9_02cba411ec9drow5_col15\" class=\"data row5 col15\" >1.00</td>\n",
       "                        <td id=\"T_7368f1c8_17c3_11ec_80d9_02cba411ec9drow5_col16\" class=\"data row5 col16\" >LinAct360</td>\n",
       "            </tr>\n",
       "            <tr>\n",
       "                        <th id=\"T_7368f1c8_17c3_11ec_80d9_02cba411ec9dlevel0_row6\" class=\"row_heading level0 row6\" >6</th>\n",
       "                        <td id=\"T_7368f1c8_17c3_11ec_80d9_02cba411ec9drow6_col0\" class=\"data row6 col0\" >2021-05-10</td>\n",
       "                        <td id=\"T_7368f1c8_17c3_11ec_80d9_02cba411ec9drow6_col1\" class=\"data row6 col1\" >2021-11-09</td>\n",
       "                        <td id=\"T_7368f1c8_17c3_11ec_80d9_02cba411ec9drow6_col2\" class=\"data row6 col2\" >2021-11-09</td>\n",
       "                        <td id=\"T_7368f1c8_17c3_11ec_80d9_02cba411ec9drow6_col3\" class=\"data row6 col3\" >600,000.00</td>\n",
       "                        <td id=\"T_7368f1c8_17c3_11ec_80d9_02cba411ec9drow6_col4\" class=\"data row6 col4\" >0.00</td>\n",
       "                        <td id=\"T_7368f1c8_17c3_11ec_80d9_02cba411ec9drow6_col5\" class=\"data row6 col5\" >True</td>\n",
       "                        <td id=\"T_7368f1c8_17c3_11ec_80d9_02cba411ec9drow6_col6\" class=\"data row6 col6\" >0.00</td>\n",
       "                        <td id=\"T_7368f1c8_17c3_11ec_80d9_02cba411ec9drow6_col7\" class=\"data row6 col7\" >CLF</td>\n",
       "                        <td id=\"T_7368f1c8_17c3_11ec_80d9_02cba411ec9drow6_col8\" class=\"data row6 col8\" >10,000.00</td>\n",
       "                        <td id=\"T_7368f1c8_17c3_11ec_80d9_02cba411ec9drow6_col9\" class=\"data row6 col9\" >10,000.00</td>\n",
       "                        <td id=\"T_7368f1c8_17c3_11ec_80d9_02cba411ec9drow6_col10\" class=\"data row6 col10\" >27,000.00</td>\n",
       "                        <td id=\"T_7368f1c8_17c3_11ec_80d9_02cba411ec9drow6_col11\" class=\"data row6 col11\" >27,000.00</td>\n",
       "                        <td id=\"T_7368f1c8_17c3_11ec_80d9_02cba411ec9drow6_col12\" class=\"data row6 col12\" >0.0000%</td>\n",
       "                        <td id=\"T_7368f1c8_17c3_11ec_80d9_02cba411ec9drow6_col13\" class=\"data row6 col13\" >0.00</td>\n",
       "                        <td id=\"T_7368f1c8_17c3_11ec_80d9_02cba411ec9drow6_col14\" class=\"data row6 col14\" >0.0000%</td>\n",
       "                        <td id=\"T_7368f1c8_17c3_11ec_80d9_02cba411ec9drow6_col15\" class=\"data row6 col15\" >1.00</td>\n",
       "                        <td id=\"T_7368f1c8_17c3_11ec_80d9_02cba411ec9drow6_col16\" class=\"data row6 col16\" >LinAct360</td>\n",
       "            </tr>\n",
       "            <tr>\n",
       "                        <th id=\"T_7368f1c8_17c3_11ec_80d9_02cba411ec9dlevel0_row7\" class=\"row_heading level0 row7\" >7</th>\n",
       "                        <td id=\"T_7368f1c8_17c3_11ec_80d9_02cba411ec9drow7_col0\" class=\"data row7 col0\" >2021-11-09</td>\n",
       "                        <td id=\"T_7368f1c8_17c3_11ec_80d9_02cba411ec9drow7_col1\" class=\"data row7 col1\" >2022-05-09</td>\n",
       "                        <td id=\"T_7368f1c8_17c3_11ec_80d9_02cba411ec9drow7_col2\" class=\"data row7 col2\" >2022-05-09</td>\n",
       "                        <td id=\"T_7368f1c8_17c3_11ec_80d9_02cba411ec9drow7_col3\" class=\"data row7 col3\" >600,000.00</td>\n",
       "                        <td id=\"T_7368f1c8_17c3_11ec_80d9_02cba411ec9drow7_col4\" class=\"data row7 col4\" >0.00</td>\n",
       "                        <td id=\"T_7368f1c8_17c3_11ec_80d9_02cba411ec9drow7_col5\" class=\"data row7 col5\" >True</td>\n",
       "                        <td id=\"T_7368f1c8_17c3_11ec_80d9_02cba411ec9drow7_col6\" class=\"data row7 col6\" >0.00</td>\n",
       "                        <td id=\"T_7368f1c8_17c3_11ec_80d9_02cba411ec9drow7_col7\" class=\"data row7 col7\" >CLF</td>\n",
       "                        <td id=\"T_7368f1c8_17c3_11ec_80d9_02cba411ec9drow7_col8\" class=\"data row7 col8\" >10,000.00</td>\n",
       "                        <td id=\"T_7368f1c8_17c3_11ec_80d9_02cba411ec9drow7_col9\" class=\"data row7 col9\" >10,000.00</td>\n",
       "                        <td id=\"T_7368f1c8_17c3_11ec_80d9_02cba411ec9drow7_col10\" class=\"data row7 col10\" >27,000.00</td>\n",
       "                        <td id=\"T_7368f1c8_17c3_11ec_80d9_02cba411ec9drow7_col11\" class=\"data row7 col11\" >27,000.00</td>\n",
       "                        <td id=\"T_7368f1c8_17c3_11ec_80d9_02cba411ec9drow7_col12\" class=\"data row7 col12\" >0.0000%</td>\n",
       "                        <td id=\"T_7368f1c8_17c3_11ec_80d9_02cba411ec9drow7_col13\" class=\"data row7 col13\" >0.00</td>\n",
       "                        <td id=\"T_7368f1c8_17c3_11ec_80d9_02cba411ec9drow7_col14\" class=\"data row7 col14\" >0.0000%</td>\n",
       "                        <td id=\"T_7368f1c8_17c3_11ec_80d9_02cba411ec9drow7_col15\" class=\"data row7 col15\" >1.00</td>\n",
       "                        <td id=\"T_7368f1c8_17c3_11ec_80d9_02cba411ec9drow7_col16\" class=\"data row7 col16\" >LinAct360</td>\n",
       "            </tr>\n",
       "            <tr>\n",
       "                        <th id=\"T_7368f1c8_17c3_11ec_80d9_02cba411ec9dlevel0_row8\" class=\"row_heading level0 row8\" >8</th>\n",
       "                        <td id=\"T_7368f1c8_17c3_11ec_80d9_02cba411ec9drow8_col0\" class=\"data row8 col0\" >2022-05-09</td>\n",
       "                        <td id=\"T_7368f1c8_17c3_11ec_80d9_02cba411ec9drow8_col1\" class=\"data row8 col1\" >2022-11-09</td>\n",
       "                        <td id=\"T_7368f1c8_17c3_11ec_80d9_02cba411ec9drow8_col2\" class=\"data row8 col2\" >2022-11-09</td>\n",
       "                        <td id=\"T_7368f1c8_17c3_11ec_80d9_02cba411ec9drow8_col3\" class=\"data row8 col3\" >600,000.00</td>\n",
       "                        <td id=\"T_7368f1c8_17c3_11ec_80d9_02cba411ec9drow8_col4\" class=\"data row8 col4\" >0.00</td>\n",
       "                        <td id=\"T_7368f1c8_17c3_11ec_80d9_02cba411ec9drow8_col5\" class=\"data row8 col5\" >True</td>\n",
       "                        <td id=\"T_7368f1c8_17c3_11ec_80d9_02cba411ec9drow8_col6\" class=\"data row8 col6\" >0.00</td>\n",
       "                        <td id=\"T_7368f1c8_17c3_11ec_80d9_02cba411ec9drow8_col7\" class=\"data row8 col7\" >CLF</td>\n",
       "                        <td id=\"T_7368f1c8_17c3_11ec_80d9_02cba411ec9drow8_col8\" class=\"data row8 col8\" >10,000.00</td>\n",
       "                        <td id=\"T_7368f1c8_17c3_11ec_80d9_02cba411ec9drow8_col9\" class=\"data row8 col9\" >10,000.00</td>\n",
       "                        <td id=\"T_7368f1c8_17c3_11ec_80d9_02cba411ec9drow8_col10\" class=\"data row8 col10\" >27,000.00</td>\n",
       "                        <td id=\"T_7368f1c8_17c3_11ec_80d9_02cba411ec9drow8_col11\" class=\"data row8 col11\" >27,000.00</td>\n",
       "                        <td id=\"T_7368f1c8_17c3_11ec_80d9_02cba411ec9drow8_col12\" class=\"data row8 col12\" >0.0000%</td>\n",
       "                        <td id=\"T_7368f1c8_17c3_11ec_80d9_02cba411ec9drow8_col13\" class=\"data row8 col13\" >0.00</td>\n",
       "                        <td id=\"T_7368f1c8_17c3_11ec_80d9_02cba411ec9drow8_col14\" class=\"data row8 col14\" >0.0000%</td>\n",
       "                        <td id=\"T_7368f1c8_17c3_11ec_80d9_02cba411ec9drow8_col15\" class=\"data row8 col15\" >1.00</td>\n",
       "                        <td id=\"T_7368f1c8_17c3_11ec_80d9_02cba411ec9drow8_col16\" class=\"data row8 col16\" >LinAct360</td>\n",
       "            </tr>\n",
       "            <tr>\n",
       "                        <th id=\"T_7368f1c8_17c3_11ec_80d9_02cba411ec9dlevel0_row9\" class=\"row_heading level0 row9\" >9</th>\n",
       "                        <td id=\"T_7368f1c8_17c3_11ec_80d9_02cba411ec9drow9_col0\" class=\"data row9 col0\" >2022-11-09</td>\n",
       "                        <td id=\"T_7368f1c8_17c3_11ec_80d9_02cba411ec9drow9_col1\" class=\"data row9 col1\" >2023-05-09</td>\n",
       "                        <td id=\"T_7368f1c8_17c3_11ec_80d9_02cba411ec9drow9_col2\" class=\"data row9 col2\" >2023-05-09</td>\n",
       "                        <td id=\"T_7368f1c8_17c3_11ec_80d9_02cba411ec9drow9_col3\" class=\"data row9 col3\" >600,000.00</td>\n",
       "                        <td id=\"T_7368f1c8_17c3_11ec_80d9_02cba411ec9drow9_col4\" class=\"data row9 col4\" >0.00</td>\n",
       "                        <td id=\"T_7368f1c8_17c3_11ec_80d9_02cba411ec9drow9_col5\" class=\"data row9 col5\" >True</td>\n",
       "                        <td id=\"T_7368f1c8_17c3_11ec_80d9_02cba411ec9drow9_col6\" class=\"data row9 col6\" >0.00</td>\n",
       "                        <td id=\"T_7368f1c8_17c3_11ec_80d9_02cba411ec9drow9_col7\" class=\"data row9 col7\" >CLF</td>\n",
       "                        <td id=\"T_7368f1c8_17c3_11ec_80d9_02cba411ec9drow9_col8\" class=\"data row9 col8\" >10,000.00</td>\n",
       "                        <td id=\"T_7368f1c8_17c3_11ec_80d9_02cba411ec9drow9_col9\" class=\"data row9 col9\" >10,000.00</td>\n",
       "                        <td id=\"T_7368f1c8_17c3_11ec_80d9_02cba411ec9drow9_col10\" class=\"data row9 col10\" >27,000.00</td>\n",
       "                        <td id=\"T_7368f1c8_17c3_11ec_80d9_02cba411ec9drow9_col11\" class=\"data row9 col11\" >27,000.00</td>\n",
       "                        <td id=\"T_7368f1c8_17c3_11ec_80d9_02cba411ec9drow9_col12\" class=\"data row9 col12\" >0.0000%</td>\n",
       "                        <td id=\"T_7368f1c8_17c3_11ec_80d9_02cba411ec9drow9_col13\" class=\"data row9 col13\" >0.00</td>\n",
       "                        <td id=\"T_7368f1c8_17c3_11ec_80d9_02cba411ec9drow9_col14\" class=\"data row9 col14\" >0.0000%</td>\n",
       "                        <td id=\"T_7368f1c8_17c3_11ec_80d9_02cba411ec9drow9_col15\" class=\"data row9 col15\" >1.00</td>\n",
       "                        <td id=\"T_7368f1c8_17c3_11ec_80d9_02cba411ec9drow9_col16\" class=\"data row9 col16\" >LinAct360</td>\n",
       "            </tr>\n",
       "            <tr>\n",
       "                        <th id=\"T_7368f1c8_17c3_11ec_80d9_02cba411ec9dlevel0_row10\" class=\"row_heading level0 row10\" >10</th>\n",
       "                        <td id=\"T_7368f1c8_17c3_11ec_80d9_02cba411ec9drow10_col0\" class=\"data row10 col0\" >2023-05-09</td>\n",
       "                        <td id=\"T_7368f1c8_17c3_11ec_80d9_02cba411ec9drow10_col1\" class=\"data row10 col1\" >2023-11-09</td>\n",
       "                        <td id=\"T_7368f1c8_17c3_11ec_80d9_02cba411ec9drow10_col2\" class=\"data row10 col2\" >2023-11-09</td>\n",
       "                        <td id=\"T_7368f1c8_17c3_11ec_80d9_02cba411ec9drow10_col3\" class=\"data row10 col3\" >600,000.00</td>\n",
       "                        <td id=\"T_7368f1c8_17c3_11ec_80d9_02cba411ec9drow10_col4\" class=\"data row10 col4\" >0.00</td>\n",
       "                        <td id=\"T_7368f1c8_17c3_11ec_80d9_02cba411ec9drow10_col5\" class=\"data row10 col5\" >True</td>\n",
       "                        <td id=\"T_7368f1c8_17c3_11ec_80d9_02cba411ec9drow10_col6\" class=\"data row10 col6\" >0.00</td>\n",
       "                        <td id=\"T_7368f1c8_17c3_11ec_80d9_02cba411ec9drow10_col7\" class=\"data row10 col7\" >CLF</td>\n",
       "                        <td id=\"T_7368f1c8_17c3_11ec_80d9_02cba411ec9drow10_col8\" class=\"data row10 col8\" >10,000.00</td>\n",
       "                        <td id=\"T_7368f1c8_17c3_11ec_80d9_02cba411ec9drow10_col9\" class=\"data row10 col9\" >10,000.00</td>\n",
       "                        <td id=\"T_7368f1c8_17c3_11ec_80d9_02cba411ec9drow10_col10\" class=\"data row10 col10\" >27,000.00</td>\n",
       "                        <td id=\"T_7368f1c8_17c3_11ec_80d9_02cba411ec9drow10_col11\" class=\"data row10 col11\" >27,000.00</td>\n",
       "                        <td id=\"T_7368f1c8_17c3_11ec_80d9_02cba411ec9drow10_col12\" class=\"data row10 col12\" >0.0000%</td>\n",
       "                        <td id=\"T_7368f1c8_17c3_11ec_80d9_02cba411ec9drow10_col13\" class=\"data row10 col13\" >0.00</td>\n",
       "                        <td id=\"T_7368f1c8_17c3_11ec_80d9_02cba411ec9drow10_col14\" class=\"data row10 col14\" >0.0000%</td>\n",
       "                        <td id=\"T_7368f1c8_17c3_11ec_80d9_02cba411ec9drow10_col15\" class=\"data row10 col15\" >1.00</td>\n",
       "                        <td id=\"T_7368f1c8_17c3_11ec_80d9_02cba411ec9drow10_col16\" class=\"data row10 col16\" >LinAct360</td>\n",
       "            </tr>\n",
       "            <tr>\n",
       "                        <th id=\"T_7368f1c8_17c3_11ec_80d9_02cba411ec9dlevel0_row11\" class=\"row_heading level0 row11\" >11</th>\n",
       "                        <td id=\"T_7368f1c8_17c3_11ec_80d9_02cba411ec9drow11_col0\" class=\"data row11 col0\" >2023-11-09</td>\n",
       "                        <td id=\"T_7368f1c8_17c3_11ec_80d9_02cba411ec9drow11_col1\" class=\"data row11 col1\" >2024-05-09</td>\n",
       "                        <td id=\"T_7368f1c8_17c3_11ec_80d9_02cba411ec9drow11_col2\" class=\"data row11 col2\" >2024-05-09</td>\n",
       "                        <td id=\"T_7368f1c8_17c3_11ec_80d9_02cba411ec9drow11_col3\" class=\"data row11 col3\" >600,000.00</td>\n",
       "                        <td id=\"T_7368f1c8_17c3_11ec_80d9_02cba411ec9drow11_col4\" class=\"data row11 col4\" >0.00</td>\n",
       "                        <td id=\"T_7368f1c8_17c3_11ec_80d9_02cba411ec9drow11_col5\" class=\"data row11 col5\" >True</td>\n",
       "                        <td id=\"T_7368f1c8_17c3_11ec_80d9_02cba411ec9drow11_col6\" class=\"data row11 col6\" >0.00</td>\n",
       "                        <td id=\"T_7368f1c8_17c3_11ec_80d9_02cba411ec9drow11_col7\" class=\"data row11 col7\" >CLF</td>\n",
       "                        <td id=\"T_7368f1c8_17c3_11ec_80d9_02cba411ec9drow11_col8\" class=\"data row11 col8\" >10,000.00</td>\n",
       "                        <td id=\"T_7368f1c8_17c3_11ec_80d9_02cba411ec9drow11_col9\" class=\"data row11 col9\" >10,000.00</td>\n",
       "                        <td id=\"T_7368f1c8_17c3_11ec_80d9_02cba411ec9drow11_col10\" class=\"data row11 col10\" >27,000.00</td>\n",
       "                        <td id=\"T_7368f1c8_17c3_11ec_80d9_02cba411ec9drow11_col11\" class=\"data row11 col11\" >27,000.00</td>\n",
       "                        <td id=\"T_7368f1c8_17c3_11ec_80d9_02cba411ec9drow11_col12\" class=\"data row11 col12\" >0.0000%</td>\n",
       "                        <td id=\"T_7368f1c8_17c3_11ec_80d9_02cba411ec9drow11_col13\" class=\"data row11 col13\" >0.00</td>\n",
       "                        <td id=\"T_7368f1c8_17c3_11ec_80d9_02cba411ec9drow11_col14\" class=\"data row11 col14\" >0.0000%</td>\n",
       "                        <td id=\"T_7368f1c8_17c3_11ec_80d9_02cba411ec9drow11_col15\" class=\"data row11 col15\" >1.00</td>\n",
       "                        <td id=\"T_7368f1c8_17c3_11ec_80d9_02cba411ec9drow11_col16\" class=\"data row11 col16\" >LinAct360</td>\n",
       "            </tr>\n",
       "            <tr>\n",
       "                        <th id=\"T_7368f1c8_17c3_11ec_80d9_02cba411ec9dlevel0_row12\" class=\"row_heading level0 row12\" >12</th>\n",
       "                        <td id=\"T_7368f1c8_17c3_11ec_80d9_02cba411ec9drow12_col0\" class=\"data row12 col0\" >2024-05-09</td>\n",
       "                        <td id=\"T_7368f1c8_17c3_11ec_80d9_02cba411ec9drow12_col1\" class=\"data row12 col1\" >2024-11-11</td>\n",
       "                        <td id=\"T_7368f1c8_17c3_11ec_80d9_02cba411ec9drow12_col2\" class=\"data row12 col2\" >2024-11-11</td>\n",
       "                        <td id=\"T_7368f1c8_17c3_11ec_80d9_02cba411ec9drow12_col3\" class=\"data row12 col3\" >600,000.00</td>\n",
       "                        <td id=\"T_7368f1c8_17c3_11ec_80d9_02cba411ec9drow12_col4\" class=\"data row12 col4\" >0.00</td>\n",
       "                        <td id=\"T_7368f1c8_17c3_11ec_80d9_02cba411ec9drow12_col5\" class=\"data row12 col5\" >True</td>\n",
       "                        <td id=\"T_7368f1c8_17c3_11ec_80d9_02cba411ec9drow12_col6\" class=\"data row12 col6\" >0.00</td>\n",
       "                        <td id=\"T_7368f1c8_17c3_11ec_80d9_02cba411ec9drow12_col7\" class=\"data row12 col7\" >CLF</td>\n",
       "                        <td id=\"T_7368f1c8_17c3_11ec_80d9_02cba411ec9drow12_col8\" class=\"data row12 col8\" >10,000.00</td>\n",
       "                        <td id=\"T_7368f1c8_17c3_11ec_80d9_02cba411ec9drow12_col9\" class=\"data row12 col9\" >10,000.00</td>\n",
       "                        <td id=\"T_7368f1c8_17c3_11ec_80d9_02cba411ec9drow12_col10\" class=\"data row12 col10\" >27,000.00</td>\n",
       "                        <td id=\"T_7368f1c8_17c3_11ec_80d9_02cba411ec9drow12_col11\" class=\"data row12 col11\" >27,000.00</td>\n",
       "                        <td id=\"T_7368f1c8_17c3_11ec_80d9_02cba411ec9drow12_col12\" class=\"data row12 col12\" >0.0000%</td>\n",
       "                        <td id=\"T_7368f1c8_17c3_11ec_80d9_02cba411ec9drow12_col13\" class=\"data row12 col13\" >0.00</td>\n",
       "                        <td id=\"T_7368f1c8_17c3_11ec_80d9_02cba411ec9drow12_col14\" class=\"data row12 col14\" >0.0000%</td>\n",
       "                        <td id=\"T_7368f1c8_17c3_11ec_80d9_02cba411ec9drow12_col15\" class=\"data row12 col15\" >1.00</td>\n",
       "                        <td id=\"T_7368f1c8_17c3_11ec_80d9_02cba411ec9drow12_col16\" class=\"data row12 col16\" >LinAct360</td>\n",
       "            </tr>\n",
       "            <tr>\n",
       "                        <th id=\"T_7368f1c8_17c3_11ec_80d9_02cba411ec9dlevel0_row13\" class=\"row_heading level0 row13\" >13</th>\n",
       "                        <td id=\"T_7368f1c8_17c3_11ec_80d9_02cba411ec9drow13_col0\" class=\"data row13 col0\" >2024-11-11</td>\n",
       "                        <td id=\"T_7368f1c8_17c3_11ec_80d9_02cba411ec9drow13_col1\" class=\"data row13 col1\" >2025-05-09</td>\n",
       "                        <td id=\"T_7368f1c8_17c3_11ec_80d9_02cba411ec9drow13_col2\" class=\"data row13 col2\" >2025-05-09</td>\n",
       "                        <td id=\"T_7368f1c8_17c3_11ec_80d9_02cba411ec9drow13_col3\" class=\"data row13 col3\" >600,000.00</td>\n",
       "                        <td id=\"T_7368f1c8_17c3_11ec_80d9_02cba411ec9drow13_col4\" class=\"data row13 col4\" >0.00</td>\n",
       "                        <td id=\"T_7368f1c8_17c3_11ec_80d9_02cba411ec9drow13_col5\" class=\"data row13 col5\" >True</td>\n",
       "                        <td id=\"T_7368f1c8_17c3_11ec_80d9_02cba411ec9drow13_col6\" class=\"data row13 col6\" >0.00</td>\n",
       "                        <td id=\"T_7368f1c8_17c3_11ec_80d9_02cba411ec9drow13_col7\" class=\"data row13 col7\" >CLF</td>\n",
       "                        <td id=\"T_7368f1c8_17c3_11ec_80d9_02cba411ec9drow13_col8\" class=\"data row13 col8\" >10,000.00</td>\n",
       "                        <td id=\"T_7368f1c8_17c3_11ec_80d9_02cba411ec9drow13_col9\" class=\"data row13 col9\" >10,000.00</td>\n",
       "                        <td id=\"T_7368f1c8_17c3_11ec_80d9_02cba411ec9drow13_col10\" class=\"data row13 col10\" >27,000.00</td>\n",
       "                        <td id=\"T_7368f1c8_17c3_11ec_80d9_02cba411ec9drow13_col11\" class=\"data row13 col11\" >27,000.00</td>\n",
       "                        <td id=\"T_7368f1c8_17c3_11ec_80d9_02cba411ec9drow13_col12\" class=\"data row13 col12\" >0.0000%</td>\n",
       "                        <td id=\"T_7368f1c8_17c3_11ec_80d9_02cba411ec9drow13_col13\" class=\"data row13 col13\" >0.00</td>\n",
       "                        <td id=\"T_7368f1c8_17c3_11ec_80d9_02cba411ec9drow13_col14\" class=\"data row13 col14\" >0.0000%</td>\n",
       "                        <td id=\"T_7368f1c8_17c3_11ec_80d9_02cba411ec9drow13_col15\" class=\"data row13 col15\" >1.00</td>\n",
       "                        <td id=\"T_7368f1c8_17c3_11ec_80d9_02cba411ec9drow13_col16\" class=\"data row13 col16\" >LinAct360</td>\n",
       "            </tr>\n",
       "            <tr>\n",
       "                        <th id=\"T_7368f1c8_17c3_11ec_80d9_02cba411ec9dlevel0_row14\" class=\"row_heading level0 row14\" >14</th>\n",
       "                        <td id=\"T_7368f1c8_17c3_11ec_80d9_02cba411ec9drow14_col0\" class=\"data row14 col0\" >2025-05-09</td>\n",
       "                        <td id=\"T_7368f1c8_17c3_11ec_80d9_02cba411ec9drow14_col1\" class=\"data row14 col1\" >2025-11-10</td>\n",
       "                        <td id=\"T_7368f1c8_17c3_11ec_80d9_02cba411ec9drow14_col2\" class=\"data row14 col2\" >2025-11-10</td>\n",
       "                        <td id=\"T_7368f1c8_17c3_11ec_80d9_02cba411ec9drow14_col3\" class=\"data row14 col3\" >600,000.00</td>\n",
       "                        <td id=\"T_7368f1c8_17c3_11ec_80d9_02cba411ec9drow14_col4\" class=\"data row14 col4\" >0.00</td>\n",
       "                        <td id=\"T_7368f1c8_17c3_11ec_80d9_02cba411ec9drow14_col5\" class=\"data row14 col5\" >True</td>\n",
       "                        <td id=\"T_7368f1c8_17c3_11ec_80d9_02cba411ec9drow14_col6\" class=\"data row14 col6\" >0.00</td>\n",
       "                        <td id=\"T_7368f1c8_17c3_11ec_80d9_02cba411ec9drow14_col7\" class=\"data row14 col7\" >CLF</td>\n",
       "                        <td id=\"T_7368f1c8_17c3_11ec_80d9_02cba411ec9drow14_col8\" class=\"data row14 col8\" >10,000.00</td>\n",
       "                        <td id=\"T_7368f1c8_17c3_11ec_80d9_02cba411ec9drow14_col9\" class=\"data row14 col9\" >10,000.00</td>\n",
       "                        <td id=\"T_7368f1c8_17c3_11ec_80d9_02cba411ec9drow14_col10\" class=\"data row14 col10\" >27,000.00</td>\n",
       "                        <td id=\"T_7368f1c8_17c3_11ec_80d9_02cba411ec9drow14_col11\" class=\"data row14 col11\" >27,000.00</td>\n",
       "                        <td id=\"T_7368f1c8_17c3_11ec_80d9_02cba411ec9drow14_col12\" class=\"data row14 col12\" >0.0000%</td>\n",
       "                        <td id=\"T_7368f1c8_17c3_11ec_80d9_02cba411ec9drow14_col13\" class=\"data row14 col13\" >0.00</td>\n",
       "                        <td id=\"T_7368f1c8_17c3_11ec_80d9_02cba411ec9drow14_col14\" class=\"data row14 col14\" >0.0000%</td>\n",
       "                        <td id=\"T_7368f1c8_17c3_11ec_80d9_02cba411ec9drow14_col15\" class=\"data row14 col15\" >1.00</td>\n",
       "                        <td id=\"T_7368f1c8_17c3_11ec_80d9_02cba411ec9drow14_col16\" class=\"data row14 col16\" >LinAct360</td>\n",
       "            </tr>\n",
       "            <tr>\n",
       "                        <th id=\"T_7368f1c8_17c3_11ec_80d9_02cba411ec9dlevel0_row15\" class=\"row_heading level0 row15\" >15</th>\n",
       "                        <td id=\"T_7368f1c8_17c3_11ec_80d9_02cba411ec9drow15_col0\" class=\"data row15 col0\" >2025-11-10</td>\n",
       "                        <td id=\"T_7368f1c8_17c3_11ec_80d9_02cba411ec9drow15_col1\" class=\"data row15 col1\" >2026-05-11</td>\n",
       "                        <td id=\"T_7368f1c8_17c3_11ec_80d9_02cba411ec9drow15_col2\" class=\"data row15 col2\" >2026-05-11</td>\n",
       "                        <td id=\"T_7368f1c8_17c3_11ec_80d9_02cba411ec9drow15_col3\" class=\"data row15 col3\" >600,000.00</td>\n",
       "                        <td id=\"T_7368f1c8_17c3_11ec_80d9_02cba411ec9drow15_col4\" class=\"data row15 col4\" >600,000.00</td>\n",
       "                        <td id=\"T_7368f1c8_17c3_11ec_80d9_02cba411ec9drow15_col5\" class=\"data row15 col5\" >True</td>\n",
       "                        <td id=\"T_7368f1c8_17c3_11ec_80d9_02cba411ec9drow15_col6\" class=\"data row15 col6\" >600,000.00</td>\n",
       "                        <td id=\"T_7368f1c8_17c3_11ec_80d9_02cba411ec9drow15_col7\" class=\"data row15 col7\" >CLF</td>\n",
       "                        <td id=\"T_7368f1c8_17c3_11ec_80d9_02cba411ec9drow15_col8\" class=\"data row15 col8\" >10,000.00</td>\n",
       "                        <td id=\"T_7368f1c8_17c3_11ec_80d9_02cba411ec9drow15_col9\" class=\"data row15 col9\" >10,000.00</td>\n",
       "                        <td id=\"T_7368f1c8_17c3_11ec_80d9_02cba411ec9drow15_col10\" class=\"data row15 col10\" >27,000.00</td>\n",
       "                        <td id=\"T_7368f1c8_17c3_11ec_80d9_02cba411ec9drow15_col11\" class=\"data row15 col11\" >27,000.00</td>\n",
       "                        <td id=\"T_7368f1c8_17c3_11ec_80d9_02cba411ec9drow15_col12\" class=\"data row15 col12\" >0.0000%</td>\n",
       "                        <td id=\"T_7368f1c8_17c3_11ec_80d9_02cba411ec9drow15_col13\" class=\"data row15 col13\" >0.00</td>\n",
       "                        <td id=\"T_7368f1c8_17c3_11ec_80d9_02cba411ec9drow15_col14\" class=\"data row15 col14\" >0.0000%</td>\n",
       "                        <td id=\"T_7368f1c8_17c3_11ec_80d9_02cba411ec9drow15_col15\" class=\"data row15 col15\" >1.00</td>\n",
       "                        <td id=\"T_7368f1c8_17c3_11ec_80d9_02cba411ec9drow15_col16\" class=\"data row15 col16\" >LinAct360</td>\n",
       "            </tr>\n",
       "    </tbody></table>"
      ],
      "text/plain": [
       "<pandas.io.formats.style.Styler at 0x7f4ccc4ed828>"
      ]
     },
     "execution_count": 80,
     "metadata": {},
     "output_type": "execute_result"
    }
   ],
   "source": [
    "# Se define un list donde almacenar los resultados de la función show\n",
    "tabla = []\n",
    "for i in range(0, icp_clf_leg.size()):\n",
    "    tabla.append(Qcf.show(icp_clf_leg.get_cashflow_at(i)))\n",
    "\n",
    "# Se utiliza tabla para inicializar el Dataframe\n",
    "columnas = ['fecha_inicial', 'fecha__final', 'fecha__pago', 'nominal', 'amort', 'amort_es_flujo', 'flujo',\n",
    "            'moneda', 'icp_inicial', 'icp_final', 'uf_inicial', 'uf_final',\n",
    "            'valor_tasa', 'interes', 'spread', 'gearing', 'tipo_tasa']\n",
    "df8 = pd.DataFrame(tabla, columns=columnas)\n",
    "\n",
    "# Se despliega la data en este formato\n",
    "df8.style.format(format_dict)"
   ]
  },
  {
   "cell_type": "code",
   "execution_count": 81,
   "metadata": {
    "ExecuteTime": {
     "end_time": "2021-09-17T14:27:58.260620Z",
     "start_time": "2021-09-17T14:27:58.255361Z"
    }
   },
   "outputs": [],
   "source": [
    "icp_hoy = 18882.07\n",
    "uf_hoy = 28440.19\n",
    "fwd_rates.set_rates_icp_clf_leg(fecha_hoy, icp_hoy, uf_hoy, icp_clf_leg, zz1, zz1, zz3)\n",
    "cshflw = icp_clf_leg.get_cashflow_at(3)\n",
    "cshflw.set_start_date_uf(28080.26)\n",
    "cshflw.set_start_date_icp(18786.13)"
   ]
  },
  {
   "cell_type": "code",
   "execution_count": 82,
   "metadata": {
    "ExecuteTime": {
     "end_time": "2021-09-17T14:27:59.975345Z",
     "start_time": "2021-09-17T14:27:59.971648Z"
    }
   },
   "outputs": [
    {
     "name": "stdout",
     "output_type": "stream",
     "text": [
      "25-2-2020\n"
     ]
    }
   ],
   "source": [
    "print(fecha_hoy)"
   ]
  },
  {
   "cell_type": "code",
   "execution_count": 83,
   "metadata": {
    "ExecuteTime": {
     "end_time": "2021-09-17T14:28:00.783393Z",
     "start_time": "2021-09-17T14:28:00.750860Z"
    }
   },
   "outputs": [
    {
     "data": {
      "text/html": [
       "<style  type=\"text/css\" >\n",
       "</style><table id=\"T_76033f10_17c3_11ec_80d9_02cba411ec9d\" ><thead>    <tr>        <th class=\"blank level0\" ></th>        <th class=\"col_heading level0 col0\" >fecha_inicial</th>        <th class=\"col_heading level0 col1\" >fecha__final</th>        <th class=\"col_heading level0 col2\" >fecha__pago</th>        <th class=\"col_heading level0 col3\" >nominal</th>        <th class=\"col_heading level0 col4\" >amort</th>        <th class=\"col_heading level0 col5\" >amort_es_flujo</th>        <th class=\"col_heading level0 col6\" >flujo</th>        <th class=\"col_heading level0 col7\" >moneda</th>        <th class=\"col_heading level0 col8\" >icp_inicial</th>        <th class=\"col_heading level0 col9\" >icp_final</th>        <th class=\"col_heading level0 col10\" >uf_inicial</th>        <th class=\"col_heading level0 col11\" >uf_final</th>        <th class=\"col_heading level0 col12\" >valor_tasa</th>        <th class=\"col_heading level0 col13\" >interes</th>        <th class=\"col_heading level0 col14\" >spread</th>        <th class=\"col_heading level0 col15\" >gearing</th>        <th class=\"col_heading level0 col16\" >tipo_tasa</th>    </tr></thead><tbody>\n",
       "                <tr>\n",
       "                        <th id=\"T_76033f10_17c3_11ec_80d9_02cba411ec9dlevel0_row0\" class=\"row_heading level0 row0\" >0</th>\n",
       "                        <td id=\"T_76033f10_17c3_11ec_80d9_02cba411ec9drow0_col0\" class=\"data row0 col0\" >2018-05-31</td>\n",
       "                        <td id=\"T_76033f10_17c3_11ec_80d9_02cba411ec9drow0_col1\" class=\"data row0 col1\" >2018-11-09</td>\n",
       "                        <td id=\"T_76033f10_17c3_11ec_80d9_02cba411ec9drow0_col2\" class=\"data row0 col2\" >2018-11-09</td>\n",
       "                        <td id=\"T_76033f10_17c3_11ec_80d9_02cba411ec9drow0_col3\" class=\"data row0 col3\" >600,000.00</td>\n",
       "                        <td id=\"T_76033f10_17c3_11ec_80d9_02cba411ec9drow0_col4\" class=\"data row0 col4\" >0.00</td>\n",
       "                        <td id=\"T_76033f10_17c3_11ec_80d9_02cba411ec9drow0_col5\" class=\"data row0 col5\" >True</td>\n",
       "                        <td id=\"T_76033f10_17c3_11ec_80d9_02cba411ec9drow0_col6\" class=\"data row0 col6\" >0.00</td>\n",
       "                        <td id=\"T_76033f10_17c3_11ec_80d9_02cba411ec9drow0_col7\" class=\"data row0 col7\" >CLF</td>\n",
       "                        <td id=\"T_76033f10_17c3_11ec_80d9_02cba411ec9drow0_col8\" class=\"data row0 col8\" >10,000.00</td>\n",
       "                        <td id=\"T_76033f10_17c3_11ec_80d9_02cba411ec9drow0_col9\" class=\"data row0 col9\" >10,000.00</td>\n",
       "                        <td id=\"T_76033f10_17c3_11ec_80d9_02cba411ec9drow0_col10\" class=\"data row0 col10\" >27,000.00</td>\n",
       "                        <td id=\"T_76033f10_17c3_11ec_80d9_02cba411ec9drow0_col11\" class=\"data row0 col11\" >27,000.00</td>\n",
       "                        <td id=\"T_76033f10_17c3_11ec_80d9_02cba411ec9drow0_col12\" class=\"data row0 col12\" >0.0000%</td>\n",
       "                        <td id=\"T_76033f10_17c3_11ec_80d9_02cba411ec9drow0_col13\" class=\"data row0 col13\" >0.00</td>\n",
       "                        <td id=\"T_76033f10_17c3_11ec_80d9_02cba411ec9drow0_col14\" class=\"data row0 col14\" >0.0000%</td>\n",
       "                        <td id=\"T_76033f10_17c3_11ec_80d9_02cba411ec9drow0_col15\" class=\"data row0 col15\" >1.00</td>\n",
       "                        <td id=\"T_76033f10_17c3_11ec_80d9_02cba411ec9drow0_col16\" class=\"data row0 col16\" >LinAct360</td>\n",
       "            </tr>\n",
       "            <tr>\n",
       "                        <th id=\"T_76033f10_17c3_11ec_80d9_02cba411ec9dlevel0_row1\" class=\"row_heading level0 row1\" >1</th>\n",
       "                        <td id=\"T_76033f10_17c3_11ec_80d9_02cba411ec9drow1_col0\" class=\"data row1 col0\" >2018-11-09</td>\n",
       "                        <td id=\"T_76033f10_17c3_11ec_80d9_02cba411ec9drow1_col1\" class=\"data row1 col1\" >2019-05-09</td>\n",
       "                        <td id=\"T_76033f10_17c3_11ec_80d9_02cba411ec9drow1_col2\" class=\"data row1 col2\" >2019-05-09</td>\n",
       "                        <td id=\"T_76033f10_17c3_11ec_80d9_02cba411ec9drow1_col3\" class=\"data row1 col3\" >600,000.00</td>\n",
       "                        <td id=\"T_76033f10_17c3_11ec_80d9_02cba411ec9drow1_col4\" class=\"data row1 col4\" >0.00</td>\n",
       "                        <td id=\"T_76033f10_17c3_11ec_80d9_02cba411ec9drow1_col5\" class=\"data row1 col5\" >True</td>\n",
       "                        <td id=\"T_76033f10_17c3_11ec_80d9_02cba411ec9drow1_col6\" class=\"data row1 col6\" >0.00</td>\n",
       "                        <td id=\"T_76033f10_17c3_11ec_80d9_02cba411ec9drow1_col7\" class=\"data row1 col7\" >CLF</td>\n",
       "                        <td id=\"T_76033f10_17c3_11ec_80d9_02cba411ec9drow1_col8\" class=\"data row1 col8\" >10,000.00</td>\n",
       "                        <td id=\"T_76033f10_17c3_11ec_80d9_02cba411ec9drow1_col9\" class=\"data row1 col9\" >10,000.00</td>\n",
       "                        <td id=\"T_76033f10_17c3_11ec_80d9_02cba411ec9drow1_col10\" class=\"data row1 col10\" >27,000.00</td>\n",
       "                        <td id=\"T_76033f10_17c3_11ec_80d9_02cba411ec9drow1_col11\" class=\"data row1 col11\" >27,000.00</td>\n",
       "                        <td id=\"T_76033f10_17c3_11ec_80d9_02cba411ec9drow1_col12\" class=\"data row1 col12\" >0.0000%</td>\n",
       "                        <td id=\"T_76033f10_17c3_11ec_80d9_02cba411ec9drow1_col13\" class=\"data row1 col13\" >0.00</td>\n",
       "                        <td id=\"T_76033f10_17c3_11ec_80d9_02cba411ec9drow1_col14\" class=\"data row1 col14\" >0.0000%</td>\n",
       "                        <td id=\"T_76033f10_17c3_11ec_80d9_02cba411ec9drow1_col15\" class=\"data row1 col15\" >1.00</td>\n",
       "                        <td id=\"T_76033f10_17c3_11ec_80d9_02cba411ec9drow1_col16\" class=\"data row1 col16\" >LinAct360</td>\n",
       "            </tr>\n",
       "            <tr>\n",
       "                        <th id=\"T_76033f10_17c3_11ec_80d9_02cba411ec9dlevel0_row2\" class=\"row_heading level0 row2\" >2</th>\n",
       "                        <td id=\"T_76033f10_17c3_11ec_80d9_02cba411ec9drow2_col0\" class=\"data row2 col0\" >2019-05-09</td>\n",
       "                        <td id=\"T_76033f10_17c3_11ec_80d9_02cba411ec9drow2_col1\" class=\"data row2 col1\" >2019-11-11</td>\n",
       "                        <td id=\"T_76033f10_17c3_11ec_80d9_02cba411ec9drow2_col2\" class=\"data row2 col2\" >2019-11-11</td>\n",
       "                        <td id=\"T_76033f10_17c3_11ec_80d9_02cba411ec9drow2_col3\" class=\"data row2 col3\" >600,000.00</td>\n",
       "                        <td id=\"T_76033f10_17c3_11ec_80d9_02cba411ec9drow2_col4\" class=\"data row2 col4\" >0.00</td>\n",
       "                        <td id=\"T_76033f10_17c3_11ec_80d9_02cba411ec9drow2_col5\" class=\"data row2 col5\" >True</td>\n",
       "                        <td id=\"T_76033f10_17c3_11ec_80d9_02cba411ec9drow2_col6\" class=\"data row2 col6\" >0.00</td>\n",
       "                        <td id=\"T_76033f10_17c3_11ec_80d9_02cba411ec9drow2_col7\" class=\"data row2 col7\" >CLF</td>\n",
       "                        <td id=\"T_76033f10_17c3_11ec_80d9_02cba411ec9drow2_col8\" class=\"data row2 col8\" >10,000.00</td>\n",
       "                        <td id=\"T_76033f10_17c3_11ec_80d9_02cba411ec9drow2_col9\" class=\"data row2 col9\" >10,000.00</td>\n",
       "                        <td id=\"T_76033f10_17c3_11ec_80d9_02cba411ec9drow2_col10\" class=\"data row2 col10\" >27,000.00</td>\n",
       "                        <td id=\"T_76033f10_17c3_11ec_80d9_02cba411ec9drow2_col11\" class=\"data row2 col11\" >27,000.00</td>\n",
       "                        <td id=\"T_76033f10_17c3_11ec_80d9_02cba411ec9drow2_col12\" class=\"data row2 col12\" >0.0000%</td>\n",
       "                        <td id=\"T_76033f10_17c3_11ec_80d9_02cba411ec9drow2_col13\" class=\"data row2 col13\" >0.00</td>\n",
       "                        <td id=\"T_76033f10_17c3_11ec_80d9_02cba411ec9drow2_col14\" class=\"data row2 col14\" >0.0000%</td>\n",
       "                        <td id=\"T_76033f10_17c3_11ec_80d9_02cba411ec9drow2_col15\" class=\"data row2 col15\" >1.00</td>\n",
       "                        <td id=\"T_76033f10_17c3_11ec_80d9_02cba411ec9drow2_col16\" class=\"data row2 col16\" >LinAct360</td>\n",
       "            </tr>\n",
       "            <tr>\n",
       "                        <th id=\"T_76033f10_17c3_11ec_80d9_02cba411ec9dlevel0_row3\" class=\"row_heading level0 row3\" >3</th>\n",
       "                        <td id=\"T_76033f10_17c3_11ec_80d9_02cba411ec9drow3_col0\" class=\"data row3 col0\" >2019-11-11</td>\n",
       "                        <td id=\"T_76033f10_17c3_11ec_80d9_02cba411ec9drow3_col1\" class=\"data row3 col1\" >2020-05-11</td>\n",
       "                        <td id=\"T_76033f10_17c3_11ec_80d9_02cba411ec9drow3_col2\" class=\"data row3 col2\" >2020-05-11</td>\n",
       "                        <td id=\"T_76033f10_17c3_11ec_80d9_02cba411ec9drow3_col3\" class=\"data row3 col3\" >600,000.00</td>\n",
       "                        <td id=\"T_76033f10_17c3_11ec_80d9_02cba411ec9drow3_col4\" class=\"data row3 col4\" >0.00</td>\n",
       "                        <td id=\"T_76033f10_17c3_11ec_80d9_02cba411ec9drow3_col5\" class=\"data row3 col5\" >True</td>\n",
       "                        <td id=\"T_76033f10_17c3_11ec_80d9_02cba411ec9drow3_col6\" class=\"data row3 col6\" >-7,178.78</td>\n",
       "                        <td id=\"T_76033f10_17c3_11ec_80d9_02cba411ec9drow3_col7\" class=\"data row3 col7\" >CLF</td>\n",
       "                        <td id=\"T_76033f10_17c3_11ec_80d9_02cba411ec9drow3_col8\" class=\"data row3 col8\" >18,786.13</td>\n",
       "                        <td id=\"T_76033f10_17c3_11ec_80d9_02cba411ec9drow3_col9\" class=\"data row3 col9\" >18,943.62</td>\n",
       "                        <td id=\"T_76033f10_17c3_11ec_80d9_02cba411ec9drow3_col10\" class=\"data row3 col10\" >28,080.26</td>\n",
       "                        <td id=\"T_76033f10_17c3_11ec_80d9_02cba411ec9drow3_col11\" class=\"data row3 col11\" >28,658.55</td>\n",
       "                        <td id=\"T_76033f10_17c3_11ec_80d9_02cba411ec9drow3_col12\" class=\"data row3 col12\" >-2.3649%</td>\n",
       "                        <td id=\"T_76033f10_17c3_11ec_80d9_02cba411ec9drow3_col13\" class=\"data row3 col13\" >-7,173.53</td>\n",
       "                        <td id=\"T_76033f10_17c3_11ec_80d9_02cba411ec9drow3_col14\" class=\"data row3 col14\" >0.0000%</td>\n",
       "                        <td id=\"T_76033f10_17c3_11ec_80d9_02cba411ec9drow3_col15\" class=\"data row3 col15\" >1.00</td>\n",
       "                        <td id=\"T_76033f10_17c3_11ec_80d9_02cba411ec9drow3_col16\" class=\"data row3 col16\" >LinAct360</td>\n",
       "            </tr>\n",
       "            <tr>\n",
       "                        <th id=\"T_76033f10_17c3_11ec_80d9_02cba411ec9dlevel0_row4\" class=\"row_heading level0 row4\" >4</th>\n",
       "                        <td id=\"T_76033f10_17c3_11ec_80d9_02cba411ec9drow4_col0\" class=\"data row4 col0\" >2020-05-11</td>\n",
       "                        <td id=\"T_76033f10_17c3_11ec_80d9_02cba411ec9drow4_col1\" class=\"data row4 col1\" >2020-11-09</td>\n",
       "                        <td id=\"T_76033f10_17c3_11ec_80d9_02cba411ec9drow4_col2\" class=\"data row4 col2\" >2020-11-09</td>\n",
       "                        <td id=\"T_76033f10_17c3_11ec_80d9_02cba411ec9drow4_col3\" class=\"data row4 col3\" >600,000.00</td>\n",
       "                        <td id=\"T_76033f10_17c3_11ec_80d9_02cba411ec9drow4_col4\" class=\"data row4 col4\" >0.00</td>\n",
       "                        <td id=\"T_76033f10_17c3_11ec_80d9_02cba411ec9drow4_col5\" class=\"data row4 col5\" >True</td>\n",
       "                        <td id=\"T_76033f10_17c3_11ec_80d9_02cba411ec9drow4_col6\" class=\"data row4 col6\" >-5,300.72</td>\n",
       "                        <td id=\"T_76033f10_17c3_11ec_80d9_02cba411ec9drow4_col7\" class=\"data row4 col7\" >CLF</td>\n",
       "                        <td id=\"T_76033f10_17c3_11ec_80d9_02cba411ec9drow4_col8\" class=\"data row4 col8\" >18,943.62</td>\n",
       "                        <td id=\"T_76033f10_17c3_11ec_80d9_02cba411ec9drow4_col9\" class=\"data row4 col9\" >19,056.79</td>\n",
       "                        <td id=\"T_76033f10_17c3_11ec_80d9_02cba411ec9drow4_col10\" class=\"data row4 col10\" >28,658.55</td>\n",
       "                        <td id=\"T_76033f10_17c3_11ec_80d9_02cba411ec9drow4_col11\" class=\"data row4 col11\" >29,086.73</td>\n",
       "                        <td id=\"T_76033f10_17c3_11ec_80d9_02cba411ec9drow4_col12\" class=\"data row4 col12\" >-1.7492%</td>\n",
       "                        <td id=\"T_76033f10_17c3_11ec_80d9_02cba411ec9drow4_col13\" class=\"data row4 col13\" >-5,305.91</td>\n",
       "                        <td id=\"T_76033f10_17c3_11ec_80d9_02cba411ec9drow4_col14\" class=\"data row4 col14\" >0.0000%</td>\n",
       "                        <td id=\"T_76033f10_17c3_11ec_80d9_02cba411ec9drow4_col15\" class=\"data row4 col15\" >1.00</td>\n",
       "                        <td id=\"T_76033f10_17c3_11ec_80d9_02cba411ec9drow4_col16\" class=\"data row4 col16\" >LinAct360</td>\n",
       "            </tr>\n",
       "            <tr>\n",
       "                        <th id=\"T_76033f10_17c3_11ec_80d9_02cba411ec9dlevel0_row5\" class=\"row_heading level0 row5\" >5</th>\n",
       "                        <td id=\"T_76033f10_17c3_11ec_80d9_02cba411ec9drow5_col0\" class=\"data row5 col0\" >2020-11-09</td>\n",
       "                        <td id=\"T_76033f10_17c3_11ec_80d9_02cba411ec9drow5_col1\" class=\"data row5 col1\" >2021-05-10</td>\n",
       "                        <td id=\"T_76033f10_17c3_11ec_80d9_02cba411ec9drow5_col2\" class=\"data row5 col2\" >2021-05-10</td>\n",
       "                        <td id=\"T_76033f10_17c3_11ec_80d9_02cba411ec9drow5_col3\" class=\"data row5 col3\" >600,000.00</td>\n",
       "                        <td id=\"T_76033f10_17c3_11ec_80d9_02cba411ec9drow5_col4\" class=\"data row5 col4\" >0.00</td>\n",
       "                        <td id=\"T_76033f10_17c3_11ec_80d9_02cba411ec9drow5_col5\" class=\"data row5 col5\" >True</td>\n",
       "                        <td id=\"T_76033f10_17c3_11ec_80d9_02cba411ec9drow5_col6\" class=\"data row5 col6\" >-3,909.59</td>\n",
       "                        <td id=\"T_76033f10_17c3_11ec_80d9_02cba411ec9drow5_col7\" class=\"data row5 col7\" >CLF</td>\n",
       "                        <td id=\"T_76033f10_17c3_11ec_80d9_02cba411ec9drow5_col8\" class=\"data row5 col8\" >19,056.79</td>\n",
       "                        <td id=\"T_76033f10_17c3_11ec_80d9_02cba411ec9drow5_col9\" class=\"data row5 col9\" >19,182.42</td>\n",
       "                        <td id=\"T_76033f10_17c3_11ec_80d9_02cba411ec9drow5_col10\" class=\"data row5 col10\" >29,086.73</td>\n",
       "                        <td id=\"T_76033f10_17c3_11ec_80d9_02cba411ec9drow5_col11\" class=\"data row5 col11\" >29,470.52</td>\n",
       "                        <td id=\"T_76033f10_17c3_11ec_80d9_02cba411ec9drow5_col12\" class=\"data row5 col12\" >-1.2929%</td>\n",
       "                        <td id=\"T_76033f10_17c3_11ec_80d9_02cba411ec9drow5_col13\" class=\"data row5 col13\" >-3,921.80</td>\n",
       "                        <td id=\"T_76033f10_17c3_11ec_80d9_02cba411ec9drow5_col14\" class=\"data row5 col14\" >0.0000%</td>\n",
       "                        <td id=\"T_76033f10_17c3_11ec_80d9_02cba411ec9drow5_col15\" class=\"data row5 col15\" >1.00</td>\n",
       "                        <td id=\"T_76033f10_17c3_11ec_80d9_02cba411ec9drow5_col16\" class=\"data row5 col16\" >LinAct360</td>\n",
       "            </tr>\n",
       "            <tr>\n",
       "                        <th id=\"T_76033f10_17c3_11ec_80d9_02cba411ec9dlevel0_row6\" class=\"row_heading level0 row6\" >6</th>\n",
       "                        <td id=\"T_76033f10_17c3_11ec_80d9_02cba411ec9drow6_col0\" class=\"data row6 col0\" >2021-05-10</td>\n",
       "                        <td id=\"T_76033f10_17c3_11ec_80d9_02cba411ec9drow6_col1\" class=\"data row6 col1\" >2021-11-09</td>\n",
       "                        <td id=\"T_76033f10_17c3_11ec_80d9_02cba411ec9drow6_col2\" class=\"data row6 col2\" >2021-11-09</td>\n",
       "                        <td id=\"T_76033f10_17c3_11ec_80d9_02cba411ec9drow6_col3\" class=\"data row6 col3\" >600,000.00</td>\n",
       "                        <td id=\"T_76033f10_17c3_11ec_80d9_02cba411ec9drow6_col4\" class=\"data row6 col4\" >0.00</td>\n",
       "                        <td id=\"T_76033f10_17c3_11ec_80d9_02cba411ec9drow6_col5\" class=\"data row6 col5\" >True</td>\n",
       "                        <td id=\"T_76033f10_17c3_11ec_80d9_02cba411ec9drow6_col6\" class=\"data row6 col6\" >-4,842.13</td>\n",
       "                        <td id=\"T_76033f10_17c3_11ec_80d9_02cba411ec9drow6_col7\" class=\"data row6 col7\" >CLF</td>\n",
       "                        <td id=\"T_76033f10_17c3_11ec_80d9_02cba411ec9drow6_col8\" class=\"data row6 col8\" >19,182.42</td>\n",
       "                        <td id=\"T_76033f10_17c3_11ec_80d9_02cba411ec9drow6_col9\" class=\"data row6 col9\" >19,306.95</td>\n",
       "                        <td id=\"T_76033f10_17c3_11ec_80d9_02cba411ec9drow6_col10\" class=\"data row6 col10\" >29,470.52</td>\n",
       "                        <td id=\"T_76033f10_17c3_11ec_80d9_02cba411ec9drow6_col11\" class=\"data row6 col11\" >29,903.16</td>\n",
       "                        <td id=\"T_76033f10_17c3_11ec_80d9_02cba411ec9drow6_col12\" class=\"data row6 col12\" >-1.5847%</td>\n",
       "                        <td id=\"T_76033f10_17c3_11ec_80d9_02cba411ec9drow6_col13\" class=\"data row6 col13\" >-4,833.34</td>\n",
       "                        <td id=\"T_76033f10_17c3_11ec_80d9_02cba411ec9drow6_col14\" class=\"data row6 col14\" >0.0000%</td>\n",
       "                        <td id=\"T_76033f10_17c3_11ec_80d9_02cba411ec9drow6_col15\" class=\"data row6 col15\" >1.00</td>\n",
       "                        <td id=\"T_76033f10_17c3_11ec_80d9_02cba411ec9drow6_col16\" class=\"data row6 col16\" >LinAct360</td>\n",
       "            </tr>\n",
       "            <tr>\n",
       "                        <th id=\"T_76033f10_17c3_11ec_80d9_02cba411ec9dlevel0_row7\" class=\"row_heading level0 row7\" >7</th>\n",
       "                        <td id=\"T_76033f10_17c3_11ec_80d9_02cba411ec9drow7_col0\" class=\"data row7 col0\" >2021-11-09</td>\n",
       "                        <td id=\"T_76033f10_17c3_11ec_80d9_02cba411ec9drow7_col1\" class=\"data row7 col1\" >2022-05-09</td>\n",
       "                        <td id=\"T_76033f10_17c3_11ec_80d9_02cba411ec9drow7_col2\" class=\"data row7 col2\" >2022-05-09</td>\n",
       "                        <td id=\"T_76033f10_17c3_11ec_80d9_02cba411ec9drow7_col3\" class=\"data row7 col3\" >600,000.00</td>\n",
       "                        <td id=\"T_76033f10_17c3_11ec_80d9_02cba411ec9drow7_col4\" class=\"data row7 col4\" >0.00</td>\n",
       "                        <td id=\"T_76033f10_17c3_11ec_80d9_02cba411ec9drow7_col5\" class=\"data row7 col5\" >True</td>\n",
       "                        <td id=\"T_76033f10_17c3_11ec_80d9_02cba411ec9drow7_col6\" class=\"data row7 col6\" >-5,431.38</td>\n",
       "                        <td id=\"T_76033f10_17c3_11ec_80d9_02cba411ec9drow7_col7\" class=\"data row7 col7\" >CLF</td>\n",
       "                        <td id=\"T_76033f10_17c3_11ec_80d9_02cba411ec9drow7_col8\" class=\"data row7 col8\" >19,306.95</td>\n",
       "                        <td id=\"T_76033f10_17c3_11ec_80d9_02cba411ec9drow7_col9\" class=\"data row7 col9\" >19,440.27</td>\n",
       "                        <td id=\"T_76033f10_17c3_11ec_80d9_02cba411ec9drow7_col10\" class=\"data row7 col10\" >29,903.16</td>\n",
       "                        <td id=\"T_76033f10_17c3_11ec_80d9_02cba411ec9drow7_col11\" class=\"data row7 col11\" >30,384.70</td>\n",
       "                        <td id=\"T_76033f10_17c3_11ec_80d9_02cba411ec9drow7_col12\" class=\"data row7 col12\" >-1.8038%</td>\n",
       "                        <td id=\"T_76033f10_17c3_11ec_80d9_02cba411ec9drow7_col13\" class=\"data row7 col13\" >-5,441.46</td>\n",
       "                        <td id=\"T_76033f10_17c3_11ec_80d9_02cba411ec9drow7_col14\" class=\"data row7 col14\" >0.0000%</td>\n",
       "                        <td id=\"T_76033f10_17c3_11ec_80d9_02cba411ec9drow7_col15\" class=\"data row7 col15\" >1.00</td>\n",
       "                        <td id=\"T_76033f10_17c3_11ec_80d9_02cba411ec9drow7_col16\" class=\"data row7 col16\" >LinAct360</td>\n",
       "            </tr>\n",
       "            <tr>\n",
       "                        <th id=\"T_76033f10_17c3_11ec_80d9_02cba411ec9dlevel0_row8\" class=\"row_heading level0 row8\" >8</th>\n",
       "                        <td id=\"T_76033f10_17c3_11ec_80d9_02cba411ec9drow8_col0\" class=\"data row8 col0\" >2022-05-09</td>\n",
       "                        <td id=\"T_76033f10_17c3_11ec_80d9_02cba411ec9drow8_col1\" class=\"data row8 col1\" >2022-11-09</td>\n",
       "                        <td id=\"T_76033f10_17c3_11ec_80d9_02cba411ec9drow8_col2\" class=\"data row8 col2\" >2022-11-09</td>\n",
       "                        <td id=\"T_76033f10_17c3_11ec_80d9_02cba411ec9drow8_col3\" class=\"data row8 col3\" >600,000.00</td>\n",
       "                        <td id=\"T_76033f10_17c3_11ec_80d9_02cba411ec9drow8_col4\" class=\"data row8 col4\" >0.00</td>\n",
       "                        <td id=\"T_76033f10_17c3_11ec_80d9_02cba411ec9drow8_col5\" class=\"data row8 col5\" >True</td>\n",
       "                        <td id=\"T_76033f10_17c3_11ec_80d9_02cba411ec9drow8_col6\" class=\"data row8 col6\" >-3,700.83</td>\n",
       "                        <td id=\"T_76033f10_17c3_11ec_80d9_02cba411ec9drow8_col7\" class=\"data row8 col7\" >CLF</td>\n",
       "                        <td id=\"T_76033f10_17c3_11ec_80d9_02cba411ec9drow8_col8\" class=\"data row8 col8\" >19,440.27</td>\n",
       "                        <td id=\"T_76033f10_17c3_11ec_80d9_02cba411ec9drow8_col9\" class=\"data row8 col9\" >19,606.92</td>\n",
       "                        <td id=\"T_76033f10_17c3_11ec_80d9_02cba411ec9drow8_col10\" class=\"data row8 col10\" >30,384.70</td>\n",
       "                        <td id=\"T_76033f10_17c3_11ec_80d9_02cba411ec9drow8_col11\" class=\"data row8 col11\" >30,835.35</td>\n",
       "                        <td id=\"T_76033f10_17c3_11ec_80d9_02cba411ec9drow8_col12\" class=\"data row8 col12\" >-1.2040%</td>\n",
       "                        <td id=\"T_76033f10_17c3_11ec_80d9_02cba411ec9drow8_col13\" class=\"data row8 col13\" >-3,692.27</td>\n",
       "                        <td id=\"T_76033f10_17c3_11ec_80d9_02cba411ec9drow8_col14\" class=\"data row8 col14\" >0.0000%</td>\n",
       "                        <td id=\"T_76033f10_17c3_11ec_80d9_02cba411ec9drow8_col15\" class=\"data row8 col15\" >1.00</td>\n",
       "                        <td id=\"T_76033f10_17c3_11ec_80d9_02cba411ec9drow8_col16\" class=\"data row8 col16\" >LinAct360</td>\n",
       "            </tr>\n",
       "            <tr>\n",
       "                        <th id=\"T_76033f10_17c3_11ec_80d9_02cba411ec9dlevel0_row9\" class=\"row_heading level0 row9\" >9</th>\n",
       "                        <td id=\"T_76033f10_17c3_11ec_80d9_02cba411ec9drow9_col0\" class=\"data row9 col0\" >2022-11-09</td>\n",
       "                        <td id=\"T_76033f10_17c3_11ec_80d9_02cba411ec9drow9_col1\" class=\"data row9 col1\" >2023-05-09</td>\n",
       "                        <td id=\"T_76033f10_17c3_11ec_80d9_02cba411ec9drow9_col2\" class=\"data row9 col2\" >2023-05-09</td>\n",
       "                        <td id=\"T_76033f10_17c3_11ec_80d9_02cba411ec9drow9_col3\" class=\"data row9 col3\" >600,000.00</td>\n",
       "                        <td id=\"T_76033f10_17c3_11ec_80d9_02cba411ec9drow9_col4\" class=\"data row9 col4\" >0.00</td>\n",
       "                        <td id=\"T_76033f10_17c3_11ec_80d9_02cba411ec9drow9_col5\" class=\"data row9 col5\" >True</td>\n",
       "                        <td id=\"T_76033f10_17c3_11ec_80d9_02cba411ec9drow9_col6\" class=\"data row9 col6\" >-2,958.63</td>\n",
       "                        <td id=\"T_76033f10_17c3_11ec_80d9_02cba411ec9drow9_col7\" class=\"data row9 col7\" >CLF</td>\n",
       "                        <td id=\"T_76033f10_17c3_11ec_80d9_02cba411ec9drow9_col8\" class=\"data row9 col8\" >19,606.92</td>\n",
       "                        <td id=\"T_76033f10_17c3_11ec_80d9_02cba411ec9drow9_col9\" class=\"data row9 col9\" >19,794.39</td>\n",
       "                        <td id=\"T_76033f10_17c3_11ec_80d9_02cba411ec9drow9_col10\" class=\"data row9 col10\" >30,835.35</td>\n",
       "                        <td id=\"T_76033f10_17c3_11ec_80d9_02cba411ec9drow9_col11\" class=\"data row9 col11\" >31,284.45</td>\n",
       "                        <td id=\"T_76033f10_17c3_11ec_80d9_02cba411ec9drow9_col12\" class=\"data row9 col12\" >-0.9825%</td>\n",
       "                        <td id=\"T_76033f10_17c3_11ec_80d9_02cba411ec9drow9_col13\" class=\"data row9 col13\" >-2,963.88</td>\n",
       "                        <td id=\"T_76033f10_17c3_11ec_80d9_02cba411ec9drow9_col14\" class=\"data row9 col14\" >0.0000%</td>\n",
       "                        <td id=\"T_76033f10_17c3_11ec_80d9_02cba411ec9drow9_col15\" class=\"data row9 col15\" >1.00</td>\n",
       "                        <td id=\"T_76033f10_17c3_11ec_80d9_02cba411ec9drow9_col16\" class=\"data row9 col16\" >LinAct360</td>\n",
       "            </tr>\n",
       "            <tr>\n",
       "                        <th id=\"T_76033f10_17c3_11ec_80d9_02cba411ec9dlevel0_row10\" class=\"row_heading level0 row10\" >10</th>\n",
       "                        <td id=\"T_76033f10_17c3_11ec_80d9_02cba411ec9drow10_col0\" class=\"data row10 col0\" >2023-05-09</td>\n",
       "                        <td id=\"T_76033f10_17c3_11ec_80d9_02cba411ec9drow10_col1\" class=\"data row10 col1\" >2023-11-09</td>\n",
       "                        <td id=\"T_76033f10_17c3_11ec_80d9_02cba411ec9drow10_col2\" class=\"data row10 col2\" >2023-11-09</td>\n",
       "                        <td id=\"T_76033f10_17c3_11ec_80d9_02cba411ec9drow10_col3\" class=\"data row10 col3\" >600,000.00</td>\n",
       "                        <td id=\"T_76033f10_17c3_11ec_80d9_02cba411ec9drow10_col4\" class=\"data row10 col4\" >0.00</td>\n",
       "                        <td id=\"T_76033f10_17c3_11ec_80d9_02cba411ec9drow10_col5\" class=\"data row10 col5\" >True</td>\n",
       "                        <td id=\"T_76033f10_17c3_11ec_80d9_02cba411ec9drow10_col6\" class=\"data row10 col6\" >-2,109.44</td>\n",
       "                        <td id=\"T_76033f10_17c3_11ec_80d9_02cba411ec9drow10_col7\" class=\"data row10 col7\" >CLF</td>\n",
       "                        <td id=\"T_76033f10_17c3_11ec_80d9_02cba411ec9drow10_col8\" class=\"data row10 col8\" >19,794.39</td>\n",
       "                        <td id=\"T_76033f10_17c3_11ec_80d9_02cba411ec9drow10_col9\" class=\"data row10 col9\" >20,019.87</td>\n",
       "                        <td id=\"T_76033f10_17c3_11ec_80d9_02cba411ec9drow10_col10\" class=\"data row10 col10\" >31,284.45</td>\n",
       "                        <td id=\"T_76033f10_17c3_11ec_80d9_02cba411ec9drow10_col11\" class=\"data row10 col11\" >31,752.45</td>\n",
       "                        <td id=\"T_76033f10_17c3_11ec_80d9_02cba411ec9drow10_col12\" class=\"data row10 col12\" >-0.6866%</td>\n",
       "                        <td id=\"T_76033f10_17c3_11ec_80d9_02cba411ec9drow10_col13\" class=\"data row10 col13\" >-2,105.57</td>\n",
       "                        <td id=\"T_76033f10_17c3_11ec_80d9_02cba411ec9drow10_col14\" class=\"data row10 col14\" >0.0000%</td>\n",
       "                        <td id=\"T_76033f10_17c3_11ec_80d9_02cba411ec9drow10_col15\" class=\"data row10 col15\" >1.00</td>\n",
       "                        <td id=\"T_76033f10_17c3_11ec_80d9_02cba411ec9drow10_col16\" class=\"data row10 col16\" >LinAct360</td>\n",
       "            </tr>\n",
       "            <tr>\n",
       "                        <th id=\"T_76033f10_17c3_11ec_80d9_02cba411ec9dlevel0_row11\" class=\"row_heading level0 row11\" >11</th>\n",
       "                        <td id=\"T_76033f10_17c3_11ec_80d9_02cba411ec9drow11_col0\" class=\"data row11 col0\" >2023-11-09</td>\n",
       "                        <td id=\"T_76033f10_17c3_11ec_80d9_02cba411ec9drow11_col1\" class=\"data row11 col1\" >2024-05-09</td>\n",
       "                        <td id=\"T_76033f10_17c3_11ec_80d9_02cba411ec9drow11_col2\" class=\"data row11 col2\" >2024-05-09</td>\n",
       "                        <td id=\"T_76033f10_17c3_11ec_80d9_02cba411ec9drow11_col3\" class=\"data row11 col3\" >600,000.00</td>\n",
       "                        <td id=\"T_76033f10_17c3_11ec_80d9_02cba411ec9drow11_col4\" class=\"data row11 col4\" >0.00</td>\n",
       "                        <td id=\"T_76033f10_17c3_11ec_80d9_02cba411ec9drow11_col5\" class=\"data row11 col5\" >True</td>\n",
       "                        <td id=\"T_76033f10_17c3_11ec_80d9_02cba411ec9drow11_col6\" class=\"data row11 col6\" >-1,201.71</td>\n",
       "                        <td id=\"T_76033f10_17c3_11ec_80d9_02cba411ec9drow11_col7\" class=\"data row11 col7\" >CLF</td>\n",
       "                        <td id=\"T_76033f10_17c3_11ec_80d9_02cba411ec9drow11_col8\" class=\"data row11 col8\" >20,019.87</td>\n",
       "                        <td id=\"T_76033f10_17c3_11ec_80d9_02cba411ec9drow11_col9\" class=\"data row11 col9\" >20,277.70</td>\n",
       "                        <td id=\"T_76033f10_17c3_11ec_80d9_02cba411ec9drow11_col10\" class=\"data row11 col10\" >31,752.45</td>\n",
       "                        <td id=\"T_76033f10_17c3_11ec_80d9_02cba411ec9drow11_col11\" class=\"data row11 col11\" >32,225.93</td>\n",
       "                        <td id=\"T_76033f10_17c3_11ec_80d9_02cba411ec9drow11_col12\" class=\"data row11 col12\" >-0.3937%</td>\n",
       "                        <td id=\"T_76033f10_17c3_11ec_80d9_02cba411ec9drow11_col13\" class=\"data row11 col13\" >-1,194.22</td>\n",
       "                        <td id=\"T_76033f10_17c3_11ec_80d9_02cba411ec9drow11_col14\" class=\"data row11 col14\" >0.0000%</td>\n",
       "                        <td id=\"T_76033f10_17c3_11ec_80d9_02cba411ec9drow11_col15\" class=\"data row11 col15\" >1.00</td>\n",
       "                        <td id=\"T_76033f10_17c3_11ec_80d9_02cba411ec9drow11_col16\" class=\"data row11 col16\" >LinAct360</td>\n",
       "            </tr>\n",
       "            <tr>\n",
       "                        <th id=\"T_76033f10_17c3_11ec_80d9_02cba411ec9dlevel0_row12\" class=\"row_heading level0 row12\" >12</th>\n",
       "                        <td id=\"T_76033f10_17c3_11ec_80d9_02cba411ec9drow12_col0\" class=\"data row12 col0\" >2024-05-09</td>\n",
       "                        <td id=\"T_76033f10_17c3_11ec_80d9_02cba411ec9drow12_col1\" class=\"data row12 col1\" >2024-11-11</td>\n",
       "                        <td id=\"T_76033f10_17c3_11ec_80d9_02cba411ec9drow12_col2\" class=\"data row12 col2\" >2024-11-11</td>\n",
       "                        <td id=\"T_76033f10_17c3_11ec_80d9_02cba411ec9drow12_col3\" class=\"data row12 col3\" >600,000.00</td>\n",
       "                        <td id=\"T_76033f10_17c3_11ec_80d9_02cba411ec9drow12_col4\" class=\"data row12 col4\" >0.00</td>\n",
       "                        <td id=\"T_76033f10_17c3_11ec_80d9_02cba411ec9drow12_col5\" class=\"data row12 col5\" >True</td>\n",
       "                        <td id=\"T_76033f10_17c3_11ec_80d9_02cba411ec9drow12_col6\" class=\"data row12 col6\" >-92.82</td>\n",
       "                        <td id=\"T_76033f10_17c3_11ec_80d9_02cba411ec9drow12_col7\" class=\"data row12 col7\" >CLF</td>\n",
       "                        <td id=\"T_76033f10_17c3_11ec_80d9_02cba411ec9drow12_col8\" class=\"data row12 col8\" >20,277.70</td>\n",
       "                        <td id=\"T_76033f10_17c3_11ec_80d9_02cba411ec9drow12_col9\" class=\"data row12 col9\" >20,590.52</td>\n",
       "                        <td id=\"T_76033f10_17c3_11ec_80d9_02cba411ec9drow12_col10\" class=\"data row12 col10\" >32,225.93</td>\n",
       "                        <td id=\"T_76033f10_17c3_11ec_80d9_02cba411ec9drow12_col11\" class=\"data row12 col11\" >32,728.13</td>\n",
       "                        <td id=\"T_76033f10_17c3_11ec_80d9_02cba411ec9drow12_col12\" class=\"data row12 col12\" >-0.0258%</td>\n",
       "                        <td id=\"T_76033f10_17c3_11ec_80d9_02cba411ec9drow12_col13\" class=\"data row12 col13\" >-79.98</td>\n",
       "                        <td id=\"T_76033f10_17c3_11ec_80d9_02cba411ec9drow12_col14\" class=\"data row12 col14\" >0.0000%</td>\n",
       "                        <td id=\"T_76033f10_17c3_11ec_80d9_02cba411ec9drow12_col15\" class=\"data row12 col15\" >1.00</td>\n",
       "                        <td id=\"T_76033f10_17c3_11ec_80d9_02cba411ec9drow12_col16\" class=\"data row12 col16\" >LinAct360</td>\n",
       "            </tr>\n",
       "            <tr>\n",
       "                        <th id=\"T_76033f10_17c3_11ec_80d9_02cba411ec9dlevel0_row13\" class=\"row_heading level0 row13\" >13</th>\n",
       "                        <td id=\"T_76033f10_17c3_11ec_80d9_02cba411ec9drow13_col0\" class=\"data row13 col0\" >2024-11-11</td>\n",
       "                        <td id=\"T_76033f10_17c3_11ec_80d9_02cba411ec9drow13_col1\" class=\"data row13 col1\" >2025-05-09</td>\n",
       "                        <td id=\"T_76033f10_17c3_11ec_80d9_02cba411ec9drow13_col2\" class=\"data row13 col2\" >2025-05-09</td>\n",
       "                        <td id=\"T_76033f10_17c3_11ec_80d9_02cba411ec9drow13_col3\" class=\"data row13 col3\" >600,000.00</td>\n",
       "                        <td id=\"T_76033f10_17c3_11ec_80d9_02cba411ec9drow13_col4\" class=\"data row13 col4\" >0.00</td>\n",
       "                        <td id=\"T_76033f10_17c3_11ec_80d9_02cba411ec9drow13_col5\" class=\"data row13 col5\" >True</td>\n",
       "                        <td id=\"T_76033f10_17c3_11ec_80d9_02cba411ec9drow13_col6\" class=\"data row13 col6\" >488.22</td>\n",
       "                        <td id=\"T_76033f10_17c3_11ec_80d9_02cba411ec9drow13_col7\" class=\"data row13 col7\" >CLF</td>\n",
       "                        <td id=\"T_76033f10_17c3_11ec_80d9_02cba411ec9drow13_col8\" class=\"data row13 col8\" >20,590.52</td>\n",
       "                        <td id=\"T_76033f10_17c3_11ec_80d9_02cba411ec9drow13_col9\" class=\"data row13 col9\" >20,916.74</td>\n",
       "                        <td id=\"T_76033f10_17c3_11ec_80d9_02cba411ec9drow13_col10\" class=\"data row13 col10\" >32,728.13</td>\n",
       "                        <td id=\"T_76033f10_17c3_11ec_80d9_02cba411ec9drow13_col11\" class=\"data row13 col11\" >33,219.63</td>\n",
       "                        <td id=\"T_76033f10_17c3_11ec_80d9_02cba411ec9drow13_col12\" class=\"data row13 col12\" >0.1672%</td>\n",
       "                        <td id=\"T_76033f10_17c3_11ec_80d9_02cba411ec9drow13_col13\" class=\"data row13 col13\" >498.81</td>\n",
       "                        <td id=\"T_76033f10_17c3_11ec_80d9_02cba411ec9drow13_col14\" class=\"data row13 col14\" >0.0000%</td>\n",
       "                        <td id=\"T_76033f10_17c3_11ec_80d9_02cba411ec9drow13_col15\" class=\"data row13 col15\" >1.00</td>\n",
       "                        <td id=\"T_76033f10_17c3_11ec_80d9_02cba411ec9drow13_col16\" class=\"data row13 col16\" >LinAct360</td>\n",
       "            </tr>\n",
       "            <tr>\n",
       "                        <th id=\"T_76033f10_17c3_11ec_80d9_02cba411ec9dlevel0_row14\" class=\"row_heading level0 row14\" >14</th>\n",
       "                        <td id=\"T_76033f10_17c3_11ec_80d9_02cba411ec9drow14_col0\" class=\"data row14 col0\" >2025-05-09</td>\n",
       "                        <td id=\"T_76033f10_17c3_11ec_80d9_02cba411ec9drow14_col1\" class=\"data row14 col1\" >2025-11-10</td>\n",
       "                        <td id=\"T_76033f10_17c3_11ec_80d9_02cba411ec9drow14_col2\" class=\"data row14 col2\" >2025-11-10</td>\n",
       "                        <td id=\"T_76033f10_17c3_11ec_80d9_02cba411ec9drow14_col3\" class=\"data row14 col3\" >600,000.00</td>\n",
       "                        <td id=\"T_76033f10_17c3_11ec_80d9_02cba411ec9drow14_col4\" class=\"data row14 col4\" >0.00</td>\n",
       "                        <td id=\"T_76033f10_17c3_11ec_80d9_02cba411ec9drow14_col5\" class=\"data row14 col5\" >True</td>\n",
       "                        <td id=\"T_76033f10_17c3_11ec_80d9_02cba411ec9drow14_col6\" class=\"data row14 col6\" >892.29</td>\n",
       "                        <td id=\"T_76033f10_17c3_11ec_80d9_02cba411ec9drow14_col7\" class=\"data row14 col7\" >CLF</td>\n",
       "                        <td id=\"T_76033f10_17c3_11ec_80d9_02cba411ec9drow14_col8\" class=\"data row14 col8\" >20,916.74</td>\n",
       "                        <td id=\"T_76033f10_17c3_11ec_80d9_02cba411ec9drow14_col9\" class=\"data row14 col9\" >21,275.98</td>\n",
       "                        <td id=\"T_76033f10_17c3_11ec_80d9_02cba411ec9drow14_col10\" class=\"data row14 col10\" >33,219.63</td>\n",
       "                        <td id=\"T_76033f10_17c3_11ec_80d9_02cba411ec9drow14_col11\" class=\"data row14 col11\" >33,739.98</td>\n",
       "                        <td id=\"T_76033f10_17c3_11ec_80d9_02cba411ec9drow14_col12\" class=\"data row14 col12\" >0.2874%</td>\n",
       "                        <td id=\"T_76033f10_17c3_11ec_80d9_02cba411ec9drow14_col13\" class=\"data row14 col13\" >886.15</td>\n",
       "                        <td id=\"T_76033f10_17c3_11ec_80d9_02cba411ec9drow14_col14\" class=\"data row14 col14\" >0.0000%</td>\n",
       "                        <td id=\"T_76033f10_17c3_11ec_80d9_02cba411ec9drow14_col15\" class=\"data row14 col15\" >1.00</td>\n",
       "                        <td id=\"T_76033f10_17c3_11ec_80d9_02cba411ec9drow14_col16\" class=\"data row14 col16\" >LinAct360</td>\n",
       "            </tr>\n",
       "            <tr>\n",
       "                        <th id=\"T_76033f10_17c3_11ec_80d9_02cba411ec9dlevel0_row15\" class=\"row_heading level0 row15\" >15</th>\n",
       "                        <td id=\"T_76033f10_17c3_11ec_80d9_02cba411ec9drow15_col0\" class=\"data row15 col0\" >2025-11-10</td>\n",
       "                        <td id=\"T_76033f10_17c3_11ec_80d9_02cba411ec9drow15_col1\" class=\"data row15 col1\" >2026-05-11</td>\n",
       "                        <td id=\"T_76033f10_17c3_11ec_80d9_02cba411ec9drow15_col2\" class=\"data row15 col2\" >2026-05-11</td>\n",
       "                        <td id=\"T_76033f10_17c3_11ec_80d9_02cba411ec9drow15_col3\" class=\"data row15 col3\" >600,000.00</td>\n",
       "                        <td id=\"T_76033f10_17c3_11ec_80d9_02cba411ec9drow15_col4\" class=\"data row15 col4\" >600,000.00</td>\n",
       "                        <td id=\"T_76033f10_17c3_11ec_80d9_02cba411ec9drow15_col5\" class=\"data row15 col5\" >True</td>\n",
       "                        <td id=\"T_76033f10_17c3_11ec_80d9_02cba411ec9drow15_col6\" class=\"data row15 col6\" >601,540.00</td>\n",
       "                        <td id=\"T_76033f10_17c3_11ec_80d9_02cba411ec9drow15_col7\" class=\"data row15 col7\" >CLF</td>\n",
       "                        <td id=\"T_76033f10_17c3_11ec_80d9_02cba411ec9drow15_col8\" class=\"data row15 col8\" >21,275.98</td>\n",
       "                        <td id=\"T_76033f10_17c3_11ec_80d9_02cba411ec9drow15_col9\" class=\"data row15 col9\" >21,660.54</td>\n",
       "                        <td id=\"T_76033f10_17c3_11ec_80d9_02cba411ec9drow15_col10\" class=\"data row15 col10\" >33,739.98</td>\n",
       "                        <td id=\"T_76033f10_17c3_11ec_80d9_02cba411ec9drow15_col11\" class=\"data row15 col11\" >34,261.88</td>\n",
       "                        <td id=\"T_76033f10_17c3_11ec_80d9_02cba411ec9drow15_col12\" class=\"data row15 col12\" >0.5124%</td>\n",
       "                        <td id=\"T_76033f10_17c3_11ec_80d9_02cba411ec9drow15_col13\" class=\"data row15 col13\" >1,554.28</td>\n",
       "                        <td id=\"T_76033f10_17c3_11ec_80d9_02cba411ec9drow15_col14\" class=\"data row15 col14\" >0.0000%</td>\n",
       "                        <td id=\"T_76033f10_17c3_11ec_80d9_02cba411ec9drow15_col15\" class=\"data row15 col15\" >1.00</td>\n",
       "                        <td id=\"T_76033f10_17c3_11ec_80d9_02cba411ec9drow15_col16\" class=\"data row15 col16\" >LinAct360</td>\n",
       "            </tr>\n",
       "    </tbody></table>"
      ],
      "text/plain": [
       "<pandas.io.formats.style.Styler at 0x7f4ccc4d3940>"
      ]
     },
     "execution_count": 83,
     "metadata": {},
     "output_type": "execute_result"
    }
   ],
   "source": [
    "# Se define un list donde almacenar los resultados de la función show\n",
    "tabla = []\n",
    "for i in range(0, icp_clf_leg.size()):\n",
    "    tabla.append(Qcf.show(icp_clf_leg.get_cashflow_at(i)))\n",
    "\n",
    "# Se utiliza tabla para inicializar el Dataframe\n",
    "columnas = ['fecha_inicial', 'fecha__final', 'fecha__pago', 'nominal', 'amort', 'amort_es_flujo', 'flujo',\n",
    "            'moneda', 'icp_inicial', 'icp_final', 'uf_inicial', 'uf_final',\n",
    "            'valor_tasa', 'interes', 'spread', 'gearing', 'tipo_tasa']\n",
    "df8 = pd.DataFrame(tabla, columns=columnas)\n",
    "\n",
    "# Se despliega la data en este formato\n",
    "df8.style.format(format_dict)"
   ]
  },
  {
   "cell_type": "code",
   "execution_count": 84,
   "metadata": {
    "ExecuteTime": {
     "end_time": "2021-09-17T14:28:33.186612Z",
     "start_time": "2021-09-17T14:28:33.180583Z"
    }
   },
   "outputs": [
    {
     "name": "stdout",
     "output_type": "stream",
     "text": [
      "Valor presente en UF: 595,431.99\n",
      "Valor presente en CLP: 16,934,198,846\n"
     ]
    }
   ],
   "source": [
    "vp_icp_clf = pv.pv(fecha_hoy, icp_clf_leg, zz3)\n",
    "print(\"Valor presente en UF: {0:,.2f}\".format(vp_icp_clf))\n",
    "print(\"Valor presente en CLP: {0:,.0f}\".format(vp_icp_clf * uf_hoy))"
   ]
  },
  {
   "cell_type": "code",
   "execution_count": 85,
   "metadata": {
    "ExecuteTime": {
     "end_time": "2021-09-17T14:28:34.690378Z",
     "start_time": "2021-09-17T14:28:34.685933Z"
    }
   },
   "outputs": [
    {
     "name": "stdout",
     "output_type": "stream",
     "text": [
      "Dif %: -0.0223%\n"
     ]
    }
   ],
   "source": [
    "print(\"Dif %: {0:.4%}\".format(12940.56/12943.45-1))"
   ]
  },
  {
   "cell_type": "code",
   "execution_count": 86,
   "metadata": {
    "ExecuteTime": {
     "end_time": "2021-09-17T14:28:35.396267Z",
     "start_time": "2021-09-17T14:28:35.384432Z"
    },
    "cell_style": "center",
    "scrolled": true
   },
   "outputs": [
    {
     "name": "stdout",
     "output_type": "stream",
     "text": [
      "Sensibilidad en 0: 0.00\n",
      "Sensibilidad en 1: 0.00\n",
      "Sensibilidad en 2: 0.00\n",
      "Sensibilidad en 3: 0.10\n",
      "Sensibilidad en 4: 0.06\n",
      "Sensibilidad en 5: 0.00\n",
      "Sensibilidad en 6: 0.00\n",
      "Sensibilidad en 7: 0.00\n",
      "Sensibilidad en 8: 0.00\n",
      "Sensibilidad en 9: 0.27\n",
      "Sensibilidad en 10: 0.12\n",
      "Sensibilidad en 11: 0.00\n",
      "Sensibilidad en 12: 0.00\n",
      "Sensibilidad en 13: 0.00\n",
      "Sensibilidad en 14: 0.00\n",
      "Sensibilidad en 15: 0.32\n",
      "Sensibilidad en 16: 0.18\n",
      "Sensibilidad en 17: 0.00\n",
      "Sensibilidad en 18: 0.00\n",
      "Sensibilidad en 19: 0.00\n",
      "Sensibilidad en 20: 0.65\n",
      "Sensibilidad en 21: 1.63\n",
      "Sensibilidad en 22: 2.15\n",
      "Sensibilidad en 23: 1.29\n",
      "Sensibilidad en 24: -0.26\n",
      "Sensibilidad en 25: -335.81\n",
      "Sensibilidad en 26: -82.41\n",
      "Sensibilidad en 27: 0.00\n",
      "Sensibilidad en 28: 0.00\n",
      "Sensibilidad en 29: 0.00\n",
      "Sensibilidad en 30: 0.00\n",
      "Sensibilidad en 31: 0.00\n",
      "Sensibilidad en 32: 0.00\n",
      "Sensibilidad de descuento: -411.73 CLF\n"
     ]
    }
   ],
   "source": [
    "der = pv.get_derivatives()\n",
    "i = 0\n",
    "bp = .0001\n",
    "for d in der:\n",
    "    print(\"Sensibilidad en {0:}: {1:0,.2f}\".format(i, d * bp))\n",
    "    i += 1\n",
    "print(\"Sensibilidad de descuento: {0:,.2f} CLF\".format(sum(der) * bp))"
   ]
  },
  {
   "cell_type": "code",
   "execution_count": 87,
   "metadata": {
    "ExecuteTime": {
     "end_time": "2021-09-17T14:28:40.086154Z",
     "start_time": "2021-09-17T14:28:40.070928Z"
    },
    "cell_style": "center"
   },
   "outputs": [
    {
     "name": "stdout",
     "output_type": "stream",
     "text": [
      "Sensibilidad en 0: 0.00\n",
      "Sensibilidad en 1: 0.00\n",
      "Sensibilidad en 2: 0.00\n",
      "Sensibilidad en 3: -0.10\n",
      "Sensibilidad en 4: -0.06\n",
      "Sensibilidad en 5: 0.00\n",
      "Sensibilidad en 6: 0.00\n",
      "Sensibilidad en 7: 0.00\n",
      "Sensibilidad en 8: 0.00\n",
      "Sensibilidad en 9: -0.27\n",
      "Sensibilidad en 10: -0.12\n",
      "Sensibilidad en 11: 0.00\n",
      "Sensibilidad en 12: 0.00\n",
      "Sensibilidad en 13: 0.00\n",
      "Sensibilidad en 14: 0.00\n",
      "Sensibilidad en 15: -0.32\n",
      "Sensibilidad en 16: -0.18\n",
      "Sensibilidad en 17: 0.00\n",
      "Sensibilidad en 18: 0.00\n",
      "Sensibilidad en 19: 0.00\n",
      "Sensibilidad en 20: -0.65\n",
      "Sensibilidad en 21: -1.63\n",
      "Sensibilidad en 22: -2.15\n",
      "Sensibilidad en 23: -1.29\n",
      "Sensibilidad en 24: 0.26\n",
      "Sensibilidad en 25: 335.81\n",
      "Sensibilidad en 26: 82.41\n",
      "Sensibilidad en 27: 0.00\n",
      "Sensibilidad en 28: 0.00\n",
      "Sensibilidad en 29: 0.00\n",
      "Sensibilidad en 30: 0.00\n",
      "Sensibilidad en 31: 0.00\n",
      "Sensibilidad en 32: 0.00\n",
      "Sensibilidad de proyección: 411.73 CLF\n"
     ]
    }
   ],
   "source": [
    "bp = .0001\n",
    "result = []\n",
    "\n",
    "for i in range(icp_clf_leg.size()):\n",
    "    cshflw = icp_clf_leg.get_cashflow_at(i)\n",
    "    df = zz3.get_discount_factor_at(fecha_hoy.day_diff(cshflw.date()))\n",
    "    amt_der = cshflw.get_amount_ufclf_derivatives()\n",
    "    if len(amt_der) > 0:\n",
    "        amt_der = [a * bp * df for a in amt_der]\n",
    "        result.append(np.array(amt_der))\n",
    "\n",
    "total = result[0] * 0\n",
    "for r in result:\n",
    "    total += r\n",
    "\n",
    "for i in range(len(total)):\n",
    "    print(\"Sensibilidad en {0:}: {1:0,.2f}\".format(i, total[i]))\n",
    "\n",
    "print(\"Sensibilidad de proyección: {0:,.2f} CLF\".format(sum(total)))"
   ]
  }
 ],
 "metadata": {
  "hide_input": false,
  "kernelspec": {
   "display_name": "Python 3",
   "language": "python",
   "name": "python3"
  },
  "language_info": {
   "codemirror_mode": {
    "name": "ipython",
    "version": 3
   },
   "file_extension": ".py",
   "mimetype": "text/x-python",
   "name": "python",
   "nbconvert_exporter": "python",
   "pygments_lexer": "ipython3",
   "version": "3.7.3"
  },
  "toc": {
   "base_numbering": 1,
   "nav_menu": {},
   "number_sections": true,
   "sideBar": true,
   "skip_h1_title": true,
   "title_cell": "Table of Contents",
   "title_sidebar": "Contenidos",
   "toc_cell": false,
   "toc_position": {
    "height": "calc(100% - 180px)",
    "left": "10px",
    "top": "150px",
    "width": "249px"
   },
   "toc_section_display": true,
   "toc_window_display": true
  },
  "varInspector": {
   "cols": {
    "lenName": 16,
    "lenType": 16,
    "lenVar": 40
   },
   "kernels_config": {
    "python": {
     "delete_cmd_postfix": "",
     "delete_cmd_prefix": "del ",
     "library": "var_list.py",
     "varRefreshCmd": "print(var_dic_list())"
    },
    "r": {
     "delete_cmd_postfix": ") ",
     "delete_cmd_prefix": "rm(",
     "library": "var_list.r",
     "varRefreshCmd": "cat(var_dic_list()) "
    }
   },
   "types_to_exclude": [
    "module",
    "function",
    "builtin_function_or_method",
    "instance",
    "_Feature"
   ],
   "window_display": false
  }
 },
 "nbformat": 4,
 "nbformat_minor": 2
}
